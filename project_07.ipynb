{
 "cells": [
  {
   "cell_type": "markdown",
   "metadata": {},
   "source": [
    "# Выбор локации для скважины"
   ]
  },
  {
   "cell_type": "markdown",
   "metadata": {},
   "source": [
    "Допустим, вы работаете в добывающей компании «ГлавРосГосНефть». Нужно решить, где бурить новую скважину.\n",
    "\n",
    "Вам предоставлены пробы нефти в трёх регионах: в каждом 10 000 месторождений, где измерили качество нефти и объём её запасов. Постройте модель машинного обучения, которая поможет определить регион, где добыча принесёт наибольшую прибыль. Проанализируйте возможную прибыль и риски техникой *Bootstrap.*\n",
    "\n",
    "Шаги для выбора локации:\n",
    "\n",
    "- В избранном регионе ищут месторождения, для каждого определяют значения признаков;\n",
    "- Строят модель и оценивают объём запасов;\n",
    "- Выбирают месторождения с самым высокими оценками значений. Количество месторождений зависит от бюджета компании и стоимости разработки одной скважины;\n",
    "- Прибыль равна суммарной прибыли отобранных месторождений."
   ]
  },
  {
   "cell_type": "markdown",
   "metadata": {},
   "source": [
    "## Загрузка и подготовка данных"
   ]
  },
  {
   "cell_type": "code",
   "execution_count": 1,
   "metadata": {},
   "outputs": [],
   "source": [
    "import pandas as pd\n",
    "import numpy as np\n",
    "import scipy.stats as st\n",
    "\n",
    "from sklearn.linear_model import LinearRegression\n",
    "\n",
    "from sklearn.metrics import mean_squared_error\n",
    "from sklearn.model_selection import train_test_split\n",
    "from sklearn.preprocessing import MinMaxScaler\n",
    "\n",
    "import matplotlib.pyplot as plt\n",
    "import seaborn as sns"
   ]
  },
  {
   "cell_type": "code",
   "execution_count": 2,
   "metadata": {},
   "outputs": [],
   "source": [
    "df1 = pd.read_csv('/datasets/geo_data_0.csv')\n",
    "df2 = pd.read_csv('/datasets/geo_data_1.csv')\n",
    "df3 = pd.read_csv('/datasets/geo_data_2.csv')"
   ]
  },
  {
   "cell_type": "code",
   "execution_count": 3,
   "metadata": {},
   "outputs": [
    {
     "data": {
      "text/html": [
       "<div>\n",
       "<style scoped>\n",
       "    .dataframe tbody tr th:only-of-type {\n",
       "        vertical-align: middle;\n",
       "    }\n",
       "\n",
       "    .dataframe tbody tr th {\n",
       "        vertical-align: top;\n",
       "    }\n",
       "\n",
       "    .dataframe thead th {\n",
       "        text-align: right;\n",
       "    }\n",
       "</style>\n",
       "<table border=\"1\" class=\"dataframe\">\n",
       "  <thead>\n",
       "    <tr style=\"text-align: right;\">\n",
       "      <th></th>\n",
       "      <th>id</th>\n",
       "      <th>f0</th>\n",
       "      <th>f1</th>\n",
       "      <th>f2</th>\n",
       "      <th>product</th>\n",
       "    </tr>\n",
       "  </thead>\n",
       "  <tbody>\n",
       "    <tr>\n",
       "      <th>0</th>\n",
       "      <td>txEyH</td>\n",
       "      <td>0.705745</td>\n",
       "      <td>-0.497823</td>\n",
       "      <td>1.221170</td>\n",
       "      <td>105.280062</td>\n",
       "    </tr>\n",
       "    <tr>\n",
       "      <th>1</th>\n",
       "      <td>2acmU</td>\n",
       "      <td>1.334711</td>\n",
       "      <td>-0.340164</td>\n",
       "      <td>4.365080</td>\n",
       "      <td>73.037750</td>\n",
       "    </tr>\n",
       "    <tr>\n",
       "      <th>2</th>\n",
       "      <td>409Wp</td>\n",
       "      <td>1.022732</td>\n",
       "      <td>0.151990</td>\n",
       "      <td>1.419926</td>\n",
       "      <td>85.265647</td>\n",
       "    </tr>\n",
       "  </tbody>\n",
       "</table>\n",
       "</div>"
      ],
      "text/plain": [
       "      id        f0        f1        f2     product\n",
       "0  txEyH  0.705745 -0.497823  1.221170  105.280062\n",
       "1  2acmU  1.334711 -0.340164  4.365080   73.037750\n",
       "2  409Wp  1.022732  0.151990  1.419926   85.265647"
      ]
     },
     "metadata": {},
     "output_type": "display_data"
    },
    {
     "data": {
      "text/html": [
       "<div>\n",
       "<style scoped>\n",
       "    .dataframe tbody tr th:only-of-type {\n",
       "        vertical-align: middle;\n",
       "    }\n",
       "\n",
       "    .dataframe tbody tr th {\n",
       "        vertical-align: top;\n",
       "    }\n",
       "\n",
       "    .dataframe thead th {\n",
       "        text-align: right;\n",
       "    }\n",
       "</style>\n",
       "<table border=\"1\" class=\"dataframe\">\n",
       "  <thead>\n",
       "    <tr style=\"text-align: right;\">\n",
       "      <th></th>\n",
       "      <th>id</th>\n",
       "      <th>f0</th>\n",
       "      <th>f1</th>\n",
       "      <th>f2</th>\n",
       "      <th>product</th>\n",
       "    </tr>\n",
       "  </thead>\n",
       "  <tbody>\n",
       "    <tr>\n",
       "      <th>0</th>\n",
       "      <td>kBEdx</td>\n",
       "      <td>-15.001348</td>\n",
       "      <td>-8.276000</td>\n",
       "      <td>-0.005876</td>\n",
       "      <td>3.179103</td>\n",
       "    </tr>\n",
       "    <tr>\n",
       "      <th>1</th>\n",
       "      <td>62mP7</td>\n",
       "      <td>14.272088</td>\n",
       "      <td>-3.475083</td>\n",
       "      <td>0.999183</td>\n",
       "      <td>26.953261</td>\n",
       "    </tr>\n",
       "    <tr>\n",
       "      <th>2</th>\n",
       "      <td>vyE1P</td>\n",
       "      <td>6.263187</td>\n",
       "      <td>-5.948386</td>\n",
       "      <td>5.001160</td>\n",
       "      <td>134.766305</td>\n",
       "    </tr>\n",
       "  </tbody>\n",
       "</table>\n",
       "</div>"
      ],
      "text/plain": [
       "      id         f0        f1        f2     product\n",
       "0  kBEdx -15.001348 -8.276000 -0.005876    3.179103\n",
       "1  62mP7  14.272088 -3.475083  0.999183   26.953261\n",
       "2  vyE1P   6.263187 -5.948386  5.001160  134.766305"
      ]
     },
     "metadata": {},
     "output_type": "display_data"
    },
    {
     "data": {
      "text/html": [
       "<div>\n",
       "<style scoped>\n",
       "    .dataframe tbody tr th:only-of-type {\n",
       "        vertical-align: middle;\n",
       "    }\n",
       "\n",
       "    .dataframe tbody tr th {\n",
       "        vertical-align: top;\n",
       "    }\n",
       "\n",
       "    .dataframe thead th {\n",
       "        text-align: right;\n",
       "    }\n",
       "</style>\n",
       "<table border=\"1\" class=\"dataframe\">\n",
       "  <thead>\n",
       "    <tr style=\"text-align: right;\">\n",
       "      <th></th>\n",
       "      <th>id</th>\n",
       "      <th>f0</th>\n",
       "      <th>f1</th>\n",
       "      <th>f2</th>\n",
       "      <th>product</th>\n",
       "    </tr>\n",
       "  </thead>\n",
       "  <tbody>\n",
       "    <tr>\n",
       "      <th>0</th>\n",
       "      <td>fwXo0</td>\n",
       "      <td>-1.146987</td>\n",
       "      <td>0.963328</td>\n",
       "      <td>-0.828965</td>\n",
       "      <td>27.758673</td>\n",
       "    </tr>\n",
       "    <tr>\n",
       "      <th>1</th>\n",
       "      <td>WJtFt</td>\n",
       "      <td>0.262778</td>\n",
       "      <td>0.269839</td>\n",
       "      <td>-2.530187</td>\n",
       "      <td>56.069697</td>\n",
       "    </tr>\n",
       "    <tr>\n",
       "      <th>2</th>\n",
       "      <td>ovLUW</td>\n",
       "      <td>0.194587</td>\n",
       "      <td>0.289035</td>\n",
       "      <td>-5.586433</td>\n",
       "      <td>62.871910</td>\n",
       "    </tr>\n",
       "  </tbody>\n",
       "</table>\n",
       "</div>"
      ],
      "text/plain": [
       "      id        f0        f1        f2    product\n",
       "0  fwXo0 -1.146987  0.963328 -0.828965  27.758673\n",
       "1  WJtFt  0.262778  0.269839 -2.530187  56.069697\n",
       "2  ovLUW  0.194587  0.289035 -5.586433  62.871910"
      ]
     },
     "metadata": {},
     "output_type": "display_data"
    }
   ],
   "source": [
    "display(df1.head(3))\n",
    "display(df2.head(3))\n",
    "display(df3.head(3))"
   ]
  },
  {
   "cell_type": "code",
   "execution_count": 4,
   "metadata": {},
   "outputs": [
    {
     "name": "stdout",
     "output_type": "stream",
     "text": [
      "<class 'pandas.core.frame.DataFrame'>\n",
      "RangeIndex: 100000 entries, 0 to 99999\n",
      "Data columns (total 5 columns):\n",
      " #   Column   Non-Null Count   Dtype  \n",
      "---  ------   --------------   -----  \n",
      " 0   id       100000 non-null  object \n",
      " 1   f0       100000 non-null  float64\n",
      " 2   f1       100000 non-null  float64\n",
      " 3   f2       100000 non-null  float64\n",
      " 4   product  100000 non-null  float64\n",
      "dtypes: float64(4), object(1)\n",
      "memory usage: 3.8+ MB\n",
      "<class 'pandas.core.frame.DataFrame'>\n",
      "RangeIndex: 100000 entries, 0 to 99999\n",
      "Data columns (total 5 columns):\n",
      " #   Column   Non-Null Count   Dtype  \n",
      "---  ------   --------------   -----  \n",
      " 0   id       100000 non-null  object \n",
      " 1   f0       100000 non-null  float64\n",
      " 2   f1       100000 non-null  float64\n",
      " 3   f2       100000 non-null  float64\n",
      " 4   product  100000 non-null  float64\n",
      "dtypes: float64(4), object(1)\n",
      "memory usage: 3.8+ MB\n",
      "<class 'pandas.core.frame.DataFrame'>\n",
      "RangeIndex: 100000 entries, 0 to 99999\n",
      "Data columns (total 5 columns):\n",
      " #   Column   Non-Null Count   Dtype  \n",
      "---  ------   --------------   -----  \n",
      " 0   id       100000 non-null  object \n",
      " 1   f0       100000 non-null  float64\n",
      " 2   f1       100000 non-null  float64\n",
      " 3   f2       100000 non-null  float64\n",
      " 4   product  100000 non-null  float64\n",
      "dtypes: float64(4), object(1)\n",
      "memory usage: 3.8+ MB\n"
     ]
    }
   ],
   "source": [
    "df1.info()\n",
    "df2.info()\n",
    "df3.info()"
   ]
  },
  {
   "cell_type": "markdown",
   "metadata": {},
   "source": [
    "В данных пропуски не обнаружены. Также можно удалить столбцы id."
   ]
  },
  {
   "cell_type": "code",
   "execution_count": 5,
   "metadata": {},
   "outputs": [],
   "source": [
    "df1 = df1.drop(['id'], axis=1)\n",
    "df2 = df2.drop(['id'], axis=1)\n",
    "df3 = df3.drop(['id'], axis=1)"
   ]
  },
  {
   "cell_type": "code",
   "execution_count": 6,
   "metadata": {},
   "outputs": [
    {
     "name": "stdout",
     "output_type": "stream",
     "text": [
      "Распределение признаков (Регион 1):\n"
     ]
    },
    {
     "data": {
      "image/png": "[encoded data removed]",
      "text/plain": [
       "<Figure size 432x288 with 4 Axes>"
      ]
     },
     "metadata": {
      "needs_background": "light"
     },
     "output_type": "display_data"
    }
   ],
   "source": [
    "df1[[\"f0\",\"f1\",\"f2\"]].hist()\n",
    "print('Распределение признаков (Регион 1):')\n",
    "plt.show()"
   ]
  },
  {
   "cell_type": "code",
   "execution_count": 7,
   "metadata": {},
   "outputs": [
    {
     "name": "stdout",
     "output_type": "stream",
     "text": [
      "Распределение признаков (Регион 2):\n"
     ]
    },
    {
     "data": {
      "image/png": "[encoded data removed]",
      "text/plain": [
       "<Figure size 432x288 with 4 Axes>"
      ]
     },
     "metadata": {
      "needs_background": "light"
     },
     "output_type": "display_data"
    }
   ],
   "source": [
    "df2[[\"f0\",\"f1\",\"f2\"]].hist()\n",
    "print('Распределение признаков (Регион 2):')\n",
    "plt.show()"
   ]
  },
  {
   "cell_type": "code",
   "execution_count": 8,
   "metadata": {},
   "outputs": [
    {
     "name": "stdout",
     "output_type": "stream",
     "text": [
      "Распределение признаков (Регион 3):\n"
     ]
    },
    {
     "data": {
      "image/png": "[encoded data removed]",
      "text/plain": [
       "<Figure size 432x288 with 4 Axes>"
      ]
     },
     "metadata": {
      "needs_background": "light"
     },
     "output_type": "display_data"
    }
   ],
   "source": [
    "df3[[\"f0\",\"f1\",\"f2\"]].hist()\n",
    "print('Распределение признаков (Регион 3):')\n",
    "plt.show()"
   ]
  },
  {
   "cell_type": "markdown",
   "metadata": {},
   "source": [
    "## Обучение и проверка модели"
   ]
  },
  {
   "cell_type": "code",
   "execution_count": 9,
   "metadata": {},
   "outputs": [],
   "source": [
    "def processing(data):\n",
    "    features = data.drop(['product'], axis=1)\n",
    "    target = data['product']\n",
    "    features_train, features_valid, target_train, target_valid = train_test_split(features, \n",
    "                                                                                  target, \n",
    "                                                                                  test_size=0.25, \n",
    "                                                                                  random_state=12345)\n",
    "    scaler = MinMaxScaler()\n",
    "    features_train = scaler.fit_transform(features_train)\n",
    "    features_valid = scaler.transform(features_valid)\n",
    "    \n",
    "    lr = LinearRegression(normalize=False)\n",
    "    lr.fit(features_train, target_train)\n",
    "    predictions = lr.predict(features_valid)\n",
    "    predictions = pd.Series(predictions)\n",
    "    rmse = (mean_squared_error(predictions, target_valid))**(0.5)\n",
    "    average_product = sum(predictions) / len(predictions)\n",
    "    \n",
    "    print(\"RMSE: {0:.2f}\".format(rmse))\n",
    "    print(\"Средний объём запасов в скважине (тыс. баррелей): {0:.2f}\".format(average_product))\n",
    "    \n",
    "    return (predictions, target_valid.reset_index(drop=True), rmse)"
   ]
  },
  {
   "cell_type": "code",
   "execution_count": 10,
   "metadata": {},
   "outputs": [
    {
     "name": "stdout",
     "output_type": "stream",
     "text": [
      "Регион 1.\n",
      "RMSE: 37.58\n",
      "Средний объём запасов в скважине (тыс. баррелей): 92.59\n"
     ]
    }
   ],
   "source": [
    "print('Регион 1.')\n",
    "predictions_1, validation_1, rmse_1 = processing(df1)"
   ]
  },
  {
   "cell_type": "code",
   "execution_count": 11,
   "metadata": {},
   "outputs": [
    {
     "name": "stdout",
     "output_type": "stream",
     "text": [
      "Регион 2.\n",
      "RMSE: 0.89\n",
      "Средний объём запасов в скважине (тыс. баррелей): 68.73\n"
     ]
    }
   ],
   "source": [
    "print('Регион 2.')\n",
    "predictions_2, validation_2, rmse_2 = processing(df2)"
   ]
  },
  {
   "cell_type": "code",
   "execution_count": 12,
   "metadata": {},
   "outputs": [
    {
     "name": "stdout",
     "output_type": "stream",
     "text": [
      "Регион 3.\n",
      "RMSE: 40.03\n",
      "Средний объём запасов в скважине (тыс. баррелей): 94.97\n"
     ]
    }
   ],
   "source": [
    "print('Регион 3.')\n",
    "predictions_3, validation_3, rmse_3 = processing(df3)"
   ]
  },
  {
   "cell_type": "markdown",
   "metadata": {},
   "source": [
    "### Выводы"
   ]
  },
  {
   "cell_type": "markdown",
   "metadata": {},
   "source": [
    "- Данные разбиты на обучающую и валидационную выборки\n",
    "- Модели обучены, предсказания сделаны. Лучше всего модель предсказала запасы во втором регионе (RMSE - 0.89), далее в первом и третьем соотвественно.Однако средний объем запасов в скважине во втором регионе оказался самым низким, что может сильно сказаться на прибыльности в данном регионе."
   ]
  },
  {
   "cell_type": "markdown",
   "metadata": {},
   "source": [
    "## Подготовка к расчёту прибыли"
   ]
  },
  {
   "cell_type": "code",
   "execution_count": 13,
   "metadata": {},
   "outputs": [],
   "source": [
    "budget = 10**10 \n",
    "price_per_barrel = 450*(10**3)\n",
    "chosen_points = 500\n",
    "best_points = 200"
   ]
  },
  {
   "cell_type": "code",
   "execution_count": 14,
   "metadata": {},
   "outputs": [
    {
     "name": "stdout",
     "output_type": "stream",
     "text": [
      "Точка безубыточности: 22222 тыс. баррелей\n",
      "Минимальное среднее количество продукта в месторождениях региона, достаточное для разработки: 112.0\n"
     ]
    }
   ],
   "source": [
    "n = budget / price_per_barrel\n",
    "print(\"Точка безубыточности: {0:.0f} тыс. баррелей\".format(n))\n",
    "print(\"Минимальное среднее количество продукта в месторождениях региона, достаточное для разработки:\", np.ceil(n/200))"
   ]
  },
  {
   "cell_type": "markdown",
   "metadata": {},
   "source": [
    "## Расчёт прибыли и рисков "
   ]
  },
  {
   "cell_type": "code",
   "execution_count": 15,
   "metadata": {},
   "outputs": [],
   "source": [
    "state = np.random.RandomState(12345)"
   ]
  },
  {
   "cell_type": "code",
   "execution_count": 16,
   "metadata": {},
   "outputs": [],
   "source": [
    "def profit(predictions, target):\n",
    "    best_predictions = predictions.sort_values(ascending=False)\n",
    "    best_target = target[best_predictions.index][:200]\n",
    "    revenue = best_target.sum() * price_per_barrel\n",
    "    return revenue - budget"
   ]
  },
  {
   "cell_type": "code",
   "execution_count": 17,
   "metadata": {},
   "outputs": [],
   "source": [
    "def confidence_interval(predictions, target):\n",
    "    revenue = []\n",
    "    for i in range(1000):\n",
    "        target_sample = target.sample(500, replace=True, random_state=state)\n",
    "        predictions_sample = predictions[target_sample.index]\n",
    "        revenue.append(profit(predictions_sample, target_sample))\n",
    "    revenue = pd.Series(revenue)\n",
    "    lower = revenue.quantile(0.025)\n",
    "    upper = revenue.quantile(0.975)\n",
    "    mean_revenue = int(sum(revenue) / len(revenue))\n",
    "    risk = st.percentileofscore(revenue, 0)\n",
    "\n",
    "    return ((lower, upper), mean_revenue, risk)"
   ]
  },
  {
   "cell_type": "code",
   "execution_count": 18,
   "metadata": {},
   "outputs": [
    {
     "name": "stdout",
     "output_type": "stream",
     "text": [
      "Регион 1\n",
      "Средняя прибыль по региону = 425938526 тыс.руб.\n",
      "Доверительный интервал: (-102090094.83793654, 947976353.3583689)\n",
      "Процент риска: 6.0\n"
     ]
    }
   ],
   "source": [
    "interval, mean_revenue, risk = confidence_interval(predictions_1, validation_1)\n",
    "print(\"Регион 1\")\n",
    "print(f\"Средняя прибыль по региону = {mean_revenue} тыс.руб.\")\n",
    "print(f\"Доверительный интервал: {interval}\")\n",
    "print(f\"Процент риска: {risk}\")"
   ]
  },
  {
   "cell_type": "code",
   "execution_count": 19,
   "metadata": {},
   "outputs": [
    {
     "name": "stdout",
     "output_type": "stream",
     "text": [
      "Регион 2\n",
      "Средняя прибыль по региону = 518259493 тыс.руб.\n",
      "Доверительный интервал: (128123231.43308444, 953612982.0669085)\n",
      "Процент риска: 0.3\n"
     ]
    }
   ],
   "source": [
    "interval, mean_revenue, risk = confidence_interval(predictions_2, validation_2)\n",
    "print(\"Регион 2\")\n",
    "print(f\"Средняя прибыль по региону = {mean_revenue} тыс.руб.\")\n",
    "print(f\"Доверительный интервал: {interval}\")\n",
    "print(f\"Процент риска: {risk}\")"
   ]
  },
  {
   "cell_type": "code",
   "execution_count": 20,
   "metadata": {},
   "outputs": [
    {
     "name": "stdout",
     "output_type": "stream",
     "text": [
      "Регион 3\n",
      "Средняя прибыль по региону = 420194005 тыс.руб.\n",
      "Доверительный интервал: (-115852609.16001143, 989629939.8445739)\n",
      "Процент риска: 6.2\n"
     ]
    }
   ],
   "source": [
    "interval, mean_revenue, risk = confidence_interval(predictions_3, validation_3)\n",
    "print(\"Регион 3\")\n",
    "print(f\"Средняя прибыль по региону = {mean_revenue} тыс.руб.\")\n",
    "print(f\"Доверительный интервал: {interval}\")\n",
    "print(f\"Процент риска: {risk}\")"
   ]
  },
  {
   "cell_type": "markdown",
   "metadata": {},
   "source": [
    "### Выводы"
   ]
  },
  {
   "cell_type": "markdown",
   "metadata": {},
   "source": [
    "Данные были обработаны и рассчитаны прибыль, интервал и риски.\n",
    "\n",
    "Рекомендуется отсеить первый и третий регион, так как риски достаточно велики. Остается один единственный - второй, чей риск ниже требуемого. Кроме того доверительный интервал показывает, что даже при не очень удачном выборе разработка скважин окупится."
   ]
  },
  {
   "cell_type": "markdown",
   "metadata": {},
   "source": [
    "## Выводы"
   ]
  },
  {
   "cell_type": "markdown",
   "metadata": {},
   "source": [
    "1. В начале мы провели исследовательский анализ данных, проверили датасеты на наличие пропусков, а также посмотрели на распределения признаков, которые, в общем, оказались распределены не нормально.\n",
    "2. Построили линейную модель, для предсказания объемов нефти в скважинах.\n",
    "3. Затем мы выполнили процедуру бутстрэпа и нашли 95% доверительный интервал для среднего объема нефти в скважинах. Наиболее перспективным для разработки представляется регион 2, поскольку риски убытков наименьшие, а средняя прибыль наибольшая."
   ]
  }
 ],
 "metadata": {
  "ExecuteTimeLog": [
   {
    "duration": 2156,
    "start_time": "2022-04-23T09:37:00.089Z"
   },
   {
    "duration": 359,
    "start_time": "2022-04-23T09:37:36.174Z"
   },
   {
    "duration": 13,
    "start_time": "2022-04-23T09:38:53.222Z"
   },
   {
    "duration": 9,
    "start_time": "2022-04-23T09:39:04.876Z"
   },
   {
    "duration": 15,
    "start_time": "2022-04-23T09:39:11.065Z"
   },
   {
    "duration": 23,
    "start_time": "2022-04-23T09:39:16.942Z"
   },
   {
    "duration": 20,
    "start_time": "2022-04-23T09:39:23.645Z"
   },
   {
    "duration": 14,
    "start_time": "2022-04-23T09:39:32.014Z"
   },
   {
    "duration": 8,
    "start_time": "2022-04-23T09:39:35.459Z"
   },
   {
    "duration": 14,
    "start_time": "2022-04-23T09:39:41.675Z"
   },
   {
    "duration": 33,
    "start_time": "2022-04-23T09:39:52.210Z"
   },
   {
    "duration": 20,
    "start_time": "2022-04-23T09:42:43.891Z"
   },
   {
    "duration": 246,
    "start_time": "2022-04-23T09:44:36.918Z"
   },
   {
    "duration": 236,
    "start_time": "2022-04-23T09:45:31.348Z"
   },
   {
    "duration": 302,
    "start_time": "2022-04-23T09:45:47.622Z"
   },
   {
    "duration": 240,
    "start_time": "2022-04-23T09:46:38.195Z"
   },
   {
    "duration": 239,
    "start_time": "2022-04-23T09:46:46.809Z"
   },
   {
    "duration": 254,
    "start_time": "2022-04-23T09:46:55.931Z"
   },
   {
    "duration": 257,
    "start_time": "2022-04-23T09:47:12.166Z"
   },
   {
    "duration": 5,
    "start_time": "2022-04-23T09:51:26.903Z"
   },
   {
    "duration": 5,
    "start_time": "2022-04-23T09:52:50.580Z"
   },
   {
    "duration": 5,
    "start_time": "2022-04-23T09:53:38.077Z"
   },
   {
    "duration": 397,
    "start_time": "2022-04-23T09:54:37.844Z"
   },
   {
    "duration": 360,
    "start_time": "2022-04-23T09:55:44.176Z"
   },
   {
    "duration": 522,
    "start_time": "2022-04-23T09:55:58.100Z"
   },
   {
    "duration": 6,
    "start_time": "2022-04-23T09:57:03.018Z"
   },
   {
    "duration": 414,
    "start_time": "2022-04-23T09:57:06.124Z"
   },
   {
    "duration": 452,
    "start_time": "2022-04-23T10:04:29.078Z"
   },
   {
    "duration": 85,
    "start_time": "2022-04-23T10:05:36.739Z"
   },
   {
    "duration": 5,
    "start_time": "2022-04-23T10:05:51.199Z"
   },
   {
    "duration": 73,
    "start_time": "2022-04-23T10:06:11.252Z"
   },
   {
    "duration": 83,
    "start_time": "2022-04-23T10:06:18.546Z"
   },
   {
    "duration": 35,
    "start_time": "2022-04-23T10:06:36.087Z"
   },
   {
    "duration": 30,
    "start_time": "2022-04-23T10:06:38.615Z"
   },
   {
    "duration": 74,
    "start_time": "2022-04-23T10:06:43.949Z"
   },
   {
    "duration": 86,
    "start_time": "2022-04-23T10:06:56.538Z"
   },
   {
    "duration": 3,
    "start_time": "2022-04-23T10:10:43.327Z"
   },
   {
    "duration": 3,
    "start_time": "2022-04-23T10:47:47.011Z"
   },
   {
    "duration": 4,
    "start_time": "2022-04-23T10:48:16.251Z"
   },
   {
    "duration": 4,
    "start_time": "2022-04-23T10:53:13.010Z"
   },
   {
    "duration": 3,
    "start_time": "2022-04-23T10:54:50.740Z"
   },
   {
    "duration": 3,
    "start_time": "2022-04-23T10:56:09.942Z"
   },
   {
    "duration": 4,
    "start_time": "2022-04-23T14:04:43.055Z"
   },
   {
    "duration": 4,
    "start_time": "2022-04-23T14:05:04.087Z"
   },
   {
    "duration": 115,
    "start_time": "2022-04-23T14:11:06.209Z"
   },
   {
    "duration": 3,
    "start_time": "2022-04-23T14:11:19.387Z"
   },
   {
    "duration": 5,
    "start_time": "2022-04-23T14:11:19.837Z"
   },
   {
    "duration": 15,
    "start_time": "2022-04-23T14:11:21.095Z"
   },
   {
    "duration": 3,
    "start_time": "2022-04-23T14:11:44.109Z"
   },
   {
    "duration": 4,
    "start_time": "2022-04-23T14:11:44.475Z"
   },
   {
    "duration": 3,
    "start_time": "2022-04-23T14:11:45.381Z"
   },
   {
    "duration": 3,
    "start_time": "2022-04-23T14:11:45.733Z"
   },
   {
    "duration": 5,
    "start_time": "2022-04-23T14:11:46.156Z"
   },
   {
    "duration": 13,
    "start_time": "2022-04-23T14:11:46.592Z"
   },
   {
    "duration": 5,
    "start_time": "2022-04-23T14:11:59.100Z"
   },
   {
    "duration": 1186,
    "start_time": "2022-04-23T14:11:59.710Z"
   },
   {
    "duration": 4,
    "start_time": "2022-04-23T14:12:32.016Z"
   },
   {
    "duration": 1218,
    "start_time": "2022-04-23T14:12:33.010Z"
   },
   {
    "duration": 171,
    "start_time": "2022-04-23T14:13:51.894Z"
   },
   {
    "duration": 1866,
    "start_time": "2022-04-23T14:13:59.417Z"
   },
   {
    "duration": 1783,
    "start_time": "2022-04-23T14:14:28.242Z"
   },
   {
    "duration": 1779,
    "start_time": "2022-04-23T14:14:45.128Z"
   },
   {
    "duration": 56,
    "start_time": "2022-04-23T14:16:42.444Z"
   },
   {
    "duration": 438,
    "start_time": "2022-04-23T14:20:06.778Z"
   },
   {
    "duration": 246,
    "start_time": "2022-04-23T14:20:17.058Z"
   },
   {
    "duration": 1137,
    "start_time": "2022-04-23T14:20:27.185Z"
   },
   {
    "duration": 1257,
    "start_time": "2022-04-23T14:21:00.211Z"
   },
   {
    "duration": 1802,
    "start_time": "2022-04-23T14:21:27.735Z"
   },
   {
    "duration": 1781,
    "start_time": "2022-04-23T14:21:40.586Z"
   },
   {
    "duration": 1762,
    "start_time": "2022-04-23T14:22:06.347Z"
   },
   {
    "duration": 1837,
    "start_time": "2022-04-23T14:22:20.343Z"
   },
   {
    "duration": 1238,
    "start_time": "2022-04-23T14:22:40.553Z"
   },
   {
    "duration": 5,
    "start_time": "2022-04-24T10:22:41.469Z"
   },
   {
    "duration": 84,
    "start_time": "2022-04-24T10:22:41.952Z"
   },
   {
    "duration": 29,
    "start_time": "2022-04-24T10:22:42.989Z"
   },
   {
    "duration": 33,
    "start_time": "2022-04-24T10:22:43.625Z"
   },
   {
    "duration": 1547,
    "start_time": "2022-04-24T10:28:22.786Z"
   },
   {
    "duration": 378,
    "start_time": "2022-04-24T10:28:24.336Z"
   },
   {
    "duration": 28,
    "start_time": "2022-04-24T10:28:24.715Z"
   },
   {
    "duration": 53,
    "start_time": "2022-04-24T10:28:24.744Z"
   },
   {
    "duration": 36,
    "start_time": "2022-04-24T10:28:24.800Z"
   },
   {
    "duration": 278,
    "start_time": "2022-04-24T10:28:24.838Z"
   },
   {
    "duration": 276,
    "start_time": "2022-04-24T10:28:25.117Z"
   },
   {
    "duration": 353,
    "start_time": "2022-04-24T10:28:25.395Z"
   },
   {
    "duration": 5,
    "start_time": "2022-04-24T10:28:25.750Z"
   },
   {
    "duration": 77,
    "start_time": "2022-04-24T10:28:25.756Z"
   },
   {
    "duration": 191,
    "start_time": "2022-04-24T10:28:25.835Z"
   },
   {
    "duration": 121,
    "start_time": "2022-04-24T10:28:26.029Z"
   },
   {
    "duration": 7,
    "start_time": "2022-04-24T10:28:26.224Z"
   },
   {
    "duration": 8,
    "start_time": "2022-04-24T10:28:26.238Z"
   },
   {
    "duration": 9,
    "start_time": "2022-04-24T10:28:26.322Z"
   },
   {
    "duration": 9,
    "start_time": "2022-04-24T10:28:26.333Z"
   },
   {
    "duration": 21,
    "start_time": "2022-04-24T10:28:26.344Z"
   },
   {
    "duration": 1289,
    "start_time": "2022-04-24T10:28:26.367Z"
   },
   {
    "duration": 1397,
    "start_time": "2022-04-24T10:28:27.657Z"
   },
   {
    "duration": 1204,
    "start_time": "2022-04-24T10:28:29.056Z"
   }
  ],
  "kernelspec": {
   "display_name": "Python 3 (ipykernel)",
   "language": "python",
   "name": "python3"
  },
  "language_info": {
   "codemirror_mode": {
    "name": "ipython",
    "version": 3
   },
   "file_extension": ".py",
   "mimetype": "text/x-python",
   "name": "python",
   "nbconvert_exporter": "python",
   "pygments_lexer": "ipython3",
   "version": "3.9.7"
  },
  "toc": {
   "base_numbering": 1,
   "nav_menu": {},
   "number_sections": true,
   "sideBar": true,
   "skip_h1_title": true,
   "title_cell": "Table of Contents",
   "title_sidebar": "Contents",
   "toc_cell": false,
   "toc_position": {},
   "toc_section_display": true,
   "toc_window_display": false
  }
 },
 "nbformat": 4,
 "nbformat_minor": 2
}
