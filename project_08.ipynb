{
 "cells": [
  {
   "cell_type": "markdown",
   "metadata": {},
   "source": [
    "# Прогнозирование оттока клиентов в сети отелей «Как в гостях»"
   ]
  },
  {
   "cell_type": "markdown",
   "metadata": {},
   "source": [
    "Заказчик этого исследования — сеть отелей «Как в гостях».\n",
    "\n",
    "Чтобы привлечь клиентов, эта сеть отелей добавила на свой сайт возможность забронировать номер без предоплаты. Однако если клиент отменял бронирование, то компания терпела убытки. Сотрудники отеля могли, например, закупить продукты к приезду гостя или просто не успеть найти другого клиента.\n",
    "\n",
    "Чтобы решить эту проблему, вам нужно разработать систему, которая предсказывает отказ от брони. Если модель покажет, что бронь будет отменена, то клиенту предлагается внести депозит. Размер депозита — 80% от стоимости номера за одни сутки и затрат на разовую уборку. Деньги будут списаны со счёта клиента, если он всё же отменит бронь."
   ]
  },
  {
   "cell_type": "markdown",
   "metadata": {},
   "source": [
    "### Шаг 1. Откройте файлы с данными"
   ]
  },
  {
   "cell_type": "code",
   "execution_count": 1,
   "metadata": {},
   "outputs": [],
   "source": [
    "import pandas as pd\n",
    "from sklearn.preprocessing import MinMaxScaler\n",
    "from sklearn.utils import shuffle\n",
    "from sklearn.model_selection import train_test_split, GridSearchCV, KFold, cross_val_score\n",
    "import numpy as np\n",
    "from sklearn.linear_model import LogisticRegression\n",
    "from sklearn.ensemble import RandomForestClassifier\n",
    "import math\n",
    "import matplotlib.pyplot as plt \n",
    "from sklearn.metrics import roc_curve, roc_auc_score, accuracy_score, f1_score\n",
    "from time import strptime\n",
    "from catboost import CatBoostRegressor\n",
    "from sklearn.pipeline import Pipeline, make_pipeline\n",
    "from sklearn.metrics import confusion_matrix"
   ]
  },
  {
   "cell_type": "code",
   "execution_count": 2,
   "metadata": {},
   "outputs": [
    {
     "name": "stdout",
     "output_type": "stream",
     "text": [
      "<class 'pandas.core.frame.DataFrame'>\n",
      "RangeIndex: 65229 entries, 0 to 65228\n",
      "Data columns (total 25 columns):\n",
      " #   Column                          Non-Null Count  Dtype  \n",
      "---  ------                          --------------  -----  \n",
      " 0   id                              65229 non-null  int64  \n",
      " 1   is_canceled                     65229 non-null  int64  \n",
      " 2   lead_time                       65229 non-null  float64\n",
      " 3   arrival_date_year               65229 non-null  int64  \n",
      " 4   arrival_date_month              65229 non-null  object \n",
      " 5   arrival_date_week_number        65229 non-null  int64  \n",
      " 6   arrival_date_day_of_month       65229 non-null  int64  \n",
      " 7   stays_in_weekend_nights         65229 non-null  int64  \n",
      " 8   stays_in_week_nights            65229 non-null  int64  \n",
      " 9   adults                          65229 non-null  float64\n",
      " 10  children                        65229 non-null  float64\n",
      " 11  babies                          65229 non-null  float64\n",
      " 12  meal                            65229 non-null  object \n",
      " 13  country                         65229 non-null  object \n",
      " 14  distribution_channel            65229 non-null  object \n",
      " 15  is_repeated_guest               65229 non-null  int64  \n",
      " 16  previous_cancellations          65229 non-null  int64  \n",
      " 17  previous_bookings_not_canceled  65229 non-null  int64  \n",
      " 18  reserved_room_type              65229 non-null  object \n",
      " 19  booking_changes                 65229 non-null  int64  \n",
      " 20  days_in_waiting_list            65229 non-null  int64  \n",
      " 21  customer_type                   65229 non-null  object \n",
      " 22  required_car_parking_spaces     65229 non-null  int64  \n",
      " 23  total_of_special_requests       65229 non-null  int64  \n",
      " 24  total_nights                    65229 non-null  int64  \n",
      "dtypes: float64(4), int64(15), object(6)\n",
      "memory usage: 12.4+ MB\n"
     ]
    }
   ],
   "source": [
    "hotel_train = pd.read_csv('/datasets/hotel_train.csv')\n",
    "hotel_train.info()"
   ]
  },
  {
   "cell_type": "code",
   "execution_count": 3,
   "metadata": {},
   "outputs": [
    {
     "data": {
      "text/html": [
       "<div>\n",
       "<style scoped>\n",
       "    .dataframe tbody tr th:only-of-type {\n",
       "        vertical-align: middle;\n",
       "    }\n",
       "\n",
       "    .dataframe tbody tr th {\n",
       "        vertical-align: top;\n",
       "    }\n",
       "\n",
       "    .dataframe thead th {\n",
       "        text-align: right;\n",
       "    }\n",
       "</style>\n",
       "<table border=\"1\" class=\"dataframe\">\n",
       "  <thead>\n",
       "    <tr style=\"text-align: right;\">\n",
       "      <th></th>\n",
       "      <th>id</th>\n",
       "      <th>is_canceled</th>\n",
       "      <th>lead_time</th>\n",
       "      <th>arrival_date_year</th>\n",
       "      <th>arrival_date_month</th>\n",
       "      <th>arrival_date_week_number</th>\n",
       "      <th>arrival_date_day_of_month</th>\n",
       "      <th>stays_in_weekend_nights</th>\n",
       "      <th>stays_in_week_nights</th>\n",
       "      <th>adults</th>\n",
       "      <th>...</th>\n",
       "      <th>is_repeated_guest</th>\n",
       "      <th>previous_cancellations</th>\n",
       "      <th>previous_bookings_not_canceled</th>\n",
       "      <th>reserved_room_type</th>\n",
       "      <th>booking_changes</th>\n",
       "      <th>days_in_waiting_list</th>\n",
       "      <th>customer_type</th>\n",
       "      <th>required_car_parking_spaces</th>\n",
       "      <th>total_of_special_requests</th>\n",
       "      <th>total_nights</th>\n",
       "    </tr>\n",
       "  </thead>\n",
       "  <tbody>\n",
       "    <tr>\n",
       "      <th>0</th>\n",
       "      <td>0</td>\n",
       "      <td>0</td>\n",
       "      <td>7.0</td>\n",
       "      <td>2015</td>\n",
       "      <td>July</td>\n",
       "      <td>27</td>\n",
       "      <td>1</td>\n",
       "      <td>0</td>\n",
       "      <td>1</td>\n",
       "      <td>1.0</td>\n",
       "      <td>...</td>\n",
       "      <td>0</td>\n",
       "      <td>0</td>\n",
       "      <td>0</td>\n",
       "      <td>A</td>\n",
       "      <td>0</td>\n",
       "      <td>0</td>\n",
       "      <td>Transient</td>\n",
       "      <td>0</td>\n",
       "      <td>0</td>\n",
       "      <td>1</td>\n",
       "    </tr>\n",
       "    <tr>\n",
       "      <th>1</th>\n",
       "      <td>1</td>\n",
       "      <td>0</td>\n",
       "      <td>14.0</td>\n",
       "      <td>2015</td>\n",
       "      <td>July</td>\n",
       "      <td>27</td>\n",
       "      <td>1</td>\n",
       "      <td>0</td>\n",
       "      <td>2</td>\n",
       "      <td>2.0</td>\n",
       "      <td>...</td>\n",
       "      <td>0</td>\n",
       "      <td>0</td>\n",
       "      <td>0</td>\n",
       "      <td>A</td>\n",
       "      <td>0</td>\n",
       "      <td>0</td>\n",
       "      <td>Transient</td>\n",
       "      <td>0</td>\n",
       "      <td>1</td>\n",
       "      <td>2</td>\n",
       "    </tr>\n",
       "    <tr>\n",
       "      <th>2</th>\n",
       "      <td>2</td>\n",
       "      <td>0</td>\n",
       "      <td>0.0</td>\n",
       "      <td>2015</td>\n",
       "      <td>July</td>\n",
       "      <td>27</td>\n",
       "      <td>1</td>\n",
       "      <td>0</td>\n",
       "      <td>2</td>\n",
       "      <td>2.0</td>\n",
       "      <td>...</td>\n",
       "      <td>0</td>\n",
       "      <td>0</td>\n",
       "      <td>0</td>\n",
       "      <td>C</td>\n",
       "      <td>0</td>\n",
       "      <td>0</td>\n",
       "      <td>Transient</td>\n",
       "      <td>0</td>\n",
       "      <td>0</td>\n",
       "      <td>2</td>\n",
       "    </tr>\n",
       "    <tr>\n",
       "      <th>3</th>\n",
       "      <td>3</td>\n",
       "      <td>0</td>\n",
       "      <td>9.0</td>\n",
       "      <td>2015</td>\n",
       "      <td>July</td>\n",
       "      <td>27</td>\n",
       "      <td>1</td>\n",
       "      <td>0</td>\n",
       "      <td>2</td>\n",
       "      <td>2.0</td>\n",
       "      <td>...</td>\n",
       "      <td>0</td>\n",
       "      <td>0</td>\n",
       "      <td>0</td>\n",
       "      <td>C</td>\n",
       "      <td>0</td>\n",
       "      <td>0</td>\n",
       "      <td>Transient</td>\n",
       "      <td>0</td>\n",
       "      <td>1</td>\n",
       "      <td>2</td>\n",
       "    </tr>\n",
       "    <tr>\n",
       "      <th>4</th>\n",
       "      <td>4</td>\n",
       "      <td>1</td>\n",
       "      <td>85.0</td>\n",
       "      <td>2015</td>\n",
       "      <td>July</td>\n",
       "      <td>27</td>\n",
       "      <td>1</td>\n",
       "      <td>0</td>\n",
       "      <td>3</td>\n",
       "      <td>2.0</td>\n",
       "      <td>...</td>\n",
       "      <td>0</td>\n",
       "      <td>0</td>\n",
       "      <td>0</td>\n",
       "      <td>A</td>\n",
       "      <td>0</td>\n",
       "      <td>0</td>\n",
       "      <td>Transient</td>\n",
       "      <td>0</td>\n",
       "      <td>1</td>\n",
       "      <td>3</td>\n",
       "    </tr>\n",
       "  </tbody>\n",
       "</table>\n",
       "<p>5 rows × 25 columns</p>\n",
       "</div>"
      ],
      "text/plain": [
       "   id  is_canceled  lead_time  arrival_date_year arrival_date_month  \\\n",
       "0   0            0        7.0               2015               July   \n",
       "1   1            0       14.0               2015               July   \n",
       "2   2            0        0.0               2015               July   \n",
       "3   3            0        9.0               2015               July   \n",
       "4   4            1       85.0               2015               July   \n",
       "\n",
       "   arrival_date_week_number  arrival_date_day_of_month  \\\n",
       "0                        27                          1   \n",
       "1                        27                          1   \n",
       "2                        27                          1   \n",
       "3                        27                          1   \n",
       "4                        27                          1   \n",
       "\n",
       "   stays_in_weekend_nights  stays_in_week_nights  adults  ...  \\\n",
       "0                        0                     1     1.0  ...   \n",
       "1                        0                     2     2.0  ...   \n",
       "2                        0                     2     2.0  ...   \n",
       "3                        0                     2     2.0  ...   \n",
       "4                        0                     3     2.0  ...   \n",
       "\n",
       "   is_repeated_guest  previous_cancellations previous_bookings_not_canceled  \\\n",
       "0                  0                       0                              0   \n",
       "1                  0                       0                              0   \n",
       "2                  0                       0                              0   \n",
       "3                  0                       0                              0   \n",
       "4                  0                       0                              0   \n",
       "\n",
       "  reserved_room_type booking_changes  days_in_waiting_list  customer_type  \\\n",
       "0   A                              0                     0      Transient   \n",
       "1   A                              0                     0      Transient   \n",
       "2   C                              0                     0      Transient   \n",
       "3   C                              0                     0      Transient   \n",
       "4   A                              0                     0      Transient   \n",
       "\n",
       "   required_car_parking_spaces total_of_special_requests  total_nights  \n",
       "0                            0                         0             1  \n",
       "1                            0                         1             2  \n",
       "2                            0                         0             2  \n",
       "3                            0                         1             2  \n",
       "4                            0                         1             3  \n",
       "\n",
       "[5 rows x 25 columns]"
      ]
     },
     "metadata": {},
     "output_type": "display_data"
    }
   ],
   "source": [
    "display(hotel_train.head())"
   ]
  },
  {
   "cell_type": "code",
   "execution_count": 4,
   "metadata": {},
   "outputs": [
    {
     "data": {
      "text/html": [
       "<div>\n",
       "<style scoped>\n",
       "    .dataframe tbody tr th:only-of-type {\n",
       "        vertical-align: middle;\n",
       "    }\n",
       "\n",
       "    .dataframe tbody tr th {\n",
       "        vertical-align: top;\n",
       "    }\n",
       "\n",
       "    .dataframe thead th {\n",
       "        text-align: right;\n",
       "    }\n",
       "</style>\n",
       "<table border=\"1\" class=\"dataframe\">\n",
       "  <thead>\n",
       "    <tr style=\"text-align: right;\">\n",
       "      <th></th>\n",
       "      <th>id</th>\n",
       "      <th>is_canceled</th>\n",
       "      <th>lead_time</th>\n",
       "      <th>arrival_date_year</th>\n",
       "      <th>arrival_date_month</th>\n",
       "      <th>arrival_date_week_number</th>\n",
       "      <th>arrival_date_day_of_month</th>\n",
       "      <th>stays_in_weekend_nights</th>\n",
       "      <th>stays_in_week_nights</th>\n",
       "      <th>adults</th>\n",
       "      <th>...</th>\n",
       "      <th>is_repeated_guest</th>\n",
       "      <th>previous_cancellations</th>\n",
       "      <th>previous_bookings_not_canceled</th>\n",
       "      <th>reserved_room_type</th>\n",
       "      <th>booking_changes</th>\n",
       "      <th>days_in_waiting_list</th>\n",
       "      <th>customer_type</th>\n",
       "      <th>required_car_parking_spaces</th>\n",
       "      <th>total_of_special_requests</th>\n",
       "      <th>total_nights</th>\n",
       "    </tr>\n",
       "  </thead>\n",
       "  <tbody>\n",
       "    <tr>\n",
       "      <th>65224</th>\n",
       "      <td>84057</td>\n",
       "      <td>0</td>\n",
       "      <td>23.0</td>\n",
       "      <td>2016</td>\n",
       "      <td>December</td>\n",
       "      <td>53</td>\n",
       "      <td>30</td>\n",
       "      <td>2</td>\n",
       "      <td>4</td>\n",
       "      <td>2.0</td>\n",
       "      <td>...</td>\n",
       "      <td>0</td>\n",
       "      <td>0</td>\n",
       "      <td>0</td>\n",
       "      <td>D</td>\n",
       "      <td>0</td>\n",
       "      <td>0</td>\n",
       "      <td>Transient</td>\n",
       "      <td>0</td>\n",
       "      <td>2</td>\n",
       "      <td>6</td>\n",
       "    </tr>\n",
       "    <tr>\n",
       "      <th>65225</th>\n",
       "      <td>84063</td>\n",
       "      <td>0</td>\n",
       "      <td>53.0</td>\n",
       "      <td>2016</td>\n",
       "      <td>December</td>\n",
       "      <td>53</td>\n",
       "      <td>31</td>\n",
       "      <td>2</td>\n",
       "      <td>3</td>\n",
       "      <td>2.0</td>\n",
       "      <td>...</td>\n",
       "      <td>0</td>\n",
       "      <td>0</td>\n",
       "      <td>0</td>\n",
       "      <td>D</td>\n",
       "      <td>0</td>\n",
       "      <td>0</td>\n",
       "      <td>Transient</td>\n",
       "      <td>0</td>\n",
       "      <td>3</td>\n",
       "      <td>5</td>\n",
       "    </tr>\n",
       "    <tr>\n",
       "      <th>65226</th>\n",
       "      <td>84094</td>\n",
       "      <td>0</td>\n",
       "      <td>7.0</td>\n",
       "      <td>2016</td>\n",
       "      <td>December</td>\n",
       "      <td>53</td>\n",
       "      <td>31</td>\n",
       "      <td>2</td>\n",
       "      <td>4</td>\n",
       "      <td>2.0</td>\n",
       "      <td>...</td>\n",
       "      <td>0</td>\n",
       "      <td>0</td>\n",
       "      <td>0</td>\n",
       "      <td>D</td>\n",
       "      <td>0</td>\n",
       "      <td>0</td>\n",
       "      <td>Transient</td>\n",
       "      <td>0</td>\n",
       "      <td>1</td>\n",
       "      <td>6</td>\n",
       "    </tr>\n",
       "    <tr>\n",
       "      <th>65227</th>\n",
       "      <td>84117</td>\n",
       "      <td>0</td>\n",
       "      <td>17.0</td>\n",
       "      <td>2016</td>\n",
       "      <td>December</td>\n",
       "      <td>53</td>\n",
       "      <td>30</td>\n",
       "      <td>2</td>\n",
       "      <td>5</td>\n",
       "      <td>2.0</td>\n",
       "      <td>...</td>\n",
       "      <td>0</td>\n",
       "      <td>0</td>\n",
       "      <td>0</td>\n",
       "      <td>A</td>\n",
       "      <td>0</td>\n",
       "      <td>0</td>\n",
       "      <td>Transient</td>\n",
       "      <td>0</td>\n",
       "      <td>1</td>\n",
       "      <td>7</td>\n",
       "    </tr>\n",
       "    <tr>\n",
       "      <th>65228</th>\n",
       "      <td>84121</td>\n",
       "      <td>0</td>\n",
       "      <td>107.0</td>\n",
       "      <td>2016</td>\n",
       "      <td>December</td>\n",
       "      <td>53</td>\n",
       "      <td>31</td>\n",
       "      <td>2</td>\n",
       "      <td>5</td>\n",
       "      <td>2.0</td>\n",
       "      <td>...</td>\n",
       "      <td>0</td>\n",
       "      <td>0</td>\n",
       "      <td>0</td>\n",
       "      <td>A</td>\n",
       "      <td>0</td>\n",
       "      <td>0</td>\n",
       "      <td>Transient</td>\n",
       "      <td>0</td>\n",
       "      <td>0</td>\n",
       "      <td>7</td>\n",
       "    </tr>\n",
       "  </tbody>\n",
       "</table>\n",
       "<p>5 rows × 25 columns</p>\n",
       "</div>"
      ],
      "text/plain": [
       "          id  is_canceled  lead_time  arrival_date_year arrival_date_month  \\\n",
       "65224  84057            0       23.0               2016           December   \n",
       "65225  84063            0       53.0               2016           December   \n",
       "65226  84094            0        7.0               2016           December   \n",
       "65227  84117            0       17.0               2016           December   \n",
       "65228  84121            0      107.0               2016           December   \n",
       "\n",
       "       arrival_date_week_number  arrival_date_day_of_month  \\\n",
       "65224                        53                         30   \n",
       "65225                        53                         31   \n",
       "65226                        53                         31   \n",
       "65227                        53                         30   \n",
       "65228                        53                         31   \n",
       "\n",
       "       stays_in_weekend_nights  stays_in_week_nights  adults  ...  \\\n",
       "65224                        2                     4     2.0  ...   \n",
       "65225                        2                     3     2.0  ...   \n",
       "65226                        2                     4     2.0  ...   \n",
       "65227                        2                     5     2.0  ...   \n",
       "65228                        2                     5     2.0  ...   \n",
       "\n",
       "       is_repeated_guest  previous_cancellations  \\\n",
       "65224                  0                       0   \n",
       "65225                  0                       0   \n",
       "65226                  0                       0   \n",
       "65227                  0                       0   \n",
       "65228                  0                       0   \n",
       "\n",
       "      previous_bookings_not_canceled reserved_room_type booking_changes  \\\n",
       "65224                              0   D                              0   \n",
       "65225                              0   D                              0   \n",
       "65226                              0   D                              0   \n",
       "65227                              0   A                              0   \n",
       "65228                              0   A                              0   \n",
       "\n",
       "       days_in_waiting_list  customer_type  required_car_parking_spaces  \\\n",
       "65224                     0      Transient                            0   \n",
       "65225                     0      Transient                            0   \n",
       "65226                     0      Transient                            0   \n",
       "65227                     0      Transient                            0   \n",
       "65228                     0      Transient                            0   \n",
       "\n",
       "      total_of_special_requests  total_nights  \n",
       "65224                         2             6  \n",
       "65225                         3             5  \n",
       "65226                         1             6  \n",
       "65227                         1             7  \n",
       "65228                         0             7  \n",
       "\n",
       "[5 rows x 25 columns]"
      ]
     },
     "metadata": {},
     "output_type": "display_data"
    }
   ],
   "source": [
    "display(hotel_train.tail())"
   ]
  },
  {
   "cell_type": "code",
   "execution_count": 5,
   "metadata": {},
   "outputs": [
    {
     "data": {
      "text/html": [
       "<div>\n",
       "<style scoped>\n",
       "    .dataframe tbody tr th:only-of-type {\n",
       "        vertical-align: middle;\n",
       "    }\n",
       "\n",
       "    .dataframe tbody tr th {\n",
       "        vertical-align: top;\n",
       "    }\n",
       "\n",
       "    .dataframe thead th {\n",
       "        text-align: right;\n",
       "    }\n",
       "</style>\n",
       "<table border=\"1\" class=\"dataframe\">\n",
       "  <thead>\n",
       "    <tr style=\"text-align: right;\">\n",
       "      <th></th>\n",
       "      <th>count</th>\n",
       "      <th>unique</th>\n",
       "      <th>top</th>\n",
       "      <th>freq</th>\n",
       "      <th>mean</th>\n",
       "      <th>std</th>\n",
       "      <th>min</th>\n",
       "      <th>25%</th>\n",
       "      <th>50%</th>\n",
       "      <th>75%</th>\n",
       "      <th>max</th>\n",
       "    </tr>\n",
       "  </thead>\n",
       "  <tbody>\n",
       "    <tr>\n",
       "      <th>id</th>\n",
       "      <td>65229.0</td>\n",
       "      <td>NaN</td>\n",
       "      <td>NaN</td>\n",
       "      <td>NaN</td>\n",
       "      <td>43544.069172</td>\n",
       "      <td>25614.858971</td>\n",
       "      <td>0.0</td>\n",
       "      <td>19108.0</td>\n",
       "      <td>40554.0</td>\n",
       "      <td>67414.0</td>\n",
       "      <td>84121.0</td>\n",
       "    </tr>\n",
       "    <tr>\n",
       "      <th>is_canceled</th>\n",
       "      <td>65229.0</td>\n",
       "      <td>NaN</td>\n",
       "      <td>NaN</td>\n",
       "      <td>NaN</td>\n",
       "      <td>0.368609</td>\n",
       "      <td>0.482431</td>\n",
       "      <td>0.0</td>\n",
       "      <td>0.0</td>\n",
       "      <td>0.0</td>\n",
       "      <td>1.0</td>\n",
       "      <td>1.0</td>\n",
       "    </tr>\n",
       "    <tr>\n",
       "      <th>lead_time</th>\n",
       "      <td>65229.0</td>\n",
       "      <td>NaN</td>\n",
       "      <td>NaN</td>\n",
       "      <td>NaN</td>\n",
       "      <td>96.337917</td>\n",
       "      <td>96.127545</td>\n",
       "      <td>0.0</td>\n",
       "      <td>17.0</td>\n",
       "      <td>64.0</td>\n",
       "      <td>151.0</td>\n",
       "      <td>374.0</td>\n",
       "    </tr>\n",
       "    <tr>\n",
       "      <th>arrival_date_year</th>\n",
       "      <td>65229.0</td>\n",
       "      <td>NaN</td>\n",
       "      <td>NaN</td>\n",
       "      <td>NaN</td>\n",
       "      <td>2015.719021</td>\n",
       "      <td>0.449481</td>\n",
       "      <td>2015.0</td>\n",
       "      <td>2015.0</td>\n",
       "      <td>2016.0</td>\n",
       "      <td>2016.0</td>\n",
       "      <td>2016.0</td>\n",
       "    </tr>\n",
       "    <tr>\n",
       "      <th>arrival_date_month</th>\n",
       "      <td>65229</td>\n",
       "      <td>12</td>\n",
       "      <td>October</td>\n",
       "      <td>9255</td>\n",
       "      <td>NaN</td>\n",
       "      <td>NaN</td>\n",
       "      <td>NaN</td>\n",
       "      <td>NaN</td>\n",
       "      <td>NaN</td>\n",
       "      <td>NaN</td>\n",
       "      <td>NaN</td>\n",
       "    </tr>\n",
       "    <tr>\n",
       "      <th>arrival_date_week_number</th>\n",
       "      <td>65229.0</td>\n",
       "      <td>NaN</td>\n",
       "      <td>NaN</td>\n",
       "      <td>NaN</td>\n",
       "      <td>31.339772</td>\n",
       "      <td>13.464024</td>\n",
       "      <td>1.0</td>\n",
       "      <td>21.0</td>\n",
       "      <td>34.0</td>\n",
       "      <td>42.0</td>\n",
       "      <td>53.0</td>\n",
       "    </tr>\n",
       "    <tr>\n",
       "      <th>arrival_date_day_of_month</th>\n",
       "      <td>65229.0</td>\n",
       "      <td>NaN</td>\n",
       "      <td>NaN</td>\n",
       "      <td>NaN</td>\n",
       "      <td>15.847813</td>\n",
       "      <td>8.748182</td>\n",
       "      <td>1.0</td>\n",
       "      <td>8.0</td>\n",
       "      <td>16.0</td>\n",
       "      <td>23.0</td>\n",
       "      <td>31.0</td>\n",
       "    </tr>\n",
       "    <tr>\n",
       "      <th>stays_in_weekend_nights</th>\n",
       "      <td>65229.0</td>\n",
       "      <td>NaN</td>\n",
       "      <td>NaN</td>\n",
       "      <td>NaN</td>\n",
       "      <td>0.825185</td>\n",
       "      <td>0.853477</td>\n",
       "      <td>0.0</td>\n",
       "      <td>0.0</td>\n",
       "      <td>1.0</td>\n",
       "      <td>2.0</td>\n",
       "      <td>4.0</td>\n",
       "    </tr>\n",
       "    <tr>\n",
       "      <th>stays_in_week_nights</th>\n",
       "      <td>65229.0</td>\n",
       "      <td>NaN</td>\n",
       "      <td>NaN</td>\n",
       "      <td>NaN</td>\n",
       "      <td>2.224793</td>\n",
       "      <td>1.354992</td>\n",
       "      <td>0.0</td>\n",
       "      <td>1.0</td>\n",
       "      <td>2.0</td>\n",
       "      <td>3.0</td>\n",
       "      <td>6.0</td>\n",
       "    </tr>\n",
       "    <tr>\n",
       "      <th>adults</th>\n",
       "      <td>65229.0</td>\n",
       "      <td>NaN</td>\n",
       "      <td>NaN</td>\n",
       "      <td>NaN</td>\n",
       "      <td>1.836576</td>\n",
       "      <td>0.480245</td>\n",
       "      <td>0.0</td>\n",
       "      <td>2.0</td>\n",
       "      <td>2.0</td>\n",
       "      <td>2.0</td>\n",
       "      <td>4.0</td>\n",
       "    </tr>\n",
       "    <tr>\n",
       "      <th>children</th>\n",
       "      <td>65229.0</td>\n",
       "      <td>NaN</td>\n",
       "      <td>NaN</td>\n",
       "      <td>NaN</td>\n",
       "      <td>0.07489</td>\n",
       "      <td>0.334243</td>\n",
       "      <td>0.0</td>\n",
       "      <td>0.0</td>\n",
       "      <td>0.0</td>\n",
       "      <td>0.0</td>\n",
       "      <td>3.0</td>\n",
       "    </tr>\n",
       "    <tr>\n",
       "      <th>babies</th>\n",
       "      <td>65229.0</td>\n",
       "      <td>NaN</td>\n",
       "      <td>NaN</td>\n",
       "      <td>NaN</td>\n",
       "      <td>0.007236</td>\n",
       "      <td>0.09879</td>\n",
       "      <td>0.0</td>\n",
       "      <td>0.0</td>\n",
       "      <td>0.0</td>\n",
       "      <td>0.0</td>\n",
       "      <td>10.0</td>\n",
       "    </tr>\n",
       "    <tr>\n",
       "      <th>meal</th>\n",
       "      <td>65229</td>\n",
       "      <td>5</td>\n",
       "      <td>BB</td>\n",
       "      <td>51697</td>\n",
       "      <td>NaN</td>\n",
       "      <td>NaN</td>\n",
       "      <td>NaN</td>\n",
       "      <td>NaN</td>\n",
       "      <td>NaN</td>\n",
       "      <td>NaN</td>\n",
       "      <td>NaN</td>\n",
       "    </tr>\n",
       "    <tr>\n",
       "      <th>country</th>\n",
       "      <td>65229</td>\n",
       "      <td>155</td>\n",
       "      <td>PRT</td>\n",
       "      <td>28831</td>\n",
       "      <td>NaN</td>\n",
       "      <td>NaN</td>\n",
       "      <td>NaN</td>\n",
       "      <td>NaN</td>\n",
       "      <td>NaN</td>\n",
       "      <td>NaN</td>\n",
       "      <td>NaN</td>\n",
       "    </tr>\n",
       "    <tr>\n",
       "      <th>distribution_channel</th>\n",
       "      <td>65229</td>\n",
       "      <td>4</td>\n",
       "      <td>TA/TO</td>\n",
       "      <td>54454</td>\n",
       "      <td>NaN</td>\n",
       "      <td>NaN</td>\n",
       "      <td>NaN</td>\n",
       "      <td>NaN</td>\n",
       "      <td>NaN</td>\n",
       "      <td>NaN</td>\n",
       "      <td>NaN</td>\n",
       "    </tr>\n",
       "    <tr>\n",
       "      <th>is_repeated_guest</th>\n",
       "      <td>65229.0</td>\n",
       "      <td>NaN</td>\n",
       "      <td>NaN</td>\n",
       "      <td>NaN</td>\n",
       "      <td>0.027151</td>\n",
       "      <td>0.162523</td>\n",
       "      <td>0.0</td>\n",
       "      <td>0.0</td>\n",
       "      <td>0.0</td>\n",
       "      <td>0.0</td>\n",
       "      <td>1.0</td>\n",
       "    </tr>\n",
       "    <tr>\n",
       "      <th>previous_cancellations</th>\n",
       "      <td>65229.0</td>\n",
       "      <td>NaN</td>\n",
       "      <td>NaN</td>\n",
       "      <td>NaN</td>\n",
       "      <td>0.128915</td>\n",
       "      <td>0.965326</td>\n",
       "      <td>0.0</td>\n",
       "      <td>0.0</td>\n",
       "      <td>0.0</td>\n",
       "      <td>0.0</td>\n",
       "      <td>26.0</td>\n",
       "    </tr>\n",
       "    <tr>\n",
       "      <th>previous_bookings_not_canceled</th>\n",
       "      <td>65229.0</td>\n",
       "      <td>NaN</td>\n",
       "      <td>NaN</td>\n",
       "      <td>NaN</td>\n",
       "      <td>0.107713</td>\n",
       "      <td>1.326638</td>\n",
       "      <td>0.0</td>\n",
       "      <td>0.0</td>\n",
       "      <td>0.0</td>\n",
       "      <td>0.0</td>\n",
       "      <td>58.0</td>\n",
       "    </tr>\n",
       "    <tr>\n",
       "      <th>reserved_room_type</th>\n",
       "      <td>65229</td>\n",
       "      <td>7</td>\n",
       "      <td>A</td>\n",
       "      <td>50501</td>\n",
       "      <td>NaN</td>\n",
       "      <td>NaN</td>\n",
       "      <td>NaN</td>\n",
       "      <td>NaN</td>\n",
       "      <td>NaN</td>\n",
       "      <td>NaN</td>\n",
       "      <td>NaN</td>\n",
       "    </tr>\n",
       "    <tr>\n",
       "      <th>booking_changes</th>\n",
       "      <td>65229.0</td>\n",
       "      <td>NaN</td>\n",
       "      <td>NaN</td>\n",
       "      <td>NaN</td>\n",
       "      <td>0.194269</td>\n",
       "      <td>0.593838</td>\n",
       "      <td>0.0</td>\n",
       "      <td>0.0</td>\n",
       "      <td>0.0</td>\n",
       "      <td>0.0</td>\n",
       "      <td>17.0</td>\n",
       "    </tr>\n",
       "    <tr>\n",
       "      <th>days_in_waiting_list</th>\n",
       "      <td>65229.0</td>\n",
       "      <td>NaN</td>\n",
       "      <td>NaN</td>\n",
       "      <td>NaN</td>\n",
       "      <td>3.334422</td>\n",
       "      <td>18.239606</td>\n",
       "      <td>0.0</td>\n",
       "      <td>0.0</td>\n",
       "      <td>0.0</td>\n",
       "      <td>0.0</td>\n",
       "      <td>259.0</td>\n",
       "    </tr>\n",
       "    <tr>\n",
       "      <th>customer_type</th>\n",
       "      <td>65229</td>\n",
       "      <td>4</td>\n",
       "      <td>Transient</td>\n",
       "      <td>45493</td>\n",
       "      <td>NaN</td>\n",
       "      <td>NaN</td>\n",
       "      <td>NaN</td>\n",
       "      <td>NaN</td>\n",
       "      <td>NaN</td>\n",
       "      <td>NaN</td>\n",
       "      <td>NaN</td>\n",
       "    </tr>\n",
       "    <tr>\n",
       "      <th>required_car_parking_spaces</th>\n",
       "      <td>65229.0</td>\n",
       "      <td>NaN</td>\n",
       "      <td>NaN</td>\n",
       "      <td>NaN</td>\n",
       "      <td>0.056647</td>\n",
       "      <td>0.232094</td>\n",
       "      <td>0.0</td>\n",
       "      <td>0.0</td>\n",
       "      <td>0.0</td>\n",
       "      <td>0.0</td>\n",
       "      <td>3.0</td>\n",
       "    </tr>\n",
       "    <tr>\n",
       "      <th>total_of_special_requests</th>\n",
       "      <td>65229.0</td>\n",
       "      <td>NaN</td>\n",
       "      <td>NaN</td>\n",
       "      <td>NaN</td>\n",
       "      <td>0.512763</td>\n",
       "      <td>0.75259</td>\n",
       "      <td>0.0</td>\n",
       "      <td>0.0</td>\n",
       "      <td>0.0</td>\n",
       "      <td>1.0</td>\n",
       "      <td>5.0</td>\n",
       "    </tr>\n",
       "    <tr>\n",
       "      <th>total_nights</th>\n",
       "      <td>65229.0</td>\n",
       "      <td>NaN</td>\n",
       "      <td>NaN</td>\n",
       "      <td>NaN</td>\n",
       "      <td>3.049978</td>\n",
       "      <td>1.738108</td>\n",
       "      <td>1.0</td>\n",
       "      <td>2.0</td>\n",
       "      <td>3.0</td>\n",
       "      <td>4.0</td>\n",
       "      <td>10.0</td>\n",
       "    </tr>\n",
       "  </tbody>\n",
       "</table>\n",
       "</div>"
      ],
      "text/plain": [
       "                                  count unique               top   freq  \\\n",
       "id                              65229.0    NaN               NaN    NaN   \n",
       "is_canceled                     65229.0    NaN               NaN    NaN   \n",
       "lead_time                       65229.0    NaN               NaN    NaN   \n",
       "arrival_date_year               65229.0    NaN               NaN    NaN   \n",
       "arrival_date_month                65229     12           October   9255   \n",
       "arrival_date_week_number        65229.0    NaN               NaN    NaN   \n",
       "arrival_date_day_of_month       65229.0    NaN               NaN    NaN   \n",
       "stays_in_weekend_nights         65229.0    NaN               NaN    NaN   \n",
       "stays_in_week_nights            65229.0    NaN               NaN    NaN   \n",
       "adults                          65229.0    NaN               NaN    NaN   \n",
       "children                        65229.0    NaN               NaN    NaN   \n",
       "babies                          65229.0    NaN               NaN    NaN   \n",
       "meal                              65229      5         BB         51697   \n",
       "country                           65229    155               PRT  28831   \n",
       "distribution_channel              65229      4             TA/TO  54454   \n",
       "is_repeated_guest               65229.0    NaN               NaN    NaN   \n",
       "previous_cancellations          65229.0    NaN               NaN    NaN   \n",
       "previous_bookings_not_canceled  65229.0    NaN               NaN    NaN   \n",
       "reserved_room_type                65229      7  A                 50501   \n",
       "booking_changes                 65229.0    NaN               NaN    NaN   \n",
       "days_in_waiting_list            65229.0    NaN               NaN    NaN   \n",
       "customer_type                     65229      4         Transient  45493   \n",
       "required_car_parking_spaces     65229.0    NaN               NaN    NaN   \n",
       "total_of_special_requests       65229.0    NaN               NaN    NaN   \n",
       "total_nights                    65229.0    NaN               NaN    NaN   \n",
       "\n",
       "                                        mean           std     min      25%  \\\n",
       "id                              43544.069172  25614.858971     0.0  19108.0   \n",
       "is_canceled                         0.368609      0.482431     0.0      0.0   \n",
       "lead_time                          96.337917     96.127545     0.0     17.0   \n",
       "arrival_date_year                2015.719021      0.449481  2015.0   2015.0   \n",
       "arrival_date_month                       NaN           NaN     NaN      NaN   \n",
       "arrival_date_week_number           31.339772     13.464024     1.0     21.0   \n",
       "arrival_date_day_of_month          15.847813      8.748182     1.0      8.0   \n",
       "stays_in_weekend_nights             0.825185      0.853477     0.0      0.0   \n",
       "stays_in_week_nights                2.224793      1.354992     0.0      1.0   \n",
       "adults                              1.836576      0.480245     0.0      2.0   \n",
       "children                             0.07489      0.334243     0.0      0.0   \n",
       "babies                              0.007236       0.09879     0.0      0.0   \n",
       "meal                                     NaN           NaN     NaN      NaN   \n",
       "country                                  NaN           NaN     NaN      NaN   \n",
       "distribution_channel                     NaN           NaN     NaN      NaN   \n",
       "is_repeated_guest                   0.027151      0.162523     0.0      0.0   \n",
       "previous_cancellations              0.128915      0.965326     0.0      0.0   \n",
       "previous_bookings_not_canceled      0.107713      1.326638     0.0      0.0   \n",
       "reserved_room_type                       NaN           NaN     NaN      NaN   \n",
       "booking_changes                     0.194269      0.593838     0.0      0.0   \n",
       "days_in_waiting_list                3.334422     18.239606     0.0      0.0   \n",
       "customer_type                            NaN           NaN     NaN      NaN   \n",
       "required_car_parking_spaces         0.056647      0.232094     0.0      0.0   \n",
       "total_of_special_requests           0.512763       0.75259     0.0      0.0   \n",
       "total_nights                        3.049978      1.738108     1.0      2.0   \n",
       "\n",
       "                                    50%      75%      max  \n",
       "id                              40554.0  67414.0  84121.0  \n",
       "is_canceled                         0.0      1.0      1.0  \n",
       "lead_time                          64.0    151.0    374.0  \n",
       "arrival_date_year                2016.0   2016.0   2016.0  \n",
       "arrival_date_month                  NaN      NaN      NaN  \n",
       "arrival_date_week_number           34.0     42.0     53.0  \n",
       "arrival_date_day_of_month          16.0     23.0     31.0  \n",
       "stays_in_weekend_nights             1.0      2.0      4.0  \n",
       "stays_in_week_nights                2.0      3.0      6.0  \n",
       "adults                              2.0      2.0      4.0  \n",
       "children                            0.0      0.0      3.0  \n",
       "babies                              0.0      0.0     10.0  \n",
       "meal                                NaN      NaN      NaN  \n",
       "country                             NaN      NaN      NaN  \n",
       "distribution_channel                NaN      NaN      NaN  \n",
       "is_repeated_guest                   0.0      0.0      1.0  \n",
       "previous_cancellations              0.0      0.0     26.0  \n",
       "previous_bookings_not_canceled      0.0      0.0     58.0  \n",
       "reserved_room_type                  NaN      NaN      NaN  \n",
       "booking_changes                     0.0      0.0     17.0  \n",
       "days_in_waiting_list                0.0      0.0    259.0  \n",
       "customer_type                       NaN      NaN      NaN  \n",
       "required_car_parking_spaces         0.0      0.0      3.0  \n",
       "total_of_special_requests           0.0      1.0      5.0  \n",
       "total_nights                        3.0      4.0     10.0  "
      ]
     },
     "execution_count": 5,
     "metadata": {},
     "output_type": "execute_result"
    }
   ],
   "source": [
    "hotel_train.describe(include='all').T"
   ]
  },
  {
   "cell_type": "code",
   "execution_count": 6,
   "metadata": {},
   "outputs": [
    {
     "name": "stdout",
     "output_type": "stream",
     "text": [
      "<class 'pandas.core.frame.DataFrame'>\n",
      "RangeIndex: 32412 entries, 0 to 32411\n",
      "Data columns (total 25 columns):\n",
      " #   Column                          Non-Null Count  Dtype  \n",
      "---  ------                          --------------  -----  \n",
      " 0   id                              32412 non-null  int64  \n",
      " 1   is_canceled                     32412 non-null  int64  \n",
      " 2   lead_time                       32412 non-null  float64\n",
      " 3   arrival_date_year               32412 non-null  int64  \n",
      " 4   arrival_date_month              32412 non-null  object \n",
      " 5   arrival_date_week_number        32412 non-null  int64  \n",
      " 6   arrival_date_day_of_month       32412 non-null  int64  \n",
      " 7   stays_in_weekend_nights         32412 non-null  int64  \n",
      " 8   stays_in_week_nights            32412 non-null  int64  \n",
      " 9   adults                          32412 non-null  float64\n",
      " 10  children                        32412 non-null  float64\n",
      " 11  babies                          32412 non-null  float64\n",
      " 12  meal                            32412 non-null  object \n",
      " 13  country                         32412 non-null  object \n",
      " 14  distribution_channel            32412 non-null  object \n",
      " 15  is_repeated_guest               32412 non-null  int64  \n",
      " 16  previous_cancellations          32412 non-null  int64  \n",
      " 17  previous_bookings_not_canceled  32412 non-null  int64  \n",
      " 18  reserved_room_type              32412 non-null  object \n",
      " 19  booking_changes                 32412 non-null  int64  \n",
      " 20  days_in_waiting_list            32412 non-null  int64  \n",
      " 21  customer_type                   32412 non-null  object \n",
      " 22  required_car_parking_spaces     32412 non-null  int64  \n",
      " 23  total_of_special_requests       32412 non-null  int64  \n",
      " 24  total_nights                    32412 non-null  int64  \n",
      "dtypes: float64(4), int64(15), object(6)\n",
      "memory usage: 6.2+ MB\n"
     ]
    }
   ],
   "source": [
    "hotel_test = pd.read_csv('/datasets/hotel_test.csv')\n",
    "hotel_test.info()"
   ]
  },
  {
   "cell_type": "code",
   "execution_count": 7,
   "metadata": {},
   "outputs": [
    {
     "data": {
      "text/html": [
       "<div>\n",
       "<style scoped>\n",
       "    .dataframe tbody tr th:only-of-type {\n",
       "        vertical-align: middle;\n",
       "    }\n",
       "\n",
       "    .dataframe tbody tr th {\n",
       "        vertical-align: top;\n",
       "    }\n",
       "\n",
       "    .dataframe thead th {\n",
       "        text-align: right;\n",
       "    }\n",
       "</style>\n",
       "<table border=\"1\" class=\"dataframe\">\n",
       "  <thead>\n",
       "    <tr style=\"text-align: right;\">\n",
       "      <th></th>\n",
       "      <th>count</th>\n",
       "      <th>mean</th>\n",
       "      <th>std</th>\n",
       "      <th>min</th>\n",
       "      <th>25%</th>\n",
       "      <th>50%</th>\n",
       "      <th>75%</th>\n",
       "      <th>max</th>\n",
       "    </tr>\n",
       "  </thead>\n",
       "  <tbody>\n",
       "    <tr>\n",
       "      <th>id</th>\n",
       "      <td>32412.0</td>\n",
       "      <td>60131.505183</td>\n",
       "      <td>29953.586177</td>\n",
       "      <td>6086.0</td>\n",
       "      <td>45291.75</td>\n",
       "      <td>53394.5</td>\n",
       "      <td>89800.25</td>\n",
       "      <td>97903.0</td>\n",
       "    </tr>\n",
       "    <tr>\n",
       "      <th>is_canceled</th>\n",
       "      <td>32412.0</td>\n",
       "      <td>0.388467</td>\n",
       "      <td>0.487409</td>\n",
       "      <td>0.0</td>\n",
       "      <td>0.00</td>\n",
       "      <td>0.0</td>\n",
       "      <td>1.00</td>\n",
       "      <td>1.0</td>\n",
       "    </tr>\n",
       "    <tr>\n",
       "      <th>lead_time</th>\n",
       "      <td>32412.0</td>\n",
       "      <td>97.587869</td>\n",
       "      <td>86.507146</td>\n",
       "      <td>0.0</td>\n",
       "      <td>23.00</td>\n",
       "      <td>76.0</td>\n",
       "      <td>155.00</td>\n",
       "      <td>373.0</td>\n",
       "    </tr>\n",
       "    <tr>\n",
       "      <th>arrival_date_year</th>\n",
       "      <td>32412.0</td>\n",
       "      <td>2017.000000</td>\n",
       "      <td>0.000000</td>\n",
       "      <td>2017.0</td>\n",
       "      <td>2017.00</td>\n",
       "      <td>2017.0</td>\n",
       "      <td>2017.00</td>\n",
       "      <td>2017.0</td>\n",
       "    </tr>\n",
       "    <tr>\n",
       "      <th>arrival_date_week_number</th>\n",
       "      <td>32412.0</td>\n",
       "      <td>17.804054</td>\n",
       "      <td>9.177384</td>\n",
       "      <td>1.0</td>\n",
       "      <td>10.00</td>\n",
       "      <td>18.0</td>\n",
       "      <td>25.00</td>\n",
       "      <td>35.0</td>\n",
       "    </tr>\n",
       "    <tr>\n",
       "      <th>arrival_date_day_of_month</th>\n",
       "      <td>32412.0</td>\n",
       "      <td>15.656948</td>\n",
       "      <td>8.766429</td>\n",
       "      <td>1.0</td>\n",
       "      <td>8.00</td>\n",
       "      <td>15.5</td>\n",
       "      <td>23.00</td>\n",
       "      <td>31.0</td>\n",
       "    </tr>\n",
       "    <tr>\n",
       "      <th>stays_in_weekend_nights</th>\n",
       "      <td>32412.0</td>\n",
       "      <td>0.867888</td>\n",
       "      <td>0.853394</td>\n",
       "      <td>0.0</td>\n",
       "      <td>0.00</td>\n",
       "      <td>1.0</td>\n",
       "      <td>2.00</td>\n",
       "      <td>4.0</td>\n",
       "    </tr>\n",
       "    <tr>\n",
       "      <th>stays_in_week_nights</th>\n",
       "      <td>32412.0</td>\n",
       "      <td>2.340090</td>\n",
       "      <td>1.375170</td>\n",
       "      <td>0.0</td>\n",
       "      <td>1.00</td>\n",
       "      <td>2.0</td>\n",
       "      <td>3.00</td>\n",
       "      <td>6.0</td>\n",
       "    </tr>\n",
       "    <tr>\n",
       "      <th>adults</th>\n",
       "      <td>32412.0</td>\n",
       "      <td>1.858602</td>\n",
       "      <td>0.489341</td>\n",
       "      <td>0.0</td>\n",
       "      <td>2.00</td>\n",
       "      <td>2.0</td>\n",
       "      <td>2.00</td>\n",
       "      <td>4.0</td>\n",
       "    </tr>\n",
       "    <tr>\n",
       "      <th>children</th>\n",
       "      <td>32412.0</td>\n",
       "      <td>0.083765</td>\n",
       "      <td>0.343470</td>\n",
       "      <td>0.0</td>\n",
       "      <td>0.00</td>\n",
       "      <td>0.0</td>\n",
       "      <td>0.00</td>\n",
       "      <td>3.0</td>\n",
       "    </tr>\n",
       "    <tr>\n",
       "      <th>babies</th>\n",
       "      <td>32412.0</td>\n",
       "      <td>0.005523</td>\n",
       "      <td>0.075757</td>\n",
       "      <td>0.0</td>\n",
       "      <td>0.00</td>\n",
       "      <td>0.0</td>\n",
       "      <td>0.00</td>\n",
       "      <td>2.0</td>\n",
       "    </tr>\n",
       "    <tr>\n",
       "      <th>is_repeated_guest</th>\n",
       "      <td>32412.0</td>\n",
       "      <td>0.031377</td>\n",
       "      <td>0.174338</td>\n",
       "      <td>0.0</td>\n",
       "      <td>0.00</td>\n",
       "      <td>0.0</td>\n",
       "      <td>0.00</td>\n",
       "      <td>1.0</td>\n",
       "    </tr>\n",
       "    <tr>\n",
       "      <th>previous_cancellations</th>\n",
       "      <td>32412.0</td>\n",
       "      <td>0.011601</td>\n",
       "      <td>0.180473</td>\n",
       "      <td>0.0</td>\n",
       "      <td>0.00</td>\n",
       "      <td>0.0</td>\n",
       "      <td>0.00</td>\n",
       "      <td>6.0</td>\n",
       "    </tr>\n",
       "    <tr>\n",
       "      <th>previous_bookings_not_canceled</th>\n",
       "      <td>32412.0</td>\n",
       "      <td>0.171418</td>\n",
       "      <td>1.875170</td>\n",
       "      <td>0.0</td>\n",
       "      <td>0.00</td>\n",
       "      <td>0.0</td>\n",
       "      <td>0.00</td>\n",
       "      <td>72.0</td>\n",
       "    </tr>\n",
       "    <tr>\n",
       "      <th>booking_changes</th>\n",
       "      <td>32412.0</td>\n",
       "      <td>0.216741</td>\n",
       "      <td>0.640551</td>\n",
       "      <td>0.0</td>\n",
       "      <td>0.00</td>\n",
       "      <td>0.0</td>\n",
       "      <td>0.00</td>\n",
       "      <td>18.0</td>\n",
       "    </tr>\n",
       "    <tr>\n",
       "      <th>days_in_waiting_list</th>\n",
       "      <td>32412.0</td>\n",
       "      <td>0.262341</td>\n",
       "      <td>4.733027</td>\n",
       "      <td>0.0</td>\n",
       "      <td>0.00</td>\n",
       "      <td>0.0</td>\n",
       "      <td>0.00</td>\n",
       "      <td>223.0</td>\n",
       "    </tr>\n",
       "    <tr>\n",
       "      <th>required_car_parking_spaces</th>\n",
       "      <td>32412.0</td>\n",
       "      <td>0.046248</td>\n",
       "      <td>0.219367</td>\n",
       "      <td>0.0</td>\n",
       "      <td>0.00</td>\n",
       "      <td>0.0</td>\n",
       "      <td>0.00</td>\n",
       "      <td>8.0</td>\n",
       "    </tr>\n",
       "    <tr>\n",
       "      <th>total_of_special_requests</th>\n",
       "      <td>32412.0</td>\n",
       "      <td>0.657781</td>\n",
       "      <td>0.834341</td>\n",
       "      <td>0.0</td>\n",
       "      <td>0.00</td>\n",
       "      <td>0.0</td>\n",
       "      <td>1.00</td>\n",
       "      <td>5.0</td>\n",
       "    </tr>\n",
       "    <tr>\n",
       "      <th>total_nights</th>\n",
       "      <td>32412.0</td>\n",
       "      <td>3.207979</td>\n",
       "      <td>1.738683</td>\n",
       "      <td>1.0</td>\n",
       "      <td>2.00</td>\n",
       "      <td>3.0</td>\n",
       "      <td>4.00</td>\n",
       "      <td>10.0</td>\n",
       "    </tr>\n",
       "  </tbody>\n",
       "</table>\n",
       "</div>"
      ],
      "text/plain": [
       "                                  count          mean           std     min  \\\n",
       "id                              32412.0  60131.505183  29953.586177  6086.0   \n",
       "is_canceled                     32412.0      0.388467      0.487409     0.0   \n",
       "lead_time                       32412.0     97.587869     86.507146     0.0   \n",
       "arrival_date_year               32412.0   2017.000000      0.000000  2017.0   \n",
       "arrival_date_week_number        32412.0     17.804054      9.177384     1.0   \n",
       "arrival_date_day_of_month       32412.0     15.656948      8.766429     1.0   \n",
       "stays_in_weekend_nights         32412.0      0.867888      0.853394     0.0   \n",
       "stays_in_week_nights            32412.0      2.340090      1.375170     0.0   \n",
       "adults                          32412.0      1.858602      0.489341     0.0   \n",
       "children                        32412.0      0.083765      0.343470     0.0   \n",
       "babies                          32412.0      0.005523      0.075757     0.0   \n",
       "is_repeated_guest               32412.0      0.031377      0.174338     0.0   \n",
       "previous_cancellations          32412.0      0.011601      0.180473     0.0   \n",
       "previous_bookings_not_canceled  32412.0      0.171418      1.875170     0.0   \n",
       "booking_changes                 32412.0      0.216741      0.640551     0.0   \n",
       "days_in_waiting_list            32412.0      0.262341      4.733027     0.0   \n",
       "required_car_parking_spaces     32412.0      0.046248      0.219367     0.0   \n",
       "total_of_special_requests       32412.0      0.657781      0.834341     0.0   \n",
       "total_nights                    32412.0      3.207979      1.738683     1.0   \n",
       "\n",
       "                                     25%      50%       75%      max  \n",
       "id                              45291.75  53394.5  89800.25  97903.0  \n",
       "is_canceled                         0.00      0.0      1.00      1.0  \n",
       "lead_time                          23.00     76.0    155.00    373.0  \n",
       "arrival_date_year                2017.00   2017.0   2017.00   2017.0  \n",
       "arrival_date_week_number           10.00     18.0     25.00     35.0  \n",
       "arrival_date_day_of_month           8.00     15.5     23.00     31.0  \n",
       "stays_in_weekend_nights             0.00      1.0      2.00      4.0  \n",
       "stays_in_week_nights                1.00      2.0      3.00      6.0  \n",
       "adults                              2.00      2.0      2.00      4.0  \n",
       "children                            0.00      0.0      0.00      3.0  \n",
       "babies                              0.00      0.0      0.00      2.0  \n",
       "is_repeated_guest                   0.00      0.0      0.00      1.0  \n",
       "previous_cancellations              0.00      0.0      0.00      6.0  \n",
       "previous_bookings_not_canceled      0.00      0.0      0.00     72.0  \n",
       "booking_changes                     0.00      0.0      0.00     18.0  \n",
       "days_in_waiting_list                0.00      0.0      0.00    223.0  \n",
       "required_car_parking_spaces         0.00      0.0      0.00      8.0  \n",
       "total_of_special_requests           0.00      0.0      1.00      5.0  \n",
       "total_nights                        2.00      3.0      4.00     10.0  "
      ]
     },
     "execution_count": 7,
     "metadata": {},
     "output_type": "execute_result"
    }
   ],
   "source": [
    "hotel_test.describe().T"
   ]
  },
  {
   "cell_type": "markdown",
   "metadata": {},
   "source": [
    "Описание данных:\n",
    "\n",
    "В таблицах hotel_train и hotel_test содержатся одинаковые столбцы:\n",
    "\n",
    "- id — номер записи;\n",
    "- adults — количество взрослых постояльцев;\n",
    "- arrival_date_year — год заезда;\n",
    "- arrival_date_month — месяц заезда;\n",
    "- arrival_date_week_number — неделя заезда;\n",
    "- arrival_date_day_of_month — день заезда;\n",
    "- babies — количество младенцев;\n",
    "- booking_changes — количество изменений параметров заказа;\n",
    "- children — количество детей от 3 до 14 лет;\n",
    "- country — гражданство постояльца;\n",
    "- customer_type — тип заказчика:\n",
    "- Contract — договор с юридическим лицом;\n",
    "- Group — групповой заезд;\n",
    "- Transient — не связано с договором или групповым заездом;\n",
    "- Transient-party — не связано с договором или групповым заездом, но связано с бронированием типа Transient.\n",
    "- days_in_waiting_list — сколько дней заказ ожидал подтверждения;\n",
    "- distribution_channel — канал дистрибуции заказа;\n",
    "- is_canceled — отмена заказа;\n",
    "- is_repeated_guest — признак того, что гость бронирует номер второй раз;\n",
    "- lead_time — количество дней между датой бронирования и датой прибытия;\n",
    "- meal — опции заказа:\n",
    "- previous_bookings_not_canceled — количество подтверждённых заказов у клиента;\n",
    "- previous_cancellations — количество отменённых заказов у клиента;\n",
    "- required_car_parking_spaces — необходимость места для автомобиля;\n",
    "- reserved_room_type — тип забронированной комнаты;\n",
    "- stays_in_weekend_nights — количество ночей в выходные дни;\n",
    "- stays_in_week_nights — количество ночей в будние дни;\n",
    "- total_nights — общее количество ночей;\n",
    "- total_of_special_requests — количество специальных отметок."
   ]
  },
  {
   "cell_type": "markdown",
   "metadata": {},
   "source": [
    "#### Вывод\n",
    " \n",
    "Мы импортировали и изучили страктуру тренировочного и тестового датасета. Предварительно можно утверждать, что в данных нет пропусков, однако необходимо проверить категориальные значения, а также провести проверку на дубликаты\n",
    "\n",
    "В тренировочной выборке обнаружены аномалии, например, количество младенцев - 10"
   ]
  },
  {
   "cell_type": "markdown",
   "metadata": {},
   "source": [
    "### Шаг 2. Предобработка и исследовательский анализ данных"
   ]
  },
  {
   "cell_type": "code",
   "execution_count": 8,
   "metadata": {},
   "outputs": [
    {
     "data": {
      "text/plain": [
       "October      0.141885\n",
       "September    0.134633\n",
       "August       0.102378\n",
       "November     0.088320\n",
       "July         0.087660\n",
       "December     0.084272\n",
       "April        0.073648\n",
       "May          0.071701\n",
       "June         0.071425\n",
       "March        0.063591\n",
       "February     0.051480\n",
       "January      0.029006\n",
       "Name: arrival_date_month, dtype: float64"
      ]
     },
     "execution_count": 8,
     "metadata": {},
     "output_type": "execute_result"
    }
   ],
   "source": [
    "#hotel_train['arrival_date_month'].unique()\n",
    "hotel_train['arrival_date_month'].value_counts(normalize=True)"
   ]
  },
  {
   "cell_type": "code",
   "execution_count": 9,
   "metadata": {},
   "outputs": [],
   "source": [
    "hotel_train['arrival_date_month'] = hotel_train['arrival_date_month'].apply(lambda x: strptime(x,'%B').tm_mon) \n",
    "hotel_test['arrival_date_month'] = hotel_test['arrival_date_month'].apply(lambda x: strptime(x,'%B').tm_mon) "
   ]
  },
  {
   "cell_type": "code",
   "execution_count": 10,
   "metadata": {},
   "outputs": [
    {
     "data": {
      "text/plain": [
       "array(['A               ', 'C               ', 'D               ',\n",
       "       'E               ', 'G               ', 'F               ',\n",
       "       'B               '], dtype=object)"
      ]
     },
     "execution_count": 10,
     "metadata": {},
     "output_type": "execute_result"
    }
   ],
   "source": [
    "hotel_train['reserved_room_type'].unique()"
   ]
  },
  {
   "cell_type": "markdown",
   "metadata": {},
   "source": [
    "Столбец с категорией не имеет неявных дубликатов, однако каждая запись имеет пробелы, такой формат записи может доставить много проблем, поэтому ниже избавимся от пробелов"
   ]
  },
  {
   "cell_type": "code",
   "execution_count": 11,
   "metadata": {},
   "outputs": [
    {
     "data": {
      "text/plain": [
       "array(['PRT', 'AUT', 'BEL', 'DEU', 'BRA', 'GBR', 'ESP', 'FRA', 'ITA',\n",
       "       'LUX', 'CHE', 'EST', 'NGA', 'IRL', 'CN', 'POL', 'AUS', 'NLD',\n",
       "       'KOR', 'ROU', 'USA', 'CHL', 'DNK', 'FIN', 'RUS', 'SWE', 'HUN',\n",
       "       'HRV', 'MDV', 'ZAF', 'ISR', 'NOR', 'CHN', 'ARE', 'MAR', 'COL',\n",
       "       'FJI', 'LVA', 'LBN', 'PHL', 'HKG', 'SYC', 'GIB', 'AGO', 'MYS',\n",
       "       'MDG', 'IDN', 'LTU', 'ISL', 'TUR', 'ARG', 'JPN', 'SVN', 'SVK',\n",
       "       'BGR', 'CAF', 'JAM', 'UZB', 'UKR', 'IND', 'CZE', 'URY', 'NZL',\n",
       "       'NPL', 'SRB', 'CPV', 'IRN', 'KAZ', 'BHS', 'SUR', 'CUB', 'PAK',\n",
       "       'MAC', 'CYP', 'JOR', 'GRC', 'KWT', 'TWN', 'VNM', 'SGP', 'DOM',\n",
       "       'VEN', 'SEN', 'BLR', 'TZA', 'LIE', 'GNB', 'SAU', 'DZA', 'PER',\n",
       "       'AZE', 'EGY', 'ETH', 'KEN', 'THA', 'MLT', 'ECU', 'AND', 'IMN',\n",
       "       'BHR', 'TUN', 'MNE', 'MEX', 'BEN', 'MOZ', 'UMI', 'JEY', 'MYT',\n",
       "       'QAT', 'BGD', 'GAB', 'CIV', 'ZWE', 'GTM', 'ALB', 'GHA', 'ATA',\n",
       "       'ASM', 'PAN', 'CRI', 'MCO', 'MUS', 'SYR', 'TGO', 'IRQ', 'LKA',\n",
       "       'BIH', 'PRY', 'MRT', 'ABW', 'NCL', 'STP', 'KIR', 'SDN', 'PRI',\n",
       "       'ATF', 'CMR', 'TJK', 'LBY', 'SLE', 'SLV', 'LAO', 'FRO'],\n",
       "      dtype=object)"
      ]
     },
     "execution_count": 11,
     "metadata": {},
     "output_type": "execute_result"
    }
   ],
   "source": [
    "hotel_test['country'].unique()"
   ]
  },
  {
   "cell_type": "code",
   "execution_count": 12,
   "metadata": {},
   "outputs": [
    {
     "data": {
      "text/plain": [
       "array(['GBR', 'PRT', 'ESP', 'IRL', 'FRA', 'ROU', 'NOR', 'USA', 'DEU',\n",
       "       'BEL', 'CHE', 'CN', 'GRC', 'NLD', 'ARG', 'RUS', 'SWE', 'POL',\n",
       "       'EST', 'CZE', 'ITA', 'FIN', 'DNK', 'MOZ', 'BWA', 'LUX', 'BRA',\n",
       "       'SVN', 'ALB', 'CHN', 'MEX', 'MAR', 'SMR', 'LVA', 'CHL', 'AUT',\n",
       "       'LTU', 'TUR', 'ISR', 'IND', 'CYM', 'AUS', 'CPV', 'ZWE', 'DZA',\n",
       "       'KOR', 'CRI', 'HUN', 'TUN', 'ARE', 'HRV', 'HKG', 'IRN', 'GIB',\n",
       "       'JEY', 'URY', 'ZAF', 'COL', 'GGY', 'KWT', 'CYP', 'KAZ', 'THA',\n",
       "       'DOM', 'NGA', 'BLR', 'VEN', 'UKR', 'ARM', 'JPN', 'LKA', 'MYS',\n",
       "       'BIH', 'MUS', 'OMN', 'SUR', 'JAM', 'BGR', 'CIV', 'SRB', 'JOR',\n",
       "       'SYR', 'PHL', 'PRI', 'SGP', 'BDI', 'LBN', 'AGO', 'VNM', 'AZE',\n",
       "       'PLW', 'NZL', 'EGY', 'MDV', 'CMR', 'MLT', 'SVK', 'MWI', 'STP',\n",
       "       'TWN', 'IDN', 'SEN', 'PER', 'SAU', 'KNA', 'ETH', 'ECU', 'IRQ',\n",
       "       'AND', 'HND', 'PAK', 'GEO', 'ZMB', 'QAT', 'KHM', 'MCO', 'BGD',\n",
       "       'ISL', 'UZB', 'IMN', 'TJK', 'NIC', 'BEN', 'MAC', 'VGB', 'TZA',\n",
       "       'GAB', 'MKD', 'TMP', 'GLP', 'KEN', 'LIE', 'MMR', 'PAN', 'BFA',\n",
       "       'LBY', 'GNB', 'MLI', 'BHR', 'NAM', 'BOL', 'SYC', 'PRY', 'BRB',\n",
       "       'ABW', 'SLV', 'DMA', 'CUB', 'PYF', 'UGA', 'GUY', 'LCA', 'ATA',\n",
       "       'RWA', 'MNE'], dtype=object)"
      ]
     },
     "execution_count": 12,
     "metadata": {},
     "output_type": "execute_result"
    }
   ],
   "source": [
    "hotel_train['country'].unique()"
   ]
  },
  {
   "cell_type": "markdown",
   "metadata": {},
   "source": [
    "Очень много категориальных значений, к тому же списки не равны, при выполнении уанхота появятся лишние признаки. Поэтому я предлагаю провести категоризацию по регионам в классификации ООН"
   ]
  },
  {
   "cell_type": "code",
   "execution_count": 13,
   "metadata": {},
   "outputs": [
    {
     "data": {
      "text/html": [
       "<div>\n",
       "<style scoped>\n",
       "    .dataframe tbody tr th:only-of-type {\n",
       "        vertical-align: middle;\n",
       "    }\n",
       "\n",
       "    .dataframe tbody tr th {\n",
       "        vertical-align: top;\n",
       "    }\n",
       "\n",
       "    .dataframe thead th {\n",
       "        text-align: right;\n",
       "    }\n",
       "</style>\n",
       "<table border=\"1\" class=\"dataframe\">\n",
       "  <thead>\n",
       "    <tr style=\"text-align: right;\">\n",
       "      <th></th>\n",
       "      <th>country</th>\n",
       "      <th>region</th>\n",
       "    </tr>\n",
       "  </thead>\n",
       "  <tbody>\n",
       "    <tr>\n",
       "      <th>0</th>\n",
       "      <td>AFG</td>\n",
       "      <td>Southern Asia</td>\n",
       "    </tr>\n",
       "    <tr>\n",
       "      <th>1</th>\n",
       "      <td>ALA</td>\n",
       "      <td>Northern Europe</td>\n",
       "    </tr>\n",
       "    <tr>\n",
       "      <th>2</th>\n",
       "      <td>ALB</td>\n",
       "      <td>Southern Europe</td>\n",
       "    </tr>\n",
       "    <tr>\n",
       "      <th>3</th>\n",
       "      <td>DZA</td>\n",
       "      <td>Africa</td>\n",
       "    </tr>\n",
       "    <tr>\n",
       "      <th>4</th>\n",
       "      <td>ASM</td>\n",
       "      <td>Africa</td>\n",
       "    </tr>\n",
       "  </tbody>\n",
       "</table>\n",
       "</div>"
      ],
      "text/plain": [
       "  country           region\n",
       "0     AFG    Southern Asia\n",
       "1     ALA  Northern Europe\n",
       "2     ALB  Southern Europe\n",
       "3     DZA           Africa\n",
       "4     ASM           Africa"
      ]
     },
     "metadata": {},
     "output_type": "display_data"
    }
   ],
   "source": [
    "af = ['Africa']\n",
    "country = pd.read_csv('https://raw.githubusercontent.com/lukes/ISO-3166-Countries-with-Regional-Codes/master/all/all.csv')\n",
    "country = country.drop(['name', 'alpha-2', 'country-code','iso_3166-2', 'region', 'intermediate-region', 'region-code',\n",
    "                       'sub-region-code', 'intermediate-region-code'], axis=1)\n",
    "\n",
    "def africa(item):\n",
    "    if item == 'Polynesia' or item == 'Northern Africa':\n",
    "        item = 'Africa'\n",
    "    return item\n",
    "\n",
    "def oceania(item):\n",
    "    if item == 'Sub-Saharan Africa' or item == 'Micronesia' or item == 'Melanesia':\n",
    "        item = 'Oceania'\n",
    "    return item\n",
    "\n",
    "\n",
    "country.rename(columns = {'alpha-3' : 'country', 'sub-region' : 'region'}, inplace = True)\n",
    "country['region']=country.apply(lambda x:africa(x.region), axis=1)\n",
    "country['region']=country.apply(lambda x:oceania(x.region), axis=1)\n",
    "\n",
    "country.rename(columns = {'alpha-3' : 'country'}, inplace = True)\n",
    "display(country.head())"
   ]
  },
  {
   "cell_type": "code",
   "execution_count": 14,
   "metadata": {},
   "outputs": [],
   "source": [
    "hotel_train = hotel_train.merge(country[['country','region']],on='country',how='inner')"
   ]
  },
  {
   "cell_type": "code",
   "execution_count": 15,
   "metadata": {},
   "outputs": [
    {
     "data": {
      "text/plain": [
       "array(['Northern Europe', 'Southern Europe', 'Western Europe',\n",
       "       'Eastern Europe', 'Northern America',\n",
       "       'Latin America and the Caribbean', 'Oceania', 'Eastern Asia',\n",
       "       'Africa', 'Western Asia', 'Southern Asia',\n",
       "       'Australia and New Zealand', 'Central Asia', 'South-eastern Asia',\n",
       "       'unknown'], dtype=object)"
      ]
     },
     "execution_count": 15,
     "metadata": {},
     "output_type": "execute_result"
    }
   ],
   "source": [
    "hotel_train['region']=hotel_train['region'].fillna('unknown')\n",
    "hotel_train['region'].unique()"
   ]
  },
  {
   "cell_type": "code",
   "execution_count": 16,
   "metadata": {},
   "outputs": [],
   "source": [
    "hotel_test = hotel_test.merge(country[['country','region']],on='country',how='inner')"
   ]
  },
  {
   "cell_type": "code",
   "execution_count": 17,
   "metadata": {},
   "outputs": [],
   "source": [
    "hotel_test['region']=hotel_test['region'].fillna('unknown')\n"
   ]
  },
  {
   "cell_type": "code",
   "execution_count": 18,
   "metadata": {
    "scrolled": true
   },
   "outputs": [
    {
     "data": {
      "text/plain": [
       "array(['Direct', 'TA/TO', 'Corporate', 'GDS'], dtype=object)"
      ]
     },
     "execution_count": 18,
     "metadata": {},
     "output_type": "execute_result"
    }
   ],
   "source": [
    "hotel_train['distribution_channel'].unique()"
   ]
  },
  {
   "cell_type": "code",
   "execution_count": 19,
   "metadata": {},
   "outputs": [],
   "source": [
    "hotel_train['reserved_room_type']=hotel_train['reserved_room_type'].str.strip()\n",
    "hotel_test['reserved_room_type']=hotel_test['reserved_room_type'].str.strip()\n",
    "hotel_test['meal']=hotel_test['meal'].str.strip()\n",
    "hotel_train['meal']=hotel_train['meal'].str.strip()"
   ]
  },
  {
   "cell_type": "code",
   "execution_count": 20,
   "metadata": {},
   "outputs": [
    {
     "name": "stdout",
     "output_type": "stream",
     "text": [
      "(43441, 26)\n",
      "(24290, 26)\n"
     ]
    }
   ],
   "source": [
    "key = ['is_canceled', 'lead_time', 'arrival_date_year', 'arrival_date_month', 'arrival_date_week_number', \n",
    "       'arrival_date_day_of_month', 'stays_in_weekend_nights', 'stays_in_week_nights', 'adults', 'children',\n",
    "      'babies', 'meal', 'distribution_channel', 'is_repeated_guest', 'previous_cancellations', \n",
    "       'previous_bookings_not_canceled', 'reserved_room_type', 'booking_changes', 'days_in_waiting_list', \n",
    "      'customer_type', 'required_car_parking_spaces', 'total_of_special_requests', 'total_nights', 'country', 'region']\n",
    "hotel_train = hotel_train.drop_duplicates(subset=key).reset_index(drop= True)\n",
    "hotel_test = hotel_test.drop_duplicates(subset=key).reset_index(drop= True)\n",
    "print(hotel_train.shape)\n",
    "print(hotel_test.shape)"
   ]
  },
  {
   "cell_type": "code",
   "execution_count": 21,
   "metadata": {},
   "outputs": [
    {
     "data": {
      "image/png": "[encoded data removed]",
      "text/plain": [
       "<Figure size 432x288 with 1 Axes>"
      ]
     },
     "metadata": {
      "needs_background": "light"
     },
     "output_type": "display_data"
    }
   ],
   "source": [
    "hotel_train['lead_time'].hist(bins=100)\n",
    "plt.suptitle('Распределение по количеству дней между датой бронирования и датой прибытия', size=12, y=1.0); \n",
    "plt.xlabel(\"Количество дней\")\n",
    "plt.ylabel(\"Частота\")\n",
    "plt.show()"
   ]
  },
  {
   "cell_type": "code",
   "execution_count": 22,
   "metadata": {},
   "outputs": [
    {
     "data": {
      "image/png": "[encoded data removed]",
      "text/plain": [
       "<Figure size 504x432 with 1 Axes>"
      ]
     },
     "metadata": {
      "needs_background": "light"
     },
     "output_type": "display_data"
    }
   ],
   "source": [
    "hotel_train['is_canceled'].value_counts().plot(kind='bar',grid=True,figsize=(7,6),title='Отмена бронирования')\n",
    "plt.xlabel(\"Факт отмены\")\n",
    "plt.ylabel(\"количество\")\n",
    "plt.show()"
   ]
  },
  {
   "cell_type": "markdown",
   "metadata": {},
   "source": [
    "Подсчитаем коэфициент:"
   ]
  },
  {
   "cell_type": "code",
   "execution_count": 23,
   "metadata": {},
   "outputs": [],
   "source": [
    "imbalance_coef  = math.ceil(hotel_train.query(\"is_canceled == 0\")['is_canceled'].count()/hotel_train.query(\"is_canceled == 1\")['is_canceled'].count())"
   ]
  },
  {
   "cell_type": "code",
   "execution_count": 24,
   "metadata": {},
   "outputs": [
    {
     "name": "stdout",
     "output_type": "stream",
     "text": [
      "Количество неотмененных бронирований больше количества отмен в 3 раз\n"
     ]
    }
   ],
   "source": [
    "print(f\"Количество неотмененных бронирований больше количества отмен в {imbalance_coef} раз\")"
   ]
  },
  {
   "cell_type": "code",
   "execution_count": 25,
   "metadata": {},
   "outputs": [
    {
     "data": {
      "image/png": "[encoded data removed]",
      "text/plain": [
       "<Figure size 432x288 with 1 Axes>"
      ]
     },
     "metadata": {
      "needs_background": "light"
     },
     "output_type": "display_data"
    }
   ],
   "source": [
    "hotel_train.query('is_canceled==1')['total_nights'].hist(bins=50)\n",
    "plt.suptitle('Распределение отмен по количеству забронированных ночей пребывания', size=12, y=1.0); \n",
    "plt.xlabel(\"Количество забронированных ночей\")\n",
    "plt.ylabel(\"Частота\")\n",
    "plt.show()"
   ]
  },
  {
   "cell_type": "code",
   "execution_count": 26,
   "metadata": {},
   "outputs": [
    {
     "data": {
      "image/png": "[encoded data removed]",
      "text/plain": [
       "<Figure size 432x288 with 1 Axes>"
      ]
     },
     "metadata": {
      "needs_background": "light"
     },
     "output_type": "display_data"
    }
   ],
   "source": [
    "hotel_train['arrival_date_week_number'].hist(bins=52)\n",
    "plt.suptitle('Распределение количества бронирований по неделям', size=12, y=1.0); \n",
    "plt.xlabel(\"Номер недели\")\n",
    "plt.ylabel(\"Частота\")\n",
    "plt.show()"
   ]
  },
  {
   "cell_type": "code",
   "execution_count": 27,
   "metadata": {},
   "outputs": [
    {
     "data": {
      "image/png": "[encoded data removed]",
      "text/plain": [
       "<Figure size 432x288 with 1 Axes>"
      ]
     },
     "metadata": {
      "needs_background": "light"
     },
     "output_type": "display_data"
    }
   ],
   "source": [
    "hotel_train.query('days_in_waiting_list>0')['days_in_waiting_list'].hist(bins=50)\n",
    "plt.suptitle('Распределение количества дней ожидания подтверждения заказа', size=12, y=1.0); \n",
    "plt.xlabel(\"количество дней ожидания подтверждения заказа\")\n",
    "plt.ylabel(\"Частота\")\n",
    "plt.show()"
   ]
  },
  {
   "cell_type": "code",
   "execution_count": 28,
   "metadata": {},
   "outputs": [
    {
     "data": {
      "image/png": "[encoded data removed]",
      "text/plain": [
       "<Figure size 432x288 with 1 Axes>"
      ]
     },
     "metadata": {
      "needs_background": "light"
     },
     "output_type": "display_data"
    }
   ],
   "source": [
    "\n",
    "hotel_train.query('previous_bookings_not_canceled>5')['previous_bookings_not_canceled'].hist(bins=40)\n",
    "plt.suptitle('Распределение количества подтвержденных заказов', size=12, y=1.0); \n",
    "plt.xlabel(\"количество подтвержденных заказов\")\n",
    "plt.ylabel(\"Частота\")\n",
    "plt.show()"
   ]
  },
  {
   "cell_type": "code",
   "execution_count": 29,
   "metadata": {},
   "outputs": [
    {
     "data": {
      "image/png": "[encoded data removed]",
      "text/plain": [
       "<Figure size 432x288 with 1 Axes>"
      ]
     },
     "metadata": {
      "needs_background": "light"
     },
     "output_type": "display_data"
    }
   ],
   "source": [
    "hotel_train.query('previous_cancellations>3')['previous_cancellations'].hist(bins=20)\n",
    "plt.suptitle('Распределение количества ранее отмененных заказов', size=12, y=1.0); \n",
    "plt.xlabel(\"количество ранее отмененных заказов заказов\")\n",
    "plt.ylabel(\"Частота\")\n",
    "plt.show()\n"
   ]
  },
  {
   "cell_type": "code",
   "execution_count": 30,
   "metadata": {},
   "outputs": [
    {
     "data": {
      "image/png": "[encoded data removed]",
      "text/plain": [
       "<Figure size 432x288 with 1 Axes>"
      ]
     },
     "metadata": {
      "needs_background": "light"
     },
     "output_type": "display_data"
    }
   ],
   "source": [
    "hotel_train.query('booking_changes >4')['booking_changes'].hist(bins=30)\n",
    "plt.suptitle('Распределение количества ранее отмененных заказов', size=12, y=1.0); \n",
    "plt.xlabel(\"количество ранее отмененных заказов заказов\")\n",
    "plt.ylabel(\"Частота\")\n",
    "plt.show()"
   ]
  },
  {
   "cell_type": "code",
   "execution_count": 31,
   "metadata": {},
   "outputs": [
    {
     "data": {
      "image/png": "[encoded data removed]",
      "text/plain": [
       "<Figure size 432x288 with 1 Axes>"
      ]
     },
     "metadata": {
      "needs_background": "light"
     },
     "output_type": "display_data"
    }
   ],
   "source": [
    "hotel_train.query('is_canceled==1')['required_car_parking_spaces'].hist(bins=10)\n",
    "plt.suptitle('Распределение отмен по необходимости парковочного места', size=12, y=1.0); \n",
    "plt.xlabel(\"Неободимость парковки\")\n",
    "plt.ylabel(\"Частота\")\n",
    "plt.show()"
   ]
  },
  {
   "cell_type": "code",
   "execution_count": 32,
   "metadata": {},
   "outputs": [
    {
     "data": {
      "image/png": "[encoded data removed]",
      "text/plain": [
       "<Figure size 504x432 with 1 Axes>"
      ]
     },
     "metadata": {
      "needs_background": "light"
     },
     "output_type": "display_data"
    }
   ],
   "source": [
    "\n",
    "cancel_rate_first_period = hotel_train.query('is_canceled==1')['total_of_special_requests'].value_counts()/hotel_train.query('is_canceled==0')['total_of_special_requests'].value_counts()\n",
    "fig, ax = plt.subplots()\n",
    "cancel_rate_first_period.plot(kind='bar',grid=True,figsize=(7,6),title='Относитетльная частота отмен количеству дополнительных запросов')\n",
    "plt.xlabel(\"Месяц\")\n",
    "plt.ylabel(\"Количество дополнительных запросов\")\n",
    "plt.show()\n",
    "\n"
   ]
  },
  {
   "cell_type": "code",
   "execution_count": 33,
   "metadata": {},
   "outputs": [
    {
     "data": {
      "image/png": "[encoded data removed]",
      "text/plain": [
       "<Figure size 504x432 with 1 Axes>"
      ]
     },
     "metadata": {
      "needs_background": "light"
     },
     "output_type": "display_data"
    }
   ],
   "source": [
    "cancel_rate_first_period = hotel_train.query('arrival_date_year == 2015 and is_canceled==1')['arrival_date_month'].value_counts()/hotel_train.query('arrival_date_year == 2015 and is_canceled==0')['arrival_date_month'].value_counts()\n",
    "fig, ax = plt.subplots()\n",
    "cancel_rate_first_period.plot(kind='bar',grid=True,figsize=(7,6),title='Относитетльная частота отмен по месяцам в 2015')\n",
    "plt.xlabel(\"Месяц\")\n",
    "plt.ylabel(\"Относительная частота\")\n",
    "plt.show()\n",
    "\n",
    "\n"
   ]
  },
  {
   "cell_type": "markdown",
   "metadata": {},
   "source": [
    "За 2015 год имеем данные только за пол года. Из графика видно, какая часть бронирований были отменены."
   ]
  },
  {
   "cell_type": "code",
   "execution_count": 34,
   "metadata": {},
   "outputs": [
    {
     "data": {
      "image/png": "[encoded data removed]",
      "text/plain": [
       "<Figure size 504x432 with 1 Axes>"
      ]
     },
     "metadata": {
      "needs_background": "light"
     },
     "output_type": "display_data"
    }
   ],
   "source": [
    "cancel_rate_second_period = hotel_train.query('arrival_date_year == 2016 and is_canceled==1')['arrival_date_month'].value_counts()/hotel_train.query('arrival_date_year == 2016 and is_canceled==0')['arrival_date_month'].value_counts()\n",
    "fig, ax = plt.subplots()\n",
    "cancel_rate_second_period.plot(kind='bar',grid=True,figsize=(7,6),title='Относитетльная частота отмен по месяцам в 2016')\n",
    "plt.xlabel(\"Месяц\")\n",
    "plt.ylabel(\"Относительная частота\")\n",
    "plt.show()\n"
   ]
  },
  {
   "cell_type": "markdown",
   "metadata": {},
   "source": [
    "За 2016 год мы имеем данные за все 12 месяцев, поэтому оценить прибыль без использования модели мы можем именно за этот период"
   ]
  },
  {
   "cell_type": "code",
   "execution_count": 35,
   "metadata": {},
   "outputs": [
    {
     "data": {
      "image/png": "[encoded data removed]",
      "text/plain": [
       "<Figure size 504x432 with 1 Axes>"
      ]
     },
     "metadata": {
      "needs_background": "light"
     },
     "output_type": "display_data"
    }
   ],
   "source": [
    "cancel_rate_third_period = hotel_test.query('arrival_date_year == 2017 and is_canceled==1')['arrival_date_month'].value_counts()/hotel_test.query('arrival_date_year == 2017 and is_canceled==0')['arrival_date_month'].value_counts()\n",
    "fig, ax = plt.subplots()\n",
    "cancel_rate_third_period.plot(kind='bar',grid=True,figsize=(7,6),title='Относитетльная частота отмен по месяцам в 2017')\n",
    "plt.show()"
   ]
  },
  {
   "cell_type": "code",
   "execution_count": 36,
   "metadata": {},
   "outputs": [
    {
     "data": {
      "image/png": "[encoded data removed]",
      "text/plain": [
       "<Figure size 504x432 with 1 Axes>"
      ]
     },
     "metadata": {
      "needs_background": "light"
     },
     "output_type": "display_data"
    }
   ],
   "source": [
    "fig, ax = plt.subplots()\n",
    "hotel_test.query('is_canceled==1')['total_nights'].value_counts().plot(kind='bar',\n",
    "                                                                                         grid=True,figsize=(7,6),\n",
    "                                                                                         title='Бронирования в 2017 году', \n",
    "                                                                                         ax=ax, facecolor='r')\n",
    "plt.show()"
   ]
  },
  {
   "cell_type": "code",
   "execution_count": 37,
   "metadata": {},
   "outputs": [
    {
     "data": {
      "image/png": "[encoded data removed]",
      "text/plain": [
       "<Figure size 504x432 with 1 Axes>"
      ]
     },
     "metadata": {
      "needs_background": "light"
     },
     "output_type": "display_data"
    }
   ],
   "source": [
    "fig, ax = plt.subplots()\n",
    "hotel_train.query('is_canceled==1')['children'].value_counts().plot(kind='bar',\n",
    "                                                                                         grid=True,figsize=(7,6),\n",
    "                                                                                         title='Количество детей в отмененных бронях', \n",
    "                                                                                         ax=ax)\n",
    "plt.show()"
   ]
  },
  {
   "cell_type": "code",
   "execution_count": 38,
   "metadata": {},
   "outputs": [
    {
     "data": {
      "image/png": "[encoded data removed]",
      "text/plain": [
       "<Figure size 504x432 with 1 Axes>"
      ]
     },
     "metadata": {
      "needs_background": "light"
     },
     "output_type": "display_data"
    }
   ],
   "source": [
    "fig, ax = plt.subplots()\n",
    "hotel_train.query('is_canceled==1')['babies'].value_counts().plot(kind='bar',\n",
    "                                                                                         grid=True,figsize=(7,6),\n",
    "                                                                                         title='Количество младенцев в отмененных бронях', \n",
    "                                                                                         ax=ax)\n",
    "plt.show()"
   ]
  },
  {
   "cell_type": "code",
   "execution_count": 39,
   "metadata": {},
   "outputs": [
    {
     "data": {
      "image/png": "[encoded data removed]",
      "text/plain": [
       "<Figure size 504x432 with 1 Axes>"
      ]
     },
     "metadata": {
      "needs_background": "light"
     },
     "output_type": "display_data"
    }
   ],
   "source": [
    "fig, ax = plt.subplots()\n",
    "hotel_train.query('babies >2')['babies'].value_counts().plot(kind='bar',\n",
    "                                                                                         grid=True,figsize=(7,6),\n",
    "                                                                                         title='Количество младенцев в тренировочной выборке', \n",
    "                                                                                         ax=ax)\n",
    "plt.show()"
   ]
  },
  {
   "cell_type": "code",
   "execution_count": null,
   "metadata": {},
   "outputs": [],
   "source": []
  },
  {
   "cell_type": "code",
   "execution_count": 40,
   "metadata": {},
   "outputs": [
    {
     "data": {
      "image/png": "[encoded data removed]",
      "text/plain": [
       "<Figure size 504x432 with 1 Axes>"
      ]
     },
     "metadata": {
      "needs_background": "light"
     },
     "output_type": "display_data"
    }
   ],
   "source": [
    "cancel_rate_region = hotel_train.query('is_canceled==1')['region'].value_counts()/hotel_test.query('is_canceled==0')['region'].value_counts()\n",
    "fig, ax = plt.subplots()\n",
    "cancel_rate_region.plot(kind='bar',grid=True,figsize=(7,6),title='Относитетльная частота отмен по регионам')\n",
    "plt.show()\n"
   ]
  },
  {
   "cell_type": "markdown",
   "metadata": {},
   "source": [
    "В тестовом датасете данные за 2017 год, но только до августа"
   ]
  },
  {
   "cell_type": "markdown",
   "metadata": {},
   "source": [
    "### Шаг 3. Формулировка ML-задачи на основе бизнес-задачи"
   ]
  },
  {
   "cell_type": "markdown",
   "metadata": {},
   "source": [
    "Создадим словарь со стоимостью номеров и их обслуживания в зависимости от категории, и посчитаем стоимость каждого отдельного бронирования, с учетом сезонного повышения цен"
   ]
  },
  {
   "cell_type": "code",
   "execution_count": 41,
   "metadata": {},
   "outputs": [],
   "source": [
    "category = {'A':[1000,400], 'B':[800,350],\n",
    "           'C':[600,350], 'D':[550, 150],\n",
    "           'E':[500,150], 'F':[450,150],\n",
    "           'G':[350,150]}"
   ]
  },
  {
   "cell_type": "code",
   "execution_count": 42,
   "metadata": {},
   "outputs": [],
   "source": [
    "hotel_train_revenue = hotel_train.copy(deep=True)\n",
    "hotel_test_revenue = hotel_test.copy(deep=True)"
   ]
  },
  {
   "cell_type": "code",
   "execution_count": 43,
   "metadata": {},
   "outputs": [],
   "source": [
    "def season(row):\n",
    "    summer = [6, 7, 8]\n",
    "    autumn = [9, 10, 11,  3, 4, 5]\n",
    "    month = row['arrival_date_month']\n",
    "    if month in summer:\n",
    "        return 1.4\n",
    "    elif month in autumn:\n",
    "        return 1.2\n",
    "    else:\n",
    "        return 1.0\n",
    "\n",
    "hotel_train_revenue['season_margin']=hotel_train_revenue.apply(season, axis=1)\n",
    "hotel_test_revenue['season_margin']=hotel_test_revenue.apply(season, axis=1)"
   ]
  },
  {
   "cell_type": "code",
   "execution_count": 44,
   "metadata": {},
   "outputs": [],
   "source": [
    "def revenue(row):\n",
    "    price = [value[0] for key, value in category.items() if key == row['reserved_room_type']]\n",
    "    expense = [value[1] for key, value in category.items() if key == row['reserved_room_type']]\n",
    "    cancel = row['is_canceled']\n",
    "    total_nights = row['total_nights']\n",
    "    season = row['season_margin']\n",
    "    if cancel == 0:\n",
    "        revenue =  int(''.join(map(str, price)))*total_nights*season - int(''.join(map(str, expense)))*math.ceil(total_nights/2)\n",
    "    else:\n",
    "        revenue = -int(''.join(map(str, expense)))\n",
    "        \n",
    "    return revenue\n",
    "\n",
    "hotel_train_revenue['revenue'] = hotel_train_revenue.apply(revenue, axis=1) \n",
    "hotel_test_revenue['revenue'] = hotel_test_revenue.apply(revenue, axis=1) "
   ]
  },
  {
   "cell_type": "code",
   "execution_count": 45,
   "metadata": {},
   "outputs": [
    {
     "data": {
      "text/html": [
       "<div>\n",
       "<style scoped>\n",
       "    .dataframe tbody tr th:only-of-type {\n",
       "        vertical-align: middle;\n",
       "    }\n",
       "\n",
       "    .dataframe tbody tr th {\n",
       "        vertical-align: top;\n",
       "    }\n",
       "\n",
       "    .dataframe thead th {\n",
       "        text-align: right;\n",
       "    }\n",
       "</style>\n",
       "<table border=\"1\" class=\"dataframe\">\n",
       "  <thead>\n",
       "    <tr style=\"text-align: right;\">\n",
       "      <th></th>\n",
       "      <th>revenue</th>\n",
       "    </tr>\n",
       "    <tr>\n",
       "      <th>arrival_date_year</th>\n",
       "      <th></th>\n",
       "    </tr>\n",
       "  </thead>\n",
       "  <tbody>\n",
       "    <tr>\n",
       "      <th>2015</th>\n",
       "      <td>21148750.0</td>\n",
       "    </tr>\n",
       "    <tr>\n",
       "      <th>2016</th>\n",
       "      <td>60305040.0</td>\n",
       "    </tr>\n",
       "  </tbody>\n",
       "</table>\n",
       "</div>"
      ],
      "text/plain": [
       "                      revenue\n",
       "arrival_date_year            \n",
       "2015               21148750.0\n",
       "2016               60305040.0"
      ]
     },
     "metadata": {},
     "output_type": "display_data"
    }
   ],
   "source": [
    "revenue_train_set = hotel_train_revenue.groupby(['arrival_date_year']).agg({'revenue': 'sum'})\n",
    "display(revenue_train_set)"
   ]
  },
  {
   "cell_type": "markdown",
   "metadata": {},
   "source": [
    "Проверим выручку в 2016 году за месяцы с января по август"
   ]
  },
  {
   "cell_type": "code",
   "execution_count": 46,
   "metadata": {},
   "outputs": [
    {
     "data": {
      "text/html": [
       "<div>\n",
       "<style scoped>\n",
       "    .dataframe tbody tr th:only-of-type {\n",
       "        vertical-align: middle;\n",
       "    }\n",
       "\n",
       "    .dataframe tbody tr th {\n",
       "        vertical-align: top;\n",
       "    }\n",
       "\n",
       "    .dataframe thead th {\n",
       "        text-align: right;\n",
       "    }\n",
       "</style>\n",
       "<table border=\"1\" class=\"dataframe\">\n",
       "  <thead>\n",
       "    <tr style=\"text-align: right;\">\n",
       "      <th></th>\n",
       "      <th>revenue</th>\n",
       "    </tr>\n",
       "    <tr>\n",
       "      <th>arrival_date_year</th>\n",
       "      <th></th>\n",
       "    </tr>\n",
       "  </thead>\n",
       "  <tbody>\n",
       "    <tr>\n",
       "      <th>2016</th>\n",
       "      <td>41222130.0</td>\n",
       "    </tr>\n",
       "  </tbody>\n",
       "</table>\n",
       "</div>"
      ],
      "text/plain": [
       "                      revenue\n",
       "arrival_date_year            \n",
       "2016               41222130.0"
      ]
     },
     "metadata": {},
     "output_type": "display_data"
    }
   ],
   "source": [
    "revenue_train_set = hotel_train_revenue.query(\"arrival_date_year== 2016 and arrival_date_month in (1,2,3,4,5,6,7,8)\").groupby(['arrival_date_year']).agg({'revenue': 'sum'})\n",
    "display(revenue_train_set)"
   ]
  },
  {
   "cell_type": "code",
   "execution_count": 47,
   "metadata": {},
   "outputs": [
    {
     "data": {
      "text/html": [
       "<div>\n",
       "<style scoped>\n",
       "    .dataframe tbody tr th:only-of-type {\n",
       "        vertical-align: middle;\n",
       "    }\n",
       "\n",
       "    .dataframe tbody tr th {\n",
       "        vertical-align: top;\n",
       "    }\n",
       "\n",
       "    .dataframe thead th {\n",
       "        text-align: right;\n",
       "    }\n",
       "</style>\n",
       "<table border=\"1\" class=\"dataframe\">\n",
       "  <thead>\n",
       "    <tr style=\"text-align: right;\">\n",
       "      <th></th>\n",
       "      <th>revenue</th>\n",
       "    </tr>\n",
       "    <tr>\n",
       "      <th>arrival_date_year</th>\n",
       "      <th></th>\n",
       "    </tr>\n",
       "  </thead>\n",
       "  <tbody>\n",
       "    <tr>\n",
       "      <th>2017</th>\n",
       "      <td>42163160.0</td>\n",
       "    </tr>\n",
       "  </tbody>\n",
       "</table>\n",
       "</div>"
      ],
      "text/plain": [
       "                      revenue\n",
       "arrival_date_year            \n",
       "2017               42163160.0"
      ]
     },
     "metadata": {},
     "output_type": "display_data"
    }
   ],
   "source": [
    "revenue_test_set = hotel_test_revenue.groupby(['arrival_date_year']).agg({'revenue': 'sum'})\n",
    "display(revenue_test_set)"
   ]
  },
  {
   "cell_type": "markdown",
   "metadata": {},
   "source": [
    "#### Вывод"
   ]
  },
  {
   "cell_type": "markdown",
   "metadata": {},
   "source": [
    "Если говорить о выручке за полный год, то мы имеем данные только для 2016 года - в том году выручка составила 60.3 млн руб. Однако если сравнить выручку по имеющимся данным за 2017 год и аналогичный период 2016 года, то выручка составит 42.1 млн руб и 41.2 млн руб, соответственно"
   ]
  },
  {
   "cell_type": "markdown",
   "metadata": {},
   "source": [
    "### Шаг 4. Разработка модели ML"
   ]
  },
  {
   "cell_type": "markdown",
   "metadata": {},
   "source": [
    "Проверим размер тренировочной выборки"
   ]
  },
  {
   "cell_type": "code",
   "execution_count": 48,
   "metadata": {},
   "outputs": [
    {
     "data": {
      "text/plain": [
       "(43441, 26)"
      ]
     },
     "execution_count": 48,
     "metadata": {},
     "output_type": "execute_result"
    }
   ],
   "source": [
    "hotel_train.shape"
   ]
  },
  {
   "cell_type": "markdown",
   "metadata": {},
   "source": [
    "Проверим размер тестовой выборки"
   ]
  },
  {
   "cell_type": "code",
   "execution_count": 49,
   "metadata": {},
   "outputs": [
    {
     "data": {
      "text/plain": [
       "(24290, 26)"
      ]
     },
     "execution_count": 49,
     "metadata": {},
     "output_type": "execute_result"
    }
   ],
   "source": [
    "hotel_test.shape"
   ]
  },
  {
   "cell_type": "markdown",
   "metadata": {},
   "source": [
    "Избавимся от ненужных столбцов, разобьем данные на тренировочные и валидационные выборки, сделаем уанхот и проскалируем числовые признаки."
   ]
  },
  {
   "cell_type": "code",
   "execution_count": 50,
   "metadata": {},
   "outputs": [
    {
     "name": "stdout",
     "output_type": "stream",
     "text": [
      "(43441, 48)\n",
      "(24290, 48)\n"
     ]
    }
   ],
   "source": [
    "hotel_train_region = hotel_train.drop(['country','id'], axis=1)\n",
    "hotel_test_region = hotel_test.drop(['country','id'], axis=1)\n",
    "\n",
    "hotel_train_ohe=pd.get_dummies(hotel_train_region,drop_first=True)\n",
    "hotel_test_ohe=pd.get_dummies(hotel_test_region,drop_first=True)\n",
    "print(hotel_train_ohe.shape)\n",
    "print(hotel_test_ohe.shape)"
   ]
  },
  {
   "cell_type": "code",
   "execution_count": 51,
   "metadata": {},
   "outputs": [],
   "source": [
    "features = hotel_train_ohe.drop(['is_canceled', 'arrival_date_year'], axis=1)\n",
    "features_test = hotel_test_ohe.drop(['is_canceled', 'arrival_date_year'], axis=1)\n",
    "target = hotel_train_ohe['is_canceled']\n",
    "target_test = hotel_test_ohe['is_canceled']"
   ]
  },
  {
   "cell_type": "code",
   "execution_count": 52,
   "metadata": {},
   "outputs": [
    {
     "data": {
      "text/plain": [
       "(43441, 46)"
      ]
     },
     "execution_count": 52,
     "metadata": {},
     "output_type": "execute_result"
    }
   ],
   "source": [
    "features.shape"
   ]
  },
  {
   "cell_type": "code",
   "execution_count": 53,
   "metadata": {},
   "outputs": [
    {
     "data": {
      "text/plain": [
       "(24290, 46)"
      ]
     },
     "execution_count": 53,
     "metadata": {},
     "output_type": "execute_result"
    }
   ],
   "source": [
    "features_test.shape"
   ]
  },
  {
   "cell_type": "code",
   "execution_count": 54,
   "metadata": {},
   "outputs": [],
   "source": [
    "features_train, features_valid, target_train, target_valid = train_test_split(features, target, \n",
    "                                                                              test_size=0.3, \n",
    "                                                                              random_state=12345)"
   ]
  },
  {
   "cell_type": "code",
   "execution_count": 55,
   "metadata": {},
   "outputs": [],
   "source": [
    "numeric = ['lead_time', 'arrival_date_week_number', 'stays_in_weekend_nights', 'arrival_date_day_of_month',\n",
    "           'stays_in_week_nights', 'adults', 'children', 'babies', 'previous_cancellations', 'previous_bookings_not_canceled', \n",
    "          'booking_changes', 'days_in_waiting_list', 'total_of_special_requests', 'total_nights', 'arrival_date_month']"
   ]
  },
  {
   "cell_type": "code",
   "execution_count": 56,
   "metadata": {},
   "outputs": [
    {
     "data": {
      "text/plain": [
       "MinMaxScaler()"
      ]
     },
     "execution_count": 56,
     "metadata": {},
     "output_type": "execute_result"
    }
   ],
   "source": [
    "scaler = MinMaxScaler()\n",
    "scaler.fit(features_train[numeric])"
   ]
  },
  {
   "cell_type": "code",
   "execution_count": 57,
   "metadata": {},
   "outputs": [],
   "source": [
    "features_train_scaled = features_train.copy(deep=True)\n",
    "features_train_scaled[numeric] = scaler.transform(features_train[numeric])\n",
    "\n",
    "features_valid_scaled = features_valid.copy(deep=True)\n",
    "features_valid_scaled[numeric] = scaler.transform(features_valid[numeric])\n",
    "\n",
    "features_test_scaled = features_test.copy(deep=True)\n",
    "features_test_scaled[numeric] = scaler.transform(features_test[numeric])"
   ]
  },
  {
   "cell_type": "markdown",
   "metadata": {},
   "source": [
    "#### Logistic Regression"
   ]
  },
  {
   "cell_type": "code",
   "execution_count": 58,
   "metadata": {
    "scrolled": true
   },
   "outputs": [
    {
     "name": "stdout",
     "output_type": "stream",
     "text": [
      "Cross-Validation Accuracy Scores [0.46206897 0.46023689 0.46727423 0.43266725 0.4560205  0.47208122\n",
      " 0.4639444  0.46075085 0.44082333 0.44482464]\n"
     ]
    },
    {
     "data": {
      "text/plain": [
       "(0.4326672458731538, 0.45606922587143506, 0.4720812182741117)"
      ]
     },
     "execution_count": 58,
     "metadata": {},
     "output_type": "execute_result"
    }
   ],
   "source": [
    "model_LR = LogisticRegression(solver='liblinear', random_state=12345, penalty = 'l1')\n",
    "scores = cross_val_score(model_LR, features_train_scaled, target_train, cv=10, scoring='f1')\n",
    "print('Cross-Validation Accuracy Scores', scores)\n",
    "scores = pd.Series(scores)\n",
    "scores.min(), scores.mean(), scores.max()"
   ]
  },
  {
   "cell_type": "markdown",
   "metadata": {},
   "source": [
    "#### Random Forest "
   ]
  },
  {
   "cell_type": "code",
   "execution_count": 59,
   "metadata": {},
   "outputs": [
    {
     "name": "stdout",
     "output_type": "stream",
     "text": [
      "RandomForestClassifier(max_depth=15, n_estimators=40)\n",
      "F1: 0.540321021079095\n"
     ]
    }
   ],
   "source": [
    "model_RF = RandomForestClassifier()\n",
    "param_grid = { \n",
    "    'n_estimators': [10, 20, 30, 40, 50],\n",
    "    'max_depth' : [5,7,9,11,13,15]\n",
    "}\n",
    "\n",
    "CV_model_RF = GridSearchCV(estimator=model_RF, param_grid=param_grid, cv=5)\n",
    "CV_model_RF.fit(features_train_scaled, target_train)\n",
    "\n",
    "predictions = CV_model_RF.best_estimator_.predict(features_valid_scaled)\n",
    "print(CV_model_RF.best_estimator_)\n",
    "\n",
    "print(\"F1:\", f1_score(predictions, target_valid))"
   ]
  },
  {
   "cell_type": "markdown",
   "metadata": {},
   "source": [
    "Модель случайного леса показывает лучшие результаты, попробуем работать именно с этой моделью."
   ]
  },
  {
   "cell_type": "markdown",
   "metadata": {},
   "source": [
    "#### Борьба с дисбалансом"
   ]
  },
  {
   "cell_type": "code",
   "execution_count": 60,
   "metadata": {},
   "outputs": [
    {
     "name": "stdout",
     "output_type": "stream",
     "text": [
      "Cross-Validation Accuracy Scores [0.65292096 0.61653272 0.6221224  0.62729358 0.63477772 0.62421831\n",
      " 0.65345413 0.62457338 0.62343572 0.61342207]\n",
      "Максимальное значение f1 модели со взвешиванием -  0.653454133635334\n"
     ]
    }
   ],
   "source": [
    "model_RF_balanced = RandomForestClassifier(class_weight = 'balanced', max_depth=15, random_state=12345, n_estimators=20)\n",
    "model_RF_balanced.fit(features_train_scaled, target_train)\n",
    "scores = cross_val_score(model_RF_balanced, features_train_scaled, target_train, cv=10, scoring='f1')\n",
    "print('Cross-Validation Accuracy Scores', scores)\n",
    "scores = pd.Series(scores)\n",
    "print('Максимальное значение f1 модели со взвешиванием - ', scores.max())"
   ]
  },
  {
   "cell_type": "markdown",
   "metadata": {},
   "source": [
    "##### Upsampling"
   ]
  },
  {
   "cell_type": "markdown",
   "metadata": {},
   "source": [
    "Так как в тренажере нет библиотеки imblearn, кросс-валидацию будем делать вручную"
   ]
  },
  {
   "cell_type": "code",
   "execution_count": 61,
   "metadata": {},
   "outputs": [],
   "source": [
    "kf = KFold(n_splits=5, random_state=42, shuffle=True)"
   ]
  },
  {
   "cell_type": "code",
   "execution_count": 62,
   "metadata": {},
   "outputs": [],
   "source": [
    "def upsample(features, target, repeat):\n",
    "    features_zeros = features[target == 0]\n",
    "    features_ones = features[target == 1]\n",
    "    target_zeros = target[target == 0]\n",
    "    target_ones = target[target == 1]\n",
    "\n",
    "    features_upsampled = pd.concat([features_zeros] + [features_ones] * repeat)\n",
    "    target_upsampled = pd.concat([target_zeros] + [target_ones] * repeat)\n",
    "    \n",
    "    features_upsampled, target_upsampled = shuffle(\n",
    "        features_upsampled, target_upsampled, random_state=12345)\n",
    "    \n",
    "    return features_upsampled, target_upsampled"
   ]
  },
  {
   "cell_type": "code",
   "execution_count": 63,
   "metadata": {},
   "outputs": [],
   "source": [
    "features_upsampled_train, target_upsampled_train = upsample(features_train_scaled, target_train, imbalance_coef)"
   ]
  },
  {
   "cell_type": "code",
   "execution_count": 64,
   "metadata": {},
   "outputs": [],
   "source": [
    "def score_model(model, params, cv=None):\n",
    "    if cv is None:\n",
    "        cv = KFold(n_splits=5, random_state=42)\n",
    "    scores = []\n",
    "\n",
    "    for train_fold_index, val_fold_index in cv.split(features_train_scaled, target_train):\n",
    "        X_train_fold, X_val_fold, y_train_fold, y_val_fold = train_test_split(features_train_scaled, target_train, \n",
    "                                                                              test_size=0.4, \n",
    "                                                                              random_state=12345)\n",
    "        \n",
    "        \n",
    "        \n",
    "\n",
    "        X_train_fold_upsample, y_train_fold_upsample = upsample(X_train_fold, y_train_fold, imbalance_coef)\n",
    "        model_obj = model(**params).fit(X_train_fold_upsample, y_train_fold_upsample)\n",
    "        score = f1_score(model_obj.predict(X_val_fold), y_val_fold)\n",
    "        scores.append(score)\n",
    "    return np.array(scores)"
   ]
  },
  {
   "cell_type": "code",
   "execution_count": 65,
   "metadata": {},
   "outputs": [],
   "source": [
    "score_tracker = []\n",
    "for n_estimators in param_grid['n_estimators']:\n",
    "    for max_depth in param_grid['max_depth']:\n",
    "        example_params = {\n",
    "            'n_estimators': n_estimators,\n",
    "            'max_depth': max_depth,\n",
    "            'random_state': 12345\n",
    "        }\n",
    "        example_params['f1'] = score_model(RandomForestClassifier, \n",
    "                                               example_params, cv=kf).mean()\n",
    "        score_tracker.append(example_params)"
   ]
  },
  {
   "cell_type": "code",
   "execution_count": 66,
   "metadata": {},
   "outputs": [
    {
     "data": {
      "text/plain": [
       "[{'n_estimators': 50,\n",
       "  'max_depth': 15,\n",
       "  'random_state': 12345,\n",
       "  'f1': 0.6324264297612437},\n",
       " {'n_estimators': 30,\n",
       "  'max_depth': 15,\n",
       "  'random_state': 12345,\n",
       "  'f1': 0.6297424536139573},\n",
       " {'n_estimators': 40,\n",
       "  'max_depth': 15,\n",
       "  'random_state': 12345,\n",
       "  'f1': 0.6292791539103814},\n",
       " {'n_estimators': 30,\n",
       "  'max_depth': 13,\n",
       "  'random_state': 12345,\n",
       "  'f1': 0.6255244282040873},\n",
       " {'n_estimators': 50,\n",
       "  'max_depth': 13,\n",
       "  'random_state': 12345,\n",
       "  'f1': 0.6254752851711026},\n",
       " {'n_estimators': 20,\n",
       "  'max_depth': 15,\n",
       "  'random_state': 12345,\n",
       "  'f1': 0.6241174027412432},\n",
       " {'n_estimators': 40,\n",
       "  'max_depth': 13,\n",
       "  'random_state': 12345,\n",
       "  'f1': 0.623917748917749},\n",
       " {'n_estimators': 20,\n",
       "  'max_depth': 13,\n",
       "  'random_state': 12345,\n",
       "  'f1': 0.6230487308266595},\n",
       " {'n_estimators': 10,\n",
       "  'max_depth': 15,\n",
       "  'random_state': 12345,\n",
       "  'f1': 0.6179608372721135},\n",
       " {'n_estimators': 40,\n",
       "  'max_depth': 11,\n",
       "  'random_state': 12345,\n",
       "  'f1': 0.6175740958349653},\n",
       " {'n_estimators': 50,\n",
       "  'max_depth': 11,\n",
       "  'random_state': 12345,\n",
       "  'f1': 0.6173355994247615},\n",
       " {'n_estimators': 30,\n",
       "  'max_depth': 11,\n",
       "  'random_state': 12345,\n",
       "  'f1': 0.6157062589834053},\n",
       " {'n_estimators': 20,\n",
       "  'max_depth': 11,\n",
       "  'random_state': 12345,\n",
       "  'f1': 0.6154047338825683},\n",
       " {'n_estimators': 10,\n",
       "  'max_depth': 13,\n",
       "  'random_state': 12345,\n",
       "  'f1': 0.6150347779561263},\n",
       " {'n_estimators': 40,\n",
       "  'max_depth': 9,\n",
       "  'random_state': 12345,\n",
       "  'f1': 0.6097529758095481},\n",
       " {'n_estimators': 50,\n",
       "  'max_depth': 9,\n",
       "  'random_state': 12345,\n",
       "  'f1': 0.6086065573770493},\n",
       " {'n_estimators': 10,\n",
       "  'max_depth': 11,\n",
       "  'random_state': 12345,\n",
       "  'f1': 0.6074417406978241},\n",
       " {'n_estimators': 30,\n",
       "  'max_depth': 9,\n",
       "  'random_state': 12345,\n",
       "  'f1': 0.6065028161802355},\n",
       " {'n_estimators': 20,\n",
       "  'max_depth': 9,\n",
       "  'random_state': 12345,\n",
       "  'f1': 0.60326364099949},\n",
       " {'n_estimators': 10,\n",
       "  'max_depth': 9,\n",
       "  'random_state': 12345,\n",
       "  'f1': 0.6017213421479356},\n",
       " {'n_estimators': 50,\n",
       "  'max_depth': 7,\n",
       "  'random_state': 12345,\n",
       "  'f1': 0.5943442223305704},\n",
       " {'n_estimators': 40,\n",
       "  'max_depth': 7,\n",
       "  'random_state': 12345,\n",
       "  'f1': 0.5906510448121753},\n",
       " {'n_estimators': 20,\n",
       "  'max_depth': 7,\n",
       "  'random_state': 12345,\n",
       "  'f1': 0.5905713241564138},\n",
       " {'n_estimators': 30,\n",
       "  'max_depth': 7,\n",
       "  'random_state': 12345,\n",
       "  'f1': 0.587925881649731},\n",
       " {'n_estimators': 40,\n",
       "  'max_depth': 5,\n",
       "  'random_state': 12345,\n",
       "  'f1': 0.5871133390390023},\n",
       " {'n_estimators': 50,\n",
       "  'max_depth': 5,\n",
       "  'random_state': 12345,\n",
       "  'f1': 0.5857907179295757},\n",
       " {'n_estimators': 30,\n",
       "  'max_depth': 5,\n",
       "  'random_state': 12345,\n",
       "  'f1': 0.5841098577734184},\n",
       " {'n_estimators': 10,\n",
       "  'max_depth': 7,\n",
       "  'random_state': 12345,\n",
       "  'f1': 0.5811068702290076},\n",
       " {'n_estimators': 20,\n",
       "  'max_depth': 5,\n",
       "  'random_state': 12345,\n",
       "  'f1': 0.5784301831857334},\n",
       " {'n_estimators': 10,\n",
       "  'max_depth': 5,\n",
       "  'random_state': 12345,\n",
       "  'f1': 0.5582563049184069}]"
      ]
     },
     "execution_count": 66,
     "metadata": {},
     "output_type": "execute_result"
    }
   ],
   "source": [
    "sorted(score_tracker, key=lambda x: x['f1'], reverse=True)"
   ]
  },
  {
   "cell_type": "code",
   "execution_count": 67,
   "metadata": {},
   "outputs": [
    {
     "data": {
      "text/plain": [
       "0.6299172501591344"
      ]
     },
     "execution_count": 67,
     "metadata": {},
     "output_type": "execute_result"
    }
   ],
   "source": [
    "model_rf_upsc = RandomForestClassifier(n_estimators=50, max_depth=15, random_state=12345)\n",
    "model_rf_upsc.fit(features_upsampled_train, target_upsampled_train)\n",
    "f1_score(target_valid, model_rf_upsc.predict(features_valid_scaled))"
   ]
  },
  {
   "cell_type": "code",
   "execution_count": 68,
   "metadata": {},
   "outputs": [
    {
     "name": "stdout",
     "output_type": "stream",
     "text": [
      "0.8523196182046342\n"
     ]
    }
   ],
   "source": [
    "probabilities_valid = model_rf_upsc.predict_proba(features_valid_scaled)\n",
    "probabilities_one_valid = probabilities_valid[:, 1]\n",
    "\n",
    "auc_roc = roc_auc_score(target_valid, probabilities_one_valid)\n",
    "print(auc_roc)"
   ]
  },
  {
   "cell_type": "code",
   "execution_count": 69,
   "metadata": {},
   "outputs": [
    {
     "data": {
      "image/png": "[encoded data removed]",
      "text/plain": [
       "<Figure size 432x288 with 1 Axes>"
      ]
     },
     "metadata": {
      "needs_background": "light"
     },
     "output_type": "display_data"
    }
   ],
   "source": [
    "fpr, tpr, thresholds = roc_curve(target_valid, probabilities_one_valid) \n",
    "\n",
    "plt.figure()\n",
    "\n",
    "plt.plot([0, 1], [0, 1], linestyle='--')\n",
    "plt.plot(fpr, tpr)\n",
    "plt.xlim([0.0, 1.0])\n",
    "plt.ylim([0.0, 1.0])\n",
    "plt.xlabel('False Positive Rate')\n",
    "plt.ylabel('True Positive Rate')\n",
    "plt.title('ROC-кривая')\n",
    "plt.show()"
   ]
  },
  {
   "cell_type": "markdown",
   "metadata": {},
   "source": [
    "##### Downsampling"
   ]
  },
  {
   "cell_type": "code",
   "execution_count": 70,
   "metadata": {},
   "outputs": [],
   "source": [
    "def downsample(features, target, fraction):\n",
    "    features_zeros = features[target == 0]\n",
    "    features_ones = features[target == 1]\n",
    "    target_zeros = target[target == 0]\n",
    "    target_ones = target[target == 1]\n",
    "\n",
    "    features_downsampled = pd.concat(\n",
    "        [features_zeros.sample(frac=fraction, random_state=12345)] + [features_ones])\n",
    "    target_downsampled = pd.concat(\n",
    "        [target_zeros.sample(frac=fraction, random_state=12345)] + [target_ones])\n",
    "    \n",
    "    features_downsampled, target_downsampled = shuffle(\n",
    "        features_downsampled, target_downsampled, random_state=12345)\n",
    "    \n",
    "    return features_downsampled, target_downsampled"
   ]
  },
  {
   "cell_type": "code",
   "execution_count": 71,
   "metadata": {},
   "outputs": [],
   "source": [
    "features_downsampled_train, target_downsampled_train = downsample(features_train_scaled, target_train, 1/imbalance_coef)"
   ]
  },
  {
   "cell_type": "code",
   "execution_count": 72,
   "metadata": {},
   "outputs": [],
   "source": [
    "def score_model_downsampled(model, params, cv=None):\n",
    "    if cv is None:\n",
    "        cv = KFold(n_splits=5, random_state=42)\n",
    "    scores = []\n",
    "\n",
    "    for train_fold_index, val_fold_index in cv.split(features_train_scaled, target_train):\n",
    "        X_train_fold, X_val_fold, y_train_fold, y_val_fold = train_test_split(features_train_scaled, target_train, \n",
    "                                                                              test_size=0.4, \n",
    "                                                                              random_state=12345)\n",
    "        \n",
    "        \n",
    "        \n",
    "\n",
    "        X_train_fold_downsample, y_train_fold_downsample = downsample(X_train_fold, y_train_fold, 1/imbalance_coef)\n",
    "        model_obj = model(**params).fit(X_train_fold_downsample, y_train_fold_downsample)\n",
    "        score = f1_score(model_obj.predict(X_val_fold), y_val_fold)\n",
    "        scores.append(score)\n",
    "    return np.array(scores)"
   ]
  },
  {
   "cell_type": "code",
   "execution_count": 73,
   "metadata": {},
   "outputs": [],
   "source": [
    "score_tracker_downsampled = []\n",
    "for n_estimators in param_grid['n_estimators']:\n",
    "    for max_depth in param_grid['max_depth']:\n",
    "        example_params = {\n",
    "            'n_estimators': n_estimators,\n",
    "            'max_depth': max_depth,\n",
    "            'random_state': 12345\n",
    "        }\n",
    "        example_params['f1'] = score_model_downsampled(RandomForestClassifier,example_params, cv=kf).mean()\n",
    "        score_tracker_downsampled.append(example_params)"
   ]
  },
  {
   "cell_type": "code",
   "execution_count": 74,
   "metadata": {},
   "outputs": [
    {
     "data": {
      "text/plain": [
       "[{'n_estimators': 50,\n",
       "  'max_depth': 15,\n",
       "  'random_state': 12345,\n",
       "  'f1': 0.6231469440832249},\n",
       " {'n_estimators': 40,\n",
       "  'max_depth': 13,\n",
       "  'random_state': 12345,\n",
       "  'f1': 0.6231077759089144},\n",
       " {'n_estimators': 50,\n",
       "  'max_depth': 13,\n",
       "  'random_state': 12345,\n",
       "  'f1': 0.6219512195121951},\n",
       " {'n_estimators': 40,\n",
       "  'max_depth': 15,\n",
       "  'random_state': 12345,\n",
       "  'f1': 0.6212357217030114},\n",
       " {'n_estimators': 30,\n",
       "  'max_depth': 15,\n",
       "  'random_state': 12345,\n",
       "  'f1': 0.6184261532497739},\n",
       " {'n_estimators': 40,\n",
       "  'max_depth': 11,\n",
       "  'random_state': 12345,\n",
       "  'f1': 0.6171147880041365},\n",
       " {'n_estimators': 30,\n",
       "  'max_depth': 13,\n",
       "  'random_state': 12345,\n",
       "  'f1': 0.6158820486290739},\n",
       " {'n_estimators': 50,\n",
       "  'max_depth': 11,\n",
       "  'random_state': 12345,\n",
       "  'f1': 0.6157800051400668},\n",
       " {'n_estimators': 30,\n",
       "  'max_depth': 11,\n",
       "  'random_state': 12345,\n",
       "  'f1': 0.6141487431977196},\n",
       " {'n_estimators': 20,\n",
       "  'max_depth': 15,\n",
       "  'random_state': 12345,\n",
       "  'f1': 0.6121815595499805},\n",
       " {'n_estimators': 20,\n",
       "  'max_depth': 11,\n",
       "  'random_state': 12345,\n",
       "  'f1': 0.6105670103092784},\n",
       " {'n_estimators': 30,\n",
       "  'max_depth': 9,\n",
       "  'random_state': 12345,\n",
       "  'f1': 0.6105128205128205},\n",
       " {'n_estimators': 20,\n",
       "  'max_depth': 13,\n",
       "  'random_state': 12345,\n",
       "  'f1': 0.610303494006631},\n",
       " {'n_estimators': 40,\n",
       "  'max_depth': 9,\n",
       "  'random_state': 12345,\n",
       "  'f1': 0.6089974293059125},\n",
       " {'n_estimators': 50,\n",
       "  'max_depth': 9,\n",
       "  'random_state': 12345,\n",
       "  'f1': 0.6082381624534838},\n",
       " {'n_estimators': 20,\n",
       "  'max_depth': 9,\n",
       "  'random_state': 12345,\n",
       "  'f1': 0.6066752246469833},\n",
       " {'n_estimators': 10,\n",
       "  'max_depth': 13,\n",
       "  'random_state': 12345,\n",
       "  'f1': 0.6062951496388028},\n",
       " {'n_estimators': 10,\n",
       "  'max_depth': 15,\n",
       "  'random_state': 12345,\n",
       "  'f1': 0.6024659312134978},\n",
       " {'n_estimators': 50,\n",
       "  'max_depth': 7,\n",
       "  'random_state': 12345,\n",
       "  'f1': 0.6018969495001282},\n",
       " {'n_estimators': 10,\n",
       "  'max_depth': 11,\n",
       "  'random_state': 12345,\n",
       "  'f1': 0.6013005227591484},\n",
       " {'n_estimators': 40,\n",
       "  'max_depth': 7,\n",
       "  'random_state': 12345,\n",
       "  'f1': 0.6012820512820513},\n",
       " {'n_estimators': 30,\n",
       "  'max_depth': 7,\n",
       "  'random_state': 12345,\n",
       "  'f1': 0.6006895671050951},\n",
       " {'n_estimators': 10,\n",
       "  'max_depth': 9,\n",
       "  'random_state': 12345,\n",
       "  'f1': 0.6005069708491763},\n",
       " {'n_estimators': 10,\n",
       "  'max_depth': 7,\n",
       "  'random_state': 12345,\n",
       "  'f1': 0.5935385008300345},\n",
       " {'n_estimators': 20,\n",
       "  'max_depth': 7,\n",
       "  'random_state': 12345,\n",
       "  'f1': 0.5928671865013423},\n",
       " {'n_estimators': 20,\n",
       "  'max_depth': 5,\n",
       "  'random_state': 12345,\n",
       "  'f1': 0.5880320789636028},\n",
       " {'n_estimators': 50,\n",
       "  'max_depth': 5,\n",
       "  'random_state': 12345,\n",
       "  'f1': 0.5863799283154122},\n",
       " {'n_estimators': 30,\n",
       "  'max_depth': 5,\n",
       "  'random_state': 12345,\n",
       "  'f1': 0.5785315985130113},\n",
       " {'n_estimators': 40,\n",
       "  'max_depth': 5,\n",
       "  'random_state': 12345,\n",
       "  'f1': 0.5758170689456057},\n",
       " {'n_estimators': 10,\n",
       "  'max_depth': 5,\n",
       "  'random_state': 12345,\n",
       "  'f1': 0.5610062893081761}]"
      ]
     },
     "execution_count": 74,
     "metadata": {},
     "output_type": "execute_result"
    }
   ],
   "source": [
    "sorted(score_tracker_downsampled, key=lambda x: x['f1'], reverse=True)"
   ]
  },
  {
   "cell_type": "code",
   "execution_count": 75,
   "metadata": {},
   "outputs": [
    {
     "data": {
      "text/plain": [
       "0.6252104883329324"
      ]
     },
     "execution_count": 75,
     "metadata": {},
     "output_type": "execute_result"
    }
   ],
   "source": [
    "model_RF_dwns = RandomForestClassifier(n_estimators=50, max_depth=15, random_state=12345)\n",
    "model_RF_dwns.fit(features_downsampled_train, target_downsampled_train)\n",
    "f1_score(target_valid, model_RF_dwns.predict(features_valid_scaled))"
   ]
  },
  {
   "cell_type": "code",
   "execution_count": 76,
   "metadata": {},
   "outputs": [
    {
     "name": "stdout",
     "output_type": "stream",
     "text": [
      "0.8494160314792769\n"
     ]
    }
   ],
   "source": [
    "probabilities_valid = model_RF_dwns.predict_proba(features_valid_scaled)\n",
    "probabilities_one_valid = probabilities_valid[:, 1]\n",
    "\n",
    "auc_roc = roc_auc_score(target_valid, probabilities_one_valid)\n",
    "print(auc_roc)"
   ]
  },
  {
   "cell_type": "code",
   "execution_count": 77,
   "metadata": {},
   "outputs": [
    {
     "data": {
      "image/png": "[encoded data removed]",
      "text/plain": [
       "<Figure size 432x288 with 1 Axes>"
      ]
     },
     "metadata": {
      "needs_background": "light"
     },
     "output_type": "display_data"
    }
   ],
   "source": [
    "fpr, tpr, thresholds = roc_curve(target_valid, probabilities_one_valid) \n",
    "\n",
    "plt.figure()\n",
    "\n",
    "plt.plot([0, 1], [0, 1], linestyle='--')\n",
    "plt.plot(fpr, tpr)\n",
    "plt.xlim([0.0, 1.0])\n",
    "plt.ylim([0.0, 1.0])\n",
    "plt.xlabel('False Positive Rate')\n",
    "plt.ylabel('True Positive Rate')\n",
    "plt.title('ROC-кривая')\n",
    "plt.show()"
   ]
  },
  {
   "cell_type": "markdown",
   "metadata": {},
   "source": [
    "Таким образом, максимальное значение f1 удалось достичь в модели с балансным весом классов. "
   ]
  },
  {
   "cell_type": "markdown",
   "metadata": {},
   "source": [
    "Проверка на тестовом датасете и подсчет прибыли с учетом модели"
   ]
  },
  {
   "cell_type": "code",
   "execution_count": 78,
   "metadata": {},
   "outputs": [
    {
     "name": "stdout",
     "output_type": "stream",
     "text": [
      "Accuracy: 0.7270069987649238\n",
      "F1: 0.5561282549032733\n"
     ]
    }
   ],
   "source": [
    "predictions = model_RF_balanced.predict(features_test_scaled)\n",
    "\n",
    "print(\"F1:\", f1_score(predictions, target_test))"
   ]
  },
  {
   "cell_type": "code",
   "execution_count": 79,
   "metadata": {},
   "outputs": [
    {
     "name": "stdout",
     "output_type": "stream",
     "text": [
      "0.7681483465925809\n"
     ]
    }
   ],
   "source": [
    "probabilities_test = model_RF_balanced.predict_proba(features_test_scaled)\n",
    "probabilities_one_test = probabilities_test[:, 1]\n",
    "\n",
    "auc_roc = roc_auc_score(target_test, probabilities_one_test)\n",
    "print(auc_roc)"
   ]
  },
  {
   "cell_type": "code",
   "execution_count": 80,
   "metadata": {},
   "outputs": [
    {
     "data": {
      "image/png": "[encoded data removed]",
      "text/plain": [
       "<Figure size 432x288 with 1 Axes>"
      ]
     },
     "metadata": {
      "needs_background": "light"
     },
     "output_type": "display_data"
    }
   ],
   "source": [
    "fpr, tpr, thresholds = roc_curve(target_test, probabilities_one_test) \n",
    "\n",
    "plt.figure()\n",
    "\n",
    "plt.plot([0, 1], [0, 1], linestyle='--')\n",
    "plt.plot(fpr, tpr)\n",
    "plt.xlim([0.0, 1.0])\n",
    "plt.ylim([0.0, 1.0])\n",
    "plt.xlabel('False Positive Rate')\n",
    "plt.ylabel('True Positive Rate')\n",
    "plt.title('ROC-кривая')\n",
    "plt.show()"
   ]
  },
  {
   "cell_type": "code",
   "execution_count": 81,
   "metadata": {},
   "outputs": [],
   "source": [
    "hotel_test_revenue['modeling'] = predictions"
   ]
  },
  {
   "cell_type": "markdown",
   "metadata": {},
   "source": [
    "Составим две функции - первая посчитает возможную прибыль от внедрения нашей модели с учетом депозита 80%, а вторая - возможную прибыль от внедрения идеальной модели с учетом депозита 80%"
   ]
  },
  {
   "cell_type": "code",
   "execution_count": 82,
   "metadata": {},
   "outputs": [],
   "source": [
    "def revenue_model(row):\n",
    "    price = [value[0] for key, value in category.items() if key == row['reserved_room_type']]\n",
    "    expense = [value[1] for key, value in category.items() if key == row['reserved_room_type']]\n",
    "    cancel = row['modeling']\n",
    "    total_nights = row['total_nights']\n",
    "    season = row['season_margin']\n",
    "    if cancel == 0:\n",
    "        revenue =  int(''.join(map(str, price)))*total_nights*season - int(''.join(map(str, expense)))*math.ceil(total_nights/2)\n",
    "    else:\n",
    "        revenue = int(''.join(map(str, price)))*0.8*season-int(''.join(map(str, expense)))\n",
    "        \n",
    "    return revenue\n",
    "\n",
    "hotel_test_revenue['revenue_model'] = hotel_test_revenue.apply(revenue_model, axis=1) \n",
    "\n",
    "def revenue_ideal_model(row):\n",
    "    price = [value[0] for key, value in category.items() if key == row['reserved_room_type']]\n",
    "    expense = [value[1] for key, value in category.items() if key == row['reserved_room_type']]\n",
    "    cancel = row['is_canceled']\n",
    "    total_nights = row['total_nights']\n",
    "    season = row['season_margin']\n",
    "    if cancel == 0:\n",
    "        revenue =  int(''.join(map(str, price)))*total_nights*season - int(''.join(map(str, expense)))*math.ceil(total_nights/2)\n",
    "    else:\n",
    "        revenue = int(''.join(map(str, price)))*0.8*season-int(''.join(map(str, expense)))\n",
    "        \n",
    "    return revenue\n",
    "\n",
    "hotel_test_revenue['revenue_model'] = hotel_test_revenue.apply(revenue_model, axis=1) \n",
    "hotel_test_revenue['revenue_ideal_model'] = hotel_test_revenue.apply(revenue_ideal_model, axis=1) \n"
   ]
  },
  {
   "cell_type": "code",
   "execution_count": 83,
   "metadata": {},
   "outputs": [
    {
     "data": {
      "text/html": [
       "<div>\n",
       "<style scoped>\n",
       "    .dataframe tbody tr th:only-of-type {\n",
       "        vertical-align: middle;\n",
       "    }\n",
       "\n",
       "    .dataframe tbody tr th {\n",
       "        vertical-align: top;\n",
       "    }\n",
       "\n",
       "    .dataframe thead th {\n",
       "        text-align: right;\n",
       "    }\n",
       "</style>\n",
       "<table border=\"1\" class=\"dataframe\">\n",
       "  <thead>\n",
       "    <tr style=\"text-align: right;\">\n",
       "      <th></th>\n",
       "      <th>revenue</th>\n",
       "    </tr>\n",
       "    <tr>\n",
       "      <th>arrival_date_year</th>\n",
       "      <th></th>\n",
       "    </tr>\n",
       "  </thead>\n",
       "  <tbody>\n",
       "    <tr>\n",
       "      <th>2017</th>\n",
       "      <td>42163160.0</td>\n",
       "    </tr>\n",
       "  </tbody>\n",
       "</table>\n",
       "</div>"
      ],
      "text/plain": [
       "                      revenue\n",
       "arrival_date_year            \n",
       "2017               42163160.0"
      ]
     },
     "metadata": {},
     "output_type": "display_data"
    },
    {
     "data": {
      "text/html": [
       "<div>\n",
       "<style scoped>\n",
       "    .dataframe tbody tr th:only-of-type {\n",
       "        vertical-align: middle;\n",
       "    }\n",
       "\n",
       "    .dataframe tbody tr th {\n",
       "        vertical-align: top;\n",
       "    }\n",
       "\n",
       "    .dataframe thead th {\n",
       "        text-align: right;\n",
       "    }\n",
       "</style>\n",
       "<table border=\"1\" class=\"dataframe\">\n",
       "  <thead>\n",
       "    <tr style=\"text-align: right;\">\n",
       "      <th></th>\n",
       "      <th>revenue_ideal_model</th>\n",
       "    </tr>\n",
       "    <tr>\n",
       "      <th>arrival_date_year</th>\n",
       "      <th></th>\n",
       "    </tr>\n",
       "  </thead>\n",
       "  <tbody>\n",
       "    <tr>\n",
       "      <th>2017</th>\n",
       "      <td>48567128.0</td>\n",
       "    </tr>\n",
       "  </tbody>\n",
       "</table>\n",
       "</div>"
      ],
      "text/plain": [
       "                   revenue_ideal_model\n",
       "arrival_date_year                     \n",
       "2017                        48567128.0"
      ]
     },
     "metadata": {},
     "output_type": "display_data"
    },
    {
     "data": {
      "text/html": [
       "<div>\n",
       "<style scoped>\n",
       "    .dataframe tbody tr th:only-of-type {\n",
       "        vertical-align: middle;\n",
       "    }\n",
       "\n",
       "    .dataframe tbody tr th {\n",
       "        vertical-align: top;\n",
       "    }\n",
       "\n",
       "    .dataframe thead th {\n",
       "        text-align: right;\n",
       "    }\n",
       "</style>\n",
       "<table border=\"1\" class=\"dataframe\">\n",
       "  <thead>\n",
       "    <tr style=\"text-align: right;\">\n",
       "      <th></th>\n",
       "      <th>revenue_model</th>\n",
       "    </tr>\n",
       "    <tr>\n",
       "      <th>arrival_date_year</th>\n",
       "      <th></th>\n",
       "    </tr>\n",
       "  </thead>\n",
       "  <tbody>\n",
       "    <tr>\n",
       "      <th>2017</th>\n",
       "      <td>49346396.0</td>\n",
       "    </tr>\n",
       "  </tbody>\n",
       "</table>\n",
       "</div>"
      ],
      "text/plain": [
       "                   revenue_model\n",
       "arrival_date_year               \n",
       "2017                  49346396.0"
      ]
     },
     "metadata": {},
     "output_type": "display_data"
    }
   ],
   "source": [
    "revenue_test_set = hotel_test_revenue.groupby(['arrival_date_year']).agg({'revenue': 'sum'})\n",
    "revenue_test_set_model = hotel_test_revenue.groupby(['arrival_date_year']).agg({'revenue_model': 'sum'})\n",
    "revenue_test_set_ideal_model = hotel_test_revenue.groupby(['arrival_date_year']).agg({'revenue_ideal_model': 'sum'})\n",
    "display(revenue_test_set)\n",
    "display(revenue_test_set_ideal_model)\n",
    "display(revenue_test_set_model)"
   ]
  },
  {
   "cell_type": "code",
   "execution_count": 84,
   "metadata": {},
   "outputs": [
    {
     "name": "stdout",
     "output_type": "stream",
     "text": [
      "[[13505  3527]\n",
      " [ 3104  4154]]\n"
     ]
    }
   ],
   "source": [
    "print(confusion_matrix(predictions, target_test))"
   ]
  },
  {
   "cell_type": "markdown",
   "metadata": {},
   "source": [
    "### Шаг 5. Опишите портрет «ненадёжного» клиента"
   ]
  },
  {
   "cell_type": "markdown",
   "metadata": {},
   "source": [
    "Исходя из проведенного анализа данных мы видим, что отменяется примерно четверть всех бронирований. \n",
    "\n",
    "Чаще всего бронирования отменяют клиенты из азиатских и африканских стран, в то время как европейские клиенты более надежны.\n",
    "\n",
    "Чаще других отменяются бронирования на 3 или 4 ночи, кроме того, большое количество отмен выпадает на клиентов путешествующих без детей, что может говорить о том, что клиенты, возможно, планируют остановиться в отеле во время рабочего визита. Можно порекомендовать заказчику добавить поле с выбором характера поездки - рабочая поездка или отпуск. \n",
    "\n",
    "Также мы видим рост числа отмен к лету и далее спад, и снова всплеск в декабре - можно объяснить сезонностью отпусков и поездками на новогодние каникулы. "
   ]
  },
  {
   "cell_type": "code",
   "execution_count": 85,
   "metadata": {},
   "outputs": [
    {
     "data": {
      "text/html": [
       "<div>\n",
       "<style scoped>\n",
       "    .dataframe tbody tr th:only-of-type {\n",
       "        vertical-align: middle;\n",
       "    }\n",
       "\n",
       "    .dataframe tbody tr th {\n",
       "        vertical-align: top;\n",
       "    }\n",
       "\n",
       "    .dataframe thead th {\n",
       "        text-align: right;\n",
       "    }\n",
       "</style>\n",
       "<table border=\"1\" class=\"dataframe\">\n",
       "  <thead>\n",
       "    <tr style=\"text-align: right;\">\n",
       "      <th></th>\n",
       "      <th>feature</th>\n",
       "      <th>importance</th>\n",
       "    </tr>\n",
       "  </thead>\n",
       "  <tbody>\n",
       "    <tr>\n",
       "      <th>0</th>\n",
       "      <td>lead_time</td>\n",
       "      <td>0.195245</td>\n",
       "    </tr>\n",
       "    <tr>\n",
       "      <th>1</th>\n",
       "      <td>required_car_parking_spaces</td>\n",
       "      <td>0.084808</td>\n",
       "    </tr>\n",
       "    <tr>\n",
       "      <th>2</th>\n",
       "      <td>total_of_special_requests</td>\n",
       "      <td>0.074917</td>\n",
       "    </tr>\n",
       "    <tr>\n",
       "      <th>3</th>\n",
       "      <td>arrival_date_week_number</td>\n",
       "      <td>0.059555</td>\n",
       "    </tr>\n",
       "    <tr>\n",
       "      <th>4</th>\n",
       "      <td>region_Southern Europe</td>\n",
       "      <td>0.054243</td>\n",
       "    </tr>\n",
       "    <tr>\n",
       "      <th>5</th>\n",
       "      <td>previous_cancellations</td>\n",
       "      <td>0.048252</td>\n",
       "    </tr>\n",
       "    <tr>\n",
       "      <th>6</th>\n",
       "      <td>arrival_date_day_of_month</td>\n",
       "      <td>0.045508</td>\n",
       "    </tr>\n",
       "    <tr>\n",
       "      <th>7</th>\n",
       "      <td>arrival_date_month</td>\n",
       "      <td>0.041266</td>\n",
       "    </tr>\n",
       "    <tr>\n",
       "      <th>8</th>\n",
       "      <td>customer_type_Transient</td>\n",
       "      <td>0.036759</td>\n",
       "    </tr>\n",
       "    <tr>\n",
       "      <th>9</th>\n",
       "      <td>region_Western Europe</td>\n",
       "      <td>0.034577</td>\n",
       "    </tr>\n",
       "  </tbody>\n",
       "</table>\n",
       "</div>"
      ],
      "text/plain": [
       "                       feature  importance\n",
       "0                    lead_time    0.195245\n",
       "1  required_car_parking_spaces    0.084808\n",
       "2    total_of_special_requests    0.074917\n",
       "3     arrival_date_week_number    0.059555\n",
       "4       region_Southern Europe    0.054243\n",
       "5       previous_cancellations    0.048252\n",
       "6    arrival_date_day_of_month    0.045508\n",
       "7           arrival_date_month    0.041266\n",
       "8      customer_type_Transient    0.036759\n",
       "9        region_Western Europe    0.034577"
      ]
     },
     "execution_count": 85,
     "metadata": {},
     "output_type": "execute_result"
    }
   ],
   "source": [
    "importances = model_RF_balanced.feature_importances_\n",
    "\n",
    "feature_list = list(features_train_scaled.columns)\n",
    "\n",
    "feature_results = pd.DataFrame({'feature': feature_list,'importance': importances})\n",
    "\n",
    "feature_results = feature_results.sort_values('importance',ascending = False).reset_index(drop=True)\n",
    "\n",
    "feature_results.head(10)"
   ]
  },
  {
   "cell_type": "markdown",
   "metadata": {},
   "source": [
    "Мы провели оценку важности признаков, три наиболее значимых - количество дней между датой бронирования и датой прибытия, необходимость места для автомобиля и количество специальных отметок"
   ]
  },
  {
   "cell_type": "markdown",
   "metadata": {},
   "source": [
    "### Шаг 6. Напишите общий вывод"
   ]
  },
  {
   "cell_type": "markdown",
   "metadata": {},
   "source": [
    "1. Проведен анализ данных. Выявлен дисбаланс данных ~ 3 к 1.\n",
    "2. Провели подготовку признаков используя методы OHE и масштабирования\n",
    "3. Исселодвали модели на дисбалансных данных. Лучший результат показала модель Случайный лес. f1 = 0.54\n",
    "4. Провели увеличение и уменьшение выборки. Метод увеличения оказался более эффективным. f1 = 0.63. Однако наибольшую эффективность показало использование балансного веса класса - f1 = 0.65\n",
    "5. На тестовой выборке результат f1 составил 0.56. Показатель AUC-ROC = 0.77\n",
    "6. Посчитали фактическую прибыль за неполный 2017 год - 42.1 млн руб. В случае, если клиент решит брать комиссию 80%, и введет модель, то в идельном случае, при котором модель на 100% угадывает факт отмены - то прибыль составила бы 48.6 млн руб. При внедрении нашей модели прибыль составит 49.3 млн руб. По условию задачи: На разработку системы прогнозирования заложен бюджет — 400 000. При этом необходимо учесть, что внедрение модели должно окупиться за год. Затраты на разработку должны быть меньше той выручки, которую система принесёт компании. Исходя из этого, мы можем говорить, что внедрение данной модели принесло бы выручку в размере 6.5 млн руб. Погрешность нашей модели в данном случае составила 1,6%. Таким образом, внедрение данной модели окупится за один год."
   ]
  }
 ],
 "metadata": {
  "ExecuteTimeLog": [
   {
    "duration": 1624,
    "start_time": "2022-04-26T11:04:00.010Z"
   },
   {
    "duration": 173,
    "start_time": "2022-04-26T11:04:41.569Z"
   },
   {
    "duration": 86,
    "start_time": "2022-04-26T11:05:22.283Z"
   },
   {
    "duration": 100,
    "start_time": "2022-04-26T11:05:56.493Z"
   },
   {
    "duration": 72,
    "start_time": "2022-04-26T11:06:06.614Z"
   },
   {
    "duration": 116,
    "start_time": "2022-04-26T11:12:28.734Z"
   },
   {
    "duration": 70,
    "start_time": "2022-04-26T11:12:47.729Z"
   },
   {
    "duration": 96291,
    "start_time": "2022-04-26T11:12:50.606Z"
   },
   {
    "duration": 25,
    "start_time": "2022-04-26T11:16:05.810Z"
   },
   {
    "duration": 22,
    "start_time": "2022-04-26T11:16:12.148Z"
   },
   {
    "duration": 143,
    "start_time": "2022-04-26T11:55:00.383Z"
   },
   {
    "duration": 1546,
    "start_time": "2022-04-26T13:31:38.699Z"
   },
   {
    "duration": 203,
    "start_time": "2022-04-26T13:31:40.247Z"
   },
   {
    "duration": 22,
    "start_time": "2022-04-26T13:31:40.452Z"
   },
   {
    "duration": 81,
    "start_time": "2022-04-26T13:31:40.476Z"
   },
   {
    "duration": 122,
    "start_time": "2022-04-26T13:31:40.559Z"
   },
   {
    "duration": 65,
    "start_time": "2022-04-26T13:31:40.682Z"
   },
   {
    "duration": 148,
    "start_time": "2022-04-26T13:31:40.749Z"
   },
   {
    "duration": 81,
    "start_time": "2022-04-26T13:45:45.947Z"
   },
   {
    "duration": 79,
    "start_time": "2022-04-26T13:45:52.517Z"
   },
   {
    "duration": 119,
    "start_time": "2022-04-27T10:38:27.699Z"
   },
   {
    "duration": 24,
    "start_time": "2022-04-27T10:39:53.095Z"
   },
   {
    "duration": 18,
    "start_time": "2022-04-27T10:39:59.714Z"
   },
   {
    "duration": 21,
    "start_time": "2022-04-27T10:40:02.681Z"
   },
   {
    "duration": 1759,
    "start_time": "2022-04-27T10:42:11.942Z"
   },
   {
    "duration": 1989,
    "start_time": "2022-04-27T10:42:20.508Z"
   },
   {
    "duration": 1363,
    "start_time": "2022-04-27T10:43:06.633Z"
   },
   {
    "duration": 1459,
    "start_time": "2022-04-27T10:43:14.850Z"
   },
   {
    "duration": 210,
    "start_time": "2022-04-27T10:43:16.312Z"
   },
   {
    "duration": 24,
    "start_time": "2022-04-27T10:43:16.524Z"
   },
   {
    "duration": 93,
    "start_time": "2022-04-27T10:43:16.550Z"
   },
   {
    "duration": 495,
    "start_time": "2022-04-27T10:43:16.646Z"
   },
   {
    "duration": 67,
    "start_time": "2022-04-27T10:43:17.142Z"
   },
   {
    "duration": 142,
    "start_time": "2022-04-27T10:43:17.211Z"
   },
   {
    "duration": 1523,
    "start_time": "2022-04-27T10:43:17.355Z"
   },
   {
    "duration": 1519,
    "start_time": "2022-04-27T10:44:02.976Z"
   },
   {
    "duration": 1338,
    "start_time": "2022-04-27T10:44:20.734Z"
   },
   {
    "duration": 1325,
    "start_time": "2022-04-27T10:44:26.814Z"
   },
   {
    "duration": 1645,
    "start_time": "2022-04-27T10:49:15.018Z"
   },
   {
    "duration": 169,
    "start_time": "2022-04-27T10:49:16.665Z"
   },
   {
    "duration": 22,
    "start_time": "2022-04-27T10:49:16.836Z"
   },
   {
    "duration": 92,
    "start_time": "2022-04-27T10:49:16.859Z"
   },
   {
    "duration": 121,
    "start_time": "2022-04-27T10:49:16.953Z"
   },
   {
    "duration": 73,
    "start_time": "2022-04-27T10:49:17.077Z"
   },
   {
    "duration": 170,
    "start_time": "2022-04-27T10:49:17.152Z"
   },
   {
    "duration": 126,
    "start_time": "2022-04-27T10:49:17.325Z"
   },
   {
    "duration": 17,
    "start_time": "2022-04-27T10:49:29.727Z"
   },
   {
    "duration": 126,
    "start_time": "2022-04-27T10:50:38.123Z"
   },
   {
    "duration": 123,
    "start_time": "2022-04-27T10:51:57.112Z"
   },
   {
    "duration": 39,
    "start_time": "2022-04-27T10:52:16.671Z"
   },
   {
    "duration": 151,
    "start_time": "2022-04-27T10:52:32.229Z"
   },
   {
    "duration": 248,
    "start_time": "2022-04-27T10:53:23.704Z"
   },
   {
    "duration": 152,
    "start_time": "2022-04-27T10:56:41.338Z"
   },
   {
    "duration": 80,
    "start_time": "2022-04-27T10:57:15.760Z"
   },
   {
    "duration": 129,
    "start_time": "2022-04-27T10:57:25.932Z"
   },
   {
    "duration": 155,
    "start_time": "2022-04-27T10:57:34.476Z"
   },
   {
    "duration": 144,
    "start_time": "2022-04-27T10:58:56.839Z"
   },
   {
    "duration": 147,
    "start_time": "2022-04-27T10:59:08.944Z"
   },
   {
    "duration": 202,
    "start_time": "2022-04-27T11:00:51.242Z"
   },
   {
    "duration": 85,
    "start_time": "2022-04-27T11:17:42.126Z"
   },
   {
    "duration": 155,
    "start_time": "2022-04-27T11:18:41.200Z"
   },
   {
    "duration": 219,
    "start_time": "2022-04-27T11:19:06.978Z"
   },
   {
    "duration": 150,
    "start_time": "2022-04-27T11:19:16.604Z"
   },
   {
    "duration": 4532,
    "start_time": "2022-04-27T13:20:55.239Z"
   },
   {
    "duration": 157,
    "start_time": "2022-04-27T13:22:34.611Z"
   },
   {
    "duration": 308,
    "start_time": "2022-04-27T13:22:39.976Z"
   },
   {
    "duration": 14,
    "start_time": "2022-04-27T13:25:32.566Z"
   },
   {
    "duration": 10,
    "start_time": "2022-04-27T13:25:41.403Z"
   },
   {
    "duration": 55,
    "start_time": "2022-04-27T13:26:38.205Z"
   },
   {
    "duration": 63,
    "start_time": "2022-04-27T13:27:12.311Z"
   },
   {
    "duration": 66,
    "start_time": "2022-04-27T13:27:47.896Z"
   },
   {
    "duration": 241,
    "start_time": "2022-04-27T13:30:09.144Z"
   },
   {
    "duration": 14,
    "start_time": "2022-04-27T13:37:37.238Z"
   },
   {
    "duration": 84,
    "start_time": "2022-04-27T13:37:54.889Z"
   },
   {
    "duration": 92,
    "start_time": "2022-04-27T13:38:22.463Z"
   },
   {
    "duration": 63,
    "start_time": "2022-04-27T13:41:04.371Z"
   },
   {
    "duration": 61,
    "start_time": "2022-04-27T13:42:25.486Z"
   },
   {
    "duration": 53,
    "start_time": "2022-04-27T13:43:14.446Z"
   },
   {
    "duration": 248,
    "start_time": "2022-04-27T13:43:15.099Z"
   },
   {
    "duration": 265,
    "start_time": "2022-04-27T13:43:18.859Z"
   },
   {
    "duration": 120,
    "start_time": "2022-04-27T13:43:20.452Z"
   },
   {
    "duration": 125,
    "start_time": "2022-04-27T13:43:28.908Z"
   },
   {
    "duration": 166,
    "start_time": "2022-04-27T13:43:29.723Z"
   },
   {
    "duration": 229,
    "start_time": "2022-04-27T13:43:34.632Z"
   },
   {
    "duration": 15,
    "start_time": "2022-04-28T08:41:31.949Z"
   },
   {
    "duration": 7,
    "start_time": "2022-04-28T08:41:47.899Z"
   },
   {
    "duration": 164,
    "start_time": "2022-04-28T08:45:38.423Z"
   },
   {
    "duration": 19,
    "start_time": "2022-04-28T08:45:38.819Z"
   },
   {
    "duration": 206,
    "start_time": "2022-04-28T08:45:39.192Z"
   },
   {
    "duration": 91,
    "start_time": "2022-04-28T08:45:39.586Z"
   },
   {
    "duration": 68,
    "start_time": "2022-04-28T08:45:40.002Z"
   },
   {
    "duration": 7,
    "start_time": "2022-04-28T08:45:40.846Z"
   },
   {
    "duration": 59,
    "start_time": "2022-04-28T08:45:41.250Z"
   },
   {
    "duration": 238,
    "start_time": "2022-04-28T08:45:41.789Z"
   },
   {
    "duration": 22,
    "start_time": "2022-04-28T08:48:17.640Z"
   },
   {
    "duration": 21,
    "start_time": "2022-04-28T08:48:32.934Z"
   },
   {
    "duration": 20,
    "start_time": "2022-04-28T08:49:07.121Z"
   },
   {
    "duration": 22,
    "start_time": "2022-04-28T08:49:12.038Z"
   },
   {
    "duration": 6,
    "start_time": "2022-04-28T09:06:50.324Z"
   },
   {
    "duration": 6,
    "start_time": "2022-04-28T09:07:26.714Z"
   },
   {
    "duration": 130,
    "start_time": "2022-04-28T09:09:42.820Z"
   },
   {
    "duration": 99,
    "start_time": "2022-04-28T09:09:53.373Z"
   },
   {
    "duration": 6,
    "start_time": "2022-04-28T09:10:19.199Z"
   },
   {
    "duration": 45,
    "start_time": "2022-04-28T09:11:15.569Z"
   },
   {
    "duration": 40,
    "start_time": "2022-04-28T09:11:24.628Z"
   },
   {
    "duration": 42,
    "start_time": "2022-04-28T09:11:51.536Z"
   },
   {
    "duration": 14,
    "start_time": "2022-04-28T09:12:42.304Z"
   },
   {
    "duration": 7,
    "start_time": "2022-04-28T09:17:13.725Z"
   },
   {
    "duration": 4,
    "start_time": "2022-04-28T09:18:10.752Z"
   },
   {
    "duration": 3,
    "start_time": "2022-04-28T09:19:43.241Z"
   },
   {
    "duration": 15,
    "start_time": "2022-04-28T09:23:06.694Z"
   },
   {
    "duration": 294,
    "start_time": "2022-04-28T11:07:33.471Z"
   },
   {
    "duration": 307,
    "start_time": "2022-04-28T11:07:47.298Z"
   },
   {
    "duration": 283,
    "start_time": "2022-04-28T11:07:59.767Z"
   },
   {
    "duration": 4,
    "start_time": "2022-04-28T11:12:41.444Z"
   },
   {
    "duration": 3,
    "start_time": "2022-04-28T11:12:54.777Z"
   },
   {
    "duration": 4,
    "start_time": "2022-04-28T12:16:55.592Z"
   },
   {
    "duration": 259,
    "start_time": "2022-04-28T12:16:56.293Z"
   },
   {
    "duration": 14,
    "start_time": "2022-04-28T12:16:56.982Z"
   },
   {
    "duration": 265,
    "start_time": "2022-04-28T12:22:32.445Z"
   },
   {
    "duration": 21,
    "start_time": "2022-04-28T12:22:53.760Z"
   },
   {
    "duration": 262,
    "start_time": "2022-04-28T12:23:05.103Z"
   },
   {
    "duration": 20,
    "start_time": "2022-04-28T12:23:05.584Z"
   },
   {
    "duration": 26,
    "start_time": "2022-04-28T12:25:51.888Z"
   },
   {
    "duration": 11,
    "start_time": "2022-04-28T12:26:06.059Z"
   },
   {
    "duration": 28,
    "start_time": "2022-04-28T12:26:12.337Z"
   },
   {
    "duration": 278,
    "start_time": "2022-04-28T12:29:00.597Z"
   },
   {
    "duration": 30,
    "start_time": "2022-04-28T12:29:02.158Z"
   },
   {
    "duration": 5,
    "start_time": "2022-04-28T12:29:22.296Z"
   },
   {
    "duration": 28,
    "start_time": "2022-04-28T12:29:22.913Z"
   },
   {
    "duration": 7,
    "start_time": "2022-04-28T12:33:14.368Z"
   },
   {
    "duration": 47,
    "start_time": "2022-04-28T12:33:18.108Z"
   },
   {
    "duration": 62,
    "start_time": "2022-04-28T12:34:59.544Z"
   },
   {
    "duration": 1188,
    "start_time": "2022-04-28T12:35:22.556Z"
   },
   {
    "duration": 54,
    "start_time": "2022-04-28T12:35:35.806Z"
   },
   {
    "duration": 46,
    "start_time": "2022-04-28T12:36:02.858Z"
   },
   {
    "duration": 1371,
    "start_time": "2022-04-28T12:38:50.337Z"
   },
   {
    "duration": 30,
    "start_time": "2022-04-28T12:38:54.921Z"
   },
   {
    "duration": 39,
    "start_time": "2022-04-28T12:39:31.169Z"
   },
   {
    "duration": 1987,
    "start_time": "2022-04-28T12:41:21.122Z"
   },
   {
    "duration": 26,
    "start_time": "2022-04-28T12:41:23.111Z"
   },
   {
    "duration": 1979,
    "start_time": "2022-04-28T12:41:48.284Z"
   },
   {
    "duration": 25,
    "start_time": "2022-04-28T12:41:50.265Z"
   },
   {
    "duration": 2058,
    "start_time": "2022-04-28T12:49:07.917Z"
   },
   {
    "duration": 25,
    "start_time": "2022-04-28T12:49:10.761Z"
   },
   {
    "duration": 22,
    "start_time": "2022-04-28T12:51:02.202Z"
   },
   {
    "duration": 1987,
    "start_time": "2022-04-28T12:51:27.647Z"
   },
   {
    "duration": 21,
    "start_time": "2022-04-28T12:51:31.909Z"
   },
   {
    "duration": 1976,
    "start_time": "2022-04-28T12:52:16.608Z"
   },
   {
    "duration": 22,
    "start_time": "2022-04-28T12:52:18.587Z"
   },
   {
    "duration": 1933,
    "start_time": "2022-04-28T12:52:27.921Z"
   },
   {
    "duration": 21,
    "start_time": "2022-04-28T12:52:30.353Z"
   },
   {
    "duration": 1940,
    "start_time": "2022-04-28T12:52:45.404Z"
   },
   {
    "duration": 27,
    "start_time": "2022-04-28T12:52:47.347Z"
   },
   {
    "duration": 1944,
    "start_time": "2022-04-28T12:53:15.654Z"
   },
   {
    "duration": 19,
    "start_time": "2022-04-28T12:53:17.600Z"
   },
   {
    "duration": 27,
    "start_time": "2022-04-28T12:53:47.203Z"
   },
   {
    "duration": 21,
    "start_time": "2022-04-28T12:54:14.771Z"
   },
   {
    "duration": 1913,
    "start_time": "2022-04-28T12:54:19.230Z"
   },
   {
    "duration": 19,
    "start_time": "2022-04-28T12:54:21.145Z"
   },
   {
    "duration": 1950,
    "start_time": "2022-04-28T12:54:58.398Z"
   },
   {
    "duration": 23,
    "start_time": "2022-04-28T12:55:01.305Z"
   },
   {
    "duration": 1976,
    "start_time": "2022-04-28T12:56:31.622Z"
   },
   {
    "duration": 21,
    "start_time": "2022-04-28T12:56:33.600Z"
   },
   {
    "duration": 2032,
    "start_time": "2022-04-28T12:57:00.681Z"
   },
   {
    "duration": 22,
    "start_time": "2022-04-28T12:57:03.656Z"
   },
   {
    "duration": 5,
    "start_time": "2022-04-28T12:58:28.937Z"
   },
   {
    "duration": 2019,
    "start_time": "2022-04-28T12:58:42.984Z"
   },
   {
    "duration": 20,
    "start_time": "2022-04-28T12:58:47.288Z"
   },
   {
    "duration": 11,
    "start_time": "2022-04-28T13:00:46.104Z"
   },
   {
    "duration": 15,
    "start_time": "2022-04-28T15:51:20.572Z"
   },
   {
    "duration": 21,
    "start_time": "2022-04-28T15:51:26.024Z"
   },
   {
    "duration": 36,
    "start_time": "2022-04-28T15:51:44.755Z"
   },
   {
    "duration": 23,
    "start_time": "2022-04-28T15:51:53.901Z"
   },
   {
    "duration": 40,
    "start_time": "2022-04-28T15:51:54.508Z"
   },
   {
    "duration": 235,
    "start_time": "2022-04-28T15:51:56.971Z"
   },
   {
    "duration": 3,
    "start_time": "2022-04-28T15:52:23.134Z"
   },
   {
    "duration": 287,
    "start_time": "2022-04-28T15:52:24.433Z"
   },
   {
    "duration": 451,
    "start_time": "2022-04-28T15:52:38.286Z"
   },
   {
    "duration": 3538,
    "start_time": "2022-04-28T15:52:56.674Z"
   },
   {
    "duration": 14,
    "start_time": "2022-04-28T15:53:15.156Z"
   },
   {
    "duration": 10,
    "start_time": "2022-04-28T15:53:34.387Z"
   },
   {
    "duration": 11,
    "start_time": "2022-04-28T15:53:51.089Z"
   },
   {
    "duration": 209,
    "start_time": "2022-04-28T15:54:22.025Z"
   },
   {
    "duration": 350,
    "start_time": "2022-04-28T15:54:27.884Z"
   },
   {
    "duration": 176,
    "start_time": "2022-04-28T15:54:55.196Z"
   },
   {
    "duration": 32,
    "start_time": "2022-04-28T16:13:50.375Z"
   },
   {
    "duration": 40,
    "start_time": "2022-04-28T16:14:25.517Z"
   },
   {
    "duration": 32,
    "start_time": "2022-04-28T16:14:33.504Z"
   },
   {
    "duration": 36,
    "start_time": "2022-04-28T16:15:23.484Z"
   },
   {
    "duration": 12,
    "start_time": "2022-04-28T16:15:59.746Z"
   },
   {
    "duration": 30,
    "start_time": "2022-04-28T16:23:58.486Z"
   },
   {
    "duration": 32,
    "start_time": "2022-04-28T16:24:11.497Z"
   },
   {
    "duration": 189,
    "start_time": "2022-04-28T16:24:32.261Z"
   },
   {
    "duration": 87,
    "start_time": "2022-04-28T16:25:06.381Z"
   },
   {
    "duration": 78,
    "start_time": "2022-04-28T16:25:57.005Z"
   },
   {
    "duration": 17,
    "start_time": "2022-04-28T16:26:14.703Z"
   },
   {
    "duration": 30,
    "start_time": "2022-04-28T16:27:33.448Z"
   },
   {
    "duration": 18,
    "start_time": "2022-04-28T16:27:50.456Z"
   },
   {
    "duration": 16,
    "start_time": "2022-04-28T16:28:01.733Z"
   },
   {
    "duration": 21,
    "start_time": "2022-04-28T16:28:08.909Z"
   },
   {
    "duration": 74,
    "start_time": "2022-04-28T16:28:17.081Z"
   },
   {
    "duration": 19,
    "start_time": "2022-04-28T16:28:21.312Z"
   },
   {
    "duration": 58,
    "start_time": "2022-04-28T16:45:42.231Z"
   },
   {
    "duration": 30,
    "start_time": "2022-04-28T16:45:58.631Z"
   },
   {
    "duration": 78,
    "start_time": "2022-04-28T16:46:17.166Z"
   },
   {
    "duration": 7,
    "start_time": "2022-04-28T16:55:47.121Z"
   },
   {
    "duration": 4,
    "start_time": "2022-04-28T16:55:49.026Z"
   },
   {
    "duration": 444,
    "start_time": "2022-04-28T16:55:49.312Z"
   },
   {
    "duration": 3470,
    "start_time": "2022-04-28T16:55:49.758Z"
   },
   {
    "duration": 11,
    "start_time": "2022-04-28T16:55:53.230Z"
   },
   {
    "duration": 32,
    "start_time": "2022-04-28T16:55:53.243Z"
   },
   {
    "duration": 10,
    "start_time": "2022-04-28T16:55:53.278Z"
   },
   {
    "duration": 63,
    "start_time": "2022-04-28T16:55:55.160Z"
   },
   {
    "duration": 10,
    "start_time": "2022-04-28T16:55:55.629Z"
   },
   {
    "duration": 10,
    "start_time": "2022-04-28T16:56:04.060Z"
   },
   {
    "duration": 20,
    "start_time": "2022-04-28T16:56:10.467Z"
   },
   {
    "duration": 30,
    "start_time": "2022-04-28T16:59:03.134Z"
   },
   {
    "duration": 34,
    "start_time": "2022-04-28T16:59:06.118Z"
   },
   {
    "duration": 18,
    "start_time": "2022-04-28T17:01:00.969Z"
   },
   {
    "duration": 30,
    "start_time": "2022-04-28T17:01:01.426Z"
   },
   {
    "duration": 21,
    "start_time": "2022-04-29T17:25:50.692Z"
   },
   {
    "duration": 7,
    "start_time": "2022-04-29T17:36:06.592Z"
   },
   {
    "duration": 448,
    "start_time": "2022-04-29T17:36:33.963Z"
   },
   {
    "duration": 3317,
    "start_time": "2022-04-29T17:36:54.485Z"
   },
   {
    "duration": 11,
    "start_time": "2022-04-29T17:37:01.418Z"
   },
   {
    "duration": 19,
    "start_time": "2022-04-29T17:37:08.461Z"
   },
   {
    "duration": 10,
    "start_time": "2022-04-29T17:37:13.958Z"
   },
   {
    "duration": 64,
    "start_time": "2022-04-29T17:37:19.449Z"
   },
   {
    "duration": 20,
    "start_time": "2022-04-29T17:37:19.884Z"
   },
   {
    "duration": 26,
    "start_time": "2022-04-29T17:37:20.345Z"
   },
   {
    "duration": 22,
    "start_time": "2022-04-29T17:37:20.952Z"
   },
   {
    "duration": 1923,
    "start_time": "2022-04-29T17:37:30.771Z"
   },
   {
    "duration": 174,
    "start_time": "2022-04-29T17:37:32.696Z"
   },
   {
    "duration": 24,
    "start_time": "2022-04-29T17:37:32.872Z"
   },
   {
    "duration": 19,
    "start_time": "2022-04-29T17:37:32.898Z"
   },
   {
    "duration": 111,
    "start_time": "2022-04-29T17:37:32.920Z"
   },
   {
    "duration": 114,
    "start_time": "2022-04-29T17:37:33.033Z"
   },
   {
    "duration": 76,
    "start_time": "2022-04-29T17:37:33.149Z"
   },
   {
    "duration": 7,
    "start_time": "2022-04-29T17:37:33.226Z"
   },
   {
    "duration": 9,
    "start_time": "2022-04-29T17:37:33.235Z"
   },
   {
    "duration": 6,
    "start_time": "2022-04-29T17:37:33.246Z"
   },
   {
    "duration": 46,
    "start_time": "2022-04-29T17:37:33.253Z"
   },
   {
    "duration": 52,
    "start_time": "2022-04-29T17:37:33.301Z"
   },
   {
    "duration": 266,
    "start_time": "2022-04-29T17:37:33.355Z"
   },
   {
    "duration": 126,
    "start_time": "2022-04-29T17:37:33.624Z"
   },
   {
    "duration": 161,
    "start_time": "2022-04-29T17:37:33.751Z"
   },
   {
    "duration": 307,
    "start_time": "2022-04-29T17:37:33.914Z"
   },
   {
    "duration": 182,
    "start_time": "2022-04-29T17:37:34.224Z"
   },
   {
    "duration": 10,
    "start_time": "2022-04-29T17:37:34.408Z"
   },
   {
    "duration": 8,
    "start_time": "2022-04-29T17:37:34.420Z"
   },
   {
    "duration": 14,
    "start_time": "2022-04-29T17:37:34.430Z"
   },
   {
    "duration": 499,
    "start_time": "2022-04-29T17:37:34.446Z"
   },
   {
    "duration": 3488,
    "start_time": "2022-04-29T17:37:34.947Z"
   },
   {
    "duration": 11,
    "start_time": "2022-04-29T17:37:38.437Z"
   },
   {
    "duration": 32,
    "start_time": "2022-04-29T17:37:38.450Z"
   },
   {
    "duration": 10,
    "start_time": "2022-04-29T17:37:38.484Z"
   },
   {
    "duration": 79,
    "start_time": "2022-04-29T17:37:38.496Z"
   },
   {
    "duration": 23,
    "start_time": "2022-04-29T17:37:38.577Z"
   },
   {
    "duration": 30,
    "start_time": "2022-04-29T17:37:38.602Z"
   },
   {
    "duration": 44,
    "start_time": "2022-04-29T17:37:38.634Z"
   },
   {
    "duration": 3,
    "start_time": "2022-04-29T17:37:38.680Z"
   },
   {
    "duration": 104,
    "start_time": "2022-04-29T17:38:34.019Z"
   },
   {
    "duration": 30,
    "start_time": "2022-04-29T17:38:38.082Z"
   },
   {
    "duration": 29,
    "start_time": "2022-04-29T17:38:40.496Z"
   },
   {
    "duration": 3,
    "start_time": "2022-04-29T17:38:41.120Z"
   },
   {
    "duration": 107,
    "start_time": "2022-04-29T17:39:30.040Z"
   },
   {
    "duration": 6,
    "start_time": "2022-04-29T17:39:46.114Z"
   },
   {
    "duration": 14,
    "start_time": "2022-04-29T17:39:51.472Z"
   },
   {
    "duration": 3,
    "start_time": "2022-04-29T17:43:10.103Z"
   },
   {
    "duration": 11,
    "start_time": "2022-04-29T17:43:10.767Z"
   },
   {
    "duration": 170,
    "start_time": "2022-04-29T17:44:05.118Z"
   },
   {
    "duration": 96,
    "start_time": "2022-04-29T17:45:17.046Z"
   },
   {
    "duration": 32,
    "start_time": "2022-04-29T17:45:17.458Z"
   },
   {
    "duration": 27,
    "start_time": "2022-04-29T17:45:17.937Z"
   },
   {
    "duration": 2,
    "start_time": "2022-04-29T17:45:18.325Z"
   },
   {
    "duration": 11,
    "start_time": "2022-04-29T17:45:23.193Z"
   },
   {
    "duration": 12,
    "start_time": "2022-04-29T17:45:36.965Z"
   },
   {
    "duration": 4,
    "start_time": "2022-04-29T17:46:03.935Z"
   },
   {
    "duration": 272,
    "start_time": "2022-04-29T17:46:08.204Z"
   },
   {
    "duration": 78437,
    "start_time": "2022-04-29T17:46:34.380Z"
   },
   {
    "duration": 2583,
    "start_time": "2022-05-05T09:09:07.173Z"
   },
   {
    "duration": 778,
    "start_time": "2022-05-05T09:09:09.760Z"
   },
   {
    "duration": 68,
    "start_time": "2022-05-05T09:09:10.541Z"
   },
   {
    "duration": 28,
    "start_time": "2022-05-05T09:09:10.613Z"
   },
   {
    "duration": 145,
    "start_time": "2022-05-05T09:09:10.644Z"
   },
   {
    "duration": 278,
    "start_time": "2022-05-05T09:09:10.791Z"
   },
   {
    "duration": 107,
    "start_time": "2022-05-05T09:09:11.072Z"
   },
   {
    "duration": 18,
    "start_time": "2022-05-05T09:09:11.182Z"
   },
   {
    "duration": 32,
    "start_time": "2022-05-05T09:09:11.202Z"
   },
   {
    "duration": 19,
    "start_time": "2022-05-05T09:09:11.237Z"
   },
   {
    "duration": 85,
    "start_time": "2022-05-05T09:09:11.260Z"
   },
   {
    "duration": 92,
    "start_time": "2022-05-05T09:09:11.347Z"
   },
   {
    "duration": 476,
    "start_time": "2022-05-05T09:09:11.441Z"
   },
   {
    "duration": 216,
    "start_time": "2022-05-05T09:09:11.920Z"
   },
   {
    "duration": 299,
    "start_time": "2022-05-05T09:09:12.138Z"
   },
   {
    "duration": 512,
    "start_time": "2022-05-05T09:09:12.440Z"
   },
   {
    "duration": 334,
    "start_time": "2022-05-05T09:09:12.954Z"
   },
   {
    "duration": 14,
    "start_time": "2022-05-05T09:09:13.291Z"
   },
   {
    "duration": 13,
    "start_time": "2022-05-05T09:09:13.309Z"
   },
   {
    "duration": 20,
    "start_time": "2022-05-05T09:09:13.324Z"
   },
   {
    "duration": 1049,
    "start_time": "2022-05-05T09:09:13.360Z"
   },
   {
    "duration": 8008,
    "start_time": "2022-05-05T09:09:14.411Z"
   },
   {
    "duration": 13,
    "start_time": "2022-05-05T09:09:22.421Z"
   },
   {
    "duration": 52,
    "start_time": "2022-05-05T09:09:22.436Z"
   },
   {
    "duration": 23,
    "start_time": "2022-05-05T09:09:22.497Z"
   },
   {
    "duration": 152,
    "start_time": "2022-05-05T09:09:22.523Z"
   },
   {
    "duration": 41,
    "start_time": "2022-05-05T09:09:22.678Z"
   },
   {
    "duration": 69,
    "start_time": "2022-05-05T09:09:22.724Z"
   },
   {
    "duration": 5,
    "start_time": "2022-05-05T09:09:22.796Z"
   },
   {
    "duration": 25,
    "start_time": "2022-05-05T09:09:22.805Z"
   },
   {
    "duration": 421,
    "start_time": "2022-05-05T09:09:22.833Z"
   },
   {
    "duration": 623,
    "start_time": "2022-05-05T09:09:23.256Z"
   },
   {
    "duration": 153830,
    "start_time": "2022-05-05T09:09:23.889Z"
   },
   {
    "duration": 135055,
    "start_time": "2022-05-05T09:11:57.721Z"
   },
   {
    "duration": 6,
    "start_time": "2022-05-05T09:14:12.779Z"
   },
   {
    "duration": 6398,
    "start_time": "2022-05-05T09:16:59.178Z"
   },
   {
    "duration": 6923,
    "start_time": "2022-05-05T09:22:03.531Z"
   },
   {
    "duration": 6159,
    "start_time": "2022-05-05T09:22:30.924Z"
   },
   {
    "duration": 6664,
    "start_time": "2022-05-05T09:23:12.988Z"
   },
   {
    "duration": 7324,
    "start_time": "2022-05-05T09:25:31.249Z"
   },
   {
    "duration": 8,
    "start_time": "2022-05-05T09:29:06.078Z"
   },
   {
    "duration": 68,
    "start_time": "2022-05-05T09:29:27.593Z"
   },
   {
    "duration": 7,
    "start_time": "2022-05-05T09:30:17.006Z"
   },
   {
    "duration": 4,
    "start_time": "2022-05-05T09:33:51.984Z"
   },
   {
    "duration": 286,
    "start_time": "2022-05-05T09:45:14.044Z"
   },
   {
    "duration": 17,
    "start_time": "2022-05-05T09:45:22.070Z"
   },
   {
    "duration": 4,
    "start_time": "2022-05-05T09:47:00.887Z"
   },
   {
    "duration": 46348,
    "start_time": "2022-05-05T09:47:01.735Z"
   },
   {
    "duration": 5,
    "start_time": "2022-05-05T09:56:36.597Z"
   },
   {
    "duration": 244141,
    "start_time": "2022-05-05T09:57:47.958Z"
   },
   {
    "duration": 14,
    "start_time": "2022-05-05T10:04:42.373Z"
   },
   {
    "duration": 5,
    "start_time": "2022-05-05T10:04:46.731Z"
   },
   {
    "duration": 85,
    "start_time": "2022-05-05T10:04:47.290Z"
   },
   {
    "duration": 4,
    "start_time": "2022-05-05T10:05:06.681Z"
   },
   {
    "duration": 4,
    "start_time": "2022-05-05T10:05:11.993Z"
   },
   {
    "duration": 86,
    "start_time": "2022-05-05T10:05:12.585Z"
   },
   {
    "duration": 4,
    "start_time": "2022-05-05T10:05:47.627Z"
   },
   {
    "duration": 93,
    "start_time": "2022-05-05T10:05:48.892Z"
   },
   {
    "duration": 4,
    "start_time": "2022-05-05T10:05:57.311Z"
   },
   {
    "duration": 233893,
    "start_time": "2022-05-05T10:06:08.771Z"
   },
   {
    "duration": 6,
    "start_time": "2022-05-05T10:15:23.620Z"
   },
   {
    "duration": 4,
    "start_time": "2022-05-05T10:15:24.337Z"
   },
   {
    "duration": 101084,
    "start_time": "2022-05-05T10:15:25.316Z"
   },
   {
    "duration": 0,
    "start_time": "2022-05-05T10:17:06.402Z"
   },
   {
    "duration": 0,
    "start_time": "2022-05-05T10:17:16.322Z"
   },
   {
    "duration": 0,
    "start_time": "2022-05-05T10:17:16.324Z"
   },
   {
    "duration": 3,
    "start_time": "2022-05-05T10:17:19.012Z"
   },
   {
    "duration": 43466,
    "start_time": "2022-05-05T10:17:19.804Z"
   },
   {
    "duration": 72,
    "start_time": "2022-05-05T10:20:48.067Z"
   },
   {
    "duration": 76,
    "start_time": "2022-05-05T10:21:19.758Z"
   },
   {
    "duration": 150,
    "start_time": "2022-05-05T10:24:02.164Z"
   },
   {
    "duration": 5,
    "start_time": "2022-05-05T10:24:54.806Z"
   },
   {
    "duration": 98,
    "start_time": "2022-05-05T10:24:55.398Z"
   },
   {
    "duration": 107,
    "start_time": "2022-05-05T10:25:16.421Z"
   },
   {
    "duration": 15,
    "start_time": "2022-05-05T10:26:21.167Z"
   },
   {
    "duration": 3198,
    "start_time": "2022-05-05T10:26:57.972Z"
   },
   {
    "duration": 15185,
    "start_time": "2022-05-05T10:27:22.469Z"
   },
   {
    "duration": 15305,
    "start_time": "2022-05-05T10:30:43.756Z"
   },
   {
    "duration": 16420,
    "start_time": "2022-05-05T10:31:20.635Z"
   },
   {
    "duration": 15619,
    "start_time": "2022-05-05T10:34:37.361Z"
   },
   {
    "duration": 5,
    "start_time": "2022-05-05T10:44:47.636Z"
   },
   {
    "duration": 9,
    "start_time": "2022-05-05T10:45:09.132Z"
   },
   {
    "duration": 28,
    "start_time": "2022-05-05T10:47:23.349Z"
   },
   {
    "duration": 13,
    "start_time": "2022-05-05T10:48:14.442Z"
   },
   {
    "duration": 6,
    "start_time": "2022-05-05T10:48:27.937Z"
   },
   {
    "duration": 86,
    "start_time": "2022-05-05T10:48:30.113Z"
   },
   {
    "duration": 6,
    "start_time": "2022-05-05T10:50:00.509Z"
   },
   {
    "duration": 105,
    "start_time": "2022-05-05T10:50:07.056Z"
   },
   {
    "duration": 5,
    "start_time": "2022-05-05T10:53:56.556Z"
   },
   {
    "duration": 7,
    "start_time": "2022-05-05T10:53:57.605Z"
   },
   {
    "duration": 78,
    "start_time": "2022-05-05T10:53:58.850Z"
   },
   {
    "duration": 95,
    "start_time": "2022-05-05T10:55:18.137Z"
   },
   {
    "duration": 4,
    "start_time": "2022-05-05T10:55:29.394Z"
   },
   {
    "duration": 6,
    "start_time": "2022-05-05T10:55:29.841Z"
   },
   {
    "duration": 136,
    "start_time": "2022-05-05T10:55:30.343Z"
   },
   {
    "duration": 4,
    "start_time": "2022-05-05T10:55:38.169Z"
   },
   {
    "duration": 9,
    "start_time": "2022-05-05T10:55:39.439Z"
   },
   {
    "duration": 76,
    "start_time": "2022-05-05T10:55:39.813Z"
   },
   {
    "duration": 2137,
    "start_time": "2022-05-05T12:09:26.678Z"
   },
   {
    "duration": 221,
    "start_time": "2022-05-05T12:09:28.818Z"
   },
   {
    "duration": 56,
    "start_time": "2022-05-05T12:09:29.042Z"
   },
   {
    "duration": 31,
    "start_time": "2022-05-05T12:09:29.100Z"
   },
   {
    "duration": 154,
    "start_time": "2022-05-05T12:09:29.135Z"
   },
   {
    "duration": 144,
    "start_time": "2022-05-05T12:09:29.291Z"
   },
   {
    "duration": 120,
    "start_time": "2022-05-05T12:09:29.437Z"
   },
   {
    "duration": 14,
    "start_time": "2022-05-05T12:09:29.560Z"
   },
   {
    "duration": 23,
    "start_time": "2022-05-05T12:09:29.576Z"
   },
   {
    "duration": 16,
    "start_time": "2022-05-05T12:09:29.602Z"
   },
   {
    "duration": 105,
    "start_time": "2022-05-05T12:09:29.621Z"
   },
   {
    "duration": 91,
    "start_time": "2022-05-05T12:09:29.729Z"
   },
   {
    "duration": 484,
    "start_time": "2022-05-05T12:09:29.822Z"
   },
   {
    "duration": 217,
    "start_time": "2022-05-05T12:09:30.311Z"
   },
   {
    "duration": 272,
    "start_time": "2022-05-05T12:09:30.531Z"
   },
   {
    "duration": 394,
    "start_time": "2022-05-05T12:09:30.805Z"
   },
   {
    "duration": 407,
    "start_time": "2022-05-05T12:09:31.201Z"
   },
   {
    "duration": 12,
    "start_time": "2022-05-05T12:09:31.610Z"
   },
   {
    "duration": 15,
    "start_time": "2022-05-05T12:09:31.624Z"
   },
   {
    "duration": 53,
    "start_time": "2022-05-05T12:09:31.642Z"
   },
   {
    "duration": 998,
    "start_time": "2022-05-05T12:09:31.697Z"
   },
   {
    "duration": 7974,
    "start_time": "2022-05-05T12:09:32.697Z"
   },
   {
    "duration": 17,
    "start_time": "2022-05-05T12:09:40.674Z"
   },
   {
    "duration": 29,
    "start_time": "2022-05-05T12:09:40.694Z"
   },
   {
    "duration": 32,
    "start_time": "2022-05-05T12:09:40.725Z"
   },
   {
    "duration": 163,
    "start_time": "2022-05-05T12:09:40.759Z"
   },
   {
    "duration": 60,
    "start_time": "2022-05-05T12:09:40.924Z"
   },
   {
    "duration": 35,
    "start_time": "2022-05-05T12:09:40.987Z"
   },
   {
    "duration": 5,
    "start_time": "2022-05-05T12:09:41.025Z"
   },
   {
    "duration": 60,
    "start_time": "2022-05-05T12:09:41.032Z"
   },
   {
    "duration": 282,
    "start_time": "2022-05-05T12:09:41.094Z"
   },
   {
    "duration": 5978,
    "start_time": "2022-05-05T12:09:41.380Z"
   },
   {
    "duration": 148553,
    "start_time": "2022-05-05T12:09:47.367Z"
   },
   {
    "duration": 6936,
    "start_time": "2022-05-05T12:12:15.924Z"
   },
   {
    "duration": 7,
    "start_time": "2022-05-05T12:12:22.867Z"
   },
   {
    "duration": 93,
    "start_time": "2022-05-05T12:12:22.954Z"
   },
   {
    "duration": 1138,
    "start_time": "2022-05-05T12:12:23.050Z"
   },
   {
    "duration": 1040,
    "start_time": "2022-05-05T12:12:42.425Z"
   },
   {
    "duration": 12,
    "start_time": "2022-05-05T12:14:38.626Z"
   },
   {
    "duration": 34,
    "start_time": "2022-05-05T12:15:32.332Z"
   },
   {
    "duration": 211,
    "start_time": "2022-05-05T12:15:35.335Z"
   },
   {
    "duration": 6,
    "start_time": "2022-05-05T12:17:09.511Z"
   },
   {
    "duration": 41,
    "start_time": "2022-05-05T16:26:00.664Z"
   },
   {
    "duration": 276,
    "start_time": "2022-05-05T16:27:02.479Z"
   },
   {
    "duration": 1200,
    "start_time": "2022-05-05T16:27:58.552Z"
   },
   {
    "duration": 5442,
    "start_time": "2022-05-05T16:28:47.120Z"
   },
   {
    "duration": 26474,
    "start_time": "2022-05-05T16:29:17.481Z"
   },
   {
    "duration": 110,
    "start_time": "2022-05-05T16:30:50.443Z"
   },
   {
    "duration": 189,
    "start_time": "2022-05-05T16:31:04.403Z"
   },
   {
    "duration": 28184,
    "start_time": "2022-05-05T16:31:53.879Z"
   },
   {
    "duration": 1942,
    "start_time": "2022-05-05T16:32:57.334Z"
   },
   {
    "duration": 212,
    "start_time": "2022-05-05T16:32:59.279Z"
   },
   {
    "duration": 31,
    "start_time": "2022-05-05T16:32:59.493Z"
   },
   {
    "duration": 47,
    "start_time": "2022-05-05T16:32:59.527Z"
   },
   {
    "duration": 130,
    "start_time": "2022-05-05T16:32:59.576Z"
   },
   {
    "duration": 150,
    "start_time": "2022-05-05T16:32:59.708Z"
   },
   {
    "duration": 110,
    "start_time": "2022-05-05T16:32:59.864Z"
   },
   {
    "duration": 10,
    "start_time": "2022-05-05T16:32:59.977Z"
   },
   {
    "duration": 15,
    "start_time": "2022-05-05T16:32:59.989Z"
   },
   {
    "duration": 8,
    "start_time": "2022-05-05T16:33:00.008Z"
   },
   {
    "duration": 80,
    "start_time": "2022-05-05T16:33:00.018Z"
   },
   {
    "duration": 109,
    "start_time": "2022-05-05T16:33:00.100Z"
   },
   {
    "duration": 433,
    "start_time": "2022-05-05T16:33:00.212Z"
   },
   {
    "duration": 205,
    "start_time": "2022-05-05T16:33:00.651Z"
   },
   {
    "duration": 276,
    "start_time": "2022-05-05T16:33:00.859Z"
   },
   {
    "duration": 371,
    "start_time": "2022-05-05T16:33:01.137Z"
   },
   {
    "duration": 383,
    "start_time": "2022-05-05T16:33:01.510Z"
   },
   {
    "duration": 12,
    "start_time": "2022-05-05T16:33:01.895Z"
   },
   {
    "duration": 14,
    "start_time": "2022-05-05T16:33:01.910Z"
   },
   {
    "duration": 32,
    "start_time": "2022-05-05T16:33:01.927Z"
   },
   {
    "duration": 970,
    "start_time": "2022-05-05T16:33:01.962Z"
   },
   {
    "duration": 6900,
    "start_time": "2022-05-05T16:33:02.934Z"
   },
   {
    "duration": 19,
    "start_time": "2022-05-05T16:33:09.836Z"
   },
   {
    "duration": 50,
    "start_time": "2022-05-05T16:33:09.858Z"
   },
   {
    "duration": 14,
    "start_time": "2022-05-05T16:33:09.910Z"
   },
   {
    "duration": 147,
    "start_time": "2022-05-05T16:33:09.927Z"
   },
   {
    "duration": 40,
    "start_time": "2022-05-05T16:33:10.076Z"
   },
   {
    "duration": 52,
    "start_time": "2022-05-05T16:33:10.121Z"
   },
   {
    "duration": 5,
    "start_time": "2022-05-05T16:33:10.177Z"
   },
   {
    "duration": 23,
    "start_time": "2022-05-05T16:33:10.185Z"
   },
   {
    "duration": 280,
    "start_time": "2022-05-05T16:33:10.211Z"
   },
   {
    "duration": 27865,
    "start_time": "2022-05-05T16:33:10.493Z"
   },
   {
    "duration": 132638,
    "start_time": "2022-05-05T16:33:38.361Z"
   },
   {
    "duration": 27954,
    "start_time": "2022-05-05T16:35:51.002Z"
   },
   {
    "duration": 93,
    "start_time": "2022-05-05T16:36:18.959Z"
   },
   {
    "duration": 169,
    "start_time": "2022-05-05T16:36:19.056Z"
   },
   {
    "duration": 5832,
    "start_time": "2022-05-05T16:36:19.227Z"
   },
   {
    "duration": 205,
    "start_time": "2022-05-05T16:36:25.062Z"
   },
   {
    "duration": 286,
    "start_time": "2022-05-05T16:36:25.270Z"
   },
   {
    "duration": 11,
    "start_time": "2022-05-05T16:36:25.559Z"
   },
   {
    "duration": 49,
    "start_time": "2022-05-05T16:36:25.574Z"
   },
   {
    "duration": 1135,
    "start_time": "2022-05-05T16:36:25.625Z"
   },
   {
    "duration": 195,
    "start_time": "2022-05-05T16:36:26.762Z"
   },
   {
    "duration": 291,
    "start_time": "2022-05-05T16:36:26.961Z"
   },
   {
    "duration": 182,
    "start_time": "2022-05-05T16:42:29.835Z"
   },
   {
    "duration": 36475,
    "start_time": "2022-05-05T16:44:26.580Z"
   },
   {
    "duration": 35899,
    "start_time": "2022-05-05T16:48:42.676Z"
   },
   {
    "duration": 50,
    "start_time": "2022-05-05T16:49:25.521Z"
   },
   {
    "duration": 11,
    "start_time": "2022-05-05T16:52:18.912Z"
   },
   {
    "duration": 24,
    "start_time": "2022-05-05T16:52:36.068Z"
   },
   {
    "duration": 23,
    "start_time": "2022-05-05T16:52:49.014Z"
   },
   {
    "duration": 6,
    "start_time": "2022-05-05T16:54:03.402Z"
   },
   {
    "duration": 7,
    "start_time": "2022-05-05T16:54:14.402Z"
   },
   {
    "duration": 5,
    "start_time": "2022-05-05T16:55:15.243Z"
   },
   {
    "duration": 6,
    "start_time": "2022-05-05T16:55:24.479Z"
   },
   {
    "duration": 69,
    "start_time": "2022-05-05T16:57:20.314Z"
   },
   {
    "duration": 61,
    "start_time": "2022-05-05T16:58:12.495Z"
   },
   {
    "duration": 43,
    "start_time": "2022-05-05T16:58:24.135Z"
   },
   {
    "duration": 27,
    "start_time": "2022-05-05T16:58:46.994Z"
   },
   {
    "duration": 2094,
    "start_time": "2022-05-05T17:00:01.337Z"
   },
   {
    "duration": 5,
    "start_time": "2022-05-05T17:00:04.783Z"
   },
   {
    "duration": 229,
    "start_time": "2022-05-05T17:00:05.669Z"
   },
   {
    "duration": 46,
    "start_time": "2022-05-05T17:00:08.968Z"
   },
   {
    "duration": 31,
    "start_time": "2022-05-05T17:00:09.467Z"
   },
   {
    "duration": 118,
    "start_time": "2022-05-05T17:00:10.329Z"
   },
   {
    "duration": 137,
    "start_time": "2022-05-05T17:00:12.728Z"
   },
   {
    "duration": 140,
    "start_time": "2022-05-05T17:00:21.371Z"
   },
   {
    "duration": 98,
    "start_time": "2022-05-05T17:00:22.004Z"
   },
   {
    "duration": 12,
    "start_time": "2022-05-05T17:00:26.063Z"
   },
   {
    "duration": 12,
    "start_time": "2022-05-05T17:00:30.069Z"
   },
   {
    "duration": 8,
    "start_time": "2022-05-05T17:00:31.614Z"
   },
   {
    "duration": 90,
    "start_time": "2022-05-05T17:00:49.005Z"
   },
   {
    "duration": 30,
    "start_time": "2022-05-05T17:01:17.035Z"
   },
   {
    "duration": 79,
    "start_time": "2022-05-05T17:03:33.524Z"
   },
   {
    "duration": 37,
    "start_time": "2022-05-05T17:03:35.457Z"
   },
   {
    "duration": 2039,
    "start_time": "2022-05-05T17:03:46.645Z"
   },
   {
    "duration": 213,
    "start_time": "2022-05-05T17:03:50.198Z"
   },
   {
    "duration": 34,
    "start_time": "2022-05-05T17:03:55.176Z"
   },
   {
    "duration": 30,
    "start_time": "2022-05-05T17:03:56.209Z"
   },
   {
    "duration": 116,
    "start_time": "2022-05-05T17:03:57.690Z"
   },
   {
    "duration": 131,
    "start_time": "2022-05-05T17:03:59.315Z"
   },
   {
    "duration": 104,
    "start_time": "2022-05-05T17:04:02.606Z"
   },
   {
    "duration": 10,
    "start_time": "2022-05-05T17:04:06.801Z"
   },
   {
    "duration": 11,
    "start_time": "2022-05-05T17:04:07.346Z"
   },
   {
    "duration": 13,
    "start_time": "2022-05-05T17:04:07.851Z"
   },
   {
    "duration": 45,
    "start_time": "2022-05-05T17:04:08.904Z"
   },
   {
    "duration": 133,
    "start_time": "2022-05-05T17:04:30.819Z"
   },
   {
    "duration": 36,
    "start_time": "2022-05-05T17:04:32.808Z"
   },
   {
    "duration": 79,
    "start_time": "2022-05-05T17:04:45.123Z"
   },
   {
    "duration": 85,
    "start_time": "2022-05-05T17:04:56.338Z"
   },
   {
    "duration": 409,
    "start_time": "2022-05-05T17:04:57.472Z"
   },
   {
    "duration": 187,
    "start_time": "2022-05-05T17:05:00.437Z"
   },
   {
    "duration": 266,
    "start_time": "2022-05-05T17:05:01.378Z"
   },
   {
    "duration": 467,
    "start_time": "2022-05-05T17:05:06.278Z"
   },
   {
    "duration": 108,
    "start_time": "2022-05-05T17:05:37.703Z"
   },
   {
    "duration": 507,
    "start_time": "2022-05-05T17:05:39.201Z"
   },
   {
    "duration": 189,
    "start_time": "2022-05-05T17:05:44.780Z"
   },
   {
    "duration": 260,
    "start_time": "2022-05-05T17:05:45.615Z"
   },
   {
    "duration": 340,
    "start_time": "2022-05-05T17:05:49.359Z"
   },
   {
    "duration": 352,
    "start_time": "2022-05-05T17:05:53.478Z"
   },
   {
    "duration": 10,
    "start_time": "2022-05-05T17:05:59.994Z"
   },
   {
    "duration": 2693,
    "start_time": "2022-05-05T17:07:05.647Z"
   },
   {
    "duration": 313,
    "start_time": "2022-05-05T17:07:08.344Z"
   },
   {
    "duration": 33,
    "start_time": "2022-05-05T17:07:08.660Z"
   },
   {
    "duration": 29,
    "start_time": "2022-05-05T17:07:08.701Z"
   },
   {
    "duration": 124,
    "start_time": "2022-05-05T17:07:08.753Z"
   },
   {
    "duration": 141,
    "start_time": "2022-05-05T17:07:08.879Z"
   },
   {
    "duration": 159,
    "start_time": "2022-05-05T17:07:09.024Z"
   },
   {
    "duration": 16,
    "start_time": "2022-05-05T17:07:09.186Z"
   },
   {
    "duration": 26,
    "start_time": "2022-05-05T17:07:09.204Z"
   },
   {
    "duration": 27,
    "start_time": "2022-05-05T17:07:09.233Z"
   },
   {
    "duration": 47,
    "start_time": "2022-05-05T17:07:09.263Z"
   },
   {
    "duration": 148,
    "start_time": "2022-05-05T17:07:09.313Z"
   },
   {
    "duration": 420,
    "start_time": "2022-05-05T17:07:09.463Z"
   },
   {
    "duration": 194,
    "start_time": "2022-05-05T17:07:09.888Z"
   },
   {
    "duration": 258,
    "start_time": "2022-05-05T17:07:10.084Z"
   },
   {
    "duration": 336,
    "start_time": "2022-05-05T17:07:10.352Z"
   },
   {
    "duration": 378,
    "start_time": "2022-05-05T17:07:10.690Z"
   },
   {
    "duration": 6,
    "start_time": "2022-05-05T17:07:11.071Z"
   },
   {
    "duration": 27,
    "start_time": "2022-05-05T17:07:11.079Z"
   },
   {
    "duration": 794,
    "start_time": "2022-05-05T17:07:11.108Z"
   },
   {
    "duration": 5932,
    "start_time": "2022-05-05T17:07:11.904Z"
   },
   {
    "duration": 22,
    "start_time": "2022-05-05T17:07:17.838Z"
   },
   {
    "duration": 26,
    "start_time": "2022-05-05T17:07:17.862Z"
   },
   {
    "duration": 12,
    "start_time": "2022-05-05T17:07:17.890Z"
   },
   {
    "duration": 5,
    "start_time": "2022-05-05T17:07:17.904Z"
   },
   {
    "duration": 42,
    "start_time": "2022-05-05T17:07:17.911Z"
   },
   {
    "duration": 137,
    "start_time": "2022-05-05T17:07:17.955Z"
   },
   {
    "duration": 34,
    "start_time": "2022-05-05T17:07:18.094Z"
   },
   {
    "duration": 20,
    "start_time": "2022-05-05T17:07:18.131Z"
   },
   {
    "duration": 5,
    "start_time": "2022-05-05T17:07:18.153Z"
   },
   {
    "duration": 35,
    "start_time": "2022-05-05T17:07:18.160Z"
   },
   {
    "duration": 4,
    "start_time": "2022-05-05T17:07:18.197Z"
   },
   {
    "duration": 16,
    "start_time": "2022-05-05T17:07:18.204Z"
   },
   {
    "duration": 225,
    "start_time": "2022-05-05T17:07:18.251Z"
   },
   {
    "duration": 6577,
    "start_time": "2022-05-05T17:07:18.478Z"
   },
   {
    "duration": 63285,
    "start_time": "2022-05-05T17:07:25.059Z"
   },
   {
    "duration": 1,
    "start_time": "2022-05-05T17:08:28.346Z"
   },
   {
    "duration": 0,
    "start_time": "2022-05-05T17:08:28.352Z"
   },
   {
    "duration": 0,
    "start_time": "2022-05-05T17:08:28.353Z"
   },
   {
    "duration": 0,
    "start_time": "2022-05-05T17:08:28.355Z"
   },
   {
    "duration": 0,
    "start_time": "2022-05-05T17:08:28.356Z"
   },
   {
    "duration": 0,
    "start_time": "2022-05-05T17:08:28.358Z"
   },
   {
    "duration": 0,
    "start_time": "2022-05-05T17:08:28.359Z"
   },
   {
    "duration": 0,
    "start_time": "2022-05-05T17:08:28.360Z"
   },
   {
    "duration": 0,
    "start_time": "2022-05-05T17:08:28.362Z"
   },
   {
    "duration": 0,
    "start_time": "2022-05-05T17:08:28.364Z"
   },
   {
    "duration": 0,
    "start_time": "2022-05-05T17:08:28.365Z"
   },
   {
    "duration": 0,
    "start_time": "2022-05-05T17:08:28.366Z"
   },
   {
    "duration": 125,
    "start_time": "2022-05-05T17:08:45.031Z"
   },
   {
    "duration": 110,
    "start_time": "2022-05-05T17:09:00.102Z"
   },
   {
    "duration": 15,
    "start_time": "2022-05-05T17:12:34.431Z"
   },
   {
    "duration": 8,
    "start_time": "2022-05-05T17:37:47.456Z"
   },
   {
    "duration": 591,
    "start_time": "2022-05-05T17:38:24.653Z"
   },
   {
    "duration": 429,
    "start_time": "2022-05-05T17:38:48.505Z"
   },
   {
    "duration": 898,
    "start_time": "2022-05-05T17:38:58.622Z"
   },
   {
    "duration": 7,
    "start_time": "2022-05-05T17:39:11.598Z"
   },
   {
    "duration": 704,
    "start_time": "2022-05-05T17:39:38.828Z"
   },
   {
    "duration": 7,
    "start_time": "2022-05-05T17:39:45.382Z"
   },
   {
    "duration": 511,
    "start_time": "2022-05-05T17:39:46.184Z"
   },
   {
    "duration": 2407,
    "start_time": "2022-05-05T17:40:06.208Z"
   },
   {
    "duration": 295,
    "start_time": "2022-05-05T17:40:08.618Z"
   },
   {
    "duration": 54,
    "start_time": "2022-05-05T17:40:08.916Z"
   },
   {
    "duration": 30,
    "start_time": "2022-05-05T17:40:11.386Z"
   },
   {
    "duration": 113,
    "start_time": "2022-05-05T17:40:12.556Z"
   },
   {
    "duration": 135,
    "start_time": "2022-05-05T17:40:13.988Z"
   },
   {
    "duration": 95,
    "start_time": "2022-05-05T17:40:15.290Z"
   },
   {
    "duration": 14,
    "start_time": "2022-05-05T17:40:19.057Z"
   },
   {
    "duration": 1617,
    "start_time": "2022-05-05T17:40:20.544Z"
   },
   {
    "duration": 7,
    "start_time": "2022-05-05T17:40:22.180Z"
   },
   {
    "duration": 1890,
    "start_time": "2022-05-05T17:41:58.694Z"
   },
   {
    "duration": 217,
    "start_time": "2022-05-05T17:42:00.587Z"
   },
   {
    "duration": 64,
    "start_time": "2022-05-05T17:42:00.807Z"
   },
   {
    "duration": 34,
    "start_time": "2022-05-05T17:42:00.874Z"
   },
   {
    "duration": 140,
    "start_time": "2022-05-05T17:42:00.913Z"
   },
   {
    "duration": 147,
    "start_time": "2022-05-05T17:42:01.055Z"
   },
   {
    "duration": 108,
    "start_time": "2022-05-05T17:42:01.205Z"
   },
   {
    "duration": 13,
    "start_time": "2022-05-05T17:42:01.316Z"
   },
   {
    "duration": 1031,
    "start_time": "2022-05-05T17:42:01.331Z"
   },
   {
    "duration": 11,
    "start_time": "2022-05-05T17:42:02.364Z"
   },
   {
    "duration": 8,
    "start_time": "2022-05-05T17:42:02.378Z"
   },
   {
    "duration": 90,
    "start_time": "2022-05-05T17:42:02.388Z"
   },
   {
    "duration": 199,
    "start_time": "2022-05-05T17:42:02.482Z"
   },
   {
    "duration": 417,
    "start_time": "2022-05-05T17:42:02.689Z"
   },
   {
    "duration": 194,
    "start_time": "2022-05-05T17:42:03.109Z"
   },
   {
    "duration": 357,
    "start_time": "2022-05-05T17:42:03.306Z"
   },
   {
    "duration": 328,
    "start_time": "2022-05-05T17:42:03.666Z"
   },
   {
    "duration": 370,
    "start_time": "2022-05-05T17:42:03.997Z"
   },
   {
    "duration": 4,
    "start_time": "2022-05-05T17:42:04.370Z"
   },
   {
    "duration": 15,
    "start_time": "2022-05-05T17:42:04.377Z"
   },
   {
    "duration": 842,
    "start_time": "2022-05-05T17:42:04.395Z"
   },
   {
    "duration": 7381,
    "start_time": "2022-05-05T17:42:05.240Z"
   },
   {
    "duration": 13,
    "start_time": "2022-05-05T17:42:12.624Z"
   },
   {
    "duration": 21,
    "start_time": "2022-05-05T17:42:12.652Z"
   },
   {
    "duration": 17,
    "start_time": "2022-05-05T17:42:12.675Z"
   },
   {
    "duration": 12,
    "start_time": "2022-05-05T17:42:12.694Z"
   },
   {
    "duration": 19,
    "start_time": "2022-05-05T17:42:12.709Z"
   },
   {
    "duration": 113,
    "start_time": "2022-05-05T17:42:12.751Z"
   },
   {
    "duration": 37,
    "start_time": "2022-05-05T17:42:12.866Z"
   },
   {
    "duration": 5,
    "start_time": "2022-05-05T17:42:12.905Z"
   },
   {
    "duration": 16,
    "start_time": "2022-05-05T17:42:12.912Z"
   },
   {
    "duration": 57,
    "start_time": "2022-05-05T17:42:12.930Z"
   },
   {
    "duration": 4,
    "start_time": "2022-05-05T17:42:12.989Z"
   },
   {
    "duration": 41,
    "start_time": "2022-05-05T17:42:12.996Z"
   },
   {
    "duration": 287,
    "start_time": "2022-05-05T17:42:13.040Z"
   },
   {
    "duration": 7638,
    "start_time": "2022-05-05T17:42:13.330Z"
   },
   {
    "duration": 13846,
    "start_time": "2022-05-05T17:42:20.972Z"
   },
   {
    "duration": 1,
    "start_time": "2022-05-05T17:42:34.821Z"
   },
   {
    "duration": 0,
    "start_time": "2022-05-05T17:42:34.824Z"
   },
   {
    "duration": 0,
    "start_time": "2022-05-05T17:42:34.826Z"
   },
   {
    "duration": 0,
    "start_time": "2022-05-05T17:42:34.828Z"
   },
   {
    "duration": 0,
    "start_time": "2022-05-05T17:42:34.851Z"
   },
   {
    "duration": 1,
    "start_time": "2022-05-05T17:42:34.853Z"
   },
   {
    "duration": 0,
    "start_time": "2022-05-05T17:42:34.856Z"
   },
   {
    "duration": 0,
    "start_time": "2022-05-05T17:42:34.859Z"
   },
   {
    "duration": 0,
    "start_time": "2022-05-05T17:42:34.861Z"
   },
   {
    "duration": 0,
    "start_time": "2022-05-05T17:42:34.863Z"
   },
   {
    "duration": 0,
    "start_time": "2022-05-05T17:42:34.865Z"
   },
   {
    "duration": 0,
    "start_time": "2022-05-05T17:42:34.868Z"
   },
   {
    "duration": 12,
    "start_time": "2022-05-05T17:44:10.091Z"
   },
   {
    "duration": 8,
    "start_time": "2022-05-05T17:44:16.785Z"
   },
   {
    "duration": 10,
    "start_time": "2022-05-05T17:44:21.333Z"
   },
   {
    "duration": 8,
    "start_time": "2022-05-05T17:44:40.534Z"
   },
   {
    "duration": 7,
    "start_time": "2022-05-05T17:44:41.577Z"
   },
   {
    "duration": 9,
    "start_time": "2022-05-05T17:46:37.303Z"
   },
   {
    "duration": 13,
    "start_time": "2022-05-05T17:46:38.461Z"
   },
   {
    "duration": 15,
    "start_time": "2022-05-05T17:46:49.963Z"
   },
   {
    "duration": 15,
    "start_time": "2022-05-05T17:46:53.476Z"
   },
   {
    "duration": 9,
    "start_time": "2022-05-05T17:46:56.569Z"
   },
   {
    "duration": 9,
    "start_time": "2022-05-05T17:47:05.661Z"
   },
   {
    "duration": 1975,
    "start_time": "2022-05-05T17:48:57.720Z"
   },
   {
    "duration": 212,
    "start_time": "2022-05-05T17:48:59.698Z"
   },
   {
    "duration": 41,
    "start_time": "2022-05-05T17:48:59.912Z"
   },
   {
    "duration": 28,
    "start_time": "2022-05-05T17:48:59.956Z"
   },
   {
    "duration": 135,
    "start_time": "2022-05-05T17:48:59.987Z"
   },
   {
    "duration": 242,
    "start_time": "2022-05-05T17:49:00.124Z"
   },
   {
    "duration": 158,
    "start_time": "2022-05-05T17:49:00.368Z"
   },
   {
    "duration": 12,
    "start_time": "2022-05-05T17:49:00.528Z"
   },
   {
    "duration": 978,
    "start_time": "2022-05-05T17:49:00.555Z"
   },
   {
    "duration": 20,
    "start_time": "2022-05-05T17:49:01.538Z"
   },
   {
    "duration": 49,
    "start_time": "2022-05-05T17:49:01.560Z"
   },
   {
    "duration": 46,
    "start_time": "2022-05-05T17:49:01.611Z"
   },
   {
    "duration": 64,
    "start_time": "2022-05-05T17:49:01.660Z"
   },
   {
    "duration": 11,
    "start_time": "2022-05-05T17:49:01.726Z"
   },
   {
    "duration": 106,
    "start_time": "2022-05-05T17:49:01.739Z"
   },
   {
    "duration": 188,
    "start_time": "2022-05-05T17:49:01.847Z"
   },
   {
    "duration": 0,
    "start_time": "2022-05-05T17:49:02.039Z"
   },
   {
    "duration": 0,
    "start_time": "2022-05-05T17:49:02.041Z"
   },
   {
    "duration": 0,
    "start_time": "2022-05-05T17:49:02.042Z"
   },
   {
    "duration": 0,
    "start_time": "2022-05-05T17:49:02.052Z"
   },
   {
    "duration": 0,
    "start_time": "2022-05-05T17:49:02.053Z"
   },
   {
    "duration": 0,
    "start_time": "2022-05-05T17:49:02.054Z"
   },
   {
    "duration": 0,
    "start_time": "2022-05-05T17:49:02.056Z"
   },
   {
    "duration": 0,
    "start_time": "2022-05-05T17:49:02.057Z"
   },
   {
    "duration": 0,
    "start_time": "2022-05-05T17:49:02.058Z"
   },
   {
    "duration": 0,
    "start_time": "2022-05-05T17:49:02.060Z"
   },
   {
    "duration": 0,
    "start_time": "2022-05-05T17:49:02.062Z"
   },
   {
    "duration": 0,
    "start_time": "2022-05-05T17:49:02.064Z"
   },
   {
    "duration": 0,
    "start_time": "2022-05-05T17:49:02.065Z"
   },
   {
    "duration": 0,
    "start_time": "2022-05-05T17:49:02.066Z"
   },
   {
    "duration": 0,
    "start_time": "2022-05-05T17:49:02.068Z"
   },
   {
    "duration": 0,
    "start_time": "2022-05-05T17:49:02.069Z"
   },
   {
    "duration": 1,
    "start_time": "2022-05-05T17:49:02.071Z"
   },
   {
    "duration": 0,
    "start_time": "2022-05-05T17:49:02.073Z"
   },
   {
    "duration": 0,
    "start_time": "2022-05-05T17:49:02.077Z"
   },
   {
    "duration": 0,
    "start_time": "2022-05-05T17:49:02.078Z"
   },
   {
    "duration": 0,
    "start_time": "2022-05-05T17:49:02.080Z"
   },
   {
    "duration": 0,
    "start_time": "2022-05-05T17:49:02.082Z"
   },
   {
    "duration": 1,
    "start_time": "2022-05-05T17:49:02.083Z"
   },
   {
    "duration": 0,
    "start_time": "2022-05-05T17:49:02.085Z"
   },
   {
    "duration": 0,
    "start_time": "2022-05-05T17:49:02.087Z"
   },
   {
    "duration": 0,
    "start_time": "2022-05-05T17:49:02.089Z"
   },
   {
    "duration": 1,
    "start_time": "2022-05-05T17:49:02.090Z"
   },
   {
    "duration": 0,
    "start_time": "2022-05-05T17:49:02.152Z"
   },
   {
    "duration": 0,
    "start_time": "2022-05-05T17:49:02.154Z"
   },
   {
    "duration": 0,
    "start_time": "2022-05-05T17:49:02.156Z"
   },
   {
    "duration": 0,
    "start_time": "2022-05-05T17:49:02.157Z"
   },
   {
    "duration": 0,
    "start_time": "2022-05-05T17:49:02.159Z"
   },
   {
    "duration": 0,
    "start_time": "2022-05-05T17:49:02.160Z"
   },
   {
    "duration": 0,
    "start_time": "2022-05-05T17:49:02.162Z"
   },
   {
    "duration": 0,
    "start_time": "2022-05-05T17:49:02.163Z"
   },
   {
    "duration": 0,
    "start_time": "2022-05-05T17:49:02.164Z"
   },
   {
    "duration": 119,
    "start_time": "2022-05-05T17:49:34.457Z"
   },
   {
    "duration": 414,
    "start_time": "2022-05-05T17:49:35.885Z"
   },
   {
    "duration": 191,
    "start_time": "2022-05-05T17:49:36.442Z"
   },
   {
    "duration": 256,
    "start_time": "2022-05-05T17:49:37.296Z"
   },
   {
    "duration": 304,
    "start_time": "2022-05-05T17:49:38.694Z"
   },
   {
    "duration": 380,
    "start_time": "2022-05-05T17:49:39.676Z"
   },
   {
    "duration": 5,
    "start_time": "2022-05-05T17:49:41.947Z"
   },
   {
    "duration": 12,
    "start_time": "2022-05-05T17:49:42.437Z"
   },
   {
    "duration": 967,
    "start_time": "2022-05-05T17:49:43.138Z"
   },
   {
    "duration": 5885,
    "start_time": "2022-05-05T17:49:44.108Z"
   },
   {
    "duration": 14,
    "start_time": "2022-05-05T17:49:49.995Z"
   },
   {
    "duration": 41,
    "start_time": "2022-05-05T17:49:50.012Z"
   },
   {
    "duration": 13,
    "start_time": "2022-05-05T17:49:50.055Z"
   },
   {
    "duration": 5,
    "start_time": "2022-05-05T17:50:17.169Z"
   },
   {
    "duration": 6,
    "start_time": "2022-05-05T17:50:17.914Z"
   },
   {
    "duration": 62,
    "start_time": "2022-05-05T17:50:18.750Z"
   },
   {
    "duration": 21,
    "start_time": "2022-05-05T17:51:31.153Z"
   },
   {
    "duration": 5,
    "start_time": "2022-05-05T17:51:32.462Z"
   },
   {
    "duration": 5,
    "start_time": "2022-05-05T17:51:32.919Z"
   },
   {
    "duration": 17,
    "start_time": "2022-05-05T17:51:34.375Z"
   },
   {
    "duration": 4,
    "start_time": "2022-05-05T17:51:34.667Z"
   },
   {
    "duration": 18,
    "start_time": "2022-05-05T17:51:35.022Z"
   },
   {
    "duration": 218,
    "start_time": "2022-05-05T17:51:35.376Z"
   },
   {
    "duration": 3204,
    "start_time": "2022-05-05T17:51:36.649Z"
   },
   {
    "duration": 122670,
    "start_time": "2022-05-05T17:51:39.856Z"
   },
   {
    "duration": 5135,
    "start_time": "2022-05-05T17:53:42.530Z"
   },
   {
    "duration": 8,
    "start_time": "2022-05-05T17:53:47.753Z"
   },
   {
    "duration": 98,
    "start_time": "2022-05-05T17:53:47.766Z"
   },
   {
    "duration": 486,
    "start_time": "2022-05-05T17:53:47.866Z"
   },
   {
    "duration": 106,
    "start_time": "2022-05-05T17:53:48.354Z"
   },
   {
    "duration": 381,
    "start_time": "2022-05-05T17:53:48.463Z"
   },
   {
    "duration": 7,
    "start_time": "2022-05-05T17:53:48.851Z"
   },
   {
    "duration": 28,
    "start_time": "2022-05-05T17:53:48.861Z"
   },
   {
    "duration": 261,
    "start_time": "2022-05-05T17:53:48.893Z"
   },
   {
    "duration": 196,
    "start_time": "2022-05-05T17:53:49.156Z"
   },
   {
    "duration": 203,
    "start_time": "2022-05-05T17:53:49.355Z"
   },
   {
    "duration": 196,
    "start_time": "2022-05-05T17:53:49.561Z"
   },
   {
    "duration": 13,
    "start_time": "2022-05-05T17:56:20.744Z"
   },
   {
    "duration": 210,
    "start_time": "2022-05-05T17:56:25.547Z"
   },
   {
    "duration": 778,
    "start_time": "2022-05-05T18:03:49.851Z"
   },
   {
    "duration": 5693,
    "start_time": "2022-05-05T18:03:52.955Z"
   },
   {
    "duration": 15,
    "start_time": "2022-05-05T18:04:01.284Z"
   },
   {
    "duration": 30,
    "start_time": "2022-05-05T18:04:02.023Z"
   },
   {
    "duration": 32,
    "start_time": "2022-05-05T18:07:20.847Z"
   },
   {
    "duration": 16,
    "start_time": "2022-05-05T18:07:26.477Z"
   },
   {
    "duration": 7,
    "start_time": "2022-05-05T18:08:26.585Z"
   },
   {
    "duration": 26,
    "start_time": "2022-05-05T18:08:48.047Z"
   },
   {
    "duration": 30,
    "start_time": "2022-05-05T18:09:00.198Z"
   },
   {
    "duration": 3616,
    "start_time": "2022-05-05T18:10:51.026Z"
   },
   {
    "duration": 21,
    "start_time": "2022-05-05T18:11:48.038Z"
   },
   {
    "duration": 22,
    "start_time": "2022-05-05T18:12:01.486Z"
   },
   {
    "duration": 2023,
    "start_time": "2022-05-05T18:12:22.107Z"
   },
   {
    "duration": 24,
    "start_time": "2022-05-05T18:12:25.411Z"
   },
   {
    "duration": 2102,
    "start_time": "2022-05-05T18:19:57.136Z"
   },
   {
    "duration": 22,
    "start_time": "2022-05-05T18:20:03.650Z"
   },
   {
    "duration": 228,
    "start_time": "2022-05-05T18:22:25.525Z"
   },
   {
    "duration": 207,
    "start_time": "2022-05-05T18:23:25.333Z"
   },
   {
    "duration": 225,
    "start_time": "2022-05-05T18:23:47.901Z"
   },
   {
    "duration": 251,
    "start_time": "2022-05-05T18:24:04.416Z"
   },
   {
    "duration": 222,
    "start_time": "2022-05-05T18:24:37.492Z"
   },
   {
    "duration": 213,
    "start_time": "2022-05-05T18:24:42.364Z"
   },
   {
    "duration": 214,
    "start_time": "2022-05-05T18:25:20.514Z"
   },
   {
    "duration": 205,
    "start_time": "2022-05-05T18:25:33.395Z"
   },
   {
    "duration": 390,
    "start_time": "2022-05-05T18:25:34.195Z"
   },
   {
    "duration": 235,
    "start_time": "2022-05-05T18:25:58.066Z"
   },
   {
    "duration": 237,
    "start_time": "2022-05-05T18:26:08.442Z"
   },
   {
    "duration": 243,
    "start_time": "2022-05-05T18:26:35.248Z"
   },
   {
    "duration": 246,
    "start_time": "2022-05-05T18:27:01.058Z"
   },
   {
    "duration": 237,
    "start_time": "2022-05-05T18:27:42.180Z"
   },
   {
    "duration": 256,
    "start_time": "2022-05-05T18:28:56.727Z"
   },
   {
    "duration": 276,
    "start_time": "2022-05-05T18:29:16.326Z"
   },
   {
    "duration": 264,
    "start_time": "2022-05-05T18:29:25.937Z"
   },
   {
    "duration": 27,
    "start_time": "2022-05-05T18:30:20.238Z"
   },
   {
    "duration": 209,
    "start_time": "2022-05-05T18:30:33.113Z"
   },
   {
    "duration": 203,
    "start_time": "2022-05-05T18:30:54.600Z"
   },
   {
    "duration": 14,
    "start_time": "2022-05-06T09:12:05.078Z"
   },
   {
    "duration": 11,
    "start_time": "2022-05-06T09:12:47.018Z"
   },
   {
    "duration": 13,
    "start_time": "2022-05-06T09:12:54.183Z"
   },
   {
    "duration": 6,
    "start_time": "2022-05-06T09:15:50.451Z"
   },
   {
    "duration": 190,
    "start_time": "2022-05-06T09:15:50.997Z"
   },
   {
    "duration": 30,
    "start_time": "2022-05-06T09:15:51.433Z"
   },
   {
    "duration": 30,
    "start_time": "2022-05-06T09:15:52.007Z"
   },
   {
    "duration": 199,
    "start_time": "2022-05-06T09:15:52.397Z"
   },
   {
    "duration": 115,
    "start_time": "2022-05-06T09:15:52.820Z"
   },
   {
    "duration": 90,
    "start_time": "2022-05-06T09:15:53.244Z"
   },
   {
    "duration": 10,
    "start_time": "2022-05-06T09:15:54.500Z"
   },
   {
    "duration": 893,
    "start_time": "2022-05-06T09:15:54.932Z"
   },
   {
    "duration": 11,
    "start_time": "2022-05-06T09:15:55.827Z"
   },
   {
    "duration": 8,
    "start_time": "2022-05-06T09:15:55.853Z"
   },
   {
    "duration": 11,
    "start_time": "2022-05-06T09:15:56.357Z"
   },
   {
    "duration": 13,
    "start_time": "2022-05-06T09:15:57.326Z"
   },
   {
    "duration": 14,
    "start_time": "2022-05-06T09:16:17.517Z"
   },
   {
    "duration": 275,
    "start_time": "2022-05-06T09:29:14.531Z"
   },
   {
    "duration": 32,
    "start_time": "2022-05-06T09:29:48.846Z"
   },
   {
    "duration": 14,
    "start_time": "2022-05-06T09:35:42.113Z"
   },
   {
    "duration": 291,
    "start_time": "2022-05-06T09:36:02.601Z"
   },
   {
    "duration": 2824,
    "start_time": "2022-05-06T09:37:59.300Z"
   },
   {
    "duration": 86,
    "start_time": "2022-05-06T09:40:57.881Z"
   },
   {
    "duration": 212,
    "start_time": "2022-05-06T09:41:49.616Z"
   },
   {
    "duration": 109,
    "start_time": "2022-05-06T09:42:01.807Z"
   },
   {
    "duration": 1911,
    "start_time": "2022-05-06T09:50:37.267Z"
   },
   {
    "duration": 219,
    "start_time": "2022-05-06T09:50:39.181Z"
   },
   {
    "duration": 54,
    "start_time": "2022-05-06T09:50:39.402Z"
   },
   {
    "duration": 31,
    "start_time": "2022-05-06T09:50:39.460Z"
   },
   {
    "duration": 140,
    "start_time": "2022-05-06T09:50:39.493Z"
   },
   {
    "duration": 148,
    "start_time": "2022-05-06T09:50:39.635Z"
   },
   {
    "duration": 108,
    "start_time": "2022-05-06T09:50:39.785Z"
   },
   {
    "duration": 10,
    "start_time": "2022-05-06T09:50:39.895Z"
   },
   {
    "duration": 938,
    "start_time": "2022-05-06T09:50:39.907Z"
   },
   {
    "duration": 11,
    "start_time": "2022-05-06T09:50:40.849Z"
   },
   {
    "duration": 18,
    "start_time": "2022-05-06T09:50:40.862Z"
   },
   {
    "duration": 19,
    "start_time": "2022-05-06T09:50:40.882Z"
   },
   {
    "duration": 917,
    "start_time": "2022-05-06T09:50:40.903Z"
   },
   {
    "duration": 11,
    "start_time": "2022-05-06T09:50:41.823Z"
   },
   {
    "duration": 96,
    "start_time": "2022-05-06T09:50:41.836Z"
   },
   {
    "duration": 138,
    "start_time": "2022-05-06T09:50:41.934Z"
   },
   {
    "duration": 418,
    "start_time": "2022-05-06T09:50:42.074Z"
   },
   {
    "duration": 193,
    "start_time": "2022-05-06T09:50:42.494Z"
   },
   {
    "duration": 280,
    "start_time": "2022-05-06T09:50:42.689Z"
   },
   {
    "duration": 331,
    "start_time": "2022-05-06T09:50:42.971Z"
   },
   {
    "duration": 385,
    "start_time": "2022-05-06T09:50:43.305Z"
   },
   {
    "duration": 272,
    "start_time": "2022-05-06T09:50:43.693Z"
   },
   {
    "duration": 228,
    "start_time": "2022-05-06T09:50:43.967Z"
   },
   {
    "duration": 218,
    "start_time": "2022-05-06T09:50:44.197Z"
   },
   {
    "duration": 5,
    "start_time": "2022-05-06T09:50:44.417Z"
   },
   {
    "duration": 30,
    "start_time": "2022-05-06T09:50:44.425Z"
   },
   {
    "duration": 781,
    "start_time": "2022-05-06T09:50:44.457Z"
   },
   {
    "duration": 5645,
    "start_time": "2022-05-06T09:50:45.253Z"
   },
   {
    "duration": 13,
    "start_time": "2022-05-06T09:50:50.900Z"
   },
   {
    "duration": 42,
    "start_time": "2022-05-06T09:50:50.915Z"
   },
   {
    "duration": 34,
    "start_time": "2022-05-06T09:50:50.960Z"
   },
   {
    "duration": 36,
    "start_time": "2022-05-06T09:50:50.996Z"
   },
   {
    "duration": 27,
    "start_time": "2022-05-06T09:50:51.035Z"
   },
   {
    "duration": 159,
    "start_time": "2022-05-06T09:50:51.065Z"
   },
   {
    "duration": 47,
    "start_time": "2022-05-06T09:50:51.226Z"
   },
   {
    "duration": 6,
    "start_time": "2022-05-06T09:50:51.276Z"
   },
   {
    "duration": 44,
    "start_time": "2022-05-06T09:50:51.285Z"
   },
   {
    "duration": 74,
    "start_time": "2022-05-06T09:50:51.331Z"
   },
   {
    "duration": 6,
    "start_time": "2022-05-06T09:50:51.407Z"
   },
   {
    "duration": 42,
    "start_time": "2022-05-06T09:50:51.415Z"
   },
   {
    "duration": 393,
    "start_time": "2022-05-06T09:50:51.459Z"
   },
   {
    "duration": 8705,
    "start_time": "2022-05-06T09:50:51.854Z"
   },
   {
    "duration": 127480,
    "start_time": "2022-05-06T09:51:00.561Z"
   },
   {
    "duration": 11310,
    "start_time": "2022-05-06T09:53:08.043Z"
   },
   {
    "duration": 8,
    "start_time": "2022-05-06T09:53:19.357Z"
   },
   {
    "duration": 70,
    "start_time": "2022-05-06T09:53:19.452Z"
   },
   {
    "duration": 728,
    "start_time": "2022-05-06T09:53:19.525Z"
   },
   {
    "duration": 198,
    "start_time": "2022-05-06T09:53:20.256Z"
   },
   {
    "duration": 371,
    "start_time": "2022-05-06T09:53:20.457Z"
   },
   {
    "duration": 6,
    "start_time": "2022-05-06T09:53:20.830Z"
   },
   {
    "duration": 64,
    "start_time": "2022-05-06T09:53:20.838Z"
   },
   {
    "duration": 452,
    "start_time": "2022-05-06T09:53:20.904Z"
   },
   {
    "duration": 194,
    "start_time": "2022-05-06T09:53:21.359Z"
   },
   {
    "duration": 282,
    "start_time": "2022-05-06T09:53:21.557Z"
   },
   {
    "duration": 197,
    "start_time": "2022-05-06T09:53:21.841Z"
   },
   {
    "duration": 0,
    "start_time": "2022-05-06T09:53:22.040Z"
   },
   {
    "duration": 0,
    "start_time": "2022-05-06T09:53:22.052Z"
   },
   {
    "duration": 0,
    "start_time": "2022-05-06T09:53:22.054Z"
   },
   {
    "duration": 21,
    "start_time": "2022-05-06T09:57:27.860Z"
   },
   {
    "duration": 91,
    "start_time": "2022-05-06T09:57:48.762Z"
   },
   {
    "duration": 385,
    "start_time": "2022-05-06T09:57:51.584Z"
   },
   {
    "duration": 207,
    "start_time": "2022-05-06T09:57:51.971Z"
   },
   {
    "duration": 378,
    "start_time": "2022-05-06T09:57:52.181Z"
   },
   {
    "duration": 326,
    "start_time": "2022-05-06T09:57:52.561Z"
   },
   {
    "duration": 288,
    "start_time": "2022-05-06T09:57:52.890Z"
   },
   {
    "duration": 262,
    "start_time": "2022-05-06T09:57:53.181Z"
   },
   {
    "duration": 226,
    "start_time": "2022-05-06T09:57:53.446Z"
   },
   {
    "duration": 220,
    "start_time": "2022-05-06T09:57:53.675Z"
   },
   {
    "duration": 5,
    "start_time": "2022-05-06T09:57:55.982Z"
   },
   {
    "duration": 11,
    "start_time": "2022-05-06T09:57:56.351Z"
   },
   {
    "duration": 735,
    "start_time": "2022-05-06T09:57:56.681Z"
   },
   {
    "duration": 6474,
    "start_time": "2022-05-06T09:57:57.419Z"
   },
   {
    "duration": 19,
    "start_time": "2022-05-06T09:58:03.897Z"
   },
   {
    "duration": 56,
    "start_time": "2022-05-06T09:58:03.919Z"
   },
   {
    "duration": 16,
    "start_time": "2022-05-06T09:58:03.979Z"
   },
   {
    "duration": 5,
    "start_time": "2022-05-06T09:58:03.997Z"
   },
   {
    "duration": 7,
    "start_time": "2022-05-06T09:58:04.004Z"
   },
   {
    "duration": 144,
    "start_time": "2022-05-06T09:58:04.013Z"
   },
   {
    "duration": 30,
    "start_time": "2022-05-06T09:58:06.863Z"
   },
   {
    "duration": 6,
    "start_time": "2022-05-06T09:58:07.535Z"
   },
   {
    "duration": 6,
    "start_time": "2022-05-06T09:58:08.210Z"
   },
   {
    "duration": 32,
    "start_time": "2022-05-06T09:58:08.876Z"
   },
   {
    "duration": 5,
    "start_time": "2022-05-06T09:58:09.260Z"
   },
   {
    "duration": 13,
    "start_time": "2022-05-06T09:58:09.717Z"
   },
   {
    "duration": 359,
    "start_time": "2022-05-06T09:58:10.199Z"
   },
   {
    "duration": 6587,
    "start_time": "2022-05-06T09:58:11.370Z"
   },
   {
    "duration": 123513,
    "start_time": "2022-05-06T09:58:18.075Z"
   },
   {
    "duration": 1909,
    "start_time": "2022-05-06T10:04:12.064Z"
   },
   {
    "duration": 220,
    "start_time": "2022-05-06T10:04:13.976Z"
   },
   {
    "duration": 34,
    "start_time": "2022-05-06T10:04:14.198Z"
   },
   {
    "duration": 42,
    "start_time": "2022-05-06T10:04:14.236Z"
   },
   {
    "duration": 143,
    "start_time": "2022-05-06T10:04:14.281Z"
   },
   {
    "duration": 143,
    "start_time": "2022-05-06T10:04:14.427Z"
   },
   {
    "duration": 106,
    "start_time": "2022-05-06T10:04:14.572Z"
   },
   {
    "duration": 11,
    "start_time": "2022-05-06T10:04:14.680Z"
   },
   {
    "duration": 959,
    "start_time": "2022-05-06T10:04:14.693Z"
   },
   {
    "duration": 11,
    "start_time": "2022-05-06T10:04:15.656Z"
   },
   {
    "duration": 10,
    "start_time": "2022-05-06T10:04:15.670Z"
   },
   {
    "duration": 14,
    "start_time": "2022-05-06T10:04:15.682Z"
   },
   {
    "duration": 315,
    "start_time": "2022-05-06T10:04:15.698Z"
   },
   {
    "duration": 14,
    "start_time": "2022-05-06T10:04:16.016Z"
   },
   {
    "duration": 151,
    "start_time": "2022-05-06T10:04:16.033Z"
   },
   {
    "duration": 201,
    "start_time": "2022-05-06T10:04:16.187Z"
   },
   {
    "duration": 432,
    "start_time": "2022-05-06T10:04:16.390Z"
   },
   {
    "duration": 203,
    "start_time": "2022-05-06T10:04:16.825Z"
   },
   {
    "duration": 246,
    "start_time": "2022-05-06T10:04:17.030Z"
   },
   {
    "duration": 330,
    "start_time": "2022-05-06T10:04:17.278Z"
   },
   {
    "duration": 380,
    "start_time": "2022-05-06T10:04:17.611Z"
   },
   {
    "duration": 275,
    "start_time": "2022-05-06T10:04:17.993Z"
   },
   {
    "duration": 233,
    "start_time": "2022-05-06T10:04:18.270Z"
   },
   {
    "duration": 229,
    "start_time": "2022-05-06T10:04:18.506Z"
   },
   {
    "duration": 5,
    "start_time": "2022-05-06T10:04:18.737Z"
   },
   {
    "duration": 13,
    "start_time": "2022-05-06T10:04:18.753Z"
   },
   {
    "duration": 817,
    "start_time": "2022-05-06T10:04:18.768Z"
   },
   {
    "duration": 6016,
    "start_time": "2022-05-06T10:04:19.591Z"
   },
   {
    "duration": 13,
    "start_time": "2022-05-06T10:04:25.610Z"
   },
   {
    "duration": 42,
    "start_time": "2022-05-06T10:04:25.626Z"
   },
   {
    "duration": 11,
    "start_time": "2022-05-06T10:04:25.671Z"
   },
   {
    "duration": 8,
    "start_time": "2022-05-06T10:04:25.684Z"
   },
   {
    "duration": 8,
    "start_time": "2022-05-06T10:04:25.694Z"
   },
   {
    "duration": 148,
    "start_time": "2022-05-06T10:04:25.704Z"
   },
   {
    "duration": 36,
    "start_time": "2022-05-06T10:04:25.854Z"
   },
   {
    "duration": 6,
    "start_time": "2022-05-06T10:04:25.892Z"
   },
   {
    "duration": 6,
    "start_time": "2022-05-06T10:04:25.901Z"
   },
   {
    "duration": 69,
    "start_time": "2022-05-06T10:04:25.910Z"
   },
   {
    "duration": 4,
    "start_time": "2022-05-06T10:04:25.982Z"
   },
   {
    "duration": 30,
    "start_time": "2022-05-06T10:04:25.989Z"
   },
   {
    "duration": 267,
    "start_time": "2022-05-06T10:04:26.021Z"
   },
   {
    "duration": 5566,
    "start_time": "2022-05-06T10:04:26.291Z"
   },
   {
    "duration": 126285,
    "start_time": "2022-05-06T10:04:31.860Z"
   },
   {
    "duration": 17905,
    "start_time": "2022-05-06T10:06:38.151Z"
   },
   {
    "duration": 7,
    "start_time": "2022-05-06T10:06:56.060Z"
   },
   {
    "duration": 70,
    "start_time": "2022-05-06T10:06:56.153Z"
   },
   {
    "duration": 1432,
    "start_time": "2022-05-06T10:06:56.225Z"
   },
   {
    "duration": 192,
    "start_time": "2022-05-06T10:06:57.661Z"
   },
   {
    "duration": 277,
    "start_time": "2022-05-06T10:06:57.857Z"
   },
   {
    "duration": 6,
    "start_time": "2022-05-06T10:06:58.137Z"
   },
   {
    "duration": 44,
    "start_time": "2022-05-06T10:06:58.153Z"
   },
   {
    "duration": 453,
    "start_time": "2022-05-06T10:06:58.200Z"
   },
   {
    "duration": 196,
    "start_time": "2022-05-06T10:06:58.657Z"
   },
   {
    "duration": 282,
    "start_time": "2022-05-06T10:06:58.857Z"
   },
   {
    "duration": 190,
    "start_time": "2022-05-06T10:06:59.142Z"
   },
   {
    "duration": 0,
    "start_time": "2022-05-06T10:06:59.334Z"
   },
   {
    "duration": 0,
    "start_time": "2022-05-06T10:06:59.336Z"
   },
   {
    "duration": 0,
    "start_time": "2022-05-06T10:06:59.337Z"
   },
   {
    "duration": 101,
    "start_time": "2022-05-06T10:07:18.975Z"
   },
   {
    "duration": 4,
    "start_time": "2022-05-06T10:09:32.076Z"
   },
   {
    "duration": 13,
    "start_time": "2022-05-06T10:09:32.726Z"
   },
   {
    "duration": 361,
    "start_time": "2022-05-06T10:09:33.262Z"
   },
   {
    "duration": 5538,
    "start_time": "2022-05-06T10:09:40.423Z"
   },
   {
    "duration": 125036,
    "start_time": "2022-05-06T10:09:45.965Z"
   },
   {
    "duration": 20,
    "start_time": "2022-05-06T11:08:58.943Z"
   },
   {
    "duration": 6,
    "start_time": "2022-05-06T11:09:05.349Z"
   },
   {
    "duration": 13,
    "start_time": "2022-05-06T11:09:11.312Z"
   },
   {
    "duration": 4,
    "start_time": "2022-05-06T11:14:09.563Z"
   },
   {
    "duration": 76,
    "start_time": "2022-05-06T11:15:51.664Z"
   },
   {
    "duration": 78,
    "start_time": "2022-05-06T11:16:07.766Z"
   },
   {
    "duration": 273,
    "start_time": "2022-05-06T11:32:22.471Z"
   },
   {
    "duration": 297,
    "start_time": "2022-05-06T11:33:44.666Z"
   },
   {
    "duration": 3091,
    "start_time": "2022-05-06T11:34:48.996Z"
   },
   {
    "duration": 301,
    "start_time": "2022-05-06T11:36:35.687Z"
   },
   {
    "duration": 366,
    "start_time": "2022-05-06T11:49:42.419Z"
   },
   {
    "duration": 4,
    "start_time": "2022-05-06T11:50:10.359Z"
   },
   {
    "duration": 5,
    "start_time": "2022-05-06T11:50:18.619Z"
   },
   {
    "duration": 11,
    "start_time": "2022-05-06T12:04:06.979Z"
   },
   {
    "duration": 1794,
    "start_time": "2022-05-06T12:07:10.975Z"
   },
   {
    "duration": 17,
    "start_time": "2022-05-06T12:07:23.247Z"
   },
   {
    "duration": 24,
    "start_time": "2022-05-06T12:23:38.632Z"
   },
   {
    "duration": 9,
    "start_time": "2022-05-06T12:23:58.417Z"
   },
   {
    "duration": 26,
    "start_time": "2022-05-06T12:28:24.690Z"
   },
   {
    "duration": 109,
    "start_time": "2022-05-06T12:38:43.464Z"
   },
   {
    "duration": 289,
    "start_time": "2022-05-06T12:46:21.532Z"
   },
   {
    "duration": 52,
    "start_time": "2022-05-06T12:46:38.404Z"
   },
   {
    "duration": 34,
    "start_time": "2022-05-06T12:46:50.734Z"
   },
   {
    "duration": 10,
    "start_time": "2022-05-06T12:47:45.374Z"
   },
   {
    "duration": 6,
    "start_time": "2022-05-06T12:48:21.731Z"
   },
   {
    "duration": 138,
    "start_time": "2022-05-06T12:49:44.617Z"
   },
   {
    "duration": 33,
    "start_time": "2022-05-06T12:50:01.597Z"
   },
   {
    "duration": 56,
    "start_time": "2022-05-06T12:50:15.061Z"
   },
   {
    "duration": 33,
    "start_time": "2022-05-06T12:50:50.501Z"
   },
   {
    "duration": 14,
    "start_time": "2022-05-06T12:51:04.145Z"
   },
   {
    "duration": 6,
    "start_time": "2022-05-06T12:51:11.081Z"
   },
   {
    "duration": 45,
    "start_time": "2022-05-06T12:51:32.821Z"
   },
   {
    "duration": 14,
    "start_time": "2022-05-06T17:58:30.434Z"
   },
   {
    "duration": 11,
    "start_time": "2022-05-06T17:59:01.777Z"
   },
   {
    "duration": 9,
    "start_time": "2022-05-06T17:59:34.042Z"
   },
   {
    "duration": 71,
    "start_time": "2022-05-06T17:59:34.431Z"
   },
   {
    "duration": 109,
    "start_time": "2022-05-06T17:59:36.569Z"
   },
   {
    "duration": 494,
    "start_time": "2022-05-06T17:59:36.925Z"
   },
   {
    "duration": 299,
    "start_time": "2022-05-06T17:59:37.835Z"
   },
   {
    "duration": 279,
    "start_time": "2022-05-06T17:59:38.223Z"
   },
   {
    "duration": 328,
    "start_time": "2022-05-06T17:59:38.912Z"
   },
   {
    "duration": 284,
    "start_time": "2022-05-06T17:59:39.389Z"
   },
   {
    "duration": 299,
    "start_time": "2022-05-06T17:59:39.676Z"
   },
   {
    "duration": 227,
    "start_time": "2022-05-06T17:59:39.977Z"
   },
   {
    "duration": 227,
    "start_time": "2022-05-06T17:59:40.207Z"
   },
   {
    "duration": 5,
    "start_time": "2022-05-06T17:59:43.193Z"
   },
   {
    "duration": 13,
    "start_time": "2022-05-06T17:59:44.595Z"
   },
   {
    "duration": 875,
    "start_time": "2022-05-06T17:59:45.084Z"
   },
   {
    "duration": 6846,
    "start_time": "2022-05-06T17:59:45.962Z"
   },
   {
    "duration": 13,
    "start_time": "2022-05-06T17:59:52.810Z"
   },
   {
    "duration": 45,
    "start_time": "2022-05-06T17:59:52.826Z"
   },
   {
    "duration": 17,
    "start_time": "2022-05-06T17:59:52.875Z"
   },
   {
    "duration": 5,
    "start_time": "2022-05-06T17:59:52.894Z"
   },
   {
    "duration": 9,
    "start_time": "2022-05-06T17:59:52.901Z"
   },
   {
    "duration": 20,
    "start_time": "2022-05-06T18:01:19.481Z"
   },
   {
    "duration": 24,
    "start_time": "2022-05-06T18:01:28.861Z"
   },
   {
    "duration": 26,
    "start_time": "2022-05-06T18:02:07.829Z"
   },
   {
    "duration": 89,
    "start_time": "2022-05-06T18:03:28.236Z"
   },
   {
    "duration": 300,
    "start_time": "2022-05-06T18:08:08.940Z"
   },
   {
    "duration": 259,
    "start_time": "2022-05-06T18:08:57.866Z"
   },
   {
    "duration": 114,
    "start_time": "2022-05-06T18:12:25.183Z"
   },
   {
    "duration": 111,
    "start_time": "2022-05-06T18:12:47.097Z"
   },
   {
    "duration": 134,
    "start_time": "2022-05-06T18:13:10.867Z"
   },
   {
    "duration": 114,
    "start_time": "2022-05-06T18:13:51.781Z"
   },
   {
    "duration": 321,
    "start_time": "2022-05-06T18:14:00.559Z"
   },
   {
    "duration": 240,
    "start_time": "2022-05-06T18:14:16.577Z"
   },
   {
    "duration": 47,
    "start_time": "2022-05-06T20:57:35.539Z"
   },
   {
    "duration": 1518,
    "start_time": "2022-05-06T20:57:50.483Z"
   },
   {
    "duration": 143,
    "start_time": "2022-05-06T20:57:52.003Z"
   },
   {
    "duration": 21,
    "start_time": "2022-05-06T20:57:52.147Z"
   },
   {
    "duration": 19,
    "start_time": "2022-05-06T20:57:55.001Z"
   },
   {
    "duration": 74,
    "start_time": "2022-05-06T20:57:55.663Z"
   },
   {
    "duration": 95,
    "start_time": "2022-05-06T20:57:56.479Z"
   },
   {
    "duration": 61,
    "start_time": "2022-05-06T20:57:57.776Z"
   },
   {
    "duration": 7,
    "start_time": "2022-05-06T20:58:00.563Z"
   },
   {
    "duration": 512,
    "start_time": "2022-05-06T20:58:00.977Z"
   },
   {
    "duration": 7,
    "start_time": "2022-05-06T20:58:01.491Z"
   },
   {
    "duration": 6,
    "start_time": "2022-05-06T20:58:02.126Z"
   },
   {
    "duration": 6,
    "start_time": "2022-05-06T20:58:03.854Z"
   },
   {
    "duration": 298,
    "start_time": "2022-05-06T20:58:05.263Z"
   },
   {
    "duration": 72,
    "start_time": "2022-05-06T20:58:09.268Z"
   },
   {
    "duration": 1441,
    "start_time": "2022-05-06T20:58:09.692Z"
   },
   {
    "duration": 47,
    "start_time": "2022-05-06T20:58:20.224Z"
   },
   {
    "duration": 11,
    "start_time": "2022-05-06T20:58:23.366Z"
   },
   {
    "duration": 22,
    "start_time": "2022-05-06T20:58:36.733Z"
   },
   {
    "duration": 6,
    "start_time": "2022-05-06T20:58:42.562Z"
   },
   {
    "duration": 6,
    "start_time": "2022-05-06T20:58:44.878Z"
   },
   {
    "duration": 57,
    "start_time": "2022-05-06T20:58:45.271Z"
   },
   {
    "duration": 95,
    "start_time": "2022-05-06T20:58:45.762Z"
   },
   {
    "duration": 227,
    "start_time": "2022-05-06T20:58:46.488Z"
   },
   {
    "duration": 100,
    "start_time": "2022-05-06T20:58:48.838Z"
   },
   {
    "duration": 242,
    "start_time": "2022-05-06T20:58:50.071Z"
   },
   {
    "duration": 183,
    "start_time": "2022-05-06T20:58:51.713Z"
   },
   {
    "duration": 158,
    "start_time": "2022-05-06T20:58:52.872Z"
   },
   {
    "duration": 141,
    "start_time": "2022-05-06T20:58:53.675Z"
   },
   {
    "duration": 110,
    "start_time": "2022-05-06T20:58:54.328Z"
   },
   {
    "duration": 111,
    "start_time": "2022-05-06T20:58:54.870Z"
   },
   {
    "duration": 3,
    "start_time": "2022-05-06T20:58:57.446Z"
   },
   {
    "duration": 9,
    "start_time": "2022-05-06T20:58:57.978Z"
   },
   {
    "duration": 718,
    "start_time": "2022-05-06T20:58:58.362Z"
   },
   {
    "duration": 5959,
    "start_time": "2022-05-06T20:58:59.083Z"
   },
   {
    "duration": 13,
    "start_time": "2022-05-06T20:59:05.045Z"
   },
   {
    "duration": 23,
    "start_time": "2022-05-06T20:59:05.060Z"
   },
   {
    "duration": 10,
    "start_time": "2022-05-06T20:59:05.085Z"
   },
   {
    "duration": 27,
    "start_time": "2022-05-06T20:59:05.098Z"
   },
   {
    "duration": 5,
    "start_time": "2022-05-06T20:59:05.127Z"
   },
   {
    "duration": 66,
    "start_time": "2022-05-06T20:59:11.986Z"
   },
   {
    "duration": 5,
    "start_time": "2022-05-06T20:59:40.378Z"
   },
   {
    "duration": 92,
    "start_time": "2022-05-06T21:03:13.412Z"
   },
   {
    "duration": 101,
    "start_time": "2022-05-06T21:03:20.018Z"
   },
   {
    "duration": 235,
    "start_time": "2022-05-06T21:03:26.451Z"
   },
   {
    "duration": 33,
    "start_time": "2022-05-06T21:03:32.107Z"
   },
   {
    "duration": 1430,
    "start_time": "2022-05-06T21:03:32.493Z"
   },
   {
    "duration": 0,
    "start_time": "2022-05-06T21:03:33.925Z"
   },
   {
    "duration": 0,
    "start_time": "2022-05-06T21:03:33.926Z"
   },
   {
    "duration": 0,
    "start_time": "2022-05-06T21:03:33.927Z"
   },
   {
    "duration": 16,
    "start_time": "2022-05-06T21:03:56.128Z"
   },
   {
    "duration": 9,
    "start_time": "2022-05-06T21:03:56.875Z"
   },
   {
    "duration": 5,
    "start_time": "2022-05-06T21:03:57.586Z"
   },
   {
    "duration": 23,
    "start_time": "2022-05-06T21:04:57.647Z"
   },
   {
    "duration": 1416,
    "start_time": "2022-05-06T21:04:58.209Z"
   },
   {
    "duration": 0,
    "start_time": "2022-05-06T21:04:59.626Z"
   },
   {
    "duration": 0,
    "start_time": "2022-05-06T21:04:59.628Z"
   },
   {
    "duration": 13,
    "start_time": "2022-05-06T21:05:22.831Z"
   },
   {
    "duration": 5,
    "start_time": "2022-05-06T21:05:23.796Z"
   },
   {
    "duration": 7,
    "start_time": "2022-05-06T21:05:24.920Z"
   },
   {
    "duration": 39,
    "start_time": "2022-05-06T21:05:25.327Z"
   },
   {
    "duration": 85,
    "start_time": "2022-05-06T21:05:26.597Z"
   },
   {
    "duration": 201,
    "start_time": "2022-05-06T21:05:27.566Z"
   },
   {
    "duration": 101,
    "start_time": "2022-05-06T21:05:28.212Z"
   },
   {
    "duration": 143,
    "start_time": "2022-05-06T21:05:29.077Z"
   },
   {
    "duration": 181,
    "start_time": "2022-05-06T21:05:30.418Z"
   },
   {
    "duration": 352,
    "start_time": "2022-05-06T21:05:31.403Z"
   },
   {
    "duration": 142,
    "start_time": "2022-05-06T21:05:31.822Z"
   },
   {
    "duration": 114,
    "start_time": "2022-05-06T21:05:32.356Z"
   },
   {
    "duration": 114,
    "start_time": "2022-05-06T21:05:32.809Z"
   },
   {
    "duration": 3,
    "start_time": "2022-05-06T21:05:35.458Z"
   },
   {
    "duration": 9,
    "start_time": "2022-05-06T21:05:36.068Z"
   },
   {
    "duration": 430,
    "start_time": "2022-05-06T21:05:36.620Z"
   },
   {
    "duration": 3487,
    "start_time": "2022-05-06T21:05:37.106Z"
   },
   {
    "duration": 9,
    "start_time": "2022-05-06T21:05:40.595Z"
   },
   {
    "duration": 26,
    "start_time": "2022-05-06T21:05:40.606Z"
   },
   {
    "duration": 8,
    "start_time": "2022-05-06T21:05:40.635Z"
   },
   {
    "duration": 4,
    "start_time": "2022-05-06T21:05:43.770Z"
   },
   {
    "duration": 3,
    "start_time": "2022-05-06T21:05:44.254Z"
   },
   {
    "duration": 66,
    "start_time": "2022-05-06T21:05:47.101Z"
   },
   {
    "duration": 1344,
    "start_time": "2022-05-06T21:05:58.614Z"
   },
   {
    "duration": 148,
    "start_time": "2022-05-06T21:06:01.351Z"
   },
   {
    "duration": 21,
    "start_time": "2022-05-06T21:06:01.998Z"
   },
   {
    "duration": 19,
    "start_time": "2022-05-06T21:06:02.532Z"
   },
   {
    "duration": 75,
    "start_time": "2022-05-06T21:06:02.937Z"
   },
   {
    "duration": 75,
    "start_time": "2022-05-06T21:06:03.350Z"
   },
   {
    "duration": 57,
    "start_time": "2022-05-06T21:06:03.823Z"
   },
   {
    "duration": 6,
    "start_time": "2022-05-06T21:06:05.183Z"
   },
   {
    "duration": 505,
    "start_time": "2022-05-06T21:06:05.592Z"
   },
   {
    "duration": 6,
    "start_time": "2022-05-06T21:06:06.099Z"
   },
   {
    "duration": 7,
    "start_time": "2022-05-06T21:06:06.481Z"
   },
   {
    "duration": 7,
    "start_time": "2022-05-06T21:06:06.946Z"
   },
   {
    "duration": 282,
    "start_time": "2022-05-06T21:06:07.426Z"
   },
   {
    "duration": 48,
    "start_time": "2022-05-06T21:06:07.840Z"
   },
   {
    "duration": 12,
    "start_time": "2022-05-06T21:06:08.255Z"
   },
   {
    "duration": 23,
    "start_time": "2022-05-06T21:06:09.557Z"
   },
   {
    "duration": 5,
    "start_time": "2022-05-06T21:06:10.266Z"
   },
   {
    "duration": 6,
    "start_time": "2022-05-06T21:06:10.732Z"
   },
   {
    "duration": 52,
    "start_time": "2022-05-06T21:06:11.256Z"
   },
   {
    "duration": 95,
    "start_time": "2022-05-06T21:06:33.945Z"
   },
   {
    "duration": 217,
    "start_time": "2022-05-06T21:06:36.329Z"
   },
   {
    "duration": 109,
    "start_time": "2022-05-06T21:06:37.156Z"
   },
   {
    "duration": 146,
    "start_time": "2022-05-06T21:06:37.615Z"
   },
   {
    "duration": 245,
    "start_time": "2022-05-06T21:06:39.354Z"
   },
   {
    "duration": 153,
    "start_time": "2022-05-06T21:06:40.342Z"
   },
   {
    "duration": 137,
    "start_time": "2022-05-06T21:06:40.787Z"
   },
   {
    "duration": 110,
    "start_time": "2022-05-06T21:06:41.429Z"
   },
   {
    "duration": 109,
    "start_time": "2022-05-06T21:06:42.239Z"
   },
   {
    "duration": 3,
    "start_time": "2022-05-06T21:06:45.186Z"
   },
   {
    "duration": 8,
    "start_time": "2022-05-06T21:06:45.935Z"
   },
   {
    "duration": 423,
    "start_time": "2022-05-06T21:06:47.722Z"
   },
   {
    "duration": 3513,
    "start_time": "2022-05-06T21:06:48.321Z"
   },
   {
    "duration": 11,
    "start_time": "2022-05-06T21:06:51.837Z"
   },
   {
    "duration": 18,
    "start_time": "2022-05-06T21:06:52.421Z"
   },
   {
    "duration": 11,
    "start_time": "2022-05-06T21:06:52.948Z"
   },
   {
    "duration": 4,
    "start_time": "2022-05-06T21:06:56.475Z"
   },
   {
    "duration": 3,
    "start_time": "2022-05-06T21:06:56.964Z"
   },
   {
    "duration": 60,
    "start_time": "2022-05-06T21:06:58.582Z"
   },
   {
    "duration": 18,
    "start_time": "2022-05-06T21:07:08.765Z"
   },
   {
    "duration": 3,
    "start_time": "2022-05-06T21:07:09.384Z"
   },
   {
    "duration": 3,
    "start_time": "2022-05-06T21:07:10.071Z"
   },
   {
    "duration": 16,
    "start_time": "2022-05-06T21:07:13.938Z"
   },
   {
    "duration": 3,
    "start_time": "2022-05-06T21:07:18.117Z"
   },
   {
    "duration": 12,
    "start_time": "2022-05-06T21:07:18.576Z"
   },
   {
    "duration": 160,
    "start_time": "2022-05-06T21:07:19.387Z"
   },
   {
    "duration": 3206,
    "start_time": "2022-05-06T21:07:23.319Z"
   },
   {
    "duration": 57585,
    "start_time": "2022-05-06T21:07:30.219Z"
   },
   {
    "duration": 19,
    "start_time": "2022-05-06T21:09:40.126Z"
   },
   {
    "duration": 53,
    "start_time": "2022-05-06T21:10:00.440Z"
   },
   {
    "duration": 15,
    "start_time": "2022-05-06T21:10:02.259Z"
   },
   {
    "duration": 4,
    "start_time": "2022-05-06T21:10:02.779Z"
   },
   {
    "duration": 4,
    "start_time": "2022-05-06T21:10:03.441Z"
   },
   {
    "duration": 13,
    "start_time": "2022-05-06T21:10:05.475Z"
   },
   {
    "duration": 3,
    "start_time": "2022-05-06T21:10:05.949Z"
   },
   {
    "duration": 9,
    "start_time": "2022-05-06T21:10:06.474Z"
   },
   {
    "duration": 149,
    "start_time": "2022-05-06T21:10:06.854Z"
   },
   {
    "duration": 14889,
    "start_time": "2022-05-06T21:10:08.938Z"
   },
   {
    "duration": 54404,
    "start_time": "2022-05-06T21:10:26.082Z"
   },
   {
    "duration": 5507,
    "start_time": "2022-05-07T18:50:09.604Z"
   },
   {
    "duration": 4,
    "start_time": "2022-05-07T18:52:14.445Z"
   },
   {
    "duration": 102,
    "start_time": "2022-05-07T18:52:56.186Z"
   },
   {
    "duration": 3,
    "start_time": "2022-05-07T18:53:14.775Z"
   },
   {
    "duration": 24,
    "start_time": "2022-05-07T18:53:17.353Z"
   },
   {
    "duration": 4,
    "start_time": "2022-05-07T18:53:23.852Z"
   },
   {
    "duration": 27,
    "start_time": "2022-05-07T18:53:24.467Z"
   },
   {
    "duration": 4,
    "start_time": "2022-05-07T18:53:24.908Z"
   },
   {
    "duration": 73554,
    "start_time": "2022-05-07T18:53:26.312Z"
   },
   {
    "duration": 7,
    "start_time": "2022-05-07T18:54:55.583Z"
   },
   {
    "duration": 10,
    "start_time": "2022-05-07T18:56:24.903Z"
   },
   {
    "duration": 1477,
    "start_time": "2022-05-07T18:56:34.478Z"
   },
   {
    "duration": 105,
    "start_time": "2022-05-07T18:56:52.091Z"
   },
   {
    "duration": 106,
    "start_time": "2022-05-07T18:56:55.380Z"
   },
   {
    "duration": 5,
    "start_time": "2022-05-07T18:57:56.391Z"
   },
   {
    "duration": 22,
    "start_time": "2022-05-07T18:58:08.052Z"
   },
   {
    "duration": 4,
    "start_time": "2022-05-07T18:58:13.360Z"
   },
   {
    "duration": 20,
    "start_time": "2022-05-07T18:58:13.831Z"
   },
   {
    "duration": 4,
    "start_time": "2022-05-07T18:58:14.367Z"
   },
   {
    "duration": 38740,
    "start_time": "2022-05-07T18:58:14.895Z"
   },
   {
    "duration": 7,
    "start_time": "2022-05-07T18:59:00.998Z"
   },
   {
    "duration": 845,
    "start_time": "2022-05-07T18:59:13.095Z"
   },
   {
    "duration": 837,
    "start_time": "2022-05-07T18:59:16.225Z"
   },
   {
    "duration": 127,
    "start_time": "2022-05-07T18:59:17.939Z"
   },
   {
    "duration": 107,
    "start_time": "2022-05-07T18:59:19.306Z"
   },
   {
    "duration": 72,
    "start_time": "2022-05-07T18:59:46.216Z"
   },
   {
    "duration": 3,
    "start_time": "2022-05-07T18:59:51.261Z"
   },
   {
    "duration": 1137,
    "start_time": "2022-05-07T18:59:57.061Z"
   },
   {
    "duration": 16,
    "start_time": "2022-05-07T19:00:00.607Z"
   },
   {
    "duration": 4002,
    "start_time": "2022-05-07T19:01:07.575Z"
   },
   {
    "duration": 19,
    "start_time": "2022-05-07T19:02:29.397Z"
   },
   {
    "duration": 5965,
    "start_time": "2022-05-07T19:02:32.873Z"
   },
   {
    "duration": 20,
    "start_time": "2022-05-07T19:02:40.802Z"
   },
   {
    "duration": 184,
    "start_time": "2022-05-07T19:04:49.361Z"
   },
   {
    "duration": 191,
    "start_time": "2022-05-07T19:08:37.558Z"
   },
   {
    "duration": 283,
    "start_time": "2022-05-07T19:08:53.029Z"
   },
   {
    "duration": 94,
    "start_time": "2022-05-07T19:09:19.077Z"
   },
   {
    "duration": 181,
    "start_time": "2022-05-07T19:09:30.456Z"
   },
   {
    "duration": 99,
    "start_time": "2022-05-07T19:10:10.521Z"
   },
   {
    "duration": 96,
    "start_time": "2022-05-07T19:10:36.716Z"
   },
   {
    "duration": 181,
    "start_time": "2022-05-07T19:10:48.951Z"
   },
   {
    "duration": 203,
    "start_time": "2022-05-07T19:13:39.215Z"
   },
   {
    "duration": 196,
    "start_time": "2022-05-07T19:13:53.985Z"
   },
   {
    "duration": 10,
    "start_time": "2022-05-07T19:14:44.354Z"
   },
   {
    "duration": 15,
    "start_time": "2022-05-07T19:14:58.036Z"
   },
   {
    "duration": 14,
    "start_time": "2022-05-07T19:15:16.560Z"
   },
   {
    "duration": 177,
    "start_time": "2022-05-07T19:15:33.634Z"
   },
   {
    "duration": 18,
    "start_time": "2022-05-07T19:16:04.688Z"
   },
   {
    "duration": 176,
    "start_time": "2022-05-07T19:17:23.425Z"
   },
   {
    "duration": 1790,
    "start_time": "2022-05-07T19:18:32.912Z"
   },
   {
    "duration": 128,
    "start_time": "2022-05-07T19:26:41.044Z"
   },
   {
    "duration": 119,
    "start_time": "2022-05-07T19:27:15.278Z"
   },
   {
    "duration": 14,
    "start_time": "2022-05-07T19:27:45.999Z"
   },
   {
    "duration": 4,
    "start_time": "2022-05-07T19:27:53.986Z"
   },
   {
    "duration": 10,
    "start_time": "2022-05-07T19:28:06.106Z"
   },
   {
    "duration": 10,
    "start_time": "2022-05-07T19:28:43.111Z"
   },
   {
    "duration": 11,
    "start_time": "2022-05-07T19:28:48.893Z"
   },
   {
    "duration": 12,
    "start_time": "2022-05-07T19:29:29.107Z"
   },
   {
    "duration": 19,
    "start_time": "2022-05-07T19:29:37.081Z"
   },
   {
    "duration": 18,
    "start_time": "2022-05-07T19:30:07.262Z"
   },
   {
    "duration": 10,
    "start_time": "2022-05-07T19:30:23.016Z"
   },
   {
    "duration": 15,
    "start_time": "2022-05-07T19:30:37.354Z"
   },
   {
    "duration": 121,
    "start_time": "2022-05-07T19:30:49.241Z"
   },
   {
    "duration": 147,
    "start_time": "2022-05-07T19:31:39.853Z"
   },
   {
    "duration": 135,
    "start_time": "2022-05-07T19:33:21.069Z"
   },
   {
    "duration": 101,
    "start_time": "2022-05-07T19:47:44.199Z"
   },
   {
    "duration": 71,
    "start_time": "2022-05-07T19:49:23.457Z"
   },
   {
    "duration": 112,
    "start_time": "2022-05-07T19:49:34.539Z"
   },
   {
    "duration": 223,
    "start_time": "2022-05-07T20:00:19.733Z"
   },
   {
    "duration": 345,
    "start_time": "2022-05-07T20:00:32.662Z"
   },
   {
    "duration": 247,
    "start_time": "2022-05-07T20:01:08.640Z"
   },
   {
    "duration": 233,
    "start_time": "2022-05-07T20:01:13.249Z"
   },
   {
    "duration": 135,
    "start_time": "2022-05-07T20:01:22.951Z"
   },
   {
    "duration": 123,
    "start_time": "2022-05-07T20:02:04.573Z"
   },
   {
    "duration": 115,
    "start_time": "2022-05-07T20:02:20.879Z"
   },
   {
    "duration": 1382,
    "start_time": "2022-05-07T20:14:52.467Z"
   },
   {
    "duration": 137,
    "start_time": "2022-05-07T20:14:53.851Z"
   },
   {
    "duration": 21,
    "start_time": "2022-05-07T20:14:53.989Z"
   },
   {
    "duration": 26,
    "start_time": "2022-05-07T20:14:54.012Z"
   },
   {
    "duration": 80,
    "start_time": "2022-05-07T20:14:54.039Z"
   },
   {
    "duration": 79,
    "start_time": "2022-05-07T20:14:54.121Z"
   },
   {
    "duration": 70,
    "start_time": "2022-05-07T20:14:54.202Z"
   },
   {
    "duration": 7,
    "start_time": "2022-05-07T20:14:54.274Z"
   },
   {
    "duration": 515,
    "start_time": "2022-05-07T20:14:54.282Z"
   },
   {
    "duration": 7,
    "start_time": "2022-05-07T20:14:54.800Z"
   },
   {
    "duration": 15,
    "start_time": "2022-05-07T20:14:54.809Z"
   },
   {
    "duration": 7,
    "start_time": "2022-05-07T20:14:54.826Z"
   },
   {
    "duration": 262,
    "start_time": "2022-05-07T20:14:54.834Z"
   },
   {
    "duration": 47,
    "start_time": "2022-05-07T20:14:55.097Z"
   },
   {
    "duration": 11,
    "start_time": "2022-05-07T20:14:55.146Z"
   },
   {
    "duration": 24,
    "start_time": "2022-05-07T20:14:55.159Z"
   },
   {
    "duration": 5,
    "start_time": "2022-05-07T20:14:55.184Z"
   },
   {
    "duration": 9,
    "start_time": "2022-05-07T20:14:55.191Z"
   },
   {
    "duration": 54,
    "start_time": "2022-05-07T20:14:55.224Z"
   },
   {
    "duration": 100,
    "start_time": "2022-05-07T20:14:55.279Z"
   },
   {
    "duration": 246,
    "start_time": "2022-05-07T20:14:55.380Z"
   },
   {
    "duration": 111,
    "start_time": "2022-05-07T20:14:55.628Z"
   },
   {
    "duration": 122,
    "start_time": "2022-05-07T20:14:55.741Z"
   },
   {
    "duration": 215,
    "start_time": "2022-05-07T20:14:55.865Z"
   },
   {
    "duration": 137,
    "start_time": "2022-05-07T20:14:56.082Z"
   },
   {
    "duration": 139,
    "start_time": "2022-05-07T20:14:56.220Z"
   },
   {
    "duration": 122,
    "start_time": "2022-05-07T20:14:56.360Z"
   },
   {
    "duration": 118,
    "start_time": "2022-05-07T20:14:56.487Z"
   },
   {
    "duration": 182,
    "start_time": "2022-05-07T20:14:56.607Z"
   },
   {
    "duration": 3,
    "start_time": "2022-05-07T20:14:56.791Z"
   },
   {
    "duration": 10,
    "start_time": "2022-05-07T20:14:56.796Z"
   },
   {
    "duration": 429,
    "start_time": "2022-05-07T20:14:56.808Z"
   },
   {
    "duration": 3189,
    "start_time": "2022-05-07T20:14:57.239Z"
   },
   {
    "duration": 8,
    "start_time": "2022-05-07T20:15:00.430Z"
   },
   {
    "duration": 20,
    "start_time": "2022-05-07T20:15:00.440Z"
   },
   {
    "duration": 12,
    "start_time": "2022-05-07T20:15:00.461Z"
   },
   {
    "duration": 4,
    "start_time": "2022-05-07T20:15:00.474Z"
   },
   {
    "duration": 8,
    "start_time": "2022-05-07T20:15:00.480Z"
   },
   {
    "duration": 81,
    "start_time": "2022-05-07T20:15:00.489Z"
   },
   {
    "duration": 16,
    "start_time": "2022-05-07T20:15:00.572Z"
   },
   {
    "duration": 3,
    "start_time": "2022-05-07T20:15:00.590Z"
   },
   {
    "duration": 24,
    "start_time": "2022-05-07T20:15:00.595Z"
   },
   {
    "duration": 19,
    "start_time": "2022-05-07T20:15:00.621Z"
   },
   {
    "duration": 3,
    "start_time": "2022-05-07T20:15:00.642Z"
   },
   {
    "duration": 17,
    "start_time": "2022-05-07T20:15:00.646Z"
   },
   {
    "duration": 161,
    "start_time": "2022-05-07T20:15:00.664Z"
   },
   {
    "duration": 14503,
    "start_time": "2022-05-07T20:15:00.827Z"
   },
   {
    "duration": 54703,
    "start_time": "2022-05-07T20:15:15.332Z"
   },
   {
    "duration": 3923,
    "start_time": "2022-05-07T20:16:10.037Z"
   },
   {
    "duration": 3,
    "start_time": "2022-05-07T20:16:13.962Z"
   },
   {
    "duration": 9,
    "start_time": "2022-05-07T20:16:13.966Z"
   },
   {
    "duration": 38,
    "start_time": "2022-05-07T20:16:13.976Z"
   },
   {
    "duration": 4,
    "start_time": "2022-05-07T20:16:14.024Z"
   },
   {
    "duration": 75452,
    "start_time": "2022-05-07T20:16:14.030Z"
   },
   {
    "duration": 7,
    "start_time": "2022-05-07T20:17:29.484Z"
   },
   {
    "duration": 2558,
    "start_time": "2022-05-07T20:17:29.493Z"
   },
   {
    "duration": 143,
    "start_time": "2022-05-07T20:17:32.053Z"
   },
   {
    "duration": 121,
    "start_time": "2022-05-07T20:17:32.198Z"
   },
   {
    "duration": 4,
    "start_time": "2022-05-07T20:17:32.321Z"
   },
   {
    "duration": 26,
    "start_time": "2022-05-07T20:17:32.327Z"
   },
   {
    "duration": 6,
    "start_time": "2022-05-07T20:17:32.355Z"
   },
   {
    "duration": 50338,
    "start_time": "2022-05-07T20:17:32.363Z"
   },
   {
    "duration": 7,
    "start_time": "2022-05-07T20:18:22.703Z"
   },
   {
    "duration": 618,
    "start_time": "2022-05-07T20:18:22.711Z"
   },
   {
    "duration": 106,
    "start_time": "2022-05-07T20:18:23.331Z"
   },
   {
    "duration": 111,
    "start_time": "2022-05-07T20:18:23.439Z"
   },
   {
    "duration": 81,
    "start_time": "2022-05-07T20:18:23.552Z"
   },
   {
    "duration": 66,
    "start_time": "2022-05-07T20:18:23.634Z"
   },
   {
    "duration": 115,
    "start_time": "2022-05-07T20:18:23.702Z"
   },
   {
    "duration": 4,
    "start_time": "2022-05-07T20:18:23.823Z"
   },
   {
    "duration": 5941,
    "start_time": "2022-05-07T20:18:23.829Z"
   },
   {
    "duration": 24,
    "start_time": "2022-05-07T20:18:29.773Z"
   },
   {
    "duration": 45,
    "start_time": "2022-05-08T21:31:30.479Z"
   },
   {
    "duration": 1656,
    "start_time": "2022-05-08T21:31:33.301Z"
   },
   {
    "duration": 159,
    "start_time": "2022-05-08T21:31:34.960Z"
   },
   {
    "duration": 28,
    "start_time": "2022-05-08T21:31:35.120Z"
   },
   {
    "duration": 18,
    "start_time": "2022-05-08T21:31:38.638Z"
   },
   {
    "duration": 114,
    "start_time": "2022-05-08T21:31:39.923Z"
   },
   {
    "duration": 4,
    "start_time": "2022-05-14T07:43:52.450Z"
   },
   {
    "duration": 148,
    "start_time": "2022-05-14T07:43:52.826Z"
   },
   {
    "duration": 19,
    "start_time": "2022-05-14T07:43:53.027Z"
   },
   {
    "duration": 18,
    "start_time": "2022-05-14T07:43:53.218Z"
   },
   {
    "duration": 116,
    "start_time": "2022-05-14T07:43:53.418Z"
   },
   {
    "duration": 140,
    "start_time": "2022-05-14T07:43:54.460Z"
   },
   {
    "duration": 66,
    "start_time": "2022-05-14T07:43:55.000Z"
   },
   {
    "duration": 110,
    "start_time": "2022-05-14T07:47:47.380Z"
   },
   {
    "duration": 11,
    "start_time": "2022-05-14T07:48:34.169Z"
   },
   {
    "duration": 10,
    "start_time": "2022-05-14T07:49:13.634Z"
   },
   {
    "duration": 233,
    "start_time": "2022-05-14T08:05:17.053Z"
   },
   {
    "duration": 354,
    "start_time": "2022-05-14T08:08:52.549Z"
   },
   {
    "duration": 254,
    "start_time": "2022-05-14T08:10:20.076Z"
   },
   {
    "duration": 236,
    "start_time": "2022-05-14T08:10:41.242Z"
   },
   {
    "duration": 240,
    "start_time": "2022-05-14T08:10:45.409Z"
   },
   {
    "duration": 114,
    "start_time": "2022-05-14T08:11:34.015Z"
   },
   {
    "duration": 115,
    "start_time": "2022-05-14T08:12:07.183Z"
   },
   {
    "duration": 25,
    "start_time": "2022-05-14T08:17:22.818Z"
   },
   {
    "duration": 10,
    "start_time": "2022-05-14T08:17:47.957Z"
   },
   {
    "duration": 16,
    "start_time": "2022-05-14T08:17:59.973Z"
   },
   {
    "duration": 17,
    "start_time": "2022-05-14T08:18:14.630Z"
   },
   {
    "duration": 4,
    "start_time": "2022-05-14T08:18:30.561Z"
   },
   {
    "duration": 164,
    "start_time": "2022-05-14T08:18:30.947Z"
   },
   {
    "duration": 17,
    "start_time": "2022-05-14T08:18:31.140Z"
   },
   {
    "duration": 18,
    "start_time": "2022-05-14T08:18:31.348Z"
   },
   {
    "duration": 117,
    "start_time": "2022-05-14T08:18:31.561Z"
   },
   {
    "duration": 93,
    "start_time": "2022-05-14T08:18:31.992Z"
   },
   {
    "duration": 61,
    "start_time": "2022-05-14T08:18:32.203Z"
   },
   {
    "duration": 10,
    "start_time": "2022-05-14T08:18:34.420Z"
   },
   {
    "duration": 506,
    "start_time": "2022-05-14T08:18:36.187Z"
   },
   {
    "duration": 7,
    "start_time": "2022-05-14T08:18:36.695Z"
   },
   {
    "duration": 7,
    "start_time": "2022-05-14T08:18:37.960Z"
   },
   {
    "duration": 8,
    "start_time": "2022-05-14T08:18:38.435Z"
   },
   {
    "duration": 249,
    "start_time": "2022-05-14T08:18:41.690Z"
   },
   {
    "duration": 47,
    "start_time": "2022-05-14T08:18:47.601Z"
   },
   {
    "duration": 13,
    "start_time": "2022-05-14T08:18:48.514Z"
   },
   {
    "duration": 28,
    "start_time": "2022-05-14T08:18:51.046Z"
   },
   {
    "duration": 6,
    "start_time": "2022-05-14T08:18:51.445Z"
   },
   {
    "duration": 7,
    "start_time": "2022-05-14T08:18:51.832Z"
   },
   {
    "duration": 60,
    "start_time": "2022-05-14T08:18:52.239Z"
   },
   {
    "duration": 102,
    "start_time": "2022-05-14T08:18:52.912Z"
   },
   {
    "duration": 226,
    "start_time": "2022-05-14T08:18:57.963Z"
   },
   {
    "duration": 242,
    "start_time": "2022-05-14T08:19:00.409Z"
   },
   {
    "duration": 107,
    "start_time": "2022-05-14T08:19:04.218Z"
   },
   {
    "duration": 17,
    "start_time": "2022-05-14T08:19:05.863Z"
   },
   {
    "duration": 16,
    "start_time": "2022-05-14T08:20:30.053Z"
   },
   {
    "duration": 4,
    "start_time": "2022-05-14T08:22:18.456Z"
   },
   {
    "duration": 4,
    "start_time": "2022-05-14T08:22:26.236Z"
   },
   {
    "duration": 3,
    "start_time": "2022-05-14T08:24:33.743Z"
   },
   {
    "duration": 131,
    "start_time": "2022-05-14T08:25:08.378Z"
   },
   {
    "duration": 158,
    "start_time": "2022-05-14T08:25:27.245Z"
   },
   {
    "duration": 116,
    "start_time": "2022-05-14T08:26:18.043Z"
   },
   {
    "duration": 112,
    "start_time": "2022-05-14T08:26:25.233Z"
   },
   {
    "duration": 109,
    "start_time": "2022-05-14T08:26:38.490Z"
   },
   {
    "duration": 103,
    "start_time": "2022-05-14T08:26:43.111Z"
   },
   {
    "duration": 188,
    "start_time": "2022-05-14T08:26:57.510Z"
   },
   {
    "duration": 230,
    "start_time": "2022-05-14T08:35:45.741Z"
   },
   {
    "duration": 328,
    "start_time": "2022-05-14T08:36:20.585Z"
   },
   {
    "duration": 215,
    "start_time": "2022-05-14T08:39:05.738Z"
   },
   {
    "duration": 125,
    "start_time": "2022-05-14T08:39:12.564Z"
   },
   {
    "duration": 131,
    "start_time": "2022-05-14T08:39:15.603Z"
   },
   {
    "duration": 166,
    "start_time": "2022-05-14T08:39:29.777Z"
   },
   {
    "duration": 160,
    "start_time": "2022-05-14T08:40:41.520Z"
   },
   {
    "duration": 11,
    "start_time": "2022-05-14T08:41:14.160Z"
   },
   {
    "duration": 173,
    "start_time": "2022-05-14T08:41:31.285Z"
   },
   {
    "duration": 176,
    "start_time": "2022-05-14T08:42:19.915Z"
   },
   {
    "duration": 122,
    "start_time": "2022-05-14T08:48:18.135Z"
   },
   {
    "duration": 10,
    "start_time": "2022-05-14T09:04:27.936Z"
   },
   {
    "duration": 131,
    "start_time": "2022-05-14T09:06:38.412Z"
   },
   {
    "duration": 11,
    "start_time": "2022-05-14T09:06:47.342Z"
   },
   {
    "duration": 1478,
    "start_time": "2022-05-14T09:10:12.279Z"
   },
   {
    "duration": 159,
    "start_time": "2022-05-14T09:10:13.760Z"
   },
   {
    "duration": 26,
    "start_time": "2022-05-14T09:10:13.921Z"
   },
   {
    "duration": 18,
    "start_time": "2022-05-14T09:10:13.950Z"
   },
   {
    "duration": 130,
    "start_time": "2022-05-14T09:10:13.969Z"
   },
   {
    "duration": 87,
    "start_time": "2022-05-14T09:10:14.100Z"
   },
   {
    "duration": 63,
    "start_time": "2022-05-14T09:10:14.189Z"
   },
   {
    "duration": 9,
    "start_time": "2022-05-14T09:10:14.254Z"
   },
   {
    "duration": 536,
    "start_time": "2022-05-14T09:10:14.264Z"
   },
   {
    "duration": 7,
    "start_time": "2022-05-14T09:10:14.803Z"
   },
   {
    "duration": 7,
    "start_time": "2022-05-14T09:10:14.811Z"
   },
   {
    "duration": 24,
    "start_time": "2022-05-14T09:10:14.819Z"
   },
   {
    "duration": 231,
    "start_time": "2022-05-14T09:10:14.844Z"
   },
   {
    "duration": 50,
    "start_time": "2022-05-14T09:10:15.076Z"
   },
   {
    "duration": 12,
    "start_time": "2022-05-14T09:10:15.128Z"
   },
   {
    "duration": 24,
    "start_time": "2022-05-14T09:10:15.142Z"
   },
   {
    "duration": 5,
    "start_time": "2022-05-14T09:10:15.168Z"
   },
   {
    "duration": 10,
    "start_time": "2022-05-14T09:10:15.174Z"
   },
   {
    "duration": 71,
    "start_time": "2022-05-14T09:10:15.186Z"
   },
   {
    "duration": 102,
    "start_time": "2022-05-14T09:10:15.259Z"
   },
   {
    "duration": 259,
    "start_time": "2022-05-14T09:10:15.363Z"
   },
   {
    "duration": 111,
    "start_time": "2022-05-14T09:10:15.623Z"
   },
   {
    "duration": 19,
    "start_time": "2022-05-14T09:10:15.736Z"
   },
   {
    "duration": 3,
    "start_time": "2022-05-14T09:10:15.757Z"
   },
   {
    "duration": 179,
    "start_time": "2022-05-14T09:10:15.761Z"
   },
   {
    "duration": 229,
    "start_time": "2022-05-14T09:10:15.943Z"
   },
   {
    "duration": 163,
    "start_time": "2022-05-14T09:10:16.173Z"
   },
   {
    "duration": 136,
    "start_time": "2022-05-14T09:10:16.344Z"
   },
   {
    "duration": 147,
    "start_time": "2022-05-14T09:10:16.481Z"
   },
   {
    "duration": 119,
    "start_time": "2022-05-14T09:10:16.630Z"
   },
   {
    "duration": 113,
    "start_time": "2022-05-14T09:10:16.751Z"
   },
   {
    "duration": 209,
    "start_time": "2022-05-14T09:10:16.865Z"
   },
   {
    "duration": 3,
    "start_time": "2022-05-14T09:10:17.075Z"
   },
   {
    "duration": 32,
    "start_time": "2022-05-14T09:10:17.080Z"
   },
   {
    "duration": 443,
    "start_time": "2022-05-14T09:10:17.113Z"
   },
   {
    "duration": 3181,
    "start_time": "2022-05-14T09:10:17.557Z"
   },
   {
    "duration": 10,
    "start_time": "2022-05-14T09:10:20.739Z"
   },
   {
    "duration": 19,
    "start_time": "2022-05-14T09:10:20.751Z"
   },
   {
    "duration": 8,
    "start_time": "2022-05-14T09:10:20.771Z"
   },
   {
    "duration": 6,
    "start_time": "2022-05-14T09:10:20.781Z"
   },
   {
    "duration": 11,
    "start_time": "2022-05-14T09:10:20.788Z"
   },
   {
    "duration": 86,
    "start_time": "2022-05-14T09:10:20.800Z"
   },
   {
    "duration": 18,
    "start_time": "2022-05-14T09:10:20.888Z"
   },
   {
    "duration": 4,
    "start_time": "2022-05-14T09:10:20.908Z"
   },
   {
    "duration": 8,
    "start_time": "2022-05-14T09:10:20.913Z"
   },
   {
    "duration": 34,
    "start_time": "2022-05-14T09:10:20.922Z"
   },
   {
    "duration": 3,
    "start_time": "2022-05-14T09:10:20.958Z"
   },
   {
    "duration": 18,
    "start_time": "2022-05-14T09:10:20.962Z"
   },
   {
    "duration": 184,
    "start_time": "2022-05-14T09:10:20.982Z"
   },
   {
    "duration": 14577,
    "start_time": "2022-05-14T09:10:21.168Z"
   },
   {
    "duration": 59544,
    "start_time": "2022-05-14T09:10:35.747Z"
   },
   {
    "duration": 4357,
    "start_time": "2022-05-14T09:11:35.293Z"
   },
   {
    "duration": 2,
    "start_time": "2022-05-14T09:11:39.652Z"
   },
   {
    "duration": 6,
    "start_time": "2022-05-14T09:11:39.656Z"
   },
   {
    "duration": 137,
    "start_time": "2022-05-14T09:11:39.664Z"
   },
   {
    "duration": 0,
    "start_time": "2022-05-14T09:11:39.803Z"
   },
   {
    "duration": 0,
    "start_time": "2022-05-14T09:11:39.805Z"
   },
   {
    "duration": 0,
    "start_time": "2022-05-14T09:11:39.806Z"
   },
   {
    "duration": 0,
    "start_time": "2022-05-14T09:11:39.807Z"
   },
   {
    "duration": 0,
    "start_time": "2022-05-14T09:11:39.808Z"
   },
   {
    "duration": 0,
    "start_time": "2022-05-14T09:11:39.809Z"
   },
   {
    "duration": 0,
    "start_time": "2022-05-14T09:11:39.810Z"
   },
   {
    "duration": 0,
    "start_time": "2022-05-14T09:11:39.812Z"
   },
   {
    "duration": 0,
    "start_time": "2022-05-14T09:11:39.813Z"
   },
   {
    "duration": 0,
    "start_time": "2022-05-14T09:11:39.814Z"
   },
   {
    "duration": 0,
    "start_time": "2022-05-14T09:11:39.815Z"
   },
   {
    "duration": 0,
    "start_time": "2022-05-14T09:11:39.815Z"
   },
   {
    "duration": 0,
    "start_time": "2022-05-14T09:11:39.842Z"
   },
   {
    "duration": 0,
    "start_time": "2022-05-14T09:11:39.844Z"
   },
   {
    "duration": 0,
    "start_time": "2022-05-14T09:11:39.846Z"
   },
   {
    "duration": 0,
    "start_time": "2022-05-14T09:11:39.847Z"
   },
   {
    "duration": 0,
    "start_time": "2022-05-14T09:11:39.848Z"
   },
   {
    "duration": 0,
    "start_time": "2022-05-14T09:11:39.849Z"
   },
   {
    "duration": 0,
    "start_time": "2022-05-14T09:11:39.851Z"
   },
   {
    "duration": 0,
    "start_time": "2022-05-14T09:11:39.852Z"
   },
   {
    "duration": 15,
    "start_time": "2022-05-14T09:14:49.487Z"
   },
   {
    "duration": 3,
    "start_time": "2022-05-14T09:14:50.702Z"
   },
   {
    "duration": 4,
    "start_time": "2022-05-14T09:15:00.991Z"
   },
   {
    "duration": 15,
    "start_time": "2022-05-14T09:17:00.350Z"
   },
   {
    "duration": 4,
    "start_time": "2022-05-14T09:17:01.671Z"
   },
   {
    "duration": 31,
    "start_time": "2022-05-14T09:17:15.777Z"
   },
   {
    "duration": 5,
    "start_time": "2022-05-14T09:17:17.513Z"
   },
   {
    "duration": 66421,
    "start_time": "2022-05-14T09:17:17.831Z"
   },
   {
    "duration": 7,
    "start_time": "2022-05-14T09:18:24.254Z"
   },
   {
    "duration": 1699,
    "start_time": "2022-05-14T09:18:24.262Z"
   },
   {
    "duration": 116,
    "start_time": "2022-05-14T09:18:25.963Z"
   },
   {
    "duration": 113,
    "start_time": "2022-05-14T09:18:26.080Z"
   },
   {
    "duration": 4,
    "start_time": "2022-05-14T09:18:26.195Z"
   },
   {
    "duration": 20,
    "start_time": "2022-05-14T09:18:26.200Z"
   },
   {
    "duration": 4,
    "start_time": "2022-05-14T09:18:26.222Z"
   },
   {
    "duration": 32586,
    "start_time": "2022-05-14T09:18:26.228Z"
   },
   {
    "duration": 8,
    "start_time": "2022-05-14T09:18:58.817Z"
   },
   {
    "duration": 637,
    "start_time": "2022-05-14T09:18:58.826Z"
   },
   {
    "duration": 112,
    "start_time": "2022-05-14T09:18:59.465Z"
   },
   {
    "duration": 112,
    "start_time": "2022-05-14T09:18:59.579Z"
   },
   {
    "duration": 84,
    "start_time": "2022-05-14T09:18:59.693Z"
   },
   {
    "duration": 80,
    "start_time": "2022-05-14T09:18:59.779Z"
   },
   {
    "duration": 113,
    "start_time": "2022-05-14T09:18:59.861Z"
   },
   {
    "duration": 4,
    "start_time": "2022-05-14T09:18:59.976Z"
   },
   {
    "duration": 3446,
    "start_time": "2022-05-14T09:18:59.981Z"
   },
   {
    "duration": 24,
    "start_time": "2022-05-14T09:19:03.429Z"
   },
   {
    "duration": 13,
    "start_time": "2022-05-14T09:22:30.822Z"
   },
   {
    "duration": 318,
    "start_time": "2022-05-14T09:24:17.099Z"
   },
   {
    "duration": 4284,
    "start_time": "2022-05-14T09:25:14.393Z"
   },
   {
    "duration": 75684,
    "start_time": "2022-05-14T09:25:36.522Z"
   },
   {
    "duration": 0,
    "start_time": "2022-05-14T09:26:52.208Z"
   },
   {
    "duration": 13,
    "start_time": "2022-05-14T09:26:54.387Z"
   },
   {
    "duration": 14,
    "start_time": "2022-05-14T09:27:15.529Z"
   },
   {
    "duration": 174,
    "start_time": "2022-05-14T09:31:44.279Z"
   },
   {
    "duration": 185,
    "start_time": "2022-05-14T09:32:02.412Z"
   },
   {
    "duration": 165,
    "start_time": "2022-05-14T09:32:07.761Z"
   },
   {
    "duration": 130,
    "start_time": "2022-05-14T09:32:12.669Z"
   },
   {
    "duration": 151,
    "start_time": "2022-05-14T09:33:23.132Z"
   },
   {
    "duration": 124,
    "start_time": "2022-05-14T09:33:54.601Z"
   },
   {
    "duration": 136,
    "start_time": "2022-05-14T09:33:58.780Z"
   },
   {
    "duration": 123,
    "start_time": "2022-05-14T09:34:03.615Z"
   },
   {
    "duration": 151,
    "start_time": "2022-05-14T09:35:29.275Z"
   },
   {
    "duration": 159,
    "start_time": "2022-05-14T09:35:35.915Z"
   },
   {
    "duration": 157,
    "start_time": "2022-05-14T09:35:56.036Z"
   },
   {
    "duration": 123,
    "start_time": "2022-05-14T09:35:57.980Z"
   },
   {
    "duration": 157,
    "start_time": "2022-05-14T09:36:15.214Z"
   },
   {
    "duration": 135,
    "start_time": "2022-05-14T09:37:08.240Z"
   },
   {
    "duration": 133,
    "start_time": "2022-05-14T09:37:59.636Z"
   },
   {
    "duration": 49,
    "start_time": "2022-05-14T13:10:49.319Z"
   },
   {
    "duration": 1898,
    "start_time": "2022-05-14T13:10:57.081Z"
   },
   {
    "duration": 183,
    "start_time": "2022-05-14T13:10:58.982Z"
   },
   {
    "duration": 24,
    "start_time": "2022-05-14T13:10:59.166Z"
   },
   {
    "duration": 20,
    "start_time": "2022-05-14T13:11:01.374Z"
   },
   {
    "duration": 131,
    "start_time": "2022-05-14T13:11:01.799Z"
   },
   {
    "duration": 97,
    "start_time": "2022-05-14T13:11:04.452Z"
   },
   {
    "duration": 69,
    "start_time": "2022-05-14T13:11:05.056Z"
   },
   {
    "duration": 11,
    "start_time": "2022-05-14T13:11:10.511Z"
   },
   {
    "duration": 561,
    "start_time": "2022-05-14T13:11:26.541Z"
   },
   {
    "duration": 8,
    "start_time": "2022-05-14T13:11:27.104Z"
   },
   {
    "duration": 6,
    "start_time": "2022-05-14T13:11:47.321Z"
   },
   {
    "duration": 7,
    "start_time": "2022-05-14T13:11:49.065Z"
   },
   {
    "duration": 285,
    "start_time": "2022-05-14T13:11:54.484Z"
   },
   {
    "duration": 155,
    "start_time": "2022-05-14T13:35:05.479Z"
   },
   {
    "duration": 126,
    "start_time": "2022-05-14T13:35:38.718Z"
   },
   {
    "duration": 115,
    "start_time": "2022-05-14T13:35:51.897Z"
   },
   {
    "duration": 155,
    "start_time": "2022-05-14T13:38:03.331Z"
   },
   {
    "duration": 241,
    "start_time": "2022-05-14T13:38:19.902Z"
   },
   {
    "duration": 140,
    "start_time": "2022-05-14T13:38:35.147Z"
   },
   {
    "duration": 187,
    "start_time": "2022-05-14T13:39:24.932Z"
   },
   {
    "duration": 251,
    "start_time": "2022-05-14T13:39:37.629Z"
   },
   {
    "duration": 189,
    "start_time": "2022-05-14T13:39:53.636Z"
   },
   {
    "duration": 197,
    "start_time": "2022-05-14T13:40:04.604Z"
   },
   {
    "duration": 190,
    "start_time": "2022-05-14T13:40:58.005Z"
   },
   {
    "duration": 194,
    "start_time": "2022-05-14T13:42:07.500Z"
   },
   {
    "duration": 187,
    "start_time": "2022-05-14T13:42:29.798Z"
   },
   {
    "duration": 346,
    "start_time": "2022-05-14T13:43:00.169Z"
   },
   {
    "duration": 156,
    "start_time": "2022-05-14T13:43:05.135Z"
   },
   {
    "duration": 194,
    "start_time": "2022-05-14T13:43:09.206Z"
   },
   {
    "duration": 196,
    "start_time": "2022-05-14T13:43:17.513Z"
   },
   {
    "duration": 203,
    "start_time": "2022-05-14T13:44:01.390Z"
   },
   {
    "duration": 188,
    "start_time": "2022-05-14T13:44:21.231Z"
   },
   {
    "duration": 207,
    "start_time": "2022-05-14T13:44:37.471Z"
   },
   {
    "duration": 178,
    "start_time": "2022-05-14T13:44:41.270Z"
   },
   {
    "duration": 199,
    "start_time": "2022-05-14T13:44:45.689Z"
   },
   {
    "duration": 298,
    "start_time": "2022-05-14T13:44:48.651Z"
   },
   {
    "duration": 182,
    "start_time": "2022-05-14T13:44:52.297Z"
   },
   {
    "duration": 186,
    "start_time": "2022-05-14T13:45:48.516Z"
   },
   {
    "duration": 148,
    "start_time": "2022-05-14T13:46:00.283Z"
   },
   {
    "duration": 156,
    "start_time": "2022-05-14T13:46:05.679Z"
   },
   {
    "duration": 164,
    "start_time": "2022-05-14T13:46:13.012Z"
   },
   {
    "duration": 161,
    "start_time": "2022-05-14T13:46:19.194Z"
   },
   {
    "duration": 167,
    "start_time": "2022-05-14T13:46:26.427Z"
   },
   {
    "duration": 170,
    "start_time": "2022-05-14T13:46:30.836Z"
   },
   {
    "duration": 183,
    "start_time": "2022-05-14T13:47:04.060Z"
   },
   {
    "duration": 181,
    "start_time": "2022-05-14T13:47:13.489Z"
   },
   {
    "duration": 266,
    "start_time": "2022-05-14T13:47:36.836Z"
   },
   {
    "duration": 153,
    "start_time": "2022-05-14T13:47:54.581Z"
   },
   {
    "duration": 265,
    "start_time": "2022-05-14T13:58:33.686Z"
   },
   {
    "duration": 74,
    "start_time": "2022-05-14T14:03:53.015Z"
   },
   {
    "duration": 188,
    "start_time": "2022-05-14T14:04:03.027Z"
   },
   {
    "duration": 157,
    "start_time": "2022-05-14T14:04:05.927Z"
   },
   {
    "duration": 10,
    "start_time": "2022-05-14T14:04:07.731Z"
   },
   {
    "duration": 174,
    "start_time": "2022-05-14T14:04:16.280Z"
   },
   {
    "duration": 168,
    "start_time": "2022-05-14T14:04:24.256Z"
   },
   {
    "duration": 144,
    "start_time": "2022-05-14T14:04:33.548Z"
   },
   {
    "duration": 171,
    "start_time": "2022-05-14T14:04:37.480Z"
   },
   {
    "duration": 208,
    "start_time": "2022-05-14T14:07:19.617Z"
   },
   {
    "duration": 296,
    "start_time": "2022-05-14T14:08:22.132Z"
   },
   {
    "duration": 114,
    "start_time": "2022-05-14T14:08:29.646Z"
   },
   {
    "duration": 196,
    "start_time": "2022-05-14T14:08:44.093Z"
   },
   {
    "duration": 204,
    "start_time": "2022-05-14T14:08:48.949Z"
   },
   {
    "duration": 4,
    "start_time": "2022-05-14T14:15:13.715Z"
   },
   {
    "duration": 9,
    "start_time": "2022-05-14T14:16:19.856Z"
   },
   {
    "duration": 9,
    "start_time": "2022-05-14T14:16:34.914Z"
   },
   {
    "duration": 1483,
    "start_time": "2022-05-14T14:16:42.393Z"
   },
   {
    "duration": 164,
    "start_time": "2022-05-14T14:16:43.878Z"
   },
   {
    "duration": 24,
    "start_time": "2022-05-14T14:16:44.044Z"
   },
   {
    "duration": 37,
    "start_time": "2022-05-14T14:16:44.070Z"
   },
   {
    "duration": 136,
    "start_time": "2022-05-14T14:16:44.109Z"
   },
   {
    "duration": 91,
    "start_time": "2022-05-14T14:16:44.247Z"
   },
   {
    "duration": 76,
    "start_time": "2022-05-14T14:16:44.340Z"
   },
   {
    "duration": 12,
    "start_time": "2022-05-14T14:16:44.417Z"
   },
   {
    "duration": 565,
    "start_time": "2022-05-14T14:16:44.430Z"
   },
   {
    "duration": 13,
    "start_time": "2022-05-14T14:16:44.998Z"
   },
   {
    "duration": 12,
    "start_time": "2022-05-14T14:16:45.012Z"
   },
   {
    "duration": 8,
    "start_time": "2022-05-14T14:16:45.025Z"
   },
   {
    "duration": 269,
    "start_time": "2022-05-14T14:16:45.035Z"
   },
   {
    "duration": 51,
    "start_time": "2022-05-14T14:16:45.306Z"
   },
   {
    "duration": 12,
    "start_time": "2022-05-14T14:16:45.359Z"
   },
   {
    "duration": 38,
    "start_time": "2022-05-14T14:16:45.373Z"
   },
   {
    "duration": 5,
    "start_time": "2022-05-14T14:16:45.413Z"
   },
   {
    "duration": 8,
    "start_time": "2022-05-14T14:16:45.419Z"
   },
   {
    "duration": 59,
    "start_time": "2022-05-14T14:16:45.429Z"
   },
   {
    "duration": 119,
    "start_time": "2022-05-14T14:16:45.490Z"
   },
   {
    "duration": 309,
    "start_time": "2022-05-14T14:16:45.610Z"
   },
   {
    "duration": 135,
    "start_time": "2022-05-14T14:16:45.920Z"
   },
   {
    "duration": 16,
    "start_time": "2022-05-14T14:16:46.057Z"
   },
   {
    "duration": 4,
    "start_time": "2022-05-14T14:16:46.074Z"
   },
   {
    "duration": 220,
    "start_time": "2022-05-14T14:16:46.080Z"
   },
   {
    "duration": 292,
    "start_time": "2022-05-14T14:16:46.302Z"
   },
   {
    "duration": 211,
    "start_time": "2022-05-14T14:16:46.596Z"
   },
   {
    "duration": 180,
    "start_time": "2022-05-14T14:16:46.812Z"
   },
   {
    "duration": 163,
    "start_time": "2022-05-14T14:16:46.994Z"
   },
   {
    "duration": 192,
    "start_time": "2022-05-14T14:16:47.159Z"
   },
   {
    "duration": 153,
    "start_time": "2022-05-14T14:16:47.353Z"
   },
   {
    "duration": 153,
    "start_time": "2022-05-14T14:16:47.508Z"
   },
   {
    "duration": 162,
    "start_time": "2022-05-14T14:16:47.663Z"
   },
   {
    "duration": 188,
    "start_time": "2022-05-14T14:16:47.827Z"
   },
   {
    "duration": 156,
    "start_time": "2022-05-14T14:16:48.016Z"
   },
   {
    "duration": 172,
    "start_time": "2022-05-14T14:16:48.174Z"
   },
   {
    "duration": 230,
    "start_time": "2022-05-14T14:16:48.348Z"
   },
   {
    "duration": 121,
    "start_time": "2022-05-14T14:16:48.580Z"
   },
   {
    "duration": 121,
    "start_time": "2022-05-14T14:16:48.707Z"
   },
   {
    "duration": 224,
    "start_time": "2022-05-14T14:16:48.829Z"
   },
   {
    "duration": 3,
    "start_time": "2022-05-14T14:16:49.055Z"
   },
   {
    "duration": 10,
    "start_time": "2022-05-14T14:16:49.059Z"
   },
   {
    "duration": 486,
    "start_time": "2022-05-14T14:16:49.071Z"
   },
   {
    "duration": 3544,
    "start_time": "2022-05-14T14:16:49.559Z"
   },
   {
    "duration": 11,
    "start_time": "2022-05-14T14:16:53.105Z"
   },
   {
    "duration": 16,
    "start_time": "2022-05-14T14:16:53.118Z"
   },
   {
    "duration": 8,
    "start_time": "2022-05-14T14:16:53.135Z"
   },
   {
    "duration": 7,
    "start_time": "2022-05-14T14:16:53.145Z"
   },
   {
    "duration": 4,
    "start_time": "2022-05-14T14:16:53.153Z"
   },
   {
    "duration": 93,
    "start_time": "2022-05-14T14:16:53.159Z"
   },
   {
    "duration": 17,
    "start_time": "2022-05-14T14:16:53.254Z"
   },
   {
    "duration": 4,
    "start_time": "2022-05-14T14:16:53.273Z"
   },
   {
    "duration": 4,
    "start_time": "2022-05-14T14:16:53.279Z"
   },
   {
    "duration": 18,
    "start_time": "2022-05-14T14:16:53.308Z"
   },
   {
    "duration": 4,
    "start_time": "2022-05-14T14:16:53.327Z"
   },
   {
    "duration": 16,
    "start_time": "2022-05-14T14:16:53.332Z"
   },
   {
    "duration": 186,
    "start_time": "2022-05-14T14:16:53.349Z"
   },
   {
    "duration": 15074,
    "start_time": "2022-05-14T14:16:53.537Z"
   },
   {
    "duration": 59256,
    "start_time": "2022-05-14T14:17:08.613Z"
   },
   {
    "duration": 4405,
    "start_time": "2022-05-14T14:18:07.870Z"
   },
   {
    "duration": 3,
    "start_time": "2022-05-14T14:18:12.277Z"
   },
   {
    "duration": 6,
    "start_time": "2022-05-14T14:18:12.281Z"
   },
   {
    "duration": 43,
    "start_time": "2022-05-14T14:18:12.289Z"
   },
   {
    "duration": 4,
    "start_time": "2022-05-14T14:18:12.334Z"
   },
   {
    "duration": 72168,
    "start_time": "2022-05-14T14:18:12.340Z"
   },
   {
    "duration": 8,
    "start_time": "2022-05-14T14:19:24.509Z"
   },
   {
    "duration": 1629,
    "start_time": "2022-05-14T14:19:24.519Z"
   },
   {
    "duration": 121,
    "start_time": "2022-05-14T14:19:26.149Z"
   },
   {
    "duration": 130,
    "start_time": "2022-05-14T14:19:26.272Z"
   },
   {
    "duration": 5,
    "start_time": "2022-05-14T14:19:26.406Z"
   },
   {
    "duration": 20,
    "start_time": "2022-05-14T14:19:26.413Z"
   },
   {
    "duration": 5,
    "start_time": "2022-05-14T14:19:26.435Z"
   },
   {
    "duration": 33731,
    "start_time": "2022-05-14T14:19:26.442Z"
   },
   {
    "duration": 7,
    "start_time": "2022-05-14T14:20:00.175Z"
   },
   {
    "duration": 630,
    "start_time": "2022-05-14T14:20:00.184Z"
   },
   {
    "duration": 116,
    "start_time": "2022-05-14T14:20:00.816Z"
   },
   {
    "duration": 130,
    "start_time": "2022-05-14T14:20:00.934Z"
   },
   {
    "duration": 103,
    "start_time": "2022-05-14T14:20:01.066Z"
   },
   {
    "duration": 93,
    "start_time": "2022-05-14T14:20:01.171Z"
   },
   {
    "duration": 143,
    "start_time": "2022-05-14T14:20:01.266Z"
   },
   {
    "duration": 3,
    "start_time": "2022-05-14T14:20:01.411Z"
   },
   {
    "duration": 3892,
    "start_time": "2022-05-14T14:20:01.420Z"
   },
   {
    "duration": 22,
    "start_time": "2022-05-14T14:20:05.314Z"
   },
   {
    "duration": 18,
    "start_time": "2022-05-14T14:20:05.337Z"
   },
   {
    "duration": 14,
    "start_time": "2022-05-14T14:20:05.357Z"
   }
  ],
  "kernelspec": {
   "display_name": "Python 3 (ipykernel)",
   "language": "python",
   "name": "python3"
  },
  "language_info": {
   "codemirror_mode": {
    "name": "ipython",
    "version": 3
   },
   "file_extension": ".py",
   "mimetype": "text/x-python",
   "name": "python",
   "nbconvert_exporter": "python",
   "pygments_lexer": "ipython3",
   "version": "3.9.7"
  },
  "toc": {
   "base_numbering": 1,
   "nav_menu": {},
   "number_sections": true,
   "sideBar": true,
   "skip_h1_title": true,
   "title_cell": "Table of Contents",
   "title_sidebar": "Contents",
   "toc_cell": false,
   "toc_position": {},
   "toc_section_display": true,
   "toc_window_display": true
  }
 },
 "nbformat": 4,
 "nbformat_minor": 2
}
