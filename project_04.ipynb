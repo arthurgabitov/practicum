{
 "cells": [
  {
   "cell_type": "markdown",
   "metadata": {},
   "source": [
    "# Проектная работа: \"Определение перспективного тарифа для телеком-компании\""
   ]
  },
  {
   "cell_type": "markdown",
   "metadata": {},
   "source": [
    "**Описание проекта**"
   ]
  },
  {
   "cell_type": "markdown",
   "metadata": {},
   "source": [
    "Вы аналитик компании «Мегалайн» — федерального оператора сотовой связи. Клиентам предлагают два тарифных плана: «Смарт» и «Ультра». Чтобы скорректировать рекламный бюджет, коммерческий департамент хочет понять, какой тариф приносит больше денег.\n",
    "\n",
    "Вам предстоит сделать предварительный анализ тарифов на небольшой выборке клиентов. В вашем распоряжении данные 500 пользователей «Мегалайна»: кто они, откуда, каким тарифом пользуются, сколько звонков и сообщений каждый отправил за 2018 год. Нужно проанализировать поведение клиентов и сделать вывод — какой тариф лучше."
   ]
  },
  {
   "cell_type": "markdown",
   "metadata": {},
   "source": [
    "**Описание тарифов**"
   ]
  },
  {
   "cell_type": "markdown",
   "metadata": {},
   "source": [
    "**Тариф «Смарт»**\n",
    "Ежемесячная плата: 550 рублей\n",
    "Включено 500 минут разговора, 50 сообщений и 15 Гб интернет-трафика\n",
    "Стоимость услуг сверх тарифного пакета:\n",
    "минута разговора: 3 рубля\n",
    "сообщение: 3 рубля\n",
    "1 Гб интернет-трафика: 200 рублей"
   ]
  },
  {
   "cell_type": "markdown",
   "metadata": {},
   "source": [
    "**Тариф «Ультра»**\n",
    "Ежемесячная плата: 1950 рублей\n",
    "Включено 3000 минут разговора, 1000 сообщений и 30 Гб интернет-трафика\n",
    "Стоимость услуг сверх тарифного пакета:\n",
    "минута разговора: 1 рубль\n",
    "сообщение: 1 рубль\n",
    "1 Гб интернет-трафика: 150 рублей"
   ]
  },
  {
   "cell_type": "code",
   "execution_count": 1,
   "metadata": {},
   "outputs": [],
   "source": [
    "import pandas as pd\n",
    "import copy\n",
    "import matplotlib.pyplot as plt \n",
    "import seaborn as sns\n",
    "from scipy import stats as st\n",
    "import numpy as np\n",
    "from functools import reduce"
   ]
  },
  {
   "cell_type": "markdown",
   "metadata": {},
   "source": [
    "### Шаг 1. Откройте файл с данными и изучите общую информацию"
   ]
  },
  {
   "cell_type": "markdown",
   "metadata": {},
   "source": [
    "Изучим файл с данными о пользователях"
   ]
  },
  {
   "cell_type": "code",
   "execution_count": 2,
   "metadata": {},
   "outputs": [
    {
     "name": "stdout",
     "output_type": "stream",
     "text": [
      "<class 'pandas.core.frame.DataFrame'>\n",
      "RangeIndex: 500 entries, 0 to 499\n",
      "Data columns (total 8 columns):\n",
      "user_id       500 non-null int64\n",
      "age           500 non-null int64\n",
      "churn_date    38 non-null object\n",
      "city          500 non-null object\n",
      "first_name    500 non-null object\n",
      "last_name     500 non-null object\n",
      "reg_date      500 non-null object\n",
      "tariff        500 non-null object\n",
      "dtypes: int64(2), object(6)\n",
      "memory usage: 31.4+ KB\n"
     ]
    }
   ],
   "source": [
    "users = pd.read_csv('/datasets/users.csv')\n",
    "users.info()"
   ]
  },
  {
   "cell_type": "code",
   "execution_count": 3,
   "metadata": {},
   "outputs": [
    {
     "data": {
      "text/html": [
       "<div>\n",
       "<style scoped>\n",
       "    .dataframe tbody tr th:only-of-type {\n",
       "        vertical-align: middle;\n",
       "    }\n",
       "\n",
       "    .dataframe tbody tr th {\n",
       "        vertical-align: top;\n",
       "    }\n",
       "\n",
       "    .dataframe thead th {\n",
       "        text-align: right;\n",
       "    }\n",
       "</style>\n",
       "<table border=\"1\" class=\"dataframe\">\n",
       "  <thead>\n",
       "    <tr style=\"text-align: right;\">\n",
       "      <th></th>\n",
       "      <th>user_id</th>\n",
       "      <th>age</th>\n",
       "      <th>churn_date</th>\n",
       "      <th>city</th>\n",
       "      <th>first_name</th>\n",
       "      <th>last_name</th>\n",
       "      <th>reg_date</th>\n",
       "      <th>tariff</th>\n",
       "    </tr>\n",
       "  </thead>\n",
       "  <tbody>\n",
       "    <tr>\n",
       "      <td>0</td>\n",
       "      <td>1000</td>\n",
       "      <td>52</td>\n",
       "      <td>NaN</td>\n",
       "      <td>Краснодар</td>\n",
       "      <td>Рафаил</td>\n",
       "      <td>Верещагин</td>\n",
       "      <td>2018-05-25</td>\n",
       "      <td>ultra</td>\n",
       "    </tr>\n",
       "    <tr>\n",
       "      <td>1</td>\n",
       "      <td>1001</td>\n",
       "      <td>41</td>\n",
       "      <td>NaN</td>\n",
       "      <td>Москва</td>\n",
       "      <td>Иван</td>\n",
       "      <td>Ежов</td>\n",
       "      <td>2018-11-01</td>\n",
       "      <td>smart</td>\n",
       "    </tr>\n",
       "    <tr>\n",
       "      <td>2</td>\n",
       "      <td>1002</td>\n",
       "      <td>59</td>\n",
       "      <td>NaN</td>\n",
       "      <td>Стерлитамак</td>\n",
       "      <td>Евгений</td>\n",
       "      <td>Абрамович</td>\n",
       "      <td>2018-06-17</td>\n",
       "      <td>smart</td>\n",
       "    </tr>\n",
       "    <tr>\n",
       "      <td>3</td>\n",
       "      <td>1003</td>\n",
       "      <td>23</td>\n",
       "      <td>NaN</td>\n",
       "      <td>Москва</td>\n",
       "      <td>Белла</td>\n",
       "      <td>Белякова</td>\n",
       "      <td>2018-08-17</td>\n",
       "      <td>ultra</td>\n",
       "    </tr>\n",
       "    <tr>\n",
       "      <td>4</td>\n",
       "      <td>1004</td>\n",
       "      <td>68</td>\n",
       "      <td>NaN</td>\n",
       "      <td>Новокузнецк</td>\n",
       "      <td>Татьяна</td>\n",
       "      <td>Авдеенко</td>\n",
       "      <td>2018-05-14</td>\n",
       "      <td>ultra</td>\n",
       "    </tr>\n",
       "  </tbody>\n",
       "</table>\n",
       "</div>"
      ],
      "text/plain": [
       "   user_id  age churn_date         city first_name  last_name    reg_date  \\\n",
       "0     1000   52        NaN    Краснодар     Рафаил  Верещагин  2018-05-25   \n",
       "1     1001   41        NaN       Москва       Иван       Ежов  2018-11-01   \n",
       "2     1002   59        NaN  Стерлитамак    Евгений  Абрамович  2018-06-17   \n",
       "3     1003   23        NaN       Москва      Белла   Белякова  2018-08-17   \n",
       "4     1004   68        NaN  Новокузнецк    Татьяна   Авдеенко  2018-05-14   \n",
       "\n",
       "  tariff  \n",
       "0  ultra  \n",
       "1  smart  \n",
       "2  smart  \n",
       "3  ultra  \n",
       "4  ultra  "
      ]
     },
     "metadata": {},
     "output_type": "display_data"
    },
    {
     "data": {
      "text/html": [
       "<div>\n",
       "<style scoped>\n",
       "    .dataframe tbody tr th:only-of-type {\n",
       "        vertical-align: middle;\n",
       "    }\n",
       "\n",
       "    .dataframe tbody tr th {\n",
       "        vertical-align: top;\n",
       "    }\n",
       "\n",
       "    .dataframe thead th {\n",
       "        text-align: right;\n",
       "    }\n",
       "</style>\n",
       "<table border=\"1\" class=\"dataframe\">\n",
       "  <thead>\n",
       "    <tr style=\"text-align: right;\">\n",
       "      <th></th>\n",
       "      <th>user_id</th>\n",
       "      <th>age</th>\n",
       "      <th>churn_date</th>\n",
       "      <th>city</th>\n",
       "      <th>first_name</th>\n",
       "      <th>last_name</th>\n",
       "      <th>reg_date</th>\n",
       "      <th>tariff</th>\n",
       "    </tr>\n",
       "  </thead>\n",
       "  <tbody>\n",
       "    <tr>\n",
       "      <td>495</td>\n",
       "      <td>1495</td>\n",
       "      <td>65</td>\n",
       "      <td>NaN</td>\n",
       "      <td>Иркутск</td>\n",
       "      <td>Авксентий</td>\n",
       "      <td>Фокин</td>\n",
       "      <td>2018-08-28</td>\n",
       "      <td>ultra</td>\n",
       "    </tr>\n",
       "    <tr>\n",
       "      <td>496</td>\n",
       "      <td>1496</td>\n",
       "      <td>36</td>\n",
       "      <td>NaN</td>\n",
       "      <td>Вологда</td>\n",
       "      <td>Трифон</td>\n",
       "      <td>Блохин</td>\n",
       "      <td>2018-01-27</td>\n",
       "      <td>smart</td>\n",
       "    </tr>\n",
       "    <tr>\n",
       "      <td>497</td>\n",
       "      <td>1497</td>\n",
       "      <td>32</td>\n",
       "      <td>NaN</td>\n",
       "      <td>Челябинск</td>\n",
       "      <td>Каролина</td>\n",
       "      <td>Агеева</td>\n",
       "      <td>2018-10-09</td>\n",
       "      <td>smart</td>\n",
       "    </tr>\n",
       "    <tr>\n",
       "      <td>498</td>\n",
       "      <td>1498</td>\n",
       "      <td>68</td>\n",
       "      <td>2018-10-25</td>\n",
       "      <td>Владикавказ</td>\n",
       "      <td>Всеволод</td>\n",
       "      <td>Акимчин</td>\n",
       "      <td>2018-07-19</td>\n",
       "      <td>smart</td>\n",
       "    </tr>\n",
       "    <tr>\n",
       "      <td>499</td>\n",
       "      <td>1499</td>\n",
       "      <td>35</td>\n",
       "      <td>NaN</td>\n",
       "      <td>Пермь</td>\n",
       "      <td>Гектор</td>\n",
       "      <td>Корнилов</td>\n",
       "      <td>2018-09-27</td>\n",
       "      <td>smart</td>\n",
       "    </tr>\n",
       "  </tbody>\n",
       "</table>\n",
       "</div>"
      ],
      "text/plain": [
       "     user_id  age  churn_date         city first_name last_name    reg_date  \\\n",
       "495     1495   65         NaN      Иркутск  Авксентий     Фокин  2018-08-28   \n",
       "496     1496   36         NaN      Вологда     Трифон    Блохин  2018-01-27   \n",
       "497     1497   32         NaN    Челябинск   Каролина    Агеева  2018-10-09   \n",
       "498     1498   68  2018-10-25  Владикавказ   Всеволод   Акимчин  2018-07-19   \n",
       "499     1499   35         NaN        Пермь     Гектор  Корнилов  2018-09-27   \n",
       "\n",
       "    tariff  \n",
       "495  ultra  \n",
       "496  smart  \n",
       "497  smart  \n",
       "498  smart  \n",
       "499  smart  "
      ]
     },
     "metadata": {},
     "output_type": "display_data"
    }
   ],
   "source": [
    "display(users.head())\n",
    "display(users.tail())"
   ]
  },
  {
   "cell_type": "code",
   "execution_count": 4,
   "metadata": {},
   "outputs": [
    {
     "data": {
      "text/html": [
       "<div>\n",
       "<style scoped>\n",
       "    .dataframe tbody tr th:only-of-type {\n",
       "        vertical-align: middle;\n",
       "    }\n",
       "\n",
       "    .dataframe tbody tr th {\n",
       "        vertical-align: top;\n",
       "    }\n",
       "\n",
       "    .dataframe thead th {\n",
       "        text-align: right;\n",
       "    }\n",
       "</style>\n",
       "<table border=\"1\" class=\"dataframe\">\n",
       "  <thead>\n",
       "    <tr style=\"text-align: right;\">\n",
       "      <th></th>\n",
       "      <th>count</th>\n",
       "      <th>mean</th>\n",
       "      <th>std</th>\n",
       "      <th>min</th>\n",
       "      <th>25%</th>\n",
       "      <th>50%</th>\n",
       "      <th>75%</th>\n",
       "      <th>max</th>\n",
       "    </tr>\n",
       "  </thead>\n",
       "  <tbody>\n",
       "    <tr>\n",
       "      <td>user_id</td>\n",
       "      <td>500.0</td>\n",
       "      <td>1249.500</td>\n",
       "      <td>144.481833</td>\n",
       "      <td>1000.0</td>\n",
       "      <td>1124.75</td>\n",
       "      <td>1249.5</td>\n",
       "      <td>1374.25</td>\n",
       "      <td>1499.0</td>\n",
       "    </tr>\n",
       "    <tr>\n",
       "      <td>age</td>\n",
       "      <td>500.0</td>\n",
       "      <td>46.588</td>\n",
       "      <td>16.667630</td>\n",
       "      <td>18.0</td>\n",
       "      <td>32.00</td>\n",
       "      <td>46.0</td>\n",
       "      <td>62.00</td>\n",
       "      <td>75.0</td>\n",
       "    </tr>\n",
       "  </tbody>\n",
       "</table>\n",
       "</div>"
      ],
      "text/plain": [
       "         count      mean         std     min      25%     50%      75%     max\n",
       "user_id  500.0  1249.500  144.481833  1000.0  1124.75  1249.5  1374.25  1499.0\n",
       "age      500.0    46.588   16.667630    18.0    32.00    46.0    62.00    75.0"
      ]
     },
     "metadata": {},
     "output_type": "display_data"
    }
   ],
   "source": [
    "display(users.describe().T)"
   ]
  },
  {
   "cell_type": "markdown",
   "metadata": {},
   "source": [
    "Изучим таблицу с данными о звонках"
   ]
  },
  {
   "cell_type": "code",
   "execution_count": 5,
   "metadata": {},
   "outputs": [
    {
     "name": "stdout",
     "output_type": "stream",
     "text": [
      "<class 'pandas.core.frame.DataFrame'>\n",
      "RangeIndex: 202607 entries, 0 to 202606\n",
      "Data columns (total 4 columns):\n",
      "id           202607 non-null object\n",
      "call_date    202607 non-null object\n",
      "duration     202607 non-null float64\n",
      "user_id      202607 non-null int64\n",
      "dtypes: float64(1), int64(1), object(2)\n",
      "memory usage: 6.2+ MB\n"
     ]
    }
   ],
   "source": [
    "calls = pd.read_csv('/datasets/calls.csv')\n",
    "calls.info()"
   ]
  },
  {
   "cell_type": "code",
   "execution_count": 6,
   "metadata": {},
   "outputs": [
    {
     "data": {
      "text/html": [
       "<div>\n",
       "<style scoped>\n",
       "    .dataframe tbody tr th:only-of-type {\n",
       "        vertical-align: middle;\n",
       "    }\n",
       "\n",
       "    .dataframe tbody tr th {\n",
       "        vertical-align: top;\n",
       "    }\n",
       "\n",
       "    .dataframe thead th {\n",
       "        text-align: right;\n",
       "    }\n",
       "</style>\n",
       "<table border=\"1\" class=\"dataframe\">\n",
       "  <thead>\n",
       "    <tr style=\"text-align: right;\">\n",
       "      <th></th>\n",
       "      <th>id</th>\n",
       "      <th>call_date</th>\n",
       "      <th>duration</th>\n",
       "      <th>user_id</th>\n",
       "    </tr>\n",
       "  </thead>\n",
       "  <tbody>\n",
       "    <tr>\n",
       "      <td>0</td>\n",
       "      <td>1000_0</td>\n",
       "      <td>2018-07-25</td>\n",
       "      <td>0.00</td>\n",
       "      <td>1000</td>\n",
       "    </tr>\n",
       "    <tr>\n",
       "      <td>1</td>\n",
       "      <td>1000_1</td>\n",
       "      <td>2018-08-17</td>\n",
       "      <td>0.00</td>\n",
       "      <td>1000</td>\n",
       "    </tr>\n",
       "    <tr>\n",
       "      <td>2</td>\n",
       "      <td>1000_2</td>\n",
       "      <td>2018-06-11</td>\n",
       "      <td>2.85</td>\n",
       "      <td>1000</td>\n",
       "    </tr>\n",
       "    <tr>\n",
       "      <td>3</td>\n",
       "      <td>1000_3</td>\n",
       "      <td>2018-09-21</td>\n",
       "      <td>13.80</td>\n",
       "      <td>1000</td>\n",
       "    </tr>\n",
       "    <tr>\n",
       "      <td>4</td>\n",
       "      <td>1000_4</td>\n",
       "      <td>2018-12-15</td>\n",
       "      <td>5.18</td>\n",
       "      <td>1000</td>\n",
       "    </tr>\n",
       "  </tbody>\n",
       "</table>\n",
       "</div>"
      ],
      "text/plain": [
       "       id   call_date  duration  user_id\n",
       "0  1000_0  2018-07-25      0.00     1000\n",
       "1  1000_1  2018-08-17      0.00     1000\n",
       "2  1000_2  2018-06-11      2.85     1000\n",
       "3  1000_3  2018-09-21     13.80     1000\n",
       "4  1000_4  2018-12-15      5.18     1000"
      ]
     },
     "metadata": {},
     "output_type": "display_data"
    },
    {
     "data": {
      "text/html": [
       "<div>\n",
       "<style scoped>\n",
       "    .dataframe tbody tr th:only-of-type {\n",
       "        vertical-align: middle;\n",
       "    }\n",
       "\n",
       "    .dataframe tbody tr th {\n",
       "        vertical-align: top;\n",
       "    }\n",
       "\n",
       "    .dataframe thead th {\n",
       "        text-align: right;\n",
       "    }\n",
       "</style>\n",
       "<table border=\"1\" class=\"dataframe\">\n",
       "  <thead>\n",
       "    <tr style=\"text-align: right;\">\n",
       "      <th></th>\n",
       "      <th>id</th>\n",
       "      <th>call_date</th>\n",
       "      <th>duration</th>\n",
       "      <th>user_id</th>\n",
       "    </tr>\n",
       "  </thead>\n",
       "  <tbody>\n",
       "    <tr>\n",
       "      <td>202602</td>\n",
       "      <td>1499_215</td>\n",
       "      <td>2018-12-26</td>\n",
       "      <td>0.76</td>\n",
       "      <td>1499</td>\n",
       "    </tr>\n",
       "    <tr>\n",
       "      <td>202603</td>\n",
       "      <td>1499_216</td>\n",
       "      <td>2018-10-18</td>\n",
       "      <td>18.83</td>\n",
       "      <td>1499</td>\n",
       "    </tr>\n",
       "    <tr>\n",
       "      <td>202604</td>\n",
       "      <td>1499_217</td>\n",
       "      <td>2018-11-10</td>\n",
       "      <td>10.81</td>\n",
       "      <td>1499</td>\n",
       "    </tr>\n",
       "    <tr>\n",
       "      <td>202605</td>\n",
       "      <td>1499_218</td>\n",
       "      <td>2018-10-06</td>\n",
       "      <td>4.27</td>\n",
       "      <td>1499</td>\n",
       "    </tr>\n",
       "    <tr>\n",
       "      <td>202606</td>\n",
       "      <td>1499_219</td>\n",
       "      <td>2018-12-14</td>\n",
       "      <td>19.62</td>\n",
       "      <td>1499</td>\n",
       "    </tr>\n",
       "  </tbody>\n",
       "</table>\n",
       "</div>"
      ],
      "text/plain": [
       "              id   call_date  duration  user_id\n",
       "202602  1499_215  2018-12-26      0.76     1499\n",
       "202603  1499_216  2018-10-18     18.83     1499\n",
       "202604  1499_217  2018-11-10     10.81     1499\n",
       "202605  1499_218  2018-10-06      4.27     1499\n",
       "202606  1499_219  2018-12-14     19.62     1499"
      ]
     },
     "metadata": {},
     "output_type": "display_data"
    }
   ],
   "source": [
    "display(calls.head())\n",
    "display(calls.tail())"
   ]
  },
  {
   "cell_type": "code",
   "execution_count": 7,
   "metadata": {},
   "outputs": [
    {
     "data": {
      "text/html": [
       "<div>\n",
       "<style scoped>\n",
       "    .dataframe tbody tr th:only-of-type {\n",
       "        vertical-align: middle;\n",
       "    }\n",
       "\n",
       "    .dataframe tbody tr th {\n",
       "        vertical-align: top;\n",
       "    }\n",
       "\n",
       "    .dataframe thead th {\n",
       "        text-align: right;\n",
       "    }\n",
       "</style>\n",
       "<table border=\"1\" class=\"dataframe\">\n",
       "  <thead>\n",
       "    <tr style=\"text-align: right;\">\n",
       "      <th></th>\n",
       "      <th>count</th>\n",
       "      <th>mean</th>\n",
       "      <th>std</th>\n",
       "      <th>min</th>\n",
       "      <th>25%</th>\n",
       "      <th>50%</th>\n",
       "      <th>75%</th>\n",
       "      <th>max</th>\n",
       "    </tr>\n",
       "  </thead>\n",
       "  <tbody>\n",
       "    <tr>\n",
       "      <td>duration</td>\n",
       "      <td>202607.0</td>\n",
       "      <td>6.755887</td>\n",
       "      <td>5.843365</td>\n",
       "      <td>0.0</td>\n",
       "      <td>1.3</td>\n",
       "      <td>6.0</td>\n",
       "      <td>10.7</td>\n",
       "      <td>38.0</td>\n",
       "    </tr>\n",
       "    <tr>\n",
       "      <td>user_id</td>\n",
       "      <td>202607.0</td>\n",
       "      <td>1253.940619</td>\n",
       "      <td>144.722751</td>\n",
       "      <td>1000.0</td>\n",
       "      <td>1126.0</td>\n",
       "      <td>1260.0</td>\n",
       "      <td>1379.0</td>\n",
       "      <td>1499.0</td>\n",
       "    </tr>\n",
       "  </tbody>\n",
       "</table>\n",
       "</div>"
      ],
      "text/plain": [
       "             count         mean         std     min     25%     50%     75%  \\\n",
       "duration  202607.0     6.755887    5.843365     0.0     1.3     6.0    10.7   \n",
       "user_id   202607.0  1253.940619  144.722751  1000.0  1126.0  1260.0  1379.0   \n",
       "\n",
       "             max  \n",
       "duration    38.0  \n",
       "user_id   1499.0  "
      ]
     },
     "metadata": {},
     "output_type": "display_data"
    }
   ],
   "source": [
    "display(calls.describe().T)"
   ]
  },
  {
   "cell_type": "markdown",
   "metadata": {},
   "source": [
    "Таблица messages"
   ]
  },
  {
   "cell_type": "code",
   "execution_count": 8,
   "metadata": {},
   "outputs": [
    {
     "name": "stdout",
     "output_type": "stream",
     "text": [
      "<class 'pandas.core.frame.DataFrame'>\n",
      "RangeIndex: 123036 entries, 0 to 123035\n",
      "Data columns (total 3 columns):\n",
      "id              123036 non-null object\n",
      "message_date    123036 non-null object\n",
      "user_id         123036 non-null int64\n",
      "dtypes: int64(1), object(2)\n",
      "memory usage: 2.8+ MB\n"
     ]
    }
   ],
   "source": [
    "messages = pd.read_csv('/datasets/messages.csv')\n",
    "messages.info()"
   ]
  },
  {
   "cell_type": "code",
   "execution_count": 9,
   "metadata": {},
   "outputs": [
    {
     "data": {
      "text/html": [
       "<div>\n",
       "<style scoped>\n",
       "    .dataframe tbody tr th:only-of-type {\n",
       "        vertical-align: middle;\n",
       "    }\n",
       "\n",
       "    .dataframe tbody tr th {\n",
       "        vertical-align: top;\n",
       "    }\n",
       "\n",
       "    .dataframe thead th {\n",
       "        text-align: right;\n",
       "    }\n",
       "</style>\n",
       "<table border=\"1\" class=\"dataframe\">\n",
       "  <thead>\n",
       "    <tr style=\"text-align: right;\">\n",
       "      <th></th>\n",
       "      <th>id</th>\n",
       "      <th>message_date</th>\n",
       "      <th>user_id</th>\n",
       "    </tr>\n",
       "  </thead>\n",
       "  <tbody>\n",
       "    <tr>\n",
       "      <td>0</td>\n",
       "      <td>1000_0</td>\n",
       "      <td>2018-06-27</td>\n",
       "      <td>1000</td>\n",
       "    </tr>\n",
       "    <tr>\n",
       "      <td>1</td>\n",
       "      <td>1000_1</td>\n",
       "      <td>2018-10-08</td>\n",
       "      <td>1000</td>\n",
       "    </tr>\n",
       "    <tr>\n",
       "      <td>2</td>\n",
       "      <td>1000_2</td>\n",
       "      <td>2018-08-04</td>\n",
       "      <td>1000</td>\n",
       "    </tr>\n",
       "    <tr>\n",
       "      <td>3</td>\n",
       "      <td>1000_3</td>\n",
       "      <td>2018-06-16</td>\n",
       "      <td>1000</td>\n",
       "    </tr>\n",
       "    <tr>\n",
       "      <td>4</td>\n",
       "      <td>1000_4</td>\n",
       "      <td>2018-12-05</td>\n",
       "      <td>1000</td>\n",
       "    </tr>\n",
       "  </tbody>\n",
       "</table>\n",
       "</div>"
      ],
      "text/plain": [
       "       id message_date  user_id\n",
       "0  1000_0   2018-06-27     1000\n",
       "1  1000_1   2018-10-08     1000\n",
       "2  1000_2   2018-08-04     1000\n",
       "3  1000_3   2018-06-16     1000\n",
       "4  1000_4   2018-12-05     1000"
      ]
     },
     "metadata": {},
     "output_type": "display_data"
    },
    {
     "data": {
      "text/html": [
       "<div>\n",
       "<style scoped>\n",
       "    .dataframe tbody tr th:only-of-type {\n",
       "        vertical-align: middle;\n",
       "    }\n",
       "\n",
       "    .dataframe tbody tr th {\n",
       "        vertical-align: top;\n",
       "    }\n",
       "\n",
       "    .dataframe thead th {\n",
       "        text-align: right;\n",
       "    }\n",
       "</style>\n",
       "<table border=\"1\" class=\"dataframe\">\n",
       "  <thead>\n",
       "    <tr style=\"text-align: right;\">\n",
       "      <th></th>\n",
       "      <th>id</th>\n",
       "      <th>message_date</th>\n",
       "      <th>user_id</th>\n",
       "    </tr>\n",
       "  </thead>\n",
       "  <tbody>\n",
       "    <tr>\n",
       "      <td>123031</td>\n",
       "      <td>1499_179</td>\n",
       "      <td>2018-12-12</td>\n",
       "      <td>1499</td>\n",
       "    </tr>\n",
       "    <tr>\n",
       "      <td>123032</td>\n",
       "      <td>1499_180</td>\n",
       "      <td>2018-09-28</td>\n",
       "      <td>1499</td>\n",
       "    </tr>\n",
       "    <tr>\n",
       "      <td>123033</td>\n",
       "      <td>1499_181</td>\n",
       "      <td>2018-09-27</td>\n",
       "      <td>1499</td>\n",
       "    </tr>\n",
       "    <tr>\n",
       "      <td>123034</td>\n",
       "      <td>1499_182</td>\n",
       "      <td>2018-11-15</td>\n",
       "      <td>1499</td>\n",
       "    </tr>\n",
       "    <tr>\n",
       "      <td>123035</td>\n",
       "      <td>1499_183</td>\n",
       "      <td>2018-11-16</td>\n",
       "      <td>1499</td>\n",
       "    </tr>\n",
       "  </tbody>\n",
       "</table>\n",
       "</div>"
      ],
      "text/plain": [
       "              id message_date  user_id\n",
       "123031  1499_179   2018-12-12     1499\n",
       "123032  1499_180   2018-09-28     1499\n",
       "123033  1499_181   2018-09-27     1499\n",
       "123034  1499_182   2018-11-15     1499\n",
       "123035  1499_183   2018-11-16     1499"
      ]
     },
     "metadata": {},
     "output_type": "display_data"
    }
   ],
   "source": [
    "display(messages.head())\n",
    "display(messages.tail())"
   ]
  },
  {
   "cell_type": "code",
   "execution_count": 10,
   "metadata": {},
   "outputs": [
    {
     "data": {
      "text/html": [
       "<div>\n",
       "<style scoped>\n",
       "    .dataframe tbody tr th:only-of-type {\n",
       "        vertical-align: middle;\n",
       "    }\n",
       "\n",
       "    .dataframe tbody tr th {\n",
       "        vertical-align: top;\n",
       "    }\n",
       "\n",
       "    .dataframe thead th {\n",
       "        text-align: right;\n",
       "    }\n",
       "</style>\n",
       "<table border=\"1\" class=\"dataframe\">\n",
       "  <thead>\n",
       "    <tr style=\"text-align: right;\">\n",
       "      <th></th>\n",
       "      <th>count</th>\n",
       "      <th>mean</th>\n",
       "      <th>std</th>\n",
       "      <th>min</th>\n",
       "      <th>25%</th>\n",
       "      <th>50%</th>\n",
       "      <th>75%</th>\n",
       "      <th>max</th>\n",
       "    </tr>\n",
       "  </thead>\n",
       "  <tbody>\n",
       "    <tr>\n",
       "      <td>duration</td>\n",
       "      <td>202607.0</td>\n",
       "      <td>6.755887</td>\n",
       "      <td>5.843365</td>\n",
       "      <td>0.0</td>\n",
       "      <td>1.3</td>\n",
       "      <td>6.0</td>\n",
       "      <td>10.7</td>\n",
       "      <td>38.0</td>\n",
       "    </tr>\n",
       "    <tr>\n",
       "      <td>user_id</td>\n",
       "      <td>202607.0</td>\n",
       "      <td>1253.940619</td>\n",
       "      <td>144.722751</td>\n",
       "      <td>1000.0</td>\n",
       "      <td>1126.0</td>\n",
       "      <td>1260.0</td>\n",
       "      <td>1379.0</td>\n",
       "      <td>1499.0</td>\n",
       "    </tr>\n",
       "  </tbody>\n",
       "</table>\n",
       "</div>"
      ],
      "text/plain": [
       "             count         mean         std     min     25%     50%     75%  \\\n",
       "duration  202607.0     6.755887    5.843365     0.0     1.3     6.0    10.7   \n",
       "user_id   202607.0  1253.940619  144.722751  1000.0  1126.0  1260.0  1379.0   \n",
       "\n",
       "             max  \n",
       "duration    38.0  \n",
       "user_id   1499.0  "
      ]
     },
     "metadata": {},
     "output_type": "display_data"
    }
   ],
   "source": [
    "display(calls.describe().T)"
   ]
  },
  {
   "cell_type": "markdown",
   "metadata": {},
   "source": [
    "Тарифы"
   ]
  },
  {
   "cell_type": "code",
   "execution_count": 11,
   "metadata": {},
   "outputs": [
    {
     "name": "stdout",
     "output_type": "stream",
     "text": [
      "<class 'pandas.core.frame.DataFrame'>\n",
      "RangeIndex: 2 entries, 0 to 1\n",
      "Data columns (total 8 columns):\n",
      "messages_included        2 non-null int64\n",
      "mb_per_month_included    2 non-null int64\n",
      "minutes_included         2 non-null int64\n",
      "rub_monthly_fee          2 non-null int64\n",
      "rub_per_gb               2 non-null int64\n",
      "rub_per_message          2 non-null int64\n",
      "rub_per_minute           2 non-null int64\n",
      "tariff_name              2 non-null object\n",
      "dtypes: int64(7), object(1)\n",
      "memory usage: 256.0+ bytes\n"
     ]
    }
   ],
   "source": [
    "tariffs = pd.read_csv('/datasets/tariffs.csv')\n",
    "tariffs.info()"
   ]
  },
  {
   "cell_type": "code",
   "execution_count": 12,
   "metadata": {},
   "outputs": [
    {
     "data": {
      "text/html": [
       "<div>\n",
       "<style scoped>\n",
       "    .dataframe tbody tr th:only-of-type {\n",
       "        vertical-align: middle;\n",
       "    }\n",
       "\n",
       "    .dataframe tbody tr th {\n",
       "        vertical-align: top;\n",
       "    }\n",
       "\n",
       "    .dataframe thead th {\n",
       "        text-align: right;\n",
       "    }\n",
       "</style>\n",
       "<table border=\"1\" class=\"dataframe\">\n",
       "  <thead>\n",
       "    <tr style=\"text-align: right;\">\n",
       "      <th></th>\n",
       "      <th>messages_included</th>\n",
       "      <th>mb_per_month_included</th>\n",
       "      <th>minutes_included</th>\n",
       "      <th>rub_monthly_fee</th>\n",
       "      <th>rub_per_gb</th>\n",
       "      <th>rub_per_message</th>\n",
       "      <th>rub_per_minute</th>\n",
       "      <th>tariff_name</th>\n",
       "    </tr>\n",
       "  </thead>\n",
       "  <tbody>\n",
       "    <tr>\n",
       "      <td>0</td>\n",
       "      <td>50</td>\n",
       "      <td>15360</td>\n",
       "      <td>500</td>\n",
       "      <td>550</td>\n",
       "      <td>200</td>\n",
       "      <td>3</td>\n",
       "      <td>3</td>\n",
       "      <td>smart</td>\n",
       "    </tr>\n",
       "    <tr>\n",
       "      <td>1</td>\n",
       "      <td>1000</td>\n",
       "      <td>30720</td>\n",
       "      <td>3000</td>\n",
       "      <td>1950</td>\n",
       "      <td>150</td>\n",
       "      <td>1</td>\n",
       "      <td>1</td>\n",
       "      <td>ultra</td>\n",
       "    </tr>\n",
       "  </tbody>\n",
       "</table>\n",
       "</div>"
      ],
      "text/plain": [
       "   messages_included  mb_per_month_included  minutes_included  \\\n",
       "0                 50                  15360               500   \n",
       "1               1000                  30720              3000   \n",
       "\n",
       "   rub_monthly_fee  rub_per_gb  rub_per_message  rub_per_minute tariff_name  \n",
       "0              550         200                3               3       smart  \n",
       "1             1950         150                1               1       ultra  "
      ]
     },
     "metadata": {},
     "output_type": "display_data"
    }
   ],
   "source": [
    "display(tariffs)"
   ]
  },
  {
   "cell_type": "markdown",
   "metadata": {},
   "source": [
    "Интернет"
   ]
  },
  {
   "cell_type": "code",
   "execution_count": 13,
   "metadata": {},
   "outputs": [
    {
     "name": "stdout",
     "output_type": "stream",
     "text": [
      "<class 'pandas.core.frame.DataFrame'>\n",
      "RangeIndex: 149396 entries, 0 to 149395\n",
      "Data columns (total 5 columns):\n",
      "Unnamed: 0      149396 non-null int64\n",
      "id              149396 non-null object\n",
      "mb_used         149396 non-null float64\n",
      "session_date    149396 non-null object\n",
      "user_id         149396 non-null int64\n",
      "dtypes: float64(1), int64(2), object(2)\n",
      "memory usage: 5.7+ MB\n"
     ]
    }
   ],
   "source": [
    "internet = pd.read_csv('/datasets/internet.csv')\n",
    "internet.info()"
   ]
  },
  {
   "cell_type": "code",
   "execution_count": 14,
   "metadata": {},
   "outputs": [
    {
     "data": {
      "text/html": [
       "<div>\n",
       "<style scoped>\n",
       "    .dataframe tbody tr th:only-of-type {\n",
       "        vertical-align: middle;\n",
       "    }\n",
       "\n",
       "    .dataframe tbody tr th {\n",
       "        vertical-align: top;\n",
       "    }\n",
       "\n",
       "    .dataframe thead th {\n",
       "        text-align: right;\n",
       "    }\n",
       "</style>\n",
       "<table border=\"1\" class=\"dataframe\">\n",
       "  <thead>\n",
       "    <tr style=\"text-align: right;\">\n",
       "      <th></th>\n",
       "      <th>Unnamed: 0</th>\n",
       "      <th>id</th>\n",
       "      <th>mb_used</th>\n",
       "      <th>session_date</th>\n",
       "      <th>user_id</th>\n",
       "    </tr>\n",
       "  </thead>\n",
       "  <tbody>\n",
       "    <tr>\n",
       "      <td>0</td>\n",
       "      <td>0</td>\n",
       "      <td>1000_0</td>\n",
       "      <td>112.95</td>\n",
       "      <td>2018-11-25</td>\n",
       "      <td>1000</td>\n",
       "    </tr>\n",
       "    <tr>\n",
       "      <td>1</td>\n",
       "      <td>1</td>\n",
       "      <td>1000_1</td>\n",
       "      <td>1052.81</td>\n",
       "      <td>2018-09-07</td>\n",
       "      <td>1000</td>\n",
       "    </tr>\n",
       "    <tr>\n",
       "      <td>2</td>\n",
       "      <td>2</td>\n",
       "      <td>1000_2</td>\n",
       "      <td>1197.26</td>\n",
       "      <td>2018-06-25</td>\n",
       "      <td>1000</td>\n",
       "    </tr>\n",
       "    <tr>\n",
       "      <td>3</td>\n",
       "      <td>3</td>\n",
       "      <td>1000_3</td>\n",
       "      <td>550.27</td>\n",
       "      <td>2018-08-22</td>\n",
       "      <td>1000</td>\n",
       "    </tr>\n",
       "    <tr>\n",
       "      <td>4</td>\n",
       "      <td>4</td>\n",
       "      <td>1000_4</td>\n",
       "      <td>302.56</td>\n",
       "      <td>2018-09-24</td>\n",
       "      <td>1000</td>\n",
       "    </tr>\n",
       "  </tbody>\n",
       "</table>\n",
       "</div>"
      ],
      "text/plain": [
       "   Unnamed: 0      id  mb_used session_date  user_id\n",
       "0           0  1000_0   112.95   2018-11-25     1000\n",
       "1           1  1000_1  1052.81   2018-09-07     1000\n",
       "2           2  1000_2  1197.26   2018-06-25     1000\n",
       "3           3  1000_3   550.27   2018-08-22     1000\n",
       "4           4  1000_4   302.56   2018-09-24     1000"
      ]
     },
     "metadata": {},
     "output_type": "display_data"
    },
    {
     "data": {
      "text/html": [
       "<div>\n",
       "<style scoped>\n",
       "    .dataframe tbody tr th:only-of-type {\n",
       "        vertical-align: middle;\n",
       "    }\n",
       "\n",
       "    .dataframe tbody tr th {\n",
       "        vertical-align: top;\n",
       "    }\n",
       "\n",
       "    .dataframe thead th {\n",
       "        text-align: right;\n",
       "    }\n",
       "</style>\n",
       "<table border=\"1\" class=\"dataframe\">\n",
       "  <thead>\n",
       "    <tr style=\"text-align: right;\">\n",
       "      <th></th>\n",
       "      <th>Unnamed: 0</th>\n",
       "      <th>id</th>\n",
       "      <th>mb_used</th>\n",
       "      <th>session_date</th>\n",
       "      <th>user_id</th>\n",
       "    </tr>\n",
       "  </thead>\n",
       "  <tbody>\n",
       "    <tr>\n",
       "      <td>149391</td>\n",
       "      <td>149391</td>\n",
       "      <td>1499_152</td>\n",
       "      <td>318.90</td>\n",
       "      <td>2018-10-03</td>\n",
       "      <td>1499</td>\n",
       "    </tr>\n",
       "    <tr>\n",
       "      <td>149392</td>\n",
       "      <td>149392</td>\n",
       "      <td>1499_153</td>\n",
       "      <td>490.13</td>\n",
       "      <td>2018-12-14</td>\n",
       "      <td>1499</td>\n",
       "    </tr>\n",
       "    <tr>\n",
       "      <td>149393</td>\n",
       "      <td>149393</td>\n",
       "      <td>1499_154</td>\n",
       "      <td>0.00</td>\n",
       "      <td>2018-10-27</td>\n",
       "      <td>1499</td>\n",
       "    </tr>\n",
       "    <tr>\n",
       "      <td>149394</td>\n",
       "      <td>149394</td>\n",
       "      <td>1499_155</td>\n",
       "      <td>1246.32</td>\n",
       "      <td>2018-11-26</td>\n",
       "      <td>1499</td>\n",
       "    </tr>\n",
       "    <tr>\n",
       "      <td>149395</td>\n",
       "      <td>149395</td>\n",
       "      <td>1499_156</td>\n",
       "      <td>544.37</td>\n",
       "      <td>2018-10-26</td>\n",
       "      <td>1499</td>\n",
       "    </tr>\n",
       "  </tbody>\n",
       "</table>\n",
       "</div>"
      ],
      "text/plain": [
       "        Unnamed: 0        id  mb_used session_date  user_id\n",
       "149391      149391  1499_152   318.90   2018-10-03     1499\n",
       "149392      149392  1499_153   490.13   2018-12-14     1499\n",
       "149393      149393  1499_154     0.00   2018-10-27     1499\n",
       "149394      149394  1499_155  1246.32   2018-11-26     1499\n",
       "149395      149395  1499_156   544.37   2018-10-26     1499"
      ]
     },
     "metadata": {},
     "output_type": "display_data"
    }
   ],
   "source": [
    "display(internet.head())\n",
    "display(internet.tail())"
   ]
  },
  {
   "cell_type": "code",
   "execution_count": 15,
   "metadata": {},
   "outputs": [
    {
     "data": {
      "text/html": [
       "<div>\n",
       "<style scoped>\n",
       "    .dataframe tbody tr th:only-of-type {\n",
       "        vertical-align: middle;\n",
       "    }\n",
       "\n",
       "    .dataframe tbody tr th {\n",
       "        vertical-align: top;\n",
       "    }\n",
       "\n",
       "    .dataframe thead th {\n",
       "        text-align: right;\n",
       "    }\n",
       "</style>\n",
       "<table border=\"1\" class=\"dataframe\">\n",
       "  <thead>\n",
       "    <tr style=\"text-align: right;\">\n",
       "      <th></th>\n",
       "      <th>count</th>\n",
       "      <th>mean</th>\n",
       "      <th>std</th>\n",
       "      <th>min</th>\n",
       "      <th>25%</th>\n",
       "      <th>50%</th>\n",
       "      <th>75%</th>\n",
       "      <th>max</th>\n",
       "    </tr>\n",
       "  </thead>\n",
       "  <tbody>\n",
       "    <tr>\n",
       "      <td>Unnamed: 0</td>\n",
       "      <td>149396.0</td>\n",
       "      <td>74697.500000</td>\n",
       "      <td>43127.054745</td>\n",
       "      <td>0.0</td>\n",
       "      <td>37348.7500</td>\n",
       "      <td>74697.500</td>\n",
       "      <td>112046.2500</td>\n",
       "      <td>149395.00</td>\n",
       "    </tr>\n",
       "    <tr>\n",
       "      <td>mb_used</td>\n",
       "      <td>149396.0</td>\n",
       "      <td>370.192426</td>\n",
       "      <td>278.300951</td>\n",
       "      <td>0.0</td>\n",
       "      <td>138.1875</td>\n",
       "      <td>348.015</td>\n",
       "      <td>559.5525</td>\n",
       "      <td>1724.83</td>\n",
       "    </tr>\n",
       "    <tr>\n",
       "      <td>user_id</td>\n",
       "      <td>149396.0</td>\n",
       "      <td>1252.099842</td>\n",
       "      <td>144.050823</td>\n",
       "      <td>1000.0</td>\n",
       "      <td>1130.0000</td>\n",
       "      <td>1251.000</td>\n",
       "      <td>1380.0000</td>\n",
       "      <td>1499.00</td>\n",
       "    </tr>\n",
       "  </tbody>\n",
       "</table>\n",
       "</div>"
      ],
      "text/plain": [
       "               count          mean           std     min         25%  \\\n",
       "Unnamed: 0  149396.0  74697.500000  43127.054745     0.0  37348.7500   \n",
       "mb_used     149396.0    370.192426    278.300951     0.0    138.1875   \n",
       "user_id     149396.0   1252.099842    144.050823  1000.0   1130.0000   \n",
       "\n",
       "                  50%          75%        max  \n",
       "Unnamed: 0  74697.500  112046.2500  149395.00  \n",
       "mb_used       348.015     559.5525    1724.83  \n",
       "user_id      1251.000    1380.0000    1499.00  "
      ]
     },
     "metadata": {},
     "output_type": "display_data"
    }
   ],
   "source": [
    "display(internet.describe().T)"
   ]
  },
  {
   "cell_type": "markdown",
   "metadata": {},
   "source": [
    "**Описание данных**\n",
    "\n",
    "\n",
    "**Таблица users (информация о пользователях):**\n",
    "- user_id — уникальный идентификатор пользователя\n",
    "- first_name — имя пользователя\n",
    "- last_name — фамилия пользователя\n",
    "- age — возраст пользователя (годы)\n",
    "- reg_date — дата подключения тарифа (день, месяц, год)\n",
    "- churn_date — дата прекращения пользования тарифом (если значение пропущено, то тариф ещё действовал на момент выгрузки данных)\n",
    "- city — город проживания пользователя\n",
    "- tarif — название тарифного плана\n",
    "\n",
    "**Таблица calls (информация о звонках):**\n",
    "- id — уникальный номер звонка\n",
    "- call_date — дата звонка\n",
    "- duration — длительность звонка в минутах\n",
    "- user_id — идентификатор пользователя, сделавшего звонок\n",
    "\n",
    "**Таблица messages (информация о сообщениях):**\n",
    "- id — уникальный номер сообщения\n",
    "- message_date — дата сообщения\n",
    "- user_id — идентификатор пользователя, отправившего сообщение\n",
    "\n",
    "**Таблица internet (информация об интернет-сессиях):**\n",
    "- id — уникальный номер сессии\n",
    "- mb_used — объём потраченного за сессию интернет-трафика (в мегабайтах)\n",
    "- session_date — дата интернет-сессии\n",
    "- user_id — идентификатор пользователя\n",
    "\n",
    "**Таблица tariffs (информация о тарифах):**\n",
    "- tariff_name — название тарифа\n",
    "- rub_monthly_fee — ежемесячная абонентская плата в рублях\n",
    "- minutes_included — количество минут разговора в месяц, включённых в абонентскую плату\n",
    "- messages_included — количество сообщений в месяц, включённых в абонентскую плату\n",
    "- mb_per_month_included — объём интернет-трафика, включённого в абонентскую плату (в мегабайтах)\n",
    "- rub_per_minute — стоимость минуты разговора сверх тарифного пакета (например, если в тарифе 100 минут разговора в месяц, то со 101 минуты будет взиматься плата)\n",
    "- rub_per_message — стоимость отправки сообщения сверх тарифного пакета\n",
    "- rub_per_gb — стоимость дополнительного гигабайта интернет-трафика сверх тарифного пакета (1 гигабайт = 1024 мегабайта)"
   ]
  },
  {
   "cell_type": "markdown",
   "metadata": {},
   "source": [
    "#### Вывод"
   ]
  },
  {
   "cell_type": "markdown",
   "metadata": {},
   "source": [
    "Мы имеем данные 500 клиентов, предварительно можно утверждать, что, данных достаточно для ответа на поставленные вопросы. Но встречаются пропуски в данных, также потребуется заменить тип данных у столбцов с датой, и округлить значения для подсчета выручки от звонков и потребляемого траффика.\n",
    "\n",
    "Чтобы двигаться дальше, нужно устранить проблемы в данных."
   ]
  },
  {
   "cell_type": "markdown",
   "metadata": {},
   "source": [
    "### Шаг 2. Подготовка данных"
   ]
  },
  {
   "cell_type": "markdown",
   "metadata": {},
   "source": [
    "Изменим тип данных столбцов с датой и временем"
   ]
  },
  {
   "cell_type": "code",
   "execution_count": 16,
   "metadata": {},
   "outputs": [],
   "source": [
    "calls['call_date'] = pd.to_datetime(calls['call_date'], format='%Y-%m-%d')\n",
    "internet['session_date'] = pd.to_datetime(internet['session_date'], format='%Y-%m-%d')\n",
    "messages['message_date'] = pd.to_datetime(messages['message_date'], format='%Y-%m-%d')\n",
    "users['churn_date'] = pd.to_datetime(users['churn_date'], format='%Y-%m-%d')\n",
    "users['reg_date'] = pd.to_datetime(users['reg_date'], format='%Y-%m-%d')"
   ]
  },
  {
   "cell_type": "markdown",
   "metadata": {},
   "source": [
    "Округлим длительность звонков"
   ]
  },
  {
   "cell_type": "code",
   "execution_count": 17,
   "metadata": {},
   "outputs": [],
   "source": [
    "#calls['duration'] = calls['duration'].apply(np.ceil)\n",
    "calls['duration'] = np.ceil(calls['duration'])"
   ]
  },
  {
   "cell_type": "code",
   "execution_count": 19,
   "metadata": {},
   "outputs": [
    {
     "name": "stdout",
     "output_type": "stream",
     "text": [
      "Количество звонков с длительностью, равной нулю: 39613\n"
     ]
    }
   ],
   "source": [
    "# добавим столбец со значением месяца\n",
    "calls['month'] = calls['call_date'].dt.month\n",
    "print('Количество звонков с длительностью, равной нулю:', calls.loc[calls['duration'] == 0, 'duration'].value_counts()[0])"
   ]
  },
  {
   "cell_type": "code",
   "execution_count": 20,
   "metadata": {},
   "outputs": [],
   "source": [
    "messages['month'] = messages['message_date'].dt.month"
   ]
  },
  {
   "cell_type": "markdown",
   "metadata": {},
   "source": [
    "По условию задания звонки с нулевой продолжительностью - пропущенные звонки, поэтому их не нужно удалять."
   ]
  },
  {
   "cell_type": "markdown",
   "metadata": {},
   "source": [
    "Посчитаем для каждого пользователя:\n",
    "1. количество сделанных звонков и длительность разговора по месяцам;\n",
    "2. количество отправленных сообщений по месяцам;\n",
    "3. объем израсходованного интернет-трафика по месяцам;\n",
    "4. помесячную выручку с каждого пользователя (вычтите бесплатный лимит из суммарного количества звонков, сообщений и интернет-трафика; остаток умножьте на значение из тарифного плана; прибавьте абонентскую плату, соответствующую тарифному плану)."
   ]
  },
  {
   "cell_type": "code",
   "execution_count": 21,
   "metadata": {},
   "outputs": [],
   "source": [
    "# скомбинируем уникальное имя для каждого пользователя\n",
    "users['unique_name'] = users['city'] + users['first_name'] + users['last_name']"
   ]
  },
  {
   "cell_type": "code",
   "execution_count": 22,
   "metadata": {},
   "outputs": [],
   "source": [
    "# сводная таблица по звонкам\n",
    "calls_grouped = calls.merge(users, on='user_id', how='inner').pivot_table(values=['unique_name', 'duration'], \n",
    "                       index=['user_id', 'month'], \n",
    "                       aggfunc={'unique_name': 'count', 'duration': 'sum'})\n",
    "calls_grouped.columns = ['duration', 'calls']"
   ]
  },
  {
   "cell_type": "code",
   "execution_count": 23,
   "metadata": {},
   "outputs": [],
   "source": [
    "# сводная таблица по сообщениям\n",
    "messages['month'] = messages['message_date'].dt.month\n",
    "messages_grouped = messages.merge(users, on='user_id', how='inner').pivot_table(values='unique_name', \n",
    "                       index=['user_id', 'month'], \n",
    "                       aggfunc={'unique_name': 'count'})\n",
    "messages_grouped.columns = ['messages']"
   ]
  },
  {
   "cell_type": "code",
   "execution_count": 24,
   "metadata": {},
   "outputs": [],
   "source": [
    "# сводная таблица по интернет-трафику\n",
    "internet['month'] = internet['session_date'].dt.month\n",
    "internet_grouped = internet.merge(users, on='user_id', how='inner').pivot_table(values='mb_used', \n",
    "                       index=['user_id', 'month'], \n",
    "                       aggfunc={'mb_used': 'sum'})\n",
    "internet_grouped.columns = ['gb_used']\n",
    "internet_grouped['gb_used']=np.ceil(internet_grouped['gb_used']/1024)"
   ]
  },
  {
   "cell_type": "code",
   "execution_count": 25,
   "metadata": {},
   "outputs": [
    {
     "data": {
      "text/html": [
       "<div>\n",
       "<style scoped>\n",
       "    .dataframe tbody tr th:only-of-type {\n",
       "        vertical-align: middle;\n",
       "    }\n",
       "\n",
       "    .dataframe tbody tr th {\n",
       "        vertical-align: top;\n",
       "    }\n",
       "\n",
       "    .dataframe thead th {\n",
       "        text-align: right;\n",
       "    }\n",
       "</style>\n",
       "<table border=\"1\" class=\"dataframe\">\n",
       "  <thead>\n",
       "    <tr style=\"text-align: right;\">\n",
       "      <th></th>\n",
       "      <th></th>\n",
       "      <th>duration</th>\n",
       "      <th>calls</th>\n",
       "      <th>messages</th>\n",
       "      <th>gb_used</th>\n",
       "    </tr>\n",
       "    <tr>\n",
       "      <th>user_id</th>\n",
       "      <th>month</th>\n",
       "      <th></th>\n",
       "      <th></th>\n",
       "      <th></th>\n",
       "      <th></th>\n",
       "    </tr>\n",
       "  </thead>\n",
       "  <tbody>\n",
       "    <tr>\n",
       "      <td rowspan=\"8\" valign=\"top\">1000</td>\n",
       "      <td>5</td>\n",
       "      <td>159.0</td>\n",
       "      <td>22.0</td>\n",
       "      <td>22.0</td>\n",
       "      <td>3.0</td>\n",
       "    </tr>\n",
       "    <tr>\n",
       "      <td>6</td>\n",
       "      <td>172.0</td>\n",
       "      <td>43.0</td>\n",
       "      <td>60.0</td>\n",
       "      <td>23.0</td>\n",
       "    </tr>\n",
       "    <tr>\n",
       "      <td>7</td>\n",
       "      <td>340.0</td>\n",
       "      <td>47.0</td>\n",
       "      <td>75.0</td>\n",
       "      <td>14.0</td>\n",
       "    </tr>\n",
       "    <tr>\n",
       "      <td>8</td>\n",
       "      <td>408.0</td>\n",
       "      <td>52.0</td>\n",
       "      <td>81.0</td>\n",
       "      <td>14.0</td>\n",
       "    </tr>\n",
       "    <tr>\n",
       "      <td>9</td>\n",
       "      <td>466.0</td>\n",
       "      <td>58.0</td>\n",
       "      <td>57.0</td>\n",
       "      <td>15.0</td>\n",
       "    </tr>\n",
       "    <tr>\n",
       "      <td>10</td>\n",
       "      <td>350.0</td>\n",
       "      <td>57.0</td>\n",
       "      <td>73.0</td>\n",
       "      <td>15.0</td>\n",
       "    </tr>\n",
       "    <tr>\n",
       "      <td>11</td>\n",
       "      <td>338.0</td>\n",
       "      <td>43.0</td>\n",
       "      <td>58.0</td>\n",
       "      <td>15.0</td>\n",
       "    </tr>\n",
       "    <tr>\n",
       "      <td>12</td>\n",
       "      <td>333.0</td>\n",
       "      <td>46.0</td>\n",
       "      <td>70.0</td>\n",
       "      <td>10.0</td>\n",
       "    </tr>\n",
       "    <tr>\n",
       "      <td rowspan=\"2\" valign=\"top\">1001</td>\n",
       "      <td>11</td>\n",
       "      <td>430.0</td>\n",
       "      <td>59.0</td>\n",
       "      <td>NaN</td>\n",
       "      <td>18.0</td>\n",
       "    </tr>\n",
       "    <tr>\n",
       "      <td>12</td>\n",
       "      <td>414.0</td>\n",
       "      <td>63.0</td>\n",
       "      <td>NaN</td>\n",
       "      <td>14.0</td>\n",
       "    </tr>\n",
       "    <tr>\n",
       "      <td rowspan=\"5\" valign=\"top\">1002</td>\n",
       "      <td>6</td>\n",
       "      <td>117.0</td>\n",
       "      <td>15.0</td>\n",
       "      <td>4.0</td>\n",
       "      <td>11.0</td>\n",
       "    </tr>\n",
       "    <tr>\n",
       "      <td>7</td>\n",
       "      <td>214.0</td>\n",
       "      <td>26.0</td>\n",
       "      <td>11.0</td>\n",
       "      <td>18.0</td>\n",
       "    </tr>\n",
       "    <tr>\n",
       "      <td>8</td>\n",
       "      <td>289.0</td>\n",
       "      <td>42.0</td>\n",
       "      <td>13.0</td>\n",
       "      <td>20.0</td>\n",
       "    </tr>\n",
       "    <tr>\n",
       "      <td>9</td>\n",
       "      <td>206.0</td>\n",
       "      <td>36.0</td>\n",
       "      <td>4.0</td>\n",
       "      <td>17.0</td>\n",
       "    </tr>\n",
       "    <tr>\n",
       "      <td>10</td>\n",
       "      <td>212.0</td>\n",
       "      <td>33.0</td>\n",
       "      <td>10.0</td>\n",
       "      <td>14.0</td>\n",
       "    </tr>\n",
       "  </tbody>\n",
       "</table>\n",
       "</div>"
      ],
      "text/plain": [
       "               duration  calls  messages  gb_used\n",
       "user_id month                                    \n",
       "1000    5         159.0   22.0      22.0      3.0\n",
       "        6         172.0   43.0      60.0     23.0\n",
       "        7         340.0   47.0      75.0     14.0\n",
       "        8         408.0   52.0      81.0     14.0\n",
       "        9         466.0   58.0      57.0     15.0\n",
       "        10        350.0   57.0      73.0     15.0\n",
       "        11        338.0   43.0      58.0     15.0\n",
       "        12        333.0   46.0      70.0     10.0\n",
       "1001    11        430.0   59.0       NaN     18.0\n",
       "        12        414.0   63.0       NaN     14.0\n",
       "1002    6         117.0   15.0       4.0     11.0\n",
       "        7         214.0   26.0      11.0     18.0\n",
       "        8         289.0   42.0      13.0     20.0\n",
       "        9         206.0   36.0       4.0     17.0\n",
       "        10        212.0   33.0      10.0     14.0"
      ]
     },
     "metadata": {},
     "output_type": "display_data"
    }
   ],
   "source": [
    "# объединяем все три сводные таблицы в одну\n",
    "dataframes = [calls_grouped, messages_grouped, internet_grouped]\n",
    "df = reduce(lambda left,right: pd.merge(left,right,on=['user_id', 'month'], how='outer'), dataframes)\n",
    "display(df.head(15))"
   ]
  },
  {
   "cell_type": "code",
   "execution_count": 26,
   "metadata": {},
   "outputs": [],
   "source": [
    "# Заменим пропущенные значения на нули\n",
    "df.loc[df['duration'].isna(), 'duration'] = 0\n",
    "df.loc[df['messages'].isna(), 'messages'] = 0\n",
    "df.loc[df['gb_used'].isna(), 'gb_used'] = 0"
   ]
  },
  {
   "cell_type": "code",
   "execution_count": 27,
   "metadata": {},
   "outputs": [],
   "source": [
    "# добавим наименование используемого тарифа и город для каждого пользователя\n",
    "for user in df.index:\n",
    "    df.loc[user, 'tariff'] = users.loc[user[0]-1000, 'tariff']\n",
    "    df.loc[user, 'city'] = users.loc[user[0]-1000, 'city']"
   ]
  },
  {
   "cell_type": "markdown",
   "metadata": {},
   "source": [
    "**Описание тарифов**\n",
    "\n",
    "**Тариф «Смарт»**\n",
    "1. Ежемесячная плата: 550 рублей\n",
    "2. Включено 500 минут разговора, 50 сообщений и 15 Гб интернет-трафика\n",
    "3. Стоимость услуг сверх тарифного пакета: минута разговора: 3 рубля, сообщение: 3 рубля, 1 Гб интернет-трафика: 200 рублей\n",
    "\n",
    "**Тариф «Ультра»**\n",
    "1. Ежемесячная плата: 1950 рублей\n",
    "2. Включено 3000 минут разговора, 1000 сообщений и 30 Гб интернет-трафика\n",
    "3. Стоимость услуг сверх тарифного пакета: минута разговора: 1 рубль, сообщение: 1 рубль, 1 Гб интернет-трафика: 150 рублей"
   ]
  },
  {
   "cell_type": "code",
   "execution_count": 28,
   "metadata": {},
   "outputs": [
    {
     "data": {
      "text/html": [
       "<div>\n",
       "<style scoped>\n",
       "    .dataframe tbody tr th:only-of-type {\n",
       "        vertical-align: middle;\n",
       "    }\n",
       "\n",
       "    .dataframe tbody tr th {\n",
       "        vertical-align: top;\n",
       "    }\n",
       "\n",
       "    .dataframe thead th {\n",
       "        text-align: right;\n",
       "    }\n",
       "</style>\n",
       "<table border=\"1\" class=\"dataframe\">\n",
       "  <thead>\n",
       "    <tr style=\"text-align: right;\">\n",
       "      <th></th>\n",
       "      <th></th>\n",
       "      <th>duration</th>\n",
       "      <th>calls</th>\n",
       "      <th>messages</th>\n",
       "      <th>gb_used</th>\n",
       "      <th>tariff</th>\n",
       "      <th>city</th>\n",
       "      <th>revenue</th>\n",
       "    </tr>\n",
       "    <tr>\n",
       "      <th>user_id</th>\n",
       "      <th>month</th>\n",
       "      <th></th>\n",
       "      <th></th>\n",
       "      <th></th>\n",
       "      <th></th>\n",
       "      <th></th>\n",
       "      <th></th>\n",
       "      <th></th>\n",
       "    </tr>\n",
       "  </thead>\n",
       "  <tbody>\n",
       "    <tr>\n",
       "      <td rowspan=\"8\" valign=\"top\">1000</td>\n",
       "      <td>5</td>\n",
       "      <td>159.0</td>\n",
       "      <td>22.0</td>\n",
       "      <td>22.0</td>\n",
       "      <td>3.0</td>\n",
       "      <td>ultra</td>\n",
       "      <td>Краснодар</td>\n",
       "      <td>1950.0</td>\n",
       "    </tr>\n",
       "    <tr>\n",
       "      <td>6</td>\n",
       "      <td>172.0</td>\n",
       "      <td>43.0</td>\n",
       "      <td>60.0</td>\n",
       "      <td>23.0</td>\n",
       "      <td>ultra</td>\n",
       "      <td>Краснодар</td>\n",
       "      <td>1950.0</td>\n",
       "    </tr>\n",
       "    <tr>\n",
       "      <td>7</td>\n",
       "      <td>340.0</td>\n",
       "      <td>47.0</td>\n",
       "      <td>75.0</td>\n",
       "      <td>14.0</td>\n",
       "      <td>ultra</td>\n",
       "      <td>Краснодар</td>\n",
       "      <td>1950.0</td>\n",
       "    </tr>\n",
       "    <tr>\n",
       "      <td>8</td>\n",
       "      <td>408.0</td>\n",
       "      <td>52.0</td>\n",
       "      <td>81.0</td>\n",
       "      <td>14.0</td>\n",
       "      <td>ultra</td>\n",
       "      <td>Краснодар</td>\n",
       "      <td>1950.0</td>\n",
       "    </tr>\n",
       "    <tr>\n",
       "      <td>9</td>\n",
       "      <td>466.0</td>\n",
       "      <td>58.0</td>\n",
       "      <td>57.0</td>\n",
       "      <td>15.0</td>\n",
       "      <td>ultra</td>\n",
       "      <td>Краснодар</td>\n",
       "      <td>1950.0</td>\n",
       "    </tr>\n",
       "    <tr>\n",
       "      <td>10</td>\n",
       "      <td>350.0</td>\n",
       "      <td>57.0</td>\n",
       "      <td>73.0</td>\n",
       "      <td>15.0</td>\n",
       "      <td>ultra</td>\n",
       "      <td>Краснодар</td>\n",
       "      <td>1950.0</td>\n",
       "    </tr>\n",
       "    <tr>\n",
       "      <td>11</td>\n",
       "      <td>338.0</td>\n",
       "      <td>43.0</td>\n",
       "      <td>58.0</td>\n",
       "      <td>15.0</td>\n",
       "      <td>ultra</td>\n",
       "      <td>Краснодар</td>\n",
       "      <td>1950.0</td>\n",
       "    </tr>\n",
       "    <tr>\n",
       "      <td>12</td>\n",
       "      <td>333.0</td>\n",
       "      <td>46.0</td>\n",
       "      <td>70.0</td>\n",
       "      <td>10.0</td>\n",
       "      <td>ultra</td>\n",
       "      <td>Краснодар</td>\n",
       "      <td>1950.0</td>\n",
       "    </tr>\n",
       "    <tr>\n",
       "      <td rowspan=\"2\" valign=\"top\">1001</td>\n",
       "      <td>11</td>\n",
       "      <td>430.0</td>\n",
       "      <td>59.0</td>\n",
       "      <td>0.0</td>\n",
       "      <td>18.0</td>\n",
       "      <td>smart</td>\n",
       "      <td>Москва</td>\n",
       "      <td>1150.0</td>\n",
       "    </tr>\n",
       "    <tr>\n",
       "      <td>12</td>\n",
       "      <td>414.0</td>\n",
       "      <td>63.0</td>\n",
       "      <td>0.0</td>\n",
       "      <td>14.0</td>\n",
       "      <td>smart</td>\n",
       "      <td>Москва</td>\n",
       "      <td>550.0</td>\n",
       "    </tr>\n",
       "  </tbody>\n",
       "</table>\n",
       "</div>"
      ],
      "text/plain": [
       "               duration  calls  messages  gb_used tariff       city  revenue\n",
       "user_id month                                                               \n",
       "1000    5         159.0   22.0      22.0      3.0  ultra  Краснодар   1950.0\n",
       "        6         172.0   43.0      60.0     23.0  ultra  Краснодар   1950.0\n",
       "        7         340.0   47.0      75.0     14.0  ultra  Краснодар   1950.0\n",
       "        8         408.0   52.0      81.0     14.0  ultra  Краснодар   1950.0\n",
       "        9         466.0   58.0      57.0     15.0  ultra  Краснодар   1950.0\n",
       "        10        350.0   57.0      73.0     15.0  ultra  Краснодар   1950.0\n",
       "        11        338.0   43.0      58.0     15.0  ultra  Краснодар   1950.0\n",
       "        12        333.0   46.0      70.0     10.0  ultra  Краснодар   1950.0\n",
       "1001    11        430.0   59.0       0.0     18.0  smart     Москва   1150.0\n",
       "        12        414.0   63.0       0.0     14.0  smart     Москва    550.0"
      ]
     },
     "execution_count": 28,
     "metadata": {},
     "output_type": "execute_result"
    }
   ],
   "source": [
    "# функция подсчета выручки с каждого пользователя в месяц\n",
    "def det_revenue(row):\n",
    "    messages = row['messages']\n",
    "    gb_used = row['gb_used']\n",
    "    tariff = row['tariff']\n",
    "    duration = row['duration']\n",
    "    calls = row['calls']\n",
    "    \n",
    "    if tariff == 'smart':\n",
    "        extra_duration = duration - tariffs.loc[0, 'minutes_included']\n",
    "        extra_gb = gb_used - (tariffs.loc[0, 'mb_per_month_included']/1024)\n",
    "        extra_messages = messages - tariffs.loc[0, 'messages_included']\n",
    "        \n",
    "        if extra_duration < 0: extra_duration = 0\n",
    "        if extra_gb < 0: extra_gb = 0\n",
    "        if extra_messages < 0: extra_messages = 0\n",
    "        \n",
    "        return (tariffs.loc[0, 'rub_per_message'] * extra_messages + \n",
    "                   (tariffs.loc[0, 'rub_per_gb']) * extra_gb + \n",
    "                   tariffs.loc[0, 'rub_per_minute'] * extra_duration + \n",
    "                   tariffs.loc[0, 'rub_monthly_fee']\n",
    "                  ) \n",
    "    else:\n",
    "        extra_duration = duration - tariffs.loc[1, 'minutes_included']\n",
    "        extra_gb = gb_used - (tariffs.loc[1, 'mb_per_month_included']/1024)\n",
    "        extra_messages = messages - tariffs.loc[1, 'messages_included']\n",
    "        \n",
    "        if extra_duration < 0: extra_duration = 0\n",
    "        if extra_gb < 0: extra_gb = 0\n",
    "        if extra_messages < 0: extra_messages = 0\n",
    "        \n",
    "        return (tariffs.loc[1, 'rub_per_message'] * extra_messages + \n",
    "                   (tariffs.loc[1, 'rub_per_gb']) * extra_gb + \n",
    "                   tariffs.loc[1, 'rub_per_minute'] * extra_duration + \n",
    "                   tariffs.loc[1, 'rub_monthly_fee']\n",
    "                  )\n",
    "\n",
    "df['revenue'] = df.apply(det_revenue, axis=1)\n",
    "df.head(10)"
   ]
  },
  {
   "cell_type": "code",
   "execution_count": 29,
   "metadata": {},
   "outputs": [
    {
     "name": "stdout",
     "output_type": "stream",
     "text": [
      "<class 'pandas.core.frame.DataFrame'>\n",
      "MultiIndex: 3214 entries, (1000, 5) to (1476, 4)\n",
      "Data columns (total 7 columns):\n",
      "duration    3214 non-null float64\n",
      "calls       3174 non-null float64\n",
      "messages    3214 non-null float64\n",
      "gb_used     3214 non-null float64\n",
      "tariff      3214 non-null object\n",
      "city        3214 non-null object\n",
      "revenue     3214 non-null float64\n",
      "dtypes: float64(5), object(2)\n",
      "memory usage: 369.6+ KB\n"
     ]
    },
    {
     "data": {
      "text/html": [
       "<div>\n",
       "<style scoped>\n",
       "    .dataframe tbody tr th:only-of-type {\n",
       "        vertical-align: middle;\n",
       "    }\n",
       "\n",
       "    .dataframe tbody tr th {\n",
       "        vertical-align: top;\n",
       "    }\n",
       "\n",
       "    .dataframe thead th {\n",
       "        text-align: right;\n",
       "    }\n",
       "</style>\n",
       "<table border=\"1\" class=\"dataframe\">\n",
       "  <thead>\n",
       "    <tr style=\"text-align: right;\">\n",
       "      <th></th>\n",
       "      <th>count</th>\n",
       "      <th>mean</th>\n",
       "      <th>std</th>\n",
       "      <th>min</th>\n",
       "      <th>25%</th>\n",
       "      <th>50%</th>\n",
       "      <th>75%</th>\n",
       "      <th>max</th>\n",
       "    </tr>\n",
       "  </thead>\n",
       "  <tbody>\n",
       "    <tr>\n",
       "      <td>duration</td>\n",
       "      <td>3214.0</td>\n",
       "      <td>451.244866</td>\n",
       "      <td>241.909978</td>\n",
       "      <td>0.0</td>\n",
       "      <td>282.0</td>\n",
       "      <td>443.0</td>\n",
       "      <td>589.0</td>\n",
       "      <td>1673.0</td>\n",
       "    </tr>\n",
       "    <tr>\n",
       "      <td>calls</td>\n",
       "      <td>3174.0</td>\n",
       "      <td>63.833333</td>\n",
       "      <td>32.678036</td>\n",
       "      <td>1.0</td>\n",
       "      <td>41.0</td>\n",
       "      <td>63.0</td>\n",
       "      <td>83.0</td>\n",
       "      <td>244.0</td>\n",
       "    </tr>\n",
       "    <tr>\n",
       "      <td>messages</td>\n",
       "      <td>3214.0</td>\n",
       "      <td>38.281269</td>\n",
       "      <td>36.148326</td>\n",
       "      <td>0.0</td>\n",
       "      <td>9.0</td>\n",
       "      <td>30.0</td>\n",
       "      <td>57.0</td>\n",
       "      <td>224.0</td>\n",
       "    </tr>\n",
       "    <tr>\n",
       "      <td>gb_used</td>\n",
       "      <td>3214.0</td>\n",
       "      <td>17.299004</td>\n",
       "      <td>7.400584</td>\n",
       "      <td>0.0</td>\n",
       "      <td>13.0</td>\n",
       "      <td>17.0</td>\n",
       "      <td>21.0</td>\n",
       "      <td>49.0</td>\n",
       "    </tr>\n",
       "    <tr>\n",
       "      <td>revenue</td>\n",
       "      <td>3214.0</td>\n",
       "      <td>1529.076229</td>\n",
       "      <td>798.251091</td>\n",
       "      <td>550.0</td>\n",
       "      <td>750.0</td>\n",
       "      <td>1653.5</td>\n",
       "      <td>1950.0</td>\n",
       "      <td>6770.0</td>\n",
       "    </tr>\n",
       "  </tbody>\n",
       "</table>\n",
       "</div>"
      ],
      "text/plain": [
       "           count         mean         std    min    25%     50%     75%  \\\n",
       "duration  3214.0   451.244866  241.909978    0.0  282.0   443.0   589.0   \n",
       "calls     3174.0    63.833333   32.678036    1.0   41.0    63.0    83.0   \n",
       "messages  3214.0    38.281269   36.148326    0.0    9.0    30.0    57.0   \n",
       "gb_used   3214.0    17.299004    7.400584    0.0   13.0    17.0    21.0   \n",
       "revenue   3214.0  1529.076229  798.251091  550.0  750.0  1653.5  1950.0   \n",
       "\n",
       "             max  \n",
       "duration  1673.0  \n",
       "calls      244.0  \n",
       "messages   224.0  \n",
       "gb_used     49.0  \n",
       "revenue   6770.0  "
      ]
     },
     "execution_count": 29,
     "metadata": {},
     "output_type": "execute_result"
    }
   ],
   "source": [
    "df.info()\n",
    "df.describe().T"
   ]
  },
  {
   "cell_type": "markdown",
   "metadata": {},
   "source": [
    "#### Вывод"
   ]
  },
  {
   "cell_type": "markdown",
   "metadata": {},
   "source": [
    "Мы подготовили рабочий датафрейм, объединящий данные по пользователям,и распределенным по месяцам использованные услуги по каждому тарифу. "
   ]
  },
  {
   "cell_type": "markdown",
   "metadata": {},
   "source": [
    "### Шаг 3. Проанализируйте данные"
   ]
  },
  {
   "cell_type": "markdown",
   "metadata": {},
   "source": [
    "Опишите поведение клиентов оператора, исходя из выборки. Сколько минут разговора, сколько сообщений и какой объём интернет-трафика требуется пользователям каждого тарифа в месяц? Посчитайте среднее количество, дисперсию и стандартное отклонение. Постройте гистограммы. Опишите распределения."
   ]
  },
  {
   "cell_type": "markdown",
   "metadata": {},
   "source": [
    "Разделим датафрейм на два для анализа тарифов Smart и Ultra."
   ]
  },
  {
   "cell_type": "code",
   "execution_count": 30,
   "metadata": {},
   "outputs": [],
   "source": [
    "df_smart=df.query('tariff == \"smart\"')\n",
    "df_ultra=df.query('tariff == \"ultra\"')"
   ]
  },
  {
   "cell_type": "markdown",
   "metadata": {},
   "source": [
    "Посмотрим общую информацию по статистике использования услуг для пользователей обоих тарифов"
   ]
  },
  {
   "cell_type": "code",
   "execution_count": 31,
   "metadata": {},
   "outputs": [
    {
     "data": {
      "text/html": [
       "<div>\n",
       "<style scoped>\n",
       "    .dataframe tbody tr th:only-of-type {\n",
       "        vertical-align: middle;\n",
       "    }\n",
       "\n",
       "    .dataframe tbody tr th {\n",
       "        vertical-align: top;\n",
       "    }\n",
       "\n",
       "    .dataframe thead th {\n",
       "        text-align: right;\n",
       "    }\n",
       "</style>\n",
       "<table border=\"1\" class=\"dataframe\">\n",
       "  <thead>\n",
       "    <tr style=\"text-align: right;\">\n",
       "      <th></th>\n",
       "      <th>count</th>\n",
       "      <th>mean</th>\n",
       "      <th>std</th>\n",
       "      <th>min</th>\n",
       "      <th>25%</th>\n",
       "      <th>50%</th>\n",
       "      <th>75%</th>\n",
       "      <th>max</th>\n",
       "    </tr>\n",
       "  </thead>\n",
       "  <tbody>\n",
       "    <tr>\n",
       "      <td>duration</td>\n",
       "      <td>2229.0</td>\n",
       "      <td>417.934948</td>\n",
       "      <td>190.313730</td>\n",
       "      <td>0.0</td>\n",
       "      <td>282.0</td>\n",
       "      <td>422.0</td>\n",
       "      <td>545.0</td>\n",
       "      <td>1435.0</td>\n",
       "    </tr>\n",
       "    <tr>\n",
       "      <td>calls</td>\n",
       "      <td>2223.0</td>\n",
       "      <td>58.621233</td>\n",
       "      <td>25.796101</td>\n",
       "      <td>1.0</td>\n",
       "      <td>40.0</td>\n",
       "      <td>60.0</td>\n",
       "      <td>76.0</td>\n",
       "      <td>198.0</td>\n",
       "    </tr>\n",
       "    <tr>\n",
       "      <td>messages</td>\n",
       "      <td>2229.0</td>\n",
       "      <td>33.384029</td>\n",
       "      <td>28.227876</td>\n",
       "      <td>0.0</td>\n",
       "      <td>10.0</td>\n",
       "      <td>28.0</td>\n",
       "      <td>51.0</td>\n",
       "      <td>143.0</td>\n",
       "    </tr>\n",
       "    <tr>\n",
       "      <td>gb_used</td>\n",
       "      <td>2229.0</td>\n",
       "      <td>16.328847</td>\n",
       "      <td>5.747061</td>\n",
       "      <td>0.0</td>\n",
       "      <td>13.0</td>\n",
       "      <td>17.0</td>\n",
       "      <td>20.0</td>\n",
       "      <td>38.0</td>\n",
       "    </tr>\n",
       "    <tr>\n",
       "      <td>revenue</td>\n",
       "      <td>2229.0</td>\n",
       "      <td>1289.973531</td>\n",
       "      <td>818.404367</td>\n",
       "      <td>550.0</td>\n",
       "      <td>550.0</td>\n",
       "      <td>1023.0</td>\n",
       "      <td>1750.0</td>\n",
       "      <td>6770.0</td>\n",
       "    </tr>\n",
       "  </tbody>\n",
       "</table>\n",
       "</div>"
      ],
      "text/plain": [
       "           count         mean         std    min    25%     50%     75%  \\\n",
       "duration  2229.0   417.934948  190.313730    0.0  282.0   422.0   545.0   \n",
       "calls     2223.0    58.621233   25.796101    1.0   40.0    60.0    76.0   \n",
       "messages  2229.0    33.384029   28.227876    0.0   10.0    28.0    51.0   \n",
       "gb_used   2229.0    16.328847    5.747061    0.0   13.0    17.0    20.0   \n",
       "revenue   2229.0  1289.973531  818.404367  550.0  550.0  1023.0  1750.0   \n",
       "\n",
       "             max  \n",
       "duration  1435.0  \n",
       "calls      198.0  \n",
       "messages   143.0  \n",
       "gb_used     38.0  \n",
       "revenue   6770.0  "
      ]
     },
     "execution_count": 31,
     "metadata": {},
     "output_type": "execute_result"
    }
   ],
   "source": [
    "df_smart.describe().T"
   ]
  },
  {
   "cell_type": "code",
   "execution_count": 32,
   "metadata": {},
   "outputs": [
    {
     "data": {
      "text/html": [
       "<div>\n",
       "<style scoped>\n",
       "    .dataframe tbody tr th:only-of-type {\n",
       "        vertical-align: middle;\n",
       "    }\n",
       "\n",
       "    .dataframe tbody tr th {\n",
       "        vertical-align: top;\n",
       "    }\n",
       "\n",
       "    .dataframe thead th {\n",
       "        text-align: right;\n",
       "    }\n",
       "</style>\n",
       "<table border=\"1\" class=\"dataframe\">\n",
       "  <thead>\n",
       "    <tr style=\"text-align: right;\">\n",
       "      <th></th>\n",
       "      <th>count</th>\n",
       "      <th>mean</th>\n",
       "      <th>std</th>\n",
       "      <th>min</th>\n",
       "      <th>25%</th>\n",
       "      <th>50%</th>\n",
       "      <th>75%</th>\n",
       "      <th>max</th>\n",
       "    </tr>\n",
       "  </thead>\n",
       "  <tbody>\n",
       "    <tr>\n",
       "      <td>duration</td>\n",
       "      <td>985.0</td>\n",
       "      <td>526.623350</td>\n",
       "      <td>317.606098</td>\n",
       "      <td>0.0</td>\n",
       "      <td>284.0</td>\n",
       "      <td>518.0</td>\n",
       "      <td>752.0</td>\n",
       "      <td>1673.0</td>\n",
       "    </tr>\n",
       "    <tr>\n",
       "      <td>calls</td>\n",
       "      <td>951.0</td>\n",
       "      <td>76.016824</td>\n",
       "      <td>42.403348</td>\n",
       "      <td>1.0</td>\n",
       "      <td>43.0</td>\n",
       "      <td>75.0</td>\n",
       "      <td>105.0</td>\n",
       "      <td>244.0</td>\n",
       "    </tr>\n",
       "    <tr>\n",
       "      <td>messages</td>\n",
       "      <td>985.0</td>\n",
       "      <td>49.363452</td>\n",
       "      <td>47.804457</td>\n",
       "      <td>0.0</td>\n",
       "      <td>6.0</td>\n",
       "      <td>38.0</td>\n",
       "      <td>79.0</td>\n",
       "      <td>224.0</td>\n",
       "    </tr>\n",
       "    <tr>\n",
       "      <td>gb_used</td>\n",
       "      <td>985.0</td>\n",
       "      <td>19.494416</td>\n",
       "      <td>9.853511</td>\n",
       "      <td>0.0</td>\n",
       "      <td>12.0</td>\n",
       "      <td>19.0</td>\n",
       "      <td>27.0</td>\n",
       "      <td>49.0</td>\n",
       "    </tr>\n",
       "    <tr>\n",
       "      <td>revenue</td>\n",
       "      <td>985.0</td>\n",
       "      <td>2070.152284</td>\n",
       "      <td>376.187114</td>\n",
       "      <td>1950.0</td>\n",
       "      <td>1950.0</td>\n",
       "      <td>1950.0</td>\n",
       "      <td>1950.0</td>\n",
       "      <td>4800.0</td>\n",
       "    </tr>\n",
       "  </tbody>\n",
       "</table>\n",
       "</div>"
      ],
      "text/plain": [
       "          count         mean         std     min     25%     50%     75%  \\\n",
       "duration  985.0   526.623350  317.606098     0.0   284.0   518.0   752.0   \n",
       "calls     951.0    76.016824   42.403348     1.0    43.0    75.0   105.0   \n",
       "messages  985.0    49.363452   47.804457     0.0     6.0    38.0    79.0   \n",
       "gb_used   985.0    19.494416    9.853511     0.0    12.0    19.0    27.0   \n",
       "revenue   985.0  2070.152284  376.187114  1950.0  1950.0  1950.0  1950.0   \n",
       "\n",
       "             max  \n",
       "duration  1673.0  \n",
       "calls      244.0  \n",
       "messages   224.0  \n",
       "gb_used     49.0  \n",
       "revenue   4800.0  "
      ]
     },
     "execution_count": 32,
     "metadata": {},
     "output_type": "execute_result"
    }
   ],
   "source": [
    "df_ultra.describe().T"
   ]
  },
  {
   "cell_type": "code",
   "execution_count": 33,
   "metadata": {},
   "outputs": [
    {
     "name": "stdout",
     "output_type": "stream",
     "text": [
      "Дисперсия длительности разговоров пользователей тарифа Смарт 36203.06665209469\n",
      "Дисперсия траффика пользователей тарифа Смарт 33.013887454837445\n",
      "Дисперсия колличества сообщений пользователей тарифа Смарт 796.455482917076\n"
     ]
    }
   ],
   "source": [
    "variance_smart_duration = np.var(df_smart['duration'])\n",
    "print('Дисперсия длительности разговоров пользователей тарифа Смарт', variance_smart_duration)\n",
    "variance_smart_gb_used = np.var(df_smart['gb_used'])\n",
    "print('Дисперсия траффика пользователей тарифа Смарт', variance_smart_gb_used)\n",
    "variance_smart_messages = np.var(df_smart['messages'])\n",
    "print('Дисперсия колличества сообщений пользователей тарифа Смарт', variance_smart_messages)"
   ]
  },
  {
   "cell_type": "code",
   "execution_count": 34,
   "metadata": {},
   "outputs": [
    {
     "name": "stdout",
     "output_type": "stream",
     "text": [
      "Дисперсия длительности разговоров пользователей тарифа Ультра 100771.2236172022\n",
      "Дисперсия траффика пользователей тарифа Ультра 96.99311602978692\n",
      "Дисперсия колличества сообщений пользователей тарифа Ультра 2282.946075394882\n"
     ]
    }
   ],
   "source": [
    "variance_ultra_duration = np.var(df_ultra['duration'])\n",
    "print('Дисперсия длительности разговоров пользователей тарифа Ультра', variance_ultra_duration)\n",
    "variance_ultra_gb_used = np.var(df_ultra['gb_used'])\n",
    "print('Дисперсия траффика пользователей тарифа Ультра', variance_ultra_gb_used)\n",
    "variance_ultra_messages = np.var(df_ultra['messages'])\n",
    "print('Дисперсия колличества сообщений пользователей тарифа Ультра', variance_ultra_messages)"
   ]
  },
  {
   "cell_type": "markdown",
   "metadata": {},
   "source": [
    "Минуты разговора, число сообщений и объем потраченного интернет-трафика по тарифу «Ультра» имеет большую дисперсию по сравнению с тарифом «Смарт»"
   ]
  },
  {
   "cell_type": "markdown",
   "metadata": {},
   "source": [
    "Составим сводные таблицы, показывающую сколько минут разговора, сколько сообщений и какой объём интернет-трафика требуется пользователям каждого тарифа в месяц"
   ]
  },
  {
   "cell_type": "code",
   "execution_count": 35,
   "metadata": {},
   "outputs": [
    {
     "data": {
      "text/html": [
       "<div>\n",
       "<style scoped>\n",
       "    .dataframe tbody tr th:only-of-type {\n",
       "        vertical-align: middle;\n",
       "    }\n",
       "\n",
       "    .dataframe tbody tr th {\n",
       "        vertical-align: top;\n",
       "    }\n",
       "\n",
       "    .dataframe thead tr th {\n",
       "        text-align: left;\n",
       "    }\n",
       "\n",
       "    .dataframe thead tr:last-of-type th {\n",
       "        text-align: right;\n",
       "    }\n",
       "</style>\n",
       "<table border=\"1\" class=\"dataframe\">\n",
       "  <thead>\n",
       "    <tr>\n",
       "      <th></th>\n",
       "      <th colspan=\"3\" halign=\"left\">duration</th>\n",
       "      <th colspan=\"3\" halign=\"left\">gb_used</th>\n",
       "      <th colspan=\"3\" halign=\"left\">messages</th>\n",
       "    </tr>\n",
       "    <tr>\n",
       "      <th></th>\n",
       "      <th>median</th>\n",
       "      <th>std</th>\n",
       "      <th>var</th>\n",
       "      <th>median</th>\n",
       "      <th>std</th>\n",
       "      <th>var</th>\n",
       "      <th>median</th>\n",
       "      <th>std</th>\n",
       "      <th>var</th>\n",
       "    </tr>\n",
       "    <tr>\n",
       "      <th>user_id</th>\n",
       "      <th></th>\n",
       "      <th></th>\n",
       "      <th></th>\n",
       "      <th></th>\n",
       "      <th></th>\n",
       "      <th></th>\n",
       "      <th></th>\n",
       "      <th></th>\n",
       "      <th></th>\n",
       "    </tr>\n",
       "  </thead>\n",
       "  <tbody>\n",
       "    <tr>\n",
       "      <td>1001</td>\n",
       "      <td>422.0</td>\n",
       "      <td>11.313708</td>\n",
       "      <td>128.000000</td>\n",
       "      <td>16.0</td>\n",
       "      <td>2.828427</td>\n",
       "      <td>8.000000</td>\n",
       "      <td>0.0</td>\n",
       "      <td>0.000000</td>\n",
       "      <td>0.000000</td>\n",
       "    </tr>\n",
       "    <tr>\n",
       "      <td>1002</td>\n",
       "      <td>214.0</td>\n",
       "      <td>52.242110</td>\n",
       "      <td>2729.238095</td>\n",
       "      <td>18.0</td>\n",
       "      <td>3.147183</td>\n",
       "      <td>9.904762</td>\n",
       "      <td>11.0</td>\n",
       "      <td>4.509250</td>\n",
       "      <td>20.333333</td>\n",
       "    </tr>\n",
       "    <tr>\n",
       "      <td>1005</td>\n",
       "      <td>593.5</td>\n",
       "      <td>163.198963</td>\n",
       "      <td>26633.901515</td>\n",
       "      <td>8.0</td>\n",
       "      <td>2.429303</td>\n",
       "      <td>5.901515</td>\n",
       "      <td>49.0</td>\n",
       "      <td>14.396969</td>\n",
       "      <td>207.272727</td>\n",
       "    </tr>\n",
       "    <tr>\n",
       "      <td>1006</td>\n",
       "      <td>356.0</td>\n",
       "      <td>109.454183</td>\n",
       "      <td>11980.218182</td>\n",
       "      <td>16.0</td>\n",
       "      <td>5.185645</td>\n",
       "      <td>26.890909</td>\n",
       "      <td>0.0</td>\n",
       "      <td>0.000000</td>\n",
       "      <td>0.000000</td>\n",
       "    </tr>\n",
       "    <tr>\n",
       "      <td>1007</td>\n",
       "      <td>480.0</td>\n",
       "      <td>131.142204</td>\n",
       "      <td>17198.277778</td>\n",
       "      <td>15.0</td>\n",
       "      <td>3.620927</td>\n",
       "      <td>13.111111</td>\n",
       "      <td>26.0</td>\n",
       "      <td>7.905694</td>\n",
       "      <td>62.500000</td>\n",
       "    </tr>\n",
       "  </tbody>\n",
       "</table>\n",
       "</div>"
      ],
      "text/plain": [
       "        duration                           gb_used                       \\\n",
       "          median         std           var  median       std        var   \n",
       "user_id                                                                   \n",
       "1001       422.0   11.313708    128.000000    16.0  2.828427   8.000000   \n",
       "1002       214.0   52.242110   2729.238095    18.0  3.147183   9.904762   \n",
       "1005       593.5  163.198963  26633.901515     8.0  2.429303   5.901515   \n",
       "1006       356.0  109.454183  11980.218182    16.0  5.185645  26.890909   \n",
       "1007       480.0  131.142204  17198.277778    15.0  3.620927  13.111111   \n",
       "\n",
       "        messages                         \n",
       "          median        std         var  \n",
       "user_id                                  \n",
       "1001         0.0   0.000000    0.000000  \n",
       "1002        11.0   4.509250   20.333333  \n",
       "1005        49.0  14.396969  207.272727  \n",
       "1006         0.0   0.000000    0.000000  \n",
       "1007        26.0   7.905694   62.500000  "
      ]
     },
     "execution_count": 35,
     "metadata": {},
     "output_type": "execute_result"
    }
   ],
   "source": [
    "mean_smart = df_smart.pivot_table(index='user_id', values=['duration', 'messages', 'gb_used'], aggfunc={'duration': [np.median, np.var, np.std], \n",
    "                             'gb_used': [np.median, np.var, np.std], \n",
    "                             'messages': [np.median, np.var, np.std]})\n",
    "mean_smart.head()"
   ]
  },
  {
   "cell_type": "code",
   "execution_count": 36,
   "metadata": {},
   "outputs": [
    {
     "data": {
      "text/html": [
       "<div>\n",
       "<style scoped>\n",
       "    .dataframe tbody tr th:only-of-type {\n",
       "        vertical-align: middle;\n",
       "    }\n",
       "\n",
       "    .dataframe tbody tr th {\n",
       "        vertical-align: top;\n",
       "    }\n",
       "\n",
       "    .dataframe thead tr th {\n",
       "        text-align: left;\n",
       "    }\n",
       "\n",
       "    .dataframe thead tr:last-of-type th {\n",
       "        text-align: right;\n",
       "    }\n",
       "</style>\n",
       "<table border=\"1\" class=\"dataframe\">\n",
       "  <thead>\n",
       "    <tr>\n",
       "      <th></th>\n",
       "      <th colspan=\"3\" halign=\"left\">duration</th>\n",
       "      <th colspan=\"3\" halign=\"left\">gb_used</th>\n",
       "      <th colspan=\"3\" halign=\"left\">messages</th>\n",
       "    </tr>\n",
       "    <tr>\n",
       "      <th></th>\n",
       "      <th>median</th>\n",
       "      <th>std</th>\n",
       "      <th>var</th>\n",
       "      <th>median</th>\n",
       "      <th>std</th>\n",
       "      <th>var</th>\n",
       "      <th>median</th>\n",
       "      <th>std</th>\n",
       "      <th>var</th>\n",
       "    </tr>\n",
       "    <tr>\n",
       "      <th>user_id</th>\n",
       "      <th></th>\n",
       "      <th></th>\n",
       "      <th></th>\n",
       "      <th></th>\n",
       "      <th></th>\n",
       "      <th></th>\n",
       "      <th></th>\n",
       "      <th></th>\n",
       "      <th></th>\n",
       "    </tr>\n",
       "  </thead>\n",
       "  <tbody>\n",
       "    <tr>\n",
       "      <td>1000</td>\n",
       "      <td>339.0</td>\n",
       "      <td>106.014487</td>\n",
       "      <td>11239.071429</td>\n",
       "      <td>14.5</td>\n",
       "      <td>5.604526</td>\n",
       "      <td>31.410714</td>\n",
       "      <td>65.0</td>\n",
       "      <td>18.361450</td>\n",
       "      <td>337.142857</td>\n",
       "    </tr>\n",
       "    <tr>\n",
       "      <td>1003</td>\n",
       "      <td>824.0</td>\n",
       "      <td>223.377036</td>\n",
       "      <td>49897.300000</td>\n",
       "      <td>12.0</td>\n",
       "      <td>2.387467</td>\n",
       "      <td>5.700000</td>\n",
       "      <td>83.0</td>\n",
       "      <td>23.021729</td>\n",
       "      <td>530.000000</td>\n",
       "    </tr>\n",
       "    <tr>\n",
       "      <td>1004</td>\n",
       "      <td>132.5</td>\n",
       "      <td>39.626605</td>\n",
       "      <td>1570.267857</td>\n",
       "      <td>18.0</td>\n",
       "      <td>4.496030</td>\n",
       "      <td>20.214286</td>\n",
       "      <td>154.5</td>\n",
       "      <td>25.867796</td>\n",
       "      <td>669.142857</td>\n",
       "    </tr>\n",
       "    <tr>\n",
       "      <td>1013</td>\n",
       "      <td>468.0</td>\n",
       "      <td>140.007143</td>\n",
       "      <td>19602.000000</td>\n",
       "      <td>15.5</td>\n",
       "      <td>7.778175</td>\n",
       "      <td>60.500000</td>\n",
       "      <td>21.0</td>\n",
       "      <td>5.656854</td>\n",
       "      <td>32.000000</td>\n",
       "    </tr>\n",
       "    <tr>\n",
       "      <td>1016</td>\n",
       "      <td>61.0</td>\n",
       "      <td>46.669048</td>\n",
       "      <td>2178.000000</td>\n",
       "      <td>13.5</td>\n",
       "      <td>7.778175</td>\n",
       "      <td>60.500000</td>\n",
       "      <td>71.0</td>\n",
       "      <td>45.254834</td>\n",
       "      <td>2048.000000</td>\n",
       "    </tr>\n",
       "  </tbody>\n",
       "</table>\n",
       "</div>"
      ],
      "text/plain": [
       "        duration                           gb_used                       \\\n",
       "          median         std           var  median       std        var   \n",
       "user_id                                                                   \n",
       "1000       339.0  106.014487  11239.071429    14.5  5.604526  31.410714   \n",
       "1003       824.0  223.377036  49897.300000    12.0  2.387467   5.700000   \n",
       "1004       132.5   39.626605   1570.267857    18.0  4.496030  20.214286   \n",
       "1013       468.0  140.007143  19602.000000    15.5  7.778175  60.500000   \n",
       "1016        61.0   46.669048   2178.000000    13.5  7.778175  60.500000   \n",
       "\n",
       "        messages                          \n",
       "          median        std          var  \n",
       "user_id                                   \n",
       "1000        65.0  18.361450   337.142857  \n",
       "1003        83.0  23.021729   530.000000  \n",
       "1004       154.5  25.867796   669.142857  \n",
       "1013        21.0   5.656854    32.000000  \n",
       "1016        71.0  45.254834  2048.000000  "
      ]
     },
     "execution_count": 36,
     "metadata": {},
     "output_type": "execute_result"
    }
   ],
   "source": [
    "mean_ultra = df_ultra.pivot_table(index='user_id', values=['duration', 'messages', 'gb_used', 'revenue'], aggfunc={'duration': [np.median, np.var, np.std], \n",
    "                             'gb_used': [np.median, np.var, np.std], \n",
    "                             'messages': [np.median, np.var, np.std]})\n",
    "mean_ultra.head()"
   ]
  },
  {
   "cell_type": "code",
   "execution_count": 37,
   "metadata": {},
   "outputs": [
    {
     "data": {
      "image/png": "[encoded data removed]",
      "text/plain": [
       "<Figure size 576x432 with 1 Axes>"
      ]
     },
     "metadata": {
      "needs_background": "light"
     },
     "output_type": "display_data"
    }
   ],
   "source": [
    "fig, ax = plt.subplots(figsize=(8,6))\n",
    "sns.distplot(df_smart['duration'], kde=False, ax=ax)\n",
    "sns.distplot(df_ultra['duration'], kde=False, ax=ax)\n",
    "plt.suptitle('Сравнение длительности звонков для тарифов Smart и Ultra', size=14, y=0.95); \n",
    "plt.grid(True)\n",
    "plt.legend(['Smart', 'Ultra'])\n",
    "plt.show()"
   ]
  },
  {
   "cell_type": "code",
   "execution_count": 38,
   "metadata": {},
   "outputs": [
    {
     "data": {
      "image/png": "[encoded data removed]",
      "text/plain": [
       "<Figure size 576x432 with 1 Axes>"
      ]
     },
     "metadata": {
      "needs_background": "light"
     },
     "output_type": "display_data"
    }
   ],
   "source": [
    "fig, ax = plt.subplots(figsize=(8,6))\n",
    "sns.distplot(df_smart['gb_used'], kde=False, ax=ax)\n",
    "sns.distplot(df_ultra['gb_used'], kde=False, ax=ax)\n",
    "plt.suptitle('Сравнение интернет траффика для тарифов Smart и Ultra', size=14, y=0.95); \n",
    "plt.grid(True)\n",
    "plt.legend(['Smart', 'Ultra'])\n",
    "plt.show()"
   ]
  },
  {
   "cell_type": "code",
   "execution_count": 50,
   "metadata": {},
   "outputs": [
    {
     "data": {
      "text/html": [
       "<div>\n",
       "<style scoped>\n",
       "    .dataframe tbody tr th:only-of-type {\n",
       "        vertical-align: middle;\n",
       "    }\n",
       "\n",
       "    .dataframe tbody tr th {\n",
       "        vertical-align: top;\n",
       "    }\n",
       "\n",
       "    .dataframe thead th {\n",
       "        text-align: right;\n",
       "    }\n",
       "</style>\n",
       "<table border=\"1\" class=\"dataframe\">\n",
       "  <thead>\n",
       "    <tr style=\"text-align: right;\">\n",
       "      <th></th>\n",
       "      <th></th>\n",
       "      <th>duration</th>\n",
       "      <th>calls</th>\n",
       "      <th>messages</th>\n",
       "      <th>gb_used</th>\n",
       "      <th>tariff</th>\n",
       "      <th>city</th>\n",
       "      <th>revenue</th>\n",
       "    </tr>\n",
       "    <tr>\n",
       "      <th>user_id</th>\n",
       "      <th>month</th>\n",
       "      <th></th>\n",
       "      <th></th>\n",
       "      <th></th>\n",
       "      <th></th>\n",
       "      <th></th>\n",
       "      <th></th>\n",
       "      <th></th>\n",
       "    </tr>\n",
       "  </thead>\n",
       "  <tbody>\n",
       "    <tr>\n",
       "      <td>1002</td>\n",
       "      <td>8</td>\n",
       "      <td>289.0</td>\n",
       "      <td>42.0</td>\n",
       "      <td>13.0</td>\n",
       "      <td>20.0</td>\n",
       "      <td>smart</td>\n",
       "      <td>Стерлитамак</td>\n",
       "      <td>1550.0</td>\n",
       "    </tr>\n",
       "    <tr>\n",
       "      <td rowspan=\"2\" valign=\"top\">1006</td>\n",
       "      <td>7</td>\n",
       "      <td>316.0</td>\n",
       "      <td>49.0</td>\n",
       "      <td>0.0</td>\n",
       "      <td>20.0</td>\n",
       "      <td>smart</td>\n",
       "      <td>Ульяновск</td>\n",
       "      <td>1550.0</td>\n",
       "    </tr>\n",
       "    <tr>\n",
       "      <td>10</td>\n",
       "      <td>267.0</td>\n",
       "      <td>44.0</td>\n",
       "      <td>0.0</td>\n",
       "      <td>20.0</td>\n",
       "      <td>smart</td>\n",
       "      <td>Ульяновск</td>\n",
       "      <td>1550.0</td>\n",
       "    </tr>\n",
       "    <tr>\n",
       "      <td>1009</td>\n",
       "      <td>10</td>\n",
       "      <td>213.0</td>\n",
       "      <td>28.0</td>\n",
       "      <td>15.0</td>\n",
       "      <td>20.0</td>\n",
       "      <td>smart</td>\n",
       "      <td>Пермь</td>\n",
       "      <td>1550.0</td>\n",
       "    </tr>\n",
       "    <tr>\n",
       "      <td>1015</td>\n",
       "      <td>7</td>\n",
       "      <td>556.0</td>\n",
       "      <td>79.0</td>\n",
       "      <td>90.0</td>\n",
       "      <td>20.0</td>\n",
       "      <td>smart</td>\n",
       "      <td>Челябинск</td>\n",
       "      <td>1838.0</td>\n",
       "    </tr>\n",
       "    <tr>\n",
       "      <td>...</td>\n",
       "      <td>...</td>\n",
       "      <td>...</td>\n",
       "      <td>...</td>\n",
       "      <td>...</td>\n",
       "      <td>...</td>\n",
       "      <td>...</td>\n",
       "      <td>...</td>\n",
       "      <td>...</td>\n",
       "    </tr>\n",
       "    <tr>\n",
       "      <td>1490</td>\n",
       "      <td>6</td>\n",
       "      <td>330.0</td>\n",
       "      <td>48.0</td>\n",
       "      <td>50.0</td>\n",
       "      <td>20.0</td>\n",
       "      <td>smart</td>\n",
       "      <td>Москва</td>\n",
       "      <td>1550.0</td>\n",
       "    </tr>\n",
       "    <tr>\n",
       "      <td>1492</td>\n",
       "      <td>8</td>\n",
       "      <td>603.0</td>\n",
       "      <td>78.0</td>\n",
       "      <td>15.0</td>\n",
       "      <td>20.0</td>\n",
       "      <td>smart</td>\n",
       "      <td>Санкт-Петербург</td>\n",
       "      <td>1859.0</td>\n",
       "    </tr>\n",
       "    <tr>\n",
       "      <td>1496</td>\n",
       "      <td>6</td>\n",
       "      <td>555.0</td>\n",
       "      <td>74.0</td>\n",
       "      <td>35.0</td>\n",
       "      <td>20.0</td>\n",
       "      <td>smart</td>\n",
       "      <td>Вологда</td>\n",
       "      <td>1715.0</td>\n",
       "    </tr>\n",
       "    <tr>\n",
       "      <td>1497</td>\n",
       "      <td>12</td>\n",
       "      <td>545.0</td>\n",
       "      <td>71.0</td>\n",
       "      <td>17.0</td>\n",
       "      <td>20.0</td>\n",
       "      <td>smart</td>\n",
       "      <td>Челябинск</td>\n",
       "      <td>1685.0</td>\n",
       "    </tr>\n",
       "    <tr>\n",
       "      <td>1489</td>\n",
       "      <td>10</td>\n",
       "      <td>0.0</td>\n",
       "      <td>NaN</td>\n",
       "      <td>21.0</td>\n",
       "      <td>20.0</td>\n",
       "      <td>smart</td>\n",
       "      <td>Санкт-Петербург</td>\n",
       "      <td>1550.0</td>\n",
       "    </tr>\n",
       "  </tbody>\n",
       "</table>\n",
       "<p>140 rows × 7 columns</p>\n",
       "</div>"
      ],
      "text/plain": [
       "               duration  calls  messages  gb_used tariff             city  \\\n",
       "user_id month                                                               \n",
       "1002    8         289.0   42.0      13.0     20.0  smart      Стерлитамак   \n",
       "1006    7         316.0   49.0       0.0     20.0  smart        Ульяновск   \n",
       "        10        267.0   44.0       0.0     20.0  smart        Ульяновск   \n",
       "1009    10        213.0   28.0      15.0     20.0  smart            Пермь   \n",
       "1015    7         556.0   79.0      90.0     20.0  smart        Челябинск   \n",
       "...                 ...    ...       ...      ...    ...              ...   \n",
       "1490    6         330.0   48.0      50.0     20.0  smart           Москва   \n",
       "1492    8         603.0   78.0      15.0     20.0  smart  Санкт-Петербург   \n",
       "1496    6         555.0   74.0      35.0     20.0  smart          Вологда   \n",
       "1497    12        545.0   71.0      17.0     20.0  smart        Челябинск   \n",
       "1489    10          0.0    NaN      21.0     20.0  smart  Санкт-Петербург   \n",
       "\n",
       "               revenue  \n",
       "user_id month           \n",
       "1002    8       1550.0  \n",
       "1006    7       1550.0  \n",
       "        10      1550.0  \n",
       "1009    10      1550.0  \n",
       "1015    7       1838.0  \n",
       "...                ...  \n",
       "1490    6       1550.0  \n",
       "1492    8       1859.0  \n",
       "1496    6       1715.0  \n",
       "1497    12      1685.0  \n",
       "1489    10      1550.0  \n",
       "\n",
       "[140 rows x 7 columns]"
      ]
     },
     "execution_count": 50,
     "metadata": {},
     "output_type": "execute_result"
    }
   ],
   "source": [
    "df_smart[df_smart['gb_used']==20]"
   ]
  },
  {
   "cell_type": "code",
   "execution_count": 39,
   "metadata": {},
   "outputs": [
    {
     "data": {
      "image/png": "[encoded data removed]",
      "text/plain": [
       "<Figure size 576x432 with 1 Axes>"
      ]
     },
     "metadata": {
      "needs_background": "light"
     },
     "output_type": "display_data"
    }
   ],
   "source": [
    "fig, ax = plt.subplots(figsize=(8,6))\n",
    "sns.distplot(df_smart.query('messages > 0')['messages'], kde=False, ax=ax)\n",
    "sns.distplot(df_ultra.query('messages > 0')['messages'], kde=False, ax=ax)\n",
    "plt.suptitle('Сравнение количества сообщений для тарифов Smart и Ultra', size=14, y=0.95); \n",
    "plt.grid(True)\n",
    "plt.legend(['Smart', 'Ultra'])\n",
    "plt.show()"
   ]
  },
  {
   "cell_type": "code",
   "execution_count": 40,
   "metadata": {},
   "outputs": [
    {
     "data": {
      "image/png": "[encoded data removed]",
      "text/plain": [
       "<Figure size 576x432 with 1 Axes>"
      ]
     },
     "metadata": {
      "needs_background": "light"
     },
     "output_type": "display_data"
    }
   ],
   "source": [
    "fig, ax = plt.subplots(figsize=(8,6))\n",
    "sns.distplot(df_smart['revenue'], kde=False, ax=ax)\n",
    "sns.distplot(df_ultra['revenue'], kde=False, ax=ax)\n",
    "plt.suptitle('Распределение выручки для тарифов Smart и Ultra', size=14, y=0.95); \n",
    "plt.grid(True)\n",
    "plt.legend(['Smart', 'Ultra'])\n",
    "plt.show()"
   ]
  },
  {
   "cell_type": "markdown",
   "metadata": {},
   "source": [
    "#### Вывод"
   ]
  },
  {
   "cell_type": "markdown",
   "metadata": {},
   "source": [
    "Дисперсия по тарифу \"Смарт\" меньше, чем у пользователей с тарифом \"Ультра\" по всем показателям: по длительности разговора, числу сообщений и использованному интернет-трафику. Более половины пользователей тарифа Смарт превышает установленный в рамках тарифа лимит по использованию траффика, в то время как пользователи тарифа Ультра имеют больше свободы при использовании услуг оператора, оставая в рамках доступных лимитов установленных тарифным планом. "
   ]
  },
  {
   "cell_type": "markdown",
   "metadata": {},
   "source": [
    "### Шаг 4. Проверка гипотез"
   ]
  },
  {
   "cell_type": "markdown",
   "metadata": {},
   "source": [
    "**Гипотеза 1.** Средняя выручка пользователей тарифов «Ультра» и «Смарт» различаются;"
   ]
  },
  {
   "cell_type": "markdown",
   "metadata": {},
   "source": [
    "Нулевая гипотеза $H_0$ для первой задачи гласит: \"Средняя выручка пользователей тарифов «Ультра» равна средней выручке пользователей тарифа «Смарт»\".\n",
    "\n",
    "Альтернативная гипотеза $H_1$ - средние выручки пользователей тарифов Смарт и Ультра не равны"
   ]
  },
  {
   "cell_type": "code",
   "execution_count": 41,
   "metadata": {},
   "outputs": [
    {
     "data": {
      "text/plain": [
       "count     985.000000\n",
       "mean     2070.152284\n",
       "std       376.187114\n",
       "min      1950.000000\n",
       "25%      1950.000000\n",
       "50%      1950.000000\n",
       "75%      1950.000000\n",
       "max      4800.000000\n",
       "Name: revenue, dtype: float64"
      ]
     },
     "execution_count": 41,
     "metadata": {},
     "output_type": "execute_result"
    }
   ],
   "source": [
    "df_ultra['revenue'].describe()"
   ]
  },
  {
   "cell_type": "code",
   "execution_count": 42,
   "metadata": {},
   "outputs": [
    {
     "data": {
      "text/plain": [
       "count    2229.000000\n",
       "mean     1289.973531\n",
       "std       818.404367\n",
       "min       550.000000\n",
       "25%       550.000000\n",
       "50%      1023.000000\n",
       "75%      1750.000000\n",
       "max      6770.000000\n",
       "Name: revenue, dtype: float64"
      ]
     },
     "execution_count": 42,
     "metadata": {},
     "output_type": "execute_result"
    }
   ],
   "source": [
    "df_smart['revenue'].describe()"
   ]
  },
  {
   "cell_type": "markdown",
   "metadata": {},
   "source": [
    "Сравнивая средние значения выручки по обоим тарифам, мы видим, что средние значения различаются почти в два раза. \n",
    "\n",
    "\n",
    "Для оценки гипотезы будем применять тест Стюдента. "
   ]
  },
  {
   "cell_type": "code",
   "execution_count": 43,
   "metadata": {},
   "outputs": [
    {
     "name": "stdout",
     "output_type": "stream",
     "text": [
      "p-значение: 4.2606313931076085e-250\n",
      "Отвергаем нулевую гипотезу\n"
     ]
    }
   ],
   "source": [
    "alpha=0.01\n",
    "results = st.ttest_ind(\n",
    "    df_ultra['revenue'], \n",
    "    df_smart['revenue'], \n",
    "    equal_var=False)\n",
    "print('p-значение:', results.pvalue)\n",
    "if (results.pvalue < alpha):\n",
    "    print(\"Отвергаем нулевую гипотезу\")\n",
    "else:\n",
    "    print(\"Не получилось отвергнуть нулевую гипотезу\")"
   ]
  },
  {
   "cell_type": "markdown",
   "metadata": {},
   "source": [
    "#### Вывод"
   ]
  },
  {
   "cell_type": "markdown",
   "metadata": {},
   "source": [
    "**Гипотеза 2.** Средняя выручка пользователей из Москвы отличается от выручки пользователей из других регионов."
   ]
  },
  {
   "cell_type": "markdown",
   "metadata": {},
   "source": [
    "Нулевая гипотеза $H_1$ для второй задачи - средняя выручка пользователей из Москвы равна средней выручке пользоваталей из других регионов\n",
    "\n",
    "Альтернативная гипотеза $H_0$ - Средние выручка пользователей из Москвы не равна средней выручке пользоваталей из других регионов"
   ]
  },
  {
   "cell_type": "code",
   "execution_count": 44,
   "metadata": {},
   "outputs": [],
   "source": [
    "moscow = df.query('city == \"Москва\"')['revenue']\n",
    "all_regions = df.query('city != \"Москва\"')['revenue']"
   ]
  },
  {
   "cell_type": "code",
   "execution_count": 45,
   "metadata": {},
   "outputs": [
    {
     "name": "stdout",
     "output_type": "stream",
     "text": [
      "p-значение: 0.5257376663729298\n",
      "Не получилось отвергнуть нулевую гипотезу\n"
     ]
    }
   ],
   "source": [
    "alpha=0.05\n",
    "results = st.ttest_ind(\n",
    "    moscow, \n",
    "    all_regions, \n",
    "    equal_var=False)\n",
    "print('p-значение:', results.pvalue)\n",
    "if (results.pvalue < alpha):\n",
    "    print(\"Отвергаем нулевую гипотезу\")\n",
    "else:\n",
    "    print(\"Не получилось отвергнуть нулевую гипотезу\")"
   ]
  },
  {
   "cell_type": "code",
   "execution_count": 46,
   "metadata": {},
   "outputs": [
    {
     "data": {
      "text/plain": [
       "count     611.000000\n",
       "mean     1546.713584\n",
       "std       752.088071\n",
       "min       550.000000\n",
       "25%       780.500000\n",
       "50%      1750.000000\n",
       "75%      1950.000000\n",
       "max      5321.000000\n",
       "Name: revenue, dtype: float64"
      ]
     },
     "execution_count": 46,
     "metadata": {},
     "output_type": "execute_result"
    }
   ],
   "source": [
    "df.query('city == \"Москва\"')['revenue'].describe()"
   ]
  },
  {
   "cell_type": "code",
   "execution_count": 47,
   "metadata": {},
   "outputs": [
    {
     "data": {
      "image/png": "[encoded data removed]",
      "text/plain": [
       "<Figure size 432x288 with 1 Axes>"
      ]
     },
     "metadata": {
      "needs_background": "light"
     },
     "output_type": "display_data"
    }
   ],
   "source": [
    "sns.boxplot(data=df.query('city == \"Москва\"')['revenue'])\n",
    "plt.suptitle('Выручка пользователей из Москвы', size=14, y=0.95); \n",
    "plt.show()"
   ]
  },
  {
   "cell_type": "code",
   "execution_count": 48,
   "metadata": {},
   "outputs": [
    {
     "data": {
      "text/plain": [
       "count       8.000000\n",
       "mean     2067.465497\n",
       "std      2020.118719\n",
       "min       550.000000\n",
       "25%       794.090814\n",
       "50%      1553.968114\n",
       "75%      2113.250000\n",
       "max      6770.000000\n",
       "Name: revenue, dtype: float64"
      ]
     },
     "execution_count": 48,
     "metadata": {},
     "output_type": "execute_result"
    }
   ],
   "source": [
    "df.query('city != \"Москва\"')['revenue'].describe().describe()"
   ]
  },
  {
   "cell_type": "code",
   "execution_count": 49,
   "metadata": {},
   "outputs": [
    {
     "data": {
      "image/png": "[encoded data removed]",
      "text/plain": [
       "<Figure size 432x288 with 1 Axes>"
      ]
     },
     "metadata": {
      "needs_background": "light"
     },
     "output_type": "display_data"
    }
   ],
   "source": [
    "sns.boxplot(data=df.query('city != \"Москва\"')['revenue'])\n",
    "plt.suptitle('Выручка пользователей из других регионов', size=14, y=0.95); \n",
    "plt.show()"
   ]
  },
  {
   "cell_type": "markdown",
   "metadata": {},
   "source": [
    "#### Вывод \n",
    "\n",
    "Доходы оператора в Москве практически не отличаются от других регионов. По результатам статистического теста не удалось опровернгнуть гипотезу, что средняя выручка пользователей из Москвы отличается от выручки пользователей из других регионов."
   ]
  },
  {
   "cell_type": "markdown",
   "metadata": {},
   "source": [
    "### Шаг 5. Выводы"
   ]
  },
  {
   "cell_type": "markdown",
   "metadata": {},
   "source": [
    "В ходе проделанной работы было выполнено:\n",
    "\n",
    "1. Просмотрена каждая таблица\n",
    "2. Составлена общая таблица данных о пользователях сети\n",
    "3. Заполнены пропуски и сменены типы данных для столбцов\n",
    "4. Проведен сравнительный анализ пользователей тарифов\n",
    "5. Проверены выдвинутые гипотезы\n",
    "\n",
    "В среднем пользователи тарифа Смарт тратят на связь 1234 рубля, в то время как пользователи тарифа Ультра тратят 2060, что говорит о том, что траты пользователей тарифа Смарт в среднем значительно превосходят расходы по абонентской плате - обусловленно тем, что пользователем Смарта не хватает включенных в пакет услуг, в частности, интернет траффика, в то время как пользователи Ультра тарифа наоборот не используют возможности тарифа в полном объеме. \n",
    "\n",
    "Средние доходы от пользователей в Москве не отличаются от доходов в других населенных пунктах: разница статистически незначима (p-значение: 0,503). "
   ]
  }
 ],
 "metadata": {
  "ExecuteTimeLog": [
   {
    "duration": 71,
    "start_time": "2022-02-17T13:06:40.472Z"
   },
   {
    "duration": -51,
    "start_time": "2022-02-17T13:06:40.596Z"
   },
   {
    "duration": 255,
    "start_time": "2022-02-17T13:07:23.398Z"
   },
   {
    "duration": 1204,
    "start_time": "2022-02-17T13:07:30.245Z"
   },
   {
    "duration": 67,
    "start_time": "2022-02-17T13:07:32.938Z"
   },
   {
    "duration": 14,
    "start_time": "2022-02-17T13:08:03.092Z"
   },
   {
    "duration": 17,
    "start_time": "2022-02-17T13:09:13.224Z"
   },
   {
    "duration": 182,
    "start_time": "2022-02-17T13:11:31.802Z"
   },
   {
    "duration": 13,
    "start_time": "2022-02-17T13:11:48.735Z"
   },
   {
    "duration": 1671,
    "start_time": "2022-02-17T14:37:37.472Z"
   },
   {
    "duration": 101,
    "start_time": "2022-02-17T14:38:05.312Z"
   },
   {
    "duration": 11,
    "start_time": "2022-02-17T14:38:25.816Z"
   },
   {
    "duration": 19,
    "start_time": "2022-02-17T14:39:43.310Z"
   },
   {
    "duration": 2110,
    "start_time": "2022-02-17T14:40:08.007Z"
   },
   {
    "duration": -65,
    "start_time": "2022-02-17T14:40:29.622Z"
   },
   {
    "duration": 19,
    "start_time": "2022-02-17T14:40:32.647Z"
   },
   {
    "duration": 8,
    "start_time": "2022-02-17T14:40:35.624Z"
   },
   {
    "duration": 156,
    "start_time": "2022-02-17T14:41:27.581Z"
   },
   {
    "duration": 16,
    "start_time": "2022-02-17T14:41:43.592Z"
   },
   {
    "duration": 237,
    "start_time": "2022-02-17T14:45:33.625Z"
   },
   {
    "duration": 25,
    "start_time": "2022-02-17T14:46:49.692Z"
   },
   {
    "duration": 31,
    "start_time": "2022-02-17T14:47:09.006Z"
   },
   {
    "duration": 32,
    "start_time": "2022-02-17T14:47:23.787Z"
   },
   {
    "duration": 36,
    "start_time": "2022-02-17T14:47:40.109Z"
   },
   {
    "duration": 1146,
    "start_time": "2022-02-17T19:44:41.506Z"
   },
   {
    "duration": 32,
    "start_time": "2022-02-17T19:44:42.654Z"
   },
   {
    "duration": 19,
    "start_time": "2022-02-17T19:44:42.688Z"
   },
   {
    "duration": 17,
    "start_time": "2022-02-17T19:44:42.709Z"
   },
   {
    "duration": 159,
    "start_time": "2022-02-17T19:44:42.728Z"
   },
   {
    "duration": 12,
    "start_time": "2022-02-17T19:44:42.889Z"
   },
   {
    "duration": 38,
    "start_time": "2022-02-17T19:44:42.903Z"
   },
   {
    "duration": 93,
    "start_time": "2022-02-17T19:44:42.944Z"
   },
   {
    "duration": 10,
    "start_time": "2022-02-17T19:44:43.039Z"
   },
   {
    "duration": 28,
    "start_time": "2022-02-17T19:44:43.051Z"
   },
   {
    "duration": 13,
    "start_time": "2022-02-17T19:44:43.080Z"
   },
   {
    "duration": 26,
    "start_time": "2022-02-17T19:44:43.095Z"
   },
   {
    "duration": 143,
    "start_time": "2022-02-17T19:44:43.123Z"
   },
   {
    "duration": 14,
    "start_time": "2022-02-17T19:44:43.268Z"
   },
   {
    "duration": 50,
    "start_time": "2022-02-17T19:44:43.284Z"
   },
   {
    "duration": 70,
    "start_time": "2022-02-17T19:44:43.336Z"
   },
   {
    "duration": 6,
    "start_time": "2022-02-17T19:45:48.388Z"
   },
   {
    "duration": 7,
    "start_time": "2022-02-17T19:48:11.010Z"
   },
   {
    "duration": 184,
    "start_time": "2022-02-20T14:47:04.052Z"
   },
   {
    "duration": 1132,
    "start_time": "2022-02-20T14:47:08.962Z"
   },
   {
    "duration": 26,
    "start_time": "2022-02-20T14:47:10.096Z"
   },
   {
    "duration": 20,
    "start_time": "2022-02-20T14:47:10.126Z"
   },
   {
    "duration": 17,
    "start_time": "2022-02-20T14:47:10.147Z"
   },
   {
    "duration": 176,
    "start_time": "2022-02-20T14:47:10.166Z"
   },
   {
    "duration": 12,
    "start_time": "2022-02-20T14:47:10.344Z"
   },
   {
    "duration": 29,
    "start_time": "2022-02-20T14:47:10.358Z"
   },
   {
    "duration": 109,
    "start_time": "2022-02-20T14:47:10.390Z"
   },
   {
    "duration": 11,
    "start_time": "2022-02-20T14:47:10.501Z"
   },
   {
    "duration": 41,
    "start_time": "2022-02-20T14:47:10.514Z"
   },
   {
    "duration": 13,
    "start_time": "2022-02-20T14:47:10.557Z"
   },
   {
    "duration": 10,
    "start_time": "2022-02-20T14:47:10.572Z"
   },
   {
    "duration": 173,
    "start_time": "2022-02-20T14:47:10.583Z"
   },
   {
    "duration": 16,
    "start_time": "2022-02-20T14:47:10.758Z"
   },
   {
    "duration": 31,
    "start_time": "2022-02-20T14:47:10.776Z"
   },
   {
    "duration": 97,
    "start_time": "2022-02-20T14:47:10.809Z"
   },
   {
    "duration": 5,
    "start_time": "2022-02-20T14:47:10.908Z"
   },
   {
    "duration": 21,
    "start_time": "2022-02-20T14:47:10.914Z"
   },
   {
    "duration": 7,
    "start_time": "2022-02-20T14:47:10.937Z"
   },
   {
    "duration": 23,
    "start_time": "2022-02-20T14:50:21.425Z"
   },
   {
    "duration": 27,
    "start_time": "2022-02-20T14:51:50.127Z"
   },
   {
    "duration": 3552,
    "start_time": "2022-02-20T14:59:49.243Z"
   },
   {
    "duration": 14,
    "start_time": "2022-02-20T15:00:46.524Z"
   },
   {
    "duration": 5,
    "start_time": "2022-02-20T15:03:34.614Z"
   },
   {
    "duration": 133,
    "start_time": "2022-02-20T15:03:44.448Z"
   },
   {
    "duration": 84,
    "start_time": "2022-02-20T15:03:53.391Z"
   },
   {
    "duration": 95,
    "start_time": "2022-02-20T15:04:14.162Z"
   },
   {
    "duration": 143,
    "start_time": "2022-02-20T15:04:21.415Z"
   },
   {
    "duration": 4,
    "start_time": "2022-02-20T15:04:56.343Z"
   },
   {
    "duration": 24,
    "start_time": "2022-02-20T15:04:59.157Z"
   },
   {
    "duration": 23,
    "start_time": "2022-02-20T15:05:10.618Z"
   },
   {
    "duration": 24,
    "start_time": "2022-02-20T15:05:14.628Z"
   },
   {
    "duration": 22,
    "start_time": "2022-02-20T15:06:53.336Z"
   },
   {
    "duration": 22,
    "start_time": "2022-02-20T15:07:10.521Z"
   },
   {
    "duration": 23,
    "start_time": "2022-02-20T15:14:35.328Z"
   },
   {
    "duration": 102,
    "start_time": "2022-02-20T15:15:01.753Z"
   },
   {
    "duration": 78,
    "start_time": "2022-02-20T15:15:26.148Z"
   },
   {
    "duration": 124,
    "start_time": "2022-02-20T15:15:37.526Z"
   },
   {
    "duration": 78,
    "start_time": "2022-02-20T15:15:38.663Z"
   },
   {
    "duration": 95,
    "start_time": "2022-02-20T15:15:38.939Z"
   },
   {
    "duration": 26,
    "start_time": "2022-02-20T15:15:39.465Z"
   },
   {
    "duration": 146,
    "start_time": "2022-02-20T15:17:56.751Z"
   },
   {
    "duration": 24,
    "start_time": "2022-02-20T15:18:26.506Z"
   },
   {
    "duration": 143,
    "start_time": "2022-02-20T15:20:55.176Z"
   },
   {
    "duration": 1994,
    "start_time": "2022-02-20T15:21:09.195Z"
   },
   {
    "duration": 3961,
    "start_time": "2022-02-20T15:26:45.013Z"
   },
   {
    "duration": 3683,
    "start_time": "2022-02-20T15:34:57.210Z"
   },
   {
    "duration": 578,
    "start_time": "2022-02-20T15:36:31.401Z"
   },
   {
    "duration": 19,
    "start_time": "2022-02-20T15:37:24.010Z"
   },
   {
    "duration": 1862,
    "start_time": "2022-02-20T15:37:24.415Z"
   },
   {
    "duration": 571,
    "start_time": "2022-02-20T15:37:26.278Z"
   },
   {
    "duration": 25,
    "start_time": "2022-02-20T15:41:35.188Z"
   },
   {
    "duration": 28,
    "start_time": "2022-02-20T15:41:52.327Z"
   },
   {
    "duration": 1433,
    "start_time": "2022-02-20T15:43:44.190Z"
   },
   {
    "duration": 39,
    "start_time": "2022-02-20T15:43:45.625Z"
   },
   {
    "duration": 22,
    "start_time": "2022-02-20T15:43:45.666Z"
   },
   {
    "duration": 18,
    "start_time": "2022-02-20T15:43:45.690Z"
   },
   {
    "duration": 163,
    "start_time": "2022-02-20T15:43:45.709Z"
   },
   {
    "duration": 14,
    "start_time": "2022-02-20T15:43:45.874Z"
   },
   {
    "duration": 49,
    "start_time": "2022-02-20T15:43:45.890Z"
   },
   {
    "duration": 99,
    "start_time": "2022-02-20T15:43:45.943Z"
   },
   {
    "duration": 11,
    "start_time": "2022-02-20T15:43:46.044Z"
   },
   {
    "duration": 31,
    "start_time": "2022-02-20T15:43:46.057Z"
   },
   {
    "duration": 15,
    "start_time": "2022-02-20T15:43:46.090Z"
   },
   {
    "duration": 7,
    "start_time": "2022-02-20T15:43:46.131Z"
   },
   {
    "duration": 158,
    "start_time": "2022-02-20T15:43:46.140Z"
   },
   {
    "duration": 13,
    "start_time": "2022-02-20T15:43:46.300Z"
   },
   {
    "duration": 43,
    "start_time": "2022-02-20T15:43:46.315Z"
   },
   {
    "duration": 83,
    "start_time": "2022-02-20T15:43:46.360Z"
   },
   {
    "duration": 5,
    "start_time": "2022-02-20T15:43:46.444Z"
   },
   {
    "duration": 10,
    "start_time": "2022-02-20T15:43:46.450Z"
   },
   {
    "duration": 26,
    "start_time": "2022-02-20T15:43:46.461Z"
   },
   {
    "duration": 14,
    "start_time": "2022-02-20T15:43:46.489Z"
   },
   {
    "duration": 28,
    "start_time": "2022-02-20T15:43:46.505Z"
   },
   {
    "duration": 144,
    "start_time": "2022-02-20T15:43:46.535Z"
   },
   {
    "duration": 100,
    "start_time": "2022-02-20T15:43:46.682Z"
   },
   {
    "duration": 125,
    "start_time": "2022-02-20T15:43:46.784Z"
   },
   {
    "duration": 27,
    "start_time": "2022-02-20T15:43:46.911Z"
   },
   {
    "duration": 21,
    "start_time": "2022-02-20T15:43:46.939Z"
   },
   {
    "duration": 1937,
    "start_time": "2022-02-20T15:43:46.961Z"
   },
   {
    "duration": 607,
    "start_time": "2022-02-20T15:43:48.900Z"
   },
   {
    "duration": 38,
    "start_time": "2022-02-20T15:43:49.509Z"
   },
   {
    "duration": 239,
    "start_time": "2022-02-20T15:48:01.745Z"
   },
   {
    "duration": 189,
    "start_time": "2022-02-20T15:48:19.086Z"
   },
   {
    "duration": 11,
    "start_time": "2022-02-20T15:48:40.287Z"
   },
   {
    "duration": 8,
    "start_time": "2022-02-20T15:49:03.529Z"
   },
   {
    "duration": 1432,
    "start_time": "2022-02-22T07:03:40.606Z"
   },
   {
    "duration": 29,
    "start_time": "2022-02-22T07:03:42.041Z"
   },
   {
    "duration": 32,
    "start_time": "2022-02-22T07:03:42.073Z"
   },
   {
    "duration": 63,
    "start_time": "2022-02-22T07:03:42.108Z"
   },
   {
    "duration": 368,
    "start_time": "2022-02-22T07:03:42.174Z"
   },
   {
    "duration": 29,
    "start_time": "2022-02-22T07:03:42.545Z"
   },
   {
    "duration": 38,
    "start_time": "2022-02-22T07:03:42.577Z"
   },
   {
    "duration": 148,
    "start_time": "2022-02-22T07:03:42.617Z"
   },
   {
    "duration": 16,
    "start_time": "2022-02-22T07:03:42.769Z"
   },
   {
    "duration": 42,
    "start_time": "2022-02-22T07:03:42.789Z"
   },
   {
    "duration": 20,
    "start_time": "2022-02-22T07:03:42.861Z"
   },
   {
    "duration": 17,
    "start_time": "2022-02-22T07:03:42.883Z"
   },
   {
    "duration": 209,
    "start_time": "2022-02-22T07:03:42.903Z"
   },
   {
    "duration": 20,
    "start_time": "2022-02-22T07:03:43.115Z"
   },
   {
    "duration": 60,
    "start_time": "2022-02-22T07:03:43.138Z"
   },
   {
    "duration": 120,
    "start_time": "2022-02-22T07:03:43.200Z"
   },
   {
    "duration": 5,
    "start_time": "2022-02-22T07:03:43.322Z"
   },
   {
    "duration": 13,
    "start_time": "2022-02-22T07:03:43.329Z"
   },
   {
    "duration": 53,
    "start_time": "2022-02-22T07:03:43.344Z"
   },
   {
    "duration": 20,
    "start_time": "2022-02-22T07:03:43.399Z"
   },
   {
    "duration": 10,
    "start_time": "2022-02-22T07:03:43.422Z"
   },
   {
    "duration": 220,
    "start_time": "2022-02-22T07:03:43.434Z"
   },
   {
    "duration": 143,
    "start_time": "2022-02-22T07:03:43.661Z"
   },
   {
    "duration": 171,
    "start_time": "2022-02-22T07:03:43.806Z"
   },
   {
    "duration": 37,
    "start_time": "2022-02-22T07:03:43.980Z"
   },
   {
    "duration": 58,
    "start_time": "2022-02-22T07:03:44.019Z"
   },
   {
    "duration": 3400,
    "start_time": "2022-02-22T07:03:44.081Z"
   },
   {
    "duration": 1265,
    "start_time": "2022-02-22T07:03:47.483Z"
   },
   {
    "duration": 52,
    "start_time": "2022-02-22T07:03:48.760Z"
   },
   {
    "duration": 12,
    "start_time": "2022-02-22T07:03:48.815Z"
   },
   {
    "duration": 40,
    "start_time": "2022-02-22T07:04:16.309Z"
   },
   {
    "duration": 23,
    "start_time": "2022-02-22T07:06:28.284Z"
   },
   {
    "duration": 21,
    "start_time": "2022-02-22T07:07:55.905Z"
   },
   {
    "duration": 44,
    "start_time": "2022-02-22T07:09:34.313Z"
   },
   {
    "duration": 48,
    "start_time": "2022-02-22T07:09:59.893Z"
   },
   {
    "duration": 45,
    "start_time": "2022-02-22T07:10:27.710Z"
   },
   {
    "duration": 44,
    "start_time": "2022-02-22T07:11:04.627Z"
   },
   {
    "duration": 51,
    "start_time": "2022-02-22T07:11:12.833Z"
   },
   {
    "duration": 93,
    "start_time": "2022-02-22T07:15:10.916Z"
   },
   {
    "duration": 473,
    "start_time": "2022-02-22T07:17:25.043Z"
   },
   {
    "duration": 51,
    "start_time": "2022-02-22T07:17:30.784Z"
   },
   {
    "duration": 54,
    "start_time": "2022-02-22T07:18:14.776Z"
   },
   {
    "duration": 13,
    "start_time": "2022-02-22T07:19:05.783Z"
   },
   {
    "duration": 22,
    "start_time": "2022-02-22T07:19:14.816Z"
   },
   {
    "duration": 45,
    "start_time": "2022-02-22T07:19:52.773Z"
   },
   {
    "duration": 371,
    "start_time": "2022-02-22T07:20:33.593Z"
   },
   {
    "duration": 385,
    "start_time": "2022-02-22T07:20:54.613Z"
   },
   {
    "duration": 1149,
    "start_time": "2022-02-22T07:21:22.013Z"
   },
   {
    "duration": 319,
    "start_time": "2022-02-22T07:22:57.169Z"
   },
   {
    "duration": 12,
    "start_time": "2022-02-22T07:24:56.650Z"
   },
   {
    "duration": 324,
    "start_time": "2022-02-22T07:26:27.244Z"
   },
   {
    "duration": 372,
    "start_time": "2022-02-22T07:26:36.258Z"
   },
   {
    "duration": 455,
    "start_time": "2022-02-22T07:26:40.660Z"
   },
   {
    "duration": 689,
    "start_time": "2022-02-22T07:26:53.863Z"
   },
   {
    "duration": 808,
    "start_time": "2022-02-22T07:27:04.197Z"
   },
   {
    "duration": 951,
    "start_time": "2022-02-22T07:30:33.100Z"
   },
   {
    "duration": 734,
    "start_time": "2022-02-22T07:30:42.421Z"
   },
   {
    "duration": 706,
    "start_time": "2022-02-22T07:32:34.865Z"
   },
   {
    "duration": 665,
    "start_time": "2022-02-22T07:32:47.624Z"
   },
   {
    "duration": 384,
    "start_time": "2022-02-22T07:33:49.731Z"
   },
   {
    "duration": 420,
    "start_time": "2022-02-22T07:33:59.734Z"
   },
   {
    "duration": 108,
    "start_time": "2022-02-22T07:34:06.915Z"
   },
   {
    "duration": 686,
    "start_time": "2022-02-22T07:34:13.037Z"
   },
   {
    "duration": 1096,
    "start_time": "2022-02-22T07:34:26.059Z"
   },
   {
    "duration": 1120,
    "start_time": "2022-02-22T07:35:06.357Z"
   },
   {
    "duration": 1419,
    "start_time": "2022-02-22T07:36:15.242Z"
   },
   {
    "duration": 1449,
    "start_time": "2022-02-22T07:36:27.336Z"
   },
   {
    "duration": 1687,
    "start_time": "2022-02-22T07:36:49.162Z"
   },
   {
    "duration": 686,
    "start_time": "2022-02-22T07:37:48.061Z"
   },
   {
    "duration": 801,
    "start_time": "2022-02-22T07:41:06.776Z"
   },
   {
    "duration": 116,
    "start_time": "2022-02-22T07:41:26.801Z"
   },
   {
    "duration": 810,
    "start_time": "2022-02-22T07:41:33.188Z"
   },
   {
    "duration": 846,
    "start_time": "2022-02-22T07:42:33.271Z"
   },
   {
    "duration": 1283,
    "start_time": "2022-02-22T07:42:40.942Z"
   },
   {
    "duration": 782,
    "start_time": "2022-02-22T07:42:54.855Z"
   },
   {
    "duration": 778,
    "start_time": "2022-02-22T07:43:33.560Z"
   },
   {
    "duration": 583,
    "start_time": "2022-02-22T07:45:27.510Z"
   },
   {
    "duration": 792,
    "start_time": "2022-02-22T07:45:35.343Z"
   },
   {
    "duration": 420,
    "start_time": "2022-02-22T07:47:31.087Z"
   },
   {
    "duration": 498,
    "start_time": "2022-02-22T07:47:46.837Z"
   },
   {
    "duration": 448,
    "start_time": "2022-02-22T07:49:23.378Z"
   },
   {
    "duration": 661,
    "start_time": "2022-02-22T07:49:32.679Z"
   },
   {
    "duration": 584,
    "start_time": "2022-02-22T07:50:09.458Z"
   },
   {
    "duration": 621,
    "start_time": "2022-02-22T07:51:00.124Z"
   },
   {
    "duration": 853,
    "start_time": "2022-02-22T07:51:24.737Z"
   },
   {
    "duration": 880,
    "start_time": "2022-02-22T07:51:44.218Z"
   },
   {
    "duration": 762,
    "start_time": "2022-02-22T07:52:04.003Z"
   },
   {
    "duration": 556,
    "start_time": "2022-02-22T07:52:21.619Z"
   },
   {
    "duration": 9343,
    "start_time": "2022-02-22T07:53:45.321Z"
   },
   {
    "duration": 480,
    "start_time": "2022-02-22T07:54:12.222Z"
   },
   {
    "duration": 495,
    "start_time": "2022-02-22T07:54:50.492Z"
   },
   {
    "duration": 1211,
    "start_time": "2022-02-24T07:57:19.541Z"
   },
   {
    "duration": 34,
    "start_time": "2022-02-24T07:57:20.754Z"
   },
   {
    "duration": 21,
    "start_time": "2022-02-24T07:57:20.790Z"
   },
   {
    "duration": 33,
    "start_time": "2022-02-24T07:57:20.814Z"
   },
   {
    "duration": 216,
    "start_time": "2022-02-24T07:57:20.850Z"
   },
   {
    "duration": 14,
    "start_time": "2022-02-24T07:57:21.069Z"
   },
   {
    "duration": 34,
    "start_time": "2022-02-24T07:57:21.085Z"
   },
   {
    "duration": 122,
    "start_time": "2022-02-24T07:57:21.121Z"
   },
   {
    "duration": 23,
    "start_time": "2022-02-24T07:57:21.246Z"
   },
   {
    "duration": 33,
    "start_time": "2022-02-24T07:57:21.271Z"
   },
   {
    "duration": 22,
    "start_time": "2022-02-24T07:57:21.306Z"
   },
   {
    "duration": 13,
    "start_time": "2022-02-24T07:57:21.330Z"
   },
   {
    "duration": 157,
    "start_time": "2022-02-24T07:57:21.345Z"
   },
   {
    "duration": 15,
    "start_time": "2022-02-24T07:57:21.504Z"
   },
   {
    "duration": 56,
    "start_time": "2022-02-24T07:57:21.521Z"
   },
   {
    "duration": 91,
    "start_time": "2022-02-24T07:57:21.578Z"
   },
   {
    "duration": 5,
    "start_time": "2022-02-24T07:57:21.671Z"
   },
   {
    "duration": 10,
    "start_time": "2022-02-24T07:57:21.678Z"
   },
   {
    "duration": 33,
    "start_time": "2022-02-24T07:57:21.690Z"
   },
   {
    "duration": 17,
    "start_time": "2022-02-24T07:57:21.725Z"
   },
   {
    "duration": 29,
    "start_time": "2022-02-24T07:57:21.743Z"
   },
   {
    "duration": 170,
    "start_time": "2022-02-24T07:57:21.774Z"
   },
   {
    "duration": 120,
    "start_time": "2022-02-24T07:57:21.946Z"
   },
   {
    "duration": 138,
    "start_time": "2022-02-24T07:57:22.069Z"
   },
   {
    "duration": 28,
    "start_time": "2022-02-24T07:57:22.209Z"
   },
   {
    "duration": 42,
    "start_time": "2022-02-24T07:57:22.240Z"
   },
   {
    "duration": 2113,
    "start_time": "2022-02-24T07:57:22.285Z"
   },
   {
    "duration": 677,
    "start_time": "2022-02-24T07:57:24.400Z"
   },
   {
    "duration": 34,
    "start_time": "2022-02-24T07:57:25.079Z"
   },
   {
    "duration": 9,
    "start_time": "2022-02-24T07:57:25.115Z"
   },
   {
    "duration": 64,
    "start_time": "2022-02-24T07:57:25.126Z"
   },
   {
    "duration": 33,
    "start_time": "2022-02-24T07:57:25.192Z"
   },
   {
    "duration": 51,
    "start_time": "2022-02-24T07:57:25.227Z"
   },
   {
    "duration": 418,
    "start_time": "2022-02-24T07:57:25.280Z"
   },
   {
    "duration": 420,
    "start_time": "2022-02-24T07:57:25.699Z"
   },
   {
    "duration": 364,
    "start_time": "2022-02-24T07:57:26.121Z"
   },
   {
    "duration": 75,
    "start_time": "2022-02-24T08:17:55.160Z"
   },
   {
    "duration": 55,
    "start_time": "2022-02-24T08:18:07.057Z"
   },
   {
    "duration": 34,
    "start_time": "2022-02-24T08:18:21.822Z"
   },
   {
    "duration": 52,
    "start_time": "2022-02-24T08:18:54.359Z"
   },
   {
    "duration": 29,
    "start_time": "2022-02-24T08:19:40.363Z"
   },
   {
    "duration": 28,
    "start_time": "2022-02-24T08:21:29.552Z"
   },
   {
    "duration": 21,
    "start_time": "2022-02-24T08:35:17.662Z"
   },
   {
    "duration": 28,
    "start_time": "2022-02-24T08:35:31.182Z"
   },
   {
    "duration": 333,
    "start_time": "2022-02-24T08:36:25.530Z"
   },
   {
    "duration": 7,
    "start_time": "2022-02-24T08:36:36.495Z"
   },
   {
    "duration": 6,
    "start_time": "2022-02-24T08:39:35.345Z"
   },
   {
    "duration": 6,
    "start_time": "2022-02-24T11:28:23.332Z"
   },
   {
    "duration": 9,
    "start_time": "2022-02-24T11:30:55.075Z"
   },
   {
    "duration": 9,
    "start_time": "2022-02-24T11:31:24.791Z"
   },
   {
    "duration": 256,
    "start_time": "2022-02-24T11:34:54.543Z"
   },
   {
    "duration": 1012,
    "start_time": "2022-02-24T11:35:37.809Z"
   },
   {
    "duration": 1217,
    "start_time": "2022-02-24T11:58:13.539Z"
   },
   {
    "duration": 45,
    "start_time": "2022-02-24T11:58:14.759Z"
   },
   {
    "duration": 24,
    "start_time": "2022-02-24T11:58:14.807Z"
   },
   {
    "duration": 21,
    "start_time": "2022-02-24T11:58:14.833Z"
   },
   {
    "duration": 197,
    "start_time": "2022-02-24T11:58:14.856Z"
   },
   {
    "duration": 15,
    "start_time": "2022-02-24T11:58:15.055Z"
   },
   {
    "duration": 41,
    "start_time": "2022-02-24T11:58:15.072Z"
   },
   {
    "duration": 113,
    "start_time": "2022-02-24T11:58:15.116Z"
   },
   {
    "duration": 12,
    "start_time": "2022-02-24T11:58:15.231Z"
   },
   {
    "duration": 51,
    "start_time": "2022-02-24T11:58:15.244Z"
   },
   {
    "duration": 22,
    "start_time": "2022-02-24T11:58:15.297Z"
   },
   {
    "duration": 12,
    "start_time": "2022-02-24T11:58:15.321Z"
   },
   {
    "duration": 178,
    "start_time": "2022-02-24T11:58:15.335Z"
   },
   {
    "duration": 15,
    "start_time": "2022-02-24T11:58:15.515Z"
   },
   {
    "duration": 46,
    "start_time": "2022-02-24T11:58:15.532Z"
   },
   {
    "duration": 89,
    "start_time": "2022-02-24T11:58:15.580Z"
   },
   {
    "duration": 5,
    "start_time": "2022-02-24T11:58:15.671Z"
   },
   {
    "duration": 12,
    "start_time": "2022-02-24T11:58:15.677Z"
   },
   {
    "duration": 31,
    "start_time": "2022-02-24T11:58:15.691Z"
   },
   {
    "duration": 16,
    "start_time": "2022-02-24T11:58:15.723Z"
   },
   {
    "duration": 32,
    "start_time": "2022-02-24T11:58:15.741Z"
   },
   {
    "duration": 170,
    "start_time": "2022-02-24T11:58:15.775Z"
   },
   {
    "duration": 120,
    "start_time": "2022-02-24T11:58:15.949Z"
   },
   {
    "duration": 137,
    "start_time": "2022-02-24T11:58:16.071Z"
   },
   {
    "duration": 27,
    "start_time": "2022-02-24T11:58:16.210Z"
   },
   {
    "duration": 42,
    "start_time": "2022-02-24T11:58:16.239Z"
   },
   {
    "duration": 4120,
    "start_time": "2022-02-24T11:58:16.282Z"
   },
   {
    "duration": 668,
    "start_time": "2022-02-24T11:58:20.404Z"
   },
   {
    "duration": 33,
    "start_time": "2022-02-24T11:58:21.074Z"
   },
   {
    "duration": 8,
    "start_time": "2022-02-24T11:58:21.109Z"
   },
   {
    "duration": 54,
    "start_time": "2022-02-24T11:58:21.119Z"
   },
   {
    "duration": 28,
    "start_time": "2022-02-24T11:58:21.174Z"
   },
   {
    "duration": 5,
    "start_time": "2022-02-24T11:58:21.204Z"
   },
   {
    "duration": 6,
    "start_time": "2022-02-24T11:58:21.211Z"
   },
   {
    "duration": 64,
    "start_time": "2022-02-24T11:58:21.219Z"
   },
   {
    "duration": 33,
    "start_time": "2022-02-24T11:58:21.285Z"
   },
   {
    "duration": 449,
    "start_time": "2022-02-24T11:58:21.320Z"
   },
   {
    "duration": 400,
    "start_time": "2022-02-24T11:58:21.770Z"
   },
   {
    "duration": 372,
    "start_time": "2022-02-24T11:58:22.171Z"
   },
   {
    "duration": 9,
    "start_time": "2022-02-24T11:58:22.544Z"
   },
   {
    "duration": 21,
    "start_time": "2022-02-24T11:58:22.555Z"
   },
   {
    "duration": 7,
    "start_time": "2022-02-24T11:58:22.577Z"
   },
   {
    "duration": 10,
    "start_time": "2022-02-24T11:58:22.586Z"
   },
   {
    "duration": 5,
    "start_time": "2022-02-24T11:59:59.113Z"
   },
   {
    "duration": 6,
    "start_time": "2022-02-24T12:00:45.333Z"
   },
   {
    "duration": 6,
    "start_time": "2022-02-24T12:00:51.642Z"
   },
   {
    "duration": 363,
    "start_time": "2022-02-24T12:03:52.738Z"
   },
   {
    "duration": 834,
    "start_time": "2022-02-24T12:04:10.926Z"
   },
   {
    "duration": 11,
    "start_time": "2022-02-24T12:04:28.895Z"
   },
   {
    "duration": 12,
    "start_time": "2022-02-24T12:05:00.888Z"
   },
   {
    "duration": 9,
    "start_time": "2022-02-24T12:05:10.308Z"
   },
   {
    "duration": 10,
    "start_time": "2022-02-24T12:05:14.659Z"
   },
   {
    "duration": 441,
    "start_time": "2022-02-24T12:21:22.564Z"
   },
   {
    "duration": 139,
    "start_time": "2022-02-24T12:22:51.085Z"
   },
   {
    "duration": 1154,
    "start_time": "2022-02-24T16:51:39.656Z"
   },
   {
    "duration": 26,
    "start_time": "2022-02-24T16:51:40.812Z"
   },
   {
    "duration": 20,
    "start_time": "2022-02-24T16:51:40.840Z"
   },
   {
    "duration": 19,
    "start_time": "2022-02-24T16:51:40.863Z"
   },
   {
    "duration": 192,
    "start_time": "2022-02-24T16:51:40.884Z"
   },
   {
    "duration": 14,
    "start_time": "2022-02-24T16:51:41.078Z"
   },
   {
    "duration": 48,
    "start_time": "2022-02-24T16:51:41.093Z"
   },
   {
    "duration": 101,
    "start_time": "2022-02-24T16:51:41.144Z"
   },
   {
    "duration": 11,
    "start_time": "2022-02-24T16:51:41.247Z"
   },
   {
    "duration": 29,
    "start_time": "2022-02-24T16:51:41.259Z"
   },
   {
    "duration": 32,
    "start_time": "2022-02-24T16:51:41.289Z"
   },
   {
    "duration": 11,
    "start_time": "2022-02-24T16:51:41.323Z"
   },
   {
    "duration": 156,
    "start_time": "2022-02-24T16:51:41.335Z"
   },
   {
    "duration": 14,
    "start_time": "2022-02-24T16:51:41.493Z"
   },
   {
    "duration": 33,
    "start_time": "2022-02-24T16:51:41.519Z"
   },
   {
    "duration": 97,
    "start_time": "2022-02-24T16:51:41.553Z"
   },
   {
    "duration": 4,
    "start_time": "2022-02-24T16:51:41.652Z"
   },
   {
    "duration": 9,
    "start_time": "2022-02-24T16:51:41.658Z"
   },
   {
    "duration": 28,
    "start_time": "2022-02-24T16:51:41.668Z"
   },
   {
    "duration": 32,
    "start_time": "2022-02-24T16:51:41.698Z"
   },
   {
    "duration": 9,
    "start_time": "2022-02-24T16:51:41.731Z"
   },
   {
    "duration": 175,
    "start_time": "2022-02-24T16:51:41.743Z"
   },
   {
    "duration": 123,
    "start_time": "2022-02-24T16:51:41.922Z"
   },
   {
    "duration": 141,
    "start_time": "2022-02-24T16:51:42.048Z"
   },
   {
    "duration": 29,
    "start_time": "2022-02-24T16:51:42.191Z"
   },
   {
    "duration": 21,
    "start_time": "2022-02-24T16:51:42.222Z"
   },
   {
    "duration": 3918,
    "start_time": "2022-02-24T16:51:42.245Z"
   },
   {
    "duration": 591,
    "start_time": "2022-02-24T16:51:46.165Z"
   },
   {
    "duration": 27,
    "start_time": "2022-02-24T16:51:46.758Z"
   },
   {
    "duration": 7,
    "start_time": "2022-02-24T16:51:46.787Z"
   },
   {
    "duration": 38,
    "start_time": "2022-02-24T16:51:46.795Z"
   },
   {
    "duration": 21,
    "start_time": "2022-02-24T16:51:46.835Z"
   },
   {
    "duration": 5,
    "start_time": "2022-02-24T16:51:46.858Z"
   },
   {
    "duration": 11,
    "start_time": "2022-02-24T16:51:46.865Z"
   },
   {
    "duration": 58,
    "start_time": "2022-02-24T16:51:46.878Z"
   },
   {
    "duration": 30,
    "start_time": "2022-02-24T16:51:46.938Z"
   },
   {
    "duration": 358,
    "start_time": "2022-02-24T16:51:46.970Z"
   },
   {
    "duration": 342,
    "start_time": "2022-02-24T16:51:47.330Z"
   },
   {
    "duration": 313,
    "start_time": "2022-02-24T16:51:47.675Z"
   },
   {
    "duration": 9,
    "start_time": "2022-02-24T16:51:47.990Z"
   },
   {
    "duration": 8,
    "start_time": "2022-02-24T16:51:48.017Z"
   },
   {
    "duration": 7,
    "start_time": "2022-02-24T16:51:48.027Z"
   },
   {
    "duration": 11,
    "start_time": "2022-02-24T16:51:48.035Z"
   },
   {
    "duration": 5,
    "start_time": "2022-02-24T16:51:48.048Z"
   },
   {
    "duration": 9,
    "start_time": "2022-02-24T16:51:48.055Z"
   },
   {
    "duration": 8,
    "start_time": "2022-02-24T16:51:48.066Z"
   },
   {
    "duration": 153,
    "start_time": "2022-02-24T16:51:48.076Z"
   },
   {
    "duration": 555,
    "start_time": "2022-02-24T16:52:00.340Z"
   },
   {
    "duration": 457,
    "start_time": "2022-02-24T16:53:50.807Z"
   },
   {
    "duration": 384,
    "start_time": "2022-02-24T16:54:01.855Z"
   },
   {
    "duration": 349,
    "start_time": "2022-02-24T16:54:08.111Z"
   },
   {
    "duration": 5658,
    "start_time": "2022-02-24T16:55:16.881Z"
   },
   {
    "duration": 147,
    "start_time": "2022-02-24T16:55:42.603Z"
   },
   {
    "duration": 3653,
    "start_time": "2022-02-24T16:56:17.211Z"
   },
   {
    "duration": 249,
    "start_time": "2022-02-24T16:57:30.851Z"
   },
   {
    "duration": 412,
    "start_time": "2022-02-24T16:58:21.310Z"
   },
   {
    "duration": 178,
    "start_time": "2022-02-24T16:58:33.866Z"
   },
   {
    "duration": 384,
    "start_time": "2022-02-24T16:58:47.596Z"
   },
   {
    "duration": 189,
    "start_time": "2022-02-24T16:58:58.959Z"
   },
   {
    "duration": 226,
    "start_time": "2022-02-24T17:01:15.801Z"
   },
   {
    "duration": 280,
    "start_time": "2022-02-24T17:01:21.334Z"
   },
   {
    "duration": 139,
    "start_time": "2022-02-24T17:01:30.048Z"
   },
   {
    "duration": 130,
    "start_time": "2022-02-24T17:03:37.901Z"
   },
   {
    "duration": 216,
    "start_time": "2022-02-24T17:07:49.577Z"
   },
   {
    "duration": 223,
    "start_time": "2022-02-24T17:10:37.460Z"
   },
   {
    "duration": 569,
    "start_time": "2022-02-24T17:10:43.251Z"
   },
   {
    "duration": 572,
    "start_time": "2022-02-24T17:10:54.795Z"
   },
   {
    "duration": 287,
    "start_time": "2022-02-24T17:11:13.390Z"
   },
   {
    "duration": 217,
    "start_time": "2022-02-24T17:11:55.063Z"
   },
   {
    "duration": 207,
    "start_time": "2022-02-24T17:12:07.921Z"
   },
   {
    "duration": 278,
    "start_time": "2022-02-24T17:13:16.677Z"
   },
   {
    "duration": 9,
    "start_time": "2022-02-24T17:13:39.164Z"
   },
   {
    "duration": 9,
    "start_time": "2022-02-24T17:13:39.757Z"
   },
   {
    "duration": 395,
    "start_time": "2022-02-24T17:17:10.483Z"
   },
   {
    "duration": 419,
    "start_time": "2022-02-24T17:17:26.289Z"
   },
   {
    "duration": 662,
    "start_time": "2022-02-24T17:17:34.071Z"
   },
   {
    "duration": 8,
    "start_time": "2022-02-24T17:17:57.843Z"
   },
   {
    "duration": 9,
    "start_time": "2022-02-24T17:20:44.584Z"
   },
   {
    "duration": 8,
    "start_time": "2022-02-24T17:21:06.944Z"
   },
   {
    "duration": 9,
    "start_time": "2022-02-24T17:21:14.852Z"
   },
   {
    "duration": 9,
    "start_time": "2022-02-24T17:21:18.313Z"
   },
   {
    "duration": 10,
    "start_time": "2022-02-24T17:21:29.511Z"
   },
   {
    "duration": 16,
    "start_time": "2022-02-24T17:21:42.035Z"
   },
   {
    "duration": 138,
    "start_time": "2022-02-24T17:22:01.822Z"
   },
   {
    "duration": 127,
    "start_time": "2022-02-24T17:22:11.866Z"
   },
   {
    "duration": 13,
    "start_time": "2022-02-24T17:22:18.772Z"
   },
   {
    "duration": 222,
    "start_time": "2022-02-24T17:22:26.312Z"
   },
   {
    "duration": 122,
    "start_time": "2022-02-24T17:22:32.190Z"
   },
   {
    "duration": 141,
    "start_time": "2022-02-24T17:22:39.958Z"
   },
   {
    "duration": 128,
    "start_time": "2022-02-24T17:23:22.092Z"
   },
   {
    "duration": 136,
    "start_time": "2022-02-24T17:23:33.436Z"
   },
   {
    "duration": 128,
    "start_time": "2022-02-24T17:28:36.786Z"
   },
   {
    "duration": 131,
    "start_time": "2022-02-24T17:28:58.986Z"
   },
   {
    "duration": 1245,
    "start_time": "2022-02-25T07:14:41.542Z"
   },
   {
    "duration": 21,
    "start_time": "2022-02-25T07:14:42.789Z"
   },
   {
    "duration": 23,
    "start_time": "2022-02-25T07:14:42.813Z"
   },
   {
    "duration": 20,
    "start_time": "2022-02-25T07:14:42.838Z"
   },
   {
    "duration": 224,
    "start_time": "2022-02-25T07:14:42.861Z"
   },
   {
    "duration": 14,
    "start_time": "2022-02-25T07:14:43.087Z"
   },
   {
    "duration": 44,
    "start_time": "2022-02-25T07:14:43.103Z"
   },
   {
    "duration": 125,
    "start_time": "2022-02-25T07:14:43.149Z"
   },
   {
    "duration": 12,
    "start_time": "2022-02-25T07:14:43.278Z"
   },
   {
    "duration": 50,
    "start_time": "2022-02-25T07:14:43.293Z"
   },
   {
    "duration": 16,
    "start_time": "2022-02-25T07:14:43.345Z"
   },
   {
    "duration": 11,
    "start_time": "2022-02-25T07:14:43.363Z"
   },
   {
    "duration": 172,
    "start_time": "2022-02-25T07:14:43.375Z"
   },
   {
    "duration": 14,
    "start_time": "2022-02-25T07:14:43.549Z"
   },
   {
    "duration": 31,
    "start_time": "2022-02-25T07:14:43.564Z"
   },
   {
    "duration": 95,
    "start_time": "2022-02-25T07:14:43.597Z"
   },
   {
    "duration": 4,
    "start_time": "2022-02-25T07:14:43.694Z"
   },
   {
    "duration": 24,
    "start_time": "2022-02-25T07:14:43.700Z"
   },
   {
    "duration": 29,
    "start_time": "2022-02-25T07:14:43.726Z"
   },
   {
    "duration": 16,
    "start_time": "2022-02-25T07:14:43.756Z"
   },
   {
    "duration": 8,
    "start_time": "2022-02-25T07:14:43.773Z"
   },
   {
    "duration": 184,
    "start_time": "2022-02-25T07:14:43.783Z"
   },
   {
    "duration": 117,
    "start_time": "2022-02-25T07:14:43.969Z"
   },
   {
    "duration": 133,
    "start_time": "2022-02-25T07:14:44.088Z"
   },
   {
    "duration": 26,
    "start_time": "2022-02-25T07:14:44.223Z"
   },
   {
    "duration": 23,
    "start_time": "2022-02-25T07:14:44.250Z"
   },
   {
    "duration": 3891,
    "start_time": "2022-02-25T07:14:44.277Z"
   },
   {
    "duration": 607,
    "start_time": "2022-02-25T07:14:48.171Z"
   },
   {
    "duration": 38,
    "start_time": "2022-02-25T07:14:48.780Z"
   },
   {
    "duration": 9,
    "start_time": "2022-02-25T07:14:48.819Z"
   },
   {
    "duration": 33,
    "start_time": "2022-02-25T07:14:48.829Z"
   },
   {
    "duration": 26,
    "start_time": "2022-02-25T07:14:48.863Z"
   },
   {
    "duration": 6,
    "start_time": "2022-02-25T07:14:48.890Z"
   },
   {
    "duration": 6,
    "start_time": "2022-02-25T07:14:48.918Z"
   },
   {
    "duration": 30,
    "start_time": "2022-02-25T07:14:48.926Z"
   },
   {
    "duration": 27,
    "start_time": "2022-02-25T07:14:48.958Z"
   },
   {
    "duration": 363,
    "start_time": "2022-02-25T07:14:48.986Z"
   },
   {
    "duration": 337,
    "start_time": "2022-02-25T07:14:49.351Z"
   },
   {
    "duration": 311,
    "start_time": "2022-02-25T07:14:49.690Z"
   },
   {
    "duration": 15,
    "start_time": "2022-02-25T07:14:50.003Z"
   },
   {
    "duration": 12,
    "start_time": "2022-02-25T07:14:50.019Z"
   },
   {
    "duration": 10,
    "start_time": "2022-02-25T07:14:50.033Z"
   },
   {
    "duration": 24,
    "start_time": "2022-02-25T07:14:50.046Z"
   },
   {
    "duration": 7,
    "start_time": "2022-02-25T07:14:50.072Z"
   },
   {
    "duration": 22,
    "start_time": "2022-02-25T07:14:50.081Z"
   },
   {
    "duration": 144,
    "start_time": "2022-02-25T07:14:50.105Z"
   },
   {
    "duration": 13,
    "start_time": "2022-02-25T07:14:50.251Z"
   },
   {
    "duration": 150,
    "start_time": "2022-02-25T07:14:50.266Z"
   },
   {
    "duration": 5,
    "start_time": "2022-02-25T08:11:51.822Z"
   },
   {
    "duration": 606,
    "start_time": "2022-02-25T08:16:07.367Z"
   },
   {
    "duration": 6,
    "start_time": "2022-02-25T08:16:36.584Z"
   },
   {
    "duration": 7,
    "start_time": "2022-02-25T08:18:49.606Z"
   },
   {
    "duration": 5,
    "start_time": "2022-02-25T08:41:06.836Z"
   },
   {
    "duration": 1307,
    "start_time": "2022-03-02T14:47:29.514Z"
   },
   {
    "duration": 23,
    "start_time": "2022-03-02T14:47:30.823Z"
   },
   {
    "duration": 18,
    "start_time": "2022-03-02T14:47:31.206Z"
   },
   {
    "duration": 17,
    "start_time": "2022-03-02T14:47:31.809Z"
   },
   {
    "duration": 172,
    "start_time": "2022-03-02T14:47:36.453Z"
   },
   {
    "duration": 18,
    "start_time": "2022-03-02T14:47:36.692Z"
   },
   {
    "duration": 40,
    "start_time": "2022-03-02T14:47:37.201Z"
   },
   {
    "duration": 121,
    "start_time": "2022-03-02T14:47:38.557Z"
   },
   {
    "duration": 15,
    "start_time": "2022-03-02T14:47:39.593Z"
   },
   {
    "duration": 44,
    "start_time": "2022-03-02T14:47:40.072Z"
   },
   {
    "duration": 17,
    "start_time": "2022-03-02T14:47:41.256Z"
   },
   {
    "duration": 8,
    "start_time": "2022-03-02T14:47:41.698Z"
   },
   {
    "duration": 216,
    "start_time": "2022-03-02T14:47:42.814Z"
   },
   {
    "duration": 19,
    "start_time": "2022-03-02T14:47:43.289Z"
   },
   {
    "duration": 32,
    "start_time": "2022-03-02T14:47:43.875Z"
   },
   {
    "duration": 79,
    "start_time": "2022-03-02T14:49:17.114Z"
   },
   {
    "duration": 17,
    "start_time": "2022-03-02T14:50:11.054Z"
   },
   {
    "duration": 274,
    "start_time": "2022-03-02T14:50:16.351Z"
   },
   {
    "duration": 4,
    "start_time": "2022-03-02T14:50:20.286Z"
   },
   {
    "duration": 4,
    "start_time": "2022-03-02T14:50:23.870Z"
   },
   {
    "duration": 4,
    "start_time": "2022-03-02T14:50:29.714Z"
   },
   {
    "duration": 4,
    "start_time": "2022-03-02T14:50:48.892Z"
   },
   {
    "duration": 8,
    "start_time": "2022-03-02T14:50:49.477Z"
   },
   {
    "duration": 34,
    "start_time": "2022-03-02T14:52:46.833Z"
   },
   {
    "duration": 15,
    "start_time": "2022-03-02T14:52:51.886Z"
   },
   {
    "duration": 9,
    "start_time": "2022-03-02T14:54:28.347Z"
   },
   {
    "duration": 4,
    "start_time": "2022-03-02T14:55:21.634Z"
   },
   {
    "duration": 184,
    "start_time": "2022-03-02T14:55:22.022Z"
   },
   {
    "duration": 125,
    "start_time": "2022-03-02T14:55:22.497Z"
   },
   {
    "duration": 145,
    "start_time": "2022-03-02T14:55:23.072Z"
   },
   {
    "duration": 23,
    "start_time": "2022-03-02T14:55:23.646Z"
   },
   {
    "duration": 23,
    "start_time": "2022-03-02T14:57:25.425Z"
   },
   {
    "duration": 4420,
    "start_time": "2022-03-02T14:58:13.545Z"
   },
   {
    "duration": 18,
    "start_time": "2022-03-02T14:58:27.623Z"
   },
   {
    "duration": 605,
    "start_time": "2022-03-02T14:59:00.129Z"
   },
   {
    "duration": 567,
    "start_time": "2022-03-02T15:00:17.070Z"
   },
   {
    "duration": 37,
    "start_time": "2022-03-02T15:00:21.112Z"
   },
   {
    "duration": 11,
    "start_time": "2022-03-02T15:01:45.264Z"
   },
   {
    "duration": 34,
    "start_time": "2022-03-02T15:01:46.661Z"
   },
   {
    "duration": 34,
    "start_time": "2022-03-02T15:01:48.051Z"
   },
   {
    "duration": 7,
    "start_time": "2022-03-02T15:01:49.458Z"
   },
   {
    "duration": 8,
    "start_time": "2022-03-02T15:02:04.878Z"
   },
   {
    "duration": 39,
    "start_time": "2022-03-02T15:02:48.722Z"
   },
   {
    "duration": 39,
    "start_time": "2022-03-02T15:03:17.462Z"
   },
   {
    "duration": 496,
    "start_time": "2022-03-02T15:03:37.349Z"
   },
   {
    "duration": 10,
    "start_time": "2022-03-02T15:08:46.463Z"
   },
   {
    "duration": 9,
    "start_time": "2022-03-02T15:08:46.758Z"
   },
   {
    "duration": 7,
    "start_time": "2022-03-02T15:09:00.387Z"
   },
   {
    "duration": 6,
    "start_time": "2022-03-02T15:12:23.495Z"
   },
   {
    "duration": 64,
    "start_time": "2022-03-02T15:14:07.683Z"
   },
   {
    "duration": 8,
    "start_time": "2022-03-02T15:14:27.475Z"
   },
   {
    "duration": 5,
    "start_time": "2022-03-02T15:14:31.407Z"
   },
   {
    "duration": 78,
    "start_time": "2022-03-02T17:12:10.481Z"
   },
   {
    "duration": 16,
    "start_time": "2022-03-02T18:09:06.578Z"
   },
   {
    "duration": 15,
    "start_time": "2022-03-02T18:10:36.001Z"
   },
   {
    "duration": 5,
    "start_time": "2022-03-02T18:13:03.923Z"
   },
   {
    "duration": 137,
    "start_time": "2022-03-02T18:13:04.253Z"
   },
   {
    "duration": 99,
    "start_time": "2022-03-02T18:13:10.225Z"
   },
   {
    "duration": 127,
    "start_time": "2022-03-02T18:13:17.346Z"
   },
   {
    "duration": 23,
    "start_time": "2022-03-02T18:13:24.192Z"
   },
   {
    "duration": 27,
    "start_time": "2022-03-02T18:13:30.712Z"
   },
   {
    "duration": 3,
    "start_time": "2022-03-02T18:13:40.901Z"
   },
   {
    "duration": 25,
    "start_time": "2022-03-02T18:20:09.002Z"
   },
   {
    "duration": 24,
    "start_time": "2022-03-02T18:21:07.756Z"
   },
   {
    "duration": 24,
    "start_time": "2022-03-02T18:21:31.133Z"
   },
   {
    "duration": 87,
    "start_time": "2022-03-02T18:21:55.180Z"
   },
   {
    "duration": 158,
    "start_time": "2022-03-02T18:24:06.720Z"
   },
   {
    "duration": 150,
    "start_time": "2022-03-02T18:24:31.216Z"
   },
   {
    "duration": 149,
    "start_time": "2022-03-02T18:24:39.865Z"
   },
   {
    "duration": 179,
    "start_time": "2022-03-02T18:29:46.407Z"
   },
   {
    "duration": 12,
    "start_time": "2022-03-02T18:34:22.658Z"
   },
   {
    "duration": 15,
    "start_time": "2022-03-02T18:34:31.869Z"
   },
   {
    "duration": 84,
    "start_time": "2022-03-02T18:34:50.086Z"
   },
   {
    "duration": 12,
    "start_time": "2022-03-02T18:35:39.266Z"
   },
   {
    "duration": 141,
    "start_time": "2022-03-02T18:35:52.888Z"
   },
   {
    "duration": 305,
    "start_time": "2022-03-02T18:36:03.958Z"
   },
   {
    "duration": 61,
    "start_time": "2022-03-02T18:36:42.953Z"
   },
   {
    "duration": 8,
    "start_time": "2022-03-02T18:36:48.831Z"
   },
   {
    "duration": 133,
    "start_time": "2022-03-02T18:36:55.630Z"
   },
   {
    "duration": 6,
    "start_time": "2022-03-02T18:37:19.654Z"
   },
   {
    "duration": 122,
    "start_time": "2022-03-02T18:37:20.193Z"
   },
   {
    "duration": 75,
    "start_time": "2022-03-02T18:37:20.966Z"
   },
   {
    "duration": 70,
    "start_time": "2022-03-02T18:37:26.657Z"
   },
   {
    "duration": 95,
    "start_time": "2022-03-02T18:37:26.980Z"
   },
   {
    "duration": 24,
    "start_time": "2022-03-02T18:37:27.201Z"
   },
   {
    "duration": 20,
    "start_time": "2022-03-02T18:40:13.961Z"
   },
   {
    "duration": 3989,
    "start_time": "2022-03-02T18:40:18.500Z"
   },
   {
    "duration": 4,
    "start_time": "2022-03-02T18:41:15.191Z"
   },
   {
    "duration": 204,
    "start_time": "2022-03-02T18:41:18.872Z"
   },
   {
    "duration": 5,
    "start_time": "2022-03-02T18:41:25.204Z"
   },
   {
    "duration": 4,
    "start_time": "2022-03-02T18:41:30.659Z"
   },
   {
    "duration": 4,
    "start_time": "2022-03-02T18:41:33.522Z"
   },
   {
    "duration": 199,
    "start_time": "2022-03-02T18:41:39.502Z"
   },
   {
    "duration": 15,
    "start_time": "2022-03-02T18:41:42.556Z"
   },
   {
    "duration": 18,
    "start_time": "2022-03-02T18:41:58.566Z"
   },
   {
    "duration": 6,
    "start_time": "2022-03-02T18:42:06.305Z"
   },
   {
    "duration": 60,
    "start_time": "2022-03-02T18:42:23.166Z"
   },
   {
    "duration": 7,
    "start_time": "2022-03-02T18:42:25.240Z"
   },
   {
    "duration": 5,
    "start_time": "2022-03-02T18:42:36.762Z"
   },
   {
    "duration": 339,
    "start_time": "2022-03-02T18:42:48.901Z"
   },
   {
    "duration": 4,
    "start_time": "2022-03-02T18:42:59.129Z"
   },
   {
    "duration": 16,
    "start_time": "2022-03-02T18:43:08.857Z"
   },
   {
    "duration": 9,
    "start_time": "2022-03-02T18:55:30.252Z"
   },
   {
    "duration": 26,
    "start_time": "2022-03-02T18:55:31.222Z"
   },
   {
    "duration": 21,
    "start_time": "2022-03-02T18:55:31.757Z"
   },
   {
    "duration": 7,
    "start_time": "2022-03-02T18:55:32.667Z"
   },
   {
    "duration": 6,
    "start_time": "2022-03-02T18:55:33.716Z"
   },
   {
    "duration": 28,
    "start_time": "2022-03-02T18:55:50.099Z"
   },
   {
    "duration": 200,
    "start_time": "2022-03-02T18:55:50.664Z"
   },
   {
    "duration": 455,
    "start_time": "2022-03-02T18:55:51.647Z"
   },
   {
    "duration": 512,
    "start_time": "2022-03-02T18:55:52.330Z"
   },
   {
    "duration": 464,
    "start_time": "2022-03-02T18:55:52.844Z"
   },
   {
    "duration": 4464,
    "start_time": "2022-03-02T19:02:04.446Z"
   },
   {
    "duration": -17,
    "start_time": "2022-03-02T19:02:08.930Z"
   },
   {
    "duration": 4,
    "start_time": "2022-03-02T19:02:18.763Z"
   },
   {
    "duration": 29,
    "start_time": "2022-03-02T19:02:19.120Z"
   },
   {
    "duration": 28,
    "start_time": "2022-03-02T19:02:19.154Z"
   },
   {
    "duration": 26,
    "start_time": "2022-03-02T19:02:19.190Z"
   },
   {
    "duration": 158,
    "start_time": "2022-03-02T19:02:19.350Z"
   },
   {
    "duration": 11,
    "start_time": "2022-03-02T19:02:19.513Z"
   },
   {
    "duration": 30,
    "start_time": "2022-03-02T19:02:19.536Z"
   },
   {
    "duration": 93,
    "start_time": "2022-03-02T19:02:19.684Z"
   },
   {
    "duration": 11,
    "start_time": "2022-03-02T19:02:19.779Z"
   },
   {
    "duration": 28,
    "start_time": "2022-03-02T19:02:19.853Z"
   },
   {
    "duration": 15,
    "start_time": "2022-03-02T19:02:20.169Z"
   },
   {
    "duration": 8,
    "start_time": "2022-03-02T19:02:20.186Z"
   },
   {
    "duration": 137,
    "start_time": "2022-03-02T19:02:20.270Z"
   },
   {
    "duration": 13,
    "start_time": "2022-03-02T19:02:20.409Z"
   },
   {
    "duration": 31,
    "start_time": "2022-03-02T19:02:20.437Z"
   },
   {
    "duration": 70,
    "start_time": "2022-03-02T19:02:21.027Z"
   },
   {
    "duration": 4,
    "start_time": "2022-03-02T19:02:21.272Z"
   },
   {
    "duration": 7,
    "start_time": "2022-03-02T19:02:21.354Z"
   },
   {
    "duration": 30,
    "start_time": "2022-03-02T19:02:21.521Z"
   },
   {
    "duration": 16,
    "start_time": "2022-03-02T19:02:21.609Z"
   },
   {
    "duration": 4,
    "start_time": "2022-03-02T19:02:22.022Z"
   },
   {
    "duration": 132,
    "start_time": "2022-03-02T19:02:22.263Z"
   },
   {
    "duration": 101,
    "start_time": "2022-03-02T19:02:22.397Z"
   },
   {
    "duration": 119,
    "start_time": "2022-03-02T19:02:22.500Z"
   },
   {
    "duration": 41,
    "start_time": "2022-03-02T19:02:22.621Z"
   },
   {
    "duration": 23,
    "start_time": "2022-03-02T19:02:22.664Z"
   },
   {
    "duration": 3869,
    "start_time": "2022-03-02T19:02:22.785Z"
   },
   {
    "duration": 597,
    "start_time": "2022-03-02T19:02:26.656Z"
   },
   {
    "duration": 27,
    "start_time": "2022-03-02T19:02:27.255Z"
   },
   {
    "duration": 8,
    "start_time": "2022-03-02T19:02:27.284Z"
   },
   {
    "duration": 46,
    "start_time": "2022-03-02T19:02:27.293Z"
   },
   {
    "duration": 25,
    "start_time": "2022-03-02T19:02:27.341Z"
   },
   {
    "duration": 7,
    "start_time": "2022-03-02T19:02:27.368Z"
   },
   {
    "duration": 13,
    "start_time": "2022-03-02T19:02:27.377Z"
   },
   {
    "duration": 55,
    "start_time": "2022-03-02T19:02:27.392Z"
   },
   {
    "duration": 28,
    "start_time": "2022-03-02T19:02:27.449Z"
   },
   {
    "duration": 345,
    "start_time": "2022-03-02T19:02:27.479Z"
   },
   {
    "duration": 336,
    "start_time": "2022-03-02T19:02:27.825Z"
   },
   {
    "duration": 311,
    "start_time": "2022-03-02T19:02:28.164Z"
   },
   {
    "duration": 9,
    "start_time": "2022-03-02T19:02:29.368Z"
   },
   {
    "duration": 8,
    "start_time": "2022-03-02T19:02:29.609Z"
   },
   {
    "duration": 7,
    "start_time": "2022-03-02T19:02:30.137Z"
   },
   {
    "duration": 12,
    "start_time": "2022-03-02T19:02:31.725Z"
   },
   {
    "duration": 5,
    "start_time": "2022-03-02T19:02:32.371Z"
   },
   {
    "duration": 10,
    "start_time": "2022-03-02T19:02:32.899Z"
   },
   {
    "duration": 190,
    "start_time": "2022-03-02T19:02:33.580Z"
   },
   {
    "duration": 17,
    "start_time": "2022-03-02T19:02:53.942Z"
   },
   {
    "duration": 131,
    "start_time": "2022-03-02T19:02:54.227Z"
   },
   {
    "duration": 67,
    "start_time": "2022-03-03T07:58:03.999Z"
   },
   {
    "duration": 1158,
    "start_time": "2022-03-03T08:20:39.467Z"
   },
   {
    "duration": 20,
    "start_time": "2022-03-03T08:20:40.627Z"
   },
   {
    "duration": 21,
    "start_time": "2022-03-03T08:20:40.649Z"
   },
   {
    "duration": 18,
    "start_time": "2022-03-03T08:20:40.908Z"
   },
   {
    "duration": 162,
    "start_time": "2022-03-03T08:20:40.996Z"
   },
   {
    "duration": 12,
    "start_time": "2022-03-03T08:20:41.162Z"
   },
   {
    "duration": 41,
    "start_time": "2022-03-03T08:20:41.177Z"
   },
   {
    "duration": 98,
    "start_time": "2022-03-03T08:20:41.327Z"
   },
   {
    "duration": 13,
    "start_time": "2022-03-03T08:20:41.564Z"
   },
   {
    "duration": 38,
    "start_time": "2022-03-03T08:20:41.579Z"
   },
   {
    "duration": 13,
    "start_time": "2022-03-03T08:20:41.660Z"
   },
   {
    "duration": 7,
    "start_time": "2022-03-03T08:20:41.757Z"
   },
   {
    "duration": 137,
    "start_time": "2022-03-03T08:20:41.959Z"
   },
   {
    "duration": 12,
    "start_time": "2022-03-03T08:20:42.098Z"
   },
   {
    "duration": 40,
    "start_time": "2022-03-03T08:20:42.112Z"
   },
   {
    "duration": 70,
    "start_time": "2022-03-03T08:20:42.664Z"
   },
   {
    "duration": 5,
    "start_time": "2022-03-03T08:20:43.005Z"
   },
   {
    "duration": 7,
    "start_time": "2022-03-03T08:20:43.084Z"
   },
   {
    "duration": 29,
    "start_time": "2022-03-03T08:20:43.247Z"
   },
   {
    "duration": 16,
    "start_time": "2022-03-03T08:20:43.331Z"
   },
   {
    "duration": 9,
    "start_time": "2022-03-03T08:20:43.759Z"
   },
   {
    "duration": 138,
    "start_time": "2022-03-03T08:20:43.915Z"
   },
   {
    "duration": 96,
    "start_time": "2022-03-03T08:20:44.055Z"
   },
   {
    "duration": 125,
    "start_time": "2022-03-03T08:20:44.153Z"
   },
   {
    "duration": 22,
    "start_time": "2022-03-03T08:20:44.280Z"
   },
   {
    "duration": 25,
    "start_time": "2022-03-03T08:20:44.330Z"
   },
   {
    "duration": 3780,
    "start_time": "2022-03-03T08:20:44.521Z"
   },
   {
    "duration": 576,
    "start_time": "2022-03-03T08:20:48.303Z"
   },
   {
    "duration": 27,
    "start_time": "2022-03-03T08:20:48.881Z"
   },
   {
    "duration": 7,
    "start_time": "2022-03-03T08:20:48.910Z"
   },
   {
    "duration": 45,
    "start_time": "2022-03-03T08:20:48.919Z"
   },
   {
    "duration": 22,
    "start_time": "2022-03-03T08:20:48.966Z"
   },
   {
    "duration": 6,
    "start_time": "2022-03-03T08:20:48.989Z"
   },
   {
    "duration": 11,
    "start_time": "2022-03-03T08:20:48.998Z"
   },
   {
    "duration": 52,
    "start_time": "2022-03-03T08:20:49.012Z"
   },
   {
    "duration": 28,
    "start_time": "2022-03-03T08:20:49.065Z"
   },
   {
    "duration": 356,
    "start_time": "2022-03-03T08:20:49.095Z"
   },
   {
    "duration": 319,
    "start_time": "2022-03-03T08:20:49.452Z"
   },
   {
    "duration": 302,
    "start_time": "2022-03-03T08:20:49.773Z"
   },
   {
    "duration": 7,
    "start_time": "2022-03-03T08:20:50.077Z"
   },
   {
    "duration": 11,
    "start_time": "2022-03-03T08:20:50.086Z"
   },
   {
    "duration": 6,
    "start_time": "2022-03-03T08:20:50.098Z"
   },
   {
    "duration": 12,
    "start_time": "2022-03-03T08:20:50.106Z"
   },
   {
    "duration": 7,
    "start_time": "2022-03-03T08:20:50.120Z"
   },
   {
    "duration": 10,
    "start_time": "2022-03-03T08:20:50.163Z"
   },
   {
    "duration": 140,
    "start_time": "2022-03-03T08:20:50.175Z"
   },
   {
    "duration": 11,
    "start_time": "2022-03-03T08:20:50.317Z"
   },
   {
    "duration": 148,
    "start_time": "2022-03-03T08:20:50.330Z"
   },
   {
    "duration": 1414,
    "start_time": "2022-03-09T15:35:42.644Z"
   },
   {
    "duration": 40,
    "start_time": "2022-03-09T15:35:44.060Z"
   },
   {
    "duration": 25,
    "start_time": "2022-03-09T15:35:44.103Z"
   },
   {
    "duration": 23,
    "start_time": "2022-03-09T15:35:44.130Z"
   },
   {
    "duration": 182,
    "start_time": "2022-03-09T15:35:44.155Z"
   },
   {
    "duration": 12,
    "start_time": "2022-03-09T15:35:44.339Z"
   },
   {
    "duration": 48,
    "start_time": "2022-03-09T15:35:44.352Z"
   },
   {
    "duration": 104,
    "start_time": "2022-03-09T15:35:44.402Z"
   },
   {
    "duration": 11,
    "start_time": "2022-03-09T15:35:44.509Z"
   },
   {
    "duration": 40,
    "start_time": "2022-03-09T15:35:44.523Z"
   },
   {
    "duration": 19,
    "start_time": "2022-03-09T15:35:44.577Z"
   },
   {
    "duration": 16,
    "start_time": "2022-03-09T15:35:44.598Z"
   },
   {
    "duration": 161,
    "start_time": "2022-03-09T15:35:44.616Z"
   },
   {
    "duration": 14,
    "start_time": "2022-03-09T15:35:44.780Z"
   },
   {
    "duration": 41,
    "start_time": "2022-03-09T15:35:44.796Z"
   },
   {
    "duration": 90,
    "start_time": "2022-03-09T15:35:44.838Z"
   },
   {
    "duration": 4,
    "start_time": "2022-03-09T15:35:44.930Z"
   },
   {
    "duration": 20,
    "start_time": "2022-03-09T15:35:44.936Z"
   },
   {
    "duration": 49,
    "start_time": "2022-03-09T15:35:44.958Z"
   },
   {
    "duration": 17,
    "start_time": "2022-03-09T15:35:45.009Z"
   },
   {
    "duration": 26,
    "start_time": "2022-03-09T15:35:45.028Z"
   },
   {
    "duration": 190,
    "start_time": "2022-03-09T15:35:45.056Z"
   },
   {
    "duration": 115,
    "start_time": "2022-03-09T15:35:45.248Z"
   },
   {
    "duration": 143,
    "start_time": "2022-03-09T15:35:45.365Z"
   },
   {
    "duration": 28,
    "start_time": "2022-03-09T15:35:45.509Z"
   },
   {
    "duration": 38,
    "start_time": "2022-03-09T15:35:45.539Z"
   },
   {
    "duration": 4081,
    "start_time": "2022-03-09T15:35:45.581Z"
   },
   {
    "duration": 634,
    "start_time": "2022-03-09T15:35:49.665Z"
   },
   {
    "duration": 31,
    "start_time": "2022-03-09T15:35:50.301Z"
   },
   {
    "duration": 9,
    "start_time": "2022-03-09T15:35:50.334Z"
   },
   {
    "duration": 52,
    "start_time": "2022-03-09T15:35:50.345Z"
   },
   {
    "duration": 29,
    "start_time": "2022-03-09T15:35:50.399Z"
   },
   {
    "duration": 6,
    "start_time": "2022-03-09T15:35:50.430Z"
   },
   {
    "duration": 17,
    "start_time": "2022-03-09T15:35:50.438Z"
   },
   {
    "duration": 32,
    "start_time": "2022-03-09T15:35:50.478Z"
   },
   {
    "duration": 31,
    "start_time": "2022-03-09T15:35:50.512Z"
   },
   {
    "duration": 440,
    "start_time": "2022-03-09T15:35:50.545Z"
   },
   {
    "duration": 403,
    "start_time": "2022-03-09T15:35:50.986Z"
   },
   {
    "duration": 355,
    "start_time": "2022-03-09T15:35:51.391Z"
   },
   {
    "duration": 9,
    "start_time": "2022-03-09T15:35:51.748Z"
   },
   {
    "duration": 22,
    "start_time": "2022-03-09T15:35:51.760Z"
   },
   {
    "duration": 9,
    "start_time": "2022-03-09T15:35:51.785Z"
   },
   {
    "duration": 22,
    "start_time": "2022-03-09T15:35:51.796Z"
   },
   {
    "duration": 23,
    "start_time": "2022-03-09T15:35:51.820Z"
   },
   {
    "duration": 14,
    "start_time": "2022-03-09T15:35:51.845Z"
   },
   {
    "duration": 154,
    "start_time": "2022-03-09T15:35:51.861Z"
   },
   {
    "duration": 13,
    "start_time": "2022-03-09T15:35:52.017Z"
   },
   {
    "duration": 169,
    "start_time": "2022-03-09T15:35:52.032Z"
   },
   {
    "duration": 6,
    "start_time": "2022-03-09T15:37:41.136Z"
   },
   {
    "duration": 120,
    "start_time": "2022-03-09T15:57:07.213Z"
   },
   {
    "duration": 29,
    "start_time": "2022-03-09T15:57:08.313Z"
   },
   {
    "duration": 118,
    "start_time": "2022-03-09T15:57:23.012Z"
   },
   {
    "duration": 28,
    "start_time": "2022-03-09T15:57:25.316Z"
   },
   {
    "duration": 5535,
    "start_time": "2022-03-09T15:57:37.257Z"
   },
   {
    "duration": -457,
    "start_time": "2022-03-09T15:57:43.251Z"
   },
   {
    "duration": 125,
    "start_time": "2022-03-09T15:57:54.012Z"
   },
   {
    "duration": 28,
    "start_time": "2022-03-09T15:58:09.308Z"
   },
   {
    "duration": 5672,
    "start_time": "2022-03-09T15:58:29.508Z"
   },
   {
    "duration": -454,
    "start_time": "2022-03-09T15:58:35.637Z"
   },
   {
    "duration": -455,
    "start_time": "2022-03-09T15:58:35.639Z"
   },
   {
    "duration": 6376,
    "start_time": "2022-03-09T16:02:25.370Z"
   },
   {
    "duration": 5976,
    "start_time": "2022-03-09T16:02:53.018Z"
   },
   {
    "duration": 5395,
    "start_time": "2022-03-09T16:03:28.706Z"
   },
   {
    "duration": 28,
    "start_time": "2022-03-09T16:03:40.242Z"
   },
   {
    "duration": 4125,
    "start_time": "2022-03-09T16:03:43.254Z"
   },
   {
    "duration": 620,
    "start_time": "2022-03-09T16:03:49.648Z"
   },
   {
    "duration": 31,
    "start_time": "2022-03-09T16:06:03.385Z"
   },
   {
    "duration": 8,
    "start_time": "2022-03-09T16:06:17.698Z"
   },
   {
    "duration": 27,
    "start_time": "2022-03-09T16:06:18.644Z"
   },
   {
    "duration": 28,
    "start_time": "2022-03-09T16:06:20.740Z"
   },
   {
    "duration": 5490,
    "start_time": "2022-03-09T16:06:22.555Z"
   },
   {
    "duration": 7,
    "start_time": "2022-03-09T16:06:38.312Z"
   },
   {
    "duration": 7,
    "start_time": "2022-03-09T16:07:24.354Z"
   },
   {
    "duration": 32,
    "start_time": "2022-03-09T16:07:35.264Z"
   },
   {
    "duration": 33,
    "start_time": "2022-03-09T16:07:45.050Z"
   },
   {
    "duration": 380,
    "start_time": "2022-03-09T16:08:08.661Z"
   },
   {
    "duration": 356,
    "start_time": "2022-03-09T16:08:34.708Z"
   },
   {
    "duration": 429,
    "start_time": "2022-03-09T16:09:42.978Z"
   },
   {
    "duration": 421,
    "start_time": "2022-03-09T16:10:19.552Z"
   },
   {
    "duration": 1212,
    "start_time": "2022-03-09T16:27:39.553Z"
   },
   {
    "duration": 37,
    "start_time": "2022-03-09T16:27:40.767Z"
   },
   {
    "duration": 21,
    "start_time": "2022-03-09T16:27:40.806Z"
   },
   {
    "duration": 19,
    "start_time": "2022-03-09T16:27:40.829Z"
   },
   {
    "duration": 183,
    "start_time": "2022-03-09T16:27:40.850Z"
   },
   {
    "duration": 15,
    "start_time": "2022-03-09T16:27:41.034Z"
   },
   {
    "duration": 46,
    "start_time": "2022-03-09T16:27:41.050Z"
   },
   {
    "duration": 105,
    "start_time": "2022-03-09T16:27:41.099Z"
   },
   {
    "duration": 12,
    "start_time": "2022-03-09T16:27:41.206Z"
   },
   {
    "duration": 31,
    "start_time": "2022-03-09T16:27:41.220Z"
   },
   {
    "duration": 20,
    "start_time": "2022-03-09T16:27:41.277Z"
   },
   {
    "duration": 8,
    "start_time": "2022-03-09T16:27:41.299Z"
   },
   {
    "duration": 163,
    "start_time": "2022-03-09T16:27:41.308Z"
   },
   {
    "duration": 15,
    "start_time": "2022-03-09T16:27:41.473Z"
   },
   {
    "duration": 46,
    "start_time": "2022-03-09T16:27:41.490Z"
   },
   {
    "duration": 101,
    "start_time": "2022-03-09T16:27:41.538Z"
   },
   {
    "duration": 4,
    "start_time": "2022-03-09T16:27:41.641Z"
   },
   {
    "duration": 9,
    "start_time": "2022-03-09T16:27:41.647Z"
   },
   {
    "duration": 44,
    "start_time": "2022-03-09T16:27:41.658Z"
   },
   {
    "duration": 17,
    "start_time": "2022-03-09T16:27:41.705Z"
   },
   {
    "duration": 7,
    "start_time": "2022-03-09T16:27:41.724Z"
   },
   {
    "duration": 210,
    "start_time": "2022-03-09T16:27:41.733Z"
   },
   {
    "duration": 117,
    "start_time": "2022-03-09T16:27:41.947Z"
   },
   {
    "duration": 138,
    "start_time": "2022-03-09T16:27:42.066Z"
   },
   {
    "duration": 27,
    "start_time": "2022-03-09T16:27:42.206Z"
   },
   {
    "duration": 42,
    "start_time": "2022-03-09T16:27:42.235Z"
   },
   {
    "duration": 4211,
    "start_time": "2022-03-09T16:27:42.279Z"
   },
   {
    "duration": 625,
    "start_time": "2022-03-09T16:27:46.492Z"
   },
   {
    "duration": 31,
    "start_time": "2022-03-09T16:27:47.119Z"
   },
   {
    "duration": 25,
    "start_time": "2022-03-09T16:27:47.152Z"
   },
   {
    "duration": 28,
    "start_time": "2022-03-09T16:27:47.179Z"
   },
   {
    "duration": 26,
    "start_time": "2022-03-09T16:27:47.209Z"
   },
   {
    "duration": 308,
    "start_time": "2022-03-09T16:27:47.236Z"
   },
   {
    "duration": -448,
    "start_time": "2022-03-09T16:27:47.994Z"
   },
   {
    "duration": -449,
    "start_time": "2022-03-09T16:27:47.996Z"
   },
   {
    "duration": -464,
    "start_time": "2022-03-09T16:27:48.012Z"
   },
   {
    "duration": -465,
    "start_time": "2022-03-09T16:27:48.014Z"
   },
   {
    "duration": -472,
    "start_time": "2022-03-09T16:27:48.022Z"
   },
   {
    "duration": -474,
    "start_time": "2022-03-09T16:27:48.025Z"
   },
   {
    "duration": -476,
    "start_time": "2022-03-09T16:27:48.027Z"
   },
   {
    "duration": -479,
    "start_time": "2022-03-09T16:27:48.031Z"
   },
   {
    "duration": -484,
    "start_time": "2022-03-09T16:27:48.037Z"
   },
   {
    "duration": -488,
    "start_time": "2022-03-09T16:27:48.042Z"
   },
   {
    "duration": -489,
    "start_time": "2022-03-09T16:27:48.044Z"
   },
   {
    "duration": -491,
    "start_time": "2022-03-09T16:27:48.047Z"
   },
   {
    "duration": -497,
    "start_time": "2022-03-09T16:27:48.054Z"
   },
   {
    "duration": -501,
    "start_time": "2022-03-09T16:27:48.059Z"
   },
   {
    "duration": -502,
    "start_time": "2022-03-09T16:27:48.060Z"
   },
   {
    "duration": -503,
    "start_time": "2022-03-09T16:27:48.062Z"
   },
   {
    "duration": 1116,
    "start_time": "2022-03-09T16:28:21.342Z"
   },
   {
    "duration": 46,
    "start_time": "2022-03-09T16:28:22.459Z"
   },
   {
    "duration": 20,
    "start_time": "2022-03-09T16:28:22.508Z"
   },
   {
    "duration": 20,
    "start_time": "2022-03-09T16:28:22.530Z"
   },
   {
    "duration": 173,
    "start_time": "2022-03-09T16:28:22.552Z"
   },
   {
    "duration": 14,
    "start_time": "2022-03-09T16:28:22.727Z"
   },
   {
    "duration": 46,
    "start_time": "2022-03-09T16:28:22.743Z"
   },
   {
    "duration": 103,
    "start_time": "2022-03-09T16:28:22.791Z"
   },
   {
    "duration": 10,
    "start_time": "2022-03-09T16:28:22.896Z"
   },
   {
    "duration": 31,
    "start_time": "2022-03-09T16:28:22.908Z"
   },
   {
    "duration": 21,
    "start_time": "2022-03-09T16:28:22.940Z"
   },
   {
    "duration": 21,
    "start_time": "2022-03-09T16:28:22.962Z"
   },
   {
    "duration": 155,
    "start_time": "2022-03-09T16:28:22.985Z"
   },
   {
    "duration": 14,
    "start_time": "2022-03-09T16:28:23.141Z"
   },
   {
    "duration": 44,
    "start_time": "2022-03-09T16:28:23.157Z"
   },
   {
    "duration": 91,
    "start_time": "2022-03-09T16:28:23.203Z"
   },
   {
    "duration": 4,
    "start_time": "2022-03-09T16:28:23.296Z"
   },
   {
    "duration": 10,
    "start_time": "2022-03-09T16:28:23.302Z"
   },
   {
    "duration": 33,
    "start_time": "2022-03-09T16:28:23.314Z"
   },
   {
    "duration": 29,
    "start_time": "2022-03-09T16:28:23.349Z"
   },
   {
    "duration": 6,
    "start_time": "2022-03-09T16:28:23.380Z"
   },
   {
    "duration": 163,
    "start_time": "2022-03-09T16:28:23.387Z"
   },
   {
    "duration": 111,
    "start_time": "2022-03-09T16:28:23.554Z"
   },
   {
    "duration": 128,
    "start_time": "2022-03-09T16:28:23.668Z"
   },
   {
    "duration": 27,
    "start_time": "2022-03-09T16:28:23.798Z"
   },
   {
    "duration": 21,
    "start_time": "2022-03-09T16:28:23.827Z"
   },
   {
    "duration": 4008,
    "start_time": "2022-03-09T16:28:23.850Z"
   },
   {
    "duration": 639,
    "start_time": "2022-03-09T16:28:27.859Z"
   },
   {
    "duration": 31,
    "start_time": "2022-03-09T16:28:28.499Z"
   },
   {
    "duration": 8,
    "start_time": "2022-03-09T16:28:28.531Z"
   },
   {
    "duration": 49,
    "start_time": "2022-03-09T16:28:28.541Z"
   },
   {
    "duration": 26,
    "start_time": "2022-03-09T16:28:28.592Z"
   },
   {
    "duration": 6,
    "start_time": "2022-03-09T16:28:28.620Z"
   },
   {
    "duration": 338,
    "start_time": "2022-03-09T16:28:28.628Z"
   },
   {
    "duration": -476,
    "start_time": "2022-03-09T16:28:29.444Z"
   },
   {
    "duration": -477,
    "start_time": "2022-03-09T16:28:29.446Z"
   },
   {
    "duration": -477,
    "start_time": "2022-03-09T16:28:29.447Z"
   },
   {
    "duration": -478,
    "start_time": "2022-03-09T16:28:29.449Z"
   },
   {
    "duration": -484,
    "start_time": "2022-03-09T16:28:29.456Z"
   },
   {
    "duration": -487,
    "start_time": "2022-03-09T16:28:29.460Z"
   },
   {
    "duration": -488,
    "start_time": "2022-03-09T16:28:29.462Z"
   },
   {
    "duration": -488,
    "start_time": "2022-03-09T16:28:29.463Z"
   },
   {
    "duration": -489,
    "start_time": "2022-03-09T16:28:29.465Z"
   },
   {
    "duration": -491,
    "start_time": "2022-03-09T16:28:29.468Z"
   },
   {
    "duration": -497,
    "start_time": "2022-03-09T16:28:29.475Z"
   },
   {
    "duration": -500,
    "start_time": "2022-03-09T16:28:29.479Z"
   },
   {
    "duration": -501,
    "start_time": "2022-03-09T16:28:29.481Z"
   },
   {
    "duration": -502,
    "start_time": "2022-03-09T16:28:29.483Z"
   },
   {
    "duration": -508,
    "start_time": "2022-03-09T16:28:29.490Z"
   },
   {
    "duration": 1146,
    "start_time": "2022-03-09T16:28:46.511Z"
   },
   {
    "duration": 38,
    "start_time": "2022-03-09T16:28:47.659Z"
   },
   {
    "duration": 29,
    "start_time": "2022-03-09T16:28:47.699Z"
   },
   {
    "duration": 19,
    "start_time": "2022-03-09T16:28:47.730Z"
   },
   {
    "duration": 189,
    "start_time": "2022-03-09T16:28:47.751Z"
   },
   {
    "duration": 14,
    "start_time": "2022-03-09T16:28:47.941Z"
   },
   {
    "duration": 53,
    "start_time": "2022-03-09T16:28:47.957Z"
   },
   {
    "duration": 109,
    "start_time": "2022-03-09T16:28:48.013Z"
   },
   {
    "duration": 12,
    "start_time": "2022-03-09T16:28:48.124Z"
   },
   {
    "duration": 41,
    "start_time": "2022-03-09T16:28:48.137Z"
   },
   {
    "duration": 21,
    "start_time": "2022-03-09T16:28:48.180Z"
   },
   {
    "duration": 7,
    "start_time": "2022-03-09T16:28:48.203Z"
   },
   {
    "duration": 159,
    "start_time": "2022-03-09T16:28:48.212Z"
   },
   {
    "duration": 17,
    "start_time": "2022-03-09T16:28:48.373Z"
   },
   {
    "duration": 33,
    "start_time": "2022-03-09T16:28:48.391Z"
   },
   {
    "duration": 102,
    "start_time": "2022-03-09T16:28:48.426Z"
   },
   {
    "duration": 4,
    "start_time": "2022-03-09T16:28:48.530Z"
   },
   {
    "duration": 10,
    "start_time": "2022-03-09T16:28:48.535Z"
   },
   {
    "duration": 37,
    "start_time": "2022-03-09T16:28:48.547Z"
   },
   {
    "duration": 16,
    "start_time": "2022-03-09T16:28:48.586Z"
   },
   {
    "duration": 6,
    "start_time": "2022-03-09T16:28:48.603Z"
   },
   {
    "duration": 171,
    "start_time": "2022-03-09T16:28:48.611Z"
   },
   {
    "duration": 107,
    "start_time": "2022-03-09T16:28:48.786Z"
   },
   {
    "duration": 132,
    "start_time": "2022-03-09T16:28:48.895Z"
   },
   {
    "duration": 27,
    "start_time": "2022-03-09T16:28:49.029Z"
   },
   {
    "duration": 37,
    "start_time": "2022-03-09T16:28:49.057Z"
   },
   {
    "duration": 3996,
    "start_time": "2022-03-09T16:28:49.096Z"
   },
   {
    "duration": 636,
    "start_time": "2022-03-09T16:28:53.094Z"
   },
   {
    "duration": 31,
    "start_time": "2022-03-09T16:28:53.732Z"
   },
   {
    "duration": 19,
    "start_time": "2022-03-09T16:28:53.764Z"
   },
   {
    "duration": 35,
    "start_time": "2022-03-09T16:28:53.784Z"
   },
   {
    "duration": 26,
    "start_time": "2022-03-09T16:28:53.821Z"
   },
   {
    "duration": 29,
    "start_time": "2022-03-09T16:28:53.848Z"
   },
   {
    "duration": 15,
    "start_time": "2022-03-09T16:28:53.879Z"
   },
   {
    "duration": 51,
    "start_time": "2022-03-09T16:28:53.896Z"
   },
   {
    "duration": 31,
    "start_time": "2022-03-09T16:28:53.949Z"
   },
   {
    "duration": 426,
    "start_time": "2022-03-09T16:28:53.982Z"
   },
   {
    "duration": 391,
    "start_time": "2022-03-09T16:28:54.410Z"
   },
   {
    "duration": 383,
    "start_time": "2022-03-09T16:28:54.802Z"
   },
   {
    "duration": 432,
    "start_time": "2022-03-09T16:28:55.187Z"
   },
   {
    "duration": 8,
    "start_time": "2022-03-09T16:28:55.620Z"
   },
   {
    "duration": 23,
    "start_time": "2022-03-09T16:28:55.630Z"
   },
   {
    "duration": 17,
    "start_time": "2022-03-09T16:28:55.654Z"
   },
   {
    "duration": 22,
    "start_time": "2022-03-09T16:28:55.673Z"
   },
   {
    "duration": 12,
    "start_time": "2022-03-09T16:28:55.696Z"
   },
   {
    "duration": 38,
    "start_time": "2022-03-09T16:28:55.710Z"
   },
   {
    "duration": 217,
    "start_time": "2022-03-09T16:28:55.750Z"
   },
   {
    "duration": 18,
    "start_time": "2022-03-09T16:28:55.969Z"
   },
   {
    "duration": 161,
    "start_time": "2022-03-09T16:28:55.988Z"
   },
   {
    "duration": 298,
    "start_time": "2022-03-09T19:04:24.001Z"
   },
   {
    "duration": 1248,
    "start_time": "2022-03-09T19:04:32.708Z"
   },
   {
    "duration": 22,
    "start_time": "2022-03-09T19:04:33.958Z"
   },
   {
    "duration": 29,
    "start_time": "2022-03-09T19:04:33.983Z"
   },
   {
    "duration": 19,
    "start_time": "2022-03-09T19:04:34.015Z"
   },
   {
    "duration": 184,
    "start_time": "2022-03-09T19:04:34.035Z"
   },
   {
    "duration": 14,
    "start_time": "2022-03-09T19:04:34.221Z"
   },
   {
    "duration": 32,
    "start_time": "2022-03-09T19:04:34.237Z"
   },
   {
    "duration": 119,
    "start_time": "2022-03-09T19:04:34.270Z"
   },
   {
    "duration": 17,
    "start_time": "2022-03-09T19:04:34.392Z"
   },
   {
    "duration": 39,
    "start_time": "2022-03-09T19:04:34.412Z"
   },
   {
    "duration": 16,
    "start_time": "2022-03-09T19:04:34.453Z"
   },
   {
    "duration": 30,
    "start_time": "2022-03-09T19:04:34.471Z"
   },
   {
    "duration": 147,
    "start_time": "2022-03-09T19:04:34.503Z"
   },
   {
    "duration": 13,
    "start_time": "2022-03-09T19:04:34.652Z"
   },
   {
    "duration": 51,
    "start_time": "2022-03-09T19:04:34.667Z"
   },
   {
    "duration": 87,
    "start_time": "2022-03-09T19:04:34.720Z"
   },
   {
    "duration": 5,
    "start_time": "2022-03-09T19:04:34.809Z"
   },
   {
    "duration": 6,
    "start_time": "2022-03-09T19:04:34.816Z"
   },
   {
    "duration": 34,
    "start_time": "2022-03-09T19:04:34.824Z"
   },
   {
    "duration": 17,
    "start_time": "2022-03-09T19:04:34.860Z"
   },
   {
    "duration": 27,
    "start_time": "2022-03-09T19:04:34.880Z"
   },
   {
    "duration": 160,
    "start_time": "2022-03-09T19:04:34.909Z"
   },
   {
    "duration": 107,
    "start_time": "2022-03-09T19:04:35.071Z"
   },
   {
    "duration": 134,
    "start_time": "2022-03-09T19:04:35.181Z"
   },
   {
    "duration": 27,
    "start_time": "2022-03-09T19:04:35.316Z"
   },
   {
    "duration": 24,
    "start_time": "2022-03-09T19:04:35.345Z"
   },
   {
    "duration": 4110,
    "start_time": "2022-03-09T19:04:35.373Z"
   },
   {
    "duration": 679,
    "start_time": "2022-03-09T19:04:39.486Z"
   },
   {
    "duration": 35,
    "start_time": "2022-03-09T19:04:40.167Z"
   },
   {
    "duration": 9,
    "start_time": "2022-03-09T19:04:40.204Z"
   },
   {
    "duration": 47,
    "start_time": "2022-03-09T19:04:40.215Z"
   },
   {
    "duration": 29,
    "start_time": "2022-03-09T19:04:40.263Z"
   },
   {
    "duration": 7,
    "start_time": "2022-03-09T19:04:40.294Z"
   },
   {
    "duration": 8,
    "start_time": "2022-03-09T19:04:40.303Z"
   },
   {
    "duration": 36,
    "start_time": "2022-03-09T19:04:40.313Z"
   },
   {
    "duration": 33,
    "start_time": "2022-03-09T19:04:40.351Z"
   },
   {
    "duration": 460,
    "start_time": "2022-03-09T19:04:40.386Z"
   },
   {
    "duration": 444,
    "start_time": "2022-03-09T19:04:40.848Z"
   },
   {
    "duration": 334,
    "start_time": "2022-03-09T19:04:41.294Z"
   },
   {
    "duration": 384,
    "start_time": "2022-03-09T19:04:41.630Z"
   },
   {
    "duration": 9,
    "start_time": "2022-03-09T19:04:42.016Z"
   },
   {
    "duration": 48,
    "start_time": "2022-03-09T19:04:42.026Z"
   },
   {
    "duration": 7,
    "start_time": "2022-03-09T19:04:42.075Z"
   },
   {
    "duration": 11,
    "start_time": "2022-03-09T19:04:42.083Z"
   },
   {
    "duration": 7,
    "start_time": "2022-03-09T19:04:42.095Z"
   },
   {
    "duration": 17,
    "start_time": "2022-03-09T19:04:42.103Z"
   },
   {
    "duration": 212,
    "start_time": "2022-03-09T19:04:42.121Z"
   },
   {
    "duration": 14,
    "start_time": "2022-03-09T19:04:42.334Z"
   },
   {
    "duration": 158,
    "start_time": "2022-03-09T19:04:42.351Z"
   },
   {
    "duration": 90,
    "start_time": "2022-03-09T19:29:51.776Z"
   },
   {
    "duration": 91,
    "start_time": "2022-03-09T19:30:09.154Z"
   },
   {
    "duration": 87,
    "start_time": "2022-03-09T19:30:34.042Z"
   },
   {
    "duration": 94,
    "start_time": "2022-03-09T19:30:45.236Z"
   },
   {
    "duration": 2215,
    "start_time": "2022-03-09T20:13:14.006Z"
   },
   {
    "duration": 31,
    "start_time": "2022-03-09T20:13:16.225Z"
   },
   {
    "duration": 247,
    "start_time": "2022-03-09T20:13:16.259Z"
   },
   {
    "duration": 271,
    "start_time": "2022-03-09T20:13:16.509Z"
   },
   {
    "duration": 537,
    "start_time": "2022-03-09T20:13:16.783Z"
   },
   {
    "duration": 51,
    "start_time": "2022-03-09T20:13:17.323Z"
   },
   {
    "duration": 431,
    "start_time": "2022-03-09T20:13:17.378Z"
   },
   {
    "duration": 351,
    "start_time": "2022-03-09T20:13:17.814Z"
   },
   {
    "duration": 175,
    "start_time": "2022-03-09T20:13:18.170Z"
   },
   {
    "duration": 276,
    "start_time": "2022-03-09T20:13:18.348Z"
   },
   {
    "duration": 223,
    "start_time": "2022-03-09T20:13:18.628Z"
   },
   {
    "duration": 267,
    "start_time": "2022-03-09T20:13:18.854Z"
   },
   {
    "duration": 864,
    "start_time": "2022-03-09T20:13:19.124Z"
   },
   {
    "duration": 45,
    "start_time": "2022-03-09T20:13:19.991Z"
   },
   {
    "duration": 436,
    "start_time": "2022-03-09T20:13:20.040Z"
   },
   {
    "duration": 340,
    "start_time": "2022-03-09T20:13:20.479Z"
   },
   {
    "duration": 152,
    "start_time": "2022-03-09T20:13:20.821Z"
   },
   {
    "duration": 200,
    "start_time": "2022-03-09T20:13:20.976Z"
   },
   {
    "duration": 325,
    "start_time": "2022-03-09T20:13:21.178Z"
   },
   {
    "duration": 400,
    "start_time": "2022-03-09T20:13:21.507Z"
   },
   {
    "duration": 405,
    "start_time": "2022-03-09T20:13:21.911Z"
   },
   {
    "duration": 567,
    "start_time": "2022-03-09T20:13:22.319Z"
   },
   {
    "duration": 201,
    "start_time": "2022-03-09T20:13:22.895Z"
   },
   {
    "duration": 330,
    "start_time": "2022-03-09T20:13:23.100Z"
   },
   {
    "duration": 152,
    "start_time": "2022-03-09T20:13:23.434Z"
   },
   {
    "duration": 286,
    "start_time": "2022-03-09T20:13:23.589Z"
   },
   {
    "duration": 6862,
    "start_time": "2022-03-09T20:13:23.878Z"
   },
   {
    "duration": 1108,
    "start_time": "2022-03-09T20:13:30.742Z"
   },
   {
    "duration": 234,
    "start_time": "2022-03-09T20:13:31.853Z"
   },
   {
    "duration": 541,
    "start_time": "2022-03-09T20:13:32.090Z"
   },
   {
    "duration": 430,
    "start_time": "2022-03-09T20:13:32.634Z"
   },
   {
    "duration": 263,
    "start_time": "2022-03-09T20:13:33.067Z"
   },
   {
    "duration": 292,
    "start_time": "2022-03-09T20:13:33.333Z"
   },
   {
    "duration": 257,
    "start_time": "2022-03-09T20:13:33.628Z"
   },
   {
    "duration": 428,
    "start_time": "2022-03-09T20:13:33.888Z"
   },
   {
    "duration": 273,
    "start_time": "2022-03-09T20:13:34.319Z"
   },
   {
    "duration": 1142,
    "start_time": "2022-03-09T20:13:34.595Z"
   },
   {
    "duration": 581,
    "start_time": "2022-03-09T20:13:35.740Z"
   },
   {
    "duration": 542,
    "start_time": "2022-03-09T20:13:36.324Z"
   },
   {
    "duration": 739,
    "start_time": "2022-03-09T20:13:36.868Z"
   },
   {
    "duration": 12,
    "start_time": "2022-03-09T20:13:37.610Z"
   },
   {
    "duration": 370,
    "start_time": "2022-03-09T20:13:37.625Z"
   },
   {
    "duration": 300,
    "start_time": "2022-03-09T20:13:37.998Z"
   },
   {
    "duration": 242,
    "start_time": "2022-03-09T20:13:38.301Z"
   },
   {
    "duration": 255,
    "start_time": "2022-03-09T20:13:38.546Z"
   },
   {
    "duration": 407,
    "start_time": "2022-03-09T20:13:38.805Z"
   },
   {
    "duration": 716,
    "start_time": "2022-03-09T20:13:39.216Z"
   },
   {
    "duration": 20,
    "start_time": "2022-03-09T20:13:39.934Z"
   },
   {
    "duration": 547,
    "start_time": "2022-03-09T20:13:39.974Z"
   },
   {
    "duration": 1182,
    "start_time": "2022-03-09T20:29:57.441Z"
   },
   {
    "duration": 23,
    "start_time": "2022-03-09T20:29:58.625Z"
   },
   {
    "duration": 22,
    "start_time": "2022-03-09T20:29:58.652Z"
   },
   {
    "duration": 41,
    "start_time": "2022-03-09T20:29:58.676Z"
   },
   {
    "duration": 181,
    "start_time": "2022-03-09T20:29:58.718Z"
   },
   {
    "duration": 14,
    "start_time": "2022-03-09T20:29:58.901Z"
   },
   {
    "duration": 44,
    "start_time": "2022-03-09T20:29:58.917Z"
   },
   {
    "duration": 105,
    "start_time": "2022-03-09T20:29:58.963Z"
   },
   {
    "duration": 11,
    "start_time": "2022-03-09T20:29:59.070Z"
   },
   {
    "duration": 49,
    "start_time": "2022-03-09T20:29:59.083Z"
   },
   {
    "duration": 14,
    "start_time": "2022-03-09T20:29:59.134Z"
   },
   {
    "duration": 26,
    "start_time": "2022-03-09T20:29:59.150Z"
   },
   {
    "duration": 186,
    "start_time": "2022-03-09T20:29:59.178Z"
   },
   {
    "duration": 15,
    "start_time": "2022-03-09T20:29:59.366Z"
   },
   {
    "duration": 48,
    "start_time": "2022-03-09T20:29:59.383Z"
   },
   {
    "duration": 96,
    "start_time": "2022-03-09T20:29:59.433Z"
   },
   {
    "duration": 5,
    "start_time": "2022-03-09T20:29:59.530Z"
   },
   {
    "duration": 13,
    "start_time": "2022-03-09T20:29:59.537Z"
   },
   {
    "duration": 40,
    "start_time": "2022-03-09T20:29:59.552Z"
   },
   {
    "duration": 23,
    "start_time": "2022-03-09T20:29:59.594Z"
   },
   {
    "duration": 35,
    "start_time": "2022-03-09T20:29:59.620Z"
   },
   {
    "duration": 186,
    "start_time": "2022-03-09T20:29:59.659Z"
   },
   {
    "duration": 114,
    "start_time": "2022-03-09T20:29:59.847Z"
   },
   {
    "duration": 150,
    "start_time": "2022-03-09T20:29:59.963Z"
   },
   {
    "duration": 30,
    "start_time": "2022-03-09T20:30:00.116Z"
   },
   {
    "duration": 25,
    "start_time": "2022-03-09T20:30:00.148Z"
   },
   {
    "duration": 4895,
    "start_time": "2022-03-09T20:30:00.175Z"
   },
   {
    "duration": 784,
    "start_time": "2022-03-09T20:30:05.072Z"
   },
   {
    "duration": 32,
    "start_time": "2022-03-09T20:30:05.858Z"
   },
   {
    "duration": 75,
    "start_time": "2022-03-09T20:30:05.904Z"
   },
   {
    "duration": 56,
    "start_time": "2022-03-09T20:30:05.981Z"
   },
   {
    "duration": 43,
    "start_time": "2022-03-09T20:30:06.039Z"
   },
   {
    "duration": 12,
    "start_time": "2022-03-09T20:30:06.084Z"
   },
   {
    "duration": 64,
    "start_time": "2022-03-09T20:30:06.099Z"
   },
   {
    "duration": 66,
    "start_time": "2022-03-09T20:30:06.165Z"
   },
   {
    "duration": 40,
    "start_time": "2022-03-09T20:30:06.233Z"
   },
   {
    "duration": 544,
    "start_time": "2022-03-09T20:30:06.275Z"
   },
   {
    "duration": 524,
    "start_time": "2022-03-09T20:30:06.822Z"
   },
   {
    "duration": 434,
    "start_time": "2022-03-09T20:30:07.349Z"
   },
   {
    "duration": 489,
    "start_time": "2022-03-09T20:30:07.785Z"
   },
   {
    "duration": 10,
    "start_time": "2022-03-09T20:30:08.277Z"
   },
   {
    "duration": 106,
    "start_time": "2022-03-09T20:30:08.302Z"
   },
   {
    "duration": 25,
    "start_time": "2022-03-09T20:30:08.410Z"
   },
   {
    "duration": 18,
    "start_time": "2022-03-09T20:30:08.437Z"
   },
   {
    "duration": 12,
    "start_time": "2022-03-09T20:30:08.457Z"
   },
   {
    "duration": 23,
    "start_time": "2022-03-09T20:30:08.471Z"
   },
   {
    "duration": 242,
    "start_time": "2022-03-09T20:30:08.496Z"
   },
   {
    "duration": 16,
    "start_time": "2022-03-09T20:30:08.740Z"
   },
   {
    "duration": 213,
    "start_time": "2022-03-09T20:30:08.758Z"
   },
   {
    "duration": 24,
    "start_time": "2022-03-09T20:30:35.850Z"
   }
  ],
  "kernelspec": {
   "display_name": "Python 3 (ipykernel)",
   "language": "python",
   "name": "python3"
  },
  "language_info": {
   "codemirror_mode": {
    "name": "ipython",
    "version": 3
   },
   "file_extension": ".py",
   "mimetype": "text/x-python",
   "name": "python",
   "nbconvert_exporter": "python",
   "pygments_lexer": "ipython3",
   "version": "3.9.7"
  },
  "toc": {
   "base_numbering": 1,
   "nav_menu": {},
   "number_sections": true,
   "sideBar": true,
   "skip_h1_title": true,
   "title_cell": "Table of Contents",
   "title_sidebar": "Contents",
   "toc_cell": false,
   "toc_position": {},
   "toc_section_display": true,
   "toc_window_display": false
  }
 },
 "nbformat": 4,
 "nbformat_minor": 2
}
