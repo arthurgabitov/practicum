{
 "cells": [
  {
   "cell_type": "markdown",
   "metadata": {
    "id": "sIfNaMOxgFyK"
   },
   "source": [
    "## Исследование данных о российском кинопрокате\n",
    "\n"
   ]
  },
  {
   "cell_type": "markdown",
   "metadata": {},
   "source": [
    "# Описание проекта\n",
    "Заказчик этого исследования — Министерство культуры Российской Федерации.\n",
    "\n",
    "Вам нужно изучить рынок российского кинопроката и выявить текущие тренды. Уделите внимание фильмам, которые получили государственную поддержку. Попробуйте ответить на вопрос, насколько такие фильмы интересны зрителю.\n",
    "\n",
    "Вы будете работать с данными, опубликованными на портале открытых данных Министерства культуры. Набор данных содержит информацию о прокатных удостоверениях, сборах и государственной поддержке фильмов, а также информацию с сайта КиноПоиск."
   ]
  },
  {
   "cell_type": "markdown",
   "metadata": {},
   "source": [
    "# Задачи исследования"
   ]
  },
  {
   "cell_type": "markdown",
   "metadata": {},
   "source": [
    "**Шаг 1. Откройте файлы с данными и объедините их в один датафрейм**\n",
    "1. Импорт и знакомство с данными\n",
    "2. Подготовка и объединение данных в рабочий датафрейм\n",
    "\n",
    "**Шаг 2. Предобработка данных**\n",
    "1. Проверьте типы данных\n",
    "2. Изучите пропуски в датафрейме\n",
    "3. Изучите дубликаты в датафрейме\n",
    "4. Изучите категориальные значения\n",
    "5. Проверьте количественные значения\n",
    "6. Добавьте новые столбцы\n",
    "\n",
    "**Шаг 3. Проведите исследовательский анализ данных**\n",
    "1. Посмотрите, сколько фильмов выходило в прокат каждый год. Посчитайте, какую долю составляют фильмы с указанной информацией о прокате в кинотеатрах.\n",
    "2. Изучите, как менялась динамика проката по годам. В каком году сумма сборов была минимальной? А максимальной?\n",
    "3. С помощью сводной таблицы посчитайте среднюю и медианную сумму сборов для каждого года.\n",
    "4. Определите, влияет ли возрастное ограничение аудитории («6+», «12+», «16+», «18+» и т. д.) на сборы фильма в прокате в период с 2015 по 2019 год? Фильмы с каким возрастным ограничением собрали больше всего денег в прокате? Меняется ли картина в зависимости от года? Если да, предположите, с чем это может быть связано.\n",
    "\n",
    "**Шаг 4. Исследуйте фильмы, которые получили государственную поддержку**\n",
    "1. На этом этапе нет конкретных инструкций и заданий — поищите интересные закономерности в данных. Посмотрите, сколько выделяют средств на поддержку кино. Проверьте, хорошо ли окупаются такие фильмы, какой у них рейтинг.\n",
    "\n",
    "**Шаг 5. Напишите общий вывод**"
   ]
  },
  {
   "cell_type": "markdown",
   "metadata": {
    "id": "3bSlkCsbgFyL"
   },
   "source": [
    "## Откройте файлы с данными и объедините их в один датафрейм. "
   ]
  },
  {
   "cell_type": "code",
   "execution_count": 1,
   "metadata": {
    "id": "dw87FlzMgFyM"
   },
   "outputs": [],
   "source": [
    "import pandas as pd\n",
    "import seaborn as sns\n",
    "import matplotlib.pyplot as plt\n",
    "from pymystem3 import Mystem \n",
    "import numpy as np "
   ]
  },
  {
   "cell_type": "code",
   "execution_count": 2,
   "metadata": {},
   "outputs": [],
   "source": [
    "pd.options.display.float_format = '{:,.2f}'.format"
   ]
  },
  {
   "cell_type": "code",
   "execution_count": 3,
   "metadata": {
    "scrolled": false
   },
   "outputs": [
    {
     "data": {
      "text/html": [
       "<div>\n",
       "<style scoped>\n",
       "    .dataframe tbody tr th:only-of-type {\n",
       "        vertical-align: middle;\n",
       "    }\n",
       "\n",
       "    .dataframe tbody tr th {\n",
       "        vertical-align: top;\n",
       "    }\n",
       "\n",
       "    .dataframe thead th {\n",
       "        text-align: right;\n",
       "    }\n",
       "</style>\n",
       "<table border=\"1\" class=\"dataframe\">\n",
       "  <thead>\n",
       "    <tr style=\"text-align: right;\">\n",
       "      <th></th>\n",
       "      <th>title</th>\n",
       "      <th>puNumber</th>\n",
       "      <th>show_start_date</th>\n",
       "      <th>type</th>\n",
       "      <th>film_studio</th>\n",
       "      <th>production_country</th>\n",
       "      <th>director</th>\n",
       "      <th>producer</th>\n",
       "      <th>age_restriction</th>\n",
       "      <th>refundable_support</th>\n",
       "      <th>nonrefundable_support</th>\n",
       "      <th>budget</th>\n",
       "      <th>financing_source</th>\n",
       "      <th>ratings</th>\n",
       "      <th>genres</th>\n",
       "    </tr>\n",
       "  </thead>\n",
       "  <tbody>\n",
       "    <tr>\n",
       "      <td>0</td>\n",
       "      <td>Открытый простор</td>\n",
       "      <td>221048915</td>\n",
       "      <td>2015-11-27T12:00:00.000Z</td>\n",
       "      <td>Художественный</td>\n",
       "      <td>Тачстоун Пикчерз, Кобальт Пикчерз, Бикон Пикче...</td>\n",
       "      <td>США</td>\n",
       "      <td>Кевин Костнер</td>\n",
       "      <td>Дэвид Валдес, Кевин Костнер, Джейк Эбертс</td>\n",
       "      <td>«18+» - запрещено для детей</td>\n",
       "      <td>nan</td>\n",
       "      <td>nan</td>\n",
       "      <td>nan</td>\n",
       "      <td>NaN</td>\n",
       "      <td>7.2</td>\n",
       "      <td>боевик,драма,мелодрама</td>\n",
       "    </tr>\n",
       "    <tr>\n",
       "      <td>1</td>\n",
       "      <td>Особо важное задание</td>\n",
       "      <td>111013716</td>\n",
       "      <td>2016-09-13T12:00:00.000Z</td>\n",
       "      <td>Художественный</td>\n",
       "      <td>Киностудия \"Мосфильм\"</td>\n",
       "      <td>СССР</td>\n",
       "      <td>Е.Матвеев</td>\n",
       "      <td>NaN</td>\n",
       "      <td>«6+» - для детей старше 6 лет</td>\n",
       "      <td>nan</td>\n",
       "      <td>nan</td>\n",
       "      <td>nan</td>\n",
       "      <td>NaN</td>\n",
       "      <td>6.6</td>\n",
       "      <td>драма,военный</td>\n",
       "    </tr>\n",
       "    <tr>\n",
       "      <td>2</td>\n",
       "      <td>Особо опасен</td>\n",
       "      <td>221038416</td>\n",
       "      <td>2016-10-10T12:00:00.000Z</td>\n",
       "      <td>Художественный</td>\n",
       "      <td>Юниверсал Пикчерз, Кикстарт Продакшнз, Марк Пл...</td>\n",
       "      <td>США</td>\n",
       "      <td>Тимур Бекмамбетов</td>\n",
       "      <td>Джим Лемли, Джейсон Нетер, Марк Е.Платт, Яйн Смит</td>\n",
       "      <td>«18+» - запрещено для детей</td>\n",
       "      <td>nan</td>\n",
       "      <td>nan</td>\n",
       "      <td>nan</td>\n",
       "      <td>NaN</td>\n",
       "      <td>6.8</td>\n",
       "      <td>фантастика,боевик,триллер</td>\n",
       "    </tr>\n",
       "    <tr>\n",
       "      <td>3</td>\n",
       "      <td>Особо опасен</td>\n",
       "      <td>221026916</td>\n",
       "      <td>2016-06-10T12:00:00.000Z</td>\n",
       "      <td>Художественный</td>\n",
       "      <td>Юниверсал Пикчерз, Кикстарт Продакшнз, Марк Пл...</td>\n",
       "      <td>США</td>\n",
       "      <td>Тимур Бекмамбетов</td>\n",
       "      <td>Джим Лемли, Джейсон Нетер, Марк Е.Платт, Яйн Смит</td>\n",
       "      <td>«18+» - запрещено для детей</td>\n",
       "      <td>nan</td>\n",
       "      <td>nan</td>\n",
       "      <td>nan</td>\n",
       "      <td>NaN</td>\n",
       "      <td>6.8</td>\n",
       "      <td>фантастика,боевик,триллер</td>\n",
       "    </tr>\n",
       "    <tr>\n",
       "      <td>4</td>\n",
       "      <td>Особо опасен</td>\n",
       "      <td>221030815</td>\n",
       "      <td>2015-07-29T12:00:00.000Z</td>\n",
       "      <td>Художественный</td>\n",
       "      <td>Юниверсал Пикчерз, Кикстарт Продакшнз, Марк Пл...</td>\n",
       "      <td>США</td>\n",
       "      <td>Тимур Бекмамбетов</td>\n",
       "      <td>Джим Лемли, Джейсон Нетер, Марк Е.Платт, Яйн Смит</td>\n",
       "      <td>«18+» - запрещено для детей</td>\n",
       "      <td>nan</td>\n",
       "      <td>nan</td>\n",
       "      <td>nan</td>\n",
       "      <td>NaN</td>\n",
       "      <td>6.8</td>\n",
       "      <td>фантастика,боевик,триллер</td>\n",
       "    </tr>\n",
       "  </tbody>\n",
       "</table>\n",
       "</div>"
      ],
      "text/plain": [
       "                  title   puNumber           show_start_date            type  \\\n",
       "0      Открытый простор  221048915  2015-11-27T12:00:00.000Z  Художественный   \n",
       "1  Особо важное задание  111013716  2016-09-13T12:00:00.000Z  Художественный   \n",
       "2          Особо опасен  221038416  2016-10-10T12:00:00.000Z  Художественный   \n",
       "3          Особо опасен  221026916  2016-06-10T12:00:00.000Z  Художественный   \n",
       "4          Особо опасен  221030815  2015-07-29T12:00:00.000Z  Художественный   \n",
       "\n",
       "                                         film_studio production_country  \\\n",
       "0  Тачстоун Пикчерз, Кобальт Пикчерз, Бикон Пикче...                США   \n",
       "1                              Киностудия \"Мосфильм\"               СССР   \n",
       "2  Юниверсал Пикчерз, Кикстарт Продакшнз, Марк Пл...                США   \n",
       "3  Юниверсал Пикчерз, Кикстарт Продакшнз, Марк Пл...                США   \n",
       "4  Юниверсал Пикчерз, Кикстарт Продакшнз, Марк Пл...                США   \n",
       "\n",
       "            director                                           producer  \\\n",
       "0      Кевин Костнер          Дэвид Валдес, Кевин Костнер, Джейк Эбертс   \n",
       "1          Е.Матвеев                                                NaN   \n",
       "2  Тимур Бекмамбетов  Джим Лемли, Джейсон Нетер, Марк Е.Платт, Яйн Смит   \n",
       "3  Тимур Бекмамбетов  Джим Лемли, Джейсон Нетер, Марк Е.Платт, Яйн Смит   \n",
       "4  Тимур Бекмамбетов  Джим Лемли, Джейсон Нетер, Марк Е.Платт, Яйн Смит   \n",
       "\n",
       "                 age_restriction  refundable_support  nonrefundable_support  \\\n",
       "0    «18+» - запрещено для детей                 nan                    nan   \n",
       "1  «6+» - для детей старше 6 лет                 nan                    nan   \n",
       "2    «18+» - запрещено для детей                 nan                    nan   \n",
       "3    «18+» - запрещено для детей                 nan                    nan   \n",
       "4    «18+» - запрещено для детей                 nan                    nan   \n",
       "\n",
       "   budget financing_source ratings                     genres  \n",
       "0     nan              NaN     7.2     боевик,драма,мелодрама  \n",
       "1     nan              NaN     6.6              драма,военный  \n",
       "2     nan              NaN     6.8  фантастика,боевик,триллер  \n",
       "3     nan              NaN     6.8  фантастика,боевик,триллер  \n",
       "4     nan              NaN     6.8  фантастика,боевик,триллер  "
      ]
     },
     "metadata": {},
     "output_type": "display_data"
    }
   ],
   "source": [
    "movies=pd.read_csv('/datasets/mkrf_movies.csv')\n",
    "display(movies.head())"
   ]
  },
  {
   "cell_type": "code",
   "execution_count": 4,
   "metadata": {},
   "outputs": [
    {
     "data": {
      "text/html": [
       "<div>\n",
       "<style scoped>\n",
       "    .dataframe tbody tr th:only-of-type {\n",
       "        vertical-align: middle;\n",
       "    }\n",
       "\n",
       "    .dataframe tbody tr th {\n",
       "        vertical-align: top;\n",
       "    }\n",
       "\n",
       "    .dataframe thead th {\n",
       "        text-align: right;\n",
       "    }\n",
       "</style>\n",
       "<table border=\"1\" class=\"dataframe\">\n",
       "  <thead>\n",
       "    <tr style=\"text-align: right;\">\n",
       "      <th></th>\n",
       "      <th>title</th>\n",
       "      <th>puNumber</th>\n",
       "      <th>show_start_date</th>\n",
       "      <th>type</th>\n",
       "      <th>film_studio</th>\n",
       "      <th>production_country</th>\n",
       "      <th>director</th>\n",
       "      <th>producer</th>\n",
       "      <th>age_restriction</th>\n",
       "      <th>refundable_support</th>\n",
       "      <th>nonrefundable_support</th>\n",
       "      <th>budget</th>\n",
       "      <th>financing_source</th>\n",
       "      <th>ratings</th>\n",
       "      <th>genres</th>\n",
       "    </tr>\n",
       "  </thead>\n",
       "  <tbody>\n",
       "    <tr>\n",
       "      <td>7481</td>\n",
       "      <td>Сад художника: Американский импрессионизм</td>\n",
       "      <td>126008019</td>\n",
       "      <td>2019-12-23T12:00:00.000Z</td>\n",
       "      <td>Прочие</td>\n",
       "      <td>Севен Артс Продакшнз</td>\n",
       "      <td>Великобритания</td>\n",
       "      <td>Фил Грабски</td>\n",
       "      <td>Фил Грабски</td>\n",
       "      <td>«12+» - для детей старше 12 лет</td>\n",
       "      <td>nan</td>\n",
       "      <td>nan</td>\n",
       "      <td>nan</td>\n",
       "      <td>NaN</td>\n",
       "      <td>NaN</td>\n",
       "      <td>NaN</td>\n",
       "    </tr>\n",
       "    <tr>\n",
       "      <td>7482</td>\n",
       "      <td>Звериная ярость</td>\n",
       "      <td>121037819</td>\n",
       "      <td>2019-12-24T12:00:00.000Z</td>\n",
       "      <td>Художественный</td>\n",
       "      <td>Дэниел Гродник Продакшнз, Вандерфилм Медиа Кор...</td>\n",
       "      <td>США</td>\n",
       "      <td>Ник Пауэлл</td>\n",
       "      <td>Джефф Боулер, Дэниэл Гродник, Луильо Руис, Брэ...</td>\n",
       "      <td>«16+» - для детей старше 16 лет</td>\n",
       "      <td>nan</td>\n",
       "      <td>nan</td>\n",
       "      <td>nan</td>\n",
       "      <td>NaN</td>\n",
       "      <td>5.4</td>\n",
       "      <td>боевик,триллер</td>\n",
       "    </tr>\n",
       "    <tr>\n",
       "      <td>7483</td>\n",
       "      <td>Щенячий патруль: Скорей спешим на помощь!</td>\n",
       "      <td>124010819</td>\n",
       "      <td>2019-12-28T12:00:00.000Z</td>\n",
       "      <td>Художественный</td>\n",
       "      <td>Никелодеон Анимейшн Студиос, Спин Мастер</td>\n",
       "      <td>США - Канада</td>\n",
       "      <td>Чарльз Е.Бастьен</td>\n",
       "      <td>Дженнифер Додж</td>\n",
       "      <td>«0+» - для любой зрительской аудитории</td>\n",
       "      <td>nan</td>\n",
       "      <td>nan</td>\n",
       "      <td>nan</td>\n",
       "      <td>NaN</td>\n",
       "      <td>NaN</td>\n",
       "      <td>NaN</td>\n",
       "    </tr>\n",
       "    <tr>\n",
       "      <td>7484</td>\n",
       "      <td>Машины песенки. Серия \"Испанские мотивы\"</td>\n",
       "      <td>124010619</td>\n",
       "      <td>2019-12-30T12:00:00.000Z</td>\n",
       "      <td>Анимационный</td>\n",
       "      <td>Анимаккорд Лтд., ООО Студия \"АНИМАККОРД\"</td>\n",
       "      <td>Республика Кипр, Россия</td>\n",
       "      <td>А.Беляев</td>\n",
       "      <td>Д.Ловейко</td>\n",
       "      <td>«0+» - для любой зрительской аудитории</td>\n",
       "      <td>nan</td>\n",
       "      <td>nan</td>\n",
       "      <td>nan</td>\n",
       "      <td>NaN</td>\n",
       "      <td>NaN</td>\n",
       "      <td>NaN</td>\n",
       "    </tr>\n",
       "    <tr>\n",
       "      <td>7485</td>\n",
       "      <td>Машины песенки. Серия \"Когда цветут кактусы\"</td>\n",
       "      <td>124010719</td>\n",
       "      <td>2019-12-30T12:00:00.000Z</td>\n",
       "      <td>Анимационный</td>\n",
       "      <td>Анимаккорд Лтд., ООО Студия \"АНИМАККОРД\"</td>\n",
       "      <td>Республика Кипр, Россия</td>\n",
       "      <td>И.Трусов</td>\n",
       "      <td>Д.Ловейко</td>\n",
       "      <td>«0+» - для любой зрительской аудитории</td>\n",
       "      <td>nan</td>\n",
       "      <td>nan</td>\n",
       "      <td>nan</td>\n",
       "      <td>NaN</td>\n",
       "      <td>6.3</td>\n",
       "      <td>комедия,вестерн</td>\n",
       "    </tr>\n",
       "  </tbody>\n",
       "</table>\n",
       "</div>"
      ],
      "text/plain": [
       "                                             title   puNumber  \\\n",
       "7481     Сад художника: Американский импрессионизм  126008019   \n",
       "7482                               Звериная ярость  121037819   \n",
       "7483     Щенячий патруль: Скорей спешим на помощь!  124010819   \n",
       "7484      Машины песенки. Серия \"Испанские мотивы\"  124010619   \n",
       "7485  Машины песенки. Серия \"Когда цветут кактусы\"  124010719   \n",
       "\n",
       "               show_start_date             type  \\\n",
       "7481  2019-12-23T12:00:00.000Z           Прочие   \n",
       "7482  2019-12-24T12:00:00.000Z   Художественный   \n",
       "7483  2019-12-28T12:00:00.000Z   Художественный   \n",
       "7484  2019-12-30T12:00:00.000Z     Анимационный   \n",
       "7485  2019-12-30T12:00:00.000Z     Анимационный   \n",
       "\n",
       "                                            film_studio  \\\n",
       "7481                               Севен Артс Продакшнз   \n",
       "7482  Дэниел Гродник Продакшнз, Вандерфилм Медиа Кор...   \n",
       "7483           Никелодеон Анимейшн Студиос, Спин Мастер   \n",
       "7484           Анимаккорд Лтд., ООО Студия \"АНИМАККОРД\"   \n",
       "7485           Анимаккорд Лтд., ООО Студия \"АНИМАККОРД\"   \n",
       "\n",
       "           production_country          director  \\\n",
       "7481           Великобритания       Фил Грабски   \n",
       "7482                      США        Ник Пауэлл   \n",
       "7483             США - Канада  Чарльз Е.Бастьен   \n",
       "7484  Республика Кипр, Россия          А.Беляев   \n",
       "7485  Республика Кипр, Россия          И.Трусов   \n",
       "\n",
       "                                               producer  \\\n",
       "7481                                        Фил Грабски   \n",
       "7482  Джефф Боулер, Дэниэл Гродник, Луильо Руис, Брэ...   \n",
       "7483                                     Дженнифер Додж   \n",
       "7484                                          Д.Ловейко   \n",
       "7485                                          Д.Ловейко   \n",
       "\n",
       "                             age_restriction  refundable_support  \\\n",
       "7481         «12+» - для детей старше 12 лет                 nan   \n",
       "7482         «16+» - для детей старше 16 лет                 nan   \n",
       "7483  «0+» - для любой зрительской аудитории                 nan   \n",
       "7484  «0+» - для любой зрительской аудитории                 nan   \n",
       "7485  «0+» - для любой зрительской аудитории                 nan   \n",
       "\n",
       "      nonrefundable_support  budget financing_source ratings           genres  \n",
       "7481                    nan     nan              NaN     NaN              NaN  \n",
       "7482                    nan     nan              NaN     5.4   боевик,триллер  \n",
       "7483                    nan     nan              NaN     NaN              NaN  \n",
       "7484                    nan     nan              NaN     NaN              NaN  \n",
       "7485                    nan     nan              NaN     6.3  комедия,вестерн  "
      ]
     },
     "metadata": {},
     "output_type": "display_data"
    }
   ],
   "source": [
    "display(movies.tail())"
   ]
  },
  {
   "cell_type": "code",
   "execution_count": 5,
   "metadata": {},
   "outputs": [
    {
     "data": {
      "text/html": [
       "<div>\n",
       "<style scoped>\n",
       "    .dataframe tbody tr th:only-of-type {\n",
       "        vertical-align: middle;\n",
       "    }\n",
       "\n",
       "    .dataframe tbody tr th {\n",
       "        vertical-align: top;\n",
       "    }\n",
       "\n",
       "    .dataframe thead th {\n",
       "        text-align: right;\n",
       "    }\n",
       "</style>\n",
       "<table border=\"1\" class=\"dataframe\">\n",
       "  <thead>\n",
       "    <tr style=\"text-align: right;\">\n",
       "      <th></th>\n",
       "      <th>count</th>\n",
       "      <th>mean</th>\n",
       "      <th>std</th>\n",
       "      <th>min</th>\n",
       "      <th>25%</th>\n",
       "      <th>50%</th>\n",
       "      <th>75%</th>\n",
       "      <th>max</th>\n",
       "    </tr>\n",
       "  </thead>\n",
       "  <tbody>\n",
       "    <tr>\n",
       "      <td>refundable_support</td>\n",
       "      <td>332.00</td>\n",
       "      <td>11,864,457.83</td>\n",
       "      <td>24,916,555.26</td>\n",
       "      <td>0.00</td>\n",
       "      <td>0.00</td>\n",
       "      <td>0.00</td>\n",
       "      <td>15,000,000.00</td>\n",
       "      <td>180,000,000.00</td>\n",
       "    </tr>\n",
       "    <tr>\n",
       "      <td>nonrefundable_support</td>\n",
       "      <td>332.00</td>\n",
       "      <td>48,980,988.89</td>\n",
       "      <td>59,980,117.92</td>\n",
       "      <td>0.00</td>\n",
       "      <td>25,000,000.00</td>\n",
       "      <td>30,000,000.00</td>\n",
       "      <td>40,375,000.00</td>\n",
       "      <td>400,000,000.00</td>\n",
       "    </tr>\n",
       "    <tr>\n",
       "      <td>budget</td>\n",
       "      <td>332.00</td>\n",
       "      <td>127,229,716.68</td>\n",
       "      <td>188,588,333.12</td>\n",
       "      <td>0.00</td>\n",
       "      <td>42,000,000.00</td>\n",
       "      <td>68,649,916.00</td>\n",
       "      <td>141,985,319.50</td>\n",
       "      <td>2,305,074,303.00</td>\n",
       "    </tr>\n",
       "  </tbody>\n",
       "</table>\n",
       "</div>"
      ],
      "text/plain": [
       "                       count           mean            std  min           25%  \\\n",
       "refundable_support    332.00  11,864,457.83  24,916,555.26 0.00          0.00   \n",
       "nonrefundable_support 332.00  48,980,988.89  59,980,117.92 0.00 25,000,000.00   \n",
       "budget                332.00 127,229,716.68 188,588,333.12 0.00 42,000,000.00   \n",
       "\n",
       "                                50%            75%              max  \n",
       "refundable_support             0.00  15,000,000.00   180,000,000.00  \n",
       "nonrefundable_support 30,000,000.00  40,375,000.00   400,000,000.00  \n",
       "budget                68,649,916.00 141,985,319.50 2,305,074,303.00  "
      ]
     },
     "metadata": {},
     "output_type": "display_data"
    }
   ],
   "source": [
    "display(movies.describe().T)"
   ]
  },
  {
   "cell_type": "code",
   "execution_count": 6,
   "metadata": {},
   "outputs": [
    {
     "name": "stdout",
     "output_type": "stream",
     "text": [
      "<class 'pandas.core.frame.DataFrame'>\n",
      "RangeIndex: 7486 entries, 0 to 7485\n",
      "Data columns (total 15 columns):\n",
      "title                    7486 non-null object\n",
      "puNumber                 7486 non-null object\n",
      "show_start_date          7486 non-null object\n",
      "type                     7486 non-null object\n",
      "film_studio              7468 non-null object\n",
      "production_country       7484 non-null object\n",
      "director                 7477 non-null object\n",
      "producer                 6918 non-null object\n",
      "age_restriction          7486 non-null object\n",
      "refundable_support       332 non-null float64\n",
      "nonrefundable_support    332 non-null float64\n",
      "budget                   332 non-null float64\n",
      "financing_source         332 non-null object\n",
      "ratings                  6519 non-null object\n",
      "genres                   6510 non-null object\n",
      "dtypes: float64(3), object(12)\n",
      "memory usage: 9.2 MB\n"
     ]
    }
   ],
   "source": [
    "movies.info(memory_usage='deep') "
   ]
  },
  {
   "cell_type": "markdown",
   "metadata": {},
   "source": [
    "Таблица mkrf_movies содержит информацию из реестра прокатных удостоверений. У одного фильма может быть несколько прокатных удостоверений.\n",
    "\n",
    "1. title — название фильма;\n",
    "2. puNumber — номер прокатного удостоверения;\n",
    "3. show_start_date — дата премьеры фильма;\n",
    "4. type — тип фильма;\n",
    "5. film_studio — студия-производитель;\n",
    "6. production_country — страна-производитель;\n",
    "7. director — режиссёр;\n",
    "8. producer — продюсер;\n",
    "9. age_restriction — возрастная категория;\n",
    "10. refundable_support — объём возвратных средств государственной поддержки;\n",
    "11. nonrefundable_support — объём невозвратных средств государственной поддержки;\n",
    "12. financing_source — источник государственного финансирования;\n",
    "13. budget — общий бюджет фильма;\n",
    "14. ratings — рейтинг фильма на КиноПоиске;\n",
    "15. genres — жанр фильма."
   ]
  },
  {
   "cell_type": "code",
   "execution_count": 7,
   "metadata": {},
   "outputs": [
    {
     "data": {
      "text/html": [
       "<div>\n",
       "<style scoped>\n",
       "    .dataframe tbody tr th:only-of-type {\n",
       "        vertical-align: middle;\n",
       "    }\n",
       "\n",
       "    .dataframe tbody tr th {\n",
       "        vertical-align: top;\n",
       "    }\n",
       "\n",
       "    .dataframe thead th {\n",
       "        text-align: right;\n",
       "    }\n",
       "</style>\n",
       "<table border=\"1\" class=\"dataframe\">\n",
       "  <thead>\n",
       "    <tr style=\"text-align: right;\">\n",
       "      <th></th>\n",
       "      <th>puNumber</th>\n",
       "      <th>box_office</th>\n",
       "    </tr>\n",
       "  </thead>\n",
       "  <tbody>\n",
       "    <tr>\n",
       "      <td>0</td>\n",
       "      <td>111000113</td>\n",
       "      <td>2,450.00</td>\n",
       "    </tr>\n",
       "    <tr>\n",
       "      <td>1</td>\n",
       "      <td>111000115</td>\n",
       "      <td>61,040.00</td>\n",
       "    </tr>\n",
       "    <tr>\n",
       "      <td>2</td>\n",
       "      <td>111000116</td>\n",
       "      <td>153,030,013.40</td>\n",
       "    </tr>\n",
       "    <tr>\n",
       "      <td>3</td>\n",
       "      <td>111000117</td>\n",
       "      <td>12,260,956.00</td>\n",
       "    </tr>\n",
       "    <tr>\n",
       "      <td>4</td>\n",
       "      <td>111000118</td>\n",
       "      <td>163,684,057.79</td>\n",
       "    </tr>\n",
       "  </tbody>\n",
       "</table>\n",
       "</div>"
      ],
      "text/plain": [
       "    puNumber     box_office\n",
       "0  111000113       2,450.00\n",
       "1  111000115      61,040.00\n",
       "2  111000116 153,030,013.40\n",
       "3  111000117  12,260,956.00\n",
       "4  111000118 163,684,057.79"
      ]
     },
     "metadata": {},
     "output_type": "display_data"
    }
   ],
   "source": [
    "shows=pd.read_csv('/datasets/mkrf_shows.csv')\n",
    "display(shows.head())"
   ]
  },
  {
   "cell_type": "code",
   "execution_count": 8,
   "metadata": {},
   "outputs": [
    {
     "name": "stdout",
     "output_type": "stream",
     "text": [
      "<class 'pandas.core.frame.DataFrame'>\n",
      "RangeIndex: 3158 entries, 0 to 3157\n",
      "Data columns (total 2 columns):\n",
      "puNumber      3158 non-null int64\n",
      "box_office    3158 non-null float64\n",
      "dtypes: float64(1), int64(1)\n",
      "memory usage: 49.5 KB\n"
     ]
    }
   ],
   "source": [
    "shows.info(memory_usage='deep')"
   ]
  },
  {
   "cell_type": "markdown",
   "metadata": {},
   "source": [
    "Таблица mkrf_shows содержит сведения о показах фильмов в российских кинотеатрах.\n",
    "1. puNumber — номер прокатного удостоверения;\n",
    "2. box_office — сборы в рублях."
   ]
  },
  {
   "cell_type": "markdown",
   "metadata": {},
   "source": [
    "Изучив столбец puNumber мы обнаружили, что в датафрейме movies он имеет тип object - имеет пробелы перед или после значения, а также записи 'нет'. "
   ]
  },
  {
   "cell_type": "code",
   "execution_count": 9,
   "metadata": {
    "scrolled": true
   },
   "outputs": [],
   "source": [
    "def no_search(x):\n",
    "    '''Функция возвращает 0, если в строке с номером прокатного удостверения значение \"нет\"'''\n",
    "    if x=='нет':\n",
    "        return 0\n",
    "    else:\n",
    "        return x\n",
    "movies.loc[:,'puNumber'] = movies.loc[:,'puNumber'].map(lambda x: no_search(x))"
   ]
  },
  {
   "cell_type": "code",
   "execution_count": 10,
   "metadata": {},
   "outputs": [],
   "source": [
    "# Заполним пропущенные значения нулями, и изменим тип данных на int32\n",
    "movies['puNumber']=movies['puNumber'].str.strip()\n",
    "movies['puNumber']=movies['puNumber'].fillna(0)\n",
    "movies['puNumber']=movies['puNumber'].astype('int32')"
   ]
  },
  {
   "cell_type": "code",
   "execution_count": 11,
   "metadata": {},
   "outputs": [
    {
     "name": "stdout",
     "output_type": "stream",
     "text": [
      "<class 'pandas.core.frame.DataFrame'>\n",
      "Int64Index: 7486 entries, 0 to 7485\n",
      "Data columns (total 16 columns):\n",
      "title                    7486 non-null object\n",
      "puNumber                 7486 non-null int32\n",
      "show_start_date          7486 non-null object\n",
      "type                     7486 non-null object\n",
      "film_studio              7468 non-null object\n",
      "production_country       7484 non-null object\n",
      "director                 7477 non-null object\n",
      "producer                 6918 non-null object\n",
      "age_restriction          7486 non-null object\n",
      "refundable_support       332 non-null float64\n",
      "nonrefundable_support    332 non-null float64\n",
      "budget                   332 non-null float64\n",
      "financing_source         332 non-null object\n",
      "ratings                  6519 non-null object\n",
      "genres                   6510 non-null object\n",
      "box_office               3158 non-null float64\n",
      "dtypes: float64(4), int32(1), object(11)\n",
      "memory usage: 8.9 MB\n"
     ]
    }
   ],
   "source": [
    "# Объединим данный в один датафрейм по столбцу puNumber\n",
    "df=movies.merge(shows, on='puNumber', how='left')\n",
    "df.info(memory_usage='deep')"
   ]
  },
  {
   "cell_type": "markdown",
   "metadata": {},
   "source": [
    "### Вывод"
   ]
  },
  {
   "cell_type": "markdown",
   "metadata": {},
   "source": [
    "Мы изучили данные, подготовили их к объединению, и получили один рабочий датафрейм.\n",
    "\n",
    "Предварительно можно утверждать, что, данных достаточно для ответа на поставленные вопросы. Но встречаются пропуски в данных, а в некоторых столбцах встречаются аномальные значения.\n",
    "\n",
    "Чтобы двигаться дальше, нужно устранить проблемы в данных."
   ]
  },
  {
   "cell_type": "markdown",
   "metadata": {
    "id": "KLDGpPG0gFyM"
   },
   "source": [
    "##  Предобработка данных"
   ]
  },
  {
   "cell_type": "markdown",
   "metadata": {
    "id": "ssWwKXsxgFyO"
   },
   "source": [
    "### Проверьте типы данных"
   ]
  },
  {
   "cell_type": "code",
   "execution_count": 12,
   "metadata": {
    "id": "kVGSplJOgFyO"
   },
   "outputs": [],
   "source": [
    "# Изменим формат времени\n",
    "df['show_start_date'] = pd.to_datetime(df['show_start_date'], format='%Y-%m-%dT%H:%M:%S')"
   ]
  },
  {
   "cell_type": "markdown",
   "metadata": {},
   "source": [
    "Типы данных других столбцов мы будем изменять далее по мере их исследования."
   ]
  },
  {
   "cell_type": "markdown",
   "metadata": {
    "id": "i0MOLbF-gFyP"
   },
   "source": [
    "### Изучите пропуски в датафрейме"
   ]
  },
  {
   "cell_type": "code",
   "execution_count": 13,
   "metadata": {
    "id": "8MJD_lkngFyP"
   },
   "outputs": [],
   "source": [
    "# Заполним пропуски на unknown и изменим тип данных.\n",
    "df['producer']=df['producer'].fillna('unknown').astype('category')\n",
    "df['director']=df['director'].fillna('unknown').astype('category')\n",
    "df['film_studio']=df['film_studio'].fillna('unknown').astype('category')\n",
    "df['genres']=df['genres'].fillna('unknown').astype('category')"
   ]
  },
  {
   "cell_type": "code",
   "execution_count": 14,
   "metadata": {},
   "outputs": [],
   "source": [
    "# Пропущенные значения столбцов с гос.поддержкой заменим на 0.\n",
    "df['refundable_support']=df['refundable_support'].fillna(0)\n",
    "df['nonrefundable_support']=df['nonrefundable_support'].fillna(0)"
   ]
  },
  {
   "cell_type": "code",
   "execution_count": 15,
   "metadata": {},
   "outputs": [],
   "source": [
    "# Обработаем столбец с данными о возрастном рейтинге и оставим только число с возрастном \n",
    "df['age_restriction'] = df['age_restriction'].map(lambda x: x[0: x.find('+')] if '+' in x else x)\n",
    "df['age_restriction'] = df['age_restriction'].str[1:]\n",
    "df['age_restriction'] = df['age_restriction'].fillna(-1)\n",
    "df['age_restriction'] = df['age_restriction'].astype('int')"
   ]
  },
  {
   "cell_type": "markdown",
   "metadata": {
    "id": "4c6k1t9ygFyQ"
   },
   "source": [
    "### Изучите дубликаты в датафрейме"
   ]
  },
  {
   "cell_type": "code",
   "execution_count": 16,
   "metadata": {
    "id": "aKck8RIdgFyQ"
   },
   "outputs": [
    {
     "data": {
      "text/plain": [
       "День святого Валентина_                                                      5\n",
       "Непокоренный.                                                                4\n",
       "Красавчик-2                                                                  4\n",
       "Прощание                                                                     4\n",
       "Жена путешественника во времени                                              4\n",
       "                                                                            ..\n",
       "Счастливчик _                                                                1\n",
       "Нация убийц                                                                  1\n",
       "Сборник короткометражных фильмов ужасов                                      1\n",
       "Машкины Cтрашилки. Серия \"Приводящая в трепет сага о велосипеде-призраке\"    1\n",
       "Фиксики (серия \"Анализ крови\")                                               1\n",
       "Name: title, Length: 6772, dtype: int64"
      ]
     },
     "execution_count": 16,
     "metadata": {},
     "output_type": "execute_result"
    }
   ],
   "source": [
    "df['title'].value_counts()"
   ]
  },
  {
   "cell_type": "code",
   "execution_count": 17,
   "metadata": {},
   "outputs": [
    {
     "data": {
      "text/html": [
       "<div>\n",
       "<style scoped>\n",
       "    .dataframe tbody tr th:only-of-type {\n",
       "        vertical-align: middle;\n",
       "    }\n",
       "\n",
       "    .dataframe tbody tr th {\n",
       "        vertical-align: top;\n",
       "    }\n",
       "\n",
       "    .dataframe thead th {\n",
       "        text-align: right;\n",
       "    }\n",
       "</style>\n",
       "<table border=\"1\" class=\"dataframe\">\n",
       "  <thead>\n",
       "    <tr style=\"text-align: right;\">\n",
       "      <th></th>\n",
       "      <th>title</th>\n",
       "      <th>puNumber</th>\n",
       "      <th>show_start_date</th>\n",
       "      <th>type</th>\n",
       "      <th>film_studio</th>\n",
       "      <th>production_country</th>\n",
       "      <th>director</th>\n",
       "      <th>producer</th>\n",
       "      <th>age_restriction</th>\n",
       "      <th>refundable_support</th>\n",
       "      <th>nonrefundable_support</th>\n",
       "      <th>budget</th>\n",
       "      <th>financing_source</th>\n",
       "      <th>ratings</th>\n",
       "      <th>genres</th>\n",
       "      <th>box_office</th>\n",
       "    </tr>\n",
       "  </thead>\n",
       "  <tbody>\n",
       "    <tr>\n",
       "      <td>3902</td>\n",
       "      <td>День святого Валентина_</td>\n",
       "      <td>221083810</td>\n",
       "      <td>2010-07-15 12:00:00+00:00</td>\n",
       "      <td>Художественный</td>\n",
       "      <td>Уорнер Бразерс, Нью Лайн Синема, Уэйн Райс, Ка...</td>\n",
       "      <td>США</td>\n",
       "      <td>Гарри Маршалл</td>\n",
       "      <td>Сэмюэл Дж.Браун</td>\n",
       "      <td>16</td>\n",
       "      <td>0.00</td>\n",
       "      <td>0.00</td>\n",
       "      <td>nan</td>\n",
       "      <td>NaN</td>\n",
       "      <td>6.7</td>\n",
       "      <td>мелодрама,комедия</td>\n",
       "      <td>nan</td>\n",
       "    </tr>\n",
       "    <tr>\n",
       "      <td>3991</td>\n",
       "      <td>День святого Валентина_</td>\n",
       "      <td>221068010</td>\n",
       "      <td>2010-05-14 12:00:00+00:00</td>\n",
       "      <td>Художественный</td>\n",
       "      <td>Уорнер Бразерс, Нью Лайн Синема, Уэйн Райс, Ка...</td>\n",
       "      <td>США</td>\n",
       "      <td>Гарри Маршалл</td>\n",
       "      <td>Сэмюэл Дж.Браун</td>\n",
       "      <td>16</td>\n",
       "      <td>0.00</td>\n",
       "      <td>0.00</td>\n",
       "      <td>nan</td>\n",
       "      <td>NaN</td>\n",
       "      <td>6.7</td>\n",
       "      <td>мелодрама,комедия</td>\n",
       "      <td>nan</td>\n",
       "    </tr>\n",
       "    <tr>\n",
       "      <td>4070</td>\n",
       "      <td>День святого Валентина_</td>\n",
       "      <td>121002210</td>\n",
       "      <td>2010-02-03 12:00:00+00:00</td>\n",
       "      <td>Художественный</td>\n",
       "      <td>Уорнер Бразерс, Нью Лайн Синема, Уэйн Райс, Ка...</td>\n",
       "      <td>США</td>\n",
       "      <td>Гарри Маршалл</td>\n",
       "      <td>Сэмюэл Дж.Браун</td>\n",
       "      <td>16</td>\n",
       "      <td>0.00</td>\n",
       "      <td>0.00</td>\n",
       "      <td>nan</td>\n",
       "      <td>NaN</td>\n",
       "      <td>6.7</td>\n",
       "      <td>мелодрама,комедия</td>\n",
       "      <td>nan</td>\n",
       "    </tr>\n",
       "    <tr>\n",
       "      <td>4196</td>\n",
       "      <td>День святого Валентина_</td>\n",
       "      <td>221136210</td>\n",
       "      <td>2010-11-30 12:00:00+00:00</td>\n",
       "      <td>Художественный</td>\n",
       "      <td>Уорнер Бразерс, Нью Лайн Синема, Уэйн Райс, Ка...</td>\n",
       "      <td>США</td>\n",
       "      <td>Гарри Маршалл</td>\n",
       "      <td>Сэмюэл Дж.Браун</td>\n",
       "      <td>16</td>\n",
       "      <td>0.00</td>\n",
       "      <td>0.00</td>\n",
       "      <td>nan</td>\n",
       "      <td>NaN</td>\n",
       "      <td>6.7</td>\n",
       "      <td>мелодрама,комедия</td>\n",
       "      <td>nan</td>\n",
       "    </tr>\n",
       "    <tr>\n",
       "      <td>5070</td>\n",
       "      <td>День святого Валентина_</td>\n",
       "      <td>221066410</td>\n",
       "      <td>2010-06-01 12:00:00+00:00</td>\n",
       "      <td>Художественный</td>\n",
       "      <td>Уорнер Бразерс, Нью Лайн Синема, Уэйн Райс, Ка...</td>\n",
       "      <td>США</td>\n",
       "      <td>Гарри Маршалл</td>\n",
       "      <td>Сэмюэл Дж.Браун</td>\n",
       "      <td>16</td>\n",
       "      <td>0.00</td>\n",
       "      <td>0.00</td>\n",
       "      <td>nan</td>\n",
       "      <td>NaN</td>\n",
       "      <td>6.7</td>\n",
       "      <td>мелодрама,комедия</td>\n",
       "      <td>nan</td>\n",
       "    </tr>\n",
       "  </tbody>\n",
       "</table>\n",
       "</div>"
      ],
      "text/plain": [
       "                        title   puNumber           show_start_date  \\\n",
       "3902  День святого Валентина_  221083810 2010-07-15 12:00:00+00:00   \n",
       "3991  День святого Валентина_  221068010 2010-05-14 12:00:00+00:00   \n",
       "4070  День святого Валентина_  121002210 2010-02-03 12:00:00+00:00   \n",
       "4196  День святого Валентина_  221136210 2010-11-30 12:00:00+00:00   \n",
       "5070  День святого Валентина_  221066410 2010-06-01 12:00:00+00:00   \n",
       "\n",
       "                type                                        film_studio  \\\n",
       "3902  Художественный  Уорнер Бразерс, Нью Лайн Синема, Уэйн Райс, Ка...   \n",
       "3991  Художественный  Уорнер Бразерс, Нью Лайн Синема, Уэйн Райс, Ка...   \n",
       "4070  Художественный  Уорнер Бразерс, Нью Лайн Синема, Уэйн Райс, Ка...   \n",
       "4196  Художественный  Уорнер Бразерс, Нью Лайн Синема, Уэйн Райс, Ка...   \n",
       "5070  Художественный  Уорнер Бразерс, Нью Лайн Синема, Уэйн Райс, Ка...   \n",
       "\n",
       "     production_country       director         producer  age_restriction  \\\n",
       "3902                США  Гарри Маршалл  Сэмюэл Дж.Браун               16   \n",
       "3991                США  Гарри Маршалл  Сэмюэл Дж.Браун               16   \n",
       "4070                США  Гарри Маршалл  Сэмюэл Дж.Браун               16   \n",
       "4196                США  Гарри Маршалл  Сэмюэл Дж.Браун               16   \n",
       "5070                США  Гарри Маршалл  Сэмюэл Дж.Браун               16   \n",
       "\n",
       "      refundable_support  nonrefundable_support  budget financing_source  \\\n",
       "3902                0.00                   0.00     nan              NaN   \n",
       "3991                0.00                   0.00     nan              NaN   \n",
       "4070                0.00                   0.00     nan              NaN   \n",
       "4196                0.00                   0.00     nan              NaN   \n",
       "5070                0.00                   0.00     nan              NaN   \n",
       "\n",
       "     ratings             genres  box_office  \n",
       "3902     6.7  мелодрама,комедия         nan  \n",
       "3991     6.7  мелодрама,комедия         nan  \n",
       "4070     6.7  мелодрама,комедия         nan  \n",
       "4196     6.7  мелодрама,комедия         nan  \n",
       "5070     6.7  мелодрама,комедия         nan  "
      ]
     },
     "metadata": {},
     "output_type": "display_data"
    }
   ],
   "source": [
    "display(df.query('title== \"День святого Валентина_\" '))"
   ]
  },
  {
   "cell_type": "markdown",
   "metadata": {},
   "source": [
    "Один и тот же фильм, имеет разные номера прокатного удостверения и разные даты начала проката. Это может быть связано с различными прокатными зонами."
   ]
  },
  {
   "cell_type": "markdown",
   "metadata": {
    "id": "52fOPrEBgFyQ"
   },
   "source": [
    "### Изучите категориальные значения"
   ]
  },
  {
   "cell_type": "code",
   "execution_count": 18,
   "metadata": {
    "id": "PnXKIVdFgFyR"
   },
   "outputs": [
    {
     "data": {
      "text/plain": [
       "array(['Художественный', 'Анимационный', 'Прочие', 'Документальный',\n",
       "       'Научно-популярный', ' Художественный', ' Анимационный',\n",
       "       'Музыкально-развлекательный'], dtype=object)"
      ]
     },
     "execution_count": 18,
     "metadata": {},
     "output_type": "execute_result"
    }
   ],
   "source": [
    "df['type'].unique()"
   ]
  },
  {
   "cell_type": "markdown",
   "metadata": {},
   "source": [
    "Значения этого столбца имеют пробелы в начале или в конце, нужно от них избавиться"
   ]
  },
  {
   "cell_type": "code",
   "execution_count": 19,
   "metadata": {},
   "outputs": [],
   "source": [
    "df['type']=df['type'].str.strip()"
   ]
  },
  {
   "cell_type": "markdown",
   "metadata": {
    "id": "XFSN5lrEgFyR"
   },
   "source": [
    "### Проверьте количественные значения"
   ]
  },
  {
   "cell_type": "code",
   "execution_count": 20,
   "metadata": {
    "id": "YbzClBxagFyS"
   },
   "outputs": [
    {
     "data": {
      "text/html": [
       "<div>\n",
       "<style scoped>\n",
       "    .dataframe tbody tr th:only-of-type {\n",
       "        vertical-align: middle;\n",
       "    }\n",
       "\n",
       "    .dataframe tbody tr th {\n",
       "        vertical-align: top;\n",
       "    }\n",
       "\n",
       "    .dataframe thead th {\n",
       "        text-align: right;\n",
       "    }\n",
       "</style>\n",
       "<table border=\"1\" class=\"dataframe\">\n",
       "  <thead>\n",
       "    <tr style=\"text-align: right;\">\n",
       "      <th></th>\n",
       "      <th>title</th>\n",
       "      <th>puNumber</th>\n",
       "      <th>show_start_date</th>\n",
       "      <th>type</th>\n",
       "      <th>film_studio</th>\n",
       "      <th>production_country</th>\n",
       "      <th>director</th>\n",
       "      <th>producer</th>\n",
       "      <th>age_restriction</th>\n",
       "      <th>refundable_support</th>\n",
       "      <th>nonrefundable_support</th>\n",
       "      <th>budget</th>\n",
       "      <th>financing_source</th>\n",
       "      <th>ratings</th>\n",
       "      <th>genres</th>\n",
       "      <th>box_office</th>\n",
       "    </tr>\n",
       "  </thead>\n",
       "  <tbody>\n",
       "    <tr>\n",
       "      <td>2053</td>\n",
       "      <td>14+</td>\n",
       "      <td>111023614</td>\n",
       "      <td>2014-12-19 12:00:00+00:00</td>\n",
       "      <td>Художественный</td>\n",
       "      <td>ООО Киностудия  \"Сентябрь\"</td>\n",
       "      <td>Россия</td>\n",
       "      <td>А.Зайцев</td>\n",
       "      <td>О.Гранина, А.Зайцев</td>\n",
       "      <td>16</td>\n",
       "      <td>0.00</td>\n",
       "      <td>23,000,000.00</td>\n",
       "      <td>0.00</td>\n",
       "      <td>Министерство культуры, Фонд кино</td>\n",
       "      <td>6.6</td>\n",
       "      <td>мелодрама</td>\n",
       "      <td>10,234,016.10</td>\n",
       "    </tr>\n",
       "    <tr>\n",
       "      <td>2058</td>\n",
       "      <td>Дуxless 2</td>\n",
       "      <td>111000415</td>\n",
       "      <td>2015-01-26 12:00:00+00:00</td>\n",
       "      <td>Художественный</td>\n",
       "      <td>ООО \"Киностудия \"Слово\", ООО \"Арт Пикчерс Студия\"</td>\n",
       "      <td>Россия</td>\n",
       "      <td>Р.Прыгунов</td>\n",
       "      <td>П.Ануров, Ф.Бондарчук, Д.Рудовский</td>\n",
       "      <td>16</td>\n",
       "      <td>0.00</td>\n",
       "      <td>75,000,000.00</td>\n",
       "      <td>0.00</td>\n",
       "      <td>Фонд кино</td>\n",
       "      <td>6.6</td>\n",
       "      <td>драма</td>\n",
       "      <td>446,163,511.00</td>\n",
       "    </tr>\n",
       "    <tr>\n",
       "      <td>2472</td>\n",
       "      <td>Воин (2015)</td>\n",
       "      <td>111017315</td>\n",
       "      <td>2015-09-28 12:00:00+00:00</td>\n",
       "      <td>Художественный</td>\n",
       "      <td>ООО \"Форпост Продакшн\", ООО \"Арт Пикчерс Студия\"</td>\n",
       "      <td>Россия</td>\n",
       "      <td>А.Андрианов</td>\n",
       "      <td>ООО \"Арт Пикчерс Студия\"</td>\n",
       "      <td>12</td>\n",
       "      <td>10,000,000.00</td>\n",
       "      <td>70,000,000.00</td>\n",
       "      <td>0.00</td>\n",
       "      <td>Фонд кино</td>\n",
       "      <td>7.8</td>\n",
       "      <td>боевик,драма,криминал</td>\n",
       "      <td>196,572,438.40</td>\n",
       "    </tr>\n",
       "    <tr>\n",
       "      <td>2532</td>\n",
       "      <td>Бармен.</td>\n",
       "      <td>111009615</td>\n",
       "      <td>2015-05-26 12:00:00+00:00</td>\n",
       "      <td>Художественный</td>\n",
       "      <td>АО \"ВайТ Медиа\", ООО \"Арт Пикчерс Студия\"</td>\n",
       "      <td>Россия</td>\n",
       "      <td>Д.Штурманова</td>\n",
       "      <td>Т.Вайнштейн</td>\n",
       "      <td>16</td>\n",
       "      <td>20,000,000.00</td>\n",
       "      <td>0.00</td>\n",
       "      <td>0.00</td>\n",
       "      <td>Фонд кино</td>\n",
       "      <td>6.2</td>\n",
       "      <td>комедия,фэнтези</td>\n",
       "      <td>67,418,974.80</td>\n",
       "    </tr>\n",
       "    <tr>\n",
       "      <td>2615</td>\n",
       "      <td>Савва. Сердце воина</td>\n",
       "      <td>114001715</td>\n",
       "      <td>2015-07-21 12:00:00+00:00</td>\n",
       "      <td>Анимационный</td>\n",
       "      <td>ООО \"Глюкоза Продакшн\", ООО \"Арт Пикчерс Студия\"</td>\n",
       "      <td>Россия</td>\n",
       "      <td>М.Фадеев</td>\n",
       "      <td>А.Чистяков</td>\n",
       "      <td>6</td>\n",
       "      <td>60,000,000.00</td>\n",
       "      <td>100,000,000.00</td>\n",
       "      <td>0.00</td>\n",
       "      <td>Фонд кино</td>\n",
       "      <td>4.6</td>\n",
       "      <td>мультфильм,приключения,фэнтези</td>\n",
       "      <td>184,487,551.40</td>\n",
       "    </tr>\n",
       "  </tbody>\n",
       "</table>\n",
       "</div>"
      ],
      "text/plain": [
       "                    title   puNumber           show_start_date  \\\n",
       "2053                  14+  111023614 2014-12-19 12:00:00+00:00   \n",
       "2058            Дуxless 2  111000415 2015-01-26 12:00:00+00:00   \n",
       "2472          Воин (2015)  111017315 2015-09-28 12:00:00+00:00   \n",
       "2532              Бармен.  111009615 2015-05-26 12:00:00+00:00   \n",
       "2615  Савва. Сердце воина  114001715 2015-07-21 12:00:00+00:00   \n",
       "\n",
       "                type                                        film_studio  \\\n",
       "2053  Художественный                         ООО Киностудия  \"Сентябрь\"   \n",
       "2058  Художественный  ООО \"Киностудия \"Слово\", ООО \"Арт Пикчерс Студия\"   \n",
       "2472  Художественный   ООО \"Форпост Продакшн\", ООО \"Арт Пикчерс Студия\"   \n",
       "2532  Художественный          АО \"ВайТ Медиа\", ООО \"Арт Пикчерс Студия\"   \n",
       "2615    Анимационный   ООО \"Глюкоза Продакшн\", ООО \"Арт Пикчерс Студия\"   \n",
       "\n",
       "     production_country      director                            producer  \\\n",
       "2053             Россия      А.Зайцев                 О.Гранина, А.Зайцев   \n",
       "2058             Россия    Р.Прыгунов  П.Ануров, Ф.Бондарчук, Д.Рудовский   \n",
       "2472             Россия   А.Андрианов            ООО \"Арт Пикчерс Студия\"   \n",
       "2532             Россия  Д.Штурманова                         Т.Вайнштейн   \n",
       "2615             Россия      М.Фадеев                          А.Чистяков   \n",
       "\n",
       "      age_restriction  refundable_support  nonrefundable_support  budget  \\\n",
       "2053               16                0.00          23,000,000.00    0.00   \n",
       "2058               16                0.00          75,000,000.00    0.00   \n",
       "2472               12       10,000,000.00          70,000,000.00    0.00   \n",
       "2532               16       20,000,000.00                   0.00    0.00   \n",
       "2615                6       60,000,000.00         100,000,000.00    0.00   \n",
       "\n",
       "                      financing_source ratings  \\\n",
       "2053  Министерство культуры, Фонд кино     6.6   \n",
       "2058                         Фонд кино     6.6   \n",
       "2472                         Фонд кино     7.8   \n",
       "2532                         Фонд кино     6.2   \n",
       "2615                         Фонд кино     4.6   \n",
       "\n",
       "                              genres     box_office  \n",
       "2053                       мелодрама  10,234,016.10  \n",
       "2058                           драма 446,163,511.00  \n",
       "2472           боевик,драма,криминал 196,572,438.40  \n",
       "2532                 комедия,фэнтези  67,418,974.80  \n",
       "2615  мультфильм,приключения,фэнтези 184,487,551.40  "
      ]
     },
     "metadata": {},
     "output_type": "display_data"
    }
   ],
   "source": [
    "# Посмотрим, есть ли данные, в которых размер поддержки превышает общий бюджет фильма\n",
    "display(df.query('(refundable_support > budget) or (nonrefundable_support > budget)').head())"
   ]
  },
  {
   "cell_type": "code",
   "execution_count": 21,
   "metadata": {},
   "outputs": [],
   "source": [
    "# Для данных, у которых бюджет неизвестен заполним пропуски суммой оказываемой поддеркжи\n",
    "df['budget']=df['budget'].fillna(df['refundable_support']+df['nonrefundable_support'])"
   ]
  },
  {
   "cell_type": "code",
   "execution_count": 22,
   "metadata": {},
   "outputs": [],
   "source": [
    "# Напишем функцию, с помощью которой по возможности избавимся от нулевых значений в поле бюджета\n",
    "def zero_budget(budget, refund, nonrefund):\n",
    "    '''Функция возвращает сумму поддержки, если бюджет равен 0'''\n",
    "    if budget == 0:\n",
    "        return refund + nonrefund\n",
    "    else:\n",
    "        return budget\n",
    "df['budget'] = df.apply(lambda x: zero_budget(x.budget, x.refundable_support, x.nonrefundable_support), axis=1)"
   ]
  },
  {
   "cell_type": "code",
   "execution_count": 23,
   "metadata": {},
   "outputs": [
    {
     "data": {
      "text/plain": [
       "array(['7.2', '6.6', '6.8', '7.7', '8.3', '8.0', '7.8', '8.1', '7.1',\n",
       "       '6.0', '7.4', '5.8', '8.7', '6.3', '6.9', '5.0', '4.3', '7.3',\n",
       "       '7.0', '6.4', nan, '8.2', '7.5', '6.7', '7.9', '5.9', '6.2', '5.6',\n",
       "       '6.5', '2.4', '7.6', '6.1', '8.6', '8.5', '8.8', '5.5', '5.1',\n",
       "       '5.7', '5.4', '99%', '4.4', '4.5', '5.3', '4.1', '8.4', '2.6',\n",
       "       '3.8', '4.6', '4.8', '4.0', '3.0', '1.6', '4.2', '5.2', '4.7',\n",
       "       '4.9', '3.9', '2.7', '3.3', '2.9', '28%', '3.7', '1.4', '3.1',\n",
       "       '97%', '3.5', '3.2', '2.8', '1.5', '2.1', '2.5', '9.2', '3.4',\n",
       "       '1.1', '3.6', '83%', '64%', '91%', '94%', '62%', '79%', '90%',\n",
       "       '19%', '88%', '1.0', '89%', '1.3', '1.9', '1.8', '1.2', '1.7',\n",
       "       '9.0', '98%', '8.9', '9.1'], dtype=object)"
      ]
     },
     "execution_count": 23,
     "metadata": {},
     "output_type": "execute_result"
    }
   ],
   "source": [
    "# Изучим рейтинги фильмов\n",
    "df['ratings'].unique()"
   ]
  },
  {
   "cell_type": "markdown",
   "metadata": {},
   "source": [
    "Видим, что в столбце ratings есть значения в разных форматах, также мы видим, что присутствуют пропуски"
   ]
  },
  {
   "cell_type": "code",
   "execution_count": 24,
   "metadata": {},
   "outputs": [],
   "source": [
    "# Избавимся от процентов и приведем рейтинги к значениям по десятибальной шкале, а также изменим тип на float\n",
    "def ratings(x):\n",
    "    a = x.split('%')[0]\n",
    "    return a\n",
    "def ratings_1(x):\n",
    "    if x>10:\n",
    "        a=x/10\n",
    "        return a\n",
    "    else: return x\n",
    "    \n",
    "df['ratings']=df['ratings'].astype('str')    \n",
    "df.loc[:,'ratings'] = df.loc[:,'ratings'].map(lambda x: ratings(x))\n",
    "df['ratings']=df['ratings'].fillna(-1)\n",
    "df['ratings']=df['ratings'].astype('float')\n",
    "df.loc[:,'ratings'] = df.loc[:,'ratings'].map(lambda x: ratings_1(x))"
   ]
  },
  {
   "cell_type": "code",
   "execution_count": 25,
   "metadata": {},
   "outputs": [
    {
     "data": {
      "text/plain": [
       "array([ 7.2,  6.6,  6.8,  7.7,  8.3,  8. ,  7.8,  8.1,  7.1,  6. ,  7.4,\n",
       "        5.8,  8.7,  6.3,  6.9,  5. ,  4.3,  7.3,  7. ,  6.4, -1. ,  8.2,\n",
       "        7.5,  6.7,  7.9,  5.9,  6.2,  5.6,  6.5,  2.4,  7.6,  6.1,  8.6,\n",
       "        8.5,  8.8,  5.5,  5.1,  5.7,  5.4,  9.9,  4.4,  4.5,  5.3,  4.1,\n",
       "        8.4,  2.6,  3.8,  4.6,  4.8,  4. ,  3. ,  1.6,  4.2,  5.2,  4.7,\n",
       "        4.9,  3.9,  2.7,  3.3,  2.9,  2.8,  3.7,  1.4,  3.1,  9.7,  3.5,\n",
       "        3.2,  1.5,  2.1,  2.5,  9.2,  3.4,  1.1,  3.6,  9.1,  9.4,  9. ,\n",
       "        1.9,  1. ,  8.9,  1.3,  1.8,  1.2,  1.7,  9.8])"
      ]
     },
     "execution_count": 25,
     "metadata": {},
     "output_type": "execute_result"
    }
   ],
   "source": [
    "# Пропущенные значения заполним -1, для того, чтобы мы могли их видеть в дальнейших исследованиях\n",
    "df['ratings']=df['ratings'].fillna(-1)\n",
    "df['ratings'].unique()"
   ]
  },
  {
   "cell_type": "markdown",
   "metadata": {
    "id": "Eu6oWp2CgFyS"
   },
   "source": [
    "### Добавьте новые столбцы"
   ]
  },
  {
   "cell_type": "markdown",
   "metadata": {
    "id": "7GgW-UpAgFyS"
   },
   "source": [
    "Создадим столбец с информацией о годе проката. Выделим год из даты премьеры фильма."
   ]
  },
  {
   "cell_type": "code",
   "execution_count": 26,
   "metadata": {
    "id": "I-yd1DkWgFyT"
   },
   "outputs": [],
   "source": [
    "df['start_year']=df['show_start_date'].dt.year"
   ]
  },
  {
   "cell_type": "code",
   "execution_count": 27,
   "metadata": {},
   "outputs": [
    {
     "data": {
      "text/plain": [
       "[боевик,драма,мелодрама, драма,военный, фантастика,боевик,триллер, драма, мелодрама,комедия, ..., боевик,драма,триллер, документальный,военный,драма, драма,криминал,фильм-нуар, мультфильм,детский,приключения, мелодрама,история,драма]\n",
       "Length: 743\n",
       "Categories (743, object): [боевик,драма,мелодрама, драма,военный, фантастика,боевик,триллер, драма, ..., документальный,военный,драма, драма,криминал,фильм-нуар, мультфильм,детский,приключения, мелодрама,история,драма]"
      ]
     },
     "execution_count": 27,
     "metadata": {},
     "output_type": "execute_result"
    }
   ],
   "source": [
    "df['genres'].unique()"
   ]
  },
  {
   "cell_type": "markdown",
   "metadata": {
    "id": "nFTDLDYOgFyT"
   },
   "source": [
    "Создим два столбца: с именем и фамилией главного режиссёра и основным жанром фильма. В столбцы войдут первые значения из списка режиссёров и жанров соответственно.\n"
   ]
  },
  {
   "cell_type": "code",
   "execution_count": 28,
   "metadata": {
    "id": "LSbRZKbMgFyU",
    "scrolled": false
   },
   "outputs": [],
   "source": [
    "def first_element(x):\n",
    "    '''Функция возвращает первое значение перед знаком \",\" '''\n",
    "    a=x.split(\",\")[0]\n",
    "    return a\n",
    "\n",
    "df['main_genre'] = df['genres'].map(lambda x: first_element(x))"
   ]
  },
  {
   "cell_type": "code",
   "execution_count": 29,
   "metadata": {},
   "outputs": [],
   "source": [
    "df['main_director']=df['director'].map(lambda x: first_element(x))"
   ]
  },
  {
   "cell_type": "code",
   "execution_count": 30,
   "metadata": {},
   "outputs": [
    {
     "data": {
      "text/html": [
       "<div>\n",
       "<style scoped>\n",
       "    .dataframe tbody tr th:only-of-type {\n",
       "        vertical-align: middle;\n",
       "    }\n",
       "\n",
       "    .dataframe tbody tr th {\n",
       "        vertical-align: top;\n",
       "    }\n",
       "\n",
       "    .dataframe thead th {\n",
       "        text-align: right;\n",
       "    }\n",
       "</style>\n",
       "<table border=\"1\" class=\"dataframe\">\n",
       "  <thead>\n",
       "    <tr style=\"text-align: right;\">\n",
       "      <th></th>\n",
       "      <th>title</th>\n",
       "      <th>puNumber</th>\n",
       "      <th>show_start_date</th>\n",
       "      <th>type</th>\n",
       "      <th>film_studio</th>\n",
       "      <th>production_country</th>\n",
       "      <th>director</th>\n",
       "      <th>producer</th>\n",
       "      <th>age_restriction</th>\n",
       "      <th>refundable_support</th>\n",
       "      <th>nonrefundable_support</th>\n",
       "      <th>budget</th>\n",
       "      <th>financing_source</th>\n",
       "      <th>ratings</th>\n",
       "      <th>genres</th>\n",
       "      <th>box_office</th>\n",
       "      <th>start_year</th>\n",
       "      <th>main_genre</th>\n",
       "      <th>main_director</th>\n",
       "    </tr>\n",
       "  </thead>\n",
       "  <tbody>\n",
       "    <tr>\n",
       "      <td>0</td>\n",
       "      <td>Открытый простор</td>\n",
       "      <td>221048915</td>\n",
       "      <td>2015-11-27 12:00:00+00:00</td>\n",
       "      <td>Художественный</td>\n",
       "      <td>Тачстоун Пикчерз, Кобальт Пикчерз, Бикон Пикче...</td>\n",
       "      <td>США</td>\n",
       "      <td>Кевин Костнер</td>\n",
       "      <td>Дэвид Валдес, Кевин Костнер, Джейк Эбертс</td>\n",
       "      <td>18</td>\n",
       "      <td>0.00</td>\n",
       "      <td>0.00</td>\n",
       "      <td>0.00</td>\n",
       "      <td>NaN</td>\n",
       "      <td>7.20</td>\n",
       "      <td>боевик,драма,мелодрама</td>\n",
       "      <td>nan</td>\n",
       "      <td>2015</td>\n",
       "      <td>боевик</td>\n",
       "      <td>Кевин Костнер</td>\n",
       "    </tr>\n",
       "    <tr>\n",
       "      <td>1</td>\n",
       "      <td>Особо важное задание</td>\n",
       "      <td>111013716</td>\n",
       "      <td>2016-09-13 12:00:00+00:00</td>\n",
       "      <td>Художественный</td>\n",
       "      <td>Киностудия \"Мосфильм\"</td>\n",
       "      <td>СССР</td>\n",
       "      <td>Е.Матвеев</td>\n",
       "      <td>unknown</td>\n",
       "      <td>6</td>\n",
       "      <td>0.00</td>\n",
       "      <td>0.00</td>\n",
       "      <td>0.00</td>\n",
       "      <td>NaN</td>\n",
       "      <td>6.60</td>\n",
       "      <td>драма,военный</td>\n",
       "      <td>nan</td>\n",
       "      <td>2016</td>\n",
       "      <td>драма</td>\n",
       "      <td>Е.Матвеев</td>\n",
       "    </tr>\n",
       "    <tr>\n",
       "      <td>2</td>\n",
       "      <td>Особо опасен</td>\n",
       "      <td>221038416</td>\n",
       "      <td>2016-10-10 12:00:00+00:00</td>\n",
       "      <td>Художественный</td>\n",
       "      <td>Юниверсал Пикчерз, Кикстарт Продакшнз, Марк Пл...</td>\n",
       "      <td>США</td>\n",
       "      <td>Тимур Бекмамбетов</td>\n",
       "      <td>Джим Лемли, Джейсон Нетер, Марк Е.Платт, Яйн Смит</td>\n",
       "      <td>18</td>\n",
       "      <td>0.00</td>\n",
       "      <td>0.00</td>\n",
       "      <td>0.00</td>\n",
       "      <td>NaN</td>\n",
       "      <td>6.80</td>\n",
       "      <td>фантастика,боевик,триллер</td>\n",
       "      <td>nan</td>\n",
       "      <td>2016</td>\n",
       "      <td>фантастика</td>\n",
       "      <td>Тимур Бекмамбетов</td>\n",
       "    </tr>\n",
       "    <tr>\n",
       "      <td>3</td>\n",
       "      <td>Особо опасен</td>\n",
       "      <td>221026916</td>\n",
       "      <td>2016-06-10 12:00:00+00:00</td>\n",
       "      <td>Художественный</td>\n",
       "      <td>Юниверсал Пикчерз, Кикстарт Продакшнз, Марк Пл...</td>\n",
       "      <td>США</td>\n",
       "      <td>Тимур Бекмамбетов</td>\n",
       "      <td>Джим Лемли, Джейсон Нетер, Марк Е.Платт, Яйн Смит</td>\n",
       "      <td>18</td>\n",
       "      <td>0.00</td>\n",
       "      <td>0.00</td>\n",
       "      <td>0.00</td>\n",
       "      <td>NaN</td>\n",
       "      <td>6.80</td>\n",
       "      <td>фантастика,боевик,триллер</td>\n",
       "      <td>nan</td>\n",
       "      <td>2016</td>\n",
       "      <td>фантастика</td>\n",
       "      <td>Тимур Бекмамбетов</td>\n",
       "    </tr>\n",
       "    <tr>\n",
       "      <td>4</td>\n",
       "      <td>Особо опасен</td>\n",
       "      <td>221030815</td>\n",
       "      <td>2015-07-29 12:00:00+00:00</td>\n",
       "      <td>Художественный</td>\n",
       "      <td>Юниверсал Пикчерз, Кикстарт Продакшнз, Марк Пл...</td>\n",
       "      <td>США</td>\n",
       "      <td>Тимур Бекмамбетов</td>\n",
       "      <td>Джим Лемли, Джейсон Нетер, Марк Е.Платт, Яйн Смит</td>\n",
       "      <td>18</td>\n",
       "      <td>0.00</td>\n",
       "      <td>0.00</td>\n",
       "      <td>0.00</td>\n",
       "      <td>NaN</td>\n",
       "      <td>6.80</td>\n",
       "      <td>фантастика,боевик,триллер</td>\n",
       "      <td>nan</td>\n",
       "      <td>2015</td>\n",
       "      <td>фантастика</td>\n",
       "      <td>Тимур Бекмамбетов</td>\n",
       "    </tr>\n",
       "  </tbody>\n",
       "</table>\n",
       "</div>"
      ],
      "text/plain": [
       "                  title   puNumber           show_start_date            type  \\\n",
       "0      Открытый простор  221048915 2015-11-27 12:00:00+00:00  Художественный   \n",
       "1  Особо важное задание  111013716 2016-09-13 12:00:00+00:00  Художественный   \n",
       "2          Особо опасен  221038416 2016-10-10 12:00:00+00:00  Художественный   \n",
       "3          Особо опасен  221026916 2016-06-10 12:00:00+00:00  Художественный   \n",
       "4          Особо опасен  221030815 2015-07-29 12:00:00+00:00  Художественный   \n",
       "\n",
       "                                         film_studio production_country  \\\n",
       "0  Тачстоун Пикчерз, Кобальт Пикчерз, Бикон Пикче...                США   \n",
       "1                              Киностудия \"Мосфильм\"               СССР   \n",
       "2  Юниверсал Пикчерз, Кикстарт Продакшнз, Марк Пл...                США   \n",
       "3  Юниверсал Пикчерз, Кикстарт Продакшнз, Марк Пл...                США   \n",
       "4  Юниверсал Пикчерз, Кикстарт Продакшнз, Марк Пл...                США   \n",
       "\n",
       "            director                                           producer  \\\n",
       "0      Кевин Костнер          Дэвид Валдес, Кевин Костнер, Джейк Эбертс   \n",
       "1          Е.Матвеев                                            unknown   \n",
       "2  Тимур Бекмамбетов  Джим Лемли, Джейсон Нетер, Марк Е.Платт, Яйн Смит   \n",
       "3  Тимур Бекмамбетов  Джим Лемли, Джейсон Нетер, Марк Е.Платт, Яйн Смит   \n",
       "4  Тимур Бекмамбетов  Джим Лемли, Джейсон Нетер, Марк Е.Платт, Яйн Смит   \n",
       "\n",
       "   age_restriction  refundable_support  nonrefundable_support  budget  \\\n",
       "0               18                0.00                   0.00    0.00   \n",
       "1                6                0.00                   0.00    0.00   \n",
       "2               18                0.00                   0.00    0.00   \n",
       "3               18                0.00                   0.00    0.00   \n",
       "4               18                0.00                   0.00    0.00   \n",
       "\n",
       "  financing_source  ratings                     genres  box_office  \\\n",
       "0              NaN     7.20     боевик,драма,мелодрама         nan   \n",
       "1              NaN     6.60              драма,военный         nan   \n",
       "2              NaN     6.80  фантастика,боевик,триллер         nan   \n",
       "3              NaN     6.80  фантастика,боевик,триллер         nan   \n",
       "4              NaN     6.80  фантастика,боевик,триллер         nan   \n",
       "\n",
       "   start_year  main_genre      main_director  \n",
       "0        2015      боевик      Кевин Костнер  \n",
       "1        2016       драма          Е.Матвеев  \n",
       "2        2016  фантастика  Тимур Бекмамбетов  \n",
       "3        2016  фантастика  Тимур Бекмамбетов  \n",
       "4        2015  фантастика  Тимур Бекмамбетов  "
      ]
     },
     "metadata": {},
     "output_type": "display_data"
    }
   ],
   "source": [
    "display(df.head())"
   ]
  },
  {
   "cell_type": "markdown",
   "metadata": {
    "id": "1FsCXHwdgFyU"
   },
   "source": [
    "Посчитаем, какую долю от общего бюджета фильма составляет государственная поддержка."
   ]
  },
  {
   "cell_type": "code",
   "execution_count": 31,
   "metadata": {
    "id": "LV6qFuZLgFyV"
   },
   "outputs": [
    {
     "data": {
      "image/png": "[encoded data removed]",
      "text/plain": [
       "<Figure size 432x288 with 1 Axes>"
      ]
     },
     "metadata": {
      "needs_background": "light"
     },
     "output_type": "display_data"
    }
   ],
   "source": [
    "df['support_ratio']=(df['refundable_support']+df['nonrefundable_support'])/df['budget']\n",
    "df['support_ratio'].hist(bins=20)\n",
    "plt.suptitle('Общее распределение оценок фильмов', size=14, y=1.0); \n",
    "plt.show()"
   ]
  },
  {
   "cell_type": "code",
   "execution_count": 32,
   "metadata": {},
   "outputs": [
    {
     "data": {
      "image/png": "[encoded data removed]",
      "text/plain": [
       "<Figure size 576x576 with 1 Axes>"
      ]
     },
     "metadata": {
      "needs_background": "light"
     },
     "output_type": "display_data"
    }
   ],
   "source": [
    "df.boxplot('support_ratio', figsize=(8,8))\n",
    "plt.show()"
   ]
  },
  {
   "cell_type": "markdown",
   "metadata": {},
   "source": [
    "Видим, что для большей части фильмов размер поддержки составляет от 0.4 до 0.6 от общего бюджета фильма."
   ]
  },
  {
   "cell_type": "markdown",
   "metadata": {},
   "source": [
    "### Выводы\n",
    "1. Проверили количество значений и типы данных в датафрейме\n",
    "2. Изучили пропуски в датафрейме и заполнили их.\n",
    "3. Изучили дубликаты в датафрейме\n",
    "4. Изучили категориальные значения и исправили данные с пробелами\n",
    "5. Проверили количественные значения, исправили данные в столбце budget, а также привели значения оценок из столбца ratings к общему виду\n",
    "6. Добавили новые столбцы\n",
    "7. Посчитали, какую долю от общего бюджета фильма составляет государственная поддержка - для большей части фильмов размер поддержки составляет от 0.4 до 0.6 от общего бюджета фильма."
   ]
  },
  {
   "cell_type": "markdown",
   "metadata": {
    "id": "6t4EukPLgFyV"
   },
   "source": [
    "## Проведите исследовательский анализ данных"
   ]
  },
  {
   "cell_type": "markdown",
   "metadata": {
    "id": "vAH8WCzugFyV"
   },
   "source": [
    "Посмотрим, сколько фильмов выходило в прокат каждый год. Посчитаем, какую долю составляют фильмы с указанной информацией о прокате в кинотеатрах."
   ]
  },
  {
   "cell_type": "code",
   "execution_count": 33,
   "metadata": {
    "id": "ABeV47y7gFyW"
   },
   "outputs": [
    {
     "data": {
      "image/png": "[encoded data removed]",
      "text/plain": [
       "<Figure size 432x288 with 1 Axes>"
      ]
     },
     "metadata": {
      "needs_background": "light"
     },
     "output_type": "display_data"
    }
   ],
   "source": [
    "df['start_year'].plot(kind='hist', bins=10, ec='black').legend()\n",
    "plt.suptitle('Количество новых фильмов в год', size=14, y=1.0); \n",
    "plt.show()"
   ]
  },
  {
   "cell_type": "code",
   "execution_count": 34,
   "metadata": {},
   "outputs": [
    {
     "data": {
      "text/plain": [
       "2019    930\n",
       "2018    891\n",
       "2017    505\n",
       "2016    818\n",
       "2015    705\n",
       "2014    807\n",
       "2013    630\n",
       "2012    593\n",
       "2011    622\n",
       "2010    985\n",
       "Name: start_year, dtype: int64"
      ]
     },
     "execution_count": 34,
     "metadata": {},
     "output_type": "execute_result"
    }
   ],
   "source": [
    "df.start_year.value_counts().sort_index(ascending=False)"
   ]
  },
  {
   "cell_type": "markdown",
   "metadata": {},
   "source": [
    "На графике заметен провал по количеству фильмов в прокате в 2017 году"
   ]
  },
  {
   "cell_type": "code",
   "execution_count": 35,
   "metadata": {},
   "outputs": [
    {
     "name": "stdout",
     "output_type": "stream",
     "text": [
      "Доля фильмов с указанной информацией о прокате составляет: 41%\n"
     ]
    }
   ],
   "source": [
    "print(f\"Доля фильмов с указанной информацией о прокате составляет: {(df[df['box_office']>0]['box_office'].describe()[0]/df['title'].describe()[0].astype('int')*100).astype('int')}%\")"
   ]
  },
  {
   "cell_type": "markdown",
   "metadata": {
    "id": "BEOdcIrIgFyW"
   },
   "source": [
    "Изучим, как менялась динамика проката по годам. В каком году сумма сборов была минимальной? А максимальной?"
   ]
  },
  {
   "cell_type": "code",
   "execution_count": 36,
   "metadata": {
    "id": "tfEhofYvgFyX"
   },
   "outputs": [
    {
     "data": {
      "text/html": [
       "<div>\n",
       "<style scoped>\n",
       "    .dataframe tbody tr th:only-of-type {\n",
       "        vertical-align: middle;\n",
       "    }\n",
       "\n",
       "    .dataframe tbody tr th {\n",
       "        vertical-align: top;\n",
       "    }\n",
       "\n",
       "    .dataframe thead th {\n",
       "        text-align: right;\n",
       "    }\n",
       "</style>\n",
       "<table border=\"1\" class=\"dataframe\">\n",
       "  <thead>\n",
       "    <tr style=\"text-align: right;\">\n",
       "      <th></th>\n",
       "      <th>box_office</th>\n",
       "    </tr>\n",
       "    <tr>\n",
       "      <th>start_year</th>\n",
       "      <th></th>\n",
       "    </tr>\n",
       "  </thead>\n",
       "  <tbody>\n",
       "    <tr>\n",
       "      <td>2010</td>\n",
       "      <td>2,428,654.00</td>\n",
       "    </tr>\n",
       "    <tr>\n",
       "      <td>2011</td>\n",
       "      <td>14,102,765.00</td>\n",
       "    </tr>\n",
       "    <tr>\n",
       "      <td>2012</td>\n",
       "      <td>6,955,423.00</td>\n",
       "    </tr>\n",
       "    <tr>\n",
       "      <td>2013</td>\n",
       "      <td>29,799,706.20</td>\n",
       "    </tr>\n",
       "    <tr>\n",
       "      <td>2014</td>\n",
       "      <td>7,444,951,859.20</td>\n",
       "    </tr>\n",
       "    <tr>\n",
       "      <td>2015</td>\n",
       "      <td>39,497,365,196.40</td>\n",
       "    </tr>\n",
       "    <tr>\n",
       "      <td>2016</td>\n",
       "      <td>47,866,299,741.91</td>\n",
       "    </tr>\n",
       "    <tr>\n",
       "      <td>2017</td>\n",
       "      <td>48,563,707,217.51</td>\n",
       "    </tr>\n",
       "    <tr>\n",
       "      <td>2018</td>\n",
       "      <td>49,668,403,134.32</td>\n",
       "    </tr>\n",
       "    <tr>\n",
       "      <td>2019</td>\n",
       "      <td>48,425,708,779.59</td>\n",
       "    </tr>\n",
       "  </tbody>\n",
       "</table>\n",
       "</div>"
      ],
      "text/plain": [
       "                  box_office\n",
       "start_year                  \n",
       "2010            2,428,654.00\n",
       "2011           14,102,765.00\n",
       "2012            6,955,423.00\n",
       "2013           29,799,706.20\n",
       "2014        7,444,951,859.20\n",
       "2015       39,497,365,196.40\n",
       "2016       47,866,299,741.91\n",
       "2017       48,563,707,217.51\n",
       "2018       49,668,403,134.32\n",
       "2019       48,425,708,779.59"
      ]
     },
     "metadata": {},
     "output_type": "display_data"
    }
   ],
   "source": [
    "box_office = df.groupby(['start_year']).agg({'box_office': 'sum'})\n",
    "display(box_office)"
   ]
  },
  {
   "cell_type": "code",
   "execution_count": 37,
   "metadata": {},
   "outputs": [
    {
     "data": {
      "image/png": "[encoded data removed]",
      "text/plain": [
       "<Figure size 432x288 with 1 Axes>"
      ]
     },
     "metadata": {
      "needs_background": "light"
     },
     "output_type": "display_data"
    }
   ],
   "source": [
    "box_office.plot()\n",
    "plt.suptitle('Cумма сборов в прокате фильмов в год выхода', size=14, y=1.0);    \n",
    "plt.show()"
   ]
  },
  {
   "cell_type": "markdown",
   "metadata": {},
   "source": [
    "Максимальная сумма сборов пришлась на 2018 год, минимальная - на 2010. "
   ]
  },
  {
   "cell_type": "markdown",
   "metadata": {
    "id": "G-7qS-N-gFyY"
   },
   "source": [
    "С помощью сводной таблицы посчитаем среднюю и медианную сумму сборов для каждого года."
   ]
  },
  {
   "cell_type": "code",
   "execution_count": 38,
   "metadata": {
    "id": "jmp-rgg9gFyY"
   },
   "outputs": [
    {
     "data": {
      "text/html": [
       "<div>\n",
       "<style scoped>\n",
       "    .dataframe tbody tr th:only-of-type {\n",
       "        vertical-align: middle;\n",
       "    }\n",
       "\n",
       "    .dataframe tbody tr th {\n",
       "        vertical-align: top;\n",
       "    }\n",
       "\n",
       "    .dataframe thead tr th {\n",
       "        text-align: left;\n",
       "    }\n",
       "\n",
       "    .dataframe thead tr:last-of-type th {\n",
       "        text-align: right;\n",
       "    }\n",
       "</style>\n",
       "<table border=\"1\" class=\"dataframe\">\n",
       "  <thead>\n",
       "    <tr>\n",
       "      <th></th>\n",
       "      <th>mean</th>\n",
       "      <th>median</th>\n",
       "    </tr>\n",
       "    <tr>\n",
       "      <th></th>\n",
       "      <th>box_office</th>\n",
       "      <th>box_office</th>\n",
       "    </tr>\n",
       "    <tr>\n",
       "      <th>start_year</th>\n",
       "      <th></th>\n",
       "      <th></th>\n",
       "    </tr>\n",
       "  </thead>\n",
       "  <tbody>\n",
       "    <tr>\n",
       "      <td>2010</td>\n",
       "      <td>23,130.04</td>\n",
       "      <td>1,700.00</td>\n",
       "    </tr>\n",
       "    <tr>\n",
       "      <td>2011</td>\n",
       "      <td>129,383.17</td>\n",
       "      <td>3,000.00</td>\n",
       "    </tr>\n",
       "    <tr>\n",
       "      <td>2012</td>\n",
       "      <td>54,339.24</td>\n",
       "      <td>5,660.00</td>\n",
       "    </tr>\n",
       "    <tr>\n",
       "      <td>2013</td>\n",
       "      <td>161,954.92</td>\n",
       "      <td>3,522.50</td>\n",
       "    </tr>\n",
       "    <tr>\n",
       "      <td>2014</td>\n",
       "      <td>26,684,415.27</td>\n",
       "      <td>18,160.00</td>\n",
       "    </tr>\n",
       "    <tr>\n",
       "      <td>2015</td>\n",
       "      <td>84,940,570.31</td>\n",
       "      <td>4,920,933.00</td>\n",
       "    </tr>\n",
       "    <tr>\n",
       "      <td>2016</td>\n",
       "      <td>91,000,569.85</td>\n",
       "      <td>3,846,679.41</td>\n",
       "    </tr>\n",
       "    <tr>\n",
       "      <td>2017</td>\n",
       "      <td>136,032,793.33</td>\n",
       "      <td>9,968,340.00</td>\n",
       "    </tr>\n",
       "    <tr>\n",
       "      <td>2018</td>\n",
       "      <td>104,565,059.23</td>\n",
       "      <td>8,891,102.21</td>\n",
       "    </tr>\n",
       "    <tr>\n",
       "      <td>2019</td>\n",
       "      <td>91,369,261.85</td>\n",
       "      <td>4,627,798.34</td>\n",
       "    </tr>\n",
       "  </tbody>\n",
       "</table>\n",
       "</div>"
      ],
      "text/plain": [
       "                     mean       median\n",
       "               box_office   box_office\n",
       "start_year                            \n",
       "2010            23,130.04     1,700.00\n",
       "2011           129,383.17     3,000.00\n",
       "2012            54,339.24     5,660.00\n",
       "2013           161,954.92     3,522.50\n",
       "2014        26,684,415.27    18,160.00\n",
       "2015        84,940,570.31 4,920,933.00\n",
       "2016        91,000,569.85 3,846,679.41\n",
       "2017       136,032,793.33 9,968,340.00\n",
       "2018       104,565,059.23 8,891,102.21\n",
       "2019        91,369,261.85 4,627,798.34"
      ]
     },
     "execution_count": 38,
     "metadata": {},
     "output_type": "execute_result"
    }
   ],
   "source": [
    "df.pivot_table(index='start_year', values='box_office', aggfunc=['mean','median'])"
   ]
  },
  {
   "cell_type": "code",
   "execution_count": 39,
   "metadata": {},
   "outputs": [
    {
     "data": {
      "image/png": "[encoded data removed]",
      "text/plain": [
       "<Figure size 432x288 with 1 Axes>"
      ]
     },
     "metadata": {
      "needs_background": "light"
     },
     "output_type": "display_data"
    }
   ],
   "source": [
    "df.query('start_year==2019')['box_office'].hist(bins=30, range=(0, 50000000))\n",
    "plt.suptitle('Распределение по сборам фильмов за 2019 год', size=14, y=1.0); \n",
    "plt.show()"
   ]
  },
  {
   "cell_type": "markdown",
   "metadata": {},
   "source": [
    "На примере фильмов, вышедших за 2019 год, большая разница между средними и медианными значениями объясняется большим количеством фильмов со сборами менее 5 млн.руб. Чтобы убедиться, что с этими фильмами все в порядке, посмотрим на выборку из датафрейма"
   ]
  },
  {
   "cell_type": "code",
   "execution_count": 40,
   "metadata": {},
   "outputs": [
    {
     "data": {
      "text/html": [
       "<div>\n",
       "<style scoped>\n",
       "    .dataframe tbody tr th:only-of-type {\n",
       "        vertical-align: middle;\n",
       "    }\n",
       "\n",
       "    .dataframe tbody tr th {\n",
       "        vertical-align: top;\n",
       "    }\n",
       "\n",
       "    .dataframe thead th {\n",
       "        text-align: right;\n",
       "    }\n",
       "</style>\n",
       "<table border=\"1\" class=\"dataframe\">\n",
       "  <thead>\n",
       "    <tr style=\"text-align: right;\">\n",
       "      <th></th>\n",
       "      <th>title</th>\n",
       "      <th>puNumber</th>\n",
       "      <th>show_start_date</th>\n",
       "      <th>type</th>\n",
       "      <th>film_studio</th>\n",
       "      <th>production_country</th>\n",
       "      <th>director</th>\n",
       "      <th>producer</th>\n",
       "      <th>age_restriction</th>\n",
       "      <th>refundable_support</th>\n",
       "      <th>nonrefundable_support</th>\n",
       "      <th>budget</th>\n",
       "      <th>financing_source</th>\n",
       "      <th>ratings</th>\n",
       "      <th>genres</th>\n",
       "      <th>box_office</th>\n",
       "      <th>start_year</th>\n",
       "      <th>main_genre</th>\n",
       "      <th>main_director</th>\n",
       "      <th>support_ratio</th>\n",
       "    </tr>\n",
       "  </thead>\n",
       "  <tbody>\n",
       "    <tr>\n",
       "      <td>6262</td>\n",
       "      <td>СКВОЗЬ ЧЕРНОЕ СТЕКЛО</td>\n",
       "      <td>111018418</td>\n",
       "      <td>2019-03-20 12:00:00+00:00</td>\n",
       "      <td>Художественный</td>\n",
       "      <td>ООО \"Пролайн-медиа\"</td>\n",
       "      <td>Россия</td>\n",
       "      <td>К.Лопушанский</td>\n",
       "      <td>А.Сигле</td>\n",
       "      <td>18</td>\n",
       "      <td>0.00</td>\n",
       "      <td>0.00</td>\n",
       "      <td>0.00</td>\n",
       "      <td>NaN</td>\n",
       "      <td>6.30</td>\n",
       "      <td>драма</td>\n",
       "      <td>438,755.50</td>\n",
       "      <td>2019</td>\n",
       "      <td>драма</td>\n",
       "      <td>К.Лопушанский</td>\n",
       "      <td>nan</td>\n",
       "    </tr>\n",
       "    <tr>\n",
       "      <td>6424</td>\n",
       "      <td>Романтики 303</td>\n",
       "      <td>121026018</td>\n",
       "      <td>2019-01-17 12:00:00+00:00</td>\n",
       "      <td>Художественный</td>\n",
       "      <td>Кахуна Филм, Нэусупер, Стархаус Продуционе, Гл...</td>\n",
       "      <td>Германия</td>\n",
       "      <td>Ганс Вайнгартнер</td>\n",
       "      <td>Ганс Вайнгартнер, Саймон Амбергер</td>\n",
       "      <td>16</td>\n",
       "      <td>0.00</td>\n",
       "      <td>0.00</td>\n",
       "      <td>0.00</td>\n",
       "      <td>NaN</td>\n",
       "      <td>7.40</td>\n",
       "      <td>мелодрама</td>\n",
       "      <td>2,236,562.00</td>\n",
       "      <td>2019</td>\n",
       "      <td>мелодрама</td>\n",
       "      <td>Ганс Вайнгартнер</td>\n",
       "      <td>nan</td>\n",
       "    </tr>\n",
       "    <tr>\n",
       "      <td>6458</td>\n",
       "      <td>Зубы, писать и в постель</td>\n",
       "      <td>121027418</td>\n",
       "      <td>2019-01-31 12:00:00+00:00</td>\n",
       "      <td>Художественный</td>\n",
       "      <td>Си Джи Синема, Эс Эн Дэ Фильм, Эм 6 Фильм, Коф...</td>\n",
       "      <td>Франция</td>\n",
       "      <td>Эммануэль Жилибер</td>\n",
       "      <td>Оливье Грумбах, Шарль Жилибер, Лойк Флери</td>\n",
       "      <td>18</td>\n",
       "      <td>0.00</td>\n",
       "      <td>0.00</td>\n",
       "      <td>0.00</td>\n",
       "      <td>NaN</td>\n",
       "      <td>5.90</td>\n",
       "      <td>комедия</td>\n",
       "      <td>1,074,815.00</td>\n",
       "      <td>2019</td>\n",
       "      <td>комедия</td>\n",
       "      <td>Эммануэль Жилибер</td>\n",
       "      <td>nan</td>\n",
       "    </tr>\n",
       "    <tr>\n",
       "      <td>6477</td>\n",
       "      <td>Интервью с Богом</td>\n",
       "      <td>121028018</td>\n",
       "      <td>2019-01-17 12:00:00+00:00</td>\n",
       "      <td>Художественный</td>\n",
       "      <td>Эстет Филмз, Биг Индиа Пикчерз, Гивинг Филмз</td>\n",
       "      <td>США</td>\n",
       "      <td>Перри Лэнг</td>\n",
       "      <td>Кен Агуадо, Фред Бернштейн, Рик Джексон</td>\n",
       "      <td>16</td>\n",
       "      <td>0.00</td>\n",
       "      <td>0.00</td>\n",
       "      <td>0.00</td>\n",
       "      <td>NaN</td>\n",
       "      <td>6.00</td>\n",
       "      <td>драма,детектив</td>\n",
       "      <td>1,545,358.03</td>\n",
       "      <td>2019</td>\n",
       "      <td>драма</td>\n",
       "      <td>Перри Лэнг</td>\n",
       "      <td>nan</td>\n",
       "    </tr>\n",
       "    <tr>\n",
       "      <td>6479</td>\n",
       "      <td>Тайна семьи монстров</td>\n",
       "      <td>124004718</td>\n",
       "      <td>2019-01-10 12:00:00+00:00</td>\n",
       "      <td>Анимационный</td>\n",
       "      <td>Анима Эстудиос, Дискрит Артс Продакшнз, Эфисайн</td>\n",
       "      <td>Индия - Мексика</td>\n",
       "      <td>Леопольдо Агиляр</td>\n",
       "      <td>Алекс Гарсиа, Фернандо Де Фуэнтес, Хосе С. Гар...</td>\n",
       "      <td>6</td>\n",
       "      <td>0.00</td>\n",
       "      <td>0.00</td>\n",
       "      <td>0.00</td>\n",
       "      <td>NaN</td>\n",
       "      <td>5.10</td>\n",
       "      <td>мультфильм,фэнтези,комедия</td>\n",
       "      <td>3,377,378.97</td>\n",
       "      <td>2019</td>\n",
       "      <td>мультфильм</td>\n",
       "      <td>Леопольдо Агиляр</td>\n",
       "      <td>nan</td>\n",
       "    </tr>\n",
       "  </tbody>\n",
       "</table>\n",
       "</div>"
      ],
      "text/plain": [
       "                         title   puNumber           show_start_date  \\\n",
       "6262      СКВОЗЬ ЧЕРНОЕ СТЕКЛО  111018418 2019-03-20 12:00:00+00:00   \n",
       "6424             Романтики 303  121026018 2019-01-17 12:00:00+00:00   \n",
       "6458  Зубы, писать и в постель  121027418 2019-01-31 12:00:00+00:00   \n",
       "6477          Интервью с Богом  121028018 2019-01-17 12:00:00+00:00   \n",
       "6479      Тайна семьи монстров  124004718 2019-01-10 12:00:00+00:00   \n",
       "\n",
       "                type                                        film_studio  \\\n",
       "6262  Художественный                                ООО \"Пролайн-медиа\"   \n",
       "6424  Художественный  Кахуна Филм, Нэусупер, Стархаус Продуционе, Гл...   \n",
       "6458  Художественный  Си Джи Синема, Эс Эн Дэ Фильм, Эм 6 Фильм, Коф...   \n",
       "6477  Художественный       Эстет Филмз, Биг Индиа Пикчерз, Гивинг Филмз   \n",
       "6479    Анимационный    Анима Эстудиос, Дискрит Артс Продакшнз, Эфисайн   \n",
       "\n",
       "     production_country           director  \\\n",
       "6262             Россия      К.Лопушанский   \n",
       "6424           Германия   Ганс Вайнгартнер   \n",
       "6458            Франция  Эммануэль Жилибер   \n",
       "6477                США         Перри Лэнг   \n",
       "6479    Индия - Мексика   Леопольдо Агиляр   \n",
       "\n",
       "                                               producer  age_restriction  \\\n",
       "6262                                            А.Сигле               18   \n",
       "6424                  Ганс Вайнгартнер, Саймон Амбергер               16   \n",
       "6458          Оливье Грумбах, Шарль Жилибер, Лойк Флери               18   \n",
       "6477            Кен Агуадо, Фред Бернштейн, Рик Джексон               16   \n",
       "6479  Алекс Гарсиа, Фернандо Де Фуэнтес, Хосе С. Гар...                6   \n",
       "\n",
       "      refundable_support  nonrefundable_support  budget financing_source  \\\n",
       "6262                0.00                   0.00    0.00              NaN   \n",
       "6424                0.00                   0.00    0.00              NaN   \n",
       "6458                0.00                   0.00    0.00              NaN   \n",
       "6477                0.00                   0.00    0.00              NaN   \n",
       "6479                0.00                   0.00    0.00              NaN   \n",
       "\n",
       "      ratings                      genres   box_office  start_year  \\\n",
       "6262     6.30                       драма   438,755.50        2019   \n",
       "6424     7.40                   мелодрама 2,236,562.00        2019   \n",
       "6458     5.90                     комедия 1,074,815.00        2019   \n",
       "6477     6.00              драма,детектив 1,545,358.03        2019   \n",
       "6479     5.10  мультфильм,фэнтези,комедия 3,377,378.97        2019   \n",
       "\n",
       "      main_genre      main_director  support_ratio  \n",
       "6262       драма      К.Лопушанский            nan  \n",
       "6424   мелодрама   Ганс Вайнгартнер            nan  \n",
       "6458     комедия  Эммануэль Жилибер            nan  \n",
       "6477       драма         Перри Лэнг            nan  \n",
       "6479  мультфильм   Леопольдо Агиляр            nan  "
      ]
     },
     "metadata": {},
     "output_type": "display_data"
    }
   ],
   "source": [
    "display(df.query('(box_office<5000000) and (start_year==2019)').head())"
   ]
  },
  {
   "cell_type": "markdown",
   "metadata": {},
   "source": [
    "С данными все в порядке, можем приступать к следующему заданию."
   ]
  },
  {
   "cell_type": "markdown",
   "metadata": {
    "id": "Ok89WFwJgFyZ"
   },
   "source": [
    "Определим, влияет ли возрастное ограничение аудитории («6+», «12+», «16+», «18+» и т. д.) на сборы фильма в прокате в период с 2015 по 2019 год? Ответим на вопрос: \"Фильмы с каким возрастным ограничением собрали больше всего денег в прокате? Меняется ли картина в зависимости от года? Если да, предположите, с чем это может быть связано.\""
   ]
  },
  {
   "cell_type": "code",
   "execution_count": 41,
   "metadata": {
    "id": "jsSbEqfjgFya"
   },
   "outputs": [],
   "source": [
    "# Определим сумму сборов за весь период для фильмов из каждой возрастной группы\n",
    "def age_box_office(df):\n",
    "    return (\n",
    "        df\n",
    "            .query('age_restriction != 0')\n",
    "            .pivot_table(index='age_restriction', values='box_office', aggfunc='sum')\n",
    "            \n",
    "    )\n",
    "def age_box_office_plot(df):\n",
    "    (\n",
    "        df\n",
    "            .plot(kind='barh', figsize=(10, 5), ec='black')\n",
    "            .set(xlabel='box_office', ylabel='age_restriction')\n",
    "    )\n",
    "    plt.suptitle('Сборы фильмов распределенных по возрастному рейтингу', size=14, y=1);\n",
    "    plt.show()"
   ]
  },
  {
   "cell_type": "code",
   "execution_count": 42,
   "metadata": {
    "scrolled": false
   },
   "outputs": [
    {
     "data": {
      "image/png": "[encoded data removed]",
      "text/plain": [
       "<Figure size 720x360 with 1 Axes>"
      ]
     },
     "metadata": {
      "needs_background": "light"
     },
     "output_type": "display_data"
    }
   ],
   "source": [
    "age_box_office_plot(age_box_office(df))"
   ]
  },
  {
   "cell_type": "markdown",
   "metadata": {},
   "source": [
    "Видим, что больше всего собирают фильмы с возрастным ограничением 16+"
   ]
  },
  {
   "cell_type": "markdown",
   "metadata": {},
   "source": [
    "Посмотрим, как выглядит картина, если добавим распределение по годам. "
   ]
  },
  {
   "cell_type": "code",
   "execution_count": 43,
   "metadata": {},
   "outputs": [],
   "source": [
    "age=['6','12','16','18']"
   ]
  },
  {
   "cell_type": "code",
   "execution_count": 44,
   "metadata": {},
   "outputs": [],
   "source": [
    "def age_box_office_by_year(age, df):\n",
    "    return (\n",
    "        df\n",
    "            .query(\"age_restriction == @age\")\n",
    "            .pivot_table(index='start_year', values='box_office', aggfunc='sum')\n",
    "            \n",
    "    )"
   ]
  },
  {
   "cell_type": "code",
   "execution_count": 45,
   "metadata": {
    "scrolled": false
   },
   "outputs": [
    {
     "name": "stdout",
     "output_type": "stream",
     "text": [
      "\n",
      "Фильмы с возрастным рейтингом 6+ собрали 57 млрд.руб.\n",
      "\n",
      "Фильмы с возрастным рейтингом 12+ собрали 63 млрд.руб.\n",
      "\n",
      "Фильмы с возрастным рейтингом 16+ собрали 76 млрд.руб.\n",
      "\n",
      "Фильмы с возрастным рейтингом 18+ собрали 42 млрд.руб.\n"
     ]
    },
    {
     "data": {
      "image/png": "[encoded data removed]",
      "text/plain": [
       "<Figure size 720x504 with 1 Axes>"
      ]
     },
     "metadata": {
      "needs_background": "light"
     },
     "output_type": "display_data"
    }
   ],
   "source": [
    "for item in age:\n",
    "    age_box_office_by_year(item, df)['box_office'].plot(figsize=(10, 7), label=item)\n",
    "    plt.xlabel(\"start_year\")\n",
    "    plt.ylabel(\"box_office\")\n",
    "    plt.legend(prop={'size': 14})\n",
    "    print()\n",
    "    print(f\"Фильмы с возрастным рейтингом {item}+ собрали {(age_box_office_by_year(item, df).sum()[0]/1000000000).astype('int')} млрд.руб.\")\n",
    "plt.suptitle('Сборы фильмов с различным возрастным рейтингом', size=14, y=0.95);     "
   ]
  },
  {
   "cell_type": "markdown",
   "metadata": {},
   "source": [
    "- Из графика видно, что каждый год по сборам лидируют фильмы с возрастным ограничением 16+.\n",
    "- Для фильмов 16+ и 18+ видим рост по сборам и пик в 2017 году, в то время как фильмы 12+ в 2017 году имеют значительный провал по отношению к другим возрастным категориям.\n",
    "- За весь период больше всего собрали фильмы с возрастным рейтингом 16+ - 76 млрд.руб, меньше всего - фильмы с возрастным рейтингом 18+ - 42 млрд.руб.\n",
    "\n",
    "Наименее выгодны показы с возрастным ограничием 18+, скорее всего связано с невозможностью допуска к просмотру лиц не достигших 18 лет, в то время, как, например, на фильмы 12+ возможен допуск детей 6+ в присутствии родителей. \n",
    "\n",
    "Провал 2017 года фильмов с рейтингом 12+ связан, скорее всего, с малым количеством фильмов с данным рейтингом. \n"
   ]
  },
  {
   "cell_type": "markdown",
   "metadata": {
    "id": "l_Kg6Ku4gFya"
   },
   "source": [
    "## Исследуйте фильмы, которые получили государственную поддержку\n",
    "\n",
    "На этом этапе нет конкретных инструкций и заданий — поищите интересные закономерности в данных. Посмотрите, сколько выделяют средств на поддержку кино. Проверьте, хорошо ли окупаются такие фильмы, какой у них рейтинг."
   ]
  },
  {
   "cell_type": "markdown",
   "metadata": {},
   "source": [
    "Выделим датафрейм с ненулевой гос.поддержкой, и посмотрим на график сборов и бюджета в каждый год с 2014 по 2019"
   ]
  },
  {
   "cell_type": "code",
   "execution_count": 46,
   "metadata": {
    "id": "W9QKpjUdgFyb"
   },
   "outputs": [],
   "source": [
    "rus_film = df.query('(refundable_support > 0) or (nonrefundable_support > 0)')"
   ]
  },
  {
   "cell_type": "code",
   "execution_count": 47,
   "metadata": {},
   "outputs": [
    {
     "data": {
      "image/png": "[encoded data removed]",
      "text/plain": [
       "<Figure size 720x504 with 1 Axes>"
      ]
     },
     "metadata": {
      "needs_background": "light"
     },
     "output_type": "display_data"
    }
   ],
   "source": [
    "fig, ax = plt.subplots(figsize=(8,6))\n",
    "box_office_rus = rus_film.groupby(['start_year']).agg({'box_office': 'sum'}).plot(figsize=(10, 7), ax=ax)\n",
    "budget_rus = rus_film.groupby(['start_year']).agg({'budget': 'sum'}).plot(figsize=(10, 7), ax=ax)\n",
    "plt.suptitle('Сравнение суммарных сборов фильмов и затраченных бюджетов', size=14, y=0.95);    \n"
   ]
  },
  {
   "cell_type": "markdown",
   "metadata": {},
   "source": [
    "Видим, что фильмы с гос. поддержкой в целом не окупают себя, только в 2017 и 2018 годах сумма сборов превысила потраченные на производство фильмов бюджеты."
   ]
  },
  {
   "cell_type": "code",
   "execution_count": 48,
   "metadata": {},
   "outputs": [
    {
     "data": {
      "image/png": "[encoded data removed]",
      "text/plain": [
       "<Figure size 432x288 with 1 Axes>"
      ]
     },
     "metadata": {
      "needs_background": "light"
     },
     "output_type": "display_data"
    }
   ],
   "source": [
    "rus_film['ratings'].hist(bins=50)\n",
    "plt.show()"
   ]
  },
  {
   "cell_type": "code",
   "execution_count": 49,
   "metadata": {},
   "outputs": [
    {
     "data": {
      "image/png": "[encoded data removed]",
      "text/plain": [
       "<Figure size 576x576 with 1 Axes>"
      ]
     },
     "metadata": {
      "needs_background": "light"
     },
     "output_type": "display_data"
    }
   ],
   "source": [
    "rus_film.boxplot('ratings', figsize=(8,8))\n",
    "plt.show()"
   ]
  },
  {
   "cell_type": "markdown",
   "metadata": {},
   "source": [
    "По графикам видим, что в основном разброс оценок фильмов с гос.поддержкой находится в диапазоне 5-7/10."
   ]
  },
  {
   "cell_type": "code",
   "execution_count": 50,
   "metadata": {},
   "outputs": [
    {
     "name": "stdout",
     "output_type": "stream",
     "text": [
      "0.11446997987144583\n"
     ]
    }
   ],
   "source": [
    "print(rus_film['budget'].corr(rus_film['ratings']))"
   ]
  },
  {
   "cell_type": "markdown",
   "metadata": {},
   "source": [
    "Нет никакой корреляции между суммой затрат на производство фильма и его оценкой среди зрителей - коэфициент корреляции всего 0.11"
   ]
  },
  {
   "cell_type": "markdown",
   "metadata": {},
   "source": [
    "Посмотрим на статистику в зависимости от источника финансирования фильмов. "
   ]
  },
  {
   "cell_type": "code",
   "execution_count": 51,
   "metadata": {},
   "outputs": [
    {
     "data": {
      "text/html": [
       "<div>\n",
       "<style scoped>\n",
       "    .dataframe tbody tr th:only-of-type {\n",
       "        vertical-align: middle;\n",
       "    }\n",
       "\n",
       "    .dataframe tbody tr th {\n",
       "        vertical-align: top;\n",
       "    }\n",
       "\n",
       "    .dataframe thead th {\n",
       "        text-align: right;\n",
       "    }\n",
       "</style>\n",
       "<table border=\"1\" class=\"dataframe\">\n",
       "  <thead>\n",
       "    <tr style=\"text-align: right;\">\n",
       "      <th></th>\n",
       "      <th>title</th>\n",
       "      <th>puNumber</th>\n",
       "      <th>show_start_date</th>\n",
       "      <th>type</th>\n",
       "      <th>film_studio</th>\n",
       "      <th>production_country</th>\n",
       "      <th>director</th>\n",
       "      <th>producer</th>\n",
       "      <th>age_restriction</th>\n",
       "      <th>refundable_support</th>\n",
       "      <th>nonrefundable_support</th>\n",
       "      <th>budget</th>\n",
       "      <th>ratings</th>\n",
       "      <th>genres</th>\n",
       "      <th>box_office</th>\n",
       "      <th>start_year</th>\n",
       "      <th>main_genre</th>\n",
       "      <th>main_director</th>\n",
       "      <th>support_ratio</th>\n",
       "    </tr>\n",
       "    <tr>\n",
       "      <th>financing_source</th>\n",
       "      <th></th>\n",
       "      <th></th>\n",
       "      <th></th>\n",
       "      <th></th>\n",
       "      <th></th>\n",
       "      <th></th>\n",
       "      <th></th>\n",
       "      <th></th>\n",
       "      <th></th>\n",
       "      <th></th>\n",
       "      <th></th>\n",
       "      <th></th>\n",
       "      <th></th>\n",
       "      <th></th>\n",
       "      <th></th>\n",
       "      <th></th>\n",
       "      <th></th>\n",
       "      <th></th>\n",
       "      <th></th>\n",
       "    </tr>\n",
       "  </thead>\n",
       "  <tbody>\n",
       "    <tr>\n",
       "      <td>Министерство культуры</td>\n",
       "      <td>164</td>\n",
       "      <td>164</td>\n",
       "      <td>164</td>\n",
       "      <td>164</td>\n",
       "      <td>164</td>\n",
       "      <td>164</td>\n",
       "      <td>164</td>\n",
       "      <td>164</td>\n",
       "      <td>164</td>\n",
       "      <td>164</td>\n",
       "      <td>164</td>\n",
       "      <td>164</td>\n",
       "      <td>164</td>\n",
       "      <td>164</td>\n",
       "      <td>152</td>\n",
       "      <td>164</td>\n",
       "      <td>164</td>\n",
       "      <td>164</td>\n",
       "      <td>164</td>\n",
       "    </tr>\n",
       "    <tr>\n",
       "      <td>Министерство культуры, Фонд кино</td>\n",
       "      <td>22</td>\n",
       "      <td>22</td>\n",
       "      <td>22</td>\n",
       "      <td>22</td>\n",
       "      <td>22</td>\n",
       "      <td>22</td>\n",
       "      <td>22</td>\n",
       "      <td>22</td>\n",
       "      <td>22</td>\n",
       "      <td>22</td>\n",
       "      <td>22</td>\n",
       "      <td>22</td>\n",
       "      <td>22</td>\n",
       "      <td>22</td>\n",
       "      <td>22</td>\n",
       "      <td>22</td>\n",
       "      <td>22</td>\n",
       "      <td>22</td>\n",
       "      <td>22</td>\n",
       "    </tr>\n",
       "    <tr>\n",
       "      <td>Фонд кино</td>\n",
       "      <td>146</td>\n",
       "      <td>146</td>\n",
       "      <td>146</td>\n",
       "      <td>146</td>\n",
       "      <td>146</td>\n",
       "      <td>146</td>\n",
       "      <td>146</td>\n",
       "      <td>146</td>\n",
       "      <td>146</td>\n",
       "      <td>146</td>\n",
       "      <td>146</td>\n",
       "      <td>146</td>\n",
       "      <td>146</td>\n",
       "      <td>146</td>\n",
       "      <td>144</td>\n",
       "      <td>146</td>\n",
       "      <td>146</td>\n",
       "      <td>146</td>\n",
       "      <td>146</td>\n",
       "    </tr>\n",
       "  </tbody>\n",
       "</table>\n",
       "</div>"
      ],
      "text/plain": [
       "                                  title  puNumber  show_start_date  type  \\\n",
       "financing_source                                                           \n",
       "Министерство культуры               164       164              164   164   \n",
       "Министерство культуры, Фонд кино     22        22               22    22   \n",
       "Фонд кино                           146       146              146   146   \n",
       "\n",
       "                                  film_studio  production_country  director  \\\n",
       "financing_source                                                              \n",
       "Министерство культуры                     164                 164       164   \n",
       "Министерство культуры, Фонд кино           22                  22        22   \n",
       "Фонд кино                                 146                 146       146   \n",
       "\n",
       "                                  producer  age_restriction  \\\n",
       "financing_source                                              \n",
       "Министерство культуры                  164              164   \n",
       "Министерство культуры, Фонд кино        22               22   \n",
       "Фонд кино                              146              146   \n",
       "\n",
       "                                  refundable_support  nonrefundable_support  \\\n",
       "financing_source                                                              \n",
       "Министерство культуры                            164                    164   \n",
       "Министерство культуры, Фонд кино                  22                     22   \n",
       "Фонд кино                                        146                    146   \n",
       "\n",
       "                                  budget  ratings  genres  box_office  \\\n",
       "financing_source                                                        \n",
       "Министерство культуры                164      164     164         152   \n",
       "Министерство культуры, Фонд кино      22       22      22          22   \n",
       "Фонд кино                            146      146     146         144   \n",
       "\n",
       "                                  start_year  main_genre  main_director  \\\n",
       "financing_source                                                          \n",
       "Министерство культуры                    164         164            164   \n",
       "Министерство культуры, Фонд кино          22          22             22   \n",
       "Фонд кино                                146         146            146   \n",
       "\n",
       "                                  support_ratio  \n",
       "financing_source                                 \n",
       "Министерство культуры                       164  \n",
       "Министерство культуры, Фонд кино             22  \n",
       "Фонд кино                                   146  "
      ]
     },
     "execution_count": 51,
     "metadata": {},
     "output_type": "execute_result"
    }
   ],
   "source": [
    "rus_film.groupby('financing_source').count()"
   ]
  },
  {
   "cell_type": "markdown",
   "metadata": {},
   "source": [
    "В целом Министерство культуры и Фонд кино проспонсировало похожее число фильмов - 164 и 146 соответственно. "
   ]
  },
  {
   "cell_type": "code",
   "execution_count": 52,
   "metadata": {},
   "outputs": [
    {
     "data": {
      "image/png": "[encoded data removed]",
      "text/plain": [
       "<Figure size 720x504 with 1 Axes>"
      ]
     },
     "metadata": {
      "needs_background": "light"
     },
     "output_type": "display_data"
    }
   ],
   "source": [
    "rus_film.groupby('financing_source').agg({'box_office':'sum'}).sort_values(by='box_office', ascending=False).plot(kind='bar', figsize=(10, 7))\n",
    "plt.suptitle('Распределение сборов по источнику финансирования', size=14, y=0.95); \n",
    "plt.show()"
   ]
  },
  {
   "cell_type": "markdown",
   "metadata": {},
   "source": [
    "Из этой гистрограммы мы отчетливо видим, что фильмы спонсируемые Фондом кино зарабатывают значительно больше, чем фильмы спонсируемые Министерством культуры - почти в 7 раз "
   ]
  },
  {
   "cell_type": "code",
   "execution_count": 53,
   "metadata": {},
   "outputs": [
    {
     "data": {
      "image/png": "[encoded data removed]",
      "text/plain": [
       "<Figure size 720x504 with 1 Axes>"
      ]
     },
     "metadata": {
      "needs_background": "light"
     },
     "output_type": "display_data"
    }
   ],
   "source": [
    "rus_film.groupby('financing_source').agg({'budget':'sum'}).sort_values(by='budget', ascending=False).plot(kind='bar', figsize=(10, 7))\n",
    "plt.suptitle('Распределение бюджетов по источнику финансирования', size=14, y=0.95); \n",
    "plt.show()"
   ]
  },
  {
   "cell_type": "markdown",
   "metadata": {},
   "source": [
    "При этом разница на затраты производства фильмов не такая большая - по графику Министерство культуры тратит в два раза меньше Фонда кино "
   ]
  },
  {
   "cell_type": "markdown",
   "metadata": {},
   "source": [
    "Построим графики с бюджетом и сборами в прокате фильмов спонсируемых Фондом кино с 2014 по 2019 годы"
   ]
  },
  {
   "cell_type": "code",
   "execution_count": 54,
   "metadata": {},
   "outputs": [
    {
     "data": {
      "image/png": "[encoded data removed]",
      "text/plain": [
       "<Figure size 720x504 with 1 Axes>"
      ]
     },
     "metadata": {
      "needs_background": "light"
     },
     "output_type": "display_data"
    }
   ],
   "source": [
    "fig, ax = plt.subplots(figsize=(8,6))\n",
    "box_office_1 = rus_film.query('financing_source == \"Фонд кино\"').groupby(['start_year']).agg({'box_office': 'sum'}).plot(figsize=(10, 7), ax=ax)\n",
    "budget_rus_1 = rus_film.query('financing_source == \"Фонд кино\"').groupby(['start_year']).agg({'budget': 'sum'}).plot(figsize=(10, 7), ax=ax)\n",
    "plt.suptitle('Сравнение суммарных сборов фильмов и затраченных бюджетов - Фонд кино', size=14, y=0.95); "
   ]
  },
  {
   "cell_type": "markdown",
   "metadata": {},
   "source": [
    "Видим, что, в целом, такие фильмы окупают затраты на производство, лишь в 2019 бюджет превысил сборы в прокате. "
   ]
  },
  {
   "cell_type": "markdown",
   "metadata": {},
   "source": [
    "Проведем аналогичный анализ для фильмов спонсируемых Министерством культуры."
   ]
  },
  {
   "cell_type": "code",
   "execution_count": 55,
   "metadata": {},
   "outputs": [
    {
     "data": {
      "image/png": "[encoded data removed]",
      "text/plain": [
       "<Figure size 720x504 with 1 Axes>"
      ]
     },
     "metadata": {
      "needs_background": "light"
     },
     "output_type": "display_data"
    }
   ],
   "source": [
    "fig, ax = plt.subplots(figsize=(8,6))\n",
    "box_office_1 = rus_film.query('financing_source == \"Министерство культуры\"').groupby(['start_year']).agg({'box_office': 'sum'}).plot(figsize=(10, 7), ax=ax)\n",
    "budget_rus_1 = rus_film.query('financing_source == \"Министерство культуры\"').groupby(['start_year']).agg({'budget': 'sum'}).plot(figsize=(10, 7), ax=ax)\n",
    "plt.suptitle('Сравнение суммарных сборов фильмов и затраченных бюджетов - Министерство культуры', size=14, y=0.95); "
   ]
  },
  {
   "cell_type": "markdown",
   "metadata": {},
   "source": [
    "Эти фильмы однозначно убыточны"
   ]
  },
  {
   "cell_type": "markdown",
   "metadata": {},
   "source": [
    "Сравним размер возвратной и невозвратной гос.поддержки"
   ]
  },
  {
   "cell_type": "code",
   "execution_count": 56,
   "metadata": {},
   "outputs": [
    {
     "data": {
      "image/png": "[encoded data removed]",
      "text/plain": [
       "<Figure size 720x504 with 1 Axes>"
      ]
     },
     "metadata": {
      "needs_background": "light"
     },
     "output_type": "display_data"
    }
   ],
   "source": [
    "fig, ax = plt.subplots(figsize=(8,6))\n",
    "nonrefundable_support = rus_film.groupby(['start_year']).agg({'nonrefundable_support': 'sum'}).plot(figsize=(10, 7), ax=ax)\n",
    "refundable_support = rus_film.groupby(['start_year']).agg({'refundable_support': 'sum'}).plot(figsize=(10, 7), ax=ax)\n",
    "plt.suptitle('Сравнение объемов возвратной и невозвратной поддержки', size=14, y=0.95); "
   ]
  },
  {
   "cell_type": "code",
   "execution_count": 57,
   "metadata": {},
   "outputs": [
    {
     "data": {
      "image/png": "[encoded data removed]",
      "text/plain": [
       "<Figure size 720x504 with 1 Axes>"
      ]
     },
     "metadata": {
      "needs_background": "light"
     },
     "output_type": "display_data"
    }
   ],
   "source": [
    "t1 = rus_film.pivot_table(index='start_year', columns='financing_source', values='budget', \n",
    "                     aggfunc='sum')\n",
    "t2 = rus_film.pivot_table(index='start_year', columns='financing_source', values='box_office',\n",
    "                     aggfunc='sum')\n",
    "t2.div(t1).plot(figsize=(10, 7))\n",
    "plt.suptitle('Окупаемость проектов с разными источниками финансирования', size=14, y=0.95); "
   ]
  },
  {
   "cell_type": "markdown",
   "metadata": {},
   "source": [
    "Размер невозвратной поддержки значительно превышает размер возвратных средств - можно снимать фильмы, на которые мало кто захочет пойти в кино и не возвращать деньги. "
   ]
  },
  {
   "cell_type": "markdown",
   "metadata": {
    "id": "V2gYwMcPgFyd"
   },
   "source": [
    "## Общий вывод"
   ]
  },
  {
   "cell_type": "markdown",
   "metadata": {},
   "source": [
    "1. Мы провели подготовку данных для исследования проката фильмов, объединили данные в один датафрейм, обработали пропуски и дупликаты, изучили и исправили все количественные и категориальные значения, изменили типы данных оптимизировав датафрейм\n",
    "2. Посчитали, какую долю от общего бюджета фильма составляет государственная поддержка - для большей части фильмов размер поддержки составляет от 0.4 до 0.6 от общего бюджета фильма.\n",
    "3. Определили количество фильмов, выходивших каждый год. Максимальное количество фильмов пришлось на 2019 год, минимальное - на 2017. При этом суммы прокатных сборов имели наибольшее значение в 2018 году,  а минимальная в 2015.\n",
    "4. За период 2015-2019 больше всего собрали фильмы с возрастным рейтингом 16+ - 76 млрд.руб, меньше всего - фильмы с возрастным рейтингом 18+ - 42 млрд.руб. Для фильмов 16+ и 18+ видим рост по сборам и пик в 2017 году, в то время как фильмы 12+ в 2017 году имеют значительный провал по отношению к другим возрастным категориям. Наименее выгодны показы с возрастным ограничием 18+, скорее всего связано с невозможностью допуска к просмотру лиц не достигших 18 лет, в то время, как, например, на фильмы 12+ возможен допуск детей 6+ в присутствии родителей. \n",
    "5. Фильмы с гос. поддержкой в целом не окупают себя, только в 2017 и 2018 годах сумма сборов превысила потраченные на производство фильмов бюджеты, разброс оценок фильмов с гос.поддержкой находится в диапазоне 5-7/10. Нет никакой корреляции между суммой затрат на производство фильма и его оценкой среди зрителей - коэфициент корреляции всего 0.11. В целом Министерство культуры и Фонд кино проспонсировало похожее число фильмов - 164 и 146 соответственно. \n",
    "6. Фильмы спонсируемые Фондом кино зарабатывают значительно больше, чем фильмы спонсируемые Министерством культуры - почти в 7 раз. При этом разница на затраты производства фильмов не такая большая - по графику Министерство культуры тратит в два раза меньше Фонда кино. Размер невозвратной поддержки значительно превышает размер возвратных средств\n"
   ]
  }
 ],
 "metadata": {
  "ExecuteTimeLog": [
   {
    "duration": 537,
    "start_time": "2021-07-07T10:12:08.634Z"
   },
   {
    "duration": 206,
    "start_time": "2021-07-07T10:12:30.191Z"
   },
   {
    "duration": 227,
    "start_time": "2021-07-07T10:12:33.078Z"
   },
   {
    "duration": 153,
    "start_time": "2021-07-07T10:13:42.146Z"
   },
   {
    "duration": 233,
    "start_time": "2021-07-07T10:30:09.252Z"
   },
   {
    "duration": 19,
    "start_time": "2021-07-07T10:30:15.577Z"
   },
   {
    "duration": 18,
    "start_time": "2021-07-07T10:30:57.348Z"
   },
   {
    "duration": 19,
    "start_time": "2021-07-07T10:31:17.452Z"
   },
   {
    "duration": 21,
    "start_time": "2021-07-07T10:31:32.227Z"
   },
   {
    "duration": 27,
    "start_time": "2021-07-07T10:32:06.588Z"
   },
   {
    "duration": 23,
    "start_time": "2021-07-07T10:32:43.645Z"
   },
   {
    "duration": 24,
    "start_time": "2021-07-07T10:33:06.948Z"
   },
   {
    "duration": 7,
    "start_time": "2021-07-07T10:33:28.558Z"
   },
   {
    "duration": 23,
    "start_time": "2021-07-07T10:33:43.761Z"
   },
   {
    "duration": 28,
    "start_time": "2021-07-07T10:34:13.466Z"
   },
   {
    "duration": 23,
    "start_time": "2021-07-07T10:35:56.187Z"
   },
   {
    "duration": 6,
    "start_time": "2021-07-07T10:36:48.182Z"
   },
   {
    "duration": 14,
    "start_time": "2021-07-07T10:37:49.641Z"
   },
   {
    "duration": 6,
    "start_time": "2021-07-07T10:38:06.694Z"
   },
   {
    "duration": 6,
    "start_time": "2021-07-07T10:38:13.493Z"
   },
   {
    "duration": 19,
    "start_time": "2021-07-07T10:38:44.056Z"
   },
   {
    "duration": 186,
    "start_time": "2021-07-07T10:48:35.618Z"
   },
   {
    "duration": 24,
    "start_time": "2021-07-07T10:48:51.498Z"
   },
   {
    "duration": 20,
    "start_time": "2021-07-07T10:48:59.415Z"
   },
   {
    "duration": 20,
    "start_time": "2021-07-07T10:53:02.195Z"
   },
   {
    "duration": 188,
    "start_time": "2021-07-07T10:54:40.486Z"
   },
   {
    "duration": 115,
    "start_time": "2021-07-07T10:54:52.552Z"
   },
   {
    "duration": 214,
    "start_time": "2021-07-07T10:54:56.354Z"
   },
   {
    "duration": 47,
    "start_time": "2021-07-07T10:54:58.282Z"
   },
   {
    "duration": 217,
    "start_time": "2021-07-07T10:59:16.075Z"
   },
   {
    "duration": 51,
    "start_time": "2021-07-07T10:59:16.243Z"
   },
   {
    "duration": 578,
    "start_time": "2021-07-07T10:59:18.774Z"
   },
   {
    "duration": 161,
    "start_time": "2021-07-07T10:59:21.238Z"
   },
   {
    "duration": 59,
    "start_time": "2021-07-07T10:59:21.453Z"
   },
   {
    "duration": 3,
    "start_time": "2021-07-07T11:02:10.786Z"
   },
   {
    "duration": 13,
    "start_time": "2021-07-07T11:07:07.722Z"
   },
   {
    "duration": 26,
    "start_time": "2021-07-07T11:07:17.958Z"
   },
   {
    "duration": 22,
    "start_time": "2021-07-07T11:08:17.939Z"
   },
   {
    "duration": 212,
    "start_time": "2021-07-07T11:08:19.665Z"
   },
   {
    "duration": 21,
    "start_time": "2021-07-07T11:08:29.945Z"
   },
   {
    "duration": 31,
    "start_time": "2021-07-07T11:08:38.899Z"
   },
   {
    "duration": 23,
    "start_time": "2021-07-07T11:08:54.527Z"
   },
   {
    "duration": 8,
    "start_time": "2021-07-07T11:18:55.974Z"
   },
   {
    "duration": 7,
    "start_time": "2021-07-07T11:19:03.639Z"
   },
   {
    "duration": 7,
    "start_time": "2021-07-07T11:19:06.444Z"
   },
   {
    "duration": 578,
    "start_time": "2021-07-07T12:09:59.576Z"
   },
   {
    "duration": 195,
    "start_time": "2021-07-07T12:10:00.156Z"
   },
   {
    "duration": 115,
    "start_time": "2021-07-07T12:10:00.353Z"
   },
   {
    "duration": 3,
    "start_time": "2021-07-07T12:10:00.470Z"
   },
   {
    "duration": 32,
    "start_time": "2021-07-07T12:10:00.474Z"
   },
   {
    "duration": 23,
    "start_time": "2021-07-07T12:10:00.508Z"
   },
   {
    "duration": 19,
    "start_time": "2021-07-07T12:10:00.533Z"
   },
   {
    "duration": 44,
    "start_time": "2021-07-07T12:10:00.553Z"
   },
   {
    "duration": 7,
    "start_time": "2021-07-07T12:10:00.600Z"
   },
   {
    "duration": 7,
    "start_time": "2021-07-07T12:19:45.761Z"
   },
   {
    "duration": 21,
    "start_time": "2021-07-07T12:21:35.482Z"
   },
   {
    "duration": 21,
    "start_time": "2021-07-07T12:29:23.569Z"
   },
   {
    "duration": 525,
    "start_time": "2021-07-07T12:29:44.542Z"
   },
   {
    "duration": 214,
    "start_time": "2021-07-07T12:29:45.069Z"
   },
   {
    "duration": 92,
    "start_time": "2021-07-07T12:29:45.285Z"
   },
   {
    "duration": 3,
    "start_time": "2021-07-07T12:29:45.379Z"
   },
   {
    "duration": 28,
    "start_time": "2021-07-07T12:29:45.384Z"
   },
   {
    "duration": 23,
    "start_time": "2021-07-07T12:29:45.413Z"
   },
   {
    "duration": 21,
    "start_time": "2021-07-07T12:29:45.437Z"
   },
   {
    "duration": 41,
    "start_time": "2021-07-07T12:29:45.460Z"
   },
   {
    "duration": 7,
    "start_time": "2021-07-07T12:29:45.502Z"
   },
   {
    "duration": 20,
    "start_time": "2021-07-07T12:29:45.511Z"
   },
   {
    "duration": 12,
    "start_time": "2021-07-07T12:34:02.800Z"
   },
   {
    "duration": 7,
    "start_time": "2021-07-07T12:35:10.479Z"
   },
   {
    "duration": 8,
    "start_time": "2021-07-07T12:35:22.440Z"
   },
   {
    "duration": 6,
    "start_time": "2021-07-07T12:35:35.649Z"
   },
   {
    "duration": 6,
    "start_time": "2021-07-07T12:35:43.107Z"
   },
   {
    "duration": 22,
    "start_time": "2021-07-07T12:38:03.029Z"
   },
   {
    "duration": 10,
    "start_time": "2021-07-07T12:38:06.592Z"
   },
   {
    "duration": 563,
    "start_time": "2021-07-07T12:38:46.493Z"
   },
   {
    "duration": 265,
    "start_time": "2021-07-07T12:38:47.058Z"
   },
   {
    "duration": 94,
    "start_time": "2021-07-07T12:38:47.325Z"
   },
   {
    "duration": 3,
    "start_time": "2021-07-07T12:38:47.422Z"
   },
   {
    "duration": 30,
    "start_time": "2021-07-07T12:38:47.427Z"
   },
   {
    "duration": 16,
    "start_time": "2021-07-07T12:38:53.305Z"
   },
   {
    "duration": 10,
    "start_time": "2021-07-07T12:38:53.499Z"
   },
   {
    "duration": 8,
    "start_time": "2021-07-07T12:39:48.161Z"
   },
   {
    "duration": 27,
    "start_time": "2021-07-07T12:41:17.629Z"
   },
   {
    "duration": 17,
    "start_time": "2021-07-07T12:41:17.867Z"
   },
   {
    "duration": 21,
    "start_time": "2021-07-07T12:41:19.310Z"
   },
   {
    "duration": 7,
    "start_time": "2021-07-07T12:41:19.544Z"
   },
   {
    "duration": 20,
    "start_time": "2021-07-07T12:41:20.504Z"
   },
   {
    "duration": 554,
    "start_time": "2021-07-07T12:56:23.696Z"
   },
   {
    "duration": 200,
    "start_time": "2021-07-07T12:56:25.234Z"
   },
   {
    "duration": 119,
    "start_time": "2021-07-07T12:56:25.480Z"
   },
   {
    "duration": 4,
    "start_time": "2021-07-07T12:56:25.762Z"
   },
   {
    "duration": 26,
    "start_time": "2021-07-07T12:56:27.172Z"
   },
   {
    "duration": 12,
    "start_time": "2021-07-07T12:56:29.051Z"
   },
   {
    "duration": 10,
    "start_time": "2021-07-07T12:56:29.291Z"
   },
   {
    "duration": 8,
    "start_time": "2021-07-07T12:56:29.623Z"
   },
   {
    "duration": 28,
    "start_time": "2021-07-07T12:56:32.137Z"
   },
   {
    "duration": 19,
    "start_time": "2021-07-07T12:56:39.785Z"
   },
   {
    "duration": 20,
    "start_time": "2021-07-07T12:56:44.297Z"
   },
   {
    "duration": 7,
    "start_time": "2021-07-07T12:56:45.392Z"
   },
   {
    "duration": 23,
    "start_time": "2021-07-07T12:56:46.615Z"
   },
   {
    "duration": 4,
    "start_time": "2021-07-07T12:57:06.625Z"
   },
   {
    "duration": 32,
    "start_time": "2021-07-07T12:57:36.690Z"
   },
   {
    "duration": 18,
    "start_time": "2021-07-07T12:58:00.149Z"
   },
   {
    "duration": 15,
    "start_time": "2021-07-07T12:59:16.793Z"
   },
   {
    "duration": 7,
    "start_time": "2021-07-07T13:19:22.624Z"
   },
   {
    "duration": 6,
    "start_time": "2021-07-07T14:17:33.527Z"
   },
   {
    "duration": 9,
    "start_time": "2021-07-07T14:17:48.409Z"
   },
   {
    "duration": 8,
    "start_time": "2021-07-07T14:20:13.060Z"
   },
   {
    "duration": 8,
    "start_time": "2021-07-07T14:20:37.957Z"
   },
   {
    "duration": 8,
    "start_time": "2021-07-07T14:20:47.470Z"
   },
   {
    "duration": 9,
    "start_time": "2021-07-07T14:20:54.503Z"
   },
   {
    "duration": 10,
    "start_time": "2021-07-07T14:28:57.763Z"
   },
   {
    "duration": 3,
    "start_time": "2021-07-07T14:30:23.377Z"
   },
   {
    "duration": 3,
    "start_time": "2021-07-07T14:30:36.489Z"
   },
   {
    "duration": 103,
    "start_time": "2021-07-07T14:30:52.351Z"
   },
   {
    "duration": 8,
    "start_time": "2021-07-07T14:30:54.763Z"
   },
   {
    "duration": 8,
    "start_time": "2021-07-07T14:31:29.301Z"
   },
   {
    "duration": 13,
    "start_time": "2021-07-07T14:31:44.516Z"
   },
   {
    "duration": 7,
    "start_time": "2021-07-07T14:33:10.972Z"
   },
   {
    "duration": 11,
    "start_time": "2021-07-07T14:33:27.780Z"
   },
   {
    "duration": 8,
    "start_time": "2021-07-07T14:34:44.588Z"
   },
   {
    "duration": 57,
    "start_time": "2021-07-07T14:35:59.042Z"
   },
   {
    "duration": 3,
    "start_time": "2021-07-07T14:36:28.168Z"
   },
   {
    "duration": 5,
    "start_time": "2021-07-07T14:36:46.254Z"
   },
   {
    "duration": 4,
    "start_time": "2021-07-07T14:36:52.714Z"
   },
   {
    "duration": 3,
    "start_time": "2021-07-07T14:36:56.612Z"
   },
   {
    "duration": 4,
    "start_time": "2021-07-07T14:36:57.049Z"
   },
   {
    "duration": 3,
    "start_time": "2021-07-07T14:39:21.214Z"
   },
   {
    "duration": 7,
    "start_time": "2021-07-07T14:39:52.406Z"
   },
   {
    "duration": 11,
    "start_time": "2021-07-07T14:39:58.576Z"
   },
   {
    "duration": 9,
    "start_time": "2021-07-07T14:40:26.301Z"
   },
   {
    "duration": 10,
    "start_time": "2021-07-07T14:40:31.704Z"
   },
   {
    "duration": 11,
    "start_time": "2021-07-07T14:40:36.249Z"
   },
   {
    "duration": 10,
    "start_time": "2021-07-07T14:40:39.783Z"
   },
   {
    "duration": 9,
    "start_time": "2021-07-07T14:40:48.558Z"
   },
   {
    "duration": 10,
    "start_time": "2021-07-07T14:40:57.143Z"
   },
   {
    "duration": 9,
    "start_time": "2021-07-07T14:41:06.074Z"
   },
   {
    "duration": 4324,
    "start_time": "2021-07-07T14:41:22.004Z"
   },
   {
    "duration": 11,
    "start_time": "2021-07-07T14:41:33.392Z"
   },
   {
    "duration": 9,
    "start_time": "2021-07-07T14:41:39.288Z"
   },
   {
    "duration": 569,
    "start_time": "2021-07-07T14:42:14.387Z"
   },
   {
    "duration": 197,
    "start_time": "2021-07-07T14:42:14.959Z"
   },
   {
    "duration": 84,
    "start_time": "2021-07-07T14:42:16.052Z"
   },
   {
    "duration": 4,
    "start_time": "2021-07-07T14:42:16.900Z"
   },
   {
    "duration": 27,
    "start_time": "2021-07-07T14:42:19.898Z"
   },
   {
    "duration": 12,
    "start_time": "2021-07-07T14:42:21.577Z"
   },
   {
    "duration": 9,
    "start_time": "2021-07-07T14:42:21.813Z"
   },
   {
    "duration": 9,
    "start_time": "2021-07-07T14:42:22.569Z"
   },
   {
    "duration": 29,
    "start_time": "2021-07-07T14:42:25.837Z"
   },
   {
    "duration": 20,
    "start_time": "2021-07-07T14:42:27.003Z"
   },
   {
    "duration": 21,
    "start_time": "2021-07-07T14:42:28.767Z"
   },
   {
    "duration": 7,
    "start_time": "2021-07-07T14:42:29.838Z"
   },
   {
    "duration": 4,
    "start_time": "2021-07-07T14:43:25.493Z"
   },
   {
    "duration": 7,
    "start_time": "2021-07-07T14:43:26.573Z"
   },
   {
    "duration": 10,
    "start_time": "2021-07-07T14:43:31.639Z"
   },
   {
    "duration": 9,
    "start_time": "2021-07-07T14:43:32.046Z"
   },
   {
    "duration": 10,
    "start_time": "2021-07-07T14:43:33.301Z"
   },
   {
    "duration": 12,
    "start_time": "2021-07-07T14:43:33.658Z"
   },
   {
    "duration": 8,
    "start_time": "2021-07-07T14:43:34.552Z"
   },
   {
    "duration": 9,
    "start_time": "2021-07-07T14:43:35.058Z"
   },
   {
    "duration": 12,
    "start_time": "2021-07-07T14:43:35.914Z"
   },
   {
    "duration": 17,
    "start_time": "2021-07-07T14:45:34.368Z"
   },
   {
    "duration": 512,
    "start_time": "2021-07-07T14:51:58.236Z"
   },
   {
    "duration": 223,
    "start_time": "2021-07-07T14:51:58.750Z"
   },
   {
    "duration": 93,
    "start_time": "2021-07-07T14:51:58.977Z"
   },
   {
    "duration": 4,
    "start_time": "2021-07-07T14:51:59.071Z"
   },
   {
    "duration": 37,
    "start_time": "2021-07-07T14:51:59.077Z"
   },
   {
    "duration": 18,
    "start_time": "2021-07-07T14:51:59.116Z"
   },
   {
    "duration": 10,
    "start_time": "2021-07-07T14:51:59.137Z"
   },
   {
    "duration": 8,
    "start_time": "2021-07-07T14:51:59.149Z"
   },
   {
    "duration": 54,
    "start_time": "2021-07-07T14:51:59.158Z"
   },
   {
    "duration": 18,
    "start_time": "2021-07-07T14:51:59.213Z"
   },
   {
    "duration": 22,
    "start_time": "2021-07-07T14:51:59.232Z"
   },
   {
    "duration": 36,
    "start_time": "2021-07-07T14:51:59.255Z"
   },
   {
    "duration": 7,
    "start_time": "2021-07-07T14:51:59.293Z"
   },
   {
    "duration": 10,
    "start_time": "2021-07-07T14:51:59.302Z"
   },
   {
    "duration": 9,
    "start_time": "2021-07-07T14:51:59.313Z"
   },
   {
    "duration": 11,
    "start_time": "2021-07-07T14:51:59.324Z"
   },
   {
    "duration": 8,
    "start_time": "2021-07-07T14:51:59.337Z"
   },
   {
    "duration": 46,
    "start_time": "2021-07-07T14:51:59.347Z"
   },
   {
    "duration": 22,
    "start_time": "2021-07-07T14:51:59.395Z"
   },
   {
    "duration": 24,
    "start_time": "2021-07-07T14:57:32.911Z"
   },
   {
    "duration": 7,
    "start_time": "2021-07-07T14:58:22.070Z"
   },
   {
    "duration": 4,
    "start_time": "2021-07-07T14:59:11.239Z"
   },
   {
    "duration": 25,
    "start_time": "2021-07-07T15:07:22.208Z"
   },
   {
    "duration": 16,
    "start_time": "2021-07-07T15:08:25.560Z"
   },
   {
    "duration": 15,
    "start_time": "2021-07-07T15:08:40.647Z"
   },
   {
    "duration": 14,
    "start_time": "2021-07-07T15:08:46.669Z"
   },
   {
    "duration": 533,
    "start_time": "2021-07-07T15:18:07.440Z"
   },
   {
    "duration": 173,
    "start_time": "2021-07-07T15:18:07.974Z"
   },
   {
    "duration": 84,
    "start_time": "2021-07-07T15:18:08.149Z"
   },
   {
    "duration": 3,
    "start_time": "2021-07-07T15:18:08.235Z"
   },
   {
    "duration": 30,
    "start_time": "2021-07-07T15:18:08.240Z"
   },
   {
    "duration": 22,
    "start_time": "2021-07-07T15:18:08.272Z"
   },
   {
    "duration": 11,
    "start_time": "2021-07-07T15:18:08.295Z"
   },
   {
    "duration": 11,
    "start_time": "2021-07-07T15:18:08.309Z"
   },
   {
    "duration": 40,
    "start_time": "2021-07-07T15:18:08.322Z"
   },
   {
    "duration": 42,
    "start_time": "2021-07-07T15:18:08.364Z"
   },
   {
    "duration": 22,
    "start_time": "2021-07-07T15:18:08.408Z"
   },
   {
    "duration": 5,
    "start_time": "2021-07-07T15:18:08.432Z"
   },
   {
    "duration": 13,
    "start_time": "2021-07-07T15:18:08.439Z"
   },
   {
    "duration": 9,
    "start_time": "2021-07-07T15:18:08.454Z"
   },
   {
    "duration": 32,
    "start_time": "2021-07-07T15:18:08.465Z"
   },
   {
    "duration": 10,
    "start_time": "2021-07-07T15:18:08.501Z"
   },
   {
    "duration": 7,
    "start_time": "2021-07-07T15:18:08.513Z"
   },
   {
    "duration": 11,
    "start_time": "2021-07-07T15:18:08.521Z"
   },
   {
    "duration": 17,
    "start_time": "2021-07-07T15:18:08.534Z"
   },
   {
    "duration": 44,
    "start_time": "2021-07-07T15:18:08.553Z"
   },
   {
    "duration": 22,
    "start_time": "2021-07-07T15:18:08.599Z"
   },
   {
    "duration": 61,
    "start_time": "2021-07-07T15:18:08.622Z"
   },
   {
    "duration": 7,
    "start_time": "2021-07-07T15:18:39.457Z"
   },
   {
    "duration": 5,
    "start_time": "2021-07-07T16:05:17.020Z"
   },
   {
    "duration": 5,
    "start_time": "2021-07-07T16:51:28.794Z"
   },
   {
    "duration": 546,
    "start_time": "2021-07-07T16:52:26.306Z"
   },
   {
    "duration": 203,
    "start_time": "2021-07-07T16:52:27.523Z"
   },
   {
    "duration": 85,
    "start_time": "2021-07-07T16:52:27.736Z"
   },
   {
    "duration": 4,
    "start_time": "2021-07-07T16:52:27.899Z"
   },
   {
    "duration": 25,
    "start_time": "2021-07-07T16:52:28.674Z"
   },
   {
    "duration": 8,
    "start_time": "2021-07-07T16:52:32.956Z"
   },
   {
    "duration": 18,
    "start_time": "2021-07-07T16:52:35.616Z"
   },
   {
    "duration": 6,
    "start_time": "2021-07-07T16:52:36.913Z"
   },
   {
    "duration": 11,
    "start_time": "2021-07-07T16:52:40.258Z"
   },
   {
    "duration": 10,
    "start_time": "2021-07-07T16:52:46.251Z"
   },
   {
    "duration": 8,
    "start_time": "2021-07-07T16:52:47.182Z"
   },
   {
    "duration": 27,
    "start_time": "2021-07-07T16:53:20.391Z"
   },
   {
    "duration": 20,
    "start_time": "2021-07-07T16:53:22.022Z"
   },
   {
    "duration": 23,
    "start_time": "2021-07-07T16:53:23.690Z"
   },
   {
    "duration": 8,
    "start_time": "2021-07-07T16:53:24.261Z"
   },
   {
    "duration": 4,
    "start_time": "2021-07-07T16:53:38.733Z"
   },
   {
    "duration": 7,
    "start_time": "2021-07-07T16:53:40.445Z"
   },
   {
    "duration": 11,
    "start_time": "2021-07-07T16:53:41.348Z"
   },
   {
    "duration": 13,
    "start_time": "2021-07-07T16:53:45.250Z"
   },
   {
    "duration": 12,
    "start_time": "2021-07-07T16:53:45.467Z"
   },
   {
    "duration": 4,
    "start_time": "2021-07-07T16:55:32.704Z"
   },
   {
    "duration": 12,
    "start_time": "2021-07-07T16:55:49.012Z"
   },
   {
    "duration": 18,
    "start_time": "2021-07-07T16:55:49.547Z"
   },
   {
    "duration": 611,
    "start_time": "2021-07-07T16:58:35.156Z"
   },
   {
    "duration": 200,
    "start_time": "2021-07-07T16:58:35.770Z"
   },
   {
    "duration": 86,
    "start_time": "2021-07-07T16:58:35.972Z"
   },
   {
    "duration": 3,
    "start_time": "2021-07-07T16:58:36.060Z"
   },
   {
    "duration": 27,
    "start_time": "2021-07-07T16:58:36.065Z"
   },
   {
    "duration": 8,
    "start_time": "2021-07-07T16:58:36.094Z"
   },
   {
    "duration": 17,
    "start_time": "2021-07-07T16:58:36.103Z"
   },
   {
    "duration": 5,
    "start_time": "2021-07-07T16:58:36.123Z"
   },
   {
    "duration": 11,
    "start_time": "2021-07-07T16:58:36.130Z"
   },
   {
    "duration": 7,
    "start_time": "2021-07-07T16:58:36.143Z"
   },
   {
    "duration": 37,
    "start_time": "2021-07-07T16:58:36.152Z"
   },
   {
    "duration": 27,
    "start_time": "2021-07-07T16:58:36.191Z"
   },
   {
    "duration": 19,
    "start_time": "2021-07-07T16:58:36.219Z"
   },
   {
    "duration": 49,
    "start_time": "2021-07-07T16:58:36.240Z"
   },
   {
    "duration": 6,
    "start_time": "2021-07-07T16:58:36.291Z"
   },
   {
    "duration": 3,
    "start_time": "2021-07-07T16:58:36.299Z"
   },
   {
    "duration": 13,
    "start_time": "2021-07-07T16:58:36.304Z"
   },
   {
    "duration": 10,
    "start_time": "2021-07-07T16:58:36.319Z"
   },
   {
    "duration": 10,
    "start_time": "2021-07-07T16:58:36.331Z"
   },
   {
    "duration": 44,
    "start_time": "2021-07-07T16:58:36.343Z"
   },
   {
    "duration": 4,
    "start_time": "2021-07-07T16:58:36.388Z"
   },
   {
    "duration": 13,
    "start_time": "2021-07-07T16:58:36.394Z"
   },
   {
    "duration": 16,
    "start_time": "2021-07-07T16:58:36.410Z"
   },
   {
    "duration": 8,
    "start_time": "2021-07-07T17:02:31.629Z"
   },
   {
    "duration": 8,
    "start_time": "2021-07-07T17:02:34.308Z"
   },
   {
    "duration": 6,
    "start_time": "2021-07-07T17:05:13.483Z"
   },
   {
    "duration": 17,
    "start_time": "2021-07-07T17:05:20.606Z"
   },
   {
    "duration": 7,
    "start_time": "2021-07-07T17:05:34.638Z"
   },
   {
    "duration": 3,
    "start_time": "2021-07-07T17:06:31.883Z"
   },
   {
    "duration": 570,
    "start_time": "2021-07-07T17:06:37.165Z"
   },
   {
    "duration": 174,
    "start_time": "2021-07-07T17:06:37.737Z"
   },
   {
    "duration": 47,
    "start_time": "2021-07-07T17:06:37.913Z"
   },
   {
    "duration": 3,
    "start_time": "2021-07-07T17:06:37.962Z"
   },
   {
    "duration": 27,
    "start_time": "2021-07-07T17:06:37.967Z"
   },
   {
    "duration": 7,
    "start_time": "2021-07-07T17:06:37.996Z"
   },
   {
    "duration": 16,
    "start_time": "2021-07-07T17:06:38.005Z"
   },
   {
    "duration": 6,
    "start_time": "2021-07-07T17:06:38.024Z"
   },
   {
    "duration": 12,
    "start_time": "2021-07-07T17:06:38.031Z"
   },
   {
    "duration": 41,
    "start_time": "2021-07-07T17:06:38.045Z"
   },
   {
    "duration": 8,
    "start_time": "2021-07-07T17:06:38.088Z"
   },
   {
    "duration": 26,
    "start_time": "2021-07-07T17:06:38.098Z"
   },
   {
    "duration": 17,
    "start_time": "2021-07-07T17:06:38.126Z"
   },
   {
    "duration": 43,
    "start_time": "2021-07-07T17:06:38.144Z"
   },
   {
    "duration": 6,
    "start_time": "2021-07-07T17:06:38.188Z"
   },
   {
    "duration": 5,
    "start_time": "2021-07-07T17:06:38.195Z"
   },
   {
    "duration": 9,
    "start_time": "2021-07-07T17:06:38.201Z"
   },
   {
    "duration": 12,
    "start_time": "2021-07-07T17:06:38.212Z"
   },
   {
    "duration": 11,
    "start_time": "2021-07-07T17:06:38.226Z"
   },
   {
    "duration": 47,
    "start_time": "2021-07-07T17:06:38.239Z"
   },
   {
    "duration": 4,
    "start_time": "2021-07-07T17:06:38.288Z"
   },
   {
    "duration": 13,
    "start_time": "2021-07-07T17:06:38.293Z"
   },
   {
    "duration": 5,
    "start_time": "2021-07-07T17:06:38.309Z"
   },
   {
    "duration": 18,
    "start_time": "2021-07-07T17:06:38.325Z"
   },
   {
    "duration": 20,
    "start_time": "2021-07-07T17:07:02.805Z"
   },
   {
    "duration": 19,
    "start_time": "2021-07-07T17:07:08.527Z"
   },
   {
    "duration": 19,
    "start_time": "2021-07-07T17:07:12.758Z"
   },
   {
    "duration": 22,
    "start_time": "2021-07-07T17:07:17.497Z"
   },
   {
    "duration": 19,
    "start_time": "2021-07-07T17:07:19.645Z"
   },
   {
    "duration": 10,
    "start_time": "2021-07-07T17:07:34.239Z"
   },
   {
    "duration": 17,
    "start_time": "2021-07-07T17:07:54.144Z"
   },
   {
    "duration": 14,
    "start_time": "2021-07-07T17:08:14.357Z"
   },
   {
    "duration": 616,
    "start_time": "2021-07-07T17:08:45.254Z"
   },
   {
    "duration": 178,
    "start_time": "2021-07-07T17:08:45.872Z"
   },
   {
    "duration": 60,
    "start_time": "2021-07-07T17:08:46.054Z"
   },
   {
    "duration": 3,
    "start_time": "2021-07-07T17:08:46.116Z"
   },
   {
    "duration": 26,
    "start_time": "2021-07-07T17:08:46.121Z"
   },
   {
    "duration": 7,
    "start_time": "2021-07-07T17:08:46.149Z"
   },
   {
    "duration": 17,
    "start_time": "2021-07-07T17:08:46.158Z"
   },
   {
    "duration": 14,
    "start_time": "2021-07-07T17:08:46.176Z"
   },
   {
    "duration": 17,
    "start_time": "2021-07-07T17:08:46.193Z"
   },
   {
    "duration": 9,
    "start_time": "2021-07-07T17:08:46.211Z"
   },
   {
    "duration": 21,
    "start_time": "2021-07-07T17:08:46.221Z"
   },
   {
    "duration": 49,
    "start_time": "2021-07-07T17:08:46.244Z"
   },
   {
    "duration": 24,
    "start_time": "2021-07-07T17:08:46.295Z"
   },
   {
    "duration": 22,
    "start_time": "2021-07-07T17:08:46.321Z"
   },
   {
    "duration": 6,
    "start_time": "2021-07-07T17:08:46.345Z"
   },
   {
    "duration": 5,
    "start_time": "2021-07-07T17:08:46.353Z"
   },
   {
    "duration": 13,
    "start_time": "2021-07-07T17:08:46.386Z"
   },
   {
    "duration": 12,
    "start_time": "2021-07-07T17:08:46.402Z"
   },
   {
    "duration": 10,
    "start_time": "2021-07-07T17:08:46.415Z"
   },
   {
    "duration": 7,
    "start_time": "2021-07-07T17:08:46.427Z"
   },
   {
    "duration": 8,
    "start_time": "2021-07-07T17:08:46.435Z"
   },
   {
    "duration": 68,
    "start_time": "2021-07-07T17:08:46.446Z"
   },
   {
    "duration": 13,
    "start_time": "2021-07-07T17:08:46.516Z"
   },
   {
    "duration": 78,
    "start_time": "2021-07-07T17:08:46.530Z"
   },
   {
    "duration": 40,
    "start_time": "2021-07-07T17:09:08.185Z"
   },
   {
    "duration": 16,
    "start_time": "2021-07-07T17:09:19.324Z"
   },
   {
    "duration": 21,
    "start_time": "2021-07-07T17:09:23.290Z"
   },
   {
    "duration": 13,
    "start_time": "2021-07-07T17:09:54.812Z"
   },
   {
    "duration": 13,
    "start_time": "2021-07-07T17:10:02.039Z"
   },
   {
    "duration": 10,
    "start_time": "2021-07-07T17:10:29.632Z"
   },
   {
    "duration": 13,
    "start_time": "2021-07-07T17:10:52.372Z"
   },
   {
    "duration": 13,
    "start_time": "2021-07-07T17:11:17.270Z"
   },
   {
    "duration": 13,
    "start_time": "2021-07-07T17:14:59.284Z"
   },
   {
    "duration": 547,
    "start_time": "2021-07-07T17:18:52.403Z"
   },
   {
    "duration": 163,
    "start_time": "2021-07-07T17:18:52.952Z"
   },
   {
    "duration": 44,
    "start_time": "2021-07-07T17:18:53.117Z"
   },
   {
    "duration": 3,
    "start_time": "2021-07-07T17:18:53.162Z"
   },
   {
    "duration": 26,
    "start_time": "2021-07-07T17:18:53.167Z"
   },
   {
    "duration": 6,
    "start_time": "2021-07-07T17:18:53.195Z"
   },
   {
    "duration": 15,
    "start_time": "2021-07-07T17:18:53.203Z"
   },
   {
    "duration": 5,
    "start_time": "2021-07-07T17:18:53.220Z"
   },
   {
    "duration": 11,
    "start_time": "2021-07-07T17:18:53.228Z"
   },
   {
    "duration": 9,
    "start_time": "2021-07-07T17:18:53.241Z"
   },
   {
    "duration": 41,
    "start_time": "2021-07-07T17:18:53.252Z"
   },
   {
    "duration": 33,
    "start_time": "2021-07-07T17:18:53.295Z"
   },
   {
    "duration": 19,
    "start_time": "2021-07-07T17:18:53.330Z"
   },
   {
    "duration": 49,
    "start_time": "2021-07-07T17:18:53.350Z"
   },
   {
    "duration": 5,
    "start_time": "2021-07-07T17:18:53.401Z"
   },
   {
    "duration": 5,
    "start_time": "2021-07-07T17:18:53.408Z"
   },
   {
    "duration": 11,
    "start_time": "2021-07-07T17:18:53.414Z"
   },
   {
    "duration": 9,
    "start_time": "2021-07-07T17:18:53.427Z"
   },
   {
    "duration": 10,
    "start_time": "2021-07-07T17:18:53.437Z"
   },
   {
    "duration": 39,
    "start_time": "2021-07-07T17:18:53.448Z"
   },
   {
    "duration": 26,
    "start_time": "2021-07-07T17:18:55.799Z"
   },
   {
    "duration": 598,
    "start_time": "2021-07-07T17:20:17.862Z"
   },
   {
    "duration": 161,
    "start_time": "2021-07-07T17:20:18.462Z"
   },
   {
    "duration": 45,
    "start_time": "2021-07-07T17:20:18.626Z"
   },
   {
    "duration": 4,
    "start_time": "2021-07-07T17:20:18.673Z"
   },
   {
    "duration": 38,
    "start_time": "2021-07-07T17:20:26.877Z"
   },
   {
    "duration": 7,
    "start_time": "2021-07-07T17:20:37.405Z"
   },
   {
    "duration": 19,
    "start_time": "2021-07-07T17:20:51.534Z"
   },
   {
    "duration": 5,
    "start_time": "2021-07-07T17:20:57.228Z"
   },
   {
    "duration": 7,
    "start_time": "2021-07-07T17:21:08.235Z"
   },
   {
    "duration": 19,
    "start_time": "2021-07-07T17:21:42.158Z"
   },
   {
    "duration": 14,
    "start_time": "2021-07-07T17:21:50.225Z"
   },
   {
    "duration": 22,
    "start_time": "2021-07-07T17:22:54.104Z"
   },
   {
    "duration": 5,
    "start_time": "2021-07-07T17:22:56.371Z"
   },
   {
    "duration": 14,
    "start_time": "2021-07-07T17:22:58.316Z"
   },
   {
    "duration": 5,
    "start_time": "2021-07-07T17:22:58.493Z"
   },
   {
    "duration": 35,
    "start_time": "2021-07-07T17:22:59.666Z"
   },
   {
    "duration": 6,
    "start_time": "2021-07-07T17:23:02.410Z"
   },
   {
    "duration": 611,
    "start_time": "2021-07-07T17:24:59.664Z"
   },
   {
    "duration": 178,
    "start_time": "2021-07-07T17:25:01.945Z"
   },
   {
    "duration": 47,
    "start_time": "2021-07-07T17:25:02.125Z"
   },
   {
    "duration": 2,
    "start_time": "2021-07-07T17:25:07.903Z"
   },
   {
    "duration": 254,
    "start_time": "2021-07-07T17:25:08.232Z"
   },
   {
    "duration": 182,
    "start_time": "2021-07-07T17:25:08.671Z"
   },
   {
    "duration": 6,
    "start_time": "2021-07-07T17:25:13.104Z"
   },
   {
    "duration": 36,
    "start_time": "2021-07-07T17:25:13.662Z"
   },
   {
    "duration": 7,
    "start_time": "2021-07-07T17:25:14.528Z"
   },
   {
    "duration": 24,
    "start_time": "2021-07-07T17:25:27.982Z"
   },
   {
    "duration": 3,
    "start_time": "2021-07-07T17:25:48.982Z"
   },
   {
    "duration": 165,
    "start_time": "2021-07-07T17:25:48.987Z"
   },
   {
    "duration": 50,
    "start_time": "2021-07-07T17:25:49.154Z"
   },
   {
    "duration": 4,
    "start_time": "2021-07-07T17:25:49.206Z"
   },
   {
    "duration": 26,
    "start_time": "2021-07-07T17:25:49.212Z"
   },
   {
    "duration": 7,
    "start_time": "2021-07-07T17:25:49.240Z"
   },
   {
    "duration": 16,
    "start_time": "2021-07-07T17:25:49.249Z"
   },
   {
    "duration": 22,
    "start_time": "2021-07-07T17:25:49.266Z"
   },
   {
    "duration": 16,
    "start_time": "2021-07-07T17:25:49.291Z"
   },
   {
    "duration": 9,
    "start_time": "2021-07-07T17:25:49.309Z"
   },
   {
    "duration": 7,
    "start_time": "2021-07-07T17:25:49.319Z"
   },
   {
    "duration": 28,
    "start_time": "2021-07-07T17:25:49.328Z"
   },
   {
    "duration": 44,
    "start_time": "2021-07-07T17:25:49.357Z"
   },
   {
    "duration": 22,
    "start_time": "2021-07-07T17:25:49.403Z"
   },
   {
    "duration": 7,
    "start_time": "2021-07-07T17:25:49.427Z"
   },
   {
    "duration": 3,
    "start_time": "2021-07-07T17:25:49.436Z"
   },
   {
    "duration": 44,
    "start_time": "2021-07-07T17:25:49.441Z"
   },
   {
    "duration": 12,
    "start_time": "2021-07-07T17:25:49.488Z"
   },
   {
    "duration": 13,
    "start_time": "2021-07-07T17:25:49.502Z"
   },
   {
    "duration": 10,
    "start_time": "2021-07-07T17:25:49.516Z"
   },
   {
    "duration": 62,
    "start_time": "2021-07-07T17:25:49.527Z"
   },
   {
    "duration": 26,
    "start_time": "2021-07-07T17:26:51.809Z"
   },
   {
    "duration": 26,
    "start_time": "2021-07-07T17:26:55.759Z"
   },
   {
    "duration": 26,
    "start_time": "2021-07-07T17:27:04.501Z"
   },
   {
    "duration": 25,
    "start_time": "2021-07-07T17:28:24.859Z"
   },
   {
    "duration": 21,
    "start_time": "2021-07-07T17:28:55.250Z"
   },
   {
    "duration": 21,
    "start_time": "2021-07-07T17:28:58.885Z"
   },
   {
    "duration": 7,
    "start_time": "2021-07-07T17:45:40.972Z"
   },
   {
    "duration": 13,
    "start_time": "2021-07-07T17:45:42.529Z"
   },
   {
    "duration": 27,
    "start_time": "2021-07-07T17:45:51.026Z"
   },
   {
    "duration": 518,
    "start_time": "2021-07-07T17:46:15.532Z"
   },
   {
    "duration": 235,
    "start_time": "2021-07-07T17:46:16.053Z"
   },
   {
    "duration": 80,
    "start_time": "2021-07-07T17:46:16.292Z"
   },
   {
    "duration": 5,
    "start_time": "2021-07-07T17:46:16.373Z"
   },
   {
    "duration": 26,
    "start_time": "2021-07-07T17:46:16.380Z"
   },
   {
    "duration": 7,
    "start_time": "2021-07-07T17:46:16.408Z"
   },
   {
    "duration": 16,
    "start_time": "2021-07-07T17:46:16.418Z"
   },
   {
    "duration": 5,
    "start_time": "2021-07-07T17:46:16.436Z"
   },
   {
    "duration": 13,
    "start_time": "2021-07-07T17:46:16.442Z"
   },
   {
    "duration": 35,
    "start_time": "2021-07-07T17:46:16.456Z"
   },
   {
    "duration": 8,
    "start_time": "2021-07-07T17:46:16.493Z"
   },
   {
    "duration": 28,
    "start_time": "2021-07-07T17:46:16.502Z"
   },
   {
    "duration": 17,
    "start_time": "2021-07-07T17:46:16.532Z"
   },
   {
    "duration": 44,
    "start_time": "2021-07-07T17:46:16.551Z"
   },
   {
    "duration": 6,
    "start_time": "2021-07-07T17:46:16.597Z"
   },
   {
    "duration": 4,
    "start_time": "2021-07-07T17:46:16.605Z"
   },
   {
    "duration": 9,
    "start_time": "2021-07-07T17:46:16.610Z"
   },
   {
    "duration": 9,
    "start_time": "2021-07-07T17:46:16.621Z"
   },
   {
    "duration": 10,
    "start_time": "2021-07-07T17:46:16.632Z"
   },
   {
    "duration": 43,
    "start_time": "2021-07-07T17:46:16.644Z"
   },
   {
    "duration": 26,
    "start_time": "2021-07-07T17:46:16.689Z"
   },
   {
    "duration": 19,
    "start_time": "2021-07-07T17:46:16.718Z"
   },
   {
    "duration": 8,
    "start_time": "2021-07-07T17:46:16.738Z"
   },
   {
    "duration": 43,
    "start_time": "2021-07-07T17:46:16.747Z"
   },
   {
    "duration": 19,
    "start_time": "2021-07-07T17:46:16.791Z"
   },
   {
    "duration": 9,
    "start_time": "2021-07-07T17:46:16.812Z"
   },
   {
    "duration": 60,
    "start_time": "2021-07-07T17:46:16.822Z"
   },
   {
    "duration": -8,
    "start_time": "2021-07-07T17:46:16.892Z"
   },
   {
    "duration": 12,
    "start_time": "2021-07-07T17:48:47.707Z"
   },
   {
    "duration": 553,
    "start_time": "2021-07-07T18:10:09.350Z"
   },
   {
    "duration": 230,
    "start_time": "2021-07-07T18:10:09.905Z"
   },
   {
    "duration": 97,
    "start_time": "2021-07-07T18:10:10.137Z"
   },
   {
    "duration": 5,
    "start_time": "2021-07-07T18:10:10.236Z"
   },
   {
    "duration": 29,
    "start_time": "2021-07-07T18:10:10.242Z"
   },
   {
    "duration": 7,
    "start_time": "2021-07-07T18:10:10.272Z"
   },
   {
    "duration": 15,
    "start_time": "2021-07-07T18:10:10.281Z"
   },
   {
    "duration": 4,
    "start_time": "2021-07-07T18:10:10.299Z"
   },
   {
    "duration": 14,
    "start_time": "2021-07-07T18:10:10.305Z"
   },
   {
    "duration": 8,
    "start_time": "2021-07-07T18:10:10.321Z"
   },
   {
    "duration": 8,
    "start_time": "2021-07-07T18:10:10.331Z"
   },
   {
    "duration": 56,
    "start_time": "2021-07-07T18:10:10.341Z"
   },
   {
    "duration": 19,
    "start_time": "2021-07-07T18:10:10.399Z"
   },
   {
    "duration": 23,
    "start_time": "2021-07-07T18:10:10.419Z"
   },
   {
    "duration": 6,
    "start_time": "2021-07-07T18:10:10.444Z"
   },
   {
    "duration": 9,
    "start_time": "2021-07-07T18:10:10.451Z"
   },
   {
    "duration": 30,
    "start_time": "2021-07-07T18:10:10.462Z"
   },
   {
    "duration": 9,
    "start_time": "2021-07-07T18:10:10.494Z"
   },
   {
    "duration": 14,
    "start_time": "2021-07-07T18:10:10.505Z"
   },
   {
    "duration": 7,
    "start_time": "2021-07-07T18:10:10.521Z"
   },
   {
    "duration": 26,
    "start_time": "2021-07-07T18:10:10.530Z"
   },
   {
    "duration": 44,
    "start_time": "2021-07-07T18:10:10.558Z"
   },
   {
    "duration": 7,
    "start_time": "2021-07-07T18:10:10.605Z"
   },
   {
    "duration": 11,
    "start_time": "2021-07-07T18:10:10.614Z"
   },
   {
    "duration": 19,
    "start_time": "2021-07-07T18:10:10.626Z"
   },
   {
    "duration": 44,
    "start_time": "2021-07-07T18:10:10.646Z"
   },
   {
    "duration": 516,
    "start_time": "2021-07-07T18:14:00.826Z"
   },
   {
    "duration": 230,
    "start_time": "2021-07-07T18:14:01.344Z"
   },
   {
    "duration": 105,
    "start_time": "2021-07-07T18:14:01.576Z"
   },
   {
    "duration": 5,
    "start_time": "2021-07-07T18:14:01.683Z"
   },
   {
    "duration": 46,
    "start_time": "2021-07-07T18:14:01.690Z"
   },
   {
    "duration": 7,
    "start_time": "2021-07-07T18:14:01.738Z"
   },
   {
    "duration": 20,
    "start_time": "2021-07-07T18:14:01.747Z"
   },
   {
    "duration": 16,
    "start_time": "2021-07-07T18:14:01.769Z"
   },
   {
    "duration": 14,
    "start_time": "2021-07-07T18:14:01.787Z"
   },
   {
    "duration": 15,
    "start_time": "2021-07-07T18:14:01.803Z"
   },
   {
    "duration": 12,
    "start_time": "2021-07-07T18:14:01.820Z"
   },
   {
    "duration": 35,
    "start_time": "2021-07-07T18:14:01.833Z"
   },
   {
    "duration": 31,
    "start_time": "2021-07-07T18:14:01.869Z"
   },
   {
    "duration": 37,
    "start_time": "2021-07-07T18:14:01.902Z"
   },
   {
    "duration": 8,
    "start_time": "2021-07-07T18:14:01.942Z"
   },
   {
    "duration": 16,
    "start_time": "2021-07-07T18:14:01.952Z"
   },
   {
    "duration": 13,
    "start_time": "2021-07-07T18:14:01.970Z"
   },
   {
    "duration": 32,
    "start_time": "2021-07-07T18:14:01.985Z"
   },
   {
    "duration": 11,
    "start_time": "2021-07-07T18:14:02.019Z"
   },
   {
    "duration": 22,
    "start_time": "2021-07-07T18:14:02.031Z"
   },
   {
    "duration": 27,
    "start_time": "2021-07-07T18:14:02.055Z"
   },
   {
    "duration": 18,
    "start_time": "2021-07-07T18:14:02.084Z"
   },
   {
    "duration": 18,
    "start_time": "2021-07-07T18:14:02.106Z"
   },
   {
    "duration": 11,
    "start_time": "2021-07-07T18:14:02.126Z"
   },
   {
    "duration": 21,
    "start_time": "2021-07-07T18:14:02.138Z"
   },
   {
    "duration": 32,
    "start_time": "2021-07-07T18:14:02.161Z"
   },
   {
    "duration": 28,
    "start_time": "2021-07-07T18:14:44.295Z"
   },
   {
    "duration": 6,
    "start_time": "2021-07-07T18:15:05.834Z"
   },
   {
    "duration": 511,
    "start_time": "2021-07-07T18:15:41.541Z"
   },
   {
    "duration": 183,
    "start_time": "2021-07-07T18:15:42.054Z"
   },
   {
    "duration": 50,
    "start_time": "2021-07-07T18:15:42.239Z"
   },
   {
    "duration": 5,
    "start_time": "2021-07-07T18:15:42.291Z"
   },
   {
    "duration": 48,
    "start_time": "2021-07-07T18:15:42.297Z"
   },
   {
    "duration": 8,
    "start_time": "2021-07-07T18:15:42.346Z"
   },
   {
    "duration": 17,
    "start_time": "2021-07-07T18:15:42.356Z"
   },
   {
    "duration": 15,
    "start_time": "2021-07-07T18:15:42.375Z"
   },
   {
    "duration": 12,
    "start_time": "2021-07-07T18:15:42.392Z"
   },
   {
    "duration": 7,
    "start_time": "2021-07-07T18:15:42.406Z"
   },
   {
    "duration": 7,
    "start_time": "2021-07-07T18:15:42.415Z"
   },
   {
    "duration": 29,
    "start_time": "2021-07-07T18:15:42.423Z"
   },
   {
    "duration": 43,
    "start_time": "2021-07-07T18:15:42.453Z"
   },
   {
    "duration": 18,
    "start_time": "2021-07-07T18:15:42.497Z"
   },
   {
    "duration": 6,
    "start_time": "2021-07-07T18:15:42.516Z"
   },
   {
    "duration": 3,
    "start_time": "2021-07-07T18:15:42.523Z"
   },
   {
    "duration": 18,
    "start_time": "2021-07-07T18:15:42.528Z"
   },
   {
    "duration": 10,
    "start_time": "2021-07-07T18:15:42.547Z"
   },
   {
    "duration": 36,
    "start_time": "2021-07-07T18:15:42.559Z"
   },
   {
    "duration": 8,
    "start_time": "2021-07-07T18:15:42.597Z"
   },
   {
    "duration": 28,
    "start_time": "2021-07-07T18:15:42.606Z"
   },
   {
    "duration": 52,
    "start_time": "2021-07-07T18:15:42.635Z"
   },
   {
    "duration": 7,
    "start_time": "2021-07-07T18:15:42.690Z"
   },
   {
    "duration": 10,
    "start_time": "2021-07-07T18:15:42.699Z"
   },
   {
    "duration": 19,
    "start_time": "2021-07-07T18:15:42.711Z"
   },
   {
    "duration": 9,
    "start_time": "2021-07-07T18:15:42.732Z"
   },
   {
    "duration": 5,
    "start_time": "2021-07-07T18:15:42.743Z"
   },
   {
    "duration": 1450,
    "start_time": "2021-07-07T18:15:51.984Z"
   },
   {
    "duration": 161,
    "start_time": "2021-07-07T18:15:53.435Z"
   },
   {
    "duration": 124,
    "start_time": "2021-07-07T18:15:53.598Z"
   },
   {
    "duration": 5,
    "start_time": "2021-07-07T18:15:53.724Z"
   },
   {
    "duration": 34,
    "start_time": "2021-07-07T18:15:53.730Z"
   },
   {
    "duration": 7,
    "start_time": "2021-07-07T18:15:53.765Z"
   },
   {
    "duration": 15,
    "start_time": "2021-07-07T18:15:53.773Z"
   },
   {
    "duration": 5,
    "start_time": "2021-07-07T18:15:53.791Z"
   },
   {
    "duration": 19,
    "start_time": "2021-07-07T18:15:53.798Z"
   },
   {
    "duration": 9,
    "start_time": "2021-07-07T18:15:53.818Z"
   },
   {
    "duration": 19,
    "start_time": "2021-07-07T18:15:53.828Z"
   },
   {
    "duration": 27,
    "start_time": "2021-07-07T18:15:53.848Z"
   },
   {
    "duration": 16,
    "start_time": "2021-07-07T18:15:53.884Z"
   },
   {
    "duration": 29,
    "start_time": "2021-07-07T18:15:53.901Z"
   },
   {
    "duration": 5,
    "start_time": "2021-07-07T18:15:53.932Z"
   },
   {
    "duration": 15,
    "start_time": "2021-07-07T18:15:53.939Z"
   },
   {
    "duration": 13,
    "start_time": "2021-07-07T18:15:53.956Z"
   },
   {
    "duration": 20,
    "start_time": "2021-07-07T18:15:53.971Z"
   },
   {
    "duration": 14,
    "start_time": "2021-07-07T18:15:53.992Z"
   },
   {
    "duration": 9,
    "start_time": "2021-07-07T18:15:54.009Z"
   },
   {
    "duration": 28,
    "start_time": "2021-07-07T18:15:54.020Z"
   },
   {
    "duration": 50,
    "start_time": "2021-07-07T18:15:54.051Z"
   },
   {
    "duration": 8,
    "start_time": "2021-07-07T18:15:54.105Z"
   },
   {
    "duration": 11,
    "start_time": "2021-07-07T18:15:54.115Z"
   },
   {
    "duration": 20,
    "start_time": "2021-07-07T18:15:54.128Z"
   },
   {
    "duration": 13,
    "start_time": "2021-07-07T18:15:54.184Z"
   },
   {
    "duration": 7,
    "start_time": "2021-07-07T18:15:54.199Z"
   },
   {
    "duration": 7,
    "start_time": "2021-07-07T18:17:08.042Z"
   },
   {
    "duration": 8,
    "start_time": "2021-07-07T18:17:21.008Z"
   },
   {
    "duration": 7,
    "start_time": "2021-07-07T18:17:29.003Z"
   },
   {
    "duration": 8,
    "start_time": "2021-07-07T18:17:32.492Z"
   },
   {
    "duration": 9,
    "start_time": "2021-07-07T18:17:41.758Z"
   },
   {
    "duration": 255,
    "start_time": "2021-07-07T18:20:20.897Z"
   },
   {
    "duration": 173,
    "start_time": "2021-07-07T18:20:26.636Z"
   },
   {
    "duration": 7,
    "start_time": "2021-07-07T18:21:47.164Z"
   },
   {
    "duration": 254,
    "start_time": "2021-07-07T18:23:08.703Z"
   },
   {
    "duration": 21,
    "start_time": "2021-07-07T18:23:22.506Z"
   },
   {
    "duration": 315,
    "start_time": "2021-07-07T18:25:54.801Z"
   },
   {
    "duration": 34,
    "start_time": "2021-07-07T18:26:51.817Z"
   },
   {
    "duration": 327,
    "start_time": "2021-07-07T18:26:56.147Z"
   },
   {
    "duration": 342,
    "start_time": "2021-07-07T18:27:15.887Z"
   },
   {
    "duration": 302,
    "start_time": "2021-07-07T18:28:18.569Z"
   },
   {
    "duration": 226,
    "start_time": "2021-07-07T18:29:20.879Z"
   },
   {
    "duration": 207,
    "start_time": "2021-07-07T18:29:58.114Z"
   },
   {
    "duration": 140,
    "start_time": "2021-07-07T18:32:04.372Z"
   },
   {
    "duration": 158,
    "start_time": "2021-07-07T18:32:32.508Z"
   },
   {
    "duration": 145,
    "start_time": "2021-07-07T18:32:41.365Z"
   },
   {
    "duration": 132,
    "start_time": "2021-07-07T18:32:45.199Z"
   },
   {
    "duration": 11,
    "start_time": "2021-07-07T18:35:24.679Z"
   },
   {
    "duration": 268,
    "start_time": "2021-07-07T18:36:16.145Z"
   },
   {
    "duration": 227,
    "start_time": "2021-07-07T18:37:04.918Z"
   },
   {
    "duration": 3,
    "start_time": "2021-07-07T18:37:33.012Z"
   },
   {
    "duration": 671,
    "start_time": "2021-07-07T18:37:38.295Z"
   },
   {
    "duration": 54,
    "start_time": "2021-07-07T18:37:53.406Z"
   },
   {
    "duration": 631,
    "start_time": "2021-07-07T18:37:56.463Z"
   },
   {
    "duration": 19,
    "start_time": "2021-07-07T18:39:40.535Z"
   },
   {
    "duration": 20,
    "start_time": "2021-07-07T18:40:12.236Z"
   },
   {
    "duration": 633,
    "start_time": "2021-07-07T18:42:00.398Z"
   },
   {
    "duration": 218,
    "start_time": "2021-07-07T18:42:01.033Z"
   },
   {
    "duration": 49,
    "start_time": "2021-07-07T18:42:01.253Z"
   },
   {
    "duration": 5,
    "start_time": "2021-07-07T18:42:01.303Z"
   },
   {
    "duration": 27,
    "start_time": "2021-07-07T18:42:01.310Z"
   },
   {
    "duration": 8,
    "start_time": "2021-07-07T18:42:01.339Z"
   },
   {
    "duration": 20,
    "start_time": "2021-07-07T18:42:01.348Z"
   },
   {
    "duration": 6,
    "start_time": "2021-07-07T18:42:01.386Z"
   },
   {
    "duration": 16,
    "start_time": "2021-07-07T18:42:01.394Z"
   },
   {
    "duration": 9,
    "start_time": "2021-07-07T18:42:01.411Z"
   },
   {
    "duration": 11,
    "start_time": "2021-07-07T18:42:01.421Z"
   },
   {
    "duration": 31,
    "start_time": "2021-07-07T18:42:01.434Z"
   },
   {
    "duration": 18,
    "start_time": "2021-07-07T18:42:01.485Z"
   },
   {
    "duration": 23,
    "start_time": "2021-07-07T18:42:01.505Z"
   },
   {
    "duration": 6,
    "start_time": "2021-07-07T18:42:01.530Z"
   },
   {
    "duration": 10,
    "start_time": "2021-07-07T18:42:01.538Z"
   },
   {
    "duration": 13,
    "start_time": "2021-07-07T18:42:01.550Z"
   },
   {
    "duration": 24,
    "start_time": "2021-07-07T18:42:01.564Z"
   },
   {
    "duration": 20,
    "start_time": "2021-07-07T18:42:01.590Z"
   },
   {
    "duration": 8,
    "start_time": "2021-07-07T18:42:01.611Z"
   },
   {
    "duration": 31,
    "start_time": "2021-07-07T18:42:01.620Z"
   },
   {
    "duration": 39,
    "start_time": "2021-07-07T18:42:01.653Z"
   },
   {
    "duration": 8,
    "start_time": "2021-07-07T18:42:01.696Z"
   },
   {
    "duration": 13,
    "start_time": "2021-07-07T18:42:01.705Z"
   },
   {
    "duration": 20,
    "start_time": "2021-07-07T18:42:01.720Z"
   },
   {
    "duration": 12,
    "start_time": "2021-07-07T18:42:01.741Z"
   },
   {
    "duration": 35,
    "start_time": "2021-07-07T18:42:01.755Z"
   },
   {
    "duration": 14,
    "start_time": "2021-07-07T18:42:01.792Z"
   },
   {
    "duration": 188,
    "start_time": "2021-07-07T18:42:01.808Z"
   },
   {
    "duration": 19,
    "start_time": "2021-07-07T18:42:01.998Z"
   },
   {
    "duration": 175,
    "start_time": "2021-07-07T18:42:02.019Z"
   },
   {
    "duration": 134,
    "start_time": "2021-07-07T18:42:02.196Z"
   },
   {
    "duration": 10,
    "start_time": "2021-07-07T18:42:02.331Z"
   },
   {
    "duration": 19,
    "start_time": "2021-07-07T18:42:02.343Z"
   },
   {
    "duration": 628,
    "start_time": "2021-07-07T18:46:30.701Z"
   },
   {
    "duration": 183,
    "start_time": "2021-07-07T18:46:31.331Z"
   },
   {
    "duration": 48,
    "start_time": "2021-07-07T18:46:31.516Z"
   },
   {
    "duration": 5,
    "start_time": "2021-07-07T18:46:31.566Z"
   },
   {
    "duration": 28,
    "start_time": "2021-07-07T18:46:31.572Z"
   },
   {
    "duration": 8,
    "start_time": "2021-07-07T18:46:31.602Z"
   },
   {
    "duration": 19,
    "start_time": "2021-07-07T18:46:31.611Z"
   },
   {
    "duration": 6,
    "start_time": "2021-07-07T18:46:31.633Z"
   },
   {
    "duration": 17,
    "start_time": "2021-07-07T18:46:31.642Z"
   },
   {
    "duration": 10,
    "start_time": "2021-07-07T18:46:31.684Z"
   },
   {
    "duration": 9,
    "start_time": "2021-07-07T18:46:31.695Z"
   },
   {
    "duration": 28,
    "start_time": "2021-07-07T18:46:31.705Z"
   },
   {
    "duration": 18,
    "start_time": "2021-07-07T18:46:31.735Z"
   },
   {
    "duration": 48,
    "start_time": "2021-07-07T18:46:31.755Z"
   },
   {
    "duration": 6,
    "start_time": "2021-07-07T18:46:31.804Z"
   },
   {
    "duration": 4,
    "start_time": "2021-07-07T18:46:31.812Z"
   },
   {
    "duration": 9,
    "start_time": "2021-07-07T18:46:31.817Z"
   },
   {
    "duration": 10,
    "start_time": "2021-07-07T18:46:31.827Z"
   },
   {
    "duration": 12,
    "start_time": "2021-07-07T18:46:31.838Z"
   },
   {
    "duration": 39,
    "start_time": "2021-07-07T18:46:31.851Z"
   },
   {
    "duration": 24,
    "start_time": "2021-07-07T18:46:31.892Z"
   },
   {
    "duration": 15,
    "start_time": "2021-07-07T18:46:31.918Z"
   },
   {
    "duration": 7,
    "start_time": "2021-07-07T18:46:31.936Z"
   },
   {
    "duration": 8,
    "start_time": "2021-07-07T18:46:31.944Z"
   },
   {
    "duration": 19,
    "start_time": "2021-07-07T18:46:31.984Z"
   },
   {
    "duration": 10,
    "start_time": "2021-07-07T18:46:32.004Z"
   },
   {
    "duration": 5,
    "start_time": "2021-07-07T18:46:32.016Z"
   },
   {
    "duration": 9,
    "start_time": "2021-07-07T18:46:32.023Z"
   },
   {
    "duration": 199,
    "start_time": "2021-07-07T18:46:32.033Z"
   },
   {
    "duration": 19,
    "start_time": "2021-07-07T18:46:32.234Z"
   },
   {
    "duration": 159,
    "start_time": "2021-07-07T18:46:32.255Z"
   },
   {
    "duration": 134,
    "start_time": "2021-07-07T18:46:32.416Z"
   },
   {
    "duration": 10,
    "start_time": "2021-07-07T18:46:32.552Z"
   },
   {
    "duration": 34,
    "start_time": "2021-07-07T18:46:32.563Z"
   },
   {
    "duration": 1039,
    "start_time": "2021-07-08T08:41:09.419Z"
   },
   {
    "duration": 333,
    "start_time": "2021-07-08T08:41:10.459Z"
   },
   {
    "duration": 173,
    "start_time": "2021-07-08T08:41:10.794Z"
   },
   {
    "duration": 5,
    "start_time": "2021-07-08T08:41:10.968Z"
   },
   {
    "duration": 25,
    "start_time": "2021-07-08T08:41:10.975Z"
   },
   {
    "duration": 9,
    "start_time": "2021-07-08T08:41:11.002Z"
   },
   {
    "duration": 18,
    "start_time": "2021-07-08T08:41:11.013Z"
   },
   {
    "duration": 6,
    "start_time": "2021-07-08T08:41:11.033Z"
   },
   {
    "duration": 44,
    "start_time": "2021-07-08T08:41:11.042Z"
   },
   {
    "duration": 10,
    "start_time": "2021-07-08T08:41:11.088Z"
   },
   {
    "duration": 9,
    "start_time": "2021-07-08T08:41:11.100Z"
   },
   {
    "duration": 27,
    "start_time": "2021-07-08T08:41:11.111Z"
   },
   {
    "duration": 46,
    "start_time": "2021-07-08T08:41:11.140Z"
   },
   {
    "duration": 17,
    "start_time": "2021-07-08T08:41:11.187Z"
   },
   {
    "duration": 6,
    "start_time": "2021-07-08T08:41:11.206Z"
   },
   {
    "duration": 5,
    "start_time": "2021-07-08T08:41:11.213Z"
   },
   {
    "duration": 10,
    "start_time": "2021-07-08T08:41:11.219Z"
   },
   {
    "duration": 9,
    "start_time": "2021-07-08T08:41:11.230Z"
   },
   {
    "duration": 45,
    "start_time": "2021-07-08T08:41:11.241Z"
   },
   {
    "duration": 7,
    "start_time": "2021-07-08T08:41:11.287Z"
   },
   {
    "duration": 24,
    "start_time": "2021-07-08T08:41:11.296Z"
   },
   {
    "duration": 16,
    "start_time": "2021-07-08T08:41:11.322Z"
   },
   {
    "duration": 7,
    "start_time": "2021-07-08T08:41:11.341Z"
   },
   {
    "duration": 41,
    "start_time": "2021-07-08T08:41:11.349Z"
   },
   {
    "duration": 17,
    "start_time": "2021-07-08T08:41:11.391Z"
   },
   {
    "duration": 9,
    "start_time": "2021-07-08T08:41:11.410Z"
   },
   {
    "duration": 5,
    "start_time": "2021-07-08T08:41:11.421Z"
   },
   {
    "duration": 6,
    "start_time": "2021-07-08T08:41:11.428Z"
   },
   {
    "duration": 198,
    "start_time": "2021-07-08T08:41:11.435Z"
   },
   {
    "duration": 18,
    "start_time": "2021-07-08T08:41:11.635Z"
   },
   {
    "duration": 155,
    "start_time": "2021-07-08T08:41:11.655Z"
   },
   {
    "duration": 138,
    "start_time": "2021-07-08T08:41:11.811Z"
   },
   {
    "duration": 10,
    "start_time": "2021-07-08T08:41:11.950Z"
   },
   {
    "duration": 29,
    "start_time": "2021-07-08T08:41:11.961Z"
   },
   {
    "duration": 171,
    "start_time": "2021-07-08T08:47:44.522Z"
   },
   {
    "duration": 124,
    "start_time": "2021-07-08T08:47:46.872Z"
   },
   {
    "duration": 191,
    "start_time": "2021-07-08T08:47:58.148Z"
   },
   {
    "duration": 191,
    "start_time": "2021-07-08T08:48:07.412Z"
   },
   {
    "duration": 261,
    "start_time": "2021-07-08T08:48:10.385Z"
   },
   {
    "duration": 255,
    "start_time": "2021-07-08T08:48:14.494Z"
   },
   {
    "duration": 219,
    "start_time": "2021-07-08T08:48:22.752Z"
   },
   {
    "duration": 173,
    "start_time": "2021-07-08T08:49:06.395Z"
   },
   {
    "duration": 180,
    "start_time": "2021-07-08T08:49:21.011Z"
   },
   {
    "duration": 6,
    "start_time": "2021-07-08T08:50:31.697Z"
   },
   {
    "duration": 10,
    "start_time": "2021-07-08T08:50:47.394Z"
   },
   {
    "duration": 11,
    "start_time": "2021-07-08T08:53:49.332Z"
   },
   {
    "duration": 171,
    "start_time": "2021-07-08T08:54:28.408Z"
   },
   {
    "duration": 636,
    "start_time": "2021-07-08T09:02:48.385Z"
   },
   {
    "duration": 227,
    "start_time": "2021-07-08T09:02:49.023Z"
   },
   {
    "duration": 104,
    "start_time": "2021-07-08T09:02:49.252Z"
   },
   {
    "duration": 5,
    "start_time": "2021-07-08T09:02:49.358Z"
   },
   {
    "duration": 27,
    "start_time": "2021-07-08T09:02:49.365Z"
   },
   {
    "duration": 8,
    "start_time": "2021-07-08T09:02:49.394Z"
   },
   {
    "duration": 18,
    "start_time": "2021-07-08T09:02:49.404Z"
   },
   {
    "duration": 6,
    "start_time": "2021-07-08T09:02:49.424Z"
   },
   {
    "duration": 11,
    "start_time": "2021-07-08T09:02:49.433Z"
   },
   {
    "duration": 13,
    "start_time": "2021-07-08T09:02:49.485Z"
   },
   {
    "duration": 9,
    "start_time": "2021-07-08T09:02:49.500Z"
   },
   {
    "duration": 38,
    "start_time": "2021-07-08T09:02:49.511Z"
   },
   {
    "duration": 42,
    "start_time": "2021-07-08T09:02:49.551Z"
   },
   {
    "duration": 21,
    "start_time": "2021-07-08T09:02:49.594Z"
   },
   {
    "duration": 6,
    "start_time": "2021-07-08T09:02:49.616Z"
   },
   {
    "duration": 3,
    "start_time": "2021-07-08T09:02:49.623Z"
   },
   {
    "duration": 9,
    "start_time": "2021-07-08T09:02:49.628Z"
   },
   {
    "duration": 52,
    "start_time": "2021-07-08T09:02:49.638Z"
   },
   {
    "duration": 11,
    "start_time": "2021-07-08T09:02:49.692Z"
   },
   {
    "duration": 8,
    "start_time": "2021-07-08T09:02:49.704Z"
   },
   {
    "duration": 27,
    "start_time": "2021-07-08T09:02:49.713Z"
   },
   {
    "duration": 59,
    "start_time": "2021-07-08T09:02:49.741Z"
   },
   {
    "duration": 8,
    "start_time": "2021-07-08T09:02:49.803Z"
   },
   {
    "duration": 14,
    "start_time": "2021-07-08T09:02:49.813Z"
   },
   {
    "duration": 20,
    "start_time": "2021-07-08T09:02:49.829Z"
   },
   {
    "duration": 44,
    "start_time": "2021-07-08T09:02:49.851Z"
   },
   {
    "duration": 14,
    "start_time": "2021-07-08T09:02:49.896Z"
   },
   {
    "duration": 221,
    "start_time": "2021-07-08T09:02:49.912Z"
   },
   {
    "duration": 6,
    "start_time": "2021-07-08T09:02:50.134Z"
   },
   {
    "duration": 206,
    "start_time": "2021-07-08T09:02:50.142Z"
   },
   {
    "duration": 19,
    "start_time": "2021-07-08T09:02:50.350Z"
   },
   {
    "duration": 21,
    "start_time": "2021-07-08T09:02:50.370Z"
   },
   {
    "duration": 20,
    "start_time": "2021-07-08T09:02:50.393Z"
   },
   {
    "duration": 5,
    "start_time": "2021-07-08T09:02:50.414Z"
   },
   {
    "duration": 5,
    "start_time": "2021-07-08T09:03:34.173Z"
   },
   {
    "duration": 6,
    "start_time": "2021-07-08T09:04:49.062Z"
   },
   {
    "duration": 9,
    "start_time": "2021-07-08T09:04:50.118Z"
   },
   {
    "duration": 14,
    "start_time": "2021-07-08T09:04:58.512Z"
   },
   {
    "duration": 9,
    "start_time": "2021-07-08T09:05:10.988Z"
   },
   {
    "duration": 11,
    "start_time": "2021-07-08T09:05:11.743Z"
   },
   {
    "duration": 7,
    "start_time": "2021-07-08T09:05:25.677Z"
   },
   {
    "duration": 13,
    "start_time": "2021-07-08T09:05:47.189Z"
   },
   {
    "duration": 13,
    "start_time": "2021-07-08T09:05:54.755Z"
   },
   {
    "duration": 4,
    "start_time": "2021-07-08T09:06:29.189Z"
   },
   {
    "duration": 244,
    "start_time": "2021-07-08T09:06:29.195Z"
   },
   {
    "duration": 91,
    "start_time": "2021-07-08T09:06:29.441Z"
   },
   {
    "duration": 4,
    "start_time": "2021-07-08T09:06:29.534Z"
   },
   {
    "duration": 28,
    "start_time": "2021-07-08T09:06:29.540Z"
   },
   {
    "duration": 6,
    "start_time": "2021-07-08T09:06:29.570Z"
   },
   {
    "duration": 18,
    "start_time": "2021-07-08T09:06:29.578Z"
   },
   {
    "duration": 5,
    "start_time": "2021-07-08T09:06:29.597Z"
   },
   {
    "duration": 13,
    "start_time": "2021-07-08T09:06:29.605Z"
   },
   {
    "duration": 8,
    "start_time": "2021-07-08T09:06:29.620Z"
   },
   {
    "duration": 7,
    "start_time": "2021-07-08T09:06:29.630Z"
   },
   {
    "duration": 63,
    "start_time": "2021-07-08T09:06:29.639Z"
   },
   {
    "duration": 17,
    "start_time": "2021-07-08T09:06:29.704Z"
   },
   {
    "duration": 20,
    "start_time": "2021-07-08T09:06:29.723Z"
   },
   {
    "duration": 6,
    "start_time": "2021-07-08T09:06:29.745Z"
   },
   {
    "duration": 3,
    "start_time": "2021-07-08T09:06:29.752Z"
   },
   {
    "duration": 7,
    "start_time": "2021-07-08T09:06:29.785Z"
   },
   {
    "duration": 11,
    "start_time": "2021-07-08T09:06:29.794Z"
   },
   {
    "duration": 15,
    "start_time": "2021-07-08T09:06:29.807Z"
   },
   {
    "duration": 8,
    "start_time": "2021-07-08T09:06:29.823Z"
   },
   {
    "duration": 70,
    "start_time": "2021-07-08T09:06:29.832Z"
   },
   {
    "duration": 17,
    "start_time": "2021-07-08T09:06:29.903Z"
   },
   {
    "duration": 9,
    "start_time": "2021-07-08T09:06:29.921Z"
   },
   {
    "duration": 9,
    "start_time": "2021-07-08T09:06:29.932Z"
   },
   {
    "duration": 57,
    "start_time": "2021-07-08T09:06:29.942Z"
   },
   {
    "duration": 11,
    "start_time": "2021-07-08T09:06:30.001Z"
   },
   {
    "duration": 19,
    "start_time": "2021-07-08T09:06:30.016Z"
   },
   {
    "duration": 217,
    "start_time": "2021-07-08T09:06:30.037Z"
   },
   {
    "duration": 6,
    "start_time": "2021-07-08T09:06:30.255Z"
   },
   {
    "duration": 205,
    "start_time": "2021-07-08T09:06:30.263Z"
   },
   {
    "duration": 27,
    "start_time": "2021-07-08T09:06:30.470Z"
   },
   {
    "duration": 11,
    "start_time": "2021-07-08T09:06:30.500Z"
   },
   {
    "duration": 31,
    "start_time": "2021-07-08T09:06:30.513Z"
   },
   {
    "duration": 18,
    "start_time": "2021-07-08T09:06:30.546Z"
   },
   {
    "duration": 11,
    "start_time": "2021-07-08T09:06:30.566Z"
   },
   {
    "duration": 19,
    "start_time": "2021-07-08T09:06:30.579Z"
   },
   {
    "duration": 20,
    "start_time": "2021-07-08T09:06:49.466Z"
   },
   {
    "duration": 9,
    "start_time": "2021-07-08T09:06:51.994Z"
   },
   {
    "duration": 20,
    "start_time": "2021-07-08T09:06:52.273Z"
   },
   {
    "duration": 246,
    "start_time": "2021-07-08T09:10:21.272Z"
   },
   {
    "duration": 84,
    "start_time": "2021-07-08T09:10:21.436Z"
   },
   {
    "duration": 7,
    "start_time": "2021-07-08T09:10:37.608Z"
   },
   {
    "duration": 189,
    "start_time": "2021-07-08T09:10:38.573Z"
   },
   {
    "duration": 185,
    "start_time": "2021-07-08T09:10:53.181Z"
   },
   {
    "duration": 11,
    "start_time": "2021-07-08T09:10:59.549Z"
   },
   {
    "duration": 42,
    "start_time": "2021-07-08T09:10:59.709Z"
   },
   {
    "duration": 12,
    "start_time": "2021-07-08T09:11:02.857Z"
   },
   {
    "duration": 28,
    "start_time": "2021-07-08T09:11:10.062Z"
   },
   {
    "duration": 249,
    "start_time": "2021-07-08T09:11:37.388Z"
   },
   {
    "duration": 232,
    "start_time": "2021-07-08T09:11:49.485Z"
   },
   {
    "duration": 453,
    "start_time": "2021-07-08T09:12:01.546Z"
   },
   {
    "duration": 440,
    "start_time": "2021-07-08T09:12:12.347Z"
   },
   {
    "duration": 213,
    "start_time": "2021-07-08T09:13:32.196Z"
   },
   {
    "duration": 172,
    "start_time": "2021-07-08T09:14:07.400Z"
   },
   {
    "duration": 185,
    "start_time": "2021-07-08T09:14:14.905Z"
   },
   {
    "duration": 209,
    "start_time": "2021-07-08T09:14:40.109Z"
   },
   {
    "duration": 201,
    "start_time": "2021-07-08T09:14:54.506Z"
   },
   {
    "duration": 622,
    "start_time": "2021-07-08T09:18:14.497Z"
   },
   {
    "duration": 220,
    "start_time": "2021-07-08T09:18:15.121Z"
   },
   {
    "duration": 79,
    "start_time": "2021-07-08T09:18:15.343Z"
   },
   {
    "duration": 4,
    "start_time": "2021-07-08T09:18:15.425Z"
   },
   {
    "duration": 24,
    "start_time": "2021-07-08T09:18:15.431Z"
   },
   {
    "duration": 8,
    "start_time": "2021-07-08T09:18:15.457Z"
   },
   {
    "duration": 16,
    "start_time": "2021-07-08T09:18:15.466Z"
   },
   {
    "duration": 5,
    "start_time": "2021-07-08T09:18:15.484Z"
   },
   {
    "duration": 10,
    "start_time": "2021-07-08T09:18:15.493Z"
   },
   {
    "duration": 8,
    "start_time": "2021-07-08T09:18:15.504Z"
   },
   {
    "duration": 7,
    "start_time": "2021-07-08T09:18:15.513Z"
   },
   {
    "duration": 26,
    "start_time": "2021-07-08T09:18:15.522Z"
   },
   {
    "duration": 49,
    "start_time": "2021-07-08T09:18:15.550Z"
   },
   {
    "duration": 21,
    "start_time": "2021-07-08T09:18:15.601Z"
   },
   {
    "duration": 8,
    "start_time": "2021-07-08T09:18:15.624Z"
   },
   {
    "duration": 3,
    "start_time": "2021-07-08T09:18:15.634Z"
   },
   {
    "duration": 8,
    "start_time": "2021-07-08T09:18:15.639Z"
   },
   {
    "duration": 45,
    "start_time": "2021-07-08T09:18:15.649Z"
   },
   {
    "duration": 13,
    "start_time": "2021-07-08T09:18:15.696Z"
   },
   {
    "duration": 10,
    "start_time": "2021-07-08T09:18:15.711Z"
   },
   {
    "duration": 64,
    "start_time": "2021-07-08T09:18:15.722Z"
   },
   {
    "duration": 19,
    "start_time": "2021-07-08T09:18:15.788Z"
   },
   {
    "duration": 9,
    "start_time": "2021-07-08T09:18:15.809Z"
   },
   {
    "duration": 9,
    "start_time": "2021-07-08T09:18:15.820Z"
   },
   {
    "duration": 18,
    "start_time": "2021-07-08T09:18:15.831Z"
   },
   {
    "duration": 43,
    "start_time": "2021-07-08T09:18:15.851Z"
   },
   {
    "duration": 12,
    "start_time": "2021-07-08T09:18:15.897Z"
   },
   {
    "duration": 219,
    "start_time": "2021-07-08T09:18:15.911Z"
   },
   {
    "duration": 8,
    "start_time": "2021-07-08T09:18:16.132Z"
   },
   {
    "duration": 199,
    "start_time": "2021-07-08T09:18:16.141Z"
   },
   {
    "duration": 18,
    "start_time": "2021-07-08T09:18:16.341Z"
   },
   {
    "duration": 24,
    "start_time": "2021-07-08T09:18:16.361Z"
   },
   {
    "duration": 24,
    "start_time": "2021-07-08T09:18:16.387Z"
   },
   {
    "duration": 211,
    "start_time": "2021-07-08T09:18:16.413Z"
   },
   {
    "duration": 18,
    "start_time": "2021-07-08T09:18:16.626Z"
   },
   {
    "duration": 596,
    "start_time": "2021-07-08T10:06:33.623Z"
   },
   {
    "duration": 181,
    "start_time": "2021-07-08T10:06:34.221Z"
   },
   {
    "duration": 176,
    "start_time": "2021-07-08T10:06:34.635Z"
   },
   {
    "duration": 239,
    "start_time": "2021-07-08T10:06:55.572Z"
   },
   {
    "duration": 6,
    "start_time": "2021-07-08T10:06:57.687Z"
   },
   {
    "duration": 4,
    "start_time": "2021-07-08T10:07:03.956Z"
   },
   {
    "duration": 4,
    "start_time": "2021-07-08T10:07:10.376Z"
   },
   {
    "duration": 4,
    "start_time": "2021-07-08T10:17:19.889Z"
   },
   {
    "duration": 3,
    "start_time": "2021-07-08T10:19:19.407Z"
   },
   {
    "duration": 197,
    "start_time": "2021-07-08T10:19:19.412Z"
   },
   {
    "duration": 127,
    "start_time": "2021-07-08T10:19:19.611Z"
   },
   {
    "duration": 4,
    "start_time": "2021-07-08T10:19:19.740Z"
   },
   {
    "duration": 27,
    "start_time": "2021-07-08T10:19:19.746Z"
   },
   {
    "duration": 7,
    "start_time": "2021-07-08T10:19:19.775Z"
   },
   {
    "duration": 30,
    "start_time": "2021-07-08T10:19:19.784Z"
   },
   {
    "duration": 7,
    "start_time": "2021-07-08T10:19:19.817Z"
   },
   {
    "duration": 26,
    "start_time": "2021-07-08T10:19:19.826Z"
   },
   {
    "duration": 18,
    "start_time": "2021-07-08T10:19:19.854Z"
   },
   {
    "duration": 14,
    "start_time": "2021-07-08T10:19:19.874Z"
   },
   {
    "duration": 48,
    "start_time": "2021-07-08T10:19:19.890Z"
   },
   {
    "duration": 17,
    "start_time": "2021-07-08T10:19:19.940Z"
   },
   {
    "duration": 38,
    "start_time": "2021-07-08T10:19:19.959Z"
   },
   {
    "duration": 8,
    "start_time": "2021-07-08T10:19:19.999Z"
   },
   {
    "duration": 15,
    "start_time": "2021-07-08T10:19:20.009Z"
   },
   {
    "duration": 22,
    "start_time": "2021-07-08T10:19:20.026Z"
   },
   {
    "duration": 10,
    "start_time": "2021-07-08T10:19:20.050Z"
   },
   {
    "duration": 10,
    "start_time": "2021-07-08T10:19:20.062Z"
   },
   {
    "duration": 20,
    "start_time": "2021-07-08T10:19:20.073Z"
   },
   {
    "duration": 29,
    "start_time": "2021-07-08T10:19:20.095Z"
   },
   {
    "duration": 17,
    "start_time": "2021-07-08T10:19:20.126Z"
   },
   {
    "duration": 40,
    "start_time": "2021-07-08T10:19:20.146Z"
   },
   {
    "duration": 15,
    "start_time": "2021-07-08T10:19:20.189Z"
   },
   {
    "duration": 19,
    "start_time": "2021-07-08T10:19:20.206Z"
   },
   {
    "duration": 10,
    "start_time": "2021-07-08T10:19:20.226Z"
   },
   {
    "duration": 11,
    "start_time": "2021-07-08T10:19:20.238Z"
   },
   {
    "duration": 297,
    "start_time": "2021-07-08T10:19:20.250Z"
   },
   {
    "duration": 6,
    "start_time": "2021-07-08T10:19:20.549Z"
   },
   {
    "duration": 191,
    "start_time": "2021-07-08T10:19:20.557Z"
   },
   {
    "duration": 19,
    "start_time": "2021-07-08T10:19:20.750Z"
   },
   {
    "duration": 20,
    "start_time": "2021-07-08T10:19:20.771Z"
   },
   {
    "duration": 15,
    "start_time": "2021-07-08T10:19:20.793Z"
   },
   {
    "duration": 222,
    "start_time": "2021-07-08T10:19:20.809Z"
   },
   {
    "duration": 20,
    "start_time": "2021-07-08T10:19:21.033Z"
   },
   {
    "duration": 27,
    "start_time": "2021-07-08T10:45:04.055Z"
   },
   {
    "duration": 8,
    "start_time": "2021-07-08T10:45:08.478Z"
   },
   {
    "duration": 8,
    "start_time": "2021-07-08T10:45:31.982Z"
   },
   {
    "duration": 10,
    "start_time": "2021-07-08T10:46:01.221Z"
   },
   {
    "duration": 17,
    "start_time": "2021-07-08T10:46:40.011Z"
   },
   {
    "duration": 193,
    "start_time": "2021-07-08T10:48:19.471Z"
   },
   {
    "duration": 225,
    "start_time": "2021-07-08T10:49:26.480Z"
   },
   {
    "duration": 204,
    "start_time": "2021-07-08T10:49:59.992Z"
   },
   {
    "duration": 435,
    "start_time": "2021-07-08T10:50:06.779Z"
   },
   {
    "duration": 199,
    "start_time": "2021-07-08T10:50:14.891Z"
   },
   {
    "duration": 204,
    "start_time": "2021-07-08T10:50:18.501Z"
   },
   {
    "duration": 244,
    "start_time": "2021-07-08T10:50:23.359Z"
   },
   {
    "duration": 192,
    "start_time": "2021-07-08T10:50:29.135Z"
   },
   {
    "duration": 218,
    "start_time": "2021-07-08T10:50:33.092Z"
   },
   {
    "duration": 207,
    "start_time": "2021-07-08T10:52:45.381Z"
   },
   {
    "duration": 5,
    "start_time": "2021-07-08T10:53:34.641Z"
   },
   {
    "duration": 196,
    "start_time": "2021-07-08T10:53:41.478Z"
   },
   {
    "duration": 43,
    "start_time": "2021-07-08T10:53:50.335Z"
   },
   {
    "duration": 32,
    "start_time": "2021-07-08T10:53:55.294Z"
   },
   {
    "duration": 55,
    "start_time": "2021-07-08T10:54:09.675Z"
   },
   {
    "duration": 16,
    "start_time": "2021-07-08T10:54:12.260Z"
   },
   {
    "duration": 15,
    "start_time": "2021-07-08T10:54:49.150Z"
   },
   {
    "duration": 20,
    "start_time": "2021-07-08T10:56:07.596Z"
   },
   {
    "duration": 16,
    "start_time": "2021-07-08T10:58:26.276Z"
   },
   {
    "duration": 22,
    "start_time": "2021-07-08T10:59:00.486Z"
   },
   {
    "duration": 18,
    "start_time": "2021-07-08T11:02:09.653Z"
   },
   {
    "duration": 10,
    "start_time": "2021-07-08T11:03:44.331Z"
   },
   {
    "duration": 10,
    "start_time": "2021-07-08T11:03:54.055Z"
   },
   {
    "duration": 12,
    "start_time": "2021-07-08T11:04:41.967Z"
   },
   {
    "duration": 24,
    "start_time": "2021-07-08T11:07:30.732Z"
   },
   {
    "duration": 6,
    "start_time": "2021-07-08T11:07:37.364Z"
   },
   {
    "duration": 16,
    "start_time": "2021-07-08T11:08:01.819Z"
   },
   {
    "duration": 17,
    "start_time": "2021-07-08T11:09:47.488Z"
   },
   {
    "duration": 246,
    "start_time": "2021-07-08T11:10:00.830Z"
   },
   {
    "duration": 18,
    "start_time": "2021-07-08T11:13:55.195Z"
   },
   {
    "duration": 204,
    "start_time": "2021-07-08T11:14:04.951Z"
   },
   {
    "duration": 19,
    "start_time": "2021-07-08T11:15:10.613Z"
   },
   {
    "duration": 680,
    "start_time": "2021-07-08T11:16:25.793Z"
   },
   {
    "duration": 451,
    "start_time": "2021-07-08T11:16:40.313Z"
   },
   {
    "duration": 469,
    "start_time": "2021-07-08T11:17:21.286Z"
   },
   {
    "duration": 20,
    "start_time": "2021-07-08T11:19:12.554Z"
   },
   {
    "duration": 35,
    "start_time": "2021-07-08T11:20:05.484Z"
   },
   {
    "duration": 53,
    "start_time": "2021-07-08T11:21:40.050Z"
   },
   {
    "duration": 13,
    "start_time": "2021-07-08T11:22:26.059Z"
   },
   {
    "duration": 19,
    "start_time": "2021-07-08T11:22:47.419Z"
   },
   {
    "duration": 25,
    "start_time": "2021-07-08T11:23:19.958Z"
   },
   {
    "duration": 29,
    "start_time": "2021-07-08T11:23:25.415Z"
   },
   {
    "duration": 10,
    "start_time": "2021-07-08T11:24:45.138Z"
   },
   {
    "duration": 19,
    "start_time": "2021-07-08T11:24:54.498Z"
   },
   {
    "duration": 12,
    "start_time": "2021-07-08T11:25:32.225Z"
   },
   {
    "duration": 19,
    "start_time": "2021-07-08T11:25:37.092Z"
   },
   {
    "duration": 17,
    "start_time": "2021-07-08T11:25:58.116Z"
   },
   {
    "duration": 15,
    "start_time": "2021-07-08T11:26:02.258Z"
   },
   {
    "duration": 8,
    "start_time": "2021-07-08T11:26:59.682Z"
   },
   {
    "duration": 184,
    "start_time": "2021-07-08T11:27:21.894Z"
   },
   {
    "duration": 8,
    "start_time": "2021-07-08T11:27:23.824Z"
   },
   {
    "duration": 202,
    "start_time": "2021-07-08T11:27:23.962Z"
   },
   {
    "duration": 360,
    "start_time": "2021-07-08T11:28:33.215Z"
   },
   {
    "duration": 231,
    "start_time": "2021-07-08T11:32:05.542Z"
   },
   {
    "duration": 607,
    "start_time": "2021-07-08T11:36:27.854Z"
   },
   {
    "duration": 241,
    "start_time": "2021-07-08T11:36:28.463Z"
   },
   {
    "duration": 67,
    "start_time": "2021-07-08T11:36:28.709Z"
   },
   {
    "duration": 5,
    "start_time": "2021-07-08T11:36:28.778Z"
   },
   {
    "duration": 32,
    "start_time": "2021-07-08T11:36:28.784Z"
   },
   {
    "duration": 11,
    "start_time": "2021-07-08T11:36:28.819Z"
   },
   {
    "duration": 20,
    "start_time": "2021-07-08T11:36:28.834Z"
   },
   {
    "duration": 36,
    "start_time": "2021-07-08T11:36:28.857Z"
   },
   {
    "duration": 16,
    "start_time": "2021-07-08T11:36:28.895Z"
   },
   {
    "duration": 14,
    "start_time": "2021-07-08T11:36:28.913Z"
   },
   {
    "duration": 9,
    "start_time": "2021-07-08T11:36:28.930Z"
   },
   {
    "duration": 55,
    "start_time": "2021-07-08T11:36:28.941Z"
   },
   {
    "duration": 27,
    "start_time": "2021-07-08T11:36:28.999Z"
   },
   {
    "duration": 30,
    "start_time": "2021-07-08T11:36:29.028Z"
   },
   {
    "duration": 31,
    "start_time": "2021-07-08T11:36:29.060Z"
   },
   {
    "duration": 3,
    "start_time": "2021-07-08T11:36:29.093Z"
   },
   {
    "duration": 12,
    "start_time": "2021-07-08T11:36:29.099Z"
   },
   {
    "duration": 11,
    "start_time": "2021-07-08T11:36:29.112Z"
   },
   {
    "duration": 12,
    "start_time": "2021-07-08T11:36:29.125Z"
   },
   {
    "duration": 9,
    "start_time": "2021-07-08T11:36:29.139Z"
   },
   {
    "duration": 31,
    "start_time": "2021-07-08T11:36:29.191Z"
   },
   {
    "duration": 17,
    "start_time": "2021-07-08T11:36:29.226Z"
   },
   {
    "duration": 7,
    "start_time": "2021-07-08T11:36:29.245Z"
   },
   {
    "duration": 10,
    "start_time": "2021-07-08T11:36:29.254Z"
   },
   {
    "duration": 30,
    "start_time": "2021-07-08T11:36:29.292Z"
   },
   {
    "duration": 11,
    "start_time": "2021-07-08T11:36:29.324Z"
   },
   {
    "duration": 11,
    "start_time": "2021-07-08T11:36:29.337Z"
   },
   {
    "duration": 230,
    "start_time": "2021-07-08T11:36:29.349Z"
   },
   {
    "duration": 13,
    "start_time": "2021-07-08T11:36:29.588Z"
   },
   {
    "duration": 205,
    "start_time": "2021-07-08T11:36:29.603Z"
   },
   {
    "duration": 20,
    "start_time": "2021-07-08T11:36:29.810Z"
   },
   {
    "duration": 9,
    "start_time": "2021-07-08T11:36:29.832Z"
   },
   {
    "duration": 16,
    "start_time": "2021-07-08T11:36:29.843Z"
   },
   {
    "duration": 283,
    "start_time": "2021-07-08T11:36:29.861Z"
   },
   {
    "duration": 50,
    "start_time": "2021-07-08T11:36:30.146Z"
   },
   {
    "duration": 14,
    "start_time": "2021-07-08T11:36:30.198Z"
   },
   {
    "duration": 11,
    "start_time": "2021-07-08T11:36:30.214Z"
   },
   {
    "duration": 245,
    "start_time": "2021-07-08T11:36:30.227Z"
   },
   {
    "duration": 439,
    "start_time": "2021-07-08T11:36:30.474Z"
   },
   {
    "duration": 210,
    "start_time": "2021-07-08T11:36:30.915Z"
   },
   {
    "duration": 15,
    "start_time": "2021-07-08T11:36:31.127Z"
   },
   {
    "duration": 17,
    "start_time": "2021-07-08T11:38:20.451Z"
   },
   {
    "duration": 642,
    "start_time": "2021-07-08T11:46:17.881Z"
   },
   {
    "duration": 210,
    "start_time": "2021-07-08T11:46:18.525Z"
   },
   {
    "duration": 104,
    "start_time": "2021-07-08T11:46:18.741Z"
   },
   {
    "duration": 8,
    "start_time": "2021-07-08T11:46:18.847Z"
   },
   {
    "duration": 25,
    "start_time": "2021-07-08T11:46:18.857Z"
   },
   {
    "duration": 14,
    "start_time": "2021-07-08T11:46:18.884Z"
   },
   {
    "duration": 22,
    "start_time": "2021-07-08T11:46:18.900Z"
   },
   {
    "duration": 5,
    "start_time": "2021-07-08T11:46:18.924Z"
   },
   {
    "duration": 13,
    "start_time": "2021-07-08T11:46:18.931Z"
   },
   {
    "duration": 45,
    "start_time": "2021-07-08T11:46:18.946Z"
   },
   {
    "duration": 12,
    "start_time": "2021-07-08T11:46:18.993Z"
   },
   {
    "duration": 38,
    "start_time": "2021-07-08T11:46:19.006Z"
   },
   {
    "duration": 50,
    "start_time": "2021-07-08T11:46:19.046Z"
   },
   {
    "duration": 29,
    "start_time": "2021-07-08T11:46:19.099Z"
   },
   {
    "duration": 7,
    "start_time": "2021-07-08T11:46:19.130Z"
   },
   {
    "duration": 3,
    "start_time": "2021-07-08T11:46:19.139Z"
   },
   {
    "duration": 11,
    "start_time": "2021-07-08T11:46:19.144Z"
   },
   {
    "duration": 40,
    "start_time": "2021-07-08T11:46:19.157Z"
   },
   {
    "duration": 15,
    "start_time": "2021-07-08T11:46:19.199Z"
   },
   {
    "duration": 10,
    "start_time": "2021-07-08T11:46:19.217Z"
   },
   {
    "duration": 68,
    "start_time": "2021-07-08T11:46:19.230Z"
   },
   {
    "duration": 17,
    "start_time": "2021-07-08T11:46:19.301Z"
   },
   {
    "duration": 7,
    "start_time": "2021-07-08T11:46:19.321Z"
   },
   {
    "duration": 11,
    "start_time": "2021-07-08T11:46:19.330Z"
   },
   {
    "duration": 59,
    "start_time": "2021-07-08T11:46:19.343Z"
   },
   {
    "duration": 17,
    "start_time": "2021-07-08T11:46:19.405Z"
   },
   {
    "duration": 16,
    "start_time": "2021-07-08T11:46:19.424Z"
   },
   {
    "duration": 252,
    "start_time": "2021-07-08T11:46:19.443Z"
   },
   {
    "duration": 9,
    "start_time": "2021-07-08T11:46:19.697Z"
   },
   {
    "duration": 224,
    "start_time": "2021-07-08T11:46:19.708Z"
   },
   {
    "duration": 21,
    "start_time": "2021-07-08T11:46:19.934Z"
   },
   {
    "duration": 9,
    "start_time": "2021-07-08T11:46:19.956Z"
   },
   {
    "duration": 32,
    "start_time": "2021-07-08T11:46:19.967Z"
   },
   {
    "duration": 288,
    "start_time": "2021-07-08T11:46:20.004Z"
   },
   {
    "duration": 23,
    "start_time": "2021-07-08T11:46:20.300Z"
   },
   {
    "duration": 11,
    "start_time": "2021-07-08T11:46:20.325Z"
   },
   {
    "duration": 11,
    "start_time": "2021-07-08T11:46:20.339Z"
   },
   {
    "duration": 259,
    "start_time": "2021-07-08T11:46:20.352Z"
   },
   {
    "duration": 438,
    "start_time": "2021-07-08T11:46:20.613Z"
   },
   {
    "duration": 207,
    "start_time": "2021-07-08T11:46:21.054Z"
   },
   {
    "duration": 27,
    "start_time": "2021-07-08T11:46:21.262Z"
   },
   {
    "duration": 19,
    "start_time": "2021-07-08T11:46:21.291Z"
   },
   {
    "duration": 820,
    "start_time": "2021-07-08T11:49:01.655Z"
   },
   {
    "duration": 372,
    "start_time": "2021-07-08T11:49:02.478Z"
   },
   {
    "duration": 98,
    "start_time": "2021-07-08T11:49:02.853Z"
   },
   {
    "duration": 6,
    "start_time": "2021-07-08T11:49:02.953Z"
   },
   {
    "duration": 39,
    "start_time": "2021-07-08T11:49:02.960Z"
   },
   {
    "duration": 9,
    "start_time": "2021-07-08T11:49:03.003Z"
   },
   {
    "duration": 23,
    "start_time": "2021-07-08T11:49:03.014Z"
   },
   {
    "duration": 6,
    "start_time": "2021-07-08T11:49:03.041Z"
   },
   {
    "duration": 20,
    "start_time": "2021-07-08T11:49:03.049Z"
   },
   {
    "duration": 18,
    "start_time": "2021-07-08T11:49:03.084Z"
   },
   {
    "duration": 14,
    "start_time": "2021-07-08T11:49:03.104Z"
   },
   {
    "duration": 39,
    "start_time": "2021-07-08T11:49:03.119Z"
   },
   {
    "duration": 38,
    "start_time": "2021-07-08T11:49:03.160Z"
   },
   {
    "duration": 26,
    "start_time": "2021-07-08T11:49:03.200Z"
   },
   {
    "duration": 7,
    "start_time": "2021-07-08T11:49:03.227Z"
   },
   {
    "duration": 4,
    "start_time": "2021-07-08T11:49:03.236Z"
   },
   {
    "duration": 15,
    "start_time": "2021-07-08T11:49:03.243Z"
   },
   {
    "duration": 21,
    "start_time": "2021-07-08T11:49:03.285Z"
   },
   {
    "duration": 17,
    "start_time": "2021-07-08T11:49:03.309Z"
   },
   {
    "duration": 10,
    "start_time": "2021-07-08T11:49:03.328Z"
   },
   {
    "duration": 65,
    "start_time": "2021-07-08T11:49:03.340Z"
   },
   {
    "duration": 18,
    "start_time": "2021-07-08T11:49:03.407Z"
   },
   {
    "duration": 8,
    "start_time": "2021-07-08T11:49:03.428Z"
   },
   {
    "duration": 15,
    "start_time": "2021-07-08T11:49:03.438Z"
   },
   {
    "duration": 40,
    "start_time": "2021-07-08T11:49:03.455Z"
   },
   {
    "duration": 12,
    "start_time": "2021-07-08T11:49:03.497Z"
   },
   {
    "duration": 29,
    "start_time": "2021-07-08T11:49:03.511Z"
   },
   {
    "duration": 285,
    "start_time": "2021-07-08T11:49:03.542Z"
   },
   {
    "duration": 8,
    "start_time": "2021-07-08T11:49:03.829Z"
   },
   {
    "duration": 227,
    "start_time": "2021-07-08T11:49:03.838Z"
   },
   {
    "duration": 40,
    "start_time": "2021-07-08T11:49:04.066Z"
   },
   {
    "duration": 10,
    "start_time": "2021-07-08T11:49:04.108Z"
   },
   {
    "duration": 26,
    "start_time": "2021-07-08T11:49:04.121Z"
   },
   {
    "duration": 290,
    "start_time": "2021-07-08T11:49:04.149Z"
   },
   {
    "duration": 26,
    "start_time": "2021-07-08T11:49:04.441Z"
   },
   {
    "duration": 31,
    "start_time": "2021-07-08T11:49:04.470Z"
   },
   {
    "duration": 14,
    "start_time": "2021-07-08T11:49:04.503Z"
   },
   {
    "duration": 259,
    "start_time": "2021-07-08T11:49:04.521Z"
   },
   {
    "duration": 480,
    "start_time": "2021-07-08T11:49:04.782Z"
   },
   {
    "duration": 225,
    "start_time": "2021-07-08T11:49:05.264Z"
   },
   {
    "duration": 22,
    "start_time": "2021-07-08T11:49:05.491Z"
   },
   {
    "duration": 24,
    "start_time": "2021-07-08T11:49:05.515Z"
   },
   {
    "duration": 634,
    "start_time": "2021-07-08T11:52:24.960Z"
   },
   {
    "duration": 199,
    "start_time": "2021-07-08T11:52:25.599Z"
   },
   {
    "duration": 106,
    "start_time": "2021-07-08T11:52:25.803Z"
   },
   {
    "duration": 7,
    "start_time": "2021-07-08T11:52:25.911Z"
   },
   {
    "duration": 29,
    "start_time": "2021-07-08T11:52:25.920Z"
   },
   {
    "duration": 7,
    "start_time": "2021-07-08T11:52:25.951Z"
   },
   {
    "duration": 26,
    "start_time": "2021-07-08T11:52:25.961Z"
   },
   {
    "duration": 11,
    "start_time": "2021-07-08T11:52:25.990Z"
   },
   {
    "duration": 29,
    "start_time": "2021-07-08T11:52:26.005Z"
   },
   {
    "duration": 9,
    "start_time": "2021-07-08T11:52:26.036Z"
   },
   {
    "duration": 8,
    "start_time": "2021-07-08T11:52:26.047Z"
   },
   {
    "duration": 63,
    "start_time": "2021-07-08T11:52:26.057Z"
   },
   {
    "duration": 17,
    "start_time": "2021-07-08T11:52:26.122Z"
   },
   {
    "duration": 43,
    "start_time": "2021-07-08T11:52:26.142Z"
   },
   {
    "duration": 17,
    "start_time": "2021-07-08T11:52:26.187Z"
   },
   {
    "duration": 5,
    "start_time": "2021-07-08T11:52:26.206Z"
   },
   {
    "duration": 12,
    "start_time": "2021-07-08T11:52:26.212Z"
   },
   {
    "duration": 11,
    "start_time": "2021-07-08T11:52:26.226Z"
   },
   {
    "duration": 12,
    "start_time": "2021-07-08T11:52:26.238Z"
   },
   {
    "duration": 38,
    "start_time": "2021-07-08T11:52:26.252Z"
   },
   {
    "duration": 40,
    "start_time": "2021-07-08T11:52:26.292Z"
   },
   {
    "duration": 17,
    "start_time": "2021-07-08T11:52:26.336Z"
   },
   {
    "duration": 39,
    "start_time": "2021-07-08T11:52:26.355Z"
   },
   {
    "duration": 11,
    "start_time": "2021-07-08T11:52:26.395Z"
   },
   {
    "duration": 23,
    "start_time": "2021-07-08T11:52:26.408Z"
   },
   {
    "duration": 12,
    "start_time": "2021-07-08T11:52:26.432Z"
   },
   {
    "duration": 41,
    "start_time": "2021-07-08T11:52:26.446Z"
   },
   {
    "duration": 215,
    "start_time": "2021-07-08T11:52:26.493Z"
   },
   {
    "duration": 8,
    "start_time": "2021-07-08T11:52:26.710Z"
   },
   {
    "duration": 228,
    "start_time": "2021-07-08T11:52:26.720Z"
   },
   {
    "duration": 18,
    "start_time": "2021-07-08T11:52:26.950Z"
   },
   {
    "duration": 35,
    "start_time": "2021-07-08T11:52:26.969Z"
   },
   {
    "duration": 23,
    "start_time": "2021-07-08T11:52:27.006Z"
   },
   {
    "duration": 258,
    "start_time": "2021-07-08T11:52:27.030Z"
   },
   {
    "duration": 24,
    "start_time": "2021-07-08T11:52:27.290Z"
   },
   {
    "duration": 12,
    "start_time": "2021-07-08T11:52:27.316Z"
   },
   {
    "duration": 10,
    "start_time": "2021-07-08T11:52:27.329Z"
   },
   {
    "duration": 298,
    "start_time": "2021-07-08T11:52:27.341Z"
   },
   {
    "duration": 436,
    "start_time": "2021-07-08T11:52:27.641Z"
   },
   {
    "duration": 216,
    "start_time": "2021-07-08T11:52:28.079Z"
   },
   {
    "duration": 20,
    "start_time": "2021-07-08T11:52:28.297Z"
   },
   {
    "duration": 17,
    "start_time": "2021-07-08T11:52:28.319Z"
   },
   {
    "duration": 1093,
    "start_time": "2021-12-29T08:34:54.768Z"
   },
   {
    "duration": 71,
    "start_time": "2021-12-29T08:35:54.617Z"
   },
   {
    "duration": 72,
    "start_time": "2021-12-29T08:36:03.012Z"
   },
   {
    "duration": 14,
    "start_time": "2021-12-29T08:36:34.372Z"
   },
   {
    "duration": 20,
    "start_time": "2021-12-29T08:36:58.571Z"
   },
   {
    "duration": 17,
    "start_time": "2021-12-29T08:37:18.151Z"
   },
   {
    "duration": 23,
    "start_time": "2021-12-29T08:37:28.368Z"
   },
   {
    "duration": 269,
    "start_time": "2021-12-29T08:37:52.525Z"
   },
   {
    "duration": 47,
    "start_time": "2021-12-29T08:38:11.486Z"
   },
   {
    "duration": 42,
    "start_time": "2021-12-29T08:39:13.273Z"
   },
   {
    "duration": 6,
    "start_time": "2021-12-29T08:40:24.539Z"
   },
   {
    "duration": 746,
    "start_time": "2021-12-29T08:55:52.104Z"
   },
   {
    "duration": 930,
    "start_time": "2021-12-29T08:59:58.106Z"
   },
   {
    "duration": 5,
    "start_time": "2021-12-29T09:00:47.925Z"
   },
   {
    "duration": 5,
    "start_time": "2021-12-29T09:01:03.302Z"
   },
   {
    "duration": 5,
    "start_time": "2021-12-29T09:01:08.900Z"
   },
   {
    "duration": 571,
    "start_time": "2021-12-29T09:01:14.461Z"
   },
   {
    "duration": 270,
    "start_time": "2021-12-29T09:01:23.568Z"
   },
   {
    "duration": 5,
    "start_time": "2021-12-29T09:01:30.953Z"
   },
   {
    "duration": 9,
    "start_time": "2021-12-29T09:02:03.146Z"
   },
   {
    "duration": 8,
    "start_time": "2021-12-29T09:08:15.659Z"
   },
   {
    "duration": 803,
    "start_time": "2021-12-29T09:08:29.636Z"
   },
   {
    "duration": 894,
    "start_time": "2021-12-29T09:09:40.549Z"
   },
   {
    "duration": 8,
    "start_time": "2021-12-29T09:09:54.223Z"
   },
   {
    "duration": 9,
    "start_time": "2021-12-29T09:10:04.287Z"
   },
   {
    "duration": 1055,
    "start_time": "2021-12-29T09:10:18.902Z"
   },
   {
    "duration": 73,
    "start_time": "2021-12-29T09:10:19.959Z"
   },
   {
    "duration": 13,
    "start_time": "2021-12-29T09:10:20.033Z"
   },
   {
    "duration": 24,
    "start_time": "2021-12-29T09:10:20.048Z"
   },
   {
    "duration": 47,
    "start_time": "2021-12-29T09:10:20.073Z"
   },
   {
    "duration": 42,
    "start_time": "2021-12-29T09:10:20.122Z"
   },
   {
    "duration": 5,
    "start_time": "2021-12-29T09:10:20.166Z"
   },
   {
    "duration": 15,
    "start_time": "2021-12-29T09:10:20.173Z"
   },
   {
    "duration": 300,
    "start_time": "2021-12-29T09:10:20.189Z"
   },
   {
    "duration": 9,
    "start_time": "2021-12-29T09:15:19.876Z"
   },
   {
    "duration": 1084,
    "start_time": "2021-12-29T09:15:28.730Z"
   },
   {
    "duration": 71,
    "start_time": "2021-12-29T09:15:29.815Z"
   },
   {
    "duration": 12,
    "start_time": "2021-12-29T09:15:29.888Z"
   },
   {
    "duration": 20,
    "start_time": "2021-12-29T09:15:29.902Z"
   },
   {
    "duration": 61,
    "start_time": "2021-12-29T09:15:29.924Z"
   },
   {
    "duration": 43,
    "start_time": "2021-12-29T09:15:29.987Z"
   },
   {
    "duration": 13,
    "start_time": "2021-12-29T09:15:30.032Z"
   },
   {
    "duration": 13,
    "start_time": "2021-12-29T09:15:30.047Z"
   },
   {
    "duration": 301,
    "start_time": "2021-12-29T09:15:30.062Z"
   },
   {
    "duration": 13,
    "start_time": "2021-12-29T09:18:54.395Z"
   },
   {
    "duration": 1073,
    "start_time": "2021-12-29T09:19:04.290Z"
   },
   {
    "duration": 81,
    "start_time": "2021-12-29T09:19:05.366Z"
   },
   {
    "duration": 12,
    "start_time": "2021-12-29T09:19:05.449Z"
   },
   {
    "duration": 23,
    "start_time": "2021-12-29T09:19:05.463Z"
   },
   {
    "duration": 62,
    "start_time": "2021-12-29T09:19:05.488Z"
   },
   {
    "duration": 44,
    "start_time": "2021-12-29T09:19:05.551Z"
   },
   {
    "duration": 6,
    "start_time": "2021-12-29T09:19:05.597Z"
   },
   {
    "duration": 11,
    "start_time": "2021-12-29T09:19:05.605Z"
   },
   {
    "duration": 337,
    "start_time": "2021-12-29T09:19:05.618Z"
   },
   {
    "duration": 8,
    "start_time": "2021-12-29T09:19:19.008Z"
   },
   {
    "duration": 1136,
    "start_time": "2021-12-29T09:19:28.764Z"
   },
   {
    "duration": 72,
    "start_time": "2021-12-29T09:19:29.902Z"
   },
   {
    "duration": 13,
    "start_time": "2021-12-29T09:19:29.976Z"
   },
   {
    "duration": 23,
    "start_time": "2021-12-29T09:19:29.991Z"
   },
   {
    "duration": 56,
    "start_time": "2021-12-29T09:19:30.015Z"
   },
   {
    "duration": 43,
    "start_time": "2021-12-29T09:19:30.072Z"
   },
   {
    "duration": 5,
    "start_time": "2021-12-29T09:19:30.116Z"
   },
   {
    "duration": 12,
    "start_time": "2021-12-29T09:19:30.123Z"
   },
   {
    "duration": 8,
    "start_time": "2021-12-29T09:19:30.137Z"
   },
   {
    "duration": 8,
    "start_time": "2021-12-29T09:20:27.258Z"
   },
   {
    "duration": 1082,
    "start_time": "2021-12-29T09:20:32.171Z"
   },
   {
    "duration": 70,
    "start_time": "2021-12-29T09:20:33.255Z"
   },
   {
    "duration": 13,
    "start_time": "2021-12-29T09:20:33.329Z"
   },
   {
    "duration": 31,
    "start_time": "2021-12-29T09:20:33.343Z"
   },
   {
    "duration": 46,
    "start_time": "2021-12-29T09:20:33.376Z"
   },
   {
    "duration": 44,
    "start_time": "2021-12-29T09:20:33.423Z"
   },
   {
    "duration": 5,
    "start_time": "2021-12-29T09:20:33.469Z"
   },
   {
    "duration": 12,
    "start_time": "2021-12-29T09:20:33.476Z"
   },
   {
    "duration": 383,
    "start_time": "2021-12-29T09:20:33.490Z"
   },
   {
    "duration": 251,
    "start_time": "2021-12-29T09:20:51.449Z"
   },
   {
    "duration": 8,
    "start_time": "2021-12-29T09:21:36.960Z"
   },
   {
    "duration": 456,
    "start_time": "2021-12-29T09:22:06.965Z"
   },
   {
    "duration": 10,
    "start_time": "2021-12-29T09:22:55.170Z"
   },
   {
    "duration": 836,
    "start_time": "2021-12-29T09:23:02.470Z"
   },
   {
    "duration": 12,
    "start_time": "2021-12-29T09:24:19.984Z"
   },
   {
    "duration": 205,
    "start_time": "2021-12-29T09:24:45.785Z"
   },
   {
    "duration": 1064,
    "start_time": "2021-12-29T09:24:54.293Z"
   },
   {
    "duration": 74,
    "start_time": "2021-12-29T09:24:55.359Z"
   },
   {
    "duration": 13,
    "start_time": "2021-12-29T09:24:55.435Z"
   },
   {
    "duration": 21,
    "start_time": "2021-12-29T09:24:55.449Z"
   },
   {
    "duration": 48,
    "start_time": "2021-12-29T09:24:55.472Z"
   },
   {
    "duration": 43,
    "start_time": "2021-12-29T09:24:55.521Z"
   },
   {
    "duration": 5,
    "start_time": "2021-12-29T09:24:55.566Z"
   },
   {
    "duration": 12,
    "start_time": "2021-12-29T09:24:55.573Z"
   },
   {
    "duration": 15,
    "start_time": "2021-12-29T09:24:55.587Z"
   },
   {
    "duration": 310,
    "start_time": "2021-12-29T09:26:23.085Z"
   },
   {
    "duration": 1063,
    "start_time": "2021-12-29T09:26:27.987Z"
   },
   {
    "duration": 70,
    "start_time": "2021-12-29T09:26:29.052Z"
   },
   {
    "duration": 11,
    "start_time": "2021-12-29T09:26:29.124Z"
   },
   {
    "duration": 20,
    "start_time": "2021-12-29T09:26:29.137Z"
   },
   {
    "duration": 43,
    "start_time": "2021-12-29T09:26:29.159Z"
   },
   {
    "duration": 44,
    "start_time": "2021-12-29T09:26:29.204Z"
   },
   {
    "duration": 6,
    "start_time": "2021-12-29T09:26:29.250Z"
   },
   {
    "duration": 11,
    "start_time": "2021-12-29T09:26:29.258Z"
   },
   {
    "duration": 11,
    "start_time": "2021-12-29T09:26:29.270Z"
   },
   {
    "duration": 10,
    "start_time": "2021-12-29T09:26:56.441Z"
   },
   {
    "duration": 28,
    "start_time": "2021-12-29T09:30:01.058Z"
   },
   {
    "duration": 12,
    "start_time": "2021-12-29T09:30:37.104Z"
   },
   {
    "duration": 19,
    "start_time": "2021-12-29T09:30:43.139Z"
   },
   {
    "duration": 49,
    "start_time": "2021-12-29T09:31:18.713Z"
   },
   {
    "duration": 13,
    "start_time": "2021-12-29T09:33:28.800Z"
   },
   {
    "duration": 1115,
    "start_time": "2021-12-29T10:25:54.274Z"
   },
   {
    "duration": 84,
    "start_time": "2021-12-29T10:25:55.392Z"
   },
   {
    "duration": 17,
    "start_time": "2021-12-29T10:25:55.478Z"
   },
   {
    "duration": 24,
    "start_time": "2021-12-29T10:25:55.496Z"
   },
   {
    "duration": 66,
    "start_time": "2021-12-29T10:25:55.522Z"
   },
   {
    "duration": 45,
    "start_time": "2021-12-29T10:25:55.590Z"
   },
   {
    "duration": 6,
    "start_time": "2021-12-29T10:25:55.636Z"
   },
   {
    "duration": 16,
    "start_time": "2021-12-29T10:25:55.644Z"
   },
   {
    "duration": 61,
    "start_time": "2021-12-29T10:25:55.662Z"
   },
   {
    "duration": 7693,
    "start_time": "2021-12-29T10:25:55.741Z"
   },
   {
    "duration": 1687,
    "start_time": "2021-12-29T10:26:32.274Z"
   },
   {
    "duration": 9,
    "start_time": "2021-12-29T10:27:04.456Z"
   },
   {
    "duration": 18,
    "start_time": "2021-12-29T10:27:19.162Z"
   },
   {
    "duration": 15,
    "start_time": "2021-12-29T10:28:48.646Z"
   },
   {
    "duration": 5,
    "start_time": "2021-12-29T10:29:38.578Z"
   },
   {
    "duration": 73,
    "start_time": "2021-12-29T10:32:36.435Z"
   },
   {
    "duration": 73,
    "start_time": "2021-12-29T10:32:59.919Z"
   },
   {
    "duration": 1082,
    "start_time": "2021-12-29T14:54:41.261Z"
   },
   {
    "duration": 69,
    "start_time": "2021-12-29T14:54:42.345Z"
   },
   {
    "duration": 12,
    "start_time": "2021-12-29T14:54:42.416Z"
   },
   {
    "duration": 25,
    "start_time": "2021-12-29T14:54:42.430Z"
   },
   {
    "duration": 44,
    "start_time": "2021-12-29T14:54:42.457Z"
   },
   {
    "duration": 42,
    "start_time": "2021-12-29T14:54:42.502Z"
   },
   {
    "duration": 5,
    "start_time": "2021-12-29T14:54:42.545Z"
   },
   {
    "duration": 14,
    "start_time": "2021-12-29T14:54:42.552Z"
   },
   {
    "duration": 53,
    "start_time": "2021-12-29T14:54:42.568Z"
   },
   {
    "duration": 20,
    "start_time": "2021-12-29T14:54:42.623Z"
   },
   {
    "duration": 4,
    "start_time": "2021-12-29T14:54:42.644Z"
   },
   {
    "duration": 6,
    "start_time": "2021-12-29T14:55:11.601Z"
   },
   {
    "duration": 379,
    "start_time": "2021-12-29T15:01:14.155Z"
   },
   {
    "duration": 232,
    "start_time": "2021-12-29T15:01:36.574Z"
   },
   {
    "duration": 5585,
    "start_time": "2021-12-29T15:01:49.711Z"
   },
   {
    "duration": 7,
    "start_time": "2021-12-29T15:02:15.053Z"
   },
   {
    "duration": 17,
    "start_time": "2021-12-29T15:02:25.661Z"
   },
   {
    "duration": 16,
    "start_time": "2021-12-29T15:02:42.396Z"
   },
   {
    "duration": 1044,
    "start_time": "2021-12-29T15:02:51.282Z"
   },
   {
    "duration": 76,
    "start_time": "2021-12-29T15:02:52.327Z"
   },
   {
    "duration": 12,
    "start_time": "2021-12-29T15:02:52.405Z"
   },
   {
    "duration": 32,
    "start_time": "2021-12-29T15:02:52.419Z"
   },
   {
    "duration": 45,
    "start_time": "2021-12-29T15:02:52.453Z"
   },
   {
    "duration": 42,
    "start_time": "2021-12-29T15:02:52.500Z"
   },
   {
    "duration": 5,
    "start_time": "2021-12-29T15:02:52.544Z"
   },
   {
    "duration": 13,
    "start_time": "2021-12-29T15:02:52.551Z"
   },
   {
    "duration": 55,
    "start_time": "2021-12-29T15:02:52.565Z"
   },
   {
    "duration": 26,
    "start_time": "2021-12-29T15:02:52.622Z"
   },
   {
    "duration": 10,
    "start_time": "2021-12-29T15:02:52.650Z"
   },
   {
    "duration": 25,
    "start_time": "2021-12-29T15:02:52.662Z"
   },
   {
    "duration": 19,
    "start_time": "2021-12-29T15:04:37.211Z"
   },
   {
    "duration": 331,
    "start_time": "2021-12-29T15:04:53.789Z"
   },
   {
    "duration": 958,
    "start_time": "2021-12-29T15:05:02.036Z"
   },
   {
    "duration": 1429,
    "start_time": "2021-12-29T15:05:25.384Z"
   },
   {
    "duration": 953,
    "start_time": "2021-12-29T15:05:36.974Z"
   },
   {
    "duration": 4309,
    "start_time": "2021-12-29T15:05:46.170Z"
   },
   {
    "duration": 236,
    "start_time": "2021-12-29T15:05:50.482Z"
   },
   {
    "duration": 14,
    "start_time": "2021-12-29T15:05:50.721Z"
   },
   {
    "duration": 45,
    "start_time": "2021-12-29T15:05:50.737Z"
   },
   {
    "duration": 88,
    "start_time": "2021-12-29T15:05:50.784Z"
   },
   {
    "duration": 49,
    "start_time": "2021-12-29T15:05:50.874Z"
   },
   {
    "duration": 15,
    "start_time": "2021-12-29T15:05:50.926Z"
   },
   {
    "duration": 33,
    "start_time": "2021-12-29T15:05:50.943Z"
   },
   {
    "duration": 81,
    "start_time": "2021-12-29T15:05:50.979Z"
   },
   {
    "duration": 10,
    "start_time": "2021-12-29T15:05:51.062Z"
   },
   {
    "duration": 28,
    "start_time": "2021-12-29T15:05:51.074Z"
   },
   {
    "duration": 48,
    "start_time": "2021-12-29T15:05:51.104Z"
   },
   {
    "duration": 9,
    "start_time": "2021-12-29T15:06:32.280Z"
   },
   {
    "duration": 3,
    "start_time": "2021-12-29T15:12:23.513Z"
   },
   {
    "duration": 1226,
    "start_time": "2021-12-29T15:12:30.143Z"
   },
   {
    "duration": 4,
    "start_time": "2021-12-29T15:12:31.371Z"
   },
   {
    "duration": 99,
    "start_time": "2021-12-29T15:12:31.377Z"
   },
   {
    "duration": 20,
    "start_time": "2021-12-29T15:12:31.479Z"
   },
   {
    "duration": 44,
    "start_time": "2021-12-29T15:12:31.501Z"
   },
   {
    "duration": 94,
    "start_time": "2021-12-29T15:12:31.548Z"
   },
   {
    "duration": 47,
    "start_time": "2021-12-29T15:12:31.644Z"
   },
   {
    "duration": 23,
    "start_time": "2021-12-29T15:12:31.694Z"
   },
   {
    "duration": 27,
    "start_time": "2021-12-29T15:12:31.719Z"
   },
   {
    "duration": 98,
    "start_time": "2021-12-29T15:12:31.749Z"
   },
   {
    "duration": 20,
    "start_time": "2021-12-29T15:12:31.849Z"
   },
   {
    "duration": 11,
    "start_time": "2021-12-29T15:12:31.872Z"
   },
   {
    "duration": 6,
    "start_time": "2021-12-29T15:12:31.885Z"
   },
   {
    "duration": 13,
    "start_time": "2021-12-29T15:12:31.893Z"
   },
   {
    "duration": 13,
    "start_time": "2021-12-29T15:15:25.953Z"
   },
   {
    "duration": 80,
    "start_time": "2021-12-29T15:16:22.644Z"
   },
   {
    "duration": 19,
    "start_time": "2021-12-29T15:16:35.665Z"
   },
   {
    "duration": 7,
    "start_time": "2021-12-29T15:20:13.143Z"
   },
   {
    "duration": 5,
    "start_time": "2021-12-29T15:20:33.565Z"
   },
   {
    "duration": 7,
    "start_time": "2021-12-29T15:21:06.692Z"
   },
   {
    "duration": 10,
    "start_time": "2021-12-29T15:21:42.536Z"
   },
   {
    "duration": 7,
    "start_time": "2021-12-29T15:22:46.941Z"
   },
   {
    "duration": 24,
    "start_time": "2021-12-29T15:24:08.693Z"
   },
   {
    "duration": 63,
    "start_time": "2021-12-29T15:25:20.236Z"
   },
   {
    "duration": 18,
    "start_time": "2021-12-29T15:25:37.488Z"
   },
   {
    "duration": 20,
    "start_time": "2021-12-29T15:26:55.319Z"
   },
   {
    "duration": 699,
    "start_time": "2021-12-29T15:28:19.003Z"
   },
   {
    "duration": 324,
    "start_time": "2021-12-29T15:28:42.570Z"
   },
   {
    "duration": 179,
    "start_time": "2021-12-29T15:28:49.206Z"
   },
   {
    "duration": 232,
    "start_time": "2021-12-29T15:28:57.798Z"
   },
   {
    "duration": 70,
    "start_time": "2021-12-29T15:29:15.086Z"
   },
   {
    "duration": 240,
    "start_time": "2021-12-29T15:29:23.195Z"
   },
   {
    "duration": 342,
    "start_time": "2021-12-29T15:29:31.066Z"
   },
   {
    "duration": 322,
    "start_time": "2021-12-29T15:30:01.006Z"
   },
   {
    "duration": 22,
    "start_time": "2021-12-29T15:31:36.717Z"
   },
   {
    "duration": 17,
    "start_time": "2021-12-29T15:31:56.440Z"
   },
   {
    "duration": 1105,
    "start_time": "2021-12-29T15:32:23.686Z"
   },
   {
    "duration": 2,
    "start_time": "2021-12-29T15:32:24.793Z"
   },
   {
    "duration": 95,
    "start_time": "2021-12-29T15:32:24.797Z"
   },
   {
    "duration": 14,
    "start_time": "2021-12-29T15:32:24.895Z"
   },
   {
    "duration": 37,
    "start_time": "2021-12-29T15:32:24.911Z"
   },
   {
    "duration": 51,
    "start_time": "2021-12-29T15:32:24.950Z"
   },
   {
    "duration": 44,
    "start_time": "2021-12-29T15:32:25.004Z"
   },
   {
    "duration": 5,
    "start_time": "2021-12-29T15:32:25.052Z"
   },
   {
    "duration": 16,
    "start_time": "2021-12-29T15:32:25.059Z"
   },
   {
    "duration": 73,
    "start_time": "2021-12-29T15:32:25.077Z"
   },
   {
    "duration": 10,
    "start_time": "2021-12-29T15:32:25.152Z"
   },
   {
    "duration": 7,
    "start_time": "2021-12-29T15:32:25.164Z"
   },
   {
    "duration": 12,
    "start_time": "2021-12-29T15:32:25.173Z"
   },
   {
    "duration": 15,
    "start_time": "2021-12-29T15:32:25.186Z"
   },
   {
    "duration": 12,
    "start_time": "2021-12-29T15:32:25.203Z"
   },
   {
    "duration": 20,
    "start_time": "2021-12-29T15:32:25.241Z"
   },
   {
    "duration": 9,
    "start_time": "2021-12-29T15:32:25.263Z"
   },
   {
    "duration": 26,
    "start_time": "2021-12-29T15:32:25.274Z"
   },
   {
    "duration": 22,
    "start_time": "2021-12-29T15:32:25.301Z"
   },
   {
    "duration": 328,
    "start_time": "2021-12-29T15:36:40.341Z"
   },
   {
    "duration": 5,
    "start_time": "2021-12-29T15:36:51.223Z"
   },
   {
    "duration": 20,
    "start_time": "2021-12-29T15:37:07.653Z"
   },
   {
    "duration": 1251,
    "start_time": "2021-12-29T15:37:29.665Z"
   },
   {
    "duration": 3,
    "start_time": "2021-12-29T15:37:30.918Z"
   },
   {
    "duration": 105,
    "start_time": "2021-12-29T15:37:30.923Z"
   },
   {
    "duration": 14,
    "start_time": "2021-12-29T15:37:31.030Z"
   },
   {
    "duration": 28,
    "start_time": "2021-12-29T15:37:31.046Z"
   },
   {
    "duration": 51,
    "start_time": "2021-12-29T15:37:31.076Z"
   },
   {
    "duration": 43,
    "start_time": "2021-12-29T15:37:31.128Z"
   },
   {
    "duration": 18,
    "start_time": "2021-12-29T15:37:31.173Z"
   },
   {
    "duration": 18,
    "start_time": "2021-12-29T15:37:31.193Z"
   },
   {
    "duration": 55,
    "start_time": "2021-12-29T15:37:31.213Z"
   },
   {
    "duration": 9,
    "start_time": "2021-12-29T15:37:31.270Z"
   },
   {
    "duration": 15,
    "start_time": "2021-12-29T15:37:31.280Z"
   },
   {
    "duration": 7,
    "start_time": "2021-12-29T15:37:31.297Z"
   },
   {
    "duration": 17,
    "start_time": "2021-12-29T15:37:31.306Z"
   },
   {
    "duration": 22,
    "start_time": "2021-12-29T15:37:31.325Z"
   },
   {
    "duration": 19,
    "start_time": "2021-12-29T15:37:31.348Z"
   },
   {
    "duration": 4,
    "start_time": "2021-12-29T15:37:31.369Z"
   },
   {
    "duration": 25,
    "start_time": "2021-12-29T15:37:31.374Z"
   },
   {
    "duration": 51,
    "start_time": "2021-12-29T15:37:31.400Z"
   },
   {
    "duration": 23,
    "start_time": "2021-12-29T15:37:31.452Z"
   },
   {
    "duration": 67,
    "start_time": "2021-12-29T15:38:50.623Z"
   },
   {
    "duration": 66,
    "start_time": "2021-12-29T15:39:02.803Z"
   },
   {
    "duration": 67,
    "start_time": "2021-12-29T15:39:15.309Z"
   },
   {
    "duration": 13,
    "start_time": "2021-12-29T15:39:24.980Z"
   },
   {
    "duration": 501,
    "start_time": "2021-12-29T15:43:56.586Z"
   },
   {
    "duration": 964,
    "start_time": "2021-12-29T15:44:18.096Z"
   },
   {
    "duration": 13,
    "start_time": "2021-12-29T15:44:29.748Z"
   },
   {
    "duration": 97,
    "start_time": "2021-12-29T15:44:37.294Z"
   },
   {
    "duration": 18,
    "start_time": "2021-12-29T15:44:44.300Z"
   },
   {
    "duration": 27,
    "start_time": "2021-12-29T15:44:56.123Z"
   },
   {
    "duration": 26,
    "start_time": "2021-12-29T15:45:25.568Z"
   },
   {
    "duration": 5,
    "start_time": "2021-12-29T15:47:29.220Z"
   },
   {
    "duration": 68,
    "start_time": "2021-12-29T15:48:44.537Z"
   },
   {
    "duration": 64,
    "start_time": "2021-12-29T15:52:00.585Z"
   },
   {
    "duration": 996,
    "start_time": "2021-12-29T15:52:20.701Z"
   },
   {
    "duration": 934,
    "start_time": "2021-12-29T15:54:10.921Z"
   },
   {
    "duration": 911,
    "start_time": "2021-12-29T15:57:45.506Z"
   },
   {
    "duration": 1727,
    "start_time": "2021-12-29T15:58:28.760Z"
   },
   {
    "duration": 352,
    "start_time": "2021-12-30T07:20:15.166Z"
   },
   {
    "duration": 1495,
    "start_time": "2021-12-30T07:20:15.572Z"
   },
   {
    "duration": 3,
    "start_time": "2021-12-30T07:20:17.070Z"
   },
   {
    "duration": 107,
    "start_time": "2021-12-30T07:20:17.076Z"
   },
   {
    "duration": 21,
    "start_time": "2021-12-30T07:20:17.186Z"
   },
   {
    "duration": 33,
    "start_time": "2021-12-30T07:20:17.209Z"
   },
   {
    "duration": 109,
    "start_time": "2021-12-30T07:20:17.244Z"
   },
   {
    "duration": 38,
    "start_time": "2021-12-30T07:20:17.367Z"
   },
   {
    "duration": 8,
    "start_time": "2021-12-30T07:20:17.407Z"
   },
   {
    "duration": 20,
    "start_time": "2021-12-30T07:20:17.419Z"
   },
   {
    "duration": 112,
    "start_time": "2021-12-30T07:20:17.441Z"
   },
   {
    "duration": 16,
    "start_time": "2021-12-30T07:20:17.555Z"
   },
   {
    "duration": 9,
    "start_time": "2021-12-30T07:20:17.573Z"
   },
   {
    "duration": 18,
    "start_time": "2021-12-30T07:20:17.584Z"
   },
   {
    "duration": 32,
    "start_time": "2021-12-30T07:20:17.605Z"
   },
   {
    "duration": 31,
    "start_time": "2021-12-30T07:20:17.639Z"
   },
   {
    "duration": 31,
    "start_time": "2021-12-30T07:20:17.673Z"
   },
   {
    "duration": 6,
    "start_time": "2021-12-30T07:20:17.708Z"
   },
   {
    "duration": 14,
    "start_time": "2021-12-30T07:20:17.716Z"
   },
   {
    "duration": 54,
    "start_time": "2021-12-30T07:20:17.733Z"
   },
   {
    "duration": 6,
    "start_time": "2021-12-30T07:20:17.789Z"
   },
   {
    "duration": 1454,
    "start_time": "2021-12-30T07:20:17.797Z"
   },
   {
    "duration": 13,
    "start_time": "2021-12-30T07:20:19.254Z"
   },
   {
    "duration": 1828,
    "start_time": "2021-12-30T07:20:19.270Z"
   },
   {
    "duration": 1644,
    "start_time": "2021-12-30T07:22:01.001Z"
   },
   {
    "duration": 1755,
    "start_time": "2021-12-30T07:22:49.572Z"
   },
   {
    "duration": 1766,
    "start_time": "2021-12-30T07:25:02.456Z"
   },
   {
    "duration": 1667,
    "start_time": "2021-12-30T07:25:14.525Z"
   },
   {
    "duration": 11,
    "start_time": "2021-12-30T07:25:41.263Z"
   },
   {
    "duration": 1902,
    "start_time": "2021-12-30T07:29:14.633Z"
   },
   {
    "duration": 10,
    "start_time": "2021-12-30T07:30:48.650Z"
   },
   {
    "duration": 5,
    "start_time": "2021-12-30T07:30:50.506Z"
   },
   {
    "duration": 1497,
    "start_time": "2021-12-30T07:30:54.016Z"
   },
   {
    "duration": -6349,
    "start_time": "2021-12-30T07:31:01.864Z"
   },
   {
    "duration": -6349,
    "start_time": "2021-12-30T07:31:01.866Z"
   },
   {
    "duration": -6351,
    "start_time": "2021-12-30T07:31:01.869Z"
   },
   {
    "duration": 1536,
    "start_time": "2021-12-30T07:31:04.431Z"
   },
   {
    "duration": 4,
    "start_time": "2021-12-30T07:31:05.970Z"
   },
   {
    "duration": 103,
    "start_time": "2021-12-30T07:31:05.977Z"
   },
   {
    "duration": 21,
    "start_time": "2021-12-30T07:31:06.083Z"
   },
   {
    "duration": 34,
    "start_time": "2021-12-30T07:31:06.106Z"
   },
   {
    "duration": 102,
    "start_time": "2021-12-30T07:31:06.142Z"
   },
   {
    "duration": 38,
    "start_time": "2021-12-30T07:31:06.247Z"
   },
   {
    "duration": 7,
    "start_time": "2021-12-30T07:31:06.288Z"
   },
   {
    "duration": 19,
    "start_time": "2021-12-30T07:31:06.300Z"
   },
   {
    "duration": 119,
    "start_time": "2021-12-30T07:31:06.321Z"
   },
   {
    "duration": 29,
    "start_time": "2021-12-30T07:31:06.443Z"
   },
   {
    "duration": 10,
    "start_time": "2021-12-30T07:31:06.474Z"
   },
   {
    "duration": 9,
    "start_time": "2021-12-30T07:31:06.486Z"
   },
   {
    "duration": 19,
    "start_time": "2021-12-30T07:31:06.497Z"
   },
   {
    "duration": 14,
    "start_time": "2021-12-30T07:31:06.518Z"
   },
   {
    "duration": 59,
    "start_time": "2021-12-30T07:31:06.534Z"
   },
   {
    "duration": 7,
    "start_time": "2021-12-30T07:31:06.595Z"
   },
   {
    "duration": 8,
    "start_time": "2021-12-30T07:31:06.604Z"
   },
   {
    "duration": 63,
    "start_time": "2021-12-30T07:31:06.614Z"
   },
   {
    "duration": 6,
    "start_time": "2021-12-30T07:31:06.679Z"
   },
   {
    "duration": 1418,
    "start_time": "2021-12-30T07:31:06.687Z"
   },
   {
    "duration": 5,
    "start_time": "2021-12-30T07:31:08.108Z"
   },
   {
    "duration": 12,
    "start_time": "2021-12-30T07:31:08.115Z"
   },
   {
    "duration": 115,
    "start_time": "2021-12-30T07:31:08.130Z"
   },
   {
    "duration": 1780,
    "start_time": "2021-12-30T07:31:31.139Z"
   },
   {
    "duration": 17,
    "start_time": "2021-12-30T07:32:17.624Z"
   },
   {
    "duration": 1564,
    "start_time": "2021-12-30T13:32:26.644Z"
   },
   {
    "duration": 6,
    "start_time": "2021-12-30T13:32:28.210Z"
   },
   {
    "duration": 290,
    "start_time": "2021-12-30T13:32:28.221Z"
   },
   {
    "duration": 29,
    "start_time": "2021-12-30T13:32:28.515Z"
   },
   {
    "duration": 41,
    "start_time": "2021-12-30T13:32:28.547Z"
   },
   {
    "duration": 107,
    "start_time": "2021-12-30T13:32:28.591Z"
   },
   {
    "duration": 52,
    "start_time": "2021-12-30T13:32:28.701Z"
   },
   {
    "duration": 11,
    "start_time": "2021-12-30T13:32:28.758Z"
   },
   {
    "duration": 34,
    "start_time": "2021-12-30T13:32:28.773Z"
   },
   {
    "duration": 159,
    "start_time": "2021-12-30T13:32:28.810Z"
   },
   {
    "duration": 15,
    "start_time": "2021-12-30T13:32:28.972Z"
   },
   {
    "duration": 18,
    "start_time": "2021-12-30T13:32:28.990Z"
   },
   {
    "duration": 7,
    "start_time": "2021-12-30T13:32:29.011Z"
   },
   {
    "duration": 55,
    "start_time": "2021-12-30T13:32:29.021Z"
   },
   {
    "duration": 21,
    "start_time": "2021-12-30T13:32:29.079Z"
   },
   {
    "duration": 35,
    "start_time": "2021-12-30T13:32:29.103Z"
   },
   {
    "duration": 32,
    "start_time": "2021-12-30T13:32:29.141Z"
   },
   {
    "duration": 8,
    "start_time": "2021-12-30T13:32:29.175Z"
   },
   {
    "duration": 27,
    "start_time": "2021-12-30T13:32:29.187Z"
   },
   {
    "duration": 9,
    "start_time": "2021-12-30T13:32:29.217Z"
   },
   {
    "duration": 2511,
    "start_time": "2021-12-30T13:32:29.263Z"
   },
   {
    "duration": 7,
    "start_time": "2021-12-30T13:32:31.777Z"
   },
   {
    "duration": 16,
    "start_time": "2021-12-30T13:32:31.789Z"
   },
   {
    "duration": 1504,
    "start_time": "2021-12-30T13:32:31.808Z"
   },
   {
    "duration": 15,
    "start_time": "2021-12-30T13:34:44.184Z"
   },
   {
    "duration": 24,
    "start_time": "2021-12-30T13:35:03.316Z"
   },
   {
    "duration": 1158,
    "start_time": "2022-01-04T17:20:55.942Z"
   },
   {
    "duration": 3,
    "start_time": "2022-01-04T17:20:57.102Z"
   },
   {
    "duration": 76,
    "start_time": "2022-01-04T17:20:57.107Z"
   },
   {
    "duration": 13,
    "start_time": "2022-01-04T17:20:57.185Z"
   },
   {
    "duration": 20,
    "start_time": "2022-01-04T17:20:57.200Z"
   },
   {
    "duration": 68,
    "start_time": "2022-01-04T17:20:57.222Z"
   },
   {
    "duration": 39,
    "start_time": "2022-01-04T17:20:57.292Z"
   },
   {
    "duration": 5,
    "start_time": "2022-01-04T17:20:57.335Z"
   },
   {
    "duration": 14,
    "start_time": "2022-01-04T17:20:57.342Z"
   },
   {
    "duration": 57,
    "start_time": "2022-01-04T17:20:57.358Z"
   },
   {
    "duration": 8,
    "start_time": "2022-01-04T17:20:57.417Z"
   },
   {
    "duration": 7,
    "start_time": "2022-01-04T17:20:57.427Z"
   },
   {
    "duration": 5,
    "start_time": "2022-01-04T17:20:57.436Z"
   },
   {
    "duration": 29,
    "start_time": "2022-01-04T17:20:57.443Z"
   },
   {
    "duration": 12,
    "start_time": "2022-01-04T17:20:57.473Z"
   },
   {
    "duration": 21,
    "start_time": "2022-01-04T17:20:57.487Z"
   },
   {
    "duration": 4,
    "start_time": "2022-01-04T17:20:57.510Z"
   },
   {
    "duration": 20,
    "start_time": "2022-01-04T17:20:57.515Z"
   },
   {
    "duration": 38,
    "start_time": "2022-01-04T17:20:57.536Z"
   },
   {
    "duration": 18,
    "start_time": "2022-01-04T17:20:57.575Z"
   },
   {
    "duration": 726,
    "start_time": "2022-01-04T17:20:57.594Z"
   },
   {
    "duration": 5,
    "start_time": "2022-01-04T17:20:58.321Z"
   },
   {
    "duration": 32,
    "start_time": "2022-01-04T17:20:58.328Z"
   },
   {
    "duration": 10,
    "start_time": "2022-01-04T17:20:58.362Z"
   },
   {
    "duration": 33,
    "start_time": "2022-01-04T17:20:58.374Z"
   },
   {
    "duration": 7,
    "start_time": "2022-01-04T17:22:18.344Z"
   },
   {
    "duration": 21,
    "start_time": "2022-01-04T17:22:18.965Z"
   },
   {
    "duration": 306,
    "start_time": "2022-01-04T17:24:27.340Z"
   },
   {
    "duration": 28,
    "start_time": "2022-01-04T17:24:35.158Z"
   },
   {
    "duration": 24,
    "start_time": "2022-01-04T17:27:05.606Z"
   },
   {
    "duration": 1112,
    "start_time": "2022-01-04T17:27:16.566Z"
   },
   {
    "duration": 3,
    "start_time": "2022-01-04T17:27:17.681Z"
   },
   {
    "duration": 72,
    "start_time": "2022-01-04T17:27:17.686Z"
   },
   {
    "duration": 13,
    "start_time": "2022-01-04T17:27:17.760Z"
   },
   {
    "duration": 19,
    "start_time": "2022-01-04T17:27:17.774Z"
   },
   {
    "duration": 47,
    "start_time": "2022-01-04T17:27:17.794Z"
   },
   {
    "duration": 39,
    "start_time": "2022-01-04T17:27:17.860Z"
   },
   {
    "duration": 7,
    "start_time": "2022-01-04T17:27:17.900Z"
   },
   {
    "duration": 14,
    "start_time": "2022-01-04T17:27:17.910Z"
   },
   {
    "duration": 54,
    "start_time": "2022-01-04T17:27:17.926Z"
   },
   {
    "duration": 10,
    "start_time": "2022-01-04T17:27:17.982Z"
   },
   {
    "duration": 8,
    "start_time": "2022-01-04T17:27:17.993Z"
   },
   {
    "duration": 6,
    "start_time": "2022-01-04T17:27:18.003Z"
   },
   {
    "duration": 12,
    "start_time": "2022-01-04T17:27:18.011Z"
   },
   {
    "duration": 36,
    "start_time": "2022-01-04T17:27:18.025Z"
   },
   {
    "duration": 22,
    "start_time": "2022-01-04T17:27:18.064Z"
   },
   {
    "duration": 6,
    "start_time": "2022-01-04T17:27:18.088Z"
   },
   {
    "duration": 6,
    "start_time": "2022-01-04T17:27:18.096Z"
   },
   {
    "duration": 18,
    "start_time": "2022-01-04T17:27:18.104Z"
   },
   {
    "duration": 39,
    "start_time": "2022-01-04T17:27:18.124Z"
   },
   {
    "duration": 712,
    "start_time": "2022-01-04T17:27:18.165Z"
   },
   {
    "duration": 4,
    "start_time": "2022-01-04T17:27:18.879Z"
   },
   {
    "duration": 11,
    "start_time": "2022-01-04T17:27:18.885Z"
   },
   {
    "duration": 8,
    "start_time": "2022-01-04T17:27:18.897Z"
   },
   {
    "duration": 9,
    "start_time": "2022-01-04T17:27:18.906Z"
   },
   {
    "duration": 16,
    "start_time": "2022-01-04T17:27:18.916Z"
   },
   {
    "duration": 50,
    "start_time": "2022-01-04T17:27:18.935Z"
   },
   {
    "duration": 22,
    "start_time": "2022-01-04T17:29:26.223Z"
   },
   {
    "duration": 17,
    "start_time": "2022-01-04T17:31:08.516Z"
   },
   {
    "duration": 21,
    "start_time": "2022-01-04T17:31:39.190Z"
   },
   {
    "duration": 170,
    "start_time": "2022-01-04T17:32:30.393Z"
   },
   {
    "duration": 175,
    "start_time": "2022-01-04T17:32:44.755Z"
   },
   {
    "duration": 236,
    "start_time": "2022-01-04T17:39:31.682Z"
   },
   {
    "duration": 227,
    "start_time": "2022-01-04T17:39:40.480Z"
   },
   {
    "duration": 238,
    "start_time": "2022-01-04T17:39:48.340Z"
   },
   {
    "duration": 170,
    "start_time": "2022-01-04T17:40:04.961Z"
   },
   {
    "duration": 185,
    "start_time": "2022-01-04T17:40:08.362Z"
   },
   {
    "duration": 174,
    "start_time": "2022-01-04T17:40:15.716Z"
   },
   {
    "duration": 190,
    "start_time": "2022-01-04T17:40:22.154Z"
   },
   {
    "duration": 7,
    "start_time": "2022-01-04T17:41:48.472Z"
   },
   {
    "duration": 7,
    "start_time": "2022-01-04T17:42:06.023Z"
   },
   {
    "duration": 7,
    "start_time": "2022-01-04T17:42:31.613Z"
   },
   {
    "duration": 293,
    "start_time": "2022-01-04T17:44:25.655Z"
   },
   {
    "duration": 208,
    "start_time": "2022-01-04T17:44:54.052Z"
   },
   {
    "duration": 30,
    "start_time": "2022-01-04T17:46:53.800Z"
   },
   {
    "duration": 5851,
    "start_time": "2022-01-04T17:50:28.620Z"
   },
   {
    "duration": 5128,
    "start_time": "2022-01-04T17:50:36.313Z"
   },
   {
    "duration": 12,
    "start_time": "2022-01-04T17:51:25.243Z"
   },
   {
    "duration": 16,
    "start_time": "2022-01-04T17:51:35.921Z"
   },
   {
    "duration": 17,
    "start_time": "2022-01-04T17:51:54.618Z"
   },
   {
    "duration": 12,
    "start_time": "2022-01-04T17:52:23.196Z"
   },
   {
    "duration": 9,
    "start_time": "2022-01-04T17:53:02.338Z"
   },
   {
    "duration": 9,
    "start_time": "2022-01-04T17:53:37.629Z"
   },
   {
    "duration": 187,
    "start_time": "2022-01-04T17:53:50.588Z"
   },
   {
    "duration": 178,
    "start_time": "2022-01-04T17:53:58.652Z"
   },
   {
    "duration": 19,
    "start_time": "2022-01-04T17:57:46.542Z"
   },
   {
    "duration": 21,
    "start_time": "2022-01-04T17:59:04.701Z"
   },
   {
    "duration": 1362,
    "start_time": "2022-01-05T18:24:47.395Z"
   },
   {
    "duration": 2,
    "start_time": "2022-01-05T18:24:48.760Z"
   },
   {
    "duration": 73,
    "start_time": "2022-01-05T18:24:48.764Z"
   },
   {
    "duration": 13,
    "start_time": "2022-01-05T18:24:48.838Z"
   },
   {
    "duration": 18,
    "start_time": "2022-01-05T18:24:48.852Z"
   },
   {
    "duration": 60,
    "start_time": "2022-01-05T18:24:48.871Z"
   },
   {
    "duration": 43,
    "start_time": "2022-01-05T18:24:48.932Z"
   },
   {
    "duration": 5,
    "start_time": "2022-01-05T18:24:48.978Z"
   },
   {
    "duration": 11,
    "start_time": "2022-01-05T18:24:48.985Z"
   },
   {
    "duration": 71,
    "start_time": "2022-01-05T18:24:48.997Z"
   },
   {
    "duration": 7,
    "start_time": "2022-01-05T18:24:49.070Z"
   },
   {
    "duration": 6,
    "start_time": "2022-01-05T18:24:49.079Z"
   },
   {
    "duration": 5,
    "start_time": "2022-01-05T18:24:49.087Z"
   },
   {
    "duration": 12,
    "start_time": "2022-01-05T18:24:49.094Z"
   },
   {
    "duration": 10,
    "start_time": "2022-01-05T18:24:49.108Z"
   },
   {
    "duration": 16,
    "start_time": "2022-01-05T18:24:49.120Z"
   },
   {
    "duration": 4,
    "start_time": "2022-01-05T18:24:49.137Z"
   },
   {
    "duration": 5,
    "start_time": "2022-01-05T18:24:49.143Z"
   },
   {
    "duration": 20,
    "start_time": "2022-01-05T18:24:49.150Z"
   },
   {
    "duration": 4,
    "start_time": "2022-01-05T18:24:49.172Z"
   },
   {
    "duration": 693,
    "start_time": "2022-01-05T18:24:49.177Z"
   },
   {
    "duration": 3,
    "start_time": "2022-01-05T18:24:49.872Z"
   },
   {
    "duration": 7,
    "start_time": "2022-01-05T18:24:49.878Z"
   },
   {
    "duration": 6,
    "start_time": "2022-01-05T18:24:49.887Z"
   },
   {
    "duration": 10,
    "start_time": "2022-01-05T18:24:49.894Z"
   },
   {
    "duration": 21,
    "start_time": "2022-01-05T18:24:49.927Z"
   },
   {
    "duration": 273,
    "start_time": "2022-01-05T18:24:49.949Z"
   },
   {
    "duration": 262,
    "start_time": "2022-01-05T18:24:50.227Z"
   },
   {
    "duration": 8,
    "start_time": "2022-01-05T18:24:50.491Z"
   },
   {
    "duration": 11,
    "start_time": "2022-01-05T18:24:50.500Z"
   },
   {
    "duration": 170,
    "start_time": "2022-01-05T18:24:50.527Z"
   },
   {
    "duration": 29,
    "start_time": "2022-01-05T18:24:50.699Z"
   },
   {
    "duration": 4,
    "start_time": "2022-01-05T18:36:51.093Z"
   },
   {
    "duration": 162,
    "start_time": "2022-01-05T18:37:36.518Z"
   },
   {
    "duration": 4,
    "start_time": "2022-01-05T18:38:18.856Z"
   },
   {
    "duration": 205,
    "start_time": "2022-01-05T18:38:20.371Z"
   },
   {
    "duration": 4,
    "start_time": "2022-01-05T18:38:30.803Z"
   },
   {
    "duration": 165,
    "start_time": "2022-01-05T18:38:31.229Z"
   },
   {
    "duration": 100,
    "start_time": "2022-01-05T18:42:56.215Z"
   },
   {
    "duration": 13,
    "start_time": "2022-01-05T18:43:21.630Z"
   },
   {
    "duration": 351,
    "start_time": "2022-01-05T18:43:55.470Z"
   },
   {
    "duration": 297,
    "start_time": "2022-01-05T18:44:03.848Z"
   },
   {
    "duration": 4,
    "start_time": "2022-01-05T18:44:29.209Z"
   },
   {
    "duration": 3,
    "start_time": "2022-01-05T18:47:46.886Z"
   },
   {
    "duration": 3,
    "start_time": "2022-01-05T18:49:04.221Z"
   },
   {
    "duration": 2,
    "start_time": "2022-01-05T18:49:37.287Z"
   },
   {
    "duration": 2,
    "start_time": "2022-01-05T18:49:37.923Z"
   },
   {
    "duration": 538,
    "start_time": "2022-01-05T18:51:04.540Z"
   },
   {
    "duration": 279,
    "start_time": "2022-01-05T18:51:12.588Z"
   },
   {
    "duration": 3,
    "start_time": "2022-01-05T18:51:16.290Z"
   },
   {
    "duration": 3,
    "start_time": "2022-01-05T18:51:16.695Z"
   },
   {
    "duration": 284,
    "start_time": "2022-01-05T18:51:17.137Z"
   },
   {
    "duration": 279,
    "start_time": "2022-01-05T18:51:47.644Z"
   },
   {
    "duration": 3,
    "start_time": "2022-01-05T18:51:57.400Z"
   },
   {
    "duration": 2,
    "start_time": "2022-01-05T18:51:57.769Z"
   },
   {
    "duration": 277,
    "start_time": "2022-01-05T18:51:58.140Z"
   },
   {
    "duration": 3,
    "start_time": "2022-01-05T18:52:12.213Z"
   },
   {
    "duration": 3,
    "start_time": "2022-01-05T18:52:12.956Z"
   },
   {
    "duration": 276,
    "start_time": "2022-01-05T18:52:13.522Z"
   },
   {
    "duration": 300,
    "start_time": "2022-01-05T18:53:07.175Z"
   },
   {
    "duration": 3,
    "start_time": "2022-01-05T18:53:18.257Z"
   },
   {
    "duration": 3,
    "start_time": "2022-01-05T18:53:18.606Z"
   },
   {
    "duration": 281,
    "start_time": "2022-01-05T18:53:18.954Z"
   },
   {
    "duration": 2,
    "start_time": "2022-01-05T18:53:29.444Z"
   },
   {
    "duration": 3,
    "start_time": "2022-01-05T18:53:30.182Z"
   },
   {
    "duration": 313,
    "start_time": "2022-01-05T18:53:30.617Z"
   },
   {
    "duration": 307,
    "start_time": "2022-01-05T18:53:54.463Z"
   },
   {
    "duration": 3,
    "start_time": "2022-01-05T18:54:10.196Z"
   },
   {
    "duration": 3,
    "start_time": "2022-01-05T18:54:11.685Z"
   },
   {
    "duration": 278,
    "start_time": "2022-01-05T18:54:12.035Z"
   },
   {
    "duration": 2,
    "start_time": "2022-01-05T18:55:11.898Z"
   },
   {
    "duration": 274,
    "start_time": "2022-01-05T18:55:12.532Z"
   },
   {
    "duration": 3,
    "start_time": "2022-01-05T18:55:26.730Z"
   },
   {
    "duration": 291,
    "start_time": "2022-01-05T18:55:27.101Z"
   },
   {
    "duration": 485,
    "start_time": "2022-01-05T18:56:02.907Z"
   },
   {
    "duration": 92,
    "start_time": "2022-01-05T18:56:57.870Z"
   },
   {
    "duration": 273,
    "start_time": "2022-01-05T18:57:04.444Z"
   },
   {
    "duration": 307,
    "start_time": "2022-01-05T18:58:17.484Z"
   },
   {
    "duration": 363,
    "start_time": "2022-01-05T18:58:34.653Z"
   },
   {
    "duration": 463,
    "start_time": "2022-01-05T18:58:44.216Z"
   },
   {
    "duration": 300,
    "start_time": "2022-01-05T18:58:51.647Z"
   },
   {
    "duration": 3,
    "start_time": "2022-01-05T19:00:44.054Z"
   },
   {
    "duration": 481,
    "start_time": "2022-01-05T19:00:47.391Z"
   },
   {
    "duration": 283,
    "start_time": "2022-01-05T19:01:36.926Z"
   },
   {
    "duration": 260,
    "start_time": "2022-01-05T19:01:44.849Z"
   },
   {
    "duration": 3,
    "start_time": "2022-01-05T19:03:14.579Z"
   },
   {
    "duration": 299,
    "start_time": "2022-01-05T19:03:14.908Z"
   },
   {
    "duration": 361,
    "start_time": "2022-01-05T19:06:41.755Z"
   },
   {
    "duration": 300,
    "start_time": "2022-01-05T19:06:49.378Z"
   },
   {
    "duration": 271,
    "start_time": "2022-01-05T19:07:51.183Z"
   },
   {
    "duration": 330,
    "start_time": "2022-01-05T19:08:00.238Z"
   },
   {
    "duration": 243,
    "start_time": "2022-01-05T19:08:08.438Z"
   },
   {
    "duration": 323,
    "start_time": "2022-01-05T19:08:17.117Z"
   },
   {
    "duration": 301,
    "start_time": "2022-01-05T19:08:21.449Z"
   },
   {
    "duration": 362,
    "start_time": "2022-01-05T19:08:26.496Z"
   },
   {
    "duration": 301,
    "start_time": "2022-01-05T19:08:36.903Z"
   },
   {
    "duration": 291,
    "start_time": "2022-01-05T19:08:41.476Z"
   },
   {
    "duration": 534,
    "start_time": "2022-01-05T19:09:51.160Z"
   },
   {
    "duration": 340,
    "start_time": "2022-01-05T19:10:26.199Z"
   },
   {
    "duration": 345,
    "start_time": "2022-01-05T19:11:43.992Z"
   },
   {
    "duration": 348,
    "start_time": "2022-01-05T19:12:21.734Z"
   },
   {
    "duration": 2,
    "start_time": "2022-01-05T19:19:34.278Z"
   },
   {
    "duration": 3,
    "start_time": "2022-01-05T19:19:34.665Z"
   },
   {
    "duration": 564,
    "start_time": "2022-01-05T19:19:35.005Z"
   },
   {
    "duration": 307,
    "start_time": "2022-01-05T19:20:06.188Z"
   },
   {
    "duration": 298,
    "start_time": "2022-01-05T19:21:55.680Z"
   },
   {
    "duration": 95,
    "start_time": "2022-01-05T19:24:17.288Z"
   },
   {
    "duration": 311,
    "start_time": "2022-01-05T19:24:26.370Z"
   },
   {
    "duration": 301,
    "start_time": "2022-01-05T19:24:53.956Z"
   },
   {
    "duration": 295,
    "start_time": "2022-01-05T19:25:14.508Z"
   },
   {
    "duration": 319,
    "start_time": "2022-01-05T19:25:43.127Z"
   },
   {
    "duration": 404,
    "start_time": "2022-01-05T19:26:21.639Z"
   },
   {
    "duration": 316,
    "start_time": "2022-01-05T19:26:29.503Z"
   },
   {
    "duration": 3,
    "start_time": "2022-01-05T19:28:52.873Z"
   },
   {
    "duration": 164,
    "start_time": "2022-01-05T19:28:55.697Z"
   },
   {
    "duration": 1147,
    "start_time": "2022-01-08T15:11:42.794Z"
   },
   {
    "duration": 3,
    "start_time": "2022-01-08T15:11:43.943Z"
   },
   {
    "duration": 75,
    "start_time": "2022-01-08T15:11:43.950Z"
   },
   {
    "duration": 16,
    "start_time": "2022-01-08T15:11:44.027Z"
   },
   {
    "duration": 20,
    "start_time": "2022-01-08T15:11:44.045Z"
   },
   {
    "duration": 49,
    "start_time": "2022-01-08T15:11:44.066Z"
   },
   {
    "duration": 43,
    "start_time": "2022-01-08T15:11:44.117Z"
   },
   {
    "duration": 5,
    "start_time": "2022-01-08T15:11:44.162Z"
   },
   {
    "duration": 13,
    "start_time": "2022-01-08T15:11:44.170Z"
   },
   {
    "duration": 62,
    "start_time": "2022-01-08T15:11:44.185Z"
   },
   {
    "duration": 9,
    "start_time": "2022-01-08T15:11:44.249Z"
   },
   {
    "duration": 8,
    "start_time": "2022-01-08T15:11:44.260Z"
   },
   {
    "duration": 7,
    "start_time": "2022-01-08T15:11:44.269Z"
   },
   {
    "duration": 13,
    "start_time": "2022-01-08T15:11:44.277Z"
   },
   {
    "duration": 11,
    "start_time": "2022-01-08T15:11:44.292Z"
   },
   {
    "duration": 40,
    "start_time": "2022-01-08T15:11:44.305Z"
   },
   {
    "duration": 4,
    "start_time": "2022-01-08T15:11:44.347Z"
   },
   {
    "duration": 8,
    "start_time": "2022-01-08T15:11:44.353Z"
   },
   {
    "duration": 30,
    "start_time": "2022-01-08T15:11:44.363Z"
   },
   {
    "duration": 13,
    "start_time": "2022-01-08T15:11:44.395Z"
   },
   {
    "duration": 781,
    "start_time": "2022-01-08T15:11:44.410Z"
   },
   {
    "duration": 4,
    "start_time": "2022-01-08T15:11:45.195Z"
   },
   {
    "duration": 19,
    "start_time": "2022-01-08T15:11:45.202Z"
   },
   {
    "duration": 21,
    "start_time": "2022-01-08T15:11:45.224Z"
   },
   {
    "duration": 13,
    "start_time": "2022-01-08T15:11:45.247Z"
   },
   {
    "duration": 24,
    "start_time": "2022-01-08T15:11:45.261Z"
   },
   {
    "duration": 216,
    "start_time": "2022-01-08T15:11:45.287Z"
   },
   {
    "duration": 238,
    "start_time": "2022-01-08T15:11:45.505Z"
   },
   {
    "duration": 7,
    "start_time": "2022-01-08T15:11:45.745Z"
   },
   {
    "duration": 21,
    "start_time": "2022-01-08T15:11:45.754Z"
   },
   {
    "duration": 218,
    "start_time": "2022-01-08T15:11:45.777Z"
   },
   {
    "duration": 22,
    "start_time": "2022-01-08T15:11:45.997Z"
   },
   {
    "duration": 20,
    "start_time": "2022-01-08T15:11:46.021Z"
   },
   {
    "duration": 213,
    "start_time": "2022-01-08T15:11:46.043Z"
   },
   {
    "duration": 2,
    "start_time": "2022-01-08T15:11:46.258Z"
   },
   {
    "duration": 9,
    "start_time": "2022-01-08T15:11:46.262Z"
   },
   {
    "duration": 451,
    "start_time": "2022-01-08T15:11:46.273Z"
   },
   {
    "duration": 7,
    "start_time": "2022-01-08T15:14:04.832Z"
   },
   {
    "duration": 12,
    "start_time": "2022-01-08T15:15:37.380Z"
   },
   {
    "duration": 11,
    "start_time": "2022-01-08T15:16:22.324Z"
   },
   {
    "duration": 11,
    "start_time": "2022-01-08T15:16:34.084Z"
   },
   {
    "duration": 8,
    "start_time": "2022-01-08T15:16:43.735Z"
   },
   {
    "duration": 441,
    "start_time": "2022-01-08T15:18:51.900Z"
   },
   {
    "duration": 354,
    "start_time": "2022-01-08T15:18:58.761Z"
   },
   {
    "duration": 202,
    "start_time": "2022-01-08T15:20:51.358Z"
   },
   {
    "duration": 392,
    "start_time": "2022-01-08T15:21:08.863Z"
   },
   {
    "duration": 213,
    "start_time": "2022-01-08T15:21:18.842Z"
   },
   {
    "duration": 378,
    "start_time": "2022-01-08T15:22:00.002Z"
   },
   {
    "duration": 280,
    "start_time": "2022-01-08T15:22:03.799Z"
   },
   {
    "duration": 235,
    "start_time": "2022-01-08T15:22:59.236Z"
   },
   {
    "duration": 362,
    "start_time": "2022-01-08T15:24:08.030Z"
   },
   {
    "duration": 208,
    "start_time": "2022-01-08T15:25:03.631Z"
   },
   {
    "duration": 238,
    "start_time": "2022-01-08T15:26:59.906Z"
   },
   {
    "duration": 210,
    "start_time": "2022-01-08T15:32:13.454Z"
   },
   {
    "duration": 249,
    "start_time": "2022-01-08T15:34:01.894Z"
   },
   {
    "duration": 5,
    "start_time": "2022-01-08T15:34:23.012Z"
   },
   {
    "duration": 66,
    "start_time": "2022-01-08T15:44:00.303Z"
   },
   {
    "duration": 3,
    "start_time": "2022-01-08T15:44:07.129Z"
   },
   {
    "duration": 795,
    "start_time": "2022-01-08T15:45:03.840Z"
   },
   {
    "duration": 1095,
    "start_time": "2022-01-08T15:46:37.742Z"
   },
   {
    "duration": 3,
    "start_time": "2022-01-08T15:46:53.337Z"
   },
   {
    "duration": 1054,
    "start_time": "2022-01-08T15:46:57.948Z"
   },
   {
    "duration": 3,
    "start_time": "2022-01-08T15:47:09.908Z"
   },
   {
    "duration": 1122,
    "start_time": "2022-01-08T15:47:11.333Z"
   },
   {
    "duration": 3,
    "start_time": "2022-01-08T15:47:40.647Z"
   },
   {
    "duration": 1182,
    "start_time": "2022-01-08T15:47:42.006Z"
   },
   {
    "duration": 4,
    "start_time": "2022-01-08T15:47:57.160Z"
   },
   {
    "duration": 1099,
    "start_time": "2022-01-08T15:47:58.132Z"
   },
   {
    "duration": 6,
    "start_time": "2022-01-08T15:50:33.498Z"
   },
   {
    "duration": 1193,
    "start_time": "2022-01-08T15:50:34.595Z"
   },
   {
    "duration": 3,
    "start_time": "2022-01-08T15:50:43.048Z"
   },
   {
    "duration": 1107,
    "start_time": "2022-01-08T15:50:45.948Z"
   },
   {
    "duration": 3,
    "start_time": "2022-01-08T15:51:10.481Z"
   },
   {
    "duration": 1639,
    "start_time": "2022-01-08T15:51:11.396Z"
   },
   {
    "duration": 3,
    "start_time": "2022-01-08T15:51:40.162Z"
   },
   {
    "duration": 1174,
    "start_time": "2022-01-08T15:51:42.430Z"
   },
   {
    "duration": 4,
    "start_time": "2022-01-08T15:51:50.747Z"
   },
   {
    "duration": 1362,
    "start_time": "2022-01-08T15:51:52.674Z"
   },
   {
    "duration": 4,
    "start_time": "2022-01-08T15:52:33.884Z"
   },
   {
    "duration": 1157,
    "start_time": "2022-01-08T15:52:34.357Z"
   },
   {
    "duration": 3,
    "start_time": "2022-01-08T15:53:43.964Z"
   },
   {
    "duration": 1450,
    "start_time": "2022-01-08T15:53:44.375Z"
   },
   {
    "duration": 3,
    "start_time": "2022-01-08T15:59:48.014Z"
   },
   {
    "duration": 8,
    "start_time": "2022-01-08T15:59:49.019Z"
   },
   {
    "duration": 69,
    "start_time": "2022-01-08T16:00:17.508Z"
   },
   {
    "duration": 3,
    "start_time": "2022-01-08T16:00:24.045Z"
   },
   {
    "duration": 12,
    "start_time": "2022-01-08T16:00:25.382Z"
   },
   {
    "duration": 3,
    "start_time": "2022-01-08T16:00:33.521Z"
   },
   {
    "duration": 9,
    "start_time": "2022-01-08T16:00:34.206Z"
   },
   {
    "duration": 3,
    "start_time": "2022-01-08T16:01:12.615Z"
   },
   {
    "duration": 11,
    "start_time": "2022-01-08T16:01:13.159Z"
   },
   {
    "duration": 4,
    "start_time": "2022-01-08T16:01:37.275Z"
   },
   {
    "duration": 15,
    "start_time": "2022-01-08T16:01:38.939Z"
   },
   {
    "duration": 3,
    "start_time": "2022-01-08T16:01:44.243Z"
   },
   {
    "duration": 11,
    "start_time": "2022-01-08T16:01:44.966Z"
   },
   {
    "duration": 4,
    "start_time": "2022-01-08T16:01:58.317Z"
   },
   {
    "duration": 9,
    "start_time": "2022-01-08T16:01:58.668Z"
   },
   {
    "duration": 5,
    "start_time": "2022-01-08T16:03:55.204Z"
   },
   {
    "duration": 9,
    "start_time": "2022-01-08T16:04:10.015Z"
   },
   {
    "duration": 4,
    "start_time": "2022-01-08T16:04:18.315Z"
   },
   {
    "duration": 11,
    "start_time": "2022-01-08T16:04:19.163Z"
   },
   {
    "duration": 3,
    "start_time": "2022-01-08T16:05:03.600Z"
   },
   {
    "duration": 1189,
    "start_time": "2022-01-08T16:05:03.995Z"
   },
   {
    "duration": 4,
    "start_time": "2022-01-08T16:05:13.858Z"
   },
   {
    "duration": 1218,
    "start_time": "2022-01-08T16:05:16.965Z"
   },
   {
    "duration": 3,
    "start_time": "2022-01-08T16:05:40.782Z"
   },
   {
    "duration": 1228,
    "start_time": "2022-01-08T16:05:41.225Z"
   },
   {
    "duration": 217,
    "start_time": "2022-01-08T16:06:03.558Z"
   },
   {
    "duration": 5,
    "start_time": "2022-01-08T16:07:35.603Z"
   },
   {
    "duration": 3,
    "start_time": "2022-01-08T16:07:37.941Z"
   },
   {
    "duration": 1185,
    "start_time": "2022-01-08T16:07:38.489Z"
   },
   {
    "duration": 89,
    "start_time": "2022-01-08T16:12:23.996Z"
   },
   {
    "duration": 116,
    "start_time": "2022-01-08T16:12:49.895Z"
   },
   {
    "duration": 102,
    "start_time": "2022-01-08T16:12:57.689Z"
   },
   {
    "duration": 1046,
    "start_time": "2022-01-08T16:13:12.866Z"
   },
   {
    "duration": 9,
    "start_time": "2022-01-08T16:13:20.868Z"
   },
   {
    "duration": 6,
    "start_time": "2022-01-08T16:13:31.861Z"
   },
   {
    "duration": 1098,
    "start_time": "2022-01-08T16:14:40.912Z"
   },
   {
    "duration": 7,
    "start_time": "2022-01-08T16:14:52.029Z"
   },
   {
    "duration": 10,
    "start_time": "2022-01-08T16:15:32.033Z"
   },
   {
    "duration": 1394,
    "start_time": "2022-01-08T16:15:41.761Z"
   },
   {
    "duration": 820,
    "start_time": "2022-01-08T16:16:01.938Z"
   },
   {
    "duration": 15,
    "start_time": "2022-01-08T16:16:13.053Z"
   },
   {
    "duration": 6,
    "start_time": "2022-01-08T16:16:14.756Z"
   },
   {
    "duration": 7,
    "start_time": "2022-01-08T16:16:45.913Z"
   },
   {
    "duration": 1039,
    "start_time": "2022-01-08T16:16:55.501Z"
   },
   {
    "duration": 1611,
    "start_time": "2022-01-08T16:17:00.533Z"
   },
   {
    "duration": 7,
    "start_time": "2022-01-08T16:17:02.262Z"
   },
   {
    "duration": 1090,
    "start_time": "2022-01-08T16:17:18.386Z"
   },
   {
    "duration": 1116,
    "start_time": "2022-01-08T16:17:27.562Z"
   },
   {
    "duration": 3,
    "start_time": "2022-01-08T16:17:28.681Z"
   },
   {
    "duration": 73,
    "start_time": "2022-01-08T16:17:28.686Z"
   },
   {
    "duration": 13,
    "start_time": "2022-01-08T16:17:28.761Z"
   },
   {
    "duration": 28,
    "start_time": "2022-01-08T16:17:28.776Z"
   },
   {
    "duration": 70,
    "start_time": "2022-01-08T16:17:28.806Z"
   },
   {
    "duration": 45,
    "start_time": "2022-01-08T16:17:28.878Z"
   },
   {
    "duration": 5,
    "start_time": "2022-01-08T16:17:28.926Z"
   },
   {
    "duration": 13,
    "start_time": "2022-01-08T16:17:28.933Z"
   },
   {
    "duration": 80,
    "start_time": "2022-01-08T16:17:28.948Z"
   },
   {
    "duration": 17,
    "start_time": "2022-01-08T16:17:29.030Z"
   },
   {
    "duration": 8,
    "start_time": "2022-01-08T16:17:29.049Z"
   },
   {
    "duration": 11,
    "start_time": "2022-01-08T16:17:29.058Z"
   },
   {
    "duration": 27,
    "start_time": "2022-01-08T16:17:29.071Z"
   },
   {
    "duration": 13,
    "start_time": "2022-01-08T16:17:29.099Z"
   },
   {
    "duration": 20,
    "start_time": "2022-01-08T16:17:29.113Z"
   },
   {
    "duration": 8,
    "start_time": "2022-01-08T16:17:29.134Z"
   },
   {
    "duration": 4,
    "start_time": "2022-01-08T16:17:29.144Z"
   },
   {
    "duration": 16,
    "start_time": "2022-01-08T16:17:29.150Z"
   },
   {
    "duration": 4,
    "start_time": "2022-01-08T16:17:29.168Z"
   },
   {
    "duration": 842,
    "start_time": "2022-01-08T16:17:29.173Z"
   },
   {
    "duration": 5,
    "start_time": "2022-01-08T16:17:30.017Z"
   },
   {
    "duration": 1581,
    "start_time": "2022-01-08T16:17:30.025Z"
   },
   {
    "duration": -18334,
    "start_time": "2022-01-08T16:17:49.943Z"
   },
   {
    "duration": -18333,
    "start_time": "2022-01-08T16:17:49.944Z"
   },
   {
    "duration": -18334,
    "start_time": "2022-01-08T16:17:49.946Z"
   },
   {
    "duration": -18333,
    "start_time": "2022-01-08T16:17:49.947Z"
   },
   {
    "duration": -18333,
    "start_time": "2022-01-08T16:17:49.948Z"
   },
   {
    "duration": -18332,
    "start_time": "2022-01-08T16:17:49.949Z"
   },
   {
    "duration": -18333,
    "start_time": "2022-01-08T16:17:49.951Z"
   },
   {
    "duration": -18337,
    "start_time": "2022-01-08T16:17:49.956Z"
   },
   {
    "duration": -18338,
    "start_time": "2022-01-08T16:17:49.958Z"
   },
   {
    "duration": -18339,
    "start_time": "2022-01-08T16:17:49.960Z"
   },
   {
    "duration": -18340,
    "start_time": "2022-01-08T16:17:49.962Z"
   },
   {
    "duration": -18340,
    "start_time": "2022-01-08T16:17:49.963Z"
   },
   {
    "duration": -18343,
    "start_time": "2022-01-08T16:17:49.968Z"
   },
   {
    "duration": -18348,
    "start_time": "2022-01-08T16:17:49.974Z"
   },
   {
    "duration": -18349,
    "start_time": "2022-01-08T16:17:49.976Z"
   },
   {
    "duration": -18350,
    "start_time": "2022-01-08T16:17:49.978Z"
   },
   {
    "duration": -18349,
    "start_time": "2022-01-08T16:17:49.979Z"
   },
   {
    "duration": -18349,
    "start_time": "2022-01-08T16:17:49.980Z"
   },
   {
    "duration": -18349,
    "start_time": "2022-01-08T16:17:49.981Z"
   },
   {
    "duration": -18350,
    "start_time": "2022-01-08T16:17:49.983Z"
   },
   {
    "duration": 1220,
    "start_time": "2022-01-08T16:18:15.911Z"
   },
   {
    "duration": 1129,
    "start_time": "2022-01-08T16:18:26.633Z"
   },
   {
    "duration": 1211,
    "start_time": "2022-01-08T16:20:49.700Z"
   },
   {
    "duration": 3,
    "start_time": "2022-01-08T16:20:50.913Z"
   },
   {
    "duration": 91,
    "start_time": "2022-01-08T16:20:50.919Z"
   },
   {
    "duration": 13,
    "start_time": "2022-01-08T16:20:51.012Z"
   },
   {
    "duration": 35,
    "start_time": "2022-01-08T16:20:51.027Z"
   },
   {
    "duration": 58,
    "start_time": "2022-01-08T16:20:51.063Z"
   },
   {
    "duration": 48,
    "start_time": "2022-01-08T16:20:51.123Z"
   },
   {
    "duration": 6,
    "start_time": "2022-01-08T16:20:51.173Z"
   },
   {
    "duration": 13,
    "start_time": "2022-01-08T16:20:51.181Z"
   },
   {
    "duration": 60,
    "start_time": "2022-01-08T16:20:51.196Z"
   },
   {
    "duration": 8,
    "start_time": "2022-01-08T16:20:51.258Z"
   },
   {
    "duration": 13,
    "start_time": "2022-01-08T16:20:51.268Z"
   },
   {
    "duration": 14,
    "start_time": "2022-01-08T16:20:51.282Z"
   },
   {
    "duration": 15,
    "start_time": "2022-01-08T16:20:51.298Z"
   },
   {
    "duration": 15,
    "start_time": "2022-01-08T16:20:51.315Z"
   },
   {
    "duration": 26,
    "start_time": "2022-01-08T16:20:51.332Z"
   },
   {
    "duration": 4,
    "start_time": "2022-01-08T16:20:51.359Z"
   },
   {
    "duration": 9,
    "start_time": "2022-01-08T16:20:51.365Z"
   },
   {
    "duration": 31,
    "start_time": "2022-01-08T16:20:51.376Z"
   },
   {
    "duration": 5,
    "start_time": "2022-01-08T16:20:51.409Z"
   },
   {
    "duration": 888,
    "start_time": "2022-01-08T16:20:51.416Z"
   },
   {
    "duration": 4,
    "start_time": "2022-01-08T16:20:52.306Z"
   },
   {
    "duration": 2321,
    "start_time": "2022-01-08T16:20:52.312Z"
   },
   {
    "duration": -18325,
    "start_time": "2022-01-08T16:21:12.960Z"
   },
   {
    "duration": -18325,
    "start_time": "2022-01-08T16:21:12.962Z"
   },
   {
    "duration": -18338,
    "start_time": "2022-01-08T16:21:12.976Z"
   },
   {
    "duration": -18338,
    "start_time": "2022-01-08T16:21:12.977Z"
   },
   {
    "duration": -18337,
    "start_time": "2022-01-08T16:21:12.978Z"
   },
   {
    "duration": -18338,
    "start_time": "2022-01-08T16:21:12.980Z"
   },
   {
    "duration": -18338,
    "start_time": "2022-01-08T16:21:12.981Z"
   },
   {
    "duration": -18337,
    "start_time": "2022-01-08T16:21:12.982Z"
   },
   {
    "duration": -18341,
    "start_time": "2022-01-08T16:21:12.987Z"
   },
   {
    "duration": -18342,
    "start_time": "2022-01-08T16:21:12.989Z"
   },
   {
    "duration": -18342,
    "start_time": "2022-01-08T16:21:12.991Z"
   },
   {
    "duration": -18343,
    "start_time": "2022-01-08T16:21:12.993Z"
   },
   {
    "duration": -18342,
    "start_time": "2022-01-08T16:21:12.994Z"
   },
   {
    "duration": -18342,
    "start_time": "2022-01-08T16:21:12.995Z"
   },
   {
    "duration": -18343,
    "start_time": "2022-01-08T16:21:12.997Z"
   },
   {
    "duration": -18344,
    "start_time": "2022-01-08T16:21:12.999Z"
   },
   {
    "duration": -18348,
    "start_time": "2022-01-08T16:21:13.004Z"
   },
   {
    "duration": -18348,
    "start_time": "2022-01-08T16:21:13.005Z"
   },
   {
    "duration": -18350,
    "start_time": "2022-01-08T16:21:13.008Z"
   },
   {
    "duration": -18350,
    "start_time": "2022-01-08T16:21:13.009Z"
   },
   {
    "duration": 14,
    "start_time": "2022-01-08T16:22:18.385Z"
   },
   {
    "duration": 7,
    "start_time": "2022-01-08T16:22:20.616Z"
   },
   {
    "duration": 1147,
    "start_time": "2022-01-08T16:23:39.794Z"
   },
   {
    "duration": 4,
    "start_time": "2022-01-08T16:23:40.943Z"
   },
   {
    "duration": 90,
    "start_time": "2022-01-08T16:23:40.952Z"
   },
   {
    "duration": 16,
    "start_time": "2022-01-08T16:23:41.044Z"
   },
   {
    "duration": 28,
    "start_time": "2022-01-08T16:23:41.062Z"
   },
   {
    "duration": 70,
    "start_time": "2022-01-08T16:23:41.092Z"
   },
   {
    "duration": 42,
    "start_time": "2022-01-08T16:23:41.167Z"
   },
   {
    "duration": 7,
    "start_time": "2022-01-08T16:23:41.211Z"
   },
   {
    "duration": 17,
    "start_time": "2022-01-08T16:23:41.221Z"
   },
   {
    "duration": 68,
    "start_time": "2022-01-08T16:23:41.240Z"
   },
   {
    "duration": 8,
    "start_time": "2022-01-08T16:23:41.310Z"
   },
   {
    "duration": 9,
    "start_time": "2022-01-08T16:23:41.320Z"
   },
   {
    "duration": 11,
    "start_time": "2022-01-08T16:23:41.331Z"
   },
   {
    "duration": 12,
    "start_time": "2022-01-08T16:23:41.344Z"
   },
   {
    "duration": 13,
    "start_time": "2022-01-08T16:23:41.358Z"
   },
   {
    "duration": 23,
    "start_time": "2022-01-08T16:23:41.372Z"
   },
   {
    "duration": 5,
    "start_time": "2022-01-08T16:23:41.397Z"
   },
   {
    "duration": 37,
    "start_time": "2022-01-08T16:23:41.404Z"
   },
   {
    "duration": 18,
    "start_time": "2022-01-08T16:23:41.443Z"
   },
   {
    "duration": 10,
    "start_time": "2022-01-08T16:23:41.463Z"
   },
   {
    "duration": 859,
    "start_time": "2022-01-08T16:23:41.475Z"
   },
   {
    "duration": 6,
    "start_time": "2022-01-08T16:23:42.337Z"
   },
   {
    "duration": 34,
    "start_time": "2022-01-08T16:23:42.345Z"
   },
   {
    "duration": 18,
    "start_time": "2022-01-08T16:23:42.381Z"
   },
   {
    "duration": 18,
    "start_time": "2022-01-08T16:23:42.400Z"
   },
   {
    "duration": 27,
    "start_time": "2022-01-08T16:23:42.420Z"
   },
   {
    "duration": 22,
    "start_time": "2022-01-08T16:23:42.449Z"
   },
   {
    "duration": 23,
    "start_time": "2022-01-08T16:23:42.472Z"
   },
   {
    "duration": 38,
    "start_time": "2022-01-08T16:23:42.496Z"
   },
   {
    "duration": 207,
    "start_time": "2022-01-08T16:23:42.536Z"
   },
   {
    "duration": 231,
    "start_time": "2022-01-08T16:23:42.745Z"
   },
   {
    "duration": 7,
    "start_time": "2022-01-08T16:23:42.978Z"
   },
   {
    "duration": 19,
    "start_time": "2022-01-08T16:23:42.987Z"
   },
   {
    "duration": 182,
    "start_time": "2022-01-08T16:23:43.008Z"
   },
   {
    "duration": 31,
    "start_time": "2022-01-08T16:23:43.192Z"
   },
   {
    "duration": 17,
    "start_time": "2022-01-08T16:23:43.224Z"
   },
   {
    "duration": 299,
    "start_time": "2022-01-08T16:23:43.242Z"
   },
   {
    "duration": 3,
    "start_time": "2022-01-08T16:23:43.542Z"
   },
   {
    "duration": 17,
    "start_time": "2022-01-08T16:23:43.546Z"
   },
   {
    "duration": 440,
    "start_time": "2022-01-08T16:23:43.565Z"
   },
   {
    "duration": 6,
    "start_time": "2022-01-08T16:23:44.007Z"
   },
   {
    "duration": 247,
    "start_time": "2022-01-08T16:23:44.015Z"
   },
   {
    "duration": 5,
    "start_time": "2022-01-08T16:23:44.264Z"
   },
   {
    "duration": 176,
    "start_time": "2022-01-08T16:25:19.866Z"
   },
   {
    "duration": 146,
    "start_time": "2022-01-08T16:25:28.572Z"
   },
   {
    "duration": 194,
    "start_time": "2022-01-08T16:25:34.265Z"
   },
   {
    "duration": 241,
    "start_time": "2022-01-08T16:25:40.234Z"
   },
   {
    "duration": 5,
    "start_time": "2022-01-08T16:28:16.044Z"
   },
   {
    "duration": 5,
    "start_time": "2022-01-08T16:30:16.688Z"
   },
   {
    "duration": 75,
    "start_time": "2022-01-08T16:31:38.051Z"
   },
   {
    "duration": 239,
    "start_time": "2022-01-08T16:32:05.114Z"
   },
   {
    "duration": 218,
    "start_time": "2022-01-08T16:32:28.884Z"
   },
   {
    "duration": 251,
    "start_time": "2022-01-08T16:32:55.904Z"
   },
   {
    "duration": 246,
    "start_time": "2022-01-08T16:33:16.877Z"
   },
   {
    "duration": 383,
    "start_time": "2022-01-08T16:33:25.089Z"
   },
   {
    "duration": 258,
    "start_time": "2022-01-08T16:33:36.983Z"
   },
   {
    "duration": 167,
    "start_time": "2022-01-08T16:37:43.373Z"
   },
   {
    "duration": 216,
    "start_time": "2022-01-08T16:38:17.038Z"
   },
   {
    "duration": 211,
    "start_time": "2022-01-08T16:38:45.755Z"
   },
   {
    "duration": 246,
    "start_time": "2022-01-08T16:40:01.190Z"
   },
   {
    "duration": 295,
    "start_time": "2022-01-08T16:42:09.152Z"
   },
   {
    "duration": 183,
    "start_time": "2022-01-08T16:42:18.634Z"
   },
   {
    "duration": 5,
    "start_time": "2022-01-08T16:42:31.581Z"
   },
   {
    "duration": 14,
    "start_time": "2022-01-08T16:42:46.267Z"
   },
   {
    "duration": 8,
    "start_time": "2022-01-08T17:03:05.736Z"
   },
   {
    "duration": 9,
    "start_time": "2022-01-08T17:03:14.360Z"
   },
   {
    "duration": 270,
    "start_time": "2022-01-08T17:05:10.094Z"
   },
   {
    "duration": 225,
    "start_time": "2022-01-08T17:08:45.938Z"
   },
   {
    "duration": 294,
    "start_time": "2022-01-08T17:09:34.218Z"
   },
   {
    "duration": 222,
    "start_time": "2022-01-08T17:10:39.862Z"
   },
   {
    "duration": 1486,
    "start_time": "2022-01-09T08:55:33.723Z"
   },
   {
    "duration": 11,
    "start_time": "2022-01-09T08:55:35.213Z"
   },
   {
    "duration": 98,
    "start_time": "2022-01-09T08:55:35.227Z"
   },
   {
    "duration": 20,
    "start_time": "2022-01-09T08:55:35.328Z"
   },
   {
    "duration": 30,
    "start_time": "2022-01-09T08:55:35.351Z"
   },
   {
    "duration": 111,
    "start_time": "2022-01-09T08:55:35.384Z"
   },
   {
    "duration": 42,
    "start_time": "2022-01-09T08:55:35.497Z"
   },
   {
    "duration": 8,
    "start_time": "2022-01-09T08:55:35.543Z"
   },
   {
    "duration": 25,
    "start_time": "2022-01-09T08:55:35.554Z"
   },
   {
    "duration": 103,
    "start_time": "2022-01-09T08:55:35.582Z"
   },
   {
    "duration": 11,
    "start_time": "2022-01-09T08:55:35.687Z"
   },
   {
    "duration": 27,
    "start_time": "2022-01-09T08:55:35.700Z"
   },
   {
    "duration": 8,
    "start_time": "2022-01-09T08:55:35.730Z"
   },
   {
    "duration": 18,
    "start_time": "2022-01-09T08:55:35.741Z"
   },
   {
    "duration": 14,
    "start_time": "2022-01-09T08:55:35.762Z"
   },
   {
    "duration": 57,
    "start_time": "2022-01-09T08:55:35.778Z"
   },
   {
    "duration": 6,
    "start_time": "2022-01-09T08:55:35.837Z"
   },
   {
    "duration": 9,
    "start_time": "2022-01-09T08:55:35.845Z"
   },
   {
    "duration": 29,
    "start_time": "2022-01-09T08:55:35.856Z"
   },
   {
    "duration": 5,
    "start_time": "2022-01-09T08:55:35.888Z"
   },
   {
    "duration": 1380,
    "start_time": "2022-01-09T08:55:35.923Z"
   },
   {
    "duration": 6,
    "start_time": "2022-01-09T08:55:37.305Z"
   },
   {
    "duration": 23,
    "start_time": "2022-01-09T08:55:37.327Z"
   },
   {
    "duration": 9,
    "start_time": "2022-01-09T08:55:37.353Z"
   },
   {
    "duration": 6,
    "start_time": "2022-01-09T08:55:37.364Z"
   },
   {
    "duration": 14,
    "start_time": "2022-01-09T08:55:37.372Z"
   },
   {
    "duration": 43,
    "start_time": "2022-01-09T08:55:37.388Z"
   },
   {
    "duration": 18,
    "start_time": "2022-01-09T08:55:37.434Z"
   },
   {
    "duration": 27,
    "start_time": "2022-01-09T08:55:37.455Z"
   },
   {
    "duration": 326,
    "start_time": "2022-01-09T08:55:37.485Z"
   },
   {
    "duration": 314,
    "start_time": "2022-01-09T08:55:37.814Z"
   },
   {
    "duration": 9,
    "start_time": "2022-01-09T08:55:38.130Z"
   },
   {
    "duration": 23,
    "start_time": "2022-01-09T08:55:38.141Z"
   },
   {
    "duration": 325,
    "start_time": "2022-01-09T08:55:38.167Z"
   },
   {
    "duration": 47,
    "start_time": "2022-01-09T08:55:38.494Z"
   },
   {
    "duration": 6,
    "start_time": "2022-01-09T08:55:38.544Z"
   },
   {
    "duration": 397,
    "start_time": "2022-01-09T08:55:38.553Z"
   },
   {
    "duration": 5,
    "start_time": "2022-01-09T08:55:38.953Z"
   },
   {
    "duration": 6,
    "start_time": "2022-01-09T08:55:38.961Z"
   },
   {
    "duration": 615,
    "start_time": "2022-01-09T08:55:38.969Z"
   },
   {
    "duration": 11,
    "start_time": "2022-01-09T08:55:39.587Z"
   },
   {
    "duration": 439,
    "start_time": "2022-01-09T08:55:39.600Z"
   },
   {
    "duration": 412,
    "start_time": "2022-01-09T08:55:40.042Z"
   },
   {
    "duration": 6,
    "start_time": "2022-01-09T08:55:40.456Z"
   },
   {
    "duration": 40,
    "start_time": "2022-01-09T08:55:40.464Z"
   },
   {
    "duration": 386,
    "start_time": "2022-01-09T08:55:40.506Z"
   },
   {
    "duration": 374,
    "start_time": "2022-01-09T08:55:40.894Z"
   },
   {
    "duration": 426,
    "start_time": "2022-01-09T08:55:41.271Z"
   },
   {
    "duration": 395,
    "start_time": "2022-01-09T08:55:41.699Z"
   },
   {
    "duration": 415,
    "start_time": "2022-01-09T08:55:42.096Z"
   },
   {
    "duration": 441,
    "start_time": "2022-01-09T09:48:24.554Z"
   },
   {
    "duration": 1455,
    "start_time": "2022-01-09T09:48:36.248Z"
   },
   {
    "duration": 4,
    "start_time": "2022-01-09T09:48:37.706Z"
   },
   {
    "duration": 115,
    "start_time": "2022-01-09T09:48:37.713Z"
   },
   {
    "duration": 19,
    "start_time": "2022-01-09T09:48:37.831Z"
   },
   {
    "duration": 50,
    "start_time": "2022-01-09T09:48:37.853Z"
   },
   {
    "duration": 92,
    "start_time": "2022-01-09T09:48:37.906Z"
   },
   {
    "duration": 65,
    "start_time": "2022-01-09T09:48:38.000Z"
   },
   {
    "duration": 40,
    "start_time": "2022-01-09T09:48:38.068Z"
   },
   {
    "duration": 22,
    "start_time": "2022-01-09T09:48:38.114Z"
   },
   {
    "duration": 46,
    "start_time": "2022-01-09T09:48:38.140Z"
   },
   {
    "duration": 95,
    "start_time": "2022-01-09T09:48:38.189Z"
   },
   {
    "duration": 13,
    "start_time": "2022-01-09T09:48:38.287Z"
   },
   {
    "duration": 20,
    "start_time": "2022-01-09T09:48:38.303Z"
   },
   {
    "duration": 16,
    "start_time": "2022-01-09T09:48:38.326Z"
   },
   {
    "duration": 21,
    "start_time": "2022-01-09T09:48:38.344Z"
   },
   {
    "duration": 25,
    "start_time": "2022-01-09T09:48:38.368Z"
   },
   {
    "duration": 39,
    "start_time": "2022-01-09T09:48:38.395Z"
   },
   {
    "duration": 6,
    "start_time": "2022-01-09T09:48:38.436Z"
   },
   {
    "duration": 21,
    "start_time": "2022-01-09T09:48:38.444Z"
   },
   {
    "duration": 35,
    "start_time": "2022-01-09T09:48:38.468Z"
   },
   {
    "duration": 18,
    "start_time": "2022-01-09T09:48:38.505Z"
   },
   {
    "duration": 1332,
    "start_time": "2022-01-09T09:48:38.526Z"
   },
   {
    "duration": 6,
    "start_time": "2022-01-09T09:48:39.861Z"
   },
   {
    "duration": 24,
    "start_time": "2022-01-09T09:48:39.869Z"
   },
   {
    "duration": 29,
    "start_time": "2022-01-09T09:48:39.895Z"
   },
   {
    "duration": 5,
    "start_time": "2022-01-09T09:48:39.927Z"
   },
   {
    "duration": 12,
    "start_time": "2022-01-09T09:48:39.938Z"
   },
   {
    "duration": 13,
    "start_time": "2022-01-09T09:48:39.953Z"
   },
   {
    "duration": 14,
    "start_time": "2022-01-09T09:48:39.969Z"
   },
   {
    "duration": 25,
    "start_time": "2022-01-09T09:48:40.024Z"
   },
   {
    "duration": 304,
    "start_time": "2022-01-09T09:48:40.052Z"
   },
   {
    "duration": 277,
    "start_time": "2022-01-09T09:48:40.358Z"
   },
   {
    "duration": 8,
    "start_time": "2022-01-09T09:48:40.638Z"
   },
   {
    "duration": 24,
    "start_time": "2022-01-09T09:48:40.648Z"
   },
   {
    "duration": 301,
    "start_time": "2022-01-09T09:48:40.675Z"
   },
   {
    "duration": 45,
    "start_time": "2022-01-09T09:48:40.978Z"
   },
   {
    "duration": 5,
    "start_time": "2022-01-09T09:48:41.025Z"
   },
   {
    "duration": 300,
    "start_time": "2022-01-09T09:48:41.032Z"
   },
   {
    "duration": 3,
    "start_time": "2022-01-09T09:48:41.334Z"
   },
   {
    "duration": 8,
    "start_time": "2022-01-09T09:48:41.339Z"
   },
   {
    "duration": 629,
    "start_time": "2022-01-09T09:48:41.349Z"
   },
   {
    "duration": 9,
    "start_time": "2022-01-09T09:48:41.980Z"
   },
   {
    "duration": 394,
    "start_time": "2022-01-09T09:48:41.991Z"
   },
   {
    "duration": 385,
    "start_time": "2022-01-09T09:48:42.387Z"
   },
   {
    "duration": 6,
    "start_time": "2022-01-09T09:48:42.774Z"
   },
   {
    "duration": 44,
    "start_time": "2022-01-09T09:48:42.782Z"
   },
   {
    "duration": 361,
    "start_time": "2022-01-09T09:48:42.828Z"
   },
   {
    "duration": 362,
    "start_time": "2022-01-09T09:48:43.192Z"
   },
   {
    "duration": 384,
    "start_time": "2022-01-09T09:48:43.557Z"
   },
   {
    "duration": 402,
    "start_time": "2022-01-09T09:48:43.944Z"
   },
   {
    "duration": 401,
    "start_time": "2022-01-09T09:48:44.348Z"
   },
   {
    "duration": 46,
    "start_time": "2022-01-09T09:56:59.953Z"
   },
   {
    "duration": 21,
    "start_time": "2022-01-09T10:25:07.617Z"
   },
   {
    "duration": 1414,
    "start_time": "2022-01-09T10:25:15.081Z"
   },
   {
    "duration": 3,
    "start_time": "2022-01-09T10:25:16.498Z"
   },
   {
    "duration": 95,
    "start_time": "2022-01-09T10:25:16.504Z"
   },
   {
    "duration": 32,
    "start_time": "2022-01-09T10:25:16.602Z"
   },
   {
    "duration": 28,
    "start_time": "2022-01-09T10:25:16.637Z"
   },
   {
    "duration": 100,
    "start_time": "2022-01-09T10:25:16.667Z"
   },
   {
    "duration": 44,
    "start_time": "2022-01-09T10:25:16.769Z"
   },
   {
    "duration": 8,
    "start_time": "2022-01-09T10:25:16.817Z"
   },
   {
    "duration": 9,
    "start_time": "2022-01-09T10:25:16.828Z"
   },
   {
    "duration": 19,
    "start_time": "2022-01-09T10:25:16.839Z"
   },
   {
    "duration": 107,
    "start_time": "2022-01-09T10:25:16.860Z"
   },
   {
    "duration": 10,
    "start_time": "2022-01-09T10:25:16.970Z"
   },
   {
    "duration": 60,
    "start_time": "2022-01-09T10:25:16.983Z"
   },
   {
    "duration": 5,
    "start_time": "2022-01-09T10:25:17.046Z"
   },
   {
    "duration": 23,
    "start_time": "2022-01-09T10:25:17.053Z"
   },
   {
    "duration": 18,
    "start_time": "2022-01-09T10:25:17.078Z"
   },
   {
    "duration": 55,
    "start_time": "2022-01-09T10:25:17.098Z"
   },
   {
    "duration": 7,
    "start_time": "2022-01-09T10:25:17.156Z"
   },
   {
    "duration": 9,
    "start_time": "2022-01-09T10:25:17.166Z"
   },
   {
    "duration": 63,
    "start_time": "2022-01-09T10:25:17.177Z"
   },
   {
    "duration": 6,
    "start_time": "2022-01-09T10:25:17.243Z"
   },
   {
    "duration": 1419,
    "start_time": "2022-01-09T10:25:17.252Z"
   },
   {
    "duration": 7,
    "start_time": "2022-01-09T10:25:18.678Z"
   },
   {
    "duration": 42,
    "start_time": "2022-01-09T10:25:18.688Z"
   },
   {
    "duration": 8,
    "start_time": "2022-01-09T10:25:18.733Z"
   },
   {
    "duration": 7,
    "start_time": "2022-01-09T10:25:18.743Z"
   },
   {
    "duration": 9,
    "start_time": "2022-01-09T10:25:18.752Z"
   },
   {
    "duration": 8,
    "start_time": "2022-01-09T10:25:18.763Z"
   },
   {
    "duration": 15,
    "start_time": "2022-01-09T10:25:18.773Z"
   },
   {
    "duration": 25,
    "start_time": "2022-01-09T10:25:18.823Z"
   },
   {
    "duration": 315,
    "start_time": "2022-01-09T10:25:18.851Z"
   },
   {
    "duration": 298,
    "start_time": "2022-01-09T10:25:19.168Z"
   },
   {
    "duration": 8,
    "start_time": "2022-01-09T10:25:19.468Z"
   },
   {
    "duration": 15,
    "start_time": "2022-01-09T10:25:19.479Z"
   },
   {
    "duration": 326,
    "start_time": "2022-01-09T10:25:19.497Z"
   },
   {
    "duration": 35,
    "start_time": "2022-01-09T10:25:19.825Z"
   },
   {
    "duration": 6,
    "start_time": "2022-01-09T10:25:19.863Z"
   },
   {
    "duration": 413,
    "start_time": "2022-01-09T10:25:19.872Z"
   },
   {
    "duration": 3,
    "start_time": "2022-01-09T10:25:20.288Z"
   },
   {
    "duration": 12,
    "start_time": "2022-01-09T10:25:20.293Z"
   },
   {
    "duration": 620,
    "start_time": "2022-01-09T10:25:20.307Z"
   },
   {
    "duration": 10,
    "start_time": "2022-01-09T10:25:20.929Z"
   },
   {
    "duration": 401,
    "start_time": "2022-01-09T10:25:20.941Z"
   },
   {
    "duration": 380,
    "start_time": "2022-01-09T10:25:21.344Z"
   },
   {
    "duration": 5,
    "start_time": "2022-01-09T10:25:21.726Z"
   },
   {
    "duration": 27,
    "start_time": "2022-01-09T10:25:21.733Z"
   },
   {
    "duration": 379,
    "start_time": "2022-01-09T10:25:21.762Z"
   },
   {
    "duration": 361,
    "start_time": "2022-01-09T10:25:22.144Z"
   },
   {
    "duration": 394,
    "start_time": "2022-01-09T10:25:22.508Z"
   },
   {
    "duration": 411,
    "start_time": "2022-01-09T10:25:22.905Z"
   },
   {
    "duration": 405,
    "start_time": "2022-01-09T10:25:23.318Z"
   },
   {
    "duration": 432,
    "start_time": "2022-01-09T10:35:19.211Z"
   },
   {
    "duration": 221,
    "start_time": "2022-01-09T10:35:25.816Z"
   },
   {
    "duration": 284,
    "start_time": "2022-01-09T10:35:42.211Z"
   },
   {
    "duration": 403,
    "start_time": "2022-01-09T10:35:55.530Z"
   },
   {
    "duration": 120,
    "start_time": "2022-01-09T11:04:55.153Z"
   },
   {
    "duration": 275,
    "start_time": "2022-01-09T11:08:26.698Z"
   },
   {
    "duration": 1556,
    "start_time": "2022-01-09T11:27:06.755Z"
   },
   {
    "duration": 9,
    "start_time": "2022-01-09T11:27:08.314Z"
   },
   {
    "duration": 108,
    "start_time": "2022-01-09T11:27:08.330Z"
   },
   {
    "duration": 34,
    "start_time": "2022-01-09T11:27:08.442Z"
   },
   {
    "duration": 69,
    "start_time": "2022-01-09T11:27:08.478Z"
   },
   {
    "duration": 100,
    "start_time": "2022-01-09T11:27:08.550Z"
   },
   {
    "duration": 37,
    "start_time": "2022-01-09T11:27:08.653Z"
   },
   {
    "duration": 8,
    "start_time": "2022-01-09T11:27:08.693Z"
   },
   {
    "duration": 9,
    "start_time": "2022-01-09T11:27:08.706Z"
   },
   {
    "duration": 19,
    "start_time": "2022-01-09T11:27:08.727Z"
   },
   {
    "duration": 117,
    "start_time": "2022-01-09T11:27:08.750Z"
   },
   {
    "duration": 12,
    "start_time": "2022-01-09T11:27:08.870Z"
   },
   {
    "duration": 89,
    "start_time": "2022-01-09T11:27:08.885Z"
   },
   {
    "duration": 7,
    "start_time": "2022-01-09T11:27:08.978Z"
   },
   {
    "duration": 41,
    "start_time": "2022-01-09T11:27:08.990Z"
   },
   {
    "duration": 23,
    "start_time": "2022-01-09T11:27:09.034Z"
   },
   {
    "duration": 34,
    "start_time": "2022-01-09T11:27:09.059Z"
   },
   {
    "duration": 8,
    "start_time": "2022-01-09T11:27:09.124Z"
   },
   {
    "duration": 27,
    "start_time": "2022-01-09T11:27:09.136Z"
   },
   {
    "duration": 31,
    "start_time": "2022-01-09T11:27:09.165Z"
   },
   {
    "duration": 31,
    "start_time": "2022-01-09T11:27:09.198Z"
   },
   {
    "duration": 2395,
    "start_time": "2022-01-09T11:27:09.240Z"
   },
   {
    "duration": 7,
    "start_time": "2022-01-09T11:27:11.641Z"
   },
   {
    "duration": 22,
    "start_time": "2022-01-09T11:27:11.651Z"
   },
   {
    "duration": 8,
    "start_time": "2022-01-09T11:27:11.675Z"
   },
   {
    "duration": 6,
    "start_time": "2022-01-09T11:27:11.685Z"
   },
   {
    "duration": 16,
    "start_time": "2022-01-09T11:27:11.697Z"
   },
   {
    "duration": 17,
    "start_time": "2022-01-09T11:27:11.716Z"
   },
   {
    "duration": 22,
    "start_time": "2022-01-09T11:27:11.735Z"
   },
   {
    "duration": 36,
    "start_time": "2022-01-09T11:27:11.759Z"
   },
   {
    "duration": 339,
    "start_time": "2022-01-09T11:27:11.798Z"
   },
   {
    "duration": 309,
    "start_time": "2022-01-09T11:27:12.139Z"
   },
   {
    "duration": 519,
    "start_time": "2022-01-09T11:27:12.451Z"
   },
   {
    "duration": 9,
    "start_time": "2022-01-09T11:27:12.972Z"
   },
   {
    "duration": 56,
    "start_time": "2022-01-09T11:27:12.983Z"
   },
   {
    "duration": 542,
    "start_time": "2022-01-09T11:27:13.044Z"
   },
   {
    "duration": 57,
    "start_time": "2022-01-09T11:27:13.589Z"
   },
   {
    "duration": 6,
    "start_time": "2022-01-09T11:27:13.649Z"
   },
   {
    "duration": 352,
    "start_time": "2022-01-09T11:27:13.657Z"
   },
   {
    "duration": 13,
    "start_time": "2022-01-09T11:27:14.011Z"
   },
   {
    "duration": 16,
    "start_time": "2022-01-09T11:27:14.027Z"
   },
   {
    "duration": 655,
    "start_time": "2022-01-09T11:27:14.046Z"
   },
   {
    "duration": 29,
    "start_time": "2022-01-09T11:27:14.704Z"
   },
   {
    "duration": 449,
    "start_time": "2022-01-09T11:27:14.736Z"
   },
   {
    "duration": 460,
    "start_time": "2022-01-09T11:27:15.188Z"
   },
   {
    "duration": 304,
    "start_time": "2022-01-09T11:27:15.651Z"
   },
   {
    "duration": 6,
    "start_time": "2022-01-09T11:27:15.957Z"
   },
   {
    "duration": 68,
    "start_time": "2022-01-09T11:27:15.966Z"
   },
   {
    "duration": 392,
    "start_time": "2022-01-09T11:27:16.039Z"
   },
   {
    "duration": 379,
    "start_time": "2022-01-09T11:27:16.434Z"
   },
   {
    "duration": 448,
    "start_time": "2022-01-09T11:27:16.815Z"
   },
   {
    "duration": 479,
    "start_time": "2022-01-09T11:27:17.266Z"
   },
   {
    "duration": 439,
    "start_time": "2022-01-09T11:27:17.747Z"
   },
   {
    "duration": 1482,
    "start_time": "2022-01-09T11:39:00.848Z"
   },
   {
    "duration": 4,
    "start_time": "2022-01-09T11:39:02.333Z"
   },
   {
    "duration": 114,
    "start_time": "2022-01-09T11:39:02.340Z"
   },
   {
    "duration": 21,
    "start_time": "2022-01-09T11:39:02.457Z"
   },
   {
    "duration": 66,
    "start_time": "2022-01-09T11:39:02.481Z"
   },
   {
    "duration": 95,
    "start_time": "2022-01-09T11:39:02.550Z"
   },
   {
    "duration": 36,
    "start_time": "2022-01-09T11:39:02.648Z"
   },
   {
    "duration": 8,
    "start_time": "2022-01-09T11:39:02.687Z"
   },
   {
    "duration": 13,
    "start_time": "2022-01-09T11:39:02.698Z"
   },
   {
    "duration": 18,
    "start_time": "2022-01-09T11:39:02.714Z"
   },
   {
    "duration": 113,
    "start_time": "2022-01-09T11:39:02.735Z"
   },
   {
    "duration": 11,
    "start_time": "2022-01-09T11:39:02.851Z"
   },
   {
    "duration": 80,
    "start_time": "2022-01-09T11:39:02.865Z"
   },
   {
    "duration": 6,
    "start_time": "2022-01-09T11:39:02.947Z"
   },
   {
    "duration": 18,
    "start_time": "2022-01-09T11:39:02.955Z"
   },
   {
    "duration": 17,
    "start_time": "2022-01-09T11:39:02.976Z"
   },
   {
    "duration": 77,
    "start_time": "2022-01-09T11:39:02.995Z"
   },
   {
    "duration": 6,
    "start_time": "2022-01-09T11:39:03.074Z"
   },
   {
    "duration": 14,
    "start_time": "2022-01-09T11:39:03.083Z"
   },
   {
    "duration": 46,
    "start_time": "2022-01-09T11:39:03.099Z"
   },
   {
    "duration": 9,
    "start_time": "2022-01-09T11:39:03.170Z"
   },
   {
    "duration": 1805,
    "start_time": "2022-01-09T11:39:03.183Z"
   },
   {
    "duration": 7,
    "start_time": "2022-01-09T11:39:04.994Z"
   },
   {
    "duration": 42,
    "start_time": "2022-01-09T11:39:05.004Z"
   },
   {
    "duration": 13,
    "start_time": "2022-01-09T11:39:05.050Z"
   },
   {
    "duration": 7,
    "start_time": "2022-01-09T11:39:05.067Z"
   },
   {
    "duration": 47,
    "start_time": "2022-01-09T11:39:05.077Z"
   },
   {
    "duration": 11,
    "start_time": "2022-01-09T11:39:05.127Z"
   },
   {
    "duration": 20,
    "start_time": "2022-01-09T11:39:05.141Z"
   },
   {
    "duration": 65,
    "start_time": "2022-01-09T11:39:05.164Z"
   },
   {
    "duration": 521,
    "start_time": "2022-01-09T11:39:05.233Z"
   },
   {
    "duration": 441,
    "start_time": "2022-01-09T11:39:05.758Z"
   },
   {
    "duration": 309,
    "start_time": "2022-01-09T11:39:06.203Z"
   },
   {
    "duration": 15,
    "start_time": "2022-01-09T11:39:06.515Z"
   },
   {
    "duration": 14,
    "start_time": "2022-01-09T11:39:06.533Z"
   },
   {
    "duration": 371,
    "start_time": "2022-01-09T11:39:06.549Z"
   },
   {
    "duration": 36,
    "start_time": "2022-01-09T11:39:06.924Z"
   },
   {
    "duration": 7,
    "start_time": "2022-01-09T11:39:06.963Z"
   },
   {
    "duration": 335,
    "start_time": "2022-01-09T11:39:06.972Z"
   },
   {
    "duration": 4,
    "start_time": "2022-01-09T11:39:07.309Z"
   },
   {
    "duration": 11,
    "start_time": "2022-01-09T11:39:07.315Z"
   },
   {
    "duration": 598,
    "start_time": "2022-01-09T11:39:07.329Z"
   },
   {
    "duration": 10,
    "start_time": "2022-01-09T11:39:07.929Z"
   },
   {
    "duration": 417,
    "start_time": "2022-01-09T11:39:07.941Z"
   },
   {
    "duration": 397,
    "start_time": "2022-01-09T11:39:08.360Z"
   },
   {
    "duration": 275,
    "start_time": "2022-01-09T11:39:08.759Z"
   },
   {
    "duration": 5,
    "start_time": "2022-01-09T11:39:09.037Z"
   },
   {
    "duration": 25,
    "start_time": "2022-01-09T11:39:09.045Z"
   },
   {
    "duration": 397,
    "start_time": "2022-01-09T11:39:09.072Z"
   },
   {
    "duration": 462,
    "start_time": "2022-01-09T11:39:09.472Z"
   },
   {
    "duration": 426,
    "start_time": "2022-01-09T11:39:09.937Z"
   },
   {
    "duration": 403,
    "start_time": "2022-01-09T11:39:10.365Z"
   },
   {
    "duration": 552,
    "start_time": "2022-01-09T11:39:10.771Z"
   },
   {
    "duration": 60,
    "start_time": "2022-01-09T11:40:51.908Z"
   },
   {
    "duration": 1424,
    "start_time": "2022-01-09T11:41:13.153Z"
   },
   {
    "duration": 5,
    "start_time": "2022-01-09T11:41:14.580Z"
   },
   {
    "duration": 135,
    "start_time": "2022-01-09T11:41:14.588Z"
   },
   {
    "duration": 22,
    "start_time": "2022-01-09T11:41:14.726Z"
   },
   {
    "duration": 34,
    "start_time": "2022-01-09T11:41:14.750Z"
   },
   {
    "duration": 107,
    "start_time": "2022-01-09T11:41:14.787Z"
   },
   {
    "duration": 36,
    "start_time": "2022-01-09T11:41:14.897Z"
   },
   {
    "duration": 8,
    "start_time": "2022-01-09T11:41:14.937Z"
   },
   {
    "duration": 14,
    "start_time": "2022-01-09T11:41:14.949Z"
   },
   {
    "duration": 14,
    "start_time": "2022-01-09T11:41:14.965Z"
   },
   {
    "duration": 130,
    "start_time": "2022-01-09T11:41:14.981Z"
   },
   {
    "duration": 13,
    "start_time": "2022-01-09T11:41:15.122Z"
   },
   {
    "duration": 48,
    "start_time": "2022-01-09T11:41:15.138Z"
   },
   {
    "duration": 35,
    "start_time": "2022-01-09T11:41:15.188Z"
   },
   {
    "duration": 20,
    "start_time": "2022-01-09T11:41:15.226Z"
   },
   {
    "duration": 15,
    "start_time": "2022-01-09T11:41:15.248Z"
   },
   {
    "duration": 33,
    "start_time": "2022-01-09T11:41:15.265Z"
   },
   {
    "duration": 27,
    "start_time": "2022-01-09T11:41:15.300Z"
   },
   {
    "duration": 10,
    "start_time": "2022-01-09T11:41:15.330Z"
   },
   {
    "duration": 44,
    "start_time": "2022-01-09T11:41:15.343Z"
   },
   {
    "duration": 40,
    "start_time": "2022-01-09T11:41:15.389Z"
   },
   {
    "duration": 1405,
    "start_time": "2022-01-09T11:41:15.432Z"
   },
   {
    "duration": 7,
    "start_time": "2022-01-09T11:41:16.844Z"
   },
   {
    "duration": 24,
    "start_time": "2022-01-09T11:41:16.855Z"
   },
   {
    "duration": 9,
    "start_time": "2022-01-09T11:41:16.881Z"
   },
   {
    "duration": 35,
    "start_time": "2022-01-09T11:41:16.892Z"
   },
   {
    "duration": 9,
    "start_time": "2022-01-09T11:41:16.930Z"
   },
   {
    "duration": 8,
    "start_time": "2022-01-09T11:41:16.941Z"
   },
   {
    "duration": 10,
    "start_time": "2022-01-09T11:41:16.951Z"
   },
   {
    "duration": 69,
    "start_time": "2022-01-09T11:41:16.964Z"
   },
   {
    "duration": 313,
    "start_time": "2022-01-09T11:41:17.036Z"
   },
   {
    "duration": 284,
    "start_time": "2022-01-09T11:41:17.352Z"
   },
   {
    "duration": 304,
    "start_time": "2022-01-09T11:41:17.639Z"
   },
   {
    "duration": 10,
    "start_time": "2022-01-09T11:41:17.946Z"
   },
   {
    "duration": 15,
    "start_time": "2022-01-09T11:41:17.959Z"
   },
   {
    "duration": 382,
    "start_time": "2022-01-09T11:41:17.976Z"
   },
   {
    "duration": 34,
    "start_time": "2022-01-09T11:41:18.360Z"
   },
   {
    "duration": 5,
    "start_time": "2022-01-09T11:41:18.397Z"
   },
   {
    "duration": 285,
    "start_time": "2022-01-09T11:41:18.423Z"
   },
   {
    "duration": 4,
    "start_time": "2022-01-09T11:41:18.710Z"
   },
   {
    "duration": 9,
    "start_time": "2022-01-09T11:41:18.723Z"
   },
   {
    "duration": 592,
    "start_time": "2022-01-09T11:41:18.734Z"
   },
   {
    "duration": 10,
    "start_time": "2022-01-09T11:41:19.329Z"
   },
   {
    "duration": 400,
    "start_time": "2022-01-09T11:41:19.341Z"
   },
   {
    "duration": 404,
    "start_time": "2022-01-09T11:41:19.744Z"
   },
   {
    "duration": 331,
    "start_time": "2022-01-09T11:41:20.151Z"
   },
   {
    "duration": 7,
    "start_time": "2022-01-09T11:41:20.485Z"
   },
   {
    "duration": 47,
    "start_time": "2022-01-09T11:41:20.495Z"
   },
   {
    "duration": 382,
    "start_time": "2022-01-09T11:41:20.545Z"
   },
   {
    "duration": 361,
    "start_time": "2022-01-09T11:41:20.930Z"
   },
   {
    "duration": 393,
    "start_time": "2022-01-09T11:41:21.293Z"
   },
   {
    "duration": 369,
    "start_time": "2022-01-09T11:41:21.689Z"
   },
   {
    "duration": 399,
    "start_time": "2022-01-09T11:41:22.061Z"
   },
   {
    "duration": 1091,
    "start_time": "2022-01-10T10:57:55.366Z"
   },
   {
    "duration": 3,
    "start_time": "2022-01-10T10:57:56.459Z"
   },
   {
    "duration": 77,
    "start_time": "2022-01-10T10:57:56.464Z"
   },
   {
    "duration": 13,
    "start_time": "2022-01-10T10:57:56.543Z"
   },
   {
    "duration": 21,
    "start_time": "2022-01-10T10:57:56.557Z"
   },
   {
    "duration": 64,
    "start_time": "2022-01-10T10:57:56.580Z"
   },
   {
    "duration": 42,
    "start_time": "2022-01-10T10:57:56.646Z"
   },
   {
    "duration": 5,
    "start_time": "2022-01-10T10:57:56.690Z"
   },
   {
    "duration": 7,
    "start_time": "2022-01-10T10:57:56.697Z"
   },
   {
    "duration": 10,
    "start_time": "2022-01-10T10:57:56.706Z"
   },
   {
    "duration": 52,
    "start_time": "2022-01-10T10:57:56.718Z"
   },
   {
    "duration": 8,
    "start_time": "2022-01-10T10:57:56.772Z"
   },
   {
    "duration": 32,
    "start_time": "2022-01-10T10:57:56.781Z"
   },
   {
    "duration": 4,
    "start_time": "2022-01-10T10:57:56.815Z"
   },
   {
    "duration": 30,
    "start_time": "2022-01-10T10:57:56.820Z"
   },
   {
    "duration": 15,
    "start_time": "2022-01-10T10:57:56.852Z"
   },
   {
    "duration": 22,
    "start_time": "2022-01-10T10:57:56.868Z"
   },
   {
    "duration": 4,
    "start_time": "2022-01-10T10:57:56.891Z"
   },
   {
    "duration": 7,
    "start_time": "2022-01-10T10:57:56.896Z"
   },
   {
    "duration": 42,
    "start_time": "2022-01-10T10:57:56.904Z"
   },
   {
    "duration": 5,
    "start_time": "2022-01-10T10:57:56.948Z"
   },
   {
    "duration": 758,
    "start_time": "2022-01-10T10:57:56.955Z"
   },
   {
    "duration": 5,
    "start_time": "2022-01-10T10:57:57.714Z"
   },
   {
    "duration": 29,
    "start_time": "2022-01-10T10:57:57.721Z"
   },
   {
    "duration": 7,
    "start_time": "2022-01-10T10:57:57.752Z"
   },
   {
    "duration": 6,
    "start_time": "2022-01-10T10:57:57.760Z"
   },
   {
    "duration": 6,
    "start_time": "2022-01-10T10:57:57.770Z"
   },
   {
    "duration": 5,
    "start_time": "2022-01-10T10:57:57.779Z"
   },
   {
    "duration": 9,
    "start_time": "2022-01-10T10:57:57.785Z"
   },
   {
    "duration": 52,
    "start_time": "2022-01-10T10:57:57.795Z"
   },
   {
    "duration": 175,
    "start_time": "2022-01-10T10:57:57.849Z"
   },
   {
    "duration": 165,
    "start_time": "2022-01-10T10:57:58.026Z"
   },
   {
    "duration": 176,
    "start_time": "2022-01-10T10:57:58.193Z"
   },
   {
    "duration": 6,
    "start_time": "2022-01-10T10:57:58.371Z"
   },
   {
    "duration": 12,
    "start_time": "2022-01-10T10:57:58.378Z"
   },
   {
    "duration": 239,
    "start_time": "2022-01-10T10:57:58.392Z"
   },
   {
    "duration": 22,
    "start_time": "2022-01-10T10:57:58.641Z"
   },
   {
    "duration": 3,
    "start_time": "2022-01-10T10:57:58.664Z"
   },
   {
    "duration": 188,
    "start_time": "2022-01-10T10:57:58.669Z"
   },
   {
    "duration": 3,
    "start_time": "2022-01-10T10:57:58.859Z"
   },
   {
    "duration": 6,
    "start_time": "2022-01-10T10:57:58.864Z"
   },
   {
    "duration": 356,
    "start_time": "2022-01-10T10:57:58.871Z"
   },
   {
    "duration": 14,
    "start_time": "2022-01-10T10:57:59.229Z"
   },
   {
    "duration": 232,
    "start_time": "2022-01-10T10:57:59.245Z"
   },
   {
    "duration": 229,
    "start_time": "2022-01-10T10:57:59.479Z"
   },
   {
    "duration": 170,
    "start_time": "2022-01-10T10:57:59.709Z"
   },
   {
    "duration": 4,
    "start_time": "2022-01-10T10:57:59.880Z"
   },
   {
    "duration": 18,
    "start_time": "2022-01-10T10:57:59.886Z"
   },
   {
    "duration": 222,
    "start_time": "2022-01-10T10:57:59.905Z"
   },
   {
    "duration": 231,
    "start_time": "2022-01-10T10:58:00.129Z"
   },
   {
    "duration": 281,
    "start_time": "2022-01-10T10:58:00.362Z"
   },
   {
    "duration": 240,
    "start_time": "2022-01-10T10:58:00.645Z"
   },
   {
    "duration": 259,
    "start_time": "2022-01-10T10:58:00.887Z"
   },
   {
    "duration": 80,
    "start_time": "2022-01-10T11:05:04.442Z"
   },
   {
    "duration": 83,
    "start_time": "2022-01-10T11:06:34.236Z"
   },
   {
    "duration": 85,
    "start_time": "2022-01-10T11:07:53.548Z"
   },
   {
    "duration": 392,
    "start_time": "2022-01-10T11:14:09.306Z"
   },
   {
    "duration": 91,
    "start_time": "2022-01-10T11:34:06.768Z"
   },
   {
    "duration": 23,
    "start_time": "2022-01-10T11:35:59.373Z"
   },
   {
    "duration": 331,
    "start_time": "2022-01-10T11:36:04.815Z"
   },
   {
    "duration": 292,
    "start_time": "2022-01-10T11:36:15.185Z"
   },
   {
    "duration": 22,
    "start_time": "2022-01-10T11:36:45.152Z"
   },
   {
    "duration": 13,
    "start_time": "2022-01-10T11:37:45.935Z"
   },
   {
    "duration": 179,
    "start_time": "2022-01-10T11:38:04.331Z"
   },
   {
    "duration": 318,
    "start_time": "2022-01-10T11:38:11.457Z"
   },
   {
    "duration": 12,
    "start_time": "2022-01-10T11:38:43.213Z"
   },
   {
    "duration": 21,
    "start_time": "2022-01-10T11:39:27.937Z"
   },
   {
    "duration": 233,
    "start_time": "2022-01-10T11:39:39.335Z"
   },
   {
    "duration": 273,
    "start_time": "2022-01-10T11:39:43.765Z"
   },
   {
    "duration": 519,
    "start_time": "2022-01-10T11:40:14.104Z"
   },
   {
    "duration": 17,
    "start_time": "2022-01-10T11:40:56.717Z"
   },
   {
    "duration": 211,
    "start_time": "2022-01-10T11:41:04.597Z"
   },
   {
    "duration": 408,
    "start_time": "2022-01-10T11:41:18.757Z"
   },
   {
    "duration": 315,
    "start_time": "2022-01-10T11:41:54.303Z"
   },
   {
    "duration": 183,
    "start_time": "2022-01-10T11:43:49.022Z"
   },
   {
    "duration": 191,
    "start_time": "2022-01-10T11:44:09.528Z"
   },
   {
    "duration": 224,
    "start_time": "2022-01-10T11:45:08.466Z"
   },
   {
    "duration": 80,
    "start_time": "2022-01-10T11:46:50.318Z"
   },
   {
    "duration": 1053,
    "start_time": "2022-01-10T14:25:06.888Z"
   },
   {
    "duration": 2,
    "start_time": "2022-01-10T14:25:07.943Z"
   },
   {
    "duration": 71,
    "start_time": "2022-01-10T14:25:07.947Z"
   },
   {
    "duration": 12,
    "start_time": "2022-01-10T14:25:08.020Z"
   },
   {
    "duration": 18,
    "start_time": "2022-01-10T14:25:08.034Z"
   },
   {
    "duration": 45,
    "start_time": "2022-01-10T14:25:08.054Z"
   },
   {
    "duration": 42,
    "start_time": "2022-01-10T14:25:08.101Z"
   },
   {
    "duration": 5,
    "start_time": "2022-01-10T14:25:08.145Z"
   },
   {
    "duration": 7,
    "start_time": "2022-01-10T14:25:08.152Z"
   },
   {
    "duration": 10,
    "start_time": "2022-01-10T14:25:08.160Z"
   },
   {
    "duration": 53,
    "start_time": "2022-01-10T14:25:08.171Z"
   },
   {
    "duration": 21,
    "start_time": "2022-01-10T14:25:08.225Z"
   },
   {
    "duration": 38,
    "start_time": "2022-01-10T14:25:08.247Z"
   },
   {
    "duration": 5,
    "start_time": "2022-01-10T14:25:08.287Z"
   },
   {
    "duration": 83,
    "start_time": "2022-01-10T14:25:08.298Z"
   },
   {
    "duration": 24,
    "start_time": "2022-01-10T14:25:08.383Z"
   },
   {
    "duration": 87,
    "start_time": "2022-01-10T14:25:08.412Z"
   },
   {
    "duration": 4,
    "start_time": "2022-01-10T14:25:08.500Z"
   },
   {
    "duration": 7,
    "start_time": "2022-01-10T14:25:08.505Z"
   },
   {
    "duration": 26,
    "start_time": "2022-01-10T14:25:08.513Z"
   },
   {
    "duration": 7,
    "start_time": "2022-01-10T14:25:08.540Z"
   },
   {
    "duration": 700,
    "start_time": "2022-01-10T14:25:08.548Z"
   },
   {
    "duration": 4,
    "start_time": "2022-01-10T14:25:09.252Z"
   },
   {
    "duration": 21,
    "start_time": "2022-01-10T14:25:09.258Z"
   },
   {
    "duration": 8,
    "start_time": "2022-01-10T14:25:09.280Z"
   },
   {
    "duration": 4,
    "start_time": "2022-01-10T14:25:09.290Z"
   },
   {
    "duration": 8,
    "start_time": "2022-01-10T14:25:09.295Z"
   },
   {
    "duration": 8,
    "start_time": "2022-01-10T14:25:09.304Z"
   },
   {
    "duration": 32,
    "start_time": "2022-01-10T14:25:09.313Z"
   },
   {
    "duration": 30,
    "start_time": "2022-01-10T14:25:09.346Z"
   },
   {
    "duration": 184,
    "start_time": "2022-01-10T14:25:09.377Z"
   },
   {
    "duration": 164,
    "start_time": "2022-01-10T14:25:09.563Z"
   },
   {
    "duration": 175,
    "start_time": "2022-01-10T14:25:09.728Z"
   },
   {
    "duration": 6,
    "start_time": "2022-01-10T14:25:09.904Z"
   },
   {
    "duration": 9,
    "start_time": "2022-01-10T14:25:09.911Z"
   },
   {
    "duration": 222,
    "start_time": "2022-01-10T14:25:09.941Z"
   },
   {
    "duration": 20,
    "start_time": "2022-01-10T14:25:10.165Z"
   },
   {
    "duration": 3,
    "start_time": "2022-01-10T14:25:10.187Z"
   },
   {
    "duration": 201,
    "start_time": "2022-01-10T14:25:10.191Z"
   },
   {
    "duration": 2,
    "start_time": "2022-01-10T14:25:10.394Z"
   },
   {
    "duration": 5,
    "start_time": "2022-01-10T14:25:10.398Z"
   },
   {
    "duration": 358,
    "start_time": "2022-01-10T14:25:10.405Z"
   },
   {
    "duration": 7,
    "start_time": "2022-01-10T14:25:10.764Z"
   },
   {
    "duration": 232,
    "start_time": "2022-01-10T14:25:10.772Z"
   },
   {
    "duration": 217,
    "start_time": "2022-01-10T14:25:11.005Z"
   },
   {
    "duration": 170,
    "start_time": "2022-01-10T14:25:11.223Z"
   },
   {
    "duration": 4,
    "start_time": "2022-01-10T14:25:11.395Z"
   },
   {
    "duration": 23,
    "start_time": "2022-01-10T14:25:11.401Z"
   },
   {
    "duration": 213,
    "start_time": "2022-01-10T14:25:11.425Z"
   },
   {
    "duration": 209,
    "start_time": "2022-01-10T14:25:11.640Z"
   },
   {
    "duration": 227,
    "start_time": "2022-01-10T14:25:11.851Z"
   },
   {
    "duration": 256,
    "start_time": "2022-01-10T14:25:12.080Z"
   },
   {
    "duration": 233,
    "start_time": "2022-01-10T14:25:12.338Z"
   },
   {
    "duration": 261,
    "start_time": "2022-01-10T14:27:23.380Z"
   },
   {
    "duration": 19,
    "start_time": "2022-01-10T14:28:47.846Z"
   },
   {
    "duration": 12,
    "start_time": "2022-01-10T14:39:15.449Z"
   },
   {
    "duration": 4,
    "start_time": "2022-01-10T14:39:50.934Z"
   },
   {
    "duration": 324,
    "start_time": "2022-01-10T14:42:46.932Z"
   },
   {
    "duration": 217,
    "start_time": "2022-01-10T15:22:57.590Z"
   },
   {
    "duration": 5315,
    "start_time": "2022-01-10T15:23:05.770Z"
   },
   {
    "duration": 15,
    "start_time": "2022-01-10T15:23:19.305Z"
   },
   {
    "duration": 25,
    "start_time": "2022-01-10T15:24:43.643Z"
   },
   {
    "duration": 13,
    "start_time": "2022-01-10T15:24:49.511Z"
   },
   {
    "duration": 13,
    "start_time": "2022-01-10T15:25:22.791Z"
   },
   {
    "duration": 15,
    "start_time": "2022-01-10T15:25:26.625Z"
   },
   {
    "duration": 15,
    "start_time": "2022-01-10T15:26:28.980Z"
   },
   {
    "duration": 14,
    "start_time": "2022-01-10T15:26:34.083Z"
   },
   {
    "duration": 15,
    "start_time": "2022-01-10T15:27:05.617Z"
   },
   {
    "duration": 10,
    "start_time": "2022-01-10T15:29:49.360Z"
   },
   {
    "duration": 7,
    "start_time": "2022-01-10T15:29:59.473Z"
   },
   {
    "duration": 180,
    "start_time": "2022-01-10T15:36:28.550Z"
   },
   {
    "duration": 163,
    "start_time": "2022-01-10T15:55:31.820Z"
   },
   {
    "duration": 352,
    "start_time": "2022-01-10T15:58:56.740Z"
   },
   {
    "duration": 180,
    "start_time": "2022-01-10T15:59:04.898Z"
   },
   {
    "duration": 201,
    "start_time": "2022-01-10T15:59:31.445Z"
   },
   {
    "duration": 384,
    "start_time": "2022-01-10T16:00:20.186Z"
   },
   {
    "duration": 179,
    "start_time": "2022-01-10T16:00:44.750Z"
   },
   {
    "duration": 163,
    "start_time": "2022-01-10T16:00:50.077Z"
   },
   {
    "duration": 184,
    "start_time": "2022-01-10T16:00:57.059Z"
   },
   {
    "duration": 198,
    "start_time": "2022-01-10T16:02:08.421Z"
   },
   {
    "duration": 179,
    "start_time": "2022-01-10T16:02:30.434Z"
   },
   {
    "duration": 266,
    "start_time": "2022-01-10T16:02:36.484Z"
   },
   {
    "duration": 186,
    "start_time": "2022-01-10T16:02:41.934Z"
   },
   {
    "duration": 174,
    "start_time": "2022-01-10T16:03:38.745Z"
   },
   {
    "duration": 179,
    "start_time": "2022-01-10T16:04:17.750Z"
   },
   {
    "duration": 4,
    "start_time": "2022-01-10T16:05:24.112Z"
   },
   {
    "duration": 219,
    "start_time": "2022-01-10T16:05:25.008Z"
   },
   {
    "duration": 4,
    "start_time": "2022-01-10T16:05:32.810Z"
   },
   {
    "duration": 3,
    "start_time": "2022-01-10T16:05:38.521Z"
   },
   {
    "duration": 190,
    "start_time": "2022-01-10T16:05:43.988Z"
   },
   {
    "duration": 4,
    "start_time": "2022-01-10T16:05:51.772Z"
   },
   {
    "duration": 190,
    "start_time": "2022-01-10T16:05:54.579Z"
   },
   {
    "duration": 4,
    "start_time": "2022-01-10T16:05:59.363Z"
   },
   {
    "duration": 193,
    "start_time": "2022-01-10T16:06:00.906Z"
   },
   {
    "duration": 4,
    "start_time": "2022-01-10T16:06:05.507Z"
   },
   {
    "duration": 186,
    "start_time": "2022-01-10T16:06:06.586Z"
   },
   {
    "duration": 179,
    "start_time": "2022-01-10T16:09:13.441Z"
   },
   {
    "duration": 426,
    "start_time": "2022-01-10T16:11:04.699Z"
   },
   {
    "duration": 308,
    "start_time": "2022-01-10T16:11:20.318Z"
   },
   {
    "duration": 293,
    "start_time": "2022-01-10T16:12:00.541Z"
   },
   {
    "duration": 299,
    "start_time": "2022-01-10T16:12:12.953Z"
   },
   {
    "duration": 312,
    "start_time": "2022-01-10T16:12:18.791Z"
   },
   {
    "duration": 375,
    "start_time": "2022-01-10T16:12:27.138Z"
   },
   {
    "duration": 295,
    "start_time": "2022-01-10T16:13:00.856Z"
   },
   {
    "duration": 207,
    "start_time": "2022-01-10T16:13:05.924Z"
   },
   {
    "duration": 259,
    "start_time": "2022-01-10T16:13:45.621Z"
   },
   {
    "duration": 77,
    "start_time": "2022-01-10T16:16:50.912Z"
   },
   {
    "duration": 22,
    "start_time": "2022-01-10T16:17:04.091Z"
   },
   {
    "duration": 359,
    "start_time": "2022-01-10T16:22:10.255Z"
   },
   {
    "duration": 345,
    "start_time": "2022-01-10T16:22:21.424Z"
   },
   {
    "duration": 366,
    "start_time": "2022-01-10T16:22:26.455Z"
   },
   {
    "duration": 359,
    "start_time": "2022-01-10T16:22:30.911Z"
   },
   {
    "duration": 352,
    "start_time": "2022-01-10T16:25:38.857Z"
   },
   {
    "duration": 254,
    "start_time": "2022-01-10T16:25:56.681Z"
   },
   {
    "duration": 387,
    "start_time": "2022-01-10T16:26:47.197Z"
   },
   {
    "duration": 204,
    "start_time": "2022-01-10T16:30:44.659Z"
   },
   {
    "duration": 310,
    "start_time": "2022-01-10T16:30:53.938Z"
   },
   {
    "duration": 208,
    "start_time": "2022-01-10T16:31:29.641Z"
   },
   {
    "duration": 201,
    "start_time": "2022-01-10T16:31:52.877Z"
   },
   {
    "duration": 257,
    "start_time": "2022-01-10T16:33:30.293Z"
   },
   {
    "duration": 266,
    "start_time": "2022-01-10T16:33:42.572Z"
   },
   {
    "duration": 232,
    "start_time": "2022-01-10T16:35:14.073Z"
   },
   {
    "duration": 242,
    "start_time": "2022-01-10T16:35:32.519Z"
   },
   {
    "duration": 242,
    "start_time": "2022-01-10T16:36:19.710Z"
   },
   {
    "duration": 1085,
    "start_time": "2022-01-11T09:19:43.634Z"
   },
   {
    "duration": 3,
    "start_time": "2022-01-11T09:19:44.721Z"
   },
   {
    "duration": 657,
    "start_time": "2022-01-11T09:19:44.725Z"
   },
   {
    "duration": 11,
    "start_time": "2022-01-11T09:19:45.383Z"
   },
   {
    "duration": 17,
    "start_time": "2022-01-11T09:19:45.396Z"
   },
   {
    "duration": 42,
    "start_time": "2022-01-11T09:19:45.414Z"
   },
   {
    "duration": 152,
    "start_time": "2022-01-11T09:19:45.458Z"
   },
   {
    "duration": 5,
    "start_time": "2022-01-11T09:19:45.612Z"
   },
   {
    "duration": 11,
    "start_time": "2022-01-11T09:19:45.619Z"
   },
   {
    "duration": 10,
    "start_time": "2022-01-11T09:19:45.631Z"
   },
   {
    "duration": 52,
    "start_time": "2022-01-11T09:19:45.643Z"
   },
   {
    "duration": 6,
    "start_time": "2022-01-11T09:19:45.697Z"
   },
   {
    "duration": 37,
    "start_time": "2022-01-11T09:19:45.705Z"
   },
   {
    "duration": 4,
    "start_time": "2022-01-11T09:19:45.744Z"
   },
   {
    "duration": 12,
    "start_time": "2022-01-11T09:19:45.749Z"
   },
   {
    "duration": 11,
    "start_time": "2022-01-11T09:19:45.763Z"
   },
   {
    "duration": 20,
    "start_time": "2022-01-11T09:19:45.775Z"
   },
   {
    "duration": 4,
    "start_time": "2022-01-11T09:19:45.796Z"
   },
   {
    "duration": 5,
    "start_time": "2022-01-11T09:19:45.827Z"
   },
   {
    "duration": 21,
    "start_time": "2022-01-11T09:19:45.833Z"
   },
   {
    "duration": 4,
    "start_time": "2022-01-11T09:19:45.856Z"
   },
   {
    "duration": 760,
    "start_time": "2022-01-11T09:19:45.862Z"
   },
   {
    "duration": 4,
    "start_time": "2022-01-11T09:19:46.625Z"
   },
   {
    "duration": 15,
    "start_time": "2022-01-11T09:19:46.631Z"
   },
   {
    "duration": 9,
    "start_time": "2022-01-11T09:19:46.647Z"
   },
   {
    "duration": 4,
    "start_time": "2022-01-11T09:19:46.657Z"
   },
   {
    "duration": 6,
    "start_time": "2022-01-11T09:19:46.662Z"
   },
   {
    "duration": 4,
    "start_time": "2022-01-11T09:19:46.670Z"
   },
   {
    "duration": 10,
    "start_time": "2022-01-11T09:19:46.675Z"
   },
   {
    "duration": 50,
    "start_time": "2022-01-11T09:19:46.687Z"
   },
   {
    "duration": 176,
    "start_time": "2022-01-11T09:19:46.739Z"
   },
   {
    "duration": 166,
    "start_time": "2022-01-11T09:19:46.916Z"
   },
   {
    "duration": 178,
    "start_time": "2022-01-11T09:19:47.083Z"
   },
   {
    "duration": 6,
    "start_time": "2022-01-11T09:19:47.262Z"
   },
   {
    "duration": 15,
    "start_time": "2022-01-11T09:19:47.269Z"
   },
   {
    "duration": 7,
    "start_time": "2022-01-11T09:19:47.285Z"
   },
   {
    "duration": 244,
    "start_time": "2022-01-11T09:19:47.293Z"
   },
   {
    "duration": 18,
    "start_time": "2022-01-11T09:19:47.539Z"
   },
   {
    "duration": 209,
    "start_time": "2022-01-11T09:19:47.559Z"
   },
   {
    "duration": 18,
    "start_time": "2022-01-11T09:19:47.770Z"
   },
   {
    "duration": 4,
    "start_time": "2022-01-11T09:19:47.790Z"
   },
   {
    "duration": 199,
    "start_time": "2022-01-11T09:19:47.796Z"
   },
   {
    "duration": 3,
    "start_time": "2022-01-11T09:19:47.996Z"
   },
   {
    "duration": 54,
    "start_time": "2022-01-11T09:19:48.000Z"
   },
   {
    "duration": 665,
    "start_time": "2022-01-11T09:19:48.056Z"
   },
   {
    "duration": 8,
    "start_time": "2022-01-11T09:19:48.728Z"
   },
   {
    "duration": 359,
    "start_time": "2022-01-11T09:19:48.738Z"
   },
   {
    "duration": 224,
    "start_time": "2022-01-11T09:19:49.099Z"
   },
   {
    "duration": 149,
    "start_time": "2022-01-11T09:19:49.327Z"
   },
   {
    "duration": 4,
    "start_time": "2022-01-11T09:19:49.477Z"
   },
   {
    "duration": 18,
    "start_time": "2022-01-11T09:19:49.482Z"
   },
   {
    "duration": 215,
    "start_time": "2022-01-11T09:19:49.501Z"
   },
   {
    "duration": 218,
    "start_time": "2022-01-11T09:19:49.718Z"
   },
   {
    "duration": 255,
    "start_time": "2022-01-11T09:19:49.937Z"
   },
   {
    "duration": 250,
    "start_time": "2022-01-11T09:19:50.194Z"
   },
   {
    "duration": 319,
    "start_time": "2022-01-11T09:19:50.446Z"
   },
   {
    "duration": 283,
    "start_time": "2022-01-11T09:19:50.767Z"
   },
   {
    "duration": 10,
    "start_time": "2022-01-11T09:20:31.365Z"
   },
   {
    "duration": 4,
    "start_time": "2022-01-11T09:20:35.400Z"
   },
   {
    "duration": 93,
    "start_time": "2022-01-11T09:23:33.972Z"
   }
  ],
  "colab": {
   "name": "DA+. Сборный проект 1. Шаблон (1).ipynb",
   "provenance": []
  },
  "kernelspec": {
   "display_name": "Python 3 (ipykernel)",
   "language": "python",
   "name": "python3"
  },
  "language_info": {
   "codemirror_mode": {
    "name": "ipython",
    "version": 3
   },
   "file_extension": ".py",
   "mimetype": "text/x-python",
   "name": "python",
   "nbconvert_exporter": "python",
   "pygments_lexer": "ipython3",
   "version": "3.9.7"
  },
  "toc": {
   "base_numbering": 1,
   "nav_menu": {},
   "number_sections": true,
   "sideBar": true,
   "skip_h1_title": true,
   "title_cell": "Table of Contents",
   "title_sidebar": "Contents",
   "toc_cell": false,
   "toc_position": {
    "height": "calc(100% - 180px)",
    "left": "10px",
    "top": "150px",
    "width": "375.382px"
   },
   "toc_section_display": true,
   "toc_window_display": false
  }
 },
 "nbformat": 4,
 "nbformat_minor": 1
}
