{
 "cells": [
  {
   "cell_type": "markdown",
   "metadata": {
    "toc": true
   },
   "source": [
    "<h1>Содержание<span class=\"tocSkip\"></span></h1>\n",
    "<div class=\"toc\"><ul class=\"toc-item\"><li><span><a href=\"#Изучение-данных-из-файла\" data-toc-modified-id=\"Изучение-данных-из-файла-1\"><span class=\"toc-item-num\">1&nbsp;&nbsp;</span>Изучение данных из файла</a></span><ul class=\"toc-item\"><li><span><a href=\"#Вывод\" data-toc-modified-id=\"Вывод-1.1\"><span class=\"toc-item-num\">1.1&nbsp;&nbsp;</span>Вывод</a></span></li></ul></li><li><span><a href=\"#Предобработка-данных\" data-toc-modified-id=\"Предобработка-данных-2\"><span class=\"toc-item-num\">2&nbsp;&nbsp;</span>Предобработка данных</a></span><ul class=\"toc-item\"><li><span><a href=\"#Вывод\" data-toc-modified-id=\"Вывод-2.1\"><span class=\"toc-item-num\">2.1&nbsp;&nbsp;</span>Вывод</a></span></li></ul></li><li><span><a href=\"#Расчёты-и-добавление-результатов-в-таблицу\" data-toc-modified-id=\"Расчёты-и-добавление-результатов-в-таблицу-3\"><span class=\"toc-item-num\">3&nbsp;&nbsp;</span>Расчёты и добавление результатов в таблицу</a></span><ul class=\"toc-item\"><li><span><a href=\"#Вывод\" data-toc-modified-id=\"Вывод-3.1\"><span class=\"toc-item-num\">3.1&nbsp;&nbsp;</span>Вывод</a></span></li></ul></li><li><span><a href=\"#Исследовательский-анализ-данных\" data-toc-modified-id=\"Исследовательский-анализ-данных-4\"><span class=\"toc-item-num\">4&nbsp;&nbsp;</span>Исследовательский анализ данных</a></span><ul class=\"toc-item\"><li><span><a href=\"#Вывод\" data-toc-modified-id=\"Вывод-4.1\"><span class=\"toc-item-num\">4.1&nbsp;&nbsp;</span>Вывод</a></span></li></ul></li><li><span><a href=\"#Общий-вывод\" data-toc-modified-id=\"Общий-вывод-5\"><span class=\"toc-item-num\">5&nbsp;&nbsp;</span>Общий вывод</a></span></li><li><span><a href=\"#Чек-лист-готовности-проекта\" data-toc-modified-id=\"Чек-лист-готовности-проекта-6\"><span class=\"toc-item-num\">6&nbsp;&nbsp;</span>Чек-лист готовности проекта</a></span></li></ul></div>"
   ]
  },
  {
   "cell_type": "markdown",
   "metadata": {},
   "source": [
    "# Исследование объявлений о продаже квартир\n",
    "\n",
    "В вашем распоряжении данные сервиса Яндекс.Недвижимость — архив объявлений о продаже квартир в Санкт-Петербурге и соседних населённых пунктах за несколько лет. Нужно научиться определять рыночную стоимость объектов недвижимости. Ваша задача — установить параметры. Это позволит построить автоматизированную систему: она отследит аномалии и мошенническую деятельность. \n",
    "\n",
    "По каждой квартире на продажу доступны два вида данных. Первые вписаны пользователем, вторые получены автоматически на основе картографических данных. Например, расстояние до центра, аэропорта, ближайшего парка и водоёма. "
   ]
  },
  {
   "cell_type": "markdown",
   "metadata": {},
   "source": [
    "**Цель исследования** — ответить на следующие вопросы:\n",
    "1. Какие факторы больше всего влияют на стоимость квартиры? \n",
    "2. В каких населенных пунктах самая высокая и самая низкая стоимость квадратного метра недвижимости?\n",
    "3. Как зависит стоимость квартры в Санкт-Петербурге от ее удаленности от центра города?\n",
    "4. Какие факторы больше всего влияют на стоимость квартры в центре Санкт-Петербурга?"
   ]
  },
  {
   "cell_type": "markdown",
   "metadata": {},
   "source": [
    "**Ход исследования** Данные о рынке недвижимости в ЛО мы получим из файла data.csv. О качестве данных ничего не известно. Поэтому перед ответами на вопросы понадобится обзор данных."
   ]
  },
  {
   "cell_type": "markdown",
   "metadata": {},
   "source": [
    "## Изучение данных из файла"
   ]
  },
  {
   "cell_type": "code",
   "execution_count": 1,
   "metadata": {},
   "outputs": [],
   "source": [
    "import pandas as pd\n",
    "import matplotlib.pyplot as plt\n",
    "import seaborn as sns"
   ]
  },
  {
   "cell_type": "code",
   "execution_count": 2,
   "metadata": {},
   "outputs": [],
   "source": [
    "df=pd.read_csv('/datasets/real_estate_data.csv')"
   ]
  },
  {
   "cell_type": "code",
   "execution_count": 3,
   "metadata": {},
   "outputs": [
    {
     "name": "stdout",
     "output_type": "stream",
     "text": [
      "  total_images\\tlast_price\\ttotal_area\\tfirst_day_exposition\\trooms\\tceiling_height\\tfloors_total\\tliving_area\\tfloor\\tis_apartment\\tstudio\\topen_plan\\tkitchen_area\\tbalcony\\tlocality_name\\tairports_nearest\\tcityCenters_nearest\\tparks_around3000\\tparks_nearest\\tponds_around3000\\tponds_nearest\\tdays_exposition\n",
      "0  20\\t13000000.0\\t108.0\\t2019-03-07T00:00:00\\t3\\...                                                                                                                                                                                                                                                                  \n",
      "1  7\\t3350000.0\\t40.4\\t2018-12-04T00:00:00\\t1\\t\\t...                                                                                                                                                                                                                                                                  \n",
      "2  10\\t5196000.0\\t56.0\\t2015-08-20T00:00:00\\t2\\t\\...                                                                                                                                                                                                                                                                  \n",
      "3  0\\t64900000.0\\t159.0\\t2015-07-24T00:00:00\\t3\\t...                                                                                                                                                                                                                                                                  \n",
      "4  2\\t10000000.0\\t100.0\\t2018-06-19T00:00:00\\t2\\t...                                                                                                                                                                                                                                                                  \n"
     ]
    }
   ],
   "source": [
    "print(df.head())"
   ]
  },
  {
   "cell_type": "code",
   "execution_count": 4,
   "metadata": {
    "scrolled": false
   },
   "outputs": [
    {
     "data": {
      "text/html": [
       "<div>\n",
       "<style scoped>\n",
       "    .dataframe tbody tr th:only-of-type {\n",
       "        vertical-align: middle;\n",
       "    }\n",
       "\n",
       "    .dataframe tbody tr th {\n",
       "        vertical-align: top;\n",
       "    }\n",
       "\n",
       "    .dataframe thead th {\n",
       "        text-align: right;\n",
       "    }\n",
       "</style>\n",
       "<table border=\"1\" class=\"dataframe\">\n",
       "  <thead>\n",
       "    <tr style=\"text-align: right;\">\n",
       "      <th></th>\n",
       "      <th>total_images</th>\n",
       "      <th>last_price</th>\n",
       "      <th>total_area</th>\n",
       "      <th>first_day_exposition</th>\n",
       "      <th>rooms</th>\n",
       "      <th>ceiling_height</th>\n",
       "      <th>floors_total</th>\n",
       "      <th>living_area</th>\n",
       "      <th>floor</th>\n",
       "      <th>is_apartment</th>\n",
       "      <th>...</th>\n",
       "      <th>kitchen_area</th>\n",
       "      <th>balcony</th>\n",
       "      <th>locality_name</th>\n",
       "      <th>airports_nearest</th>\n",
       "      <th>cityCenters_nearest</th>\n",
       "      <th>parks_around3000</th>\n",
       "      <th>parks_nearest</th>\n",
       "      <th>ponds_around3000</th>\n",
       "      <th>ponds_nearest</th>\n",
       "      <th>days_exposition</th>\n",
       "    </tr>\n",
       "  </thead>\n",
       "  <tbody>\n",
       "    <tr>\n",
       "      <td>0</td>\n",
       "      <td>20</td>\n",
       "      <td>13000000.0</td>\n",
       "      <td>108.0</td>\n",
       "      <td>2019-03-07T00:00:00</td>\n",
       "      <td>3</td>\n",
       "      <td>2.70</td>\n",
       "      <td>16.0</td>\n",
       "      <td>51.0</td>\n",
       "      <td>8</td>\n",
       "      <td>NaN</td>\n",
       "      <td>...</td>\n",
       "      <td>25.0</td>\n",
       "      <td>NaN</td>\n",
       "      <td>Санкт-Петербург</td>\n",
       "      <td>18863.0</td>\n",
       "      <td>16028.0</td>\n",
       "      <td>1.0</td>\n",
       "      <td>482.0</td>\n",
       "      <td>2.0</td>\n",
       "      <td>755.0</td>\n",
       "      <td>NaN</td>\n",
       "    </tr>\n",
       "    <tr>\n",
       "      <td>1</td>\n",
       "      <td>7</td>\n",
       "      <td>3350000.0</td>\n",
       "      <td>40.4</td>\n",
       "      <td>2018-12-04T00:00:00</td>\n",
       "      <td>1</td>\n",
       "      <td>NaN</td>\n",
       "      <td>11.0</td>\n",
       "      <td>18.6</td>\n",
       "      <td>1</td>\n",
       "      <td>NaN</td>\n",
       "      <td>...</td>\n",
       "      <td>11.0</td>\n",
       "      <td>2.0</td>\n",
       "      <td>посёлок Шушары</td>\n",
       "      <td>12817.0</td>\n",
       "      <td>18603.0</td>\n",
       "      <td>0.0</td>\n",
       "      <td>NaN</td>\n",
       "      <td>0.0</td>\n",
       "      <td>NaN</td>\n",
       "      <td>81.0</td>\n",
       "    </tr>\n",
       "    <tr>\n",
       "      <td>2</td>\n",
       "      <td>10</td>\n",
       "      <td>5196000.0</td>\n",
       "      <td>56.0</td>\n",
       "      <td>2015-08-20T00:00:00</td>\n",
       "      <td>2</td>\n",
       "      <td>NaN</td>\n",
       "      <td>5.0</td>\n",
       "      <td>34.3</td>\n",
       "      <td>4</td>\n",
       "      <td>NaN</td>\n",
       "      <td>...</td>\n",
       "      <td>8.3</td>\n",
       "      <td>0.0</td>\n",
       "      <td>Санкт-Петербург</td>\n",
       "      <td>21741.0</td>\n",
       "      <td>13933.0</td>\n",
       "      <td>1.0</td>\n",
       "      <td>90.0</td>\n",
       "      <td>2.0</td>\n",
       "      <td>574.0</td>\n",
       "      <td>558.0</td>\n",
       "    </tr>\n",
       "    <tr>\n",
       "      <td>3</td>\n",
       "      <td>0</td>\n",
       "      <td>64900000.0</td>\n",
       "      <td>159.0</td>\n",
       "      <td>2015-07-24T00:00:00</td>\n",
       "      <td>3</td>\n",
       "      <td>NaN</td>\n",
       "      <td>14.0</td>\n",
       "      <td>NaN</td>\n",
       "      <td>9</td>\n",
       "      <td>NaN</td>\n",
       "      <td>...</td>\n",
       "      <td>NaN</td>\n",
       "      <td>0.0</td>\n",
       "      <td>Санкт-Петербург</td>\n",
       "      <td>28098.0</td>\n",
       "      <td>6800.0</td>\n",
       "      <td>2.0</td>\n",
       "      <td>84.0</td>\n",
       "      <td>3.0</td>\n",
       "      <td>234.0</td>\n",
       "      <td>424.0</td>\n",
       "    </tr>\n",
       "    <tr>\n",
       "      <td>4</td>\n",
       "      <td>2</td>\n",
       "      <td>10000000.0</td>\n",
       "      <td>100.0</td>\n",
       "      <td>2018-06-19T00:00:00</td>\n",
       "      <td>2</td>\n",
       "      <td>3.03</td>\n",
       "      <td>14.0</td>\n",
       "      <td>32.0</td>\n",
       "      <td>13</td>\n",
       "      <td>NaN</td>\n",
       "      <td>...</td>\n",
       "      <td>41.0</td>\n",
       "      <td>NaN</td>\n",
       "      <td>Санкт-Петербург</td>\n",
       "      <td>31856.0</td>\n",
       "      <td>8098.0</td>\n",
       "      <td>2.0</td>\n",
       "      <td>112.0</td>\n",
       "      <td>1.0</td>\n",
       "      <td>48.0</td>\n",
       "      <td>121.0</td>\n",
       "    </tr>\n",
       "  </tbody>\n",
       "</table>\n",
       "<p>5 rows × 22 columns</p>\n",
       "</div>"
      ],
      "text/plain": [
       "   total_images  last_price  total_area first_day_exposition  rooms  \\\n",
       "0            20  13000000.0       108.0  2019-03-07T00:00:00      3   \n",
       "1             7   3350000.0        40.4  2018-12-04T00:00:00      1   \n",
       "2            10   5196000.0        56.0  2015-08-20T00:00:00      2   \n",
       "3             0  64900000.0       159.0  2015-07-24T00:00:00      3   \n",
       "4             2  10000000.0       100.0  2018-06-19T00:00:00      2   \n",
       "\n",
       "   ceiling_height  floors_total  living_area  floor is_apartment  ...  \\\n",
       "0            2.70          16.0         51.0      8          NaN  ...   \n",
       "1             NaN          11.0         18.6      1          NaN  ...   \n",
       "2             NaN           5.0         34.3      4          NaN  ...   \n",
       "3             NaN          14.0          NaN      9          NaN  ...   \n",
       "4            3.03          14.0         32.0     13          NaN  ...   \n",
       "\n",
       "   kitchen_area  balcony    locality_name  airports_nearest  \\\n",
       "0          25.0      NaN  Санкт-Петербург           18863.0   \n",
       "1          11.0      2.0   посёлок Шушары           12817.0   \n",
       "2           8.3      0.0  Санкт-Петербург           21741.0   \n",
       "3           NaN      0.0  Санкт-Петербург           28098.0   \n",
       "4          41.0      NaN  Санкт-Петербург           31856.0   \n",
       "\n",
       "  cityCenters_nearest  parks_around3000  parks_nearest  ponds_around3000  \\\n",
       "0             16028.0               1.0          482.0               2.0   \n",
       "1             18603.0               0.0            NaN               0.0   \n",
       "2             13933.0               1.0           90.0               2.0   \n",
       "3              6800.0               2.0           84.0               3.0   \n",
       "4              8098.0               2.0          112.0               1.0   \n",
       "\n",
       "   ponds_nearest  days_exposition  \n",
       "0          755.0              NaN  \n",
       "1            NaN             81.0  \n",
       "2          574.0            558.0  \n",
       "3          234.0            424.0  \n",
       "4           48.0            121.0  \n",
       "\n",
       "[5 rows x 22 columns]"
      ]
     },
     "metadata": {},
     "output_type": "display_data"
    }
   ],
   "source": [
    "df=pd.read_csv('/datasets/real_estate_data.csv', sep='\\t')\n",
    "display(df.head())"
   ]
  },
  {
   "cell_type": "code",
   "execution_count": 5,
   "metadata": {},
   "outputs": [
    {
     "data": {
      "text/html": [
       "<div>\n",
       "<style scoped>\n",
       "    .dataframe tbody tr th:only-of-type {\n",
       "        vertical-align: middle;\n",
       "    }\n",
       "\n",
       "    .dataframe tbody tr th {\n",
       "        vertical-align: top;\n",
       "    }\n",
       "\n",
       "    .dataframe thead th {\n",
       "        text-align: right;\n",
       "    }\n",
       "</style>\n",
       "<table border=\"1\" class=\"dataframe\">\n",
       "  <thead>\n",
       "    <tr style=\"text-align: right;\">\n",
       "      <th></th>\n",
       "      <th>total_images</th>\n",
       "      <th>last_price</th>\n",
       "      <th>total_area</th>\n",
       "      <th>first_day_exposition</th>\n",
       "      <th>rooms</th>\n",
       "      <th>ceiling_height</th>\n",
       "      <th>floors_total</th>\n",
       "      <th>living_area</th>\n",
       "      <th>floor</th>\n",
       "      <th>is_apartment</th>\n",
       "      <th>...</th>\n",
       "      <th>kitchen_area</th>\n",
       "      <th>balcony</th>\n",
       "      <th>locality_name</th>\n",
       "      <th>airports_nearest</th>\n",
       "      <th>cityCenters_nearest</th>\n",
       "      <th>parks_around3000</th>\n",
       "      <th>parks_nearest</th>\n",
       "      <th>ponds_around3000</th>\n",
       "      <th>ponds_nearest</th>\n",
       "      <th>days_exposition</th>\n",
       "    </tr>\n",
       "  </thead>\n",
       "  <tbody>\n",
       "    <tr>\n",
       "      <td>23694</td>\n",
       "      <td>9</td>\n",
       "      <td>9700000.0</td>\n",
       "      <td>133.81</td>\n",
       "      <td>2017-03-21T00:00:00</td>\n",
       "      <td>3</td>\n",
       "      <td>3.7</td>\n",
       "      <td>5.0</td>\n",
       "      <td>73.3</td>\n",
       "      <td>3</td>\n",
       "      <td>NaN</td>\n",
       "      <td>...</td>\n",
       "      <td>13.83</td>\n",
       "      <td>NaN</td>\n",
       "      <td>Санкт-Петербург</td>\n",
       "      <td>24665.0</td>\n",
       "      <td>4232.0</td>\n",
       "      <td>1.0</td>\n",
       "      <td>796.0</td>\n",
       "      <td>3.0</td>\n",
       "      <td>381.0</td>\n",
       "      <td>NaN</td>\n",
       "    </tr>\n",
       "    <tr>\n",
       "      <td>23695</td>\n",
       "      <td>14</td>\n",
       "      <td>3100000.0</td>\n",
       "      <td>59.00</td>\n",
       "      <td>2018-01-15T00:00:00</td>\n",
       "      <td>3</td>\n",
       "      <td>NaN</td>\n",
       "      <td>5.0</td>\n",
       "      <td>38.0</td>\n",
       "      <td>4</td>\n",
       "      <td>NaN</td>\n",
       "      <td>...</td>\n",
       "      <td>8.50</td>\n",
       "      <td>NaN</td>\n",
       "      <td>Тосно</td>\n",
       "      <td>NaN</td>\n",
       "      <td>NaN</td>\n",
       "      <td>NaN</td>\n",
       "      <td>NaN</td>\n",
       "      <td>NaN</td>\n",
       "      <td>NaN</td>\n",
       "      <td>45.0</td>\n",
       "    </tr>\n",
       "    <tr>\n",
       "      <td>23696</td>\n",
       "      <td>18</td>\n",
       "      <td>2500000.0</td>\n",
       "      <td>56.70</td>\n",
       "      <td>2018-02-11T00:00:00</td>\n",
       "      <td>2</td>\n",
       "      <td>NaN</td>\n",
       "      <td>3.0</td>\n",
       "      <td>29.7</td>\n",
       "      <td>1</td>\n",
       "      <td>NaN</td>\n",
       "      <td>...</td>\n",
       "      <td>NaN</td>\n",
       "      <td>NaN</td>\n",
       "      <td>село Рождествено</td>\n",
       "      <td>NaN</td>\n",
       "      <td>NaN</td>\n",
       "      <td>NaN</td>\n",
       "      <td>NaN</td>\n",
       "      <td>NaN</td>\n",
       "      <td>NaN</td>\n",
       "      <td>NaN</td>\n",
       "    </tr>\n",
       "    <tr>\n",
       "      <td>23697</td>\n",
       "      <td>13</td>\n",
       "      <td>11475000.0</td>\n",
       "      <td>76.75</td>\n",
       "      <td>2017-03-28T00:00:00</td>\n",
       "      <td>2</td>\n",
       "      <td>3.0</td>\n",
       "      <td>17.0</td>\n",
       "      <td>NaN</td>\n",
       "      <td>12</td>\n",
       "      <td>NaN</td>\n",
       "      <td>...</td>\n",
       "      <td>23.30</td>\n",
       "      <td>2.0</td>\n",
       "      <td>Санкт-Петербург</td>\n",
       "      <td>39140.0</td>\n",
       "      <td>10364.0</td>\n",
       "      <td>2.0</td>\n",
       "      <td>173.0</td>\n",
       "      <td>3.0</td>\n",
       "      <td>196.0</td>\n",
       "      <td>602.0</td>\n",
       "    </tr>\n",
       "    <tr>\n",
       "      <td>23698</td>\n",
       "      <td>4</td>\n",
       "      <td>1350000.0</td>\n",
       "      <td>32.30</td>\n",
       "      <td>2017-07-21T00:00:00</td>\n",
       "      <td>1</td>\n",
       "      <td>2.5</td>\n",
       "      <td>5.0</td>\n",
       "      <td>12.3</td>\n",
       "      <td>1</td>\n",
       "      <td>NaN</td>\n",
       "      <td>...</td>\n",
       "      <td>9.00</td>\n",
       "      <td>NaN</td>\n",
       "      <td>поселок Новый Учхоз</td>\n",
       "      <td>NaN</td>\n",
       "      <td>NaN</td>\n",
       "      <td>NaN</td>\n",
       "      <td>NaN</td>\n",
       "      <td>NaN</td>\n",
       "      <td>NaN</td>\n",
       "      <td>NaN</td>\n",
       "    </tr>\n",
       "  </tbody>\n",
       "</table>\n",
       "<p>5 rows × 22 columns</p>\n",
       "</div>"
      ],
      "text/plain": [
       "       total_images  last_price  total_area first_day_exposition  rooms  \\\n",
       "23694             9   9700000.0      133.81  2017-03-21T00:00:00      3   \n",
       "23695            14   3100000.0       59.00  2018-01-15T00:00:00      3   \n",
       "23696            18   2500000.0       56.70  2018-02-11T00:00:00      2   \n",
       "23697            13  11475000.0       76.75  2017-03-28T00:00:00      2   \n",
       "23698             4   1350000.0       32.30  2017-07-21T00:00:00      1   \n",
       "\n",
       "       ceiling_height  floors_total  living_area  floor is_apartment  ...  \\\n",
       "23694             3.7           5.0         73.3      3          NaN  ...   \n",
       "23695             NaN           5.0         38.0      4          NaN  ...   \n",
       "23696             NaN           3.0         29.7      1          NaN  ...   \n",
       "23697             3.0          17.0          NaN     12          NaN  ...   \n",
       "23698             2.5           5.0         12.3      1          NaN  ...   \n",
       "\n",
       "       kitchen_area  balcony        locality_name  airports_nearest  \\\n",
       "23694         13.83      NaN      Санкт-Петербург           24665.0   \n",
       "23695          8.50      NaN                Тосно               NaN   \n",
       "23696           NaN      NaN     село Рождествено               NaN   \n",
       "23697         23.30      2.0      Санкт-Петербург           39140.0   \n",
       "23698          9.00      NaN  поселок Новый Учхоз               NaN   \n",
       "\n",
       "      cityCenters_nearest  parks_around3000  parks_nearest  ponds_around3000  \\\n",
       "23694              4232.0               1.0          796.0               3.0   \n",
       "23695                 NaN               NaN            NaN               NaN   \n",
       "23696                 NaN               NaN            NaN               NaN   \n",
       "23697             10364.0               2.0          173.0               3.0   \n",
       "23698                 NaN               NaN            NaN               NaN   \n",
       "\n",
       "       ponds_nearest  days_exposition  \n",
       "23694          381.0              NaN  \n",
       "23695            NaN             45.0  \n",
       "23696            NaN              NaN  \n",
       "23697          196.0            602.0  \n",
       "23698            NaN              NaN  \n",
       "\n",
       "[5 rows x 22 columns]"
      ]
     },
     "metadata": {},
     "output_type": "display_data"
    }
   ],
   "source": [
    "display(df.tail())"
   ]
  },
  {
   "cell_type": "code",
   "execution_count": 6,
   "metadata": {},
   "outputs": [
    {
     "data": {
      "text/html": [
       "<div>\n",
       "<style scoped>\n",
       "    .dataframe tbody tr th:only-of-type {\n",
       "        vertical-align: middle;\n",
       "    }\n",
       "\n",
       "    .dataframe tbody tr th {\n",
       "        vertical-align: top;\n",
       "    }\n",
       "\n",
       "    .dataframe thead th {\n",
       "        text-align: right;\n",
       "    }\n",
       "</style>\n",
       "<table border=\"1\" class=\"dataframe\">\n",
       "  <thead>\n",
       "    <tr style=\"text-align: right;\">\n",
       "      <th></th>\n",
       "      <th>count</th>\n",
       "      <th>mean</th>\n",
       "      <th>std</th>\n",
       "      <th>min</th>\n",
       "      <th>25%</th>\n",
       "      <th>50%</th>\n",
       "      <th>75%</th>\n",
       "      <th>max</th>\n",
       "    </tr>\n",
       "  </thead>\n",
       "  <tbody>\n",
       "    <tr>\n",
       "      <td>total_images</td>\n",
       "      <td>23699.0</td>\n",
       "      <td>9.858475e+00</td>\n",
       "      <td>5.682529e+00</td>\n",
       "      <td>0.0</td>\n",
       "      <td>6.00</td>\n",
       "      <td>9.00</td>\n",
       "      <td>14.0</td>\n",
       "      <td>50.0</td>\n",
       "    </tr>\n",
       "    <tr>\n",
       "      <td>last_price</td>\n",
       "      <td>23699.0</td>\n",
       "      <td>6.541549e+06</td>\n",
       "      <td>1.088701e+07</td>\n",
       "      <td>12190.0</td>\n",
       "      <td>3400000.00</td>\n",
       "      <td>4650000.00</td>\n",
       "      <td>6800000.0</td>\n",
       "      <td>763000000.0</td>\n",
       "    </tr>\n",
       "    <tr>\n",
       "      <td>total_area</td>\n",
       "      <td>23699.0</td>\n",
       "      <td>6.034865e+01</td>\n",
       "      <td>3.565408e+01</td>\n",
       "      <td>12.0</td>\n",
       "      <td>40.00</td>\n",
       "      <td>52.00</td>\n",
       "      <td>69.9</td>\n",
       "      <td>900.0</td>\n",
       "    </tr>\n",
       "    <tr>\n",
       "      <td>rooms</td>\n",
       "      <td>23699.0</td>\n",
       "      <td>2.070636e+00</td>\n",
       "      <td>1.078405e+00</td>\n",
       "      <td>0.0</td>\n",
       "      <td>1.00</td>\n",
       "      <td>2.00</td>\n",
       "      <td>3.0</td>\n",
       "      <td>19.0</td>\n",
       "    </tr>\n",
       "    <tr>\n",
       "      <td>ceiling_height</td>\n",
       "      <td>14504.0</td>\n",
       "      <td>2.771499e+00</td>\n",
       "      <td>1.261056e+00</td>\n",
       "      <td>1.0</td>\n",
       "      <td>2.52</td>\n",
       "      <td>2.65</td>\n",
       "      <td>2.8</td>\n",
       "      <td>100.0</td>\n",
       "    </tr>\n",
       "    <tr>\n",
       "      <td>floors_total</td>\n",
       "      <td>23613.0</td>\n",
       "      <td>1.067382e+01</td>\n",
       "      <td>6.597173e+00</td>\n",
       "      <td>1.0</td>\n",
       "      <td>5.00</td>\n",
       "      <td>9.00</td>\n",
       "      <td>16.0</td>\n",
       "      <td>60.0</td>\n",
       "    </tr>\n",
       "    <tr>\n",
       "      <td>living_area</td>\n",
       "      <td>21796.0</td>\n",
       "      <td>3.445785e+01</td>\n",
       "      <td>2.203045e+01</td>\n",
       "      <td>2.0</td>\n",
       "      <td>18.60</td>\n",
       "      <td>30.00</td>\n",
       "      <td>42.3</td>\n",
       "      <td>409.7</td>\n",
       "    </tr>\n",
       "    <tr>\n",
       "      <td>floor</td>\n",
       "      <td>23699.0</td>\n",
       "      <td>5.892358e+00</td>\n",
       "      <td>4.885249e+00</td>\n",
       "      <td>1.0</td>\n",
       "      <td>2.00</td>\n",
       "      <td>4.00</td>\n",
       "      <td>8.0</td>\n",
       "      <td>33.0</td>\n",
       "    </tr>\n",
       "    <tr>\n",
       "      <td>kitchen_area</td>\n",
       "      <td>21421.0</td>\n",
       "      <td>1.056981e+01</td>\n",
       "      <td>5.905438e+00</td>\n",
       "      <td>1.3</td>\n",
       "      <td>7.00</td>\n",
       "      <td>9.10</td>\n",
       "      <td>12.0</td>\n",
       "      <td>112.0</td>\n",
       "    </tr>\n",
       "    <tr>\n",
       "      <td>balcony</td>\n",
       "      <td>12180.0</td>\n",
       "      <td>1.150082e+00</td>\n",
       "      <td>1.071300e+00</td>\n",
       "      <td>0.0</td>\n",
       "      <td>0.00</td>\n",
       "      <td>1.00</td>\n",
       "      <td>2.0</td>\n",
       "      <td>5.0</td>\n",
       "    </tr>\n",
       "    <tr>\n",
       "      <td>airports_nearest</td>\n",
       "      <td>18157.0</td>\n",
       "      <td>2.879367e+04</td>\n",
       "      <td>1.263088e+04</td>\n",
       "      <td>0.0</td>\n",
       "      <td>18585.00</td>\n",
       "      <td>26726.00</td>\n",
       "      <td>37273.0</td>\n",
       "      <td>84869.0</td>\n",
       "    </tr>\n",
       "    <tr>\n",
       "      <td>cityCenters_nearest</td>\n",
       "      <td>18180.0</td>\n",
       "      <td>1.419128e+04</td>\n",
       "      <td>8.608386e+03</td>\n",
       "      <td>181.0</td>\n",
       "      <td>9238.00</td>\n",
       "      <td>13098.50</td>\n",
       "      <td>16293.0</td>\n",
       "      <td>65968.0</td>\n",
       "    </tr>\n",
       "    <tr>\n",
       "      <td>parks_around3000</td>\n",
       "      <td>18181.0</td>\n",
       "      <td>6.114075e-01</td>\n",
       "      <td>8.020736e-01</td>\n",
       "      <td>0.0</td>\n",
       "      <td>0.00</td>\n",
       "      <td>0.00</td>\n",
       "      <td>1.0</td>\n",
       "      <td>3.0</td>\n",
       "    </tr>\n",
       "    <tr>\n",
       "      <td>parks_nearest</td>\n",
       "      <td>8079.0</td>\n",
       "      <td>4.908046e+02</td>\n",
       "      <td>3.423180e+02</td>\n",
       "      <td>1.0</td>\n",
       "      <td>288.00</td>\n",
       "      <td>455.00</td>\n",
       "      <td>612.0</td>\n",
       "      <td>3190.0</td>\n",
       "    </tr>\n",
       "    <tr>\n",
       "      <td>ponds_around3000</td>\n",
       "      <td>18181.0</td>\n",
       "      <td>7.702547e-01</td>\n",
       "      <td>9.383456e-01</td>\n",
       "      <td>0.0</td>\n",
       "      <td>0.00</td>\n",
       "      <td>1.00</td>\n",
       "      <td>1.0</td>\n",
       "      <td>3.0</td>\n",
       "    </tr>\n",
       "    <tr>\n",
       "      <td>ponds_nearest</td>\n",
       "      <td>9110.0</td>\n",
       "      <td>5.179809e+02</td>\n",
       "      <td>2.777206e+02</td>\n",
       "      <td>13.0</td>\n",
       "      <td>294.00</td>\n",
       "      <td>502.00</td>\n",
       "      <td>729.0</td>\n",
       "      <td>1344.0</td>\n",
       "    </tr>\n",
       "    <tr>\n",
       "      <td>days_exposition</td>\n",
       "      <td>20518.0</td>\n",
       "      <td>1.808886e+02</td>\n",
       "      <td>2.197280e+02</td>\n",
       "      <td>1.0</td>\n",
       "      <td>45.00</td>\n",
       "      <td>95.00</td>\n",
       "      <td>232.0</td>\n",
       "      <td>1580.0</td>\n",
       "    </tr>\n",
       "  </tbody>\n",
       "</table>\n",
       "</div>"
      ],
      "text/plain": [
       "                       count          mean           std      min         25%  \\\n",
       "total_images         23699.0  9.858475e+00  5.682529e+00      0.0        6.00   \n",
       "last_price           23699.0  6.541549e+06  1.088701e+07  12190.0  3400000.00   \n",
       "total_area           23699.0  6.034865e+01  3.565408e+01     12.0       40.00   \n",
       "rooms                23699.0  2.070636e+00  1.078405e+00      0.0        1.00   \n",
       "ceiling_height       14504.0  2.771499e+00  1.261056e+00      1.0        2.52   \n",
       "floors_total         23613.0  1.067382e+01  6.597173e+00      1.0        5.00   \n",
       "living_area          21796.0  3.445785e+01  2.203045e+01      2.0       18.60   \n",
       "floor                23699.0  5.892358e+00  4.885249e+00      1.0        2.00   \n",
       "kitchen_area         21421.0  1.056981e+01  5.905438e+00      1.3        7.00   \n",
       "balcony              12180.0  1.150082e+00  1.071300e+00      0.0        0.00   \n",
       "airports_nearest     18157.0  2.879367e+04  1.263088e+04      0.0    18585.00   \n",
       "cityCenters_nearest  18180.0  1.419128e+04  8.608386e+03    181.0     9238.00   \n",
       "parks_around3000     18181.0  6.114075e-01  8.020736e-01      0.0        0.00   \n",
       "parks_nearest         8079.0  4.908046e+02  3.423180e+02      1.0      288.00   \n",
       "ponds_around3000     18181.0  7.702547e-01  9.383456e-01      0.0        0.00   \n",
       "ponds_nearest         9110.0  5.179809e+02  2.777206e+02     13.0      294.00   \n",
       "days_exposition      20518.0  1.808886e+02  2.197280e+02      1.0       45.00   \n",
       "\n",
       "                            50%        75%          max  \n",
       "total_images               9.00       14.0         50.0  \n",
       "last_price           4650000.00  6800000.0  763000000.0  \n",
       "total_area                52.00       69.9        900.0  \n",
       "rooms                      2.00        3.0         19.0  \n",
       "ceiling_height             2.65        2.8        100.0  \n",
       "floors_total               9.00       16.0         60.0  \n",
       "living_area               30.00       42.3        409.7  \n",
       "floor                      4.00        8.0         33.0  \n",
       "kitchen_area               9.10       12.0        112.0  \n",
       "balcony                    1.00        2.0          5.0  \n",
       "airports_nearest       26726.00    37273.0      84869.0  \n",
       "cityCenters_nearest    13098.50    16293.0      65968.0  \n",
       "parks_around3000           0.00        1.0          3.0  \n",
       "parks_nearest            455.00      612.0       3190.0  \n",
       "ponds_around3000           1.00        1.0          3.0  \n",
       "ponds_nearest            502.00      729.0       1344.0  \n",
       "days_exposition           95.00      232.0       1580.0  "
      ]
     },
     "metadata": {},
     "output_type": "display_data"
    }
   ],
   "source": [
    "display(df.describe().T)"
   ]
  },
  {
   "cell_type": "code",
   "execution_count": 7,
   "metadata": {
    "scrolled": false
   },
   "outputs": [
    {
     "name": "stdout",
     "output_type": "stream",
     "text": [
      "<class 'pandas.core.frame.DataFrame'>\n",
      "RangeIndex: 23699 entries, 0 to 23698\n",
      "Data columns (total 22 columns):\n",
      "total_images            23699 non-null int64\n",
      "last_price              23699 non-null float64\n",
      "total_area              23699 non-null float64\n",
      "first_day_exposition    23699 non-null object\n",
      "rooms                   23699 non-null int64\n",
      "ceiling_height          14504 non-null float64\n",
      "floors_total            23613 non-null float64\n",
      "living_area             21796 non-null float64\n",
      "floor                   23699 non-null int64\n",
      "is_apartment            2775 non-null object\n",
      "studio                  23699 non-null bool\n",
      "open_plan               23699 non-null bool\n",
      "kitchen_area            21421 non-null float64\n",
      "balcony                 12180 non-null float64\n",
      "locality_name           23650 non-null object\n",
      "airports_nearest        18157 non-null float64\n",
      "cityCenters_nearest     18180 non-null float64\n",
      "parks_around3000        18181 non-null float64\n",
      "parks_nearest           8079 non-null float64\n",
      "ponds_around3000        18181 non-null float64\n",
      "ponds_nearest           9110 non-null float64\n",
      "days_exposition         20518 non-null float64\n",
      "dtypes: bool(2), float64(14), int64(3), object(3)\n",
      "memory usage: 8.1 MB\n"
     ]
    }
   ],
   "source": [
    "df.info(memory_usage='deep')"
   ]
  },
  {
   "cell_type": "markdown",
   "metadata": {},
   "source": [
    "### Вывод"
   ]
  },
  {
   "cell_type": "markdown",
   "metadata": {},
   "source": [
    "Описание данных\n",
    "1. airports_nearest — расстояние до ближайшего аэропорта в метрах (м)\n",
    "2. balcony — число балконов\n",
    "3. ceiling_height — высота потолков (м)\n",
    "4. cityCenters_nearest — расстояние до центра города (м)\n",
    "5. days_exposition — сколько дней было размещено объявление (от публикации до снятия)\n",
    "6. first_day_exposition — дата публикации\n",
    "7. floor — этаж\n",
    "8. floors_total — всего этажей в доме\n",
    "9. is_apartment — апартаменты (булев тип)\n",
    "10. kitchen_area — площадь кухни в квадратных метрах (м²)\n",
    "11. last_price — цена на момент снятия с публикации\n",
    "12. living_area — жилая площадь в квадратных метрах (м²)\n",
    "13. locality_name — название населённого пункта\n",
    "14. open_plan — свободная планировка (булев тип)\n",
    "15. parks_around3000 — число парков в радиусе 3 км\n",
    "16. parks_nearest — расстояние до ближайшего парка (м)\n",
    "17. ponds_around3000 — число водоёмов в радиусе 3 км\n",
    "18. ponds_nearest — расстояние до ближайшего водоёма (м)\n",
    "19. rooms — число комнат\n",
    "20. studio — квартира-студия (булев тип)\n",
    "21. total_area — площадь квартиры в квадратных метрах (м²)\n",
    "22. total_images — число фотографий квартиры в объявлении"
   ]
  },
  {
   "cell_type": "markdown",
   "metadata": {},
   "source": [
    "Предварительно можно утверждать, что, данных достаточно для ответа на поставленные вопросы. Но встречаются пропуски в данных, а в некоторых столбцах встречаются аномальные значения.\n",
    "\n",
    "Чтобы двигаться дальше, нужно устранить проблемы в данных."
   ]
  },
  {
   "cell_type": "markdown",
   "metadata": {},
   "source": [
    "## Предобработка данных"
   ]
  },
  {
   "cell_type": "markdown",
   "metadata": {},
   "source": [
    "**Обработка пропусков**"
   ]
  },
  {
   "cell_type": "code",
   "execution_count": 8,
   "metadata": {},
   "outputs": [],
   "source": [
    "#Пропущенные значения в столбце высота потолков заменим на медианные значения\n",
    "df['ceiling_height']=df['ceiling_height'].fillna(df['ceiling_height'].median())\n",
    "#Пропущенные значения в столбце число этажей заменим на средние значения\n",
    "df['floors_total']=df['floors_total'].fillna(df['floors_total'].mean())\n",
    "#Пропущенные значения в столбце число дней до снятии с публикации изменим на нули, так как выбор\n",
    "#среднего или медианного значения будет сильно влиять на результат поставленной задачи\n",
    "df['days_exposition']=df['days_exposition'].fillna(df['days_exposition'].fillna(0))\n",
    "#Пропущенные значения в столбце жилой площади на средние значения\n",
    "df['living_area']=df['living_area'].fillna(df['living_area'].mean())"
   ]
  },
  {
   "cell_type": "code",
   "execution_count": 9,
   "metadata": {},
   "outputs": [
    {
     "name": "stdout",
     "output_type": "stream",
     "text": [
      "[nan, False, True]\n"
     ]
    }
   ],
   "source": [
    "print(sorted(df['is_apartment'].unique()))"
   ]
  },
  {
   "cell_type": "code",
   "execution_count": 10,
   "metadata": {},
   "outputs": [],
   "source": [
    "df['is_apartment']=df['is_apartment'].fillna('unknown')\n",
    "df['kitchen_area']=df['kitchen_area'].fillna(df['kitchen_area'].median())\n",
    "df['balcony']=df['balcony'].fillna(0)\n",
    "#Есть пропуске в столбце с названием города, такие строки я решил удалить. Их всего 49, на результат не повлияет\n",
    "df.dropna(subset = ['locality_name'], inplace = True)\n",
    "df['airports_nearest']=df['airports_nearest'].fillna(df['airports_nearest'].median())\n",
    "#Пропущенные значения в столбце расстояние до центра изименю на максимальное значения для типа переменной int8=127 * 1000\n",
    "#Поясню: у меня будет стобец с расстоянием в км - его тип int8\n",
    "df['cityCenters_nearest']=df['cityCenters_nearest'].fillna(127000)\n",
    "#Изменим неизвестные расстояния дл парков и прудов на нули, чтобы при необходимости их легко можно было откинуть\n",
    "#при решении задачи\n",
    "df['parks_nearest']=df['parks_nearest'].fillna(0)\n",
    "df['parks_around3000']=df['parks_around3000'].fillna(0)\n",
    "df['ponds_nearest']=df['ponds_nearest'].fillna(0)\n",
    "df['ponds_around3000']=df['ponds_around3000'].fillna(0)\n"
   ]
  },
  {
   "cell_type": "code",
   "execution_count": 11,
   "metadata": {},
   "outputs": [],
   "source": [
    "# изменим типы данных и оптимизируем наш датафрейм\n",
    "df['total_images']=df['total_images'].astype('int8') \n",
    "df['last_price']=df['last_price'].astype('int32') \n",
    "df['days_exposition']=df['days_exposition'].astype('int32')\n",
    "df['total_area']=df['total_area'].astype('int16')\n",
    "df['rooms']=df['rooms'].astype('int16')\n",
    "df['ceiling_height']=df['ceiling_height'].astype('float16')\n",
    "df['floors_total']=df['floors_total'].astype('int8')\n",
    "df['living_area']=df['living_area'].astype('float32') \n",
    "df['floor']=df['floor'].astype('int8')\n",
    "df['kitchen_area']=df['kitchen_area'].astype('int8')\n",
    "df['balcony']=df['balcony'].astype('int8')\n",
    "df['airports_nearest']=df['airports_nearest'].astype('int32') \n",
    "df['cityCenters_nearest']=df['cityCenters_nearest'].astype('int32') \n",
    "df['airports_nearest']=df['airports_nearest'].astype('int32') \n",
    "df['parks_around3000']=df['parks_around3000'].astype('int16') \n",
    "df['parks_nearest']=df['parks_nearest'].astype('int16') \n",
    "df['ponds_around3000']=df['ponds_around3000'].astype('int16') \n",
    "df['ponds_nearest']=df['ponds_nearest'].astype('int16') \n",
    "\n",
    "df['locality_name']=df['locality_name'].astype('category')"
   ]
  },
  {
   "cell_type": "code",
   "execution_count": 12,
   "metadata": {},
   "outputs": [],
   "source": [
    "df['first_day_exposition'] = pd.to_datetime(df['first_day_exposition'], format='%Y-%m-%dT%H:%M:%S')"
   ]
  },
  {
   "cell_type": "code",
   "execution_count": 13,
   "metadata": {},
   "outputs": [
    {
     "name": "stdout",
     "output_type": "stream",
     "text": [
      "<class 'pandas.core.frame.DataFrame'>\n",
      "Int64Index: 23650 entries, 0 to 23698\n",
      "Data columns (total 22 columns):\n",
      "total_images            23650 non-null int8\n",
      "last_price              23650 non-null int32\n",
      "total_area              23650 non-null int16\n",
      "first_day_exposition    23650 non-null datetime64[ns]\n",
      "rooms                   23650 non-null int16\n",
      "ceiling_height          23650 non-null float16\n",
      "floors_total            23650 non-null int8\n",
      "living_area             23650 non-null float32\n",
      "floor                   23650 non-null int8\n",
      "is_apartment            23650 non-null object\n",
      "studio                  23650 non-null bool\n",
      "open_plan               23650 non-null bool\n",
      "kitchen_area            23650 non-null int8\n",
      "balcony                 23650 non-null int8\n",
      "locality_name           23650 non-null category\n",
      "airports_nearest        23650 non-null int32\n",
      "cityCenters_nearest     23650 non-null int32\n",
      "parks_around3000        23650 non-null int16\n",
      "parks_nearest           23650 non-null int16\n",
      "ponds_around3000        23650 non-null int16\n",
      "ponds_nearest           23650 non-null int16\n",
      "days_exposition         23650 non-null int32\n",
      "dtypes: bool(2), category(1), datetime64[ns](1), float16(1), float32(1), int16(6), int32(4), int8(5), object(1)\n",
      "memory usage: 2.8 MB\n"
     ]
    }
   ],
   "source": [
    "df.info(memory_usage='deep')"
   ]
  },
  {
   "cell_type": "markdown",
   "metadata": {},
   "source": [
    "Проверим столбец locality_name на наличие дубликатов"
   ]
  },
  {
   "cell_type": "code",
   "execution_count": 14,
   "metadata": {},
   "outputs": [
    {
     "name": "stdout",
     "output_type": "stream",
     "text": [
      "[Санкт-Петербург, посёлок Шушары, городской посёлок Янино-1, посёлок Парголово, посёлок Мурино, ..., деревня Нижняя, коттеджный посёлок Лесное, деревня Тихковицы, деревня Борисова Грива, посёлок Дзержинского]\n",
      "Length: 364\n",
      "Categories (364, object): [Санкт-Петербург, посёлок Шушары, городской посёлок Янино-1, посёлок Парголово, ..., коттеджный посёлок Лесное, деревня Тихковицы, деревня Борисова Грива, посёлок Дзержинского]\n"
     ]
    }
   ],
   "source": [
    "print(df['locality_name'].unique())"
   ]
  },
  {
   "cell_type": "code",
   "execution_count": 15,
   "metadata": {},
   "outputs": [
    {
     "name": "stdout",
     "output_type": "stream",
     "text": [
      "364\n"
     ]
    }
   ],
   "source": [
    "df['locality_name']=df['locality_name'].str.lower()\n",
    "print(df['locality_name'].nunique())"
   ]
  },
  {
   "cell_type": "code",
   "execution_count": 16,
   "metadata": {},
   "outputs": [],
   "source": [
    "wordlist = ['посёлок','поселок','городской','городского','типа','деревня']\n",
    "\n",
    "def remove_type(x):\n",
    "    '''Функция возвращает строку, удаляя из нее все слова, встречающиеся в проверочном списке'''\n",
    "    a = x.split()\n",
    "    temp = a[:]\n",
    "    for word in temp: \n",
    "        if word in wordlist: \n",
    "            a.remove(word)\n",
    "    return \" \".join(a)\n",
    "df.loc[:,'locality_name'] = df.loc[:,'locality_name'].map(lambda x: remove_type(x))"
   ]
  },
  {
   "cell_type": "code",
   "execution_count": 17,
   "metadata": {},
   "outputs": [
    {
     "name": "stdout",
     "output_type": "stream",
     "text": [
      "['санкт-петербург' 'шушары' 'янино-1' 'парголово' 'мурино' 'ломоносов'\n",
      " 'сертолово' 'петергоф' 'пушкин' 'кудрово' 'коммунар' 'колпино'\n",
      " 'красный бор' 'гатчина' 'фёдоровское' 'выборг' 'кронштадт' 'кировск'\n",
      " 'новое девяткино' 'металлострой' 'лебяжье' 'сиверский' 'молодцово'\n",
      " 'кузьмоловский' 'садовое товарищество новая ропша' 'павловск' 'пикколово'\n",
      " 'всеволожск' 'волхов' 'кингисепп' 'приозерск' 'сестрорецк' 'куттузи'\n",
      " 'аннино' 'ефимовский' 'плодовое' 'заклинье' 'торковичи' 'первомайское'\n",
      " 'красное село' 'понтонный' 'сясьстрой' 'старая' 'лесколово' 'новый свет'\n",
      " 'сланцы' 'село путилово' 'ивангород' 'шлиссельбург' 'никольское'\n",
      " 'зеленогорск' 'сосновый бор' 'оржицы' 'кальтино' 'романовка' 'бугры'\n",
      " 'рощино' 'кириши' 'луга' 'волосово' 'отрадное' 'село павлово' 'оредеж'\n",
      " 'село копорье' 'молодёжное' 'тихвин' 'победа' 'нурма' 'синявино' 'тосно'\n",
      " 'стрельна' 'бокситогорск' 'александровская' 'лопухинка' 'пикалёво'\n",
      " 'терволово' 'советский' 'подпорожье' 'петровское' 'токсово' 'сельцо'\n",
      " 'вырица' 'кипень' 'келози' 'вартемяги' 'тельмана' 'севастьяново'\n",
      " 'большая ижора' 'павлово' 'агалатово' 'новогорелово' 'лесогорский'\n",
      " 'лаголово' 'цвелодубово' 'рахья' 'белогорка' 'заводской' 'новоселье'\n",
      " 'большие колпаны' 'горбунки' 'батово' 'заневка' 'иссад' 'приморск'\n",
      " 'мистолово' 'новая ладога' 'зимитицы' 'барышево' 'разметелево'\n",
      " 'имени свердлова' 'пеники' 'рябово' 'пудомяги' 'станции корнево' 'низино'\n",
      " 'бегуницы' 'поляны' 'мга' 'елизаветино' 'кузнечное' 'колтуши'\n",
      " 'запорожское' 'гостилицы' 'малое карлино' 'мичуринское' 'имени морозова'\n",
      " 'песочный' 'сосново' 'аро' 'ильичёво' 'тайцы' 'малое верево' 'извара'\n",
      " 'станции вещево' 'село паша' 'калитино' 'ульяновка' 'чудской бор'\n",
      " 'дубровка' 'мины' 'войсковицы' 'коркино' 'ропша' 'приладожский' 'щеглово'\n",
      " 'гаврилово' 'лодейное поле' 'рабитицы' 'никольский' 'кузьмолово'\n",
      " 'малые колпаны' 'петро-славянка' 'назия' 'репино' 'углово'\n",
      " 'старая малукса' 'садовое товарищество рахья' 'меньково'\n",
      " 'старые бегуницы' 'сапёрный' 'семрино' 'глажево' 'кобринское' 'гарболово'\n",
      " 'юкки' 'станции приветнинское' 'мануйлово' 'пчева' 'цвылёво' 'мельниково'\n",
      " 'пудость' 'усть-луга' 'светогорск' 'любань' 'селезнёво' 'каменногорск'\n",
      " 'кривко' 'глебычево' 'парицы' 'жилпосёлок' 'войскорово' 'село никольское'\n",
      " 'стеклянный' 'важины' 'мыза-ивановка' 'село русско-высоцкое' 'форносово'\n",
      " 'село старая ладога' 'житково' 'виллози' 'лампово' 'шпаньково' 'лаврики'\n",
      " 'сумино' 'возрождение' 'старосиверская' 'кикерино' 'старое хинколово'\n",
      " 'пригородный' 'торфяное' 'будогощь' 'суходолье' 'красная долина'\n",
      " 'хапо-ое' 'дружная горка' 'лисий нос' 'яльгелево' 'село рождествено'\n",
      " 'старополье' 'левашово' 'сяськелево' 'камышовка'\n",
      " 'садоводческое некоммерческое товарищество лесная поляна' 'хязельки'\n",
      " 'жилгородок' 'ялгино' 'новый учхоз' 'гончарово' 'почап' 'сапёрное'\n",
      " 'платформа 69-й километр' 'каложицы' 'фалилеево' 'пельгора' 'торошковичи'\n",
      " 'белоостров' 'алексеевка' 'серебрянский' 'лукаши' 'тарасово'\n",
      " 'кингисеппский' 'при железнодорожной станции вещево' 'ушаки' 'котлы'\n",
      " 'сижно' 'торосово' 'форт красная горка' 'новолисино' 'станции громово'\n",
      " 'глинка' 'старая пустошь' 'коммунары' 'починок' 'вознесенье' 'разбегаево'\n",
      " 'гладкое' 'при железнодорожной станции приветнинское' 'тёсово-4' 'бор'\n",
      " 'коробицыно' 'большая вруда' 'курковицы' 'кобралово' 'суоранда'\n",
      " 'кондратьево' 'коттеджный счастье' 'реброво' 'тойворово' 'семиозерье'\n",
      " 'лесное' 'совхозный' 'ленинское' 'суйда' 'нижние осельки' 'станции свирь'\n",
      " 'перово' 'высоцк' 'село шум' 'котельский' 'станции лужайка'\n",
      " 'большая пустомержа' 'красносельское' 'вахнова кара' 'пижма'\n",
      " 'коттеджный кивеннапа север' 'ромашки' 'каськово' 'куровицы' 'плоское'\n",
      " 'кирпичное' 'ям-тесово' 'раздолье' 'терпилицы' 'шугозеро' 'ваганово'\n",
      " 'пушное' 'садовое товарищество садко' 'усть-ижора' 'выскатка'\n",
      " 'свирьстрой' 'громово' 'кисельня' 'трубников бор' 'высокоключевой'\n",
      " 'садовое товарищество приладожский' 'пансионат зелёный бор' 'ненимяки'\n",
      " 'снегирёвка' 'рапполово' 'пустынка' 'большой сабск' 'русско' 'лупполово'\n",
      " 'большое рейзино' 'малая романовка' 'дружноселье' 'пчевжа' 'володарское'\n",
      " 'нижняя' 'коттеджный лесное' 'тихковицы' 'борисова грива' 'дзержинского']\n"
     ]
    }
   ],
   "source": [
    "print(df['locality_name'].unique())"
   ]
  },
  {
   "cell_type": "code",
   "execution_count": 18,
   "metadata": {},
   "outputs": [
    {
     "data": {
      "text/html": [
       "<div>\n",
       "<style scoped>\n",
       "    .dataframe tbody tr th:only-of-type {\n",
       "        vertical-align: middle;\n",
       "    }\n",
       "\n",
       "    .dataframe tbody tr th {\n",
       "        vertical-align: top;\n",
       "    }\n",
       "\n",
       "    .dataframe thead th {\n",
       "        text-align: right;\n",
       "    }\n",
       "</style>\n",
       "<table border=\"1\" class=\"dataframe\">\n",
       "  <thead>\n",
       "    <tr style=\"text-align: right;\">\n",
       "      <th></th>\n",
       "      <th>total_images</th>\n",
       "      <th>last_price</th>\n",
       "      <th>total_area</th>\n",
       "      <th>first_day_exposition</th>\n",
       "      <th>rooms</th>\n",
       "      <th>ceiling_height</th>\n",
       "      <th>floors_total</th>\n",
       "      <th>living_area</th>\n",
       "      <th>floor</th>\n",
       "      <th>is_apartment</th>\n",
       "      <th>...</th>\n",
       "      <th>kitchen_area</th>\n",
       "      <th>balcony</th>\n",
       "      <th>locality_name</th>\n",
       "      <th>airports_nearest</th>\n",
       "      <th>cityCenters_nearest</th>\n",
       "      <th>parks_around3000</th>\n",
       "      <th>parks_nearest</th>\n",
       "      <th>ponds_around3000</th>\n",
       "      <th>ponds_nearest</th>\n",
       "      <th>days_exposition</th>\n",
       "    </tr>\n",
       "  </thead>\n",
       "  <tbody>\n",
       "    <tr>\n",
       "      <td>0</td>\n",
       "      <td>20</td>\n",
       "      <td>13000000</td>\n",
       "      <td>108</td>\n",
       "      <td>2019-03-07</td>\n",
       "      <td>3</td>\n",
       "      <td>2.699219</td>\n",
       "      <td>16</td>\n",
       "      <td>51.000000</td>\n",
       "      <td>8</td>\n",
       "      <td>unknown</td>\n",
       "      <td>...</td>\n",
       "      <td>25</td>\n",
       "      <td>0</td>\n",
       "      <td>санкт-петербург</td>\n",
       "      <td>18863</td>\n",
       "      <td>16028</td>\n",
       "      <td>1</td>\n",
       "      <td>482</td>\n",
       "      <td>2</td>\n",
       "      <td>755</td>\n",
       "      <td>0</td>\n",
       "    </tr>\n",
       "    <tr>\n",
       "      <td>1</td>\n",
       "      <td>7</td>\n",
       "      <td>3350000</td>\n",
       "      <td>40</td>\n",
       "      <td>2018-12-04</td>\n",
       "      <td>1</td>\n",
       "      <td>2.650391</td>\n",
       "      <td>11</td>\n",
       "      <td>18.600000</td>\n",
       "      <td>1</td>\n",
       "      <td>unknown</td>\n",
       "      <td>...</td>\n",
       "      <td>11</td>\n",
       "      <td>2</td>\n",
       "      <td>шушары</td>\n",
       "      <td>12817</td>\n",
       "      <td>18603</td>\n",
       "      <td>0</td>\n",
       "      <td>0</td>\n",
       "      <td>0</td>\n",
       "      <td>0</td>\n",
       "      <td>81</td>\n",
       "    </tr>\n",
       "    <tr>\n",
       "      <td>2</td>\n",
       "      <td>10</td>\n",
       "      <td>5196000</td>\n",
       "      <td>56</td>\n",
       "      <td>2015-08-20</td>\n",
       "      <td>2</td>\n",
       "      <td>2.650391</td>\n",
       "      <td>5</td>\n",
       "      <td>34.299999</td>\n",
       "      <td>4</td>\n",
       "      <td>unknown</td>\n",
       "      <td>...</td>\n",
       "      <td>8</td>\n",
       "      <td>0</td>\n",
       "      <td>санкт-петербург</td>\n",
       "      <td>21741</td>\n",
       "      <td>13933</td>\n",
       "      <td>1</td>\n",
       "      <td>90</td>\n",
       "      <td>2</td>\n",
       "      <td>574</td>\n",
       "      <td>558</td>\n",
       "    </tr>\n",
       "    <tr>\n",
       "      <td>3</td>\n",
       "      <td>0</td>\n",
       "      <td>64900000</td>\n",
       "      <td>159</td>\n",
       "      <td>2015-07-24</td>\n",
       "      <td>3</td>\n",
       "      <td>2.650391</td>\n",
       "      <td>14</td>\n",
       "      <td>34.457851</td>\n",
       "      <td>9</td>\n",
       "      <td>unknown</td>\n",
       "      <td>...</td>\n",
       "      <td>9</td>\n",
       "      <td>0</td>\n",
       "      <td>санкт-петербург</td>\n",
       "      <td>28098</td>\n",
       "      <td>6800</td>\n",
       "      <td>2</td>\n",
       "      <td>84</td>\n",
       "      <td>3</td>\n",
       "      <td>234</td>\n",
       "      <td>424</td>\n",
       "    </tr>\n",
       "    <tr>\n",
       "      <td>4</td>\n",
       "      <td>2</td>\n",
       "      <td>10000000</td>\n",
       "      <td>100</td>\n",
       "      <td>2018-06-19</td>\n",
       "      <td>2</td>\n",
       "      <td>3.029297</td>\n",
       "      <td>14</td>\n",
       "      <td>32.000000</td>\n",
       "      <td>13</td>\n",
       "      <td>unknown</td>\n",
       "      <td>...</td>\n",
       "      <td>41</td>\n",
       "      <td>0</td>\n",
       "      <td>санкт-петербург</td>\n",
       "      <td>31856</td>\n",
       "      <td>8098</td>\n",
       "      <td>2</td>\n",
       "      <td>112</td>\n",
       "      <td>1</td>\n",
       "      <td>48</td>\n",
       "      <td>121</td>\n",
       "    </tr>\n",
       "  </tbody>\n",
       "</table>\n",
       "<p>5 rows × 22 columns</p>\n",
       "</div>"
      ],
      "text/plain": [
       "   total_images  last_price  total_area first_day_exposition  rooms  \\\n",
       "0            20    13000000         108           2019-03-07      3   \n",
       "1             7     3350000          40           2018-12-04      1   \n",
       "2            10     5196000          56           2015-08-20      2   \n",
       "3             0    64900000         159           2015-07-24      3   \n",
       "4             2    10000000         100           2018-06-19      2   \n",
       "\n",
       "   ceiling_height  floors_total  living_area  floor is_apartment  ...  \\\n",
       "0        2.699219            16    51.000000      8      unknown  ...   \n",
       "1        2.650391            11    18.600000      1      unknown  ...   \n",
       "2        2.650391             5    34.299999      4      unknown  ...   \n",
       "3        2.650391            14    34.457851      9      unknown  ...   \n",
       "4        3.029297            14    32.000000     13      unknown  ...   \n",
       "\n",
       "   kitchen_area  balcony    locality_name  airports_nearest  \\\n",
       "0            25        0  санкт-петербург             18863   \n",
       "1            11        2           шушары             12817   \n",
       "2             8        0  санкт-петербург             21741   \n",
       "3             9        0  санкт-петербург             28098   \n",
       "4            41        0  санкт-петербург             31856   \n",
       "\n",
       "  cityCenters_nearest  parks_around3000  parks_nearest  ponds_around3000  \\\n",
       "0               16028                 1            482                 2   \n",
       "1               18603                 0              0                 0   \n",
       "2               13933                 1             90                 2   \n",
       "3                6800                 2             84                 3   \n",
       "4                8098                 2            112                 1   \n",
       "\n",
       "   ponds_nearest  days_exposition  \n",
       "0            755                0  \n",
       "1              0               81  \n",
       "2            574              558  \n",
       "3            234              424  \n",
       "4             48              121  \n",
       "\n",
       "[5 rows x 22 columns]"
      ]
     },
     "metadata": {},
     "output_type": "display_data"
    }
   ],
   "source": [
    "display(df.head())"
   ]
  },
  {
   "cell_type": "markdown",
   "metadata": {},
   "source": [
    "### Вывод"
   ]
  },
  {
   "cell_type": "markdown",
   "metadata": {},
   "source": [
    "Размер нашего датафрейма составил 2.8 мб вместо исходных 8.1. Все пропуски обработаны. Можно приступить к следующему этапу."
   ]
  },
  {
   "cell_type": "markdown",
   "metadata": {},
   "source": [
    "## Расчёты и добавление результатов в таблицу"
   ]
  },
  {
   "cell_type": "markdown",
   "metadata": {},
   "source": [
    "Посчитайте и добавьте в таблицу\n",
    "1. цену квадратного метра;\n",
    "2. день недели, месяц и год публикации объявления;\n",
    "3. этаж квартиры; варианты — первый, последний, другой;\n",
    "4. соотношение жилой и общей площади, а также отношение площади кухни к общей."
   ]
  },
  {
   "cell_type": "code",
   "execution_count": 19,
   "metadata": {},
   "outputs": [],
   "source": [
    "#Цена квадратного метра\n",
    "df['square_price']=df['last_price']/df['total_area']"
   ]
  },
  {
   "cell_type": "code",
   "execution_count": 20,
   "metadata": {},
   "outputs": [],
   "source": [
    "#Номер дня недели первого размещения объявления\n",
    "df['weekday'] = df['first_day_exposition'].dt.weekday"
   ]
  },
  {
   "cell_type": "code",
   "execution_count": 21,
   "metadata": {},
   "outputs": [],
   "source": [
    "def weekday(x):\n",
    "    '''Функция возвращает название дня недели'''\n",
    "    if x==0:\n",
    "        x= 'Понедельник'\n",
    "        return x\n",
    "    elif x==1:\n",
    "        x='Вторник'\n",
    "        return x\n",
    "    elif x==2:\n",
    "        x= 'Среда'\n",
    "        return x\n",
    "    elif x==3:\n",
    "        x= 'Четверг'\n",
    "        return x\n",
    "    elif x==4:\n",
    "        x= 'Пятница'\n",
    "        return x\n",
    "    elif x==5:\n",
    "        x= 'Суббота'\n",
    "        return x\n",
    "    else:\n",
    "        x= 'Воскресенье'\n",
    "        return x "
   ]
  },
  {
   "cell_type": "code",
   "execution_count": 22,
   "metadata": {},
   "outputs": [],
   "source": [
    "#Изменим номера дней недели на их названия и изменим тип стобца\n",
    "df.loc[:,'weekday'] = df.loc[:,'weekday'].map(lambda x: weekday(x))\n",
    "df['weekday']=df['weekday'].astype('category')"
   ]
  },
  {
   "cell_type": "code",
   "execution_count": 23,
   "metadata": {},
   "outputs": [],
   "source": [
    "#Добавим столбцы с месяцем и годом объявления, и изменим тип\n",
    "df['weekday_num'] = df['first_day_exposition'].dt.weekday\n",
    "df['month'] = df['first_day_exposition'].dt.month\n",
    "df['year'] = df['first_day_exposition'].dt.year\n",
    "df['month']=df['month'].astype('int8')\n",
    "df['year']=df['year'].astype('int16')"
   ]
  },
  {
   "cell_type": "code",
   "execution_count": 24,
   "metadata": {},
   "outputs": [],
   "source": [
    "def category_floor(floor,floors_total):\n",
    "    '''Функция возвращает категорию этажа'''\n",
    "    if floor == floors_total:\n",
    "        return 'Последний'\n",
    "    if floor == 1:\n",
    "        return 'Первый'\n",
    "    else:\n",
    "        return 'Другой'"
   ]
  },
  {
   "cell_type": "code",
   "execution_count": 25,
   "metadata": {},
   "outputs": [],
   "source": [
    "#Добавим столбец с категорией этажа\n",
    "df['category_floor'] = df.apply(lambda x: category_floor(x.floor, x.floors_total), axis=1)"
   ]
  },
  {
   "cell_type": "code",
   "execution_count": 26,
   "metadata": {},
   "outputs": [],
   "source": [
    "#Соотношение жилой и общей площади\n",
    "df['ratio_living'] = df['living_area'] / df['total_area']\n",
    "#Отношение площади кухни к общей\n",
    "df['ratio_kitchen'] = df['kitchen_area'] / df['total_area']"
   ]
  },
  {
   "cell_type": "code",
   "execution_count": 27,
   "metadata": {},
   "outputs": [
    {
     "data": {
      "text/html": [
       "<div>\n",
       "<style scoped>\n",
       "    .dataframe tbody tr th:only-of-type {\n",
       "        vertical-align: middle;\n",
       "    }\n",
       "\n",
       "    .dataframe tbody tr th {\n",
       "        vertical-align: top;\n",
       "    }\n",
       "\n",
       "    .dataframe thead th {\n",
       "        text-align: right;\n",
       "    }\n",
       "</style>\n",
       "<table border=\"1\" class=\"dataframe\">\n",
       "  <thead>\n",
       "    <tr style=\"text-align: right;\">\n",
       "      <th></th>\n",
       "      <th>total_images</th>\n",
       "      <th>last_price</th>\n",
       "      <th>total_area</th>\n",
       "      <th>first_day_exposition</th>\n",
       "      <th>rooms</th>\n",
       "      <th>ceiling_height</th>\n",
       "      <th>floors_total</th>\n",
       "      <th>living_area</th>\n",
       "      <th>floor</th>\n",
       "      <th>is_apartment</th>\n",
       "      <th>...</th>\n",
       "      <th>ponds_nearest</th>\n",
       "      <th>days_exposition</th>\n",
       "      <th>square_price</th>\n",
       "      <th>weekday</th>\n",
       "      <th>weekday_num</th>\n",
       "      <th>month</th>\n",
       "      <th>year</th>\n",
       "      <th>category_floor</th>\n",
       "      <th>ratio_living</th>\n",
       "      <th>ratio_kitchen</th>\n",
       "    </tr>\n",
       "  </thead>\n",
       "  <tbody>\n",
       "    <tr>\n",
       "      <td>0</td>\n",
       "      <td>20</td>\n",
       "      <td>13000000</td>\n",
       "      <td>108</td>\n",
       "      <td>2019-03-07</td>\n",
       "      <td>3</td>\n",
       "      <td>2.699219</td>\n",
       "      <td>16</td>\n",
       "      <td>51.000000</td>\n",
       "      <td>8</td>\n",
       "      <td>unknown</td>\n",
       "      <td>...</td>\n",
       "      <td>755</td>\n",
       "      <td>0</td>\n",
       "      <td>120370.370370</td>\n",
       "      <td>Четверг</td>\n",
       "      <td>3</td>\n",
       "      <td>3</td>\n",
       "      <td>2019</td>\n",
       "      <td>Другой</td>\n",
       "      <td>0.472222</td>\n",
       "      <td>0.231481</td>\n",
       "    </tr>\n",
       "    <tr>\n",
       "      <td>1</td>\n",
       "      <td>7</td>\n",
       "      <td>3350000</td>\n",
       "      <td>40</td>\n",
       "      <td>2018-12-04</td>\n",
       "      <td>1</td>\n",
       "      <td>2.650391</td>\n",
       "      <td>11</td>\n",
       "      <td>18.600000</td>\n",
       "      <td>1</td>\n",
       "      <td>unknown</td>\n",
       "      <td>...</td>\n",
       "      <td>0</td>\n",
       "      <td>81</td>\n",
       "      <td>83750.000000</td>\n",
       "      <td>Вторник</td>\n",
       "      <td>1</td>\n",
       "      <td>12</td>\n",
       "      <td>2018</td>\n",
       "      <td>Первый</td>\n",
       "      <td>0.465000</td>\n",
       "      <td>0.275000</td>\n",
       "    </tr>\n",
       "    <tr>\n",
       "      <td>2</td>\n",
       "      <td>10</td>\n",
       "      <td>5196000</td>\n",
       "      <td>56</td>\n",
       "      <td>2015-08-20</td>\n",
       "      <td>2</td>\n",
       "      <td>2.650391</td>\n",
       "      <td>5</td>\n",
       "      <td>34.299999</td>\n",
       "      <td>4</td>\n",
       "      <td>unknown</td>\n",
       "      <td>...</td>\n",
       "      <td>574</td>\n",
       "      <td>558</td>\n",
       "      <td>92785.714286</td>\n",
       "      <td>Четверг</td>\n",
       "      <td>3</td>\n",
       "      <td>8</td>\n",
       "      <td>2015</td>\n",
       "      <td>Другой</td>\n",
       "      <td>0.612500</td>\n",
       "      <td>0.142857</td>\n",
       "    </tr>\n",
       "    <tr>\n",
       "      <td>3</td>\n",
       "      <td>0</td>\n",
       "      <td>64900000</td>\n",
       "      <td>159</td>\n",
       "      <td>2015-07-24</td>\n",
       "      <td>3</td>\n",
       "      <td>2.650391</td>\n",
       "      <td>14</td>\n",
       "      <td>34.457851</td>\n",
       "      <td>9</td>\n",
       "      <td>unknown</td>\n",
       "      <td>...</td>\n",
       "      <td>234</td>\n",
       "      <td>424</td>\n",
       "      <td>408176.100629</td>\n",
       "      <td>Пятница</td>\n",
       "      <td>4</td>\n",
       "      <td>7</td>\n",
       "      <td>2015</td>\n",
       "      <td>Другой</td>\n",
       "      <td>0.216716</td>\n",
       "      <td>0.056604</td>\n",
       "    </tr>\n",
       "    <tr>\n",
       "      <td>4</td>\n",
       "      <td>2</td>\n",
       "      <td>10000000</td>\n",
       "      <td>100</td>\n",
       "      <td>2018-06-19</td>\n",
       "      <td>2</td>\n",
       "      <td>3.029297</td>\n",
       "      <td>14</td>\n",
       "      <td>32.000000</td>\n",
       "      <td>13</td>\n",
       "      <td>unknown</td>\n",
       "      <td>...</td>\n",
       "      <td>48</td>\n",
       "      <td>121</td>\n",
       "      <td>100000.000000</td>\n",
       "      <td>Вторник</td>\n",
       "      <td>1</td>\n",
       "      <td>6</td>\n",
       "      <td>2018</td>\n",
       "      <td>Другой</td>\n",
       "      <td>0.320000</td>\n",
       "      <td>0.410000</td>\n",
       "    </tr>\n",
       "  </tbody>\n",
       "</table>\n",
       "<p>5 rows × 30 columns</p>\n",
       "</div>"
      ],
      "text/plain": [
       "   total_images  last_price  total_area first_day_exposition  rooms  \\\n",
       "0            20    13000000         108           2019-03-07      3   \n",
       "1             7     3350000          40           2018-12-04      1   \n",
       "2            10     5196000          56           2015-08-20      2   \n",
       "3             0    64900000         159           2015-07-24      3   \n",
       "4             2    10000000         100           2018-06-19      2   \n",
       "\n",
       "   ceiling_height  floors_total  living_area  floor is_apartment  ...  \\\n",
       "0        2.699219            16    51.000000      8      unknown  ...   \n",
       "1        2.650391            11    18.600000      1      unknown  ...   \n",
       "2        2.650391             5    34.299999      4      unknown  ...   \n",
       "3        2.650391            14    34.457851      9      unknown  ...   \n",
       "4        3.029297            14    32.000000     13      unknown  ...   \n",
       "\n",
       "   ponds_nearest  days_exposition   square_price  weekday weekday_num  month  \\\n",
       "0            755                0  120370.370370  Четверг           3      3   \n",
       "1              0               81   83750.000000  Вторник           1     12   \n",
       "2            574              558   92785.714286  Четверг           3      8   \n",
       "3            234              424  408176.100629  Пятница           4      7   \n",
       "4             48              121  100000.000000  Вторник           1      6   \n",
       "\n",
       "   year  category_floor  ratio_living  ratio_kitchen  \n",
       "0  2019          Другой      0.472222       0.231481  \n",
       "1  2018          Первый      0.465000       0.275000  \n",
       "2  2015          Другой      0.612500       0.142857  \n",
       "3  2015          Другой      0.216716       0.056604  \n",
       "4  2018          Другой      0.320000       0.410000  \n",
       "\n",
       "[5 rows x 30 columns]"
      ]
     },
     "metadata": {},
     "output_type": "display_data"
    }
   ],
   "source": [
    "display(df.head())"
   ]
  },
  {
   "cell_type": "markdown",
   "metadata": {},
   "source": [
    "### Вывод"
   ]
  },
  {
   "cell_type": "markdown",
   "metadata": {},
   "source": [
    "Мы добавили к датафрейму недостающие данные, необходимые для решения поставленных задач."
   ]
  },
  {
   "cell_type": "markdown",
   "metadata": {},
   "source": [
    "## Исследовательский анализ данных"
   ]
  },
  {
   "cell_type": "markdown",
   "metadata": {},
   "source": [
    "**4.1** Изучите следующие параметры: площадь, цена, число комнат, высота потолков. Постройте гистограммы для каждого параметра."
   ]
  },
  {
   "cell_type": "code",
   "execution_count": 28,
   "metadata": {},
   "outputs": [
    {
     "data": {
      "image/png": "[encoded data removed]",
      "text/plain": [
       "<Figure size 432x288 with 1 Axes>"
      ]
     },
     "metadata": {
      "needs_background": "light"
     },
     "output_type": "display_data"
    },
    {
     "data": {
      "text/plain": [
       "count    23650.000000\n",
       "mean        60.100930\n",
       "std         35.673519\n",
       "min         12.000000\n",
       "25%         40.000000\n",
       "50%         52.000000\n",
       "75%         69.000000\n",
       "max        900.000000\n",
       "Name: total_area, dtype: float64"
      ]
     },
     "execution_count": 28,
     "metadata": {},
     "output_type": "execute_result"
    }
   ],
   "source": [
    "#изучим общую площадь\n",
    "df['total_area'].hist(bins=100, range=(0,1000))\n",
    "plt.show()\n",
    "df['total_area'].describe()"
   ]
  },
  {
   "cell_type": "code",
   "execution_count": 29,
   "metadata": {},
   "outputs": [
    {
     "data": {
      "image/png": "[encoded data removed]",
      "text/plain": [
       "<Figure size 432x288 with 1 Axes>"
      ]
     },
     "metadata": {
      "needs_background": "light"
     },
     "output_type": "display_data"
    },
    {
     "data": {
      "text/plain": [
       "count    23650.000000\n",
       "mean         2.070106\n",
       "std          1.078620\n",
       "min          0.000000\n",
       "25%          1.000000\n",
       "50%          2.000000\n",
       "75%          3.000000\n",
       "max         19.000000\n",
       "Name: rooms, dtype: float64"
      ]
     },
     "execution_count": 29,
     "metadata": {},
     "output_type": "execute_result"
    }
   ],
   "source": [
    "#изучим количество комнат\n",
    "df['rooms'].hist(bins=30)\n",
    "plt.show()\n",
    "df['rooms'].describe()"
   ]
  },
  {
   "cell_type": "code",
   "execution_count": 30,
   "metadata": {},
   "outputs": [
    {
     "data": {
      "image/png": "[encoded data removed]",
      "text/plain": [
       "<Figure size 432x288 with 1 Axes>"
      ]
     },
     "metadata": {
      "needs_background": "light"
     },
     "output_type": "display_data"
    },
    {
     "data": {
      "text/plain": [
       "count    2.365000e+04\n",
       "mean     6.541127e+06\n",
       "std      1.089640e+07\n",
       "min      1.219000e+04\n",
       "25%      3.400000e+06\n",
       "50%      4.650000e+06\n",
       "75%      6.799000e+06\n",
       "max      7.630000e+08\n",
       "Name: last_price, dtype: float64"
      ]
     },
     "execution_count": 30,
     "metadata": {},
     "output_type": "execute_result"
    }
   ],
   "source": [
    "#изучим цену\n",
    "df.plot(y = 'last_price', kind = 'hist', bins = 100, range = (0,15000000))\n",
    "plt.show()\n",
    "df['last_price'].describe()"
   ]
  },
  {
   "cell_type": "code",
   "execution_count": 31,
   "metadata": {},
   "outputs": [
    {
     "data": {
      "image/png": "[encoded data removed]",
      "text/plain": [
       "<Figure size 432x288 with 1 Axes>"
      ]
     },
     "metadata": {
      "needs_background": "light"
     },
     "output_type": "display_data"
    },
    {
     "data": {
      "text/plain": [
       "count    23650.000000\n",
       "mean         2.724609\n",
       "std          0.989258\n",
       "min          1.000000\n",
       "25%          2.599609\n",
       "50%          2.650391\n",
       "75%          2.699219\n",
       "max        100.000000\n",
       "Name: ceiling_height, dtype: float64"
      ]
     },
     "execution_count": 31,
     "metadata": {},
     "output_type": "execute_result"
    }
   ],
   "source": [
    "#изучим высоту потолков\n",
    "df['ceiling_height'].hist(bins=50, range=(1,10))\n",
    "plt.show()\n",
    "df['ceiling_height'].describe()"
   ]
  },
  {
   "cell_type": "markdown",
   "metadata": {},
   "source": [
    "### Вывод"
   ]
  },
  {
   "cell_type": "markdown",
   "metadata": {},
   "source": [
    "1. Общая плозадь недвижимость варьируется от 12 до 900 кв.м. Общее распределение имеет нормальный вид. Среднее значение - 60.1 кв.м\n",
    "2. В среднем квартиры имеют две комнаты, однако встречается вариант квартиры с 19 комнатами.\n",
    "3. Распределение цены имеет вид распределения Гаусса, видны аномалии - напирмер минимальная стоимость квартиры 12 тыс. руб. Среднияя стоимость - 6.5 млн. руб, медианная - 4.65 млн. руб.\n",
    "4. У исходных данных явно присутствуют аномальные значения, например высота потолка меньше метра и 100 метров. В среднем же, высота потолков составила 2.7 м."
   ]
  },
  {
   "cell_type": "markdown",
   "metadata": {},
   "source": [
    "**Изучите время продажи квартиры. Постройте гистограмму. Посчитайте среднее и медиану. Опишите, сколько обычно занимает продажа. Когда можно считать, что продажи прошли очень быстро, а когда необычно долго?**"
   ]
  },
  {
   "cell_type": "markdown",
   "metadata": {},
   "source": [
    "Изучем время продажи квартиры и посмотрим на гистограмму"
   ]
  },
  {
   "cell_type": "code",
   "execution_count": 32,
   "metadata": {},
   "outputs": [
    {
     "data": {
      "image/png": "[encoded data removed]",
      "text/plain": [
       "<Figure size 432x288 with 1 Axes>"
      ]
     },
     "metadata": {
      "needs_background": "light"
     },
     "output_type": "display_data"
    },
    {
     "data": {
      "text/plain": [
       "count    23650.000000\n",
       "mean       156.448964\n",
       "std        213.564548\n",
       "min          0.000000\n",
       "25%         22.000000\n",
       "50%         73.000000\n",
       "75%        198.000000\n",
       "max       1580.000000\n",
       "Name: days_exposition, dtype: float64"
      ]
     },
     "execution_count": 32,
     "metadata": {},
     "output_type": "execute_result"
    }
   ],
   "source": [
    "df.hist('days_exposition',bins=200)\n",
    "plt.show()\n",
    "df['days_exposition'].describe()"
   ]
  },
  {
   "cell_type": "markdown",
   "metadata": {},
   "source": [
    "Много нулевых значений - мы заменили неизвестные значения нулями на этапе предобработки. Исключим их с гистрограммы. Также можно сказать, что продажа длится не более 800 дней, после этой отметки линия практически сливается с нулем, и эти значения не оказывают влияние на общую картину"
   ]
  },
  {
   "cell_type": "code",
   "execution_count": 33,
   "metadata": {},
   "outputs": [
    {
     "data": {
      "image/png": "[encoded data removed]",
      "text/plain": [
       "<Figure size 432x288 with 1 Axes>"
      ]
     },
     "metadata": {
      "needs_background": "light"
     },
     "output_type": "display_data"
    },
    {
     "data": {
      "text/plain": [
       "count    20470.000000\n",
       "mean       180.753200\n",
       "std        219.777916\n",
       "min          1.000000\n",
       "25%         45.000000\n",
       "50%         95.000000\n",
       "75%        231.000000\n",
       "max       1580.000000\n",
       "Name: days_exposition, dtype: float64"
      ]
     },
     "execution_count": 33,
     "metadata": {},
     "output_type": "execute_result"
    }
   ],
   "source": [
    "df.hist('days_exposition',bins=200, range=(1,500))\n",
    "plt.show()\n",
    "df[df['days_exposition']!=0]['days_exposition'].describe()"
   ]
  },
  {
   "cell_type": "markdown",
   "metadata": {},
   "source": [
    "Среднее значение - 180 дней, медианное 95. Похоже на правду. На гистограмме видны всплески данных в дни 7, 30, 45, 60, 75 и 90. Возможно они связаны с автоматическим удалением объявления. Предлагаю их также исключить и посмотреть на общую картину."
   ]
  },
  {
   "cell_type": "code",
   "execution_count": 34,
   "metadata": {},
   "outputs": [
    {
     "data": {
      "image/png": "[encoded data removed]",
      "text/plain": [
       "<Figure size 432x288 with 1 Axes>"
      ]
     },
     "metadata": {
      "needs_background": "light"
     },
     "output_type": "display_data"
    },
    {
     "data": {
      "text/plain": [
       "count    21520.00000\n",
       "mean       167.14382\n",
       "std        220.92990\n",
       "min          0.00000\n",
       "25%         20.00000\n",
       "50%         87.00000\n",
       "75%        218.00000\n",
       "max       1580.00000\n",
       "Name: days_exposition, dtype: float64"
      ]
     },
     "execution_count": 34,
     "metadata": {},
     "output_type": "execute_result"
    }
   ],
   "source": [
    "good_df=df.query('days_exposition!=7 and days_exposition!=30 and days_exposition!=45 and days_exposition!=60 and days_exposition!=75 and days_exposition!=90')\n",
    "good_df.hist('days_exposition',bins=200, range=(1,500))\n",
    "plt.show()\n",
    "plt.show()\n",
    "good_df['days_exposition'].describe()"
   ]
  },
  {
   "cell_type": "code",
   "execution_count": 35,
   "metadata": {},
   "outputs": [
    {
     "data": {
      "text/plain": [
       "0.9512081784386617"
      ]
     },
     "execution_count": 35,
     "metadata": {},
     "output_type": "execute_result"
    }
   ],
   "source": [
    "#Проверим какой процент данных пришлось отбросить \n",
    "df[df['days_exposition']!=0]['days_exposition'].describe()[0]/good_df['days_exposition'].describe()[0]"
   ]
  },
  {
   "cell_type": "markdown",
   "metadata": {},
   "source": [
    "Судя по полученным данным - среднее время продажи составило 167 дней, а медианное 87 дней. Межквартильный размах составил от 20 до 218 дней, однако на общей гистограмме видим, что срок продажи может достигать и 600 дней. "
   ]
  },
  {
   "cell_type": "markdown",
   "metadata": {},
   "source": [
    "**Изучим зависимость цены квадратного метра от общей площади квартиры**"
   ]
  },
  {
   "cell_type": "code",
   "execution_count": 36,
   "metadata": {},
   "outputs": [
    {
     "name": "stdout",
     "output_type": "stream",
     "text": [
      "                   median           mean\n",
      "total_area                              \n",
      "12          200000.000000  200000.000000\n",
      "13          136000.000000  168000.000000\n",
      "14           85000.000000   85000.000000\n",
      "15          126666.666667  131111.111111\n",
      "16          131250.000000  131250.000000\n",
      "...                   ...            ...\n",
      "517          96711.798839   96711.798839\n",
      "590         110169.491525  110169.491525\n",
      "618         485436.893204  485436.893204\n",
      "631         221870.047544  221870.047544\n",
      "900         466666.666667  466666.666667\n",
      "\n",
      "[310 rows x 2 columns]\n"
     ]
    },
    {
     "data": {
      "image/png": "[encoded data removed]",
      "text/plain": [
       "<Figure size 432x288 with 1 Axes>"
      ]
     },
     "metadata": {
      "needs_background": "light"
     },
     "output_type": "display_data"
    },
    {
     "data": {
      "text/plain": [
       "0.29891959856589523"
      ]
     },
     "execution_count": 36,
     "metadata": {},
     "output_type": "execute_result"
    }
   ],
   "source": [
    "price_square=df.pivot_table(index='total_area', values='square_price',aggfunc=['median','mean'])\n",
    "price_square.columns=['median','mean']\n",
    "print(price_square)\n",
    "price_square.plot(y='median', style='o')\n",
    "plt.show()\n",
    "df['total_area'].corr(df['square_price'])"
   ]
  },
  {
   "cell_type": "markdown",
   "metadata": {},
   "source": [
    "Судя по графику - зависимости почти нет. Коэффициент Пирсона всего 0.29"
   ]
  },
  {
   "cell_type": "markdown",
   "metadata": {},
   "source": [
    "**Изучим зависимость цены квадратного метра от числа комнат**"
   ]
  },
  {
   "cell_type": "code",
   "execution_count": 37,
   "metadata": {},
   "outputs": [
    {
     "name": "stdout",
     "output_type": "stream",
     "text": [
      "              median           mean  count\n",
      "rooms                                     \n",
      "0      106666.666667  109346.905297    197\n",
      "1      100559.152778  101491.311293   8036\n",
      "2       93181.818182   95894.373883   7924\n",
      "3       89356.435644   97469.607176   5797\n",
      "4       92800.000000  110531.838285   1175\n",
      "5       96727.189503  126885.778183    326\n",
      "6       99750.000000  140845.964893    105\n",
      "7      108958.837772  163648.023195     59\n",
      "8      106836.695485  184704.826070     12\n",
      "9       92678.714859  105093.699008      8\n",
      "10      84558.823529   98083.039090      3\n",
      "11     132865.754042  132865.754042      2\n",
      "12     466666.666667  466666.666667      1\n",
      "14      92923.016810   92923.016810      2\n",
      "15     110169.491525  110169.491525      1\n",
      "16     105555.555556  105555.555556      1\n",
      "19      86229.946524   86229.946524      1\n"
     ]
    },
    {
     "data": {
      "image/png": "[encoded data removed]",
      "text/plain": [
       "<Figure size 432x288 with 1 Axes>"
      ]
     },
     "metadata": {
      "needs_background": "light"
     },
     "output_type": "display_data"
    },
    {
     "data": {
      "text/plain": [
       "0.0522448045363964"
      ]
     },
     "execution_count": 37,
     "metadata": {},
     "output_type": "execute_result"
    }
   ],
   "source": [
    "price_rooms=df.pivot_table(index='rooms', values='square_price',aggfunc=['median','mean', 'count'])\n",
    "price_rooms.columns=['median','mean', 'count']\n",
    "print(price_rooms)\n",
    "price_rooms.query('count>20').plot(y='median', style='o')\n",
    "plt.show()\n",
    "df['rooms'].corr(df['square_price'])"
   ]
  },
  {
   "cell_type": "markdown",
   "metadata": {},
   "source": [
    "Коэфициент Пирсона всего 0.05 - зависимости нет. Однако по графику видно, что наименьшей стоимостью квадратного метра обладают трехкомнатные варианты"
   ]
  },
  {
   "cell_type": "markdown",
   "metadata": {},
   "source": [
    "**Изучим зависимость цены квадратного метра от этажа**"
   ]
  },
  {
   "cell_type": "code",
   "execution_count": 38,
   "metadata": {},
   "outputs": [
    {
     "name": "stdout",
     "output_type": "stream",
     "text": [
      "                      median          mean  count\n",
      "category_floor                                   \n",
      "Первый          81707.317073  82682.090449   2887\n",
      "Последний       88193.473193  93428.533180   3358\n"
     ]
    }
   ],
   "source": [
    "floor_price=df.query('category_floor != \"Другой\"').pivot_table(index='category_floor', values='square_price', aggfunc=['median','mean', 'count'])\n",
    "floor_price.columns=['median','mean', 'count']\n",
    "print(floor_price)"
   ]
  },
  {
   "cell_type": "markdown",
   "metadata": {},
   "source": [
    "Разница между средней стоимостью вариантов на первом и последнем этаже составила 12%. Мы не можем говорить о наличии какой либо связи между ними."
   ]
  },
  {
   "cell_type": "markdown",
   "metadata": {},
   "source": [
    "**Зависимость цены квадратного метра от удалённости от центра**"
   ]
  },
  {
   "cell_type": "code",
   "execution_count": 39,
   "metadata": {},
   "outputs": [
    {
     "data": {
      "image/png": "[encoded data removed]",
      "text/plain": [
       "<Figure size 432x288 with 1 Axes>"
      ]
     },
     "metadata": {
      "needs_background": "light"
     },
     "output_type": "display_data"
    },
    {
     "data": {
      "text/plain": [
       "-0.4432972289206165"
      ]
     },
     "execution_count": 39,
     "metadata": {},
     "output_type": "execute_result"
    }
   ],
   "source": [
    "df.plot(kind = 'scatter', y = 'square_price', x = 'cityCenters_nearest', alpha = 0.3)\n",
    "plt.show()\n",
    "df['cityCenters_nearest'].corr(df['square_price'])"
   ]
  },
  {
   "cell_type": "markdown",
   "metadata": {},
   "source": [
    "Ожидаемо, чем ближе кваритра к центру, тем выше ее стоимость. Коэфициент Пирсона -0.44. "
   ]
  },
  {
   "cell_type": "markdown",
   "metadata": {},
   "source": [
    "**Зависимость цены квадратного метра от даты размещения: дня недели**"
   ]
  },
  {
   "cell_type": "code",
   "execution_count": 40,
   "metadata": {},
   "outputs": [
    {
     "name": "stdout",
     "output_type": "stream",
     "text": [
      "                   median           mean  count\n",
      "weekday_num                                    \n",
      "0            95257.402718   99919.579739   3606\n",
      "1            96103.896104  100179.732002   4175\n",
      "2            96052.631579  100064.194508   3966\n",
      "3            95555.555556  100653.824198   4286\n",
      "4            95000.000000   99438.202671   3992\n",
      "5            94117.647059   99511.710235   1933\n",
      "6            95000.000000   98196.528365   1692\n"
     ]
    },
    {
     "data": {
      "image/png": "[encoded data removed]",
      "text/plain": [
       "<Figure size 720x360 with 1 Axes>"
      ]
     },
     "metadata": {
      "needs_background": "light"
     },
     "output_type": "display_data"
    }
   ],
   "source": [
    "price_weekday=df.pivot_table(index='weekday_num', values='square_price',aggfunc=['median','mean', 'count'])\n",
    "price_weekday.columns=['median','mean', 'count']\n",
    "print(price_weekday)\n",
    "price_weekday.plot(y='median', figsize=(10,5))\n",
    "plt.show()"
   ]
  },
  {
   "cell_type": "markdown",
   "metadata": {},
   "source": [
    "По графику видно, что наименьшая цена квадратного метра - в субботу. Наиболее \"дорогие\" дни - вторник и среда. Возможно, это связано с тем, что люди ищут варианты именно посреди рабочей недели, чтобы в выходные их осматривать"
   ]
  },
  {
   "cell_type": "markdown",
   "metadata": {},
   "source": [
    "**Зависимость цены квадратного метра от даты размещения: месяц**"
   ]
  },
  {
   "cell_type": "code",
   "execution_count": 41,
   "metadata": {},
   "outputs": [
    {
     "name": "stdout",
     "output_type": "stream",
     "text": [
      "             median           mean  count\n",
      "month                                    \n",
      "1      95961.538462  100296.602713   1491\n",
      "2      95454.545455   99197.662541   2639\n",
      "3      95588.235294   99490.158435   2582\n",
      "4      97014.925373  102417.158466   2373\n",
      "5      93333.333333   98953.681617   1270\n",
      "6      93333.333333   98211.529032   1755\n",
      "7      95640.294607  100111.473727   1690\n",
      "8      96708.333333  100603.530043   1742\n",
      "9      96333.333333  100935.431383   1979\n",
      "10     94609.564165   98449.299609   2124\n",
      "11     96153.846154   99708.241198   2367\n",
      "12     94654.761905   99936.373185   1638\n"
     ]
    },
    {
     "data": {
      "image/png": "[encoded data removed]",
      "text/plain": [
       "<Figure size 720x360 with 1 Axes>"
      ]
     },
     "metadata": {
      "needs_background": "light"
     },
     "output_type": "display_data"
    }
   ],
   "source": [
    "price_month=df.pivot_table(index='month', values='square_price',aggfunc=['median','mean', 'count'])\n",
    "price_month.columns=['median','mean', 'count']\n",
    "print(price_month)\n",
    "price_month.plot(y='median', figsize=(10,5))\n",
    "plt.show()"
   ]
  },
  {
   "cell_type": "markdown",
   "metadata": {},
   "source": [
    "Наибольший провал цен наблюдается в мае и июне, что совпадает с сезонностью рынка недвижимости - наибольшие цены в начале весны, в начале осени, и в начале зимы. "
   ]
  },
  {
   "cell_type": "markdown",
   "metadata": {},
   "source": [
    "**Зависимость цены квадратного метра от даты размещения: год**"
   ]
  },
  {
   "cell_type": "code",
   "execution_count": 42,
   "metadata": {},
   "outputs": [
    {
     "name": "stdout",
     "output_type": "stream",
     "text": [
      "             median           mean  count\n",
      "year                                     \n",
      "2014  107493.989547  124781.676854    136\n",
      "2015   93548.387097  105081.039949   1173\n",
      "2016   92200.000000   98647.145737   2765\n",
      "2017   93181.818182   98041.536444   8185\n",
      "2018   96363.636364   98306.632272   8512\n",
      "2019  104081.632653  107687.906548   2879\n"
     ]
    },
    {
     "data": {
      "image/png": "[encoded data removed]",
      "text/plain": [
       "<Figure size 720x360 with 1 Axes>"
      ]
     },
     "metadata": {
      "needs_background": "light"
     },
     "output_type": "display_data"
    }
   ],
   "source": [
    "price_year=df.pivot_table(index='year', values='square_price',aggfunc=['median','mean', 'count'])\n",
    "price_year.columns=['median','mean', 'count']\n",
    "print(price_year)\n",
    "price_year.plot(y='median', figsize=(10,5))\n",
    "plt.show()"
   ]
  },
  {
   "cell_type": "markdown",
   "metadata": {},
   "source": [
    "На графике отчетливо видны последствия кризиса 2014 года. Обвал рубля на фондовом рынке, вкупе с рекордным повышением ключевой ставки ЦБ сильно увиличило стоимость ипотеки и снизило спрос на недвижимость. К 2017 году ставка начала постепенно сокращаться, нормализуя рынок недвижимости. "
   ]
  },
  {
   "cell_type": "markdown",
   "metadata": {},
   "source": [
    "**Выберите 10 населённых пунктов с наибольшим числом объявлений. Посчитайте среднюю цену квадратного метра в этих населённых пунктах. Выделите населённые пункты с самой высокой и низкой стоимостью жилья.**"
   ]
  },
  {
   "cell_type": "code",
   "execution_count": 43,
   "metadata": {},
   "outputs": [
    {
     "data": {
      "text/html": [
       "<div>\n",
       "<style scoped>\n",
       "    .dataframe tbody tr th:only-of-type {\n",
       "        vertical-align: middle;\n",
       "    }\n",
       "\n",
       "    .dataframe tbody tr th {\n",
       "        vertical-align: top;\n",
       "    }\n",
       "\n",
       "    .dataframe thead th {\n",
       "        text-align: right;\n",
       "    }\n",
       "</style>\n",
       "<table border=\"1\" class=\"dataframe\">\n",
       "  <thead>\n",
       "    <tr style=\"text-align: right;\">\n",
       "      <th></th>\n",
       "      <th>count</th>\n",
       "      <th>mean</th>\n",
       "    </tr>\n",
       "    <tr>\n",
       "      <th>locality_name</th>\n",
       "      <th></th>\n",
       "      <th></th>\n",
       "    </tr>\n",
       "  </thead>\n",
       "  <tbody>\n",
       "    <tr>\n",
       "      <td>санкт-петербург</td>\n",
       "      <td>15721</td>\n",
       "      <td>115347.722976</td>\n",
       "    </tr>\n",
       "    <tr>\n",
       "      <td>мурино</td>\n",
       "      <td>590</td>\n",
       "      <td>86729.540028</td>\n",
       "    </tr>\n",
       "    <tr>\n",
       "      <td>кудрово</td>\n",
       "      <td>472</td>\n",
       "      <td>95879.316021</td>\n",
       "    </tr>\n",
       "    <tr>\n",
       "      <td>шушары</td>\n",
       "      <td>440</td>\n",
       "      <td>79068.602928</td>\n",
       "    </tr>\n",
       "    <tr>\n",
       "      <td>всеволожск</td>\n",
       "      <td>398</td>\n",
       "      <td>68985.235455</td>\n",
       "    </tr>\n",
       "    <tr>\n",
       "      <td>пушкин</td>\n",
       "      <td>369</td>\n",
       "      <td>103611.362825</td>\n",
       "    </tr>\n",
       "    <tr>\n",
       "      <td>колпино</td>\n",
       "      <td>338</td>\n",
       "      <td>75735.589833</td>\n",
       "    </tr>\n",
       "    <tr>\n",
       "      <td>парголово</td>\n",
       "      <td>327</td>\n",
       "      <td>90675.627757</td>\n",
       "    </tr>\n",
       "    <tr>\n",
       "      <td>гатчина</td>\n",
       "      <td>307</td>\n",
       "      <td>69045.519030</td>\n",
       "    </tr>\n",
       "    <tr>\n",
       "      <td>выборг</td>\n",
       "      <td>237</td>\n",
       "      <td>58296.119480</td>\n",
       "    </tr>\n",
       "  </tbody>\n",
       "</table>\n",
       "</div>"
      ],
      "text/plain": [
       "                 count           mean\n",
       "locality_name                        \n",
       "санкт-петербург  15721  115347.722976\n",
       "мурино             590   86729.540028\n",
       "кудрово            472   95879.316021\n",
       "шушары             440   79068.602928\n",
       "всеволожск         398   68985.235455\n",
       "пушкин             369  103611.362825\n",
       "колпино            338   75735.589833\n",
       "парголово          327   90675.627757\n",
       "гатчина            307   69045.519030\n",
       "выборг             237   58296.119480"
      ]
     },
     "metadata": {},
     "output_type": "display_data"
    }
   ],
   "source": [
    "locality = df.pivot_table(index = 'locality_name', values = 'square_price', aggfunc=['count', 'mean'])\n",
    "locality.columns = ['count', 'mean']\n",
    "display(locality.sort_values('count', ascending = False).head(10))\n"
   ]
  },
  {
   "cell_type": "markdown",
   "metadata": {},
   "source": [
    "Таблица говорит сама за себя: наибольшая стоимость квадратного метра в Санкт-Петербурге, а нименьшая в Выборге. "
   ]
  },
  {
   "cell_type": "markdown",
   "metadata": {},
   "source": [
    "**Изучите предложения квартир: для каждой квартиры есть информация о расстоянии до центра. Выделите квартиры в Санкт-Петербурге ('locality_name'). Ваша задача — выяснить, какая область входит в центр. Создайте столбец с расстоянием до центра в километрах: округлите до целых значений. После этого посчитайте среднюю цену для каждого километра. Постройте график: он должен показывать, как цена зависит от удалённости от центра. Определите границу, где график сильно меняется — это и будет центральная зона.**"
   ]
  },
  {
   "cell_type": "code",
   "execution_count": 44,
   "metadata": {},
   "outputs": [
    {
     "name": "stdout",
     "output_type": "stream",
     "text": [
      "                         square_price\n",
      "cityCenters_nearest_km               \n",
      "0                       187717.073514\n",
      "1                       166970.877411\n",
      "2                       147017.069402\n",
      "3                       129829.583182\n",
      "4                       137912.334714\n",
      "5                       147436.072727\n",
      "6                       152775.279195\n",
      "7                       141884.681831\n",
      "8                       121101.882748\n",
      "9                       110497.146935\n",
      "10                      112171.114740\n",
      "11                      107349.656138\n",
      "12                      108825.705712\n",
      "13                      107697.029042\n",
      "14                      105504.588388\n",
      "15                      102372.413434\n",
      "16                      100618.756264\n",
      "17                       94579.736517\n",
      "18                       95336.039680\n",
      "19                       96169.283529\n",
      "20                      107623.875614\n",
      "21                       91947.536576\n",
      "22                       89035.759495\n",
      "23                       93252.244018\n",
      "24                       83176.709507\n",
      "25                       92007.159171\n",
      "26                       75171.911041\n",
      "27                      132115.709459\n",
      "28                       81944.200236\n",
      "29                       63011.855905\n"
     ]
    },
    {
     "data": {
      "image/png": "[encoded data removed]",
      "text/plain": [
       "<Figure size 432x288 with 1 Axes>"
      ]
     },
     "metadata": {
      "needs_background": "light"
     },
     "output_type": "display_data"
    }
   ],
   "source": [
    "df['cityCenters_nearest_km']=df['cityCenters_nearest']/1000\n",
    "df['cityCenters_nearest_km']=df['cityCenters_nearest_km'].astype('int8')\n",
    "saint_pete_price=df.query('locality_name == \"санкт-петербург\" and cityCenters_nearest_km !=127').pivot_table(index='cityCenters_nearest_km', values='square_price', aggfunc='mean')\n",
    "print(saint_pete_price)\n",
    "saint_pete_price.plot()\n",
    "plt.show()"
   ]
  },
  {
   "cell_type": "markdown",
   "metadata": {},
   "source": [
    "Судя по графику центром города можем считать радиус в 9км. "
   ]
  },
  {
   "cell_type": "markdown",
   "metadata": {},
   "source": [
    "**Выделите сегмент квартир в центре. Проанализируйте эту территорию и изучите следующие параметры: площадь, цена, число комнат, высота потолков. Также выделите факторы, которые влияют на стоимость квартиры (число комнат, этаж, удалённость от центра, дата размещения объявления). Сделайте выводы. Отличаются ли они от общих выводов по всему городу?**"
   ]
  },
  {
   "cell_type": "code",
   "execution_count": 45,
   "metadata": {},
   "outputs": [],
   "source": [
    "#выделим новый датафрейм с вариантами в Питере, а радиус удаленности от центра не более 9 км\n",
    "saint_pete_center=df.query('locality_name == \"санкт-петербург\" and cityCenters_nearest_km < 9')"
   ]
  },
  {
   "cell_type": "code",
   "execution_count": 46,
   "metadata": {},
   "outputs": [
    {
     "data": {
      "image/png": "[encoded data removed]",
      "text/plain": [
       "<Figure size 432x288 with 1 Axes>"
      ]
     },
     "metadata": {
      "needs_background": "light"
     },
     "output_type": "display_data"
    },
    {
     "data": {
      "text/plain": [
       "count    4382.000000\n",
       "mean       88.348699\n",
       "std        57.947649\n",
       "min        12.000000\n",
       "25%        53.000000\n",
       "50%        75.000000\n",
       "75%       104.000000\n",
       "max       900.000000\n",
       "Name: total_area, dtype: float64"
      ]
     },
     "execution_count": 46,
     "metadata": {},
     "output_type": "execute_result"
    }
   ],
   "source": [
    "saint_pete_center['total_area'].hist(bins=100, range=(0,500))\n",
    "plt.show()\n",
    "saint_pete_center['total_area'].describe()"
   ]
  },
  {
   "cell_type": "markdown",
   "metadata": {},
   "source": [
    "Видим нормальное распределение, средня площадь 88 кв.м, а медианная 75 кв.м. (против 60 и 52 соответственно по всей ЛО)"
   ]
  },
  {
   "cell_type": "code",
   "execution_count": 47,
   "metadata": {},
   "outputs": [
    {
     "data": {
      "image/png": "[encoded data removed]",
      "text/plain": [
       "<Figure size 432x288 with 1 Axes>"
      ]
     },
     "metadata": {
      "needs_background": "light"
     },
     "output_type": "display_data"
    },
    {
     "data": {
      "text/plain": [
       "count    4.382000e+03\n",
       "mean     1.376875e+07\n",
       "std      2.296136e+07\n",
       "min      1.600000e+06\n",
       "25%      6.207104e+06\n",
       "50%      8.707500e+06\n",
       "75%      1.350000e+07\n",
       "max      7.630000e+08\n",
       "Name: last_price, dtype: float64"
      ]
     },
     "execution_count": 47,
     "metadata": {},
     "output_type": "execute_result"
    }
   ],
   "source": [
    "saint_pete_center['last_price'].hist(bins=100)\n",
    "plt.show()\n",
    "saint_pete_center['last_price'].describe()"
   ]
  },
  {
   "cell_type": "markdown",
   "metadata": {},
   "source": [
    "Средняя стоимость квартиры в центре Питера - 13.7 млн.руб, медианная - 8.7 млн. руб. (против 6.5 и 4.65 соотвественно в ЛО)"
   ]
  },
  {
   "cell_type": "code",
   "execution_count": 48,
   "metadata": {},
   "outputs": [
    {
     "data": {
      "image/png": "[encoded data removed]",
      "text/plain": [
       "<Figure size 432x288 with 1 Axes>"
      ]
     },
     "metadata": {
      "needs_background": "light"
     },
     "output_type": "display_data"
    },
    {
     "data": {
      "text/plain": [
       "count    4382.000000\n",
       "mean        2.720904\n",
       "std         1.410307\n",
       "min         0.000000\n",
       "25%         2.000000\n",
       "50%         3.000000\n",
       "75%         3.000000\n",
       "max        19.000000\n",
       "Name: rooms, dtype: float64"
      ]
     },
     "execution_count": 48,
     "metadata": {},
     "output_type": "execute_result"
    }
   ],
   "source": [
    "saint_pete_center['rooms'].hist(bins=20)\n",
    "plt.show()\n",
    "saint_pete_center['rooms'].describe()"
   ]
  },
  {
   "cell_type": "markdown",
   "metadata": {},
   "source": [
    "Среднее и медианное количество комнат - 3"
   ]
  },
  {
   "cell_type": "code",
   "execution_count": 49,
   "metadata": {},
   "outputs": [
    {
     "data": {
      "image/png": "[encoded data removed]",
      "text/plain": [
       "<Figure size 432x288 with 1 Axes>"
      ]
     },
     "metadata": {
      "needs_background": "light"
     },
     "output_type": "display_data"
    },
    {
     "data": {
      "text/plain": [
       "count    4382.000000\n",
       "mean        2.951172\n",
       "std         1.677734\n",
       "min         2.000000\n",
       "25%         2.650391\n",
       "50%         2.754883\n",
       "75%         3.099609\n",
       "max       100.000000\n",
       "Name: ceiling_height, dtype: float64"
      ]
     },
     "execution_count": 49,
     "metadata": {},
     "output_type": "execute_result"
    }
   ],
   "source": [
    "saint_pete_center['ceiling_height'].hist(bins=50, range=(0,10))\n",
    "plt.show()\n",
    "saint_pete_center['ceiling_height'].describe()"
   ]
  },
  {
   "cell_type": "markdown",
   "metadata": {},
   "source": [
    "Очевидно, в центре Питера больше квартир с высокими потолками - среднее значение 2.95м. "
   ]
  },
  {
   "cell_type": "code",
   "execution_count": 50,
   "metadata": {},
   "outputs": [
    {
     "data": {
      "image/png": "[encoded data removed]",
      "text/plain": [
       "<Figure size 360x1080 with 2 Axes>"
      ]
     },
     "metadata": {
      "needs_background": "light"
     },
     "output_type": "display_data"
    }
   ],
   "source": [
    "plt.figure(figsize=(5,15))\n",
    "plt.subplot(1, 2, 1)\n",
    "(sns.heatmap(saint_pete_center\n",
    "             .corr()[['last_price']]\n",
    "             .sort_values(by='last_price', ascending=False), cmap=\"YlGnBu\", annot=True, fmt='.2f'\n",
    "            )\n",
    ")\n",
    "plt.show()"
   ]
  },
  {
   "cell_type": "markdown",
   "metadata": {},
   "source": [
    "По этой таблице видим, что наибольшая зависимость цены квартиры от числа комнат - коэфициент Пирсона - 0.35. Этаж и удаленность от центра прямого влияния на цену практически не имеют - коэффициенты корреляции - 0.11 и -0.10 соответственно. "
   ]
  },
  {
   "cell_type": "code",
   "execution_count": 51,
   "metadata": {},
   "outputs": [
    {
     "name": "stdout",
     "output_type": "stream",
     "text": [
      "                    median           mean  count\n",
      "weekday_num                                     \n",
      "0            123483.455882  141836.741138    662\n",
      "1            120784.615385  140324.980468    752\n",
      "2            122896.689498  139989.213303    748\n",
      "3            121818.181818  140707.708402    897\n",
      "4            122336.834209  139384.225781    738\n",
      "5            125000.000000  149895.709330    326\n",
      "6            126213.592233  141765.258071    259\n"
     ]
    },
    {
     "data": {
      "image/png": "[encoded data removed]",
      "text/plain": [
       "<Figure size 720x360 with 1 Axes>"
      ]
     },
     "metadata": {
      "needs_background": "light"
     },
     "output_type": "display_data"
    }
   ],
   "source": [
    "price_weekday_center=saint_pete_center.pivot_table(index='weekday_num', values='square_price',aggfunc=['median','mean', 'count'])\n",
    "price_weekday_center.columns=['median','mean', 'count']\n",
    "print(price_weekday_center)\n",
    "price_weekday_center.plot(y='median', figsize=(10,5))\n",
    "plt.show()"
   ]
  },
  {
   "cell_type": "markdown",
   "metadata": {},
   "source": [
    "Наименьшая цена наблюдается во вторник, а наибольшая к субботе. На общем графике вторник и среда были наиболее \"дорогими\" днями. "
   ]
  },
  {
   "cell_type": "code",
   "execution_count": 52,
   "metadata": {},
   "outputs": [
    {
     "name": "stdout",
     "output_type": "stream",
     "text": [
      "              median           mean  count\n",
      "month                                     \n",
      "1      126966.292135  142339.440428    271\n",
      "2      121475.066196  140812.084413    460\n",
      "3      129581.797678  142588.194930    472\n",
      "4      123092.375367  149617.786037    414\n",
      "5      126061.120543  136000.894648    258\n",
      "6      116927.685950  140598.526241    340\n",
      "7      120272.904483  140901.688733    352\n",
      "8      125000.000000  142036.239198    325\n",
      "9      122679.425837  139711.216725    388\n",
      "10     121000.000000  136177.426581    375\n",
      "11     122077.922078  138268.457599    431\n",
      "12     120721.526535  144208.725786    296\n"
     ]
    },
    {
     "data": {
      "image/png": "[encoded data removed]",
      "text/plain": [
       "<Figure size 720x360 with 1 Axes>"
      ]
     },
     "metadata": {
      "needs_background": "light"
     },
     "output_type": "display_data"
    }
   ],
   "source": [
    "price_month_center=saint_pete_center.pivot_table(index='month', values='square_price',aggfunc=['median','mean', 'count'])\n",
    "price_month_center.columns=['median','mean', 'count']\n",
    "print(price_month_center)\n",
    "price_month_center.plot(y='median', figsize=(10,5))\n",
    "plt.show()"
   ]
  },
  {
   "cell_type": "markdown",
   "metadata": {},
   "source": [
    "Данный график примерно повторяет принцип сезонности общего графика"
   ]
  },
  {
   "cell_type": "code",
   "execution_count": 53,
   "metadata": {},
   "outputs": [
    {
     "name": "stdout",
     "output_type": "stream",
     "text": [
      "             median           mean  count\n",
      "year                                     \n",
      "2014  142766.821583  179615.384197     38\n",
      "2015  120472.199730  142690.496438    368\n",
      "2016  119767.441860  141990.502063    591\n",
      "2017  119470.649895  138938.322719   1552\n",
      "2018  123529.411765  137496.021954   1347\n",
      "2019  133662.860577  153713.010703    486\n"
     ]
    },
    {
     "data": {
      "image/png": "[encoded data removed]",
      "text/plain": [
       "<Figure size 720x360 with 1 Axes>"
      ]
     },
     "metadata": {
      "needs_background": "light"
     },
     "output_type": "display_data"
    }
   ],
   "source": [
    "price_year_center=saint_pete_center.pivot_table(index='year', values='square_price',aggfunc=['median','mean', 'count'])\n",
    "price_year_center.columns=['median','mean', 'count']\n",
    "print(price_year_center)\n",
    "price_year_center.plot(y='median', figsize=(10,5))\n",
    "plt.show()"
   ]
  },
  {
   "cell_type": "markdown",
   "metadata": {},
   "source": [
    "Для центра Питера картина не изменилась. "
   ]
  },
  {
   "cell_type": "markdown",
   "metadata": {},
   "source": [
    "## Общий вывод"
   ]
  },
  {
   "cell_type": "markdown",
   "metadata": {},
   "source": [
    "- Мы обработали архив данных на предмет пропусков и ошибок, изменили типы данных и оптимизировали его. \n",
    "- Мы посчитали и добавили в таблицу цену квадратного метра; день, месяц и год публикации объявления; категорию этажа: первый, другой или последний, а также соотношение жилой площади к общей, а также соотношение плозади кухни к общей площади. \n",
    "- Изучили такие параметры, как площадь, цена, количество комнат, и высота потолков. \n",
    "- Изучили время продажи квартиры: среднее время продажи составило 167 дней, а медианное 87 дней. Межквартильный размах составил от 20 до 218 дней, однако на общей гистограмме видим, что срок продажи может достигать и 600 дней\n",
    "- Изучили влияние цены от площади, числа комнат, удалённости от центра. Наибольшее влияние - удаленность от центра. Наименьшее - площадь. Дата размещения объявления о продаже не сильно влияет на стоимость, однако можно увидеть как менялась средняя стоимость квадратного метра жилья за последние 5 лет - в 2015-2017 годах было общее снижение рынка недвижимости. \n",
    "- Определили 10 городов с наибольшим количеством объявлений. Наибольшая стоимость квадратного метра в Санкт-Петербурге, а нименьшая в Выборге.\n",
    "- По графику изменения цен в зависимости от удаленности от центра Питера, мы определили границу центральной зоны - 9 км. \n",
    "- Выделили и изучили факторы влияющие на стоимость квартир в центре Санкт-Петербурга. Наибольшая зависимость цены квартиры от числа комнат - коэфициент Пирсона - 0.35. Этаж и удаленность от центра прямого влияния на цену практически не имеют - коэффициенты корреляции - 0.11 и -0.10 соответственно. В среднем же стоимость квартиры в центре Санкт-Петербурга в два раза выше чем в регионе. Зависимость даты публикации объявления в целом повторяет такую же зависимость для всей области, за исключением дней недели - наибольшая стоимость квартиры обычно по субботам. "
   ]
  }
 ],
 "metadata": {
  "ExecuteTimeLog": [
   {
    "duration": 536,
    "start_time": "2021-12-19T07:56:35.222Z"
   },
   {
    "duration": 57,
    "start_time": "2021-12-19T07:56:35.956Z"
   },
   {
    "duration": 279,
    "start_time": "2021-12-19T07:56:36.752Z"
   },
   {
    "duration": 35,
    "start_time": "2021-12-19T07:57:04.289Z"
   },
   {
    "duration": 32,
    "start_time": "2021-12-19T07:57:17.162Z"
   },
   {
    "duration": 7,
    "start_time": "2021-12-19T07:57:48.303Z"
   },
   {
    "duration": 27,
    "start_time": "2021-12-19T07:58:20.115Z"
   },
   {
    "duration": 4,
    "start_time": "2021-12-19T07:58:31.130Z"
   },
   {
    "duration": 71,
    "start_time": "2021-12-19T08:18:05.176Z"
   },
   {
    "duration": 76,
    "start_time": "2021-12-19T08:18:17.117Z"
   },
   {
    "duration": 11,
    "start_time": "2021-12-19T08:18:43.644Z"
   },
   {
    "duration": 154,
    "start_time": "2021-12-19T08:21:56.324Z"
   },
   {
    "duration": 75,
    "start_time": "2021-12-19T08:22:11.776Z"
   },
   {
    "duration": 78,
    "start_time": "2021-12-19T08:22:14.013Z"
   },
   {
    "duration": 21,
    "start_time": "2021-12-19T08:22:22.717Z"
   },
   {
    "duration": 58,
    "start_time": "2021-12-19T08:22:29.721Z"
   },
   {
    "duration": 9,
    "start_time": "2021-12-19T08:24:07.520Z"
   },
   {
    "duration": 9,
    "start_time": "2021-12-19T08:24:23.646Z"
   },
   {
    "duration": 11,
    "start_time": "2021-12-19T08:24:25.311Z"
   },
   {
    "duration": 11,
    "start_time": "2021-12-19T08:24:58.347Z"
   },
   {
    "duration": 509,
    "start_time": "2021-12-19T16:12:54.518Z"
   },
   {
    "duration": 56,
    "start_time": "2021-12-19T16:12:55.028Z"
   },
   {
    "duration": 5,
    "start_time": "2021-12-19T16:12:55.086Z"
   },
   {
    "duration": 81,
    "start_time": "2021-12-19T16:12:55.092Z"
   },
   {
    "duration": 24,
    "start_time": "2021-12-19T16:12:55.174Z"
   },
   {
    "duration": 61,
    "start_time": "2021-12-19T16:12:55.199Z"
   },
   {
    "duration": 26,
    "start_time": "2021-12-19T16:12:55.262Z"
   },
   {
    "duration": 5415,
    "start_time": "2021-12-19T16:12:55.289Z"
   },
   {
    "duration": 6637,
    "start_time": "2021-12-19T16:13:31.991Z"
   },
   {
    "duration": 5820,
    "start_time": "2021-12-19T16:13:48.991Z"
   },
   {
    "duration": 6,
    "start_time": "2021-12-19T16:14:15.228Z"
   },
   {
    "duration": 5,
    "start_time": "2021-12-19T16:15:01.058Z"
   },
   {
    "duration": 14,
    "start_time": "2021-12-19T16:20:05.814Z"
   },
   {
    "duration": 17,
    "start_time": "2021-12-19T16:29:29.902Z"
   },
   {
    "duration": 10,
    "start_time": "2021-12-19T16:29:51.081Z"
   },
   {
    "duration": 36,
    "start_time": "2021-12-19T16:30:19.091Z"
   },
   {
    "duration": 37,
    "start_time": "2021-12-19T16:42:48.795Z"
   },
   {
    "duration": 16,
    "start_time": "2021-12-19T16:43:14.475Z"
   },
   {
    "duration": 19,
    "start_time": "2021-12-19T16:43:15.088Z"
   },
   {
    "duration": 29,
    "start_time": "2021-12-19T16:43:16.111Z"
   },
   {
    "duration": 27,
    "start_time": "2021-12-19T16:44:06.788Z"
   },
   {
    "duration": 5,
    "start_time": "2021-12-19T16:44:23.227Z"
   },
   {
    "duration": 9,
    "start_time": "2021-12-19T16:44:57.151Z"
   },
   {
    "duration": 5,
    "start_time": "2021-12-19T16:46:01.742Z"
   },
   {
    "duration": 6,
    "start_time": "2021-12-19T16:46:15.219Z"
   },
   {
    "duration": 75,
    "start_time": "2021-12-19T16:50:02.970Z"
   },
   {
    "duration": 8,
    "start_time": "2021-12-19T16:52:04.476Z"
   },
   {
    "duration": 28,
    "start_time": "2021-12-19T16:52:05.495Z"
   },
   {
    "duration": 24,
    "start_time": "2021-12-19T16:52:32.361Z"
   },
   {
    "duration": 213,
    "start_time": "2021-12-19T16:59:00.830Z"
   },
   {
    "duration": 4,
    "start_time": "2021-12-19T16:59:01.333Z"
   },
   {
    "duration": 7,
    "start_time": "2021-12-19T16:59:38.759Z"
   },
   {
    "duration": 5,
    "start_time": "2021-12-19T16:59:39.176Z"
   },
   {
    "duration": 21,
    "start_time": "2021-12-19T16:59:39.549Z"
   },
   {
    "duration": 240,
    "start_time": "2021-12-19T16:59:40.086Z"
   },
   {
    "duration": 8,
    "start_time": "2021-12-19T17:00:00.426Z"
   },
   {
    "duration": 283,
    "start_time": "2021-12-19T17:00:01.097Z"
   },
   {
    "duration": 17,
    "start_time": "2021-12-19T17:00:01.558Z"
   },
   {
    "duration": 19,
    "start_time": "2021-12-19T17:00:02.330Z"
   },
   {
    "duration": 4,
    "start_time": "2021-12-19T17:00:04.019Z"
   },
   {
    "duration": 22,
    "start_time": "2021-12-19T17:00:04.461Z"
   },
   {
    "duration": 24,
    "start_time": "2021-12-19T17:00:08.984Z"
   },
   {
    "duration": 24,
    "start_time": "2021-12-19T17:00:34.675Z"
   },
   {
    "duration": 546,
    "start_time": "2021-12-19T17:00:45.975Z"
   },
   {
    "duration": 54,
    "start_time": "2021-12-19T17:00:46.523Z"
   },
   {
    "duration": 4,
    "start_time": "2021-12-19T17:00:46.579Z"
   },
   {
    "duration": 76,
    "start_time": "2021-12-19T17:00:46.585Z"
   },
   {
    "duration": 27,
    "start_time": "2021-12-19T17:00:46.662Z"
   },
   {
    "duration": 60,
    "start_time": "2021-12-19T17:00:46.691Z"
   },
   {
    "duration": 48,
    "start_time": "2021-12-19T17:00:46.753Z"
   },
   {
    "duration": 7,
    "start_time": "2021-12-19T17:00:46.803Z"
   },
   {
    "duration": 9,
    "start_time": "2021-12-19T17:00:46.812Z"
   },
   {
    "duration": 27,
    "start_time": "2021-12-19T17:00:46.822Z"
   },
   {
    "duration": 19,
    "start_time": "2021-12-19T17:00:46.850Z"
   },
   {
    "duration": 19,
    "start_time": "2021-12-19T17:00:46.871Z"
   },
   {
    "duration": 24,
    "start_time": "2021-12-19T17:00:46.892Z"
   },
   {
    "duration": 20,
    "start_time": "2021-12-19T17:00:46.918Z"
   },
   {
    "duration": 767,
    "start_time": "2021-12-20T17:37:22.237Z"
   },
   {
    "duration": 76,
    "start_time": "2021-12-20T17:37:23.007Z"
   },
   {
    "duration": 6,
    "start_time": "2021-12-20T17:37:23.086Z"
   },
   {
    "duration": 131,
    "start_time": "2021-12-20T17:37:23.095Z"
   },
   {
    "duration": 47,
    "start_time": "2021-12-20T17:37:23.229Z"
   },
   {
    "duration": 115,
    "start_time": "2021-12-20T17:37:23.279Z"
   },
   {
    "duration": 85,
    "start_time": "2021-12-20T17:37:23.396Z"
   },
   {
    "duration": 13,
    "start_time": "2021-12-20T17:37:23.484Z"
   },
   {
    "duration": 9,
    "start_time": "2021-12-20T17:37:23.502Z"
   },
   {
    "duration": 74,
    "start_time": "2021-12-20T17:37:23.514Z"
   },
   {
    "duration": 45,
    "start_time": "2021-12-20T17:37:23.591Z"
   },
   {
    "duration": 25,
    "start_time": "2021-12-20T17:37:23.639Z"
   },
   {
    "duration": 33,
    "start_time": "2021-12-20T17:37:23.667Z"
   },
   {
    "duration": 61,
    "start_time": "2021-12-20T17:37:23.703Z"
   },
   {
    "duration": 39,
    "start_time": "2021-12-20T17:42:38.092Z"
   },
   {
    "duration": 5,
    "start_time": "2021-12-20T17:43:01.590Z"
   },
   {
    "duration": 8,
    "start_time": "2021-12-20T17:46:45.583Z"
   },
   {
    "duration": 225,
    "start_time": "2021-12-20T17:49:00.006Z"
   },
   {
    "duration": 84,
    "start_time": "2021-12-20T17:49:14.441Z"
   },
   {
    "duration": 225,
    "start_time": "2021-12-20T17:49:48.676Z"
   },
   {
    "duration": 5,
    "start_time": "2021-12-20T17:51:07.330Z"
   },
   {
    "duration": 18,
    "start_time": "2021-12-20T17:52:08.095Z"
   },
   {
    "duration": 36,
    "start_time": "2021-12-20T17:52:22.096Z"
   },
   {
    "duration": 424,
    "start_time": "2021-12-20T17:53:15.360Z"
   },
   {
    "duration": 29,
    "start_time": "2021-12-20T17:53:21.849Z"
   },
   {
    "duration": 37,
    "start_time": "2021-12-20T17:53:25.642Z"
   },
   {
    "duration": 10,
    "start_time": "2021-12-20T17:56:41.317Z"
   },
   {
    "duration": 38,
    "start_time": "2021-12-20T17:56:44.171Z"
   },
   {
    "duration": 12,
    "start_time": "2021-12-20T17:57:33.520Z"
   },
   {
    "duration": 52,
    "start_time": "2021-12-20T17:57:34.980Z"
   },
   {
    "duration": 14,
    "start_time": "2021-12-20T17:58:54.976Z"
   },
   {
    "duration": 41,
    "start_time": "2021-12-20T17:58:55.441Z"
   },
   {
    "duration": 82,
    "start_time": "2021-12-20T18:07:22.671Z"
   },
   {
    "duration": 88,
    "start_time": "2021-12-20T18:07:37.454Z"
   },
   {
    "duration": 87,
    "start_time": "2021-12-20T18:07:45.464Z"
   },
   {
    "duration": 96,
    "start_time": "2021-12-20T18:08:40.712Z"
   },
   {
    "duration": 102,
    "start_time": "2021-12-20T18:08:47.925Z"
   },
   {
    "duration": 4,
    "start_time": "2021-12-20T18:09:22.811Z"
   },
   {
    "duration": 4,
    "start_time": "2021-12-20T18:09:24.853Z"
   },
   {
    "duration": 4,
    "start_time": "2021-12-20T18:10:06.314Z"
   },
   {
    "duration": 7747,
    "start_time": "2021-12-20T18:11:07.607Z"
   },
   {
    "duration": -9035,
    "start_time": "2021-12-20T18:11:24.392Z"
   },
   {
    "duration": 10255,
    "start_time": "2021-12-20T18:12:03.782Z"
   },
   {
    "duration": -9034,
    "start_time": "2021-12-20T18:12:23.074Z"
   },
   {
    "duration": 8786,
    "start_time": "2021-12-20T18:12:30.223Z"
   },
   {
    "duration": -9032,
    "start_time": "2021-12-20T18:12:48.045Z"
   },
   {
    "duration": 8,
    "start_time": "2021-12-20T18:12:53.710Z"
   },
   {
    "duration": 51,
    "start_time": "2021-12-20T18:12:55.530Z"
   },
   {
    "duration": 12,
    "start_time": "2021-12-20T18:14:23.706Z"
   },
   {
    "duration": 1350,
    "start_time": "2021-12-20T18:15:10.002Z"
   },
   {
    "duration": 275,
    "start_time": "2021-12-20T18:20:23.613Z"
   },
   {
    "duration": 656,
    "start_time": "2021-12-20T18:20:39.456Z"
   },
   {
    "duration": 721,
    "start_time": "2021-12-20T18:25:26.642Z"
   },
   {
    "duration": 381,
    "start_time": "2021-12-20T18:26:14.972Z"
   },
   {
    "duration": 261,
    "start_time": "2021-12-20T18:26:55.318Z"
   },
   {
    "duration": 276,
    "start_time": "2021-12-20T18:27:11.525Z"
   },
   {
    "duration": 1156,
    "start_time": "2021-12-20T18:27:30.056Z"
   },
   {
    "duration": 444,
    "start_time": "2021-12-20T18:28:31.742Z"
   },
   {
    "duration": 302,
    "start_time": "2021-12-20T18:29:28.216Z"
   },
   {
    "duration": 591,
    "start_time": "2021-12-20T18:29:37.986Z"
   },
   {
    "duration": 5,
    "start_time": "2021-12-20T18:29:52.452Z"
   },
   {
    "duration": 423,
    "start_time": "2021-12-20T18:31:22.381Z"
   },
   {
    "duration": 457,
    "start_time": "2021-12-20T18:31:36.393Z"
   },
   {
    "duration": 300,
    "start_time": "2021-12-20T18:32:13.236Z"
   },
   {
    "duration": 414,
    "start_time": "2021-12-20T18:32:30.889Z"
   },
   {
    "duration": 509,
    "start_time": "2021-12-20T18:32:51.202Z"
   },
   {
    "duration": 3973,
    "start_time": "2021-12-20T18:37:32.267Z"
   },
   {
    "duration": 38,
    "start_time": "2021-12-20T18:37:38.665Z"
   },
   {
    "duration": 5254,
    "start_time": "2021-12-20T18:37:57.766Z"
   },
   {
    "duration": 55,
    "start_time": "2021-12-20T18:38:03.618Z"
   },
   {
    "duration": 3260,
    "start_time": "2021-12-20T18:38:48.412Z"
   },
   {
    "duration": 49,
    "start_time": "2021-12-20T18:38:53.930Z"
   },
   {
    "duration": 1040,
    "start_time": "2021-12-20T18:39:21.362Z"
   },
   {
    "duration": 12,
    "start_time": "2021-12-20T18:39:33.576Z"
   },
   {
    "duration": 51,
    "start_time": "2021-12-20T18:39:36.749Z"
   },
   {
    "duration": 980,
    "start_time": "2021-12-20T18:39:45.099Z"
   },
   {
    "duration": 107,
    "start_time": "2021-12-20T18:39:46.082Z"
   },
   {
    "duration": 10,
    "start_time": "2021-12-20T18:39:46.193Z"
   },
   {
    "duration": 188,
    "start_time": "2021-12-20T18:39:46.207Z"
   },
   {
    "duration": 152,
    "start_time": "2021-12-20T18:39:46.398Z"
   },
   {
    "duration": 170,
    "start_time": "2021-12-20T18:39:46.553Z"
   },
   {
    "duration": 76,
    "start_time": "2021-12-20T18:39:46.726Z"
   },
   {
    "duration": 133,
    "start_time": "2021-12-20T18:39:46.806Z"
   },
   {
    "duration": 296,
    "start_time": "2021-12-20T18:39:46.943Z"
   },
   {
    "duration": 152,
    "start_time": "2021-12-20T18:39:47.242Z"
   },
   {
    "duration": 149,
    "start_time": "2021-12-20T18:39:47.396Z"
   },
   {
    "duration": 237,
    "start_time": "2021-12-20T18:39:47.548Z"
   },
   {
    "duration": 238,
    "start_time": "2021-12-20T18:39:47.788Z"
   },
   {
    "duration": 222,
    "start_time": "2021-12-20T18:39:48.028Z"
   },
   {
    "duration": 127,
    "start_time": "2021-12-20T18:39:48.253Z"
   },
   {
    "duration": 56,
    "start_time": "2021-12-20T18:39:48.384Z"
   },
   {
    "duration": 35,
    "start_time": "2021-12-20T18:39:48.443Z"
   },
   {
    "duration": 61,
    "start_time": "2021-12-20T18:39:48.481Z"
   },
   {
    "duration": 43,
    "start_time": "2021-12-20T18:39:48.544Z"
   },
   {
    "duration": 46,
    "start_time": "2021-12-20T18:39:48.590Z"
   },
   {
    "duration": 62,
    "start_time": "2021-12-20T18:39:48.639Z"
   },
   {
    "duration": 685,
    "start_time": "2021-12-20T18:40:30.450Z"
   },
   {
    "duration": 919,
    "start_time": "2021-12-20T18:40:44.479Z"
   },
   {
    "duration": 726,
    "start_time": "2021-12-20T18:41:55.551Z"
   },
   {
    "duration": 559,
    "start_time": "2021-12-20T18:44:40.285Z"
   },
   {
    "duration": 85,
    "start_time": "2021-12-20T18:45:16.125Z"
   },
   {
    "duration": 724,
    "start_time": "2021-12-20T18:45:24.427Z"
   },
   {
    "duration": 758,
    "start_time": "2021-12-20T18:45:32.535Z"
   },
   {
    "duration": 88,
    "start_time": "2021-12-20T18:45:33.296Z"
   },
   {
    "duration": 7,
    "start_time": "2021-12-20T18:45:33.393Z"
   },
   {
    "duration": 196,
    "start_time": "2021-12-20T18:45:33.404Z"
   },
   {
    "duration": 65,
    "start_time": "2021-12-20T18:45:33.603Z"
   },
   {
    "duration": 159,
    "start_time": "2021-12-20T18:45:33.671Z"
   },
   {
    "duration": 126,
    "start_time": "2021-12-20T18:45:33.833Z"
   },
   {
    "duration": 14,
    "start_time": "2021-12-20T18:45:33.966Z"
   },
   {
    "duration": 6,
    "start_time": "2021-12-20T18:45:33.983Z"
   },
   {
    "duration": 32,
    "start_time": "2021-12-20T18:45:33.992Z"
   },
   {
    "duration": 69,
    "start_time": "2021-12-20T18:45:34.027Z"
   },
   {
    "duration": 21,
    "start_time": "2021-12-20T18:45:34.099Z"
   },
   {
    "duration": 61,
    "start_time": "2021-12-20T18:45:34.122Z"
   },
   {
    "duration": 36,
    "start_time": "2021-12-20T18:45:34.186Z"
   },
   {
    "duration": 37,
    "start_time": "2021-12-20T18:45:34.224Z"
   },
   {
    "duration": 29,
    "start_time": "2021-12-20T18:45:34.263Z"
   },
   {
    "duration": 22,
    "start_time": "2021-12-20T18:45:34.294Z"
   },
   {
    "duration": 30,
    "start_time": "2021-12-20T18:45:34.319Z"
   },
   {
    "duration": 59,
    "start_time": "2021-12-20T18:45:34.352Z"
   },
   {
    "duration": 1033,
    "start_time": "2021-12-20T18:45:34.413Z"
   },
   {
    "duration": -9030,
    "start_time": "2021-12-20T18:45:44.481Z"
   },
   {
    "duration": 5,
    "start_time": "2021-12-20T18:45:51.465Z"
   },
   {
    "duration": 553,
    "start_time": "2021-12-20T18:46:02.283Z"
   },
   {
    "duration": 670,
    "start_time": "2021-12-20T18:48:22.016Z"
   },
   {
    "duration": 4793,
    "start_time": "2021-12-20T18:49:21.001Z"
   },
   {
    "duration": 48,
    "start_time": "2021-12-20T18:49:27.483Z"
   },
   {
    "duration": 4,
    "start_time": "2021-12-20T18:50:00.523Z"
   },
   {
    "duration": 4537,
    "start_time": "2021-12-20T18:50:01.141Z"
   },
   {
    "duration": 9,
    "start_time": "2021-12-20T18:50:41.885Z"
   },
   {
    "duration": 39,
    "start_time": "2021-12-20T18:50:42.499Z"
   },
   {
    "duration": 631,
    "start_time": "2021-12-22T09:51:18.625Z"
   },
   {
    "duration": 67,
    "start_time": "2021-12-22T09:51:19.258Z"
   },
   {
    "duration": 5,
    "start_time": "2021-12-22T09:51:19.327Z"
   },
   {
    "duration": 97,
    "start_time": "2021-12-22T09:51:19.334Z"
   },
   {
    "duration": 23,
    "start_time": "2021-12-22T09:51:19.433Z"
   },
   {
    "duration": 90,
    "start_time": "2021-12-22T09:51:19.458Z"
   },
   {
    "duration": 42,
    "start_time": "2021-12-22T09:51:19.550Z"
   },
   {
    "duration": 17,
    "start_time": "2021-12-22T09:51:19.595Z"
   },
   {
    "duration": 9,
    "start_time": "2021-12-22T09:51:19.614Z"
   },
   {
    "duration": 26,
    "start_time": "2021-12-22T09:51:19.630Z"
   },
   {
    "duration": 25,
    "start_time": "2021-12-22T09:51:19.659Z"
   },
   {
    "duration": 30,
    "start_time": "2021-12-22T09:51:19.685Z"
   },
   {
    "duration": 27,
    "start_time": "2021-12-22T09:51:19.717Z"
   },
   {
    "duration": 20,
    "start_time": "2021-12-22T09:51:19.746Z"
   },
   {
    "duration": 11,
    "start_time": "2021-12-22T09:51:19.768Z"
   },
   {
    "duration": 28,
    "start_time": "2021-12-22T09:51:19.781Z"
   },
   {
    "duration": 5,
    "start_time": "2021-12-22T09:51:19.814Z"
   },
   {
    "duration": 18,
    "start_time": "2021-12-22T09:51:19.821Z"
   },
   {
    "duration": 12,
    "start_time": "2021-12-22T09:51:19.840Z"
   },
   {
    "duration": 3,
    "start_time": "2021-12-22T09:51:19.855Z"
   },
   {
    "duration": 2716,
    "start_time": "2021-12-22T09:51:19.860Z"
   },
   {
    "duration": 6,
    "start_time": "2021-12-22T09:51:22.579Z"
   },
   {
    "duration": 35,
    "start_time": "2021-12-22T09:51:22.589Z"
   },
   {
    "duration": 226,
    "start_time": "2021-12-22T09:52:14.473Z"
   },
   {
    "duration": 316,
    "start_time": "2021-12-22T09:52:28.334Z"
   },
   {
    "duration": 215,
    "start_time": "2021-12-22T09:52:48.844Z"
   },
   {
    "duration": 318,
    "start_time": "2021-12-22T09:53:20.069Z"
   },
   {
    "duration": 223,
    "start_time": "2021-12-22T09:53:45.236Z"
   },
   {
    "duration": 325,
    "start_time": "2021-12-22T09:53:54.884Z"
   },
   {
    "duration": 178,
    "start_time": "2021-12-22T09:54:19.098Z"
   },
   {
    "duration": 1712,
    "start_time": "2021-12-22T09:54:49.209Z"
   },
   {
    "duration": 190,
    "start_time": "2021-12-22T09:55:22.507Z"
   },
   {
    "duration": 180,
    "start_time": "2021-12-22T09:55:31.473Z"
   },
   {
    "duration": 180,
    "start_time": "2021-12-22T09:55:42.478Z"
   },
   {
    "duration": 234,
    "start_time": "2021-12-22T09:56:17.992Z"
   },
   {
    "duration": 188,
    "start_time": "2021-12-22T09:58:24.817Z"
   },
   {
    "duration": 331,
    "start_time": "2021-12-22T09:58:37.943Z"
   },
   {
    "duration": 474,
    "start_time": "2021-12-22T10:39:56.574Z"
   },
   {
    "duration": 288,
    "start_time": "2021-12-22T10:40:14.536Z"
   },
   {
    "duration": 372,
    "start_time": "2021-12-22T10:48:24.878Z"
   },
   {
    "duration": 6,
    "start_time": "2021-12-22T10:57:13.404Z"
   },
   {
    "duration": 2,
    "start_time": "2021-12-22T11:04:28.967Z"
   },
   {
    "duration": 202,
    "start_time": "2021-12-22T11:04:39.950Z"
   },
   {
    "duration": 288,
    "start_time": "2021-12-22T11:04:44.219Z"
   },
   {
    "duration": 186,
    "start_time": "2021-12-22T11:04:49.522Z"
   },
   {
    "duration": 314,
    "start_time": "2021-12-22T11:04:54.615Z"
   },
   {
    "duration": 20,
    "start_time": "2021-12-22T11:06:33.511Z"
   },
   {
    "duration": 29,
    "start_time": "2021-12-22T11:06:53.637Z"
   },
   {
    "duration": 19,
    "start_time": "2021-12-22T11:09:31.401Z"
   },
   {
    "duration": 31,
    "start_time": "2021-12-22T11:09:47.230Z"
   },
   {
    "duration": 30,
    "start_time": "2021-12-22T11:10:21.441Z"
   },
   {
    "duration": 297,
    "start_time": "2021-12-22T11:11:18.743Z"
   },
   {
    "duration": 929,
    "start_time": "2021-12-22T11:16:40.552Z"
   },
   {
    "duration": 312,
    "start_time": "2021-12-22T11:32:26.227Z"
   },
   {
    "duration": 11,
    "start_time": "2021-12-22T11:32:45.990Z"
   },
   {
    "duration": 17,
    "start_time": "2021-12-22T11:33:01.251Z"
   },
   {
    "duration": 14,
    "start_time": "2021-12-22T11:33:20.111Z"
   },
   {
    "duration": 15,
    "start_time": "2021-12-22T11:33:43.426Z"
   },
   {
    "duration": 382,
    "start_time": "2021-12-22T11:46:27.168Z"
   },
   {
    "duration": 9,
    "start_time": "2021-12-22T11:47:06.394Z"
   },
   {
    "duration": 502,
    "start_time": "2021-12-22T11:47:12.247Z"
   },
   {
    "duration": 712,
    "start_time": "2021-12-22T11:47:23.490Z"
   },
   {
    "duration": 62,
    "start_time": "2021-12-22T11:47:24.204Z"
   },
   {
    "duration": 6,
    "start_time": "2021-12-22T11:47:24.268Z"
   },
   {
    "duration": 96,
    "start_time": "2021-12-22T11:47:24.276Z"
   },
   {
    "duration": 21,
    "start_time": "2021-12-22T11:47:24.373Z"
   },
   {
    "duration": 82,
    "start_time": "2021-12-22T11:47:24.396Z"
   },
   {
    "duration": 48,
    "start_time": "2021-12-22T11:47:24.479Z"
   },
   {
    "duration": 8,
    "start_time": "2021-12-22T11:47:24.529Z"
   },
   {
    "duration": 4,
    "start_time": "2021-12-22T11:47:24.540Z"
   },
   {
    "duration": 18,
    "start_time": "2021-12-22T11:47:24.546Z"
   },
   {
    "duration": 47,
    "start_time": "2021-12-22T11:47:24.565Z"
   },
   {
    "duration": 8,
    "start_time": "2021-12-22T11:47:24.614Z"
   },
   {
    "duration": 23,
    "start_time": "2021-12-22T11:47:24.623Z"
   },
   {
    "duration": 19,
    "start_time": "2021-12-22T11:47:24.648Z"
   },
   {
    "duration": 7,
    "start_time": "2021-12-22T11:47:24.669Z"
   },
   {
    "duration": 5,
    "start_time": "2021-12-22T11:47:24.678Z"
   },
   {
    "duration": 3,
    "start_time": "2021-12-22T11:47:24.707Z"
   },
   {
    "duration": 17,
    "start_time": "2021-12-22T11:47:24.712Z"
   },
   {
    "duration": 12,
    "start_time": "2021-12-22T11:47:24.731Z"
   },
   {
    "duration": 4,
    "start_time": "2021-12-22T11:47:24.745Z"
   },
   {
    "duration": 2109,
    "start_time": "2021-12-22T11:47:24.751Z"
   },
   {
    "duration": 5,
    "start_time": "2021-12-22T11:47:26.862Z"
   },
   {
    "duration": 36,
    "start_time": "2021-12-22T11:47:26.869Z"
   },
   {
    "duration": 310,
    "start_time": "2021-12-22T11:47:26.908Z"
   },
   {
    "duration": 182,
    "start_time": "2021-12-22T11:47:27.220Z"
   },
   {
    "duration": 166,
    "start_time": "2021-12-22T11:47:27.403Z"
   },
   {
    "duration": 355,
    "start_time": "2021-12-22T11:47:27.572Z"
   },
   {
    "duration": 4,
    "start_time": "2021-12-22T11:47:27.929Z"
   },
   {
    "duration": 28,
    "start_time": "2021-12-22T11:47:27.935Z"
   },
   {
    "duration": 47,
    "start_time": "2021-12-22T11:47:27.964Z"
   },
   {
    "duration": 15,
    "start_time": "2021-12-22T11:47:28.012Z"
   },
   {
    "duration": 518,
    "start_time": "2021-12-22T12:44:48.684Z"
   },
   {
    "duration": 648,
    "start_time": "2021-12-22T12:45:05.978Z"
   },
   {
    "duration": 983,
    "start_time": "2021-12-22T12:45:36.773Z"
   },
   {
    "duration": 668,
    "start_time": "2021-12-22T12:46:35.625Z"
   },
   {
    "duration": 569,
    "start_time": "2021-12-22T12:46:38.980Z"
   },
   {
    "duration": 369,
    "start_time": "2021-12-22T17:52:09.575Z"
   },
   {
    "duration": 872,
    "start_time": "2021-12-22T17:52:18.560Z"
   },
   {
    "duration": 77,
    "start_time": "2021-12-22T17:52:19.435Z"
   },
   {
    "duration": 8,
    "start_time": "2021-12-22T17:52:19.515Z"
   },
   {
    "duration": 126,
    "start_time": "2021-12-22T17:52:19.526Z"
   },
   {
    "duration": 35,
    "start_time": "2021-12-22T17:52:19.658Z"
   },
   {
    "duration": 117,
    "start_time": "2021-12-22T17:52:19.695Z"
   },
   {
    "duration": 77,
    "start_time": "2021-12-22T17:52:19.814Z"
   },
   {
    "duration": 10,
    "start_time": "2021-12-22T17:52:19.895Z"
   },
   {
    "duration": 6,
    "start_time": "2021-12-22T17:52:19.909Z"
   },
   {
    "duration": 50,
    "start_time": "2021-12-22T17:52:19.917Z"
   },
   {
    "duration": 29,
    "start_time": "2021-12-22T17:52:19.970Z"
   },
   {
    "duration": 10,
    "start_time": "2021-12-22T17:52:20.002Z"
   },
   {
    "duration": 56,
    "start_time": "2021-12-22T17:52:20.015Z"
   },
   {
    "duration": 35,
    "start_time": "2021-12-22T17:52:20.073Z"
   },
   {
    "duration": 11,
    "start_time": "2021-12-22T17:52:20.110Z"
   },
   {
    "duration": 9,
    "start_time": "2021-12-22T17:52:20.123Z"
   },
   {
    "duration": 11,
    "start_time": "2021-12-22T17:52:20.160Z"
   },
   {
    "duration": 22,
    "start_time": "2021-12-22T17:52:20.173Z"
   },
   {
    "duration": 14,
    "start_time": "2021-12-22T17:52:20.198Z"
   },
   {
    "duration": 4,
    "start_time": "2021-12-22T17:52:20.214Z"
   },
   {
    "duration": 4154,
    "start_time": "2021-12-22T17:52:20.221Z"
   },
   {
    "duration": 6,
    "start_time": "2021-12-22T17:52:24.377Z"
   },
   {
    "duration": 35,
    "start_time": "2021-12-22T17:52:24.388Z"
   },
   {
    "duration": 558,
    "start_time": "2021-12-22T17:52:24.425Z"
   },
   {
    "duration": 318,
    "start_time": "2021-12-22T17:52:24.986Z"
   },
   {
    "duration": 283,
    "start_time": "2021-12-22T17:52:25.306Z"
   },
   {
    "duration": 1068,
    "start_time": "2021-12-22T17:52:25.591Z"
   },
   {
    "duration": 7,
    "start_time": "2021-12-22T17:52:26.662Z"
   },
   {
    "duration": 49,
    "start_time": "2021-12-22T17:52:26.672Z"
   },
   {
    "duration": 72,
    "start_time": "2021-12-22T17:52:26.724Z"
   },
   {
    "duration": 23,
    "start_time": "2021-12-22T17:52:26.799Z"
   },
   {
    "duration": 538,
    "start_time": "2021-12-22T17:55:46.831Z"
   },
   {
    "duration": 634,
    "start_time": "2021-12-22T17:55:53.365Z"
   },
   {
    "duration": 645,
    "start_time": "2021-12-22T17:55:59.070Z"
   },
   {
    "duration": 516,
    "start_time": "2021-12-22T17:57:27.289Z"
   },
   {
    "duration": 411,
    "start_time": "2021-12-22T17:57:37.224Z"
   },
   {
    "duration": 986,
    "start_time": "2021-12-22T17:57:52.583Z"
   },
   {
    "duration": 1055,
    "start_time": "2021-12-22T18:06:30.173Z"
   },
   {
    "duration": 836,
    "start_time": "2021-12-22T18:07:01.552Z"
   },
   {
    "duration": 818,
    "start_time": "2021-12-22T18:07:35.495Z"
   },
   {
    "duration": 1002,
    "start_time": "2021-12-22T18:12:26.644Z"
   },
   {
    "duration": 369,
    "start_time": "2021-12-22T18:12:36.203Z"
   },
   {
    "duration": 19,
    "start_time": "2021-12-22T18:13:11.521Z"
   },
   {
    "duration": 1033,
    "start_time": "2021-12-22T18:13:39.256Z"
   },
   {
    "duration": 846,
    "start_time": "2021-12-22T18:13:47.895Z"
   },
   {
    "duration": 851,
    "start_time": "2021-12-22T18:14:00.810Z"
   },
   {
    "duration": 963,
    "start_time": "2021-12-22T18:14:41.779Z"
   },
   {
    "duration": 955,
    "start_time": "2021-12-22T18:19:58.525Z"
   },
   {
    "duration": 74,
    "start_time": "2021-12-22T18:19:59.483Z"
   },
   {
    "duration": 8,
    "start_time": "2021-12-22T18:19:59.560Z"
   },
   {
    "duration": 126,
    "start_time": "2021-12-22T18:19:59.570Z"
   },
   {
    "duration": 39,
    "start_time": "2021-12-22T18:19:59.698Z"
   },
   {
    "duration": 127,
    "start_time": "2021-12-22T18:19:59.739Z"
   },
   {
    "duration": 68,
    "start_time": "2021-12-22T18:19:59.869Z"
   },
   {
    "duration": 27,
    "start_time": "2021-12-22T18:19:59.940Z"
   },
   {
    "duration": 6,
    "start_time": "2021-12-22T18:19:59.972Z"
   },
   {
    "duration": 28,
    "start_time": "2021-12-22T18:19:59.981Z"
   },
   {
    "duration": 61,
    "start_time": "2021-12-22T18:20:00.012Z"
   },
   {
    "duration": 12,
    "start_time": "2021-12-22T18:20:00.076Z"
   },
   {
    "duration": 39,
    "start_time": "2021-12-22T18:20:00.090Z"
   },
   {
    "duration": 56,
    "start_time": "2021-12-22T18:20:00.132Z"
   },
   {
    "duration": 12,
    "start_time": "2021-12-22T18:20:00.190Z"
   },
   {
    "duration": 9,
    "start_time": "2021-12-22T18:20:00.205Z"
   },
   {
    "duration": 9,
    "start_time": "2021-12-22T18:20:00.216Z"
   },
   {
    "duration": 49,
    "start_time": "2021-12-22T18:20:00.227Z"
   },
   {
    "duration": 15,
    "start_time": "2021-12-22T18:20:00.278Z"
   },
   {
    "duration": 4,
    "start_time": "2021-12-22T18:20:00.295Z"
   },
   {
    "duration": 4345,
    "start_time": "2021-12-22T18:20:00.301Z"
   },
   {
    "duration": 13,
    "start_time": "2021-12-22T18:20:04.649Z"
   },
   {
    "duration": 42,
    "start_time": "2021-12-22T18:20:04.665Z"
   },
   {
    "duration": 664,
    "start_time": "2021-12-22T18:20:04.710Z"
   },
   {
    "duration": 335,
    "start_time": "2021-12-22T18:20:05.377Z"
   },
   {
    "duration": 775,
    "start_time": "2021-12-22T18:20:05.715Z"
   },
   {
    "duration": 450,
    "start_time": "2021-12-22T18:20:06.495Z"
   },
   {
    "duration": 1081,
    "start_time": "2021-12-22T18:20:06.948Z"
   },
   {
    "duration": 874,
    "start_time": "2021-12-22T18:20:08.031Z"
   },
   {
    "duration": 1111,
    "start_time": "2021-12-22T18:20:08.908Z"
   },
   {
    "duration": 628,
    "start_time": "2021-12-22T18:20:57.861Z"
   },
   {
    "duration": 1043,
    "start_time": "2021-12-22T18:21:03.070Z"
   },
   {
    "duration": 957,
    "start_time": "2021-12-22T18:21:37.718Z"
   },
   {
    "duration": 1021,
    "start_time": "2021-12-22T18:21:46.403Z"
   },
   {
    "duration": 911,
    "start_time": "2021-12-22T18:21:58.439Z"
   },
   {
    "duration": 529,
    "start_time": "2021-12-22T18:30:45.015Z"
   },
   {
    "duration": -12342,
    "start_time": "2021-12-22T18:32:02.289Z"
   },
   {
    "duration": 9357,
    "start_time": "2021-12-22T18:32:14.305Z"
   },
   {
    "duration": 29,
    "start_time": "2021-12-22T18:32:43.815Z"
   },
   {
    "duration": 43,
    "start_time": "2021-12-22T18:33:48.671Z"
   },
   {
    "duration": 36,
    "start_time": "2021-12-22T18:34:01.237Z"
   },
   {
    "duration": 34,
    "start_time": "2021-12-22T18:34:30.849Z"
   },
   {
    "duration": 32,
    "start_time": "2021-12-22T18:34:37.989Z"
   },
   {
    "duration": 340,
    "start_time": "2021-12-22T18:35:01.815Z"
   },
   {
    "duration": 441,
    "start_time": "2021-12-22T18:35:18.448Z"
   },
   {
    "duration": 347,
    "start_time": "2021-12-22T18:35:58.030Z"
   },
   {
    "duration": 354,
    "start_time": "2021-12-22T18:36:29.457Z"
   },
   {
    "duration": 455,
    "start_time": "2021-12-22T18:36:33.704Z"
   },
   {
    "duration": 384,
    "start_time": "2021-12-22T18:36:37.407Z"
   },
   {
    "duration": 318,
    "start_time": "2021-12-23T17:12:21.694Z"
   },
   {
    "duration": 1008,
    "start_time": "2021-12-23T17:12:30.310Z"
   },
   {
    "duration": 81,
    "start_time": "2021-12-23T17:12:31.321Z"
   },
   {
    "duration": 9,
    "start_time": "2021-12-23T17:12:31.406Z"
   },
   {
    "duration": 151,
    "start_time": "2021-12-23T17:12:31.418Z"
   },
   {
    "duration": 83,
    "start_time": "2021-12-23T17:12:31.571Z"
   },
   {
    "duration": 179,
    "start_time": "2021-12-23T17:12:31.658Z"
   },
   {
    "duration": 150,
    "start_time": "2021-12-23T17:12:31.855Z"
   },
   {
    "duration": 15,
    "start_time": "2021-12-23T17:12:32.028Z"
   },
   {
    "duration": 18,
    "start_time": "2021-12-23T17:12:32.048Z"
   },
   {
    "duration": 82,
    "start_time": "2021-12-23T17:12:32.069Z"
   },
   {
    "duration": 51,
    "start_time": "2021-12-23T17:12:32.155Z"
   },
   {
    "duration": 37,
    "start_time": "2021-12-23T17:12:32.209Z"
   },
   {
    "duration": 49,
    "start_time": "2021-12-23T17:12:32.249Z"
   },
   {
    "duration": 38,
    "start_time": "2021-12-23T17:12:32.301Z"
   },
   {
    "duration": 24,
    "start_time": "2021-12-23T17:12:32.341Z"
   },
   {
    "duration": 10,
    "start_time": "2021-12-23T17:12:32.369Z"
   },
   {
    "duration": 7,
    "start_time": "2021-12-23T17:12:32.383Z"
   },
   {
    "duration": 30,
    "start_time": "2021-12-23T17:12:32.394Z"
   },
   {
    "duration": 50,
    "start_time": "2021-12-23T17:12:32.427Z"
   },
   {
    "duration": 5,
    "start_time": "2021-12-23T17:12:32.480Z"
   },
   {
    "duration": 6767,
    "start_time": "2021-12-23T17:12:32.488Z"
   },
   {
    "duration": 15,
    "start_time": "2021-12-23T17:12:39.259Z"
   },
   {
    "duration": 45,
    "start_time": "2021-12-23T17:12:39.280Z"
   },
   {
    "duration": 611,
    "start_time": "2021-12-23T17:12:39.329Z"
   },
   {
    "duration": 398,
    "start_time": "2021-12-23T17:12:39.943Z"
   },
   {
    "duration": 734,
    "start_time": "2021-12-23T17:12:40.344Z"
   },
   {
    "duration": 437,
    "start_time": "2021-12-23T17:12:41.081Z"
   },
   {
    "duration": 1012,
    "start_time": "2021-12-23T17:12:41.520Z"
   },
   {
    "duration": 899,
    "start_time": "2021-12-23T17:12:42.535Z"
   },
   {
    "duration": 934,
    "start_time": "2021-12-23T17:12:43.436Z"
   },
   {
    "duration": 380,
    "start_time": "2021-12-23T17:12:44.373Z"
   },
   {
    "duration": 390,
    "start_time": "2021-12-23T17:12:44.756Z"
   },
   {
    "duration": 2018,
    "start_time": "2021-12-23T17:13:37.764Z"
   },
   {
    "duration": 457,
    "start_time": "2021-12-23T17:13:50.359Z"
   },
   {
    "duration": 1150,
    "start_time": "2021-12-23T17:14:43.948Z"
   },
   {
    "duration": 109,
    "start_time": "2021-12-23T17:14:45.101Z"
   },
   {
    "duration": 10,
    "start_time": "2021-12-23T17:14:45.214Z"
   },
   {
    "duration": 141,
    "start_time": "2021-12-23T17:14:45.226Z"
   },
   {
    "duration": 41,
    "start_time": "2021-12-23T17:14:45.370Z"
   },
   {
    "duration": 149,
    "start_time": "2021-12-23T17:14:45.414Z"
   },
   {
    "duration": 125,
    "start_time": "2021-12-23T17:14:45.565Z"
   },
   {
    "duration": 10,
    "start_time": "2021-12-23T17:14:45.695Z"
   },
   {
    "duration": 6,
    "start_time": "2021-12-23T17:14:45.708Z"
   },
   {
    "duration": 65,
    "start_time": "2021-12-23T17:14:45.717Z"
   },
   {
    "duration": 35,
    "start_time": "2021-12-23T17:14:45.785Z"
   },
   {
    "duration": 11,
    "start_time": "2021-12-23T17:14:45.822Z"
   },
   {
    "duration": 65,
    "start_time": "2021-12-23T17:14:45.837Z"
   },
   {
    "duration": 36,
    "start_time": "2021-12-23T17:14:45.905Z"
   },
   {
    "duration": 11,
    "start_time": "2021-12-23T17:14:45.963Z"
   },
   {
    "duration": 9,
    "start_time": "2021-12-23T17:14:45.977Z"
   },
   {
    "duration": 6,
    "start_time": "2021-12-23T17:14:45.989Z"
   },
   {
    "duration": 23,
    "start_time": "2021-12-23T17:14:45.998Z"
   },
   {
    "duration": 54,
    "start_time": "2021-12-23T17:14:46.024Z"
   },
   {
    "duration": 5,
    "start_time": "2021-12-23T17:14:46.081Z"
   },
   {
    "duration": 4507,
    "start_time": "2021-12-23T17:14:46.089Z"
   },
   {
    "duration": 7,
    "start_time": "2021-12-23T17:14:50.599Z"
   },
   {
    "duration": 55,
    "start_time": "2021-12-23T17:14:50.610Z"
   },
   {
    "duration": 600,
    "start_time": "2021-12-23T17:14:50.669Z"
   },
   {
    "duration": 473,
    "start_time": "2021-12-23T17:14:51.272Z"
   },
   {
    "duration": 701,
    "start_time": "2021-12-23T17:14:51.748Z"
   },
   {
    "duration": 424,
    "start_time": "2021-12-23T17:14:52.452Z"
   },
   {
    "duration": 997,
    "start_time": "2021-12-23T17:14:52.879Z"
   },
   {
    "duration": 935,
    "start_time": "2021-12-23T17:14:53.879Z"
   },
   {
    "duration": 932,
    "start_time": "2021-12-23T17:14:54.816Z"
   },
   {
    "duration": 377,
    "start_time": "2021-12-23T17:14:55.751Z"
   },
   {
    "duration": 371,
    "start_time": "2021-12-23T17:14:56.131Z"
   },
   {
    "duration": 444,
    "start_time": "2021-12-23T17:15:46.179Z"
   },
   {
    "duration": 376,
    "start_time": "2021-12-23T17:16:39.228Z"
   },
   {
    "duration": 399,
    "start_time": "2021-12-23T17:19:57.490Z"
   },
   {
    "duration": 48,
    "start_time": "2021-12-23T17:20:36.233Z"
   },
   {
    "duration": 1355,
    "start_time": "2021-12-23T17:21:11.588Z"
   },
   {
    "duration": 2210,
    "start_time": "2021-12-23T17:21:35.745Z"
   },
   {
    "duration": 282,
    "start_time": "2021-12-23T17:22:32.470Z"
   },
   {
    "duration": 43,
    "start_time": "2021-12-23T17:22:37.940Z"
   },
   {
    "duration": 808,
    "start_time": "2021-12-23T17:24:01.542Z"
   },
   {
    "duration": 299,
    "start_time": "2021-12-23T17:26:26.071Z"
   },
   {
    "duration": 298,
    "start_time": "2021-12-23T17:26:32.608Z"
   },
   {
    "duration": 596,
    "start_time": "2021-12-23T17:26:55.794Z"
   },
   {
    "duration": 352,
    "start_time": "2021-12-23T17:27:11.711Z"
   },
   {
    "duration": 348,
    "start_time": "2021-12-23T17:27:25.614Z"
   },
   {
    "duration": 490,
    "start_time": "2021-12-23T17:30:06.927Z"
   },
   {
    "duration": 440,
    "start_time": "2021-12-23T17:30:12.372Z"
   },
   {
    "duration": 456,
    "start_time": "2021-12-23T17:31:02.156Z"
   },
   {
    "duration": 38,
    "start_time": "2021-12-23T17:33:23.557Z"
   },
   {
    "duration": 317,
    "start_time": "2021-12-23T17:34:21.295Z"
   },
   {
    "duration": 46,
    "start_time": "2021-12-23T17:34:28.962Z"
   },
   {
    "duration": 50,
    "start_time": "2021-12-23T17:35:02.758Z"
   },
   {
    "duration": 24,
    "start_time": "2021-12-23T18:07:47.469Z"
   },
   {
    "duration": 23,
    "start_time": "2021-12-23T18:08:12.498Z"
   },
   {
    "duration": 7640,
    "start_time": "2021-12-23T18:08:20.339Z"
   },
   {
    "duration": 7348,
    "start_time": "2021-12-23T18:08:51.043Z"
   },
   {
    "duration": 262,
    "start_time": "2021-12-23T18:09:18.982Z"
   },
   {
    "duration": 8,
    "start_time": "2021-12-23T18:09:35.464Z"
   },
   {
    "duration": 240,
    "start_time": "2021-12-23T18:11:08.695Z"
   },
   {
    "duration": 21,
    "start_time": "2021-12-23T18:11:18.377Z"
   },
   {
    "duration": 30,
    "start_time": "2021-12-23T18:12:20.008Z"
   },
   {
    "duration": 32,
    "start_time": "2021-12-23T18:15:38.624Z"
   },
   {
    "duration": 416,
    "start_time": "2021-12-23T18:15:44.186Z"
   },
   {
    "duration": 98,
    "start_time": "2021-12-23T18:18:42.823Z"
   },
   {
    "duration": 14,
    "start_time": "2021-12-23T18:18:51.199Z"
   },
   {
    "duration": 341,
    "start_time": "2021-12-23T18:20:14.483Z"
   },
   {
    "duration": 318,
    "start_time": "2021-12-23T18:22:18.927Z"
   },
   {
    "duration": 385,
    "start_time": "2021-12-23T18:22:25.233Z"
   },
   {
    "duration": 674,
    "start_time": "2021-12-23T18:22:32.241Z"
   },
   {
    "duration": 763,
    "start_time": "2021-12-23T18:22:55.155Z"
   },
   {
    "duration": 605,
    "start_time": "2021-12-23T18:24:08.378Z"
   },
   {
    "duration": 543,
    "start_time": "2021-12-23T18:24:18.087Z"
   },
   {
    "duration": 549,
    "start_time": "2021-12-23T18:24:42.163Z"
   },
   {
    "duration": 516,
    "start_time": "2021-12-23T18:24:47.828Z"
   },
   {
    "duration": 533,
    "start_time": "2021-12-23T18:24:52.809Z"
   },
   {
    "duration": 739,
    "start_time": "2021-12-23T18:26:11.525Z"
   },
   {
    "duration": 386,
    "start_time": "2021-12-23T18:26:18.989Z"
   },
   {
    "duration": 322,
    "start_time": "2021-12-23T18:27:00.053Z"
   },
   {
    "duration": 528,
    "start_time": "2021-12-23T18:27:05.110Z"
   },
   {
    "duration": 382,
    "start_time": "2021-12-23T18:27:10.826Z"
   },
   {
    "duration": 415,
    "start_time": "2021-12-23T18:27:25.006Z"
   },
   {
    "duration": 447,
    "start_time": "2021-12-23T18:29:00.865Z"
   },
   {
    "duration": 655,
    "start_time": "2021-12-23T18:29:14.410Z"
   },
   {
    "duration": 770,
    "start_time": "2021-12-23T18:29:19.336Z"
   },
   {
    "duration": 836,
    "start_time": "2021-12-23T18:29:47.146Z"
   },
   {
    "duration": 870,
    "start_time": "2021-12-23T18:29:58.315Z"
   },
   {
    "duration": 1218,
    "start_time": "2021-12-26T14:59:02.587Z"
   },
   {
    "duration": 59,
    "start_time": "2021-12-26T14:59:03.806Z"
   },
   {
    "duration": 5,
    "start_time": "2021-12-26T14:59:03.867Z"
   },
   {
    "duration": 78,
    "start_time": "2021-12-26T14:59:03.874Z"
   },
   {
    "duration": 21,
    "start_time": "2021-12-26T14:59:03.953Z"
   },
   {
    "duration": 114,
    "start_time": "2021-12-26T14:59:03.976Z"
   },
   {
    "duration": 79,
    "start_time": "2021-12-26T14:59:04.092Z"
   },
   {
    "duration": 13,
    "start_time": "2021-12-26T14:59:04.175Z"
   },
   {
    "duration": 6,
    "start_time": "2021-12-26T14:59:04.190Z"
   },
   {
    "duration": 44,
    "start_time": "2021-12-26T14:59:04.198Z"
   },
   {
    "duration": 30,
    "start_time": "2021-12-26T14:59:04.245Z"
   },
   {
    "duration": 11,
    "start_time": "2021-12-26T14:59:04.277Z"
   },
   {
    "duration": 51,
    "start_time": "2021-12-26T14:59:04.290Z"
   },
   {
    "duration": 28,
    "start_time": "2021-12-26T14:59:04.343Z"
   },
   {
    "duration": 5,
    "start_time": "2021-12-26T14:59:04.374Z"
   },
   {
    "duration": 8,
    "start_time": "2021-12-26T14:59:04.381Z"
   },
   {
    "duration": 5,
    "start_time": "2021-12-26T14:59:04.391Z"
   },
   {
    "duration": 18,
    "start_time": "2021-12-26T14:59:04.398Z"
   },
   {
    "duration": 11,
    "start_time": "2021-12-26T14:59:04.442Z"
   },
   {
    "duration": 3,
    "start_time": "2021-12-26T14:59:04.455Z"
   },
   {
    "duration": 1934,
    "start_time": "2021-12-26T14:59:04.460Z"
   },
   {
    "duration": 5,
    "start_time": "2021-12-26T14:59:06.396Z"
   },
   {
    "duration": 23,
    "start_time": "2021-12-26T14:59:06.404Z"
   },
   {
    "duration": 314,
    "start_time": "2021-12-26T14:59:06.429Z"
   },
   {
    "duration": 206,
    "start_time": "2021-12-26T14:59:06.745Z"
   },
   {
    "duration": 349,
    "start_time": "2021-12-26T14:59:06.953Z"
   },
   {
    "duration": 224,
    "start_time": "2021-12-26T14:59:07.304Z"
   },
   {
    "duration": 460,
    "start_time": "2021-12-26T14:59:07.529Z"
   },
   {
    "duration": 525,
    "start_time": "2021-12-26T14:59:07.991Z"
   },
   {
    "duration": 468,
    "start_time": "2021-12-26T14:59:08.518Z"
   },
   {
    "duration": 186,
    "start_time": "2021-12-26T14:59:08.987Z"
   },
   {
    "duration": 190,
    "start_time": "2021-12-26T14:59:09.174Z"
   },
   {
    "duration": 24,
    "start_time": "2021-12-26T14:59:09.365Z"
   },
   {
    "duration": 505,
    "start_time": "2021-12-26T14:59:09.390Z"
   },
   {
    "duration": 186,
    "start_time": "2021-12-26T14:59:09.896Z"
   },
   {
    "duration": 211,
    "start_time": "2021-12-26T14:59:10.084Z"
   },
   {
    "duration": 206,
    "start_time": "2021-12-26T14:59:10.297Z"
   },
   {
    "duration": 20,
    "start_time": "2021-12-26T14:59:10.504Z"
   },
   {
    "duration": 272,
    "start_time": "2021-12-26T14:59:10.526Z"
   },
   {
    "duration": 8,
    "start_time": "2021-12-26T14:59:10.800Z"
   },
   {
    "duration": 291,
    "start_time": "2021-12-26T14:59:10.809Z"
   },
   {
    "duration": 288,
    "start_time": "2021-12-26T14:59:11.101Z"
   },
   {
    "duration": 192,
    "start_time": "2021-12-26T14:59:11.391Z"
   },
   {
    "duration": 223,
    "start_time": "2021-12-26T14:59:11.584Z"
   },
   {
    "duration": 535,
    "start_time": "2021-12-26T14:59:11.808Z"
   },
   {
    "duration": 510,
    "start_time": "2021-12-26T15:08:13.782Z"
   },
   {
    "duration": 5267,
    "start_time": "2021-12-26T15:10:40.593Z"
   },
   {
    "duration": 225,
    "start_time": "2021-12-26T15:11:53.168Z"
   },
   {
    "duration": 378,
    "start_time": "2021-12-26T15:12:08.949Z"
   },
   {
    "duration": 523,
    "start_time": "2021-12-26T15:12:29.112Z"
   },
   {
    "duration": 181,
    "start_time": "2021-12-26T15:15:46.880Z"
   },
   {
    "duration": 208,
    "start_time": "2021-12-26T15:17:03.815Z"
   },
   {
    "duration": 189,
    "start_time": "2021-12-26T15:18:14.486Z"
   },
   {
    "duration": 187,
    "start_time": "2021-12-26T15:19:16.292Z"
   },
   {
    "duration": 371,
    "start_time": "2021-12-26T16:16:13.437Z"
   },
   {
    "duration": 363,
    "start_time": "2021-12-26T16:31:59.766Z"
   },
   {
    "duration": 13,
    "start_time": "2021-12-26T16:34:53.611Z"
   },
   {
    "duration": 288,
    "start_time": "2021-12-26T16:34:57.745Z"
   },
   {
    "duration": 13,
    "start_time": "2021-12-26T16:35:12.392Z"
   },
   {
    "duration": 5,
    "start_time": "2021-12-26T16:35:15.018Z"
   },
   {
    "duration": 55,
    "start_time": "2021-12-26T16:35:15.257Z"
   },
   {
    "duration": 14,
    "start_time": "2021-12-26T16:35:41.417Z"
   },
   {
    "duration": 4,
    "start_time": "2021-12-26T16:35:42.679Z"
   },
   {
    "duration": 55,
    "start_time": "2021-12-26T16:35:42.935Z"
   },
   {
    "duration": 12,
    "start_time": "2021-12-26T16:35:59.879Z"
   },
   {
    "duration": 4,
    "start_time": "2021-12-26T16:36:00.271Z"
   },
   {
    "duration": 31,
    "start_time": "2021-12-26T16:36:00.633Z"
   },
   {
    "duration": 219,
    "start_time": "2021-12-26T16:37:03.329Z"
   },
   {
    "duration": 1073,
    "start_time": "2021-12-26T16:37:19.622Z"
   },
   {
    "duration": 59,
    "start_time": "2021-12-26T16:37:20.698Z"
   },
   {
    "duration": 6,
    "start_time": "2021-12-26T16:37:20.759Z"
   },
   {
    "duration": 92,
    "start_time": "2021-12-26T16:37:20.767Z"
   },
   {
    "duration": 22,
    "start_time": "2021-12-26T16:37:20.861Z"
   },
   {
    "duration": 79,
    "start_time": "2021-12-26T16:37:20.885Z"
   },
   {
    "duration": 41,
    "start_time": "2021-12-26T16:37:20.966Z"
   },
   {
    "duration": 9,
    "start_time": "2021-12-26T16:37:21.009Z"
   },
   {
    "duration": 9,
    "start_time": "2021-12-26T16:37:21.019Z"
   },
   {
    "duration": 19,
    "start_time": "2021-12-26T16:37:21.041Z"
   },
   {
    "duration": 27,
    "start_time": "2021-12-26T16:37:21.062Z"
   },
   {
    "duration": 16,
    "start_time": "2021-12-26T16:37:21.091Z"
   },
   {
    "duration": 37,
    "start_time": "2021-12-26T16:37:21.108Z"
   },
   {
    "duration": 20,
    "start_time": "2021-12-26T16:37:21.147Z"
   },
   {
    "duration": 14,
    "start_time": "2021-12-26T16:37:21.169Z"
   },
   {
    "duration": 22,
    "start_time": "2021-12-26T16:37:21.185Z"
   },
   {
    "duration": 13,
    "start_time": "2021-12-26T16:37:21.209Z"
   },
   {
    "duration": 36,
    "start_time": "2021-12-26T16:37:21.223Z"
   },
   {
    "duration": 28,
    "start_time": "2021-12-26T16:37:21.261Z"
   },
   {
    "duration": 6,
    "start_time": "2021-12-26T16:37:21.290Z"
   },
   {
    "duration": 2263,
    "start_time": "2021-12-26T16:37:21.297Z"
   },
   {
    "duration": 6,
    "start_time": "2021-12-26T16:37:23.562Z"
   },
   {
    "duration": 23,
    "start_time": "2021-12-26T16:37:23.574Z"
   },
   {
    "duration": 402,
    "start_time": "2021-12-26T16:37:23.599Z"
   },
   {
    "duration": 229,
    "start_time": "2021-12-26T16:37:24.003Z"
   },
   {
    "duration": 487,
    "start_time": "2021-12-26T16:37:24.241Z"
   },
   {
    "duration": 251,
    "start_time": "2021-12-26T16:37:24.730Z"
   },
   {
    "duration": 488,
    "start_time": "2021-12-26T16:37:24.983Z"
   },
   {
    "duration": 551,
    "start_time": "2021-12-26T16:37:25.472Z"
   },
   {
    "duration": 492,
    "start_time": "2021-12-26T16:37:26.025Z"
   },
   {
    "duration": 193,
    "start_time": "2021-12-26T16:37:26.518Z"
   },
   {
    "duration": 200,
    "start_time": "2021-12-26T16:37:26.713Z"
   },
   {
    "duration": 40,
    "start_time": "2021-12-26T16:37:26.915Z"
   },
   {
    "duration": 488,
    "start_time": "2021-12-26T16:37:26.957Z"
   },
   {
    "duration": 218,
    "start_time": "2021-12-26T16:37:27.449Z"
   },
   {
    "duration": 228,
    "start_time": "2021-12-26T16:37:27.668Z"
   },
   {
    "duration": 228,
    "start_time": "2021-12-26T16:37:27.898Z"
   },
   {
    "duration": 31,
    "start_time": "2021-12-26T16:37:28.128Z"
   },
   {
    "duration": 276,
    "start_time": "2021-12-26T16:37:28.160Z"
   },
   {
    "duration": 13,
    "start_time": "2021-12-26T16:37:28.438Z"
   },
   {
    "duration": 322,
    "start_time": "2021-12-26T16:37:28.454Z"
   },
   {
    "duration": 327,
    "start_time": "2021-12-26T16:37:28.777Z"
   },
   {
    "duration": 211,
    "start_time": "2021-12-26T16:37:29.105Z"
   },
   {
    "duration": 247,
    "start_time": "2021-12-26T16:37:29.318Z"
   },
   {
    "duration": 526,
    "start_time": "2021-12-26T16:37:29.566Z"
   },
   {
    "duration": 237,
    "start_time": "2021-12-26T16:37:30.094Z"
   },
   {
    "duration": 235,
    "start_time": "2021-12-26T16:37:30.333Z"
   },
   {
    "duration": 312,
    "start_time": "2021-12-26T16:37:30.570Z"
   },
   {
    "duration": 211,
    "start_time": "2021-12-26T16:38:07.346Z"
   },
   {
    "duration": 472,
    "start_time": "2021-12-26T16:53:03.870Z"
   },
   {
    "duration": 243,
    "start_time": "2021-12-26T17:00:15.242Z"
   },
   {
    "duration": 290,
    "start_time": "2021-12-26T17:07:43.966Z"
   },
   {
    "duration": 1477,
    "start_time": "2021-12-26T17:07:53.627Z"
   },
   {
    "duration": 71,
    "start_time": "2021-12-26T17:07:55.106Z"
   },
   {
    "duration": 7,
    "start_time": "2021-12-26T17:07:55.180Z"
   },
   {
    "duration": 86,
    "start_time": "2021-12-26T17:07:55.189Z"
   },
   {
    "duration": 20,
    "start_time": "2021-12-26T17:07:55.276Z"
   },
   {
    "duration": 84,
    "start_time": "2021-12-26T17:07:55.299Z"
   },
   {
    "duration": 37,
    "start_time": "2021-12-26T17:07:55.384Z"
   },
   {
    "duration": 21,
    "start_time": "2021-12-26T17:07:55.423Z"
   },
   {
    "duration": 6,
    "start_time": "2021-12-26T17:07:55.447Z"
   },
   {
    "duration": 24,
    "start_time": "2021-12-26T17:07:55.455Z"
   },
   {
    "duration": 23,
    "start_time": "2021-12-26T17:07:55.481Z"
   },
   {
    "duration": 9,
    "start_time": "2021-12-26T17:07:55.505Z"
   },
   {
    "duration": 42,
    "start_time": "2021-12-26T17:07:55.516Z"
   },
   {
    "duration": 19,
    "start_time": "2021-12-26T17:07:55.560Z"
   },
   {
    "duration": 5,
    "start_time": "2021-12-26T17:07:55.582Z"
   },
   {
    "duration": 10,
    "start_time": "2021-12-26T17:07:55.589Z"
   },
   {
    "duration": 6,
    "start_time": "2021-12-26T17:07:55.601Z"
   },
   {
    "duration": 37,
    "start_time": "2021-12-26T17:07:55.609Z"
   },
   {
    "duration": 14,
    "start_time": "2021-12-26T17:07:55.648Z"
   },
   {
    "duration": 3,
    "start_time": "2021-12-26T17:07:55.664Z"
   },
   {
    "duration": 2014,
    "start_time": "2021-12-26T17:07:55.669Z"
   },
   {
    "duration": 5,
    "start_time": "2021-12-26T17:07:57.685Z"
   },
   {
    "duration": 29,
    "start_time": "2021-12-26T17:07:57.694Z"
   },
   {
    "duration": 296,
    "start_time": "2021-12-26T17:07:57.726Z"
   },
   {
    "duration": 221,
    "start_time": "2021-12-26T17:07:58.023Z"
   },
   {
    "duration": 354,
    "start_time": "2021-12-26T17:07:58.246Z"
   },
   {
    "duration": 234,
    "start_time": "2021-12-26T17:07:58.601Z"
   },
   {
    "duration": 479,
    "start_time": "2021-12-26T17:07:58.841Z"
   },
   {
    "duration": 562,
    "start_time": "2021-12-26T17:07:59.321Z"
   },
   {
    "duration": 497,
    "start_time": "2021-12-26T17:07:59.886Z"
   },
   {
    "duration": 192,
    "start_time": "2021-12-26T17:08:00.384Z"
   },
   {
    "duration": 207,
    "start_time": "2021-12-26T17:08:00.577Z"
   },
   {
    "duration": 27,
    "start_time": "2021-12-26T17:08:00.786Z"
   },
   {
    "duration": 503,
    "start_time": "2021-12-26T17:08:00.815Z"
   },
   {
    "duration": 225,
    "start_time": "2021-12-26T17:08:01.319Z"
   },
   {
    "duration": 219,
    "start_time": "2021-12-26T17:08:01.545Z"
   },
   {
    "duration": 222,
    "start_time": "2021-12-26T17:08:01.765Z"
   },
   {
    "duration": 25,
    "start_time": "2021-12-26T17:08:01.989Z"
   },
   {
    "duration": 311,
    "start_time": "2021-12-26T17:08:02.016Z"
   },
   {
    "duration": 17,
    "start_time": "2021-12-26T17:08:02.328Z"
   },
   {
    "duration": 306,
    "start_time": "2021-12-26T17:08:02.347Z"
   },
   {
    "duration": 310,
    "start_time": "2021-12-26T17:08:02.655Z"
   },
   {
    "duration": 209,
    "start_time": "2021-12-26T17:08:02.967Z"
   },
   {
    "duration": 240,
    "start_time": "2021-12-26T17:08:03.178Z"
   },
   {
    "duration": 588,
    "start_time": "2021-12-26T17:08:03.419Z"
   },
   {
    "duration": 203,
    "start_time": "2021-12-26T17:08:04.009Z"
   },
   {
    "duration": 380,
    "start_time": "2021-12-26T17:08:04.214Z"
   },
   {
    "duration": 473,
    "start_time": "2021-12-26T17:08:04.596Z"
   },
   {
    "duration": 255,
    "start_time": "2021-12-26T17:37:15.163Z"
   },
   {
    "duration": 189,
    "start_time": "2021-12-26T17:39:26.699Z"
   },
   {
    "duration": 1040,
    "start_time": "2021-12-26T17:57:07.238Z"
   },
   {
    "duration": 57,
    "start_time": "2021-12-26T17:57:08.280Z"
   },
   {
    "duration": 5,
    "start_time": "2021-12-26T17:57:08.339Z"
   },
   {
    "duration": 102,
    "start_time": "2021-12-26T17:57:08.346Z"
   },
   {
    "duration": 20,
    "start_time": "2021-12-26T17:57:08.449Z"
   },
   {
    "duration": 74,
    "start_time": "2021-12-26T17:57:08.470Z"
   },
   {
    "duration": 37,
    "start_time": "2021-12-26T17:57:08.545Z"
   },
   {
    "duration": 7,
    "start_time": "2021-12-26T17:57:08.585Z"
   },
   {
    "duration": 33,
    "start_time": "2021-12-26T17:57:08.594Z"
   },
   {
    "duration": 30,
    "start_time": "2021-12-26T17:57:08.628Z"
   },
   {
    "duration": 42,
    "start_time": "2021-12-26T17:57:08.660Z"
   },
   {
    "duration": 24,
    "start_time": "2021-12-26T17:57:08.703Z"
   },
   {
    "duration": 35,
    "start_time": "2021-12-26T17:57:08.728Z"
   },
   {
    "duration": 24,
    "start_time": "2021-12-26T17:57:08.765Z"
   },
   {
    "duration": 22,
    "start_time": "2021-12-26T17:57:08.791Z"
   },
   {
    "duration": 17,
    "start_time": "2021-12-26T17:57:08.814Z"
   },
   {
    "duration": 20,
    "start_time": "2021-12-26T17:57:08.833Z"
   },
   {
    "duration": 32,
    "start_time": "2021-12-26T17:57:08.854Z"
   },
   {
    "duration": 31,
    "start_time": "2021-12-26T17:57:08.887Z"
   },
   {
    "duration": 9,
    "start_time": "2021-12-26T17:57:08.919Z"
   },
   {
    "duration": 2014,
    "start_time": "2021-12-26T17:57:08.930Z"
   },
   {
    "duration": 7,
    "start_time": "2021-12-26T17:57:10.945Z"
   },
   {
    "duration": 32,
    "start_time": "2021-12-26T17:57:10.956Z"
   },
   {
    "duration": 305,
    "start_time": "2021-12-26T17:57:10.990Z"
   },
   {
    "duration": 209,
    "start_time": "2021-12-26T17:57:11.296Z"
   },
   {
    "duration": 352,
    "start_time": "2021-12-26T17:57:11.507Z"
   },
   {
    "duration": 234,
    "start_time": "2021-12-26T17:57:11.861Z"
   },
   {
    "duration": 482,
    "start_time": "2021-12-26T17:57:12.097Z"
   },
   {
    "duration": 540,
    "start_time": "2021-12-26T17:57:12.581Z"
   },
   {
    "duration": 467,
    "start_time": "2021-12-26T17:57:13.123Z"
   },
   {
    "duration": 193,
    "start_time": "2021-12-26T17:57:13.592Z"
   },
   {
    "duration": 198,
    "start_time": "2021-12-26T17:57:13.786Z"
   },
   {
    "duration": 24,
    "start_time": "2021-12-26T17:57:13.986Z"
   },
   {
    "duration": 468,
    "start_time": "2021-12-26T17:57:14.011Z"
   },
   {
    "duration": 214,
    "start_time": "2021-12-26T17:57:14.481Z"
   },
   {
    "duration": 206,
    "start_time": "2021-12-26T17:57:14.696Z"
   },
   {
    "duration": 210,
    "start_time": "2021-12-26T17:57:14.904Z"
   },
   {
    "duration": 32,
    "start_time": "2021-12-26T17:57:15.116Z"
   },
   {
    "duration": 339,
    "start_time": "2021-12-26T17:57:15.149Z"
   },
   {
    "duration": 9,
    "start_time": "2021-12-26T17:57:15.489Z"
   },
   {
    "duration": 303,
    "start_time": "2021-12-26T17:57:15.500Z"
   },
   {
    "duration": 297,
    "start_time": "2021-12-26T17:57:15.804Z"
   },
   {
    "duration": 193,
    "start_time": "2021-12-26T17:57:16.102Z"
   },
   {
    "duration": 229,
    "start_time": "2021-12-26T17:57:16.296Z"
   },
   {
    "duration": 557,
    "start_time": "2021-12-26T17:57:16.526Z"
   },
   {
    "duration": 201,
    "start_time": "2021-12-26T17:57:17.085Z"
   },
   {
    "duration": 209,
    "start_time": "2021-12-26T17:57:17.288Z"
   },
   {
    "duration": 280,
    "start_time": "2021-12-26T17:57:17.499Z"
   },
   {
    "duration": 1626,
    "start_time": "2021-12-27T14:48:47.195Z"
   },
   {
    "duration": 79,
    "start_time": "2021-12-27T14:48:48.824Z"
   },
   {
    "duration": 137,
    "start_time": "2021-12-27T14:48:48.906Z"
   },
   {
    "duration": 319,
    "start_time": "2021-12-27T14:48:49.046Z"
   },
   {
    "duration": 132,
    "start_time": "2021-12-27T14:48:49.368Z"
   },
   {
    "duration": 318,
    "start_time": "2021-12-27T14:48:49.502Z"
   },
   {
    "duration": 181,
    "start_time": "2021-12-27T14:48:49.824Z"
   },
   {
    "duration": 134,
    "start_time": "2021-12-27T14:48:50.011Z"
   },
   {
    "duration": 159,
    "start_time": "2021-12-27T14:48:50.148Z"
   },
   {
    "duration": 249,
    "start_time": "2021-12-27T14:48:50.310Z"
   },
   {
    "duration": 325,
    "start_time": "2021-12-27T14:48:50.562Z"
   },
   {
    "duration": 243,
    "start_time": "2021-12-27T14:48:50.894Z"
   },
   {
    "duration": 251,
    "start_time": "2021-12-27T14:48:51.139Z"
   },
   {
    "duration": 235,
    "start_time": "2021-12-27T14:48:51.393Z"
   },
   {
    "duration": 159,
    "start_time": "2021-12-27T14:48:51.630Z"
   },
   {
    "duration": 222,
    "start_time": "2021-12-27T14:48:51.795Z"
   },
   {
    "duration": 286,
    "start_time": "2021-12-27T14:48:52.019Z"
   },
   {
    "duration": 300,
    "start_time": "2021-12-27T14:48:52.307Z"
   },
   {
    "duration": 245,
    "start_time": "2021-12-27T14:48:52.610Z"
   },
   {
    "duration": 169,
    "start_time": "2021-12-27T14:48:52.858Z"
   },
   {
    "duration": 4899,
    "start_time": "2021-12-27T14:48:53.029Z"
   },
   {
    "duration": 8,
    "start_time": "2021-12-27T14:48:57.931Z"
   },
   {
    "duration": 211,
    "start_time": "2021-12-27T14:48:57.945Z"
   },
   {
    "duration": 739,
    "start_time": "2021-12-27T14:48:58.162Z"
   },
   {
    "duration": 430,
    "start_time": "2021-12-27T14:48:58.903Z"
   },
   {
    "duration": 755,
    "start_time": "2021-12-27T14:48:59.335Z"
   },
   {
    "duration": 466,
    "start_time": "2021-12-27T14:49:00.093Z"
   },
   {
    "duration": 1279,
    "start_time": "2021-12-27T14:49:00.561Z"
   },
   {
    "duration": 1068,
    "start_time": "2021-12-27T14:49:01.843Z"
   },
   {
    "duration": 1380,
    "start_time": "2021-12-27T14:49:02.914Z"
   },
   {
    "duration": 389,
    "start_time": "2021-12-27T14:49:04.297Z"
   },
   {
    "duration": 532,
    "start_time": "2021-12-27T14:49:04.689Z"
   },
   {
    "duration": 80,
    "start_time": "2021-12-27T14:49:05.224Z"
   },
   {
    "duration": 1209,
    "start_time": "2021-12-27T14:49:05.307Z"
   },
   {
    "duration": 516,
    "start_time": "2021-12-27T14:49:06.519Z"
   },
   {
    "duration": 495,
    "start_time": "2021-12-27T14:49:07.038Z"
   },
   {
    "duration": 448,
    "start_time": "2021-12-27T14:49:07.537Z"
   },
   {
    "duration": 37,
    "start_time": "2021-12-27T14:49:07.988Z"
   },
   {
    "duration": 708,
    "start_time": "2021-12-27T14:49:08.028Z"
   },
   {
    "duration": 32,
    "start_time": "2021-12-27T14:49:08.739Z"
   },
   {
    "duration": 845,
    "start_time": "2021-12-27T14:49:08.779Z"
   },
   {
    "duration": 740,
    "start_time": "2021-12-27T14:49:09.627Z"
   },
   {
    "duration": 383,
    "start_time": "2021-12-27T14:49:10.371Z"
   },
   {
    "duration": 470,
    "start_time": "2021-12-27T14:49:10.757Z"
   },
   {
    "duration": 923,
    "start_time": "2021-12-27T14:49:11.229Z"
   },
   {
    "duration": 404,
    "start_time": "2021-12-27T14:49:12.155Z"
   },
   {
    "duration": 414,
    "start_time": "2021-12-27T14:49:12.566Z"
   },
   {
    "duration": 657,
    "start_time": "2021-12-27T14:49:12.986Z"
   },
   {
    "duration": 8,
    "start_time": "2021-12-27T15:23:41.623Z"
   },
   {
    "duration": 7,
    "start_time": "2021-12-27T15:26:21.689Z"
   },
   {
    "duration": 12,
    "start_time": "2021-12-27T15:31:30.671Z"
   },
   {
    "duration": 12,
    "start_time": "2021-12-27T15:32:39.775Z"
   },
   {
    "duration": 483,
    "start_time": "2021-12-27T15:33:15.920Z"
   },
   {
    "duration": 28,
    "start_time": "2021-12-27T15:34:22.003Z"
   },
   {
    "duration": 10,
    "start_time": "2021-12-27T15:34:30.051Z"
   },
   {
    "duration": 12,
    "start_time": "2021-12-27T15:34:48.639Z"
   },
   {
    "duration": 14,
    "start_time": "2021-12-27T15:34:51.865Z"
   },
   {
    "duration": 1478,
    "start_time": "2021-12-27T15:35:08.591Z"
   },
   {
    "duration": 74,
    "start_time": "2021-12-27T15:35:10.072Z"
   },
   {
    "duration": 183,
    "start_time": "2021-12-27T15:35:10.149Z"
   },
   {
    "duration": 319,
    "start_time": "2021-12-27T15:35:10.335Z"
   },
   {
    "duration": 131,
    "start_time": "2021-12-27T15:35:10.657Z"
   },
   {
    "duration": 319,
    "start_time": "2021-12-27T15:35:10.791Z"
   },
   {
    "duration": 184,
    "start_time": "2021-12-27T15:35:11.113Z"
   },
   {
    "duration": 170,
    "start_time": "2021-12-27T15:35:11.301Z"
   },
   {
    "duration": 269,
    "start_time": "2021-12-27T15:35:11.474Z"
   },
   {
    "duration": 219,
    "start_time": "2021-12-27T15:35:11.745Z"
   },
   {
    "duration": 339,
    "start_time": "2021-12-27T15:35:11.966Z"
   },
   {
    "duration": 286,
    "start_time": "2021-12-27T15:35:12.308Z"
   },
   {
    "duration": 215,
    "start_time": "2021-12-27T15:35:12.597Z"
   },
   {
    "duration": 169,
    "start_time": "2021-12-27T15:35:12.814Z"
   },
   {
    "duration": 242,
    "start_time": "2021-12-27T15:35:12.986Z"
   },
   {
    "duration": 235,
    "start_time": "2021-12-27T15:35:13.231Z"
   },
   {
    "duration": 217,
    "start_time": "2021-12-27T15:35:13.469Z"
   },
   {
    "duration": 197,
    "start_time": "2021-12-27T15:35:13.689Z"
   },
   {
    "duration": 232,
    "start_time": "2021-12-27T15:35:13.889Z"
   },
   {
    "duration": 269,
    "start_time": "2021-12-27T15:35:14.124Z"
   },
   {
    "duration": 216,
    "start_time": "2021-12-27T15:35:14.396Z"
   },
   {
    "duration": 197,
    "start_time": "2021-12-27T15:35:14.614Z"
   },
   {
    "duration": 4703,
    "start_time": "2021-12-27T15:35:14.816Z"
   },
   {
    "duration": 7,
    "start_time": "2021-12-27T15:35:19.522Z"
   },
   {
    "duration": 256,
    "start_time": "2021-12-27T15:35:19.532Z"
   },
   {
    "duration": 785,
    "start_time": "2021-12-27T15:35:19.792Z"
   },
   {
    "duration": 407,
    "start_time": "2021-12-27T15:35:20.579Z"
   },
   {
    "duration": 730,
    "start_time": "2021-12-27T15:35:20.990Z"
   },
   {
    "duration": 470,
    "start_time": "2021-12-27T15:35:21.722Z"
   },
   {
    "duration": 977,
    "start_time": "2021-12-27T15:35:22.194Z"
   },
   {
    "duration": 1055,
    "start_time": "2021-12-27T15:35:23.173Z"
   },
   {
    "duration": 1063,
    "start_time": "2021-12-27T15:35:24.230Z"
   },
   {
    "duration": 379,
    "start_time": "2021-12-27T15:35:25.296Z"
   },
   {
    "duration": 381,
    "start_time": "2021-12-27T15:35:25.677Z"
   },
   {
    "duration": 44,
    "start_time": "2021-12-27T15:35:26.074Z"
   },
   {
    "duration": 1003,
    "start_time": "2021-12-27T15:35:26.120Z"
   },
   {
    "duration": 435,
    "start_time": "2021-12-27T15:35:27.126Z"
   },
   {
    "duration": 426,
    "start_time": "2021-12-27T15:35:27.567Z"
   },
   {
    "duration": 419,
    "start_time": "2021-12-27T15:35:27.996Z"
   },
   {
    "duration": 33,
    "start_time": "2021-12-27T15:35:28.417Z"
   },
   {
    "duration": 670,
    "start_time": "2021-12-27T15:35:28.452Z"
   },
   {
    "duration": -2980,
    "start_time": "2021-12-27T15:35:32.104Z"
   },
   {
    "duration": -2982,
    "start_time": "2021-12-27T15:35:32.107Z"
   },
   {
    "duration": -2983,
    "start_time": "2021-12-27T15:35:32.110Z"
   },
   {
    "duration": -2983,
    "start_time": "2021-12-27T15:35:32.112Z"
   },
   {
    "duration": -2984,
    "start_time": "2021-12-27T15:35:32.114Z"
   },
   {
    "duration": -2984,
    "start_time": "2021-12-27T15:35:32.116Z"
   },
   {
    "duration": -2985,
    "start_time": "2021-12-27T15:35:32.118Z"
   },
   {
    "duration": -2985,
    "start_time": "2021-12-27T15:35:32.119Z"
   },
   {
    "duration": -2986,
    "start_time": "2021-12-27T15:35:32.121Z"
   },
   {
    "duration": 337,
    "start_time": "2021-12-27T16:43:41.373Z"
   },
   {
    "duration": 583,
    "start_time": "2021-12-27T16:43:54.217Z"
   },
   {
    "duration": 7,
    "start_time": "2021-12-27T16:48:25.698Z"
   },
   {
    "duration": 5,
    "start_time": "2021-12-27T16:49:18.080Z"
   },
   {
    "duration": 60,
    "start_time": "2021-12-27T16:49:19.342Z"
   },
   {
    "duration": 11,
    "start_time": "2021-12-27T16:49:31.882Z"
   },
   {
    "duration": 98,
    "start_time": "2021-12-27T16:50:49.193Z"
   },
   {
    "duration": 5926,
    "start_time": "2021-12-27T16:51:34.177Z"
   },
   {
    "duration": 916,
    "start_time": "2021-12-27T16:53:26.202Z"
   },
   {
    "duration": 1175,
    "start_time": "2021-12-27T16:54:09.717Z"
   },
   {
    "duration": 5132,
    "start_time": "2021-12-27T16:54:38.617Z"
   },
   {
    "duration": 1020,
    "start_time": "2021-12-27T16:57:10.163Z"
   },
   {
    "duration": 972,
    "start_time": "2021-12-27T16:59:29.791Z"
   },
   {
    "duration": 309,
    "start_time": "2021-12-27T17:01:17.540Z"
   },
   {
    "duration": 1283,
    "start_time": "2021-12-27T17:03:12.795Z"
   },
   {
    "duration": 1126,
    "start_time": "2021-12-27T17:03:23.752Z"
   },
   {
    "duration": 1785,
    "start_time": "2021-12-27T17:03:30.459Z"
   },
   {
    "duration": 86,
    "start_time": "2021-12-27T17:03:32.248Z"
   },
   {
    "duration": 78,
    "start_time": "2021-12-27T17:03:32.337Z"
   },
   {
    "duration": 290,
    "start_time": "2021-12-27T17:03:32.418Z"
   },
   {
    "duration": 76,
    "start_time": "2021-12-27T17:03:32.711Z"
   },
   {
    "duration": 256,
    "start_time": "2021-12-27T17:03:32.790Z"
   },
   {
    "duration": 96,
    "start_time": "2021-12-27T17:03:33.048Z"
   },
   {
    "duration": 73,
    "start_time": "2021-12-27T17:03:33.148Z"
   },
   {
    "duration": 205,
    "start_time": "2021-12-27T17:03:33.225Z"
   },
   {
    "duration": 172,
    "start_time": "2021-12-27T17:03:33.434Z"
   },
   {
    "duration": 169,
    "start_time": "2021-12-27T17:03:33.609Z"
   },
   {
    "duration": 209,
    "start_time": "2021-12-27T17:03:33.782Z"
   },
   {
    "duration": 177,
    "start_time": "2021-12-27T17:03:34.003Z"
   },
   {
    "duration": 28,
    "start_time": "2021-12-27T17:03:34.187Z"
   },
   {
    "duration": 157,
    "start_time": "2021-12-27T17:03:34.218Z"
   },
   {
    "duration": 1444,
    "start_time": "2021-12-27T17:03:34.377Z"
   },
   {
    "duration": -3041,
    "start_time": "2021-12-27T17:03:38.868Z"
   },
   {
    "duration": -3042,
    "start_time": "2021-12-27T17:03:38.871Z"
   },
   {
    "duration": -3041,
    "start_time": "2021-12-27T17:03:38.873Z"
   },
   {
    "duration": -3061,
    "start_time": "2021-12-27T17:03:38.895Z"
   },
   {
    "duration": -3061,
    "start_time": "2021-12-27T17:03:38.898Z"
   },
   {
    "duration": -3062,
    "start_time": "2021-12-27T17:03:38.901Z"
   },
   {
    "duration": -3064,
    "start_time": "2021-12-27T17:03:38.905Z"
   },
   {
    "duration": -3064,
    "start_time": "2021-12-27T17:03:38.907Z"
   },
   {
    "duration": -3064,
    "start_time": "2021-12-27T17:03:38.909Z"
   },
   {
    "duration": -3069,
    "start_time": "2021-12-27T17:03:38.916Z"
   },
   {
    "duration": -3071,
    "start_time": "2021-12-27T17:03:38.919Z"
   },
   {
    "duration": -3075,
    "start_time": "2021-12-27T17:03:38.925Z"
   },
   {
    "duration": -3076,
    "start_time": "2021-12-27T17:03:38.927Z"
   },
   {
    "duration": -3077,
    "start_time": "2021-12-27T17:03:38.929Z"
   },
   {
    "duration": -3077,
    "start_time": "2021-12-27T17:03:38.930Z"
   },
   {
    "duration": -3078,
    "start_time": "2021-12-27T17:03:38.932Z"
   },
   {
    "duration": -3079,
    "start_time": "2021-12-27T17:03:38.935Z"
   },
   {
    "duration": -3081,
    "start_time": "2021-12-27T17:03:38.938Z"
   },
   {
    "duration": -3080,
    "start_time": "2021-12-27T17:03:38.939Z"
   },
   {
    "duration": -3081,
    "start_time": "2021-12-27T17:03:38.941Z"
   },
   {
    "duration": -3076,
    "start_time": "2021-12-27T17:03:38.942Z"
   },
   {
    "duration": -3077,
    "start_time": "2021-12-27T17:03:38.944Z"
   },
   {
    "duration": -3076,
    "start_time": "2021-12-27T17:03:38.946Z"
   },
   {
    "duration": -3081,
    "start_time": "2021-12-27T17:03:38.953Z"
   },
   {
    "duration": -3113,
    "start_time": "2021-12-27T17:03:38.987Z"
   },
   {
    "duration": -3118,
    "start_time": "2021-12-27T17:03:38.993Z"
   },
   {
    "duration": -3133,
    "start_time": "2021-12-27T17:03:39.010Z"
   },
   {
    "duration": -3137,
    "start_time": "2021-12-27T17:03:39.017Z"
   },
   {
    "duration": -3135,
    "start_time": "2021-12-27T17:03:39.018Z"
   },
   {
    "duration": -3137,
    "start_time": "2021-12-27T17:03:39.021Z"
   },
   {
    "duration": -3136,
    "start_time": "2021-12-27T17:03:39.022Z"
   },
   {
    "duration": -3136,
    "start_time": "2021-12-27T17:03:39.024Z"
   },
   {
    "duration": -3138,
    "start_time": "2021-12-27T17:03:39.028Z"
   },
   {
    "duration": -3144,
    "start_time": "2021-12-27T17:03:39.036Z"
   },
   {
    "duration": -3144,
    "start_time": "2021-12-27T17:03:39.038Z"
   },
   {
    "duration": -3145,
    "start_time": "2021-12-27T17:03:39.040Z"
   },
   {
    "duration": 1392,
    "start_time": "2021-12-27T17:03:51.324Z"
   },
   {
    "duration": 1158,
    "start_time": "2021-12-27T17:04:44.199Z"
   },
   {
    "duration": 37,
    "start_time": "2021-12-27T17:11:17.848Z"
   },
   {
    "duration": 8,
    "start_time": "2021-12-27T17:11:20.969Z"
   },
   {
    "duration": 1533,
    "start_time": "2021-12-27T17:12:14.029Z"
   },
   {
    "duration": 76,
    "start_time": "2021-12-27T17:12:15.567Z"
   },
   {
    "duration": 128,
    "start_time": "2021-12-27T17:12:15.647Z"
   },
   {
    "duration": 314,
    "start_time": "2021-12-27T17:12:15.778Z"
   },
   {
    "duration": 116,
    "start_time": "2021-12-27T17:12:16.095Z"
   },
   {
    "duration": 475,
    "start_time": "2021-12-27T17:12:16.214Z"
   },
   {
    "duration": 282,
    "start_time": "2021-12-27T17:12:16.692Z"
   },
   {
    "duration": 61,
    "start_time": "2021-12-27T17:12:16.979Z"
   },
   {
    "duration": 259,
    "start_time": "2021-12-27T17:12:17.044Z"
   },
   {
    "duration": 220,
    "start_time": "2021-12-27T17:12:17.306Z"
   },
   {
    "duration": 265,
    "start_time": "2021-12-27T17:12:17.528Z"
   },
   {
    "duration": 257,
    "start_time": "2021-12-27T17:12:17.796Z"
   },
   {
    "duration": 219,
    "start_time": "2021-12-27T17:12:18.056Z"
   },
   {
    "duration": 172,
    "start_time": "2021-12-27T17:12:18.278Z"
   },
   {
    "duration": 203,
    "start_time": "2021-12-27T17:12:18.452Z"
   },
   {
    "duration": 232,
    "start_time": "2021-12-27T17:12:18.658Z"
   },
   {
    "duration": 153,
    "start_time": "2021-12-27T17:12:18.893Z"
   },
   {
    "duration": 205,
    "start_time": "2021-12-27T17:12:19.048Z"
   },
   {
    "duration": 184,
    "start_time": "2021-12-27T17:12:19.255Z"
   },
   {
    "duration": 176,
    "start_time": "2021-12-27T17:12:19.442Z"
   },
   {
    "duration": 257,
    "start_time": "2021-12-27T17:12:19.620Z"
   },
   {
    "duration": 182,
    "start_time": "2021-12-27T17:12:19.880Z"
   },
   {
    "duration": 183,
    "start_time": "2021-12-27T17:12:20.067Z"
   },
   {
    "duration": 144,
    "start_time": "2021-12-27T17:12:20.253Z"
   },
   {
    "duration": 7201,
    "start_time": "2021-12-27T17:12:20.400Z"
   },
   {
    "duration": 9,
    "start_time": "2021-12-27T17:12:27.604Z"
   },
   {
    "duration": 320,
    "start_time": "2021-12-27T17:12:27.615Z"
   },
   {
    "duration": 1099,
    "start_time": "2021-12-27T17:12:27.938Z"
   },
   {
    "duration": 551,
    "start_time": "2021-12-27T17:12:29.039Z"
   },
   {
    "duration": 873,
    "start_time": "2021-12-27T17:12:29.593Z"
   },
   {
    "duration": 491,
    "start_time": "2021-12-27T17:12:30.470Z"
   },
   {
    "duration": 991,
    "start_time": "2021-12-27T17:12:30.968Z"
   },
   {
    "duration": 1519,
    "start_time": "2021-12-27T17:12:31.970Z"
   },
   {
    "duration": 1389,
    "start_time": "2021-12-27T17:12:33.496Z"
   },
   {
    "duration": 445,
    "start_time": "2021-12-27T17:12:34.889Z"
   },
   {
    "duration": 451,
    "start_time": "2021-12-27T17:12:35.337Z"
   },
   {
    "duration": 42,
    "start_time": "2021-12-27T17:12:35.790Z"
   },
   {
    "duration": 963,
    "start_time": "2021-12-27T17:12:35.835Z"
   },
   {
    "duration": 399,
    "start_time": "2021-12-27T17:12:36.800Z"
   },
   {
    "duration": 405,
    "start_time": "2021-12-27T17:12:37.202Z"
   },
   {
    "duration": 509,
    "start_time": "2021-12-27T17:12:37.610Z"
   },
   {
    "duration": 60,
    "start_time": "2021-12-27T17:12:38.121Z"
   },
   {
    "duration": 652,
    "start_time": "2021-12-27T17:12:38.185Z"
   },
   {
    "duration": -3050,
    "start_time": "2021-12-27T17:12:41.890Z"
   },
   {
    "duration": -3052,
    "start_time": "2021-12-27T17:12:41.894Z"
   },
   {
    "duration": -3052,
    "start_time": "2021-12-27T17:12:41.896Z"
   },
   {
    "duration": -3053,
    "start_time": "2021-12-27T17:12:41.898Z"
   },
   {
    "duration": -3054,
    "start_time": "2021-12-27T17:12:41.900Z"
   },
   {
    "duration": -3054,
    "start_time": "2021-12-27T17:12:41.902Z"
   },
   {
    "duration": -3054,
    "start_time": "2021-12-27T17:12:41.904Z"
   },
   {
    "duration": -3054,
    "start_time": "2021-12-27T17:12:41.905Z"
   },
   {
    "duration": -3054,
    "start_time": "2021-12-27T17:12:41.907Z"
   },
   {
    "duration": 20,
    "start_time": "2021-12-27T17:18:40.059Z"
   },
   {
    "duration": 22,
    "start_time": "2021-12-27T17:19:15.960Z"
   },
   {
    "duration": 20,
    "start_time": "2021-12-27T17:21:05.691Z"
   },
   {
    "duration": 1369,
    "start_time": "2021-12-27T17:21:45.838Z"
   },
   {
    "duration": 1322,
    "start_time": "2021-12-27T17:22:01.271Z"
   },
   {
    "duration": 22,
    "start_time": "2021-12-27T17:22:13.361Z"
   },
   {
    "duration": 133,
    "start_time": "2021-12-27T17:22:46.257Z"
   },
   {
    "duration": 918,
    "start_time": "2021-12-27T17:23:12.895Z"
   },
   {
    "duration": 973,
    "start_time": "2021-12-27T17:23:29.449Z"
   },
   {
    "duration": 965,
    "start_time": "2021-12-27T17:23:56.626Z"
   },
   {
    "duration": 23,
    "start_time": "2021-12-27T17:24:09.266Z"
   },
   {
    "duration": 1034,
    "start_time": "2021-12-27T17:24:38.339Z"
   },
   {
    "duration": 22,
    "start_time": "2021-12-27T17:24:41.565Z"
   },
   {
    "duration": 52,
    "start_time": "2021-12-27T17:28:32.960Z"
   },
   {
    "duration": 356,
    "start_time": "2021-12-27T17:28:55.890Z"
   },
   {
    "duration": 461,
    "start_time": "2021-12-27T17:29:23.860Z"
   },
   {
    "duration": 1633,
    "start_time": "2021-12-27T17:29:53.620Z"
   },
   {
    "duration": 81,
    "start_time": "2021-12-27T17:29:55.256Z"
   },
   {
    "duration": 84,
    "start_time": "2021-12-27T17:29:55.341Z"
   },
   {
    "duration": 308,
    "start_time": "2021-12-27T17:29:55.428Z"
   },
   {
    "duration": 103,
    "start_time": "2021-12-27T17:29:55.739Z"
   },
   {
    "duration": 347,
    "start_time": "2021-12-27T17:29:55.845Z"
   },
   {
    "duration": 167,
    "start_time": "2021-12-27T17:29:56.195Z"
   },
   {
    "duration": 115,
    "start_time": "2021-12-27T17:29:56.366Z"
   },
   {
    "duration": 316,
    "start_time": "2021-12-27T17:29:56.486Z"
   },
   {
    "duration": 281,
    "start_time": "2021-12-27T17:29:56.806Z"
   },
   {
    "duration": 282,
    "start_time": "2021-12-27T17:29:57.090Z"
   },
   {
    "duration": 274,
    "start_time": "2021-12-27T17:29:57.374Z"
   },
   {
    "duration": 221,
    "start_time": "2021-12-27T17:29:57.650Z"
   },
   {
    "duration": 164,
    "start_time": "2021-12-27T17:29:57.874Z"
   },
   {
    "duration": 208,
    "start_time": "2021-12-27T17:29:58.041Z"
   },
   {
    "duration": 208,
    "start_time": "2021-12-27T17:29:58.252Z"
   },
   {
    "duration": 151,
    "start_time": "2021-12-27T17:29:58.463Z"
   },
   {
    "duration": 212,
    "start_time": "2021-12-27T17:29:58.617Z"
   },
   {
    "duration": 192,
    "start_time": "2021-12-27T17:29:58.832Z"
   },
   {
    "duration": 382,
    "start_time": "2021-12-27T17:29:59.027Z"
   },
   {
    "duration": 140,
    "start_time": "2021-12-27T17:29:59.412Z"
   },
   {
    "duration": 165,
    "start_time": "2021-12-27T17:29:59.557Z"
   },
   {
    "duration": 155,
    "start_time": "2021-12-27T17:29:59.724Z"
   },
   {
    "duration": 134,
    "start_time": "2021-12-27T17:29:59.882Z"
   },
   {
    "duration": 6073,
    "start_time": "2021-12-27T17:30:00.018Z"
   },
   {
    "duration": 10,
    "start_time": "2021-12-27T17:30:06.095Z"
   },
   {
    "duration": 390,
    "start_time": "2021-12-27T17:30:06.118Z"
   },
   {
    "duration": 757,
    "start_time": "2021-12-27T17:30:06.511Z"
   },
   {
    "duration": 433,
    "start_time": "2021-12-27T17:30:07.271Z"
   },
   {
    "duration": 738,
    "start_time": "2021-12-27T17:30:07.708Z"
   },
   {
    "duration": 626,
    "start_time": "2021-12-27T17:30:08.449Z"
   },
   {
    "duration": 1503,
    "start_time": "2021-12-27T17:30:09.080Z"
   },
   {
    "duration": 1085,
    "start_time": "2021-12-27T17:30:10.589Z"
   },
   {
    "duration": 1106,
    "start_time": "2021-12-27T17:30:11.677Z"
   },
   {
    "duration": 22,
    "start_time": "2021-12-27T17:30:12.785Z"
   },
   {
    "duration": 768,
    "start_time": "2021-12-27T17:30:12.811Z"
   },
   {
    "duration": 392,
    "start_time": "2021-12-27T17:30:13.582Z"
   },
   {
    "duration": 42,
    "start_time": "2021-12-27T17:30:13.977Z"
   },
   {
    "duration": 1057,
    "start_time": "2021-12-27T17:30:14.022Z"
   },
   {
    "duration": 431,
    "start_time": "2021-12-27T17:30:15.082Z"
   },
   {
    "duration": 429,
    "start_time": "2021-12-27T17:30:15.516Z"
   },
   {
    "duration": 425,
    "start_time": "2021-12-27T17:30:15.948Z"
   },
   {
    "duration": 35,
    "start_time": "2021-12-27T17:30:16.375Z"
   },
   {
    "duration": 701,
    "start_time": "2021-12-27T17:30:16.413Z"
   },
   {
    "duration": 13,
    "start_time": "2021-12-27T17:30:17.117Z"
   },
   {
    "duration": 1012,
    "start_time": "2021-12-27T17:30:17.133Z"
   },
   {
    "duration": 558,
    "start_time": "2021-12-27T17:30:18.148Z"
   },
   {
    "duration": 473,
    "start_time": "2021-12-27T17:30:18.711Z"
   },
   {
    "duration": 440,
    "start_time": "2021-12-27T17:30:19.187Z"
   },
   {
    "duration": 963,
    "start_time": "2021-12-27T17:30:19.630Z"
   },
   {
    "duration": -3060,
    "start_time": "2021-12-27T17:30:23.656Z"
   },
   {
    "duration": -3061,
    "start_time": "2021-12-27T17:30:23.658Z"
   },
   {
    "duration": -3061,
    "start_time": "2021-12-27T17:30:23.660Z"
   },
   {
    "duration": 16,
    "start_time": "2021-12-27T17:32:41.880Z"
   },
   {
    "duration": 568,
    "start_time": "2021-12-27T17:32:42.980Z"
   },
   {
    "duration": 691,
    "start_time": "2021-12-27T17:32:44.682Z"
   },
   {
    "duration": 373,
    "start_time": "2021-12-27T17:32:45.376Z"
   },
   {
    "duration": 523,
    "start_time": "2021-12-27T17:32:45.752Z"
   },
   {
    "duration": 954,
    "start_time": "2021-12-27T17:32:46.279Z"
   },
   {
    "duration": 419,
    "start_time": "2021-12-27T17:32:47.236Z"
   },
   {
    "duration": 410,
    "start_time": "2021-12-27T17:32:47.660Z"
   },
   {
    "duration": 412,
    "start_time": "2021-12-27T17:32:48.073Z"
   },
   {
    "duration": 1573,
    "start_time": "2021-12-27T17:32:54.072Z"
   },
   {
    "duration": 73,
    "start_time": "2021-12-27T17:32:55.648Z"
   },
   {
    "duration": 172,
    "start_time": "2021-12-27T17:32:55.725Z"
   },
   {
    "duration": 315,
    "start_time": "2021-12-27T17:32:55.901Z"
   },
   {
    "duration": 120,
    "start_time": "2021-12-27T17:32:56.219Z"
   },
   {
    "duration": 282,
    "start_time": "2021-12-27T17:32:56.341Z"
   },
   {
    "duration": 186,
    "start_time": "2021-12-27T17:32:56.626Z"
   },
   {
    "duration": 149,
    "start_time": "2021-12-27T17:32:56.818Z"
   },
   {
    "duration": 313,
    "start_time": "2021-12-27T17:32:56.970Z"
   },
   {
    "duration": 266,
    "start_time": "2021-12-27T17:32:57.286Z"
   },
   {
    "duration": 312,
    "start_time": "2021-12-27T17:32:57.555Z"
   },
   {
    "duration": 431,
    "start_time": "2021-12-27T17:32:57.870Z"
   },
   {
    "duration": 316,
    "start_time": "2021-12-27T17:32:58.304Z"
   },
   {
    "duration": 195,
    "start_time": "2021-12-27T17:32:58.623Z"
   },
   {
    "duration": 211,
    "start_time": "2021-12-27T17:32:58.821Z"
   },
   {
    "duration": 323,
    "start_time": "2021-12-27T17:32:59.034Z"
   },
   {
    "duration": 293,
    "start_time": "2021-12-27T17:32:59.360Z"
   },
   {
    "duration": 304,
    "start_time": "2021-12-27T17:32:59.656Z"
   },
   {
    "duration": 338,
    "start_time": "2021-12-27T17:32:59.962Z"
   },
   {
    "duration": 329,
    "start_time": "2021-12-27T17:33:00.303Z"
   },
   {
    "duration": 300,
    "start_time": "2021-12-27T17:33:00.635Z"
   },
   {
    "duration": 345,
    "start_time": "2021-12-27T17:33:00.938Z"
   },
   {
    "duration": 228,
    "start_time": "2021-12-27T17:33:01.288Z"
   },
   {
    "duration": 191,
    "start_time": "2021-12-27T17:33:01.519Z"
   },
   {
    "duration": 4630,
    "start_time": "2021-12-27T17:33:01.712Z"
   },
   {
    "duration": 8,
    "start_time": "2021-12-27T17:33:06.345Z"
   },
   {
    "duration": 346,
    "start_time": "2021-12-27T17:33:06.367Z"
   },
   {
    "duration": 758,
    "start_time": "2021-12-27T17:33:06.716Z"
   },
   {
    "duration": 415,
    "start_time": "2021-12-27T17:33:07.476Z"
   },
   {
    "duration": 735,
    "start_time": "2021-12-27T17:33:07.894Z"
   },
   {
    "duration": 442,
    "start_time": "2021-12-27T17:33:08.632Z"
   },
   {
    "duration": 936,
    "start_time": "2021-12-27T17:33:09.077Z"
   },
   {
    "duration": 1088,
    "start_time": "2021-12-27T17:33:10.015Z"
   },
   {
    "duration": 1027,
    "start_time": "2021-12-27T17:33:11.105Z"
   },
   {
    "duration": 42,
    "start_time": "2021-12-27T17:33:12.134Z"
   },
   {
    "duration": 636,
    "start_time": "2021-12-27T17:33:12.179Z"
   },
   {
    "duration": 391,
    "start_time": "2021-12-27T17:33:12.817Z"
   },
   {
    "duration": 72,
    "start_time": "2021-12-27T17:33:13.212Z"
   },
   {
    "duration": 984,
    "start_time": "2021-12-27T17:33:13.287Z"
   },
   {
    "duration": 414,
    "start_time": "2021-12-27T17:33:14.274Z"
   },
   {
    "duration": 414,
    "start_time": "2021-12-27T17:33:14.691Z"
   },
   {
    "duration": 435,
    "start_time": "2021-12-27T17:33:15.107Z"
   },
   {
    "duration": 49,
    "start_time": "2021-12-27T17:33:15.544Z"
   },
   {
    "duration": 593,
    "start_time": "2021-12-27T17:33:15.595Z"
   },
   {
    "duration": 15,
    "start_time": "2021-12-27T17:33:16.191Z"
   },
   {
    "duration": 769,
    "start_time": "2021-12-27T17:33:16.208Z"
   },
   {
    "duration": 601,
    "start_time": "2021-12-27T17:33:16.980Z"
   },
   {
    "duration": 366,
    "start_time": "2021-12-27T17:33:17.583Z"
   },
   {
    "duration": 463,
    "start_time": "2021-12-27T17:33:17.951Z"
   },
   {
    "duration": 991,
    "start_time": "2021-12-27T17:33:18.416Z"
   },
   {
    "duration": 438,
    "start_time": "2021-12-27T17:33:19.410Z"
   },
   {
    "duration": 516,
    "start_time": "2021-12-27T17:33:19.851Z"
   },
   {
    "duration": 495,
    "start_time": "2021-12-27T17:33:20.369Z"
   }
  ],
  "kernelspec": {
   "display_name": "Python 3 (ipykernel)",
   "language": "python",
   "name": "python3"
  },
  "language_info": {
   "codemirror_mode": {
    "name": "ipython",
    "version": 3
   },
   "file_extension": ".py",
   "mimetype": "text/x-python",
   "name": "python",
   "nbconvert_exporter": "python",
   "pygments_lexer": "ipython3",
   "version": "3.9.7"
  },
  "toc": {
   "base_numbering": 1,
   "nav_menu": {},
   "number_sections": true,
   "sideBar": true,
   "skip_h1_title": true,
   "title_cell": "Содержание",
   "title_sidebar": "Contents",
   "toc_cell": true,
   "toc_position": {
    "height": "calc(100% - 180px)",
    "left": "10px",
    "top": "150px",
    "width": "409.097px"
   },
   "toc_section_display": true,
   "toc_window_display": true
  }
 },
 "nbformat": 4,
 "nbformat_minor": 2
}
